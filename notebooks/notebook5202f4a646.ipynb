{
 "cells": [
  {
   "cell_type": "markdown",
   "metadata": {
    "toc": true
   },
   "source": [
    "<h1>Table of Contents<span class=\"tocSkip\"></span></h1>\n",
    "<div class=\"toc\"><ul class=\"toc-item\"><li><span><a href=\"#About\" data-toc-modified-id=\"About-1\"><span class=\"toc-item-num\">1&nbsp;&nbsp;</span>About</a></span></li><li><span><a href=\"#Setup\" data-toc-modified-id=\"Setup-2\"><span class=\"toc-item-num\">2&nbsp;&nbsp;</span>Setup</a></span></li><li><span><a href=\"#Data-import\" data-toc-modified-id=\"Data-import-3\"><span class=\"toc-item-num\">3&nbsp;&nbsp;</span>Data import</a></span><ul class=\"toc-item\"><li><span><a href=\"#Data\" data-toc-modified-id=\"Data-3.1\"><span class=\"toc-item-num\">3.1&nbsp;&nbsp;</span>Data</a></span><ul class=\"toc-item\"><li><span><a href=\"#train/test-data\" data-toc-modified-id=\"train/test-data-3.1.1\"><span class=\"toc-item-num\">3.1.1&nbsp;&nbsp;</span>train/test data</a></span></li><li><span><a href=\"#supplemental-data\" data-toc-modified-id=\"supplemental-data-3.1.2\"><span class=\"toc-item-num\">3.1.2&nbsp;&nbsp;</span>supplemental data</a></span></li><li><span><a href=\"#sample-submission\" data-toc-modified-id=\"sample-submission-3.1.3\"><span class=\"toc-item-num\">3.1.3&nbsp;&nbsp;</span>sample submission</a></span></li></ul></li></ul></li><li><span><a href=\"#Exploratory-data-analysis\" data-toc-modified-id=\"Exploratory-data-analysis-4\"><span class=\"toc-item-num\">4&nbsp;&nbsp;</span>Exploratory data analysis</a></span><ul class=\"toc-item\"><li><span><a href=\"#check-some-basic-statistics\" data-toc-modified-id=\"check-some-basic-statistics-4.1\"><span class=\"toc-item-num\">4.1&nbsp;&nbsp;</span>check some basic statistics</a></span><ul class=\"toc-item\"><li><span><a href=\"#train-set\" data-toc-modified-id=\"train-set-4.1.1\"><span class=\"toc-item-num\">4.1.1&nbsp;&nbsp;</span>train set</a></span></li><li><span><a href=\"#test-set\" data-toc-modified-id=\"test-set-4.1.2\"><span class=\"toc-item-num\">4.1.2&nbsp;&nbsp;</span>test set</a></span></li></ul></li><li><span><a href=\"#per-shop\" data-toc-modified-id=\"per-shop-4.2\"><span class=\"toc-item-num\">4.2&nbsp;&nbsp;</span>per shop</a></span></li><li><span><a href=\"#deal-with-outliers\" data-toc-modified-id=\"deal-with-outliers-4.3\"><span class=\"toc-item-num\">4.3&nbsp;&nbsp;</span>deal with outliers</a></span><ul class=\"toc-item\"><li><span><a href=\"#item_price\" data-toc-modified-id=\"item_price-4.3.1\"><span class=\"toc-item-num\">4.3.1&nbsp;&nbsp;</span>item_price</a></span></li><li><span><a href=\"#item_cnt_day\" data-toc-modified-id=\"item_cnt_day-4.3.2\"><span class=\"toc-item-num\">4.3.2&nbsp;&nbsp;</span>item_cnt_day</a></span></li></ul></li><li><span><a href=\"#other\" data-toc-modified-id=\"other-4.4\"><span class=\"toc-item-num\">4.4&nbsp;&nbsp;</span>other</a></span></li></ul></li><li><span><a href=\"#model-training\" data-toc-modified-id=\"model-training-5\"><span class=\"toc-item-num\">5&nbsp;&nbsp;</span>model training</a></span><ul class=\"toc-item\"><li><span><a href=\"#data-preprocessing\" data-toc-modified-id=\"data-preprocessing-5.1\"><span class=\"toc-item-num\">5.1&nbsp;&nbsp;</span>data preprocessing</a></span><ul class=\"toc-item\"><li><span><a href=\"#aggregate-data-to-monthly-level\" data-toc-modified-id=\"aggregate-data-to-monthly-level-5.1.1\"><span class=\"toc-item-num\">5.1.1&nbsp;&nbsp;</span>aggregate data to monthly level</a></span></li><li><span><a href=\"#merge-with-supplemental-data\" data-toc-modified-id=\"merge-with-supplemental-data-5.1.2\"><span class=\"toc-item-num\">5.1.2&nbsp;&nbsp;</span>merge with supplemental data</a></span><ul class=\"toc-item\"><li><span><a href=\"#item-names-+-item-categories\" data-toc-modified-id=\"item-names-+-item-categories-5.1.2.1\"><span class=\"toc-item-num\">5.1.2.1&nbsp;&nbsp;</span>item names + item categories</a></span></li><li><span><a href=\"#item-prices\" data-toc-modified-id=\"item-prices-5.1.2.2\"><span class=\"toc-item-num\">5.1.2.2&nbsp;&nbsp;</span>item prices</a></span></li><li><span><a href=\"#item-category-names\" data-toc-modified-id=\"item-category-names-5.1.2.3\"><span class=\"toc-item-num\">5.1.2.3&nbsp;&nbsp;</span>item category names</a></span></li><li><span><a href=\"#shop-names\" data-toc-modified-id=\"shop-names-5.1.2.4\"><span class=\"toc-item-num\">5.1.2.4&nbsp;&nbsp;</span>shop names</a></span></li></ul></li><li><span><a href=\"#add-features\" data-toc-modified-id=\"add-features-5.1.3\"><span class=\"toc-item-num\">5.1.3&nbsp;&nbsp;</span>add features</a></span><ul class=\"toc-item\"><li><span><a href=\"#target\" data-toc-modified-id=\"target-5.1.3.1\"><span class=\"toc-item-num\">5.1.3.1&nbsp;&nbsp;</span>target</a></span></li><li><span><a href=\"#revenue-per-shop\" data-toc-modified-id=\"revenue-per-shop-5.1.3.2\"><span class=\"toc-item-num\">5.1.3.2&nbsp;&nbsp;</span>revenue per shop</a></span></li><li><span><a href=\"#revenue-per-item\" data-toc-modified-id=\"revenue-per-item-5.1.3.3\"><span class=\"toc-item-num\">5.1.3.3&nbsp;&nbsp;</span>revenue per item</a></span></li><li><span><a href=\"#item-category-(main-and-subcategory)\" data-toc-modified-id=\"item-category-(main-and-subcategory)-5.1.3.4\"><span class=\"toc-item-num\">5.1.3.4&nbsp;&nbsp;</span>item category (main and subcategory)</a></span></li><li><span><a href=\"#city\" data-toc-modified-id=\"city-5.1.3.5\"><span class=\"toc-item-num\">5.1.3.5&nbsp;&nbsp;</span>city</a></span></li><li><span><a href=\"#lag-features\" data-toc-modified-id=\"lag-features-5.1.3.6\"><span class=\"toc-item-num\">5.1.3.6&nbsp;&nbsp;</span>lag features</a></span></li><li><span><a href=\"#mean-encoded-features\" data-toc-modified-id=\"mean-encoded-features-5.1.3.7\"><span class=\"toc-item-num\">5.1.3.7&nbsp;&nbsp;</span>mean encoded features</a></span></li></ul></li><li><span><a href=\"#imputation,-scaling,-etc\" data-toc-modified-id=\"imputation,-scaling,-etc-5.1.4\"><span class=\"toc-item-num\">5.1.4&nbsp;&nbsp;</span>imputation, scaling, etc</a></span><ul class=\"toc-item\"><li><span><a href=\"#split-data\" data-toc-modified-id=\"split-data-5.1.4.1\"><span class=\"toc-item-num\">5.1.4.1&nbsp;&nbsp;</span>split data</a></span></li><li><span><a href=\"#prepare-pipeline\" data-toc-modified-id=\"prepare-pipeline-5.1.4.2\"><span class=\"toc-item-num\">5.1.4.2&nbsp;&nbsp;</span>prepare pipeline</a></span></li><li><span><a href=\"#transform-data\" data-toc-modified-id=\"transform-data-5.1.4.3\"><span class=\"toc-item-num\">5.1.4.3&nbsp;&nbsp;</span>transform data</a></span></li></ul></li></ul></li><li><span><a href=\"#simple-model\" data-toc-modified-id=\"simple-model-5.2\"><span class=\"toc-item-num\">5.2&nbsp;&nbsp;</span>simple model</a></span><ul class=\"toc-item\"><li><span><a href=\"#ideas\" data-toc-modified-id=\"ideas-5.2.1\"><span class=\"toc-item-num\">5.2.1&nbsp;&nbsp;</span>ideas</a></span></li><li><span><a href=\"#try-different-models\" data-toc-modified-id=\"try-different-models-5.2.2\"><span class=\"toc-item-num\">5.2.2&nbsp;&nbsp;</span>try different models</a></span></li><li><span><a href=\"#hyperparameter-optimization\" data-toc-modified-id=\"hyperparameter-optimization-5.2.3\"><span class=\"toc-item-num\">5.2.3&nbsp;&nbsp;</span>hyperparameter optimization</a></span></li><li><span><a href=\"#xgboost\" data-toc-modified-id=\"xgboost-5.2.4\"><span class=\"toc-item-num\">5.2.4&nbsp;&nbsp;</span>xgboost</a></span></li><li><span><a href=\"#other-stuff\" data-toc-modified-id=\"other-stuff-5.2.5\"><span class=\"toc-item-num\">5.2.5&nbsp;&nbsp;</span>other stuff</a></span><ul class=\"toc-item\"><li><span><a href=\"#model-per-item\" data-toc-modified-id=\"model-per-item-5.2.5.1\"><span class=\"toc-item-num\">5.2.5.1&nbsp;&nbsp;</span>model per item</a></span></li><li><span><a href=\"#model-per-store\" data-toc-modified-id=\"model-per-store-5.2.5.2\"><span class=\"toc-item-num\">5.2.5.2&nbsp;&nbsp;</span>model per store</a></span></li></ul></li><li><span><a href=\"#example\" data-toc-modified-id=\"example-5.2.6\"><span class=\"toc-item-num\">5.2.6&nbsp;&nbsp;</span>example</a></span></li></ul></li></ul></li></ul></div>"
   ]
  },
  {
   "cell_type": "code",
   "execution_count": 114,
   "metadata": {
    "ExecuteTime": {
     "end_time": "2022-04-22T09:51:27.048653Z",
     "start_time": "2022-04-22T09:51:27.038651Z"
    }
   },
   "outputs": [],
   "source": [
    "import numpy as np # linear algebra\n",
    "import pandas as pd # data processing, CSV file I/O (e.g. pd.read_csv)\n",
    "from itertools import product\n",
    "\n",
    "import os"
   ]
  },
  {
   "cell_type": "code",
   "execution_count": 115,
   "metadata": {
    "ExecuteTime": {
     "end_time": "2022-04-22T09:51:27.064704Z",
     "start_time": "2022-04-22T09:51:27.051652Z"
    }
   },
   "outputs": [],
   "source": [
    "import seaborn as sns\n",
    "\n",
    "import matplotlib.pyplot as plt"
   ]
  },
  {
   "cell_type": "code",
   "execution_count": 116,
   "metadata": {
    "ExecuteTime": {
     "end_time": "2022-04-22T09:51:27.080652Z",
     "start_time": "2022-04-22T09:51:27.066651Z"
    }
   },
   "outputs": [],
   "source": [
    "from joblib import dump, load\n",
    "from datetime import datetime"
   ]
  },
  {
   "cell_type": "markdown",
   "metadata": {},
   "source": [
    "# About"
   ]
  },
  {
   "cell_type": "markdown",
   "metadata": {},
   "source": [
    "Data Description\n",
    "\n",
    "You are provided with daily historical sales data. The task is to forecast the total amount of products sold in every shop for the test set. Note that the list of shops and products slightly changes every month. Creating a robust model that can handle such situations is part of the challenge.\n",
    "File descriptions\n",
    "\n",
    "    train.csv - the training set. Daily historical data from January 2013 to October 2015.\n",
    "    test.csv - the test set. You need to forecast the sales for these shops and products for November 2015.\n",
    "    sample_submission.csv - a sample submission file in the correct format.\n",
    "    items.csv - supplemental information about the items/products.\n",
    "    item_categories.csv  - supplemental information about the items categories.\n",
    "    shops.csv- supplemental information about the shops.\n",
    "\n",
    "Data fields\n",
    "\n",
    "    ID - an Id that represents a (Shop, Item) tuple within the test set\n",
    "    shop_id - unique identifier of a shop\n",
    "    item_id - unique identifier of a product\n",
    "    item_category_id - unique identifier of item category\n",
    "    item_cnt_day - number of products sold. You are predicting a monthly amount of this measure\n",
    "    item_price - current price of an item\n",
    "    date - date in format dd/mm/yyyy\n",
    "    date_block_num - a consecutive month number, used for convenience. January 2013 is 0, February 2013 is 1,..., October 2015 is 33\n",
    "    item_name - name of item\n",
    "    shop_name - name of shop\n",
    "    item_category_name - name of item category\n",
    "\n",
    "This dataset is permitted to be used for any purpose, including commercial use.\n"
   ]
  },
  {
   "cell_type": "code",
   "execution_count": null,
   "metadata": {},
   "outputs": [],
   "source": []
  },
  {
   "cell_type": "markdown",
   "metadata": {},
   "source": [
    "# Setup"
   ]
  },
  {
   "cell_type": "code",
   "execution_count": 117,
   "metadata": {
    "ExecuteTime": {
     "end_time": "2022-04-22T09:51:27.096752Z",
     "start_time": "2022-04-22T09:51:27.083652Z"
    }
   },
   "outputs": [],
   "source": [
    "# increase figure size\n",
    "plt.rcParams[\"figure.figsize\"] = (20, 10)\n",
    "\n",
    "# disable scientific notation\n",
    "pd.set_option('display.float_format', str)"
   ]
  },
  {
   "cell_type": "code",
   "execution_count": 118,
   "metadata": {
    "ExecuteTime": {
     "end_time": "2022-04-22T09:51:27.112673Z",
     "start_time": "2022-04-22T09:51:27.098653Z"
    }
   },
   "outputs": [],
   "source": [
    "run_on_kaggle = False\n",
    "\n",
    "if run_on_kaggle:\n",
    "    input_path = '/kaggle/input/'\n",
    "    data_path = input_path + \"competitive-data-science-predict-future-sales/\"\n",
    "    output_path = \"\"\n",
    "else:\n",
    "    input_path = '../data/'\n",
    "    data_path = input_path\n",
    "    output_path = \"\""
   ]
  },
  {
   "cell_type": "code",
   "execution_count": 119,
   "metadata": {
    "ExecuteTime": {
     "end_time": "2022-04-22T09:51:27.144651Z",
     "start_time": "2022-04-22T09:51:27.114651Z"
    },
    "_cell_guid": "b1076dfc-b9ad-4769-8c92-a6c4dae69d19",
    "_uuid": "8f2839f25d086af736a60e9eeb907d3b93b6e0e5",
    "execution": {
     "iopub.execute_input": "2022-04-07T08:41:29.254200Z",
     "iopub.status.busy": "2022-04-07T08:41:29.253783Z",
     "iopub.status.idle": "2022-04-07T08:41:29.267984Z",
     "shell.execute_reply": "2022-04-07T08:41:29.267004Z",
     "shell.execute_reply.started": "2022-04-07T08:41:29.254111Z"
    }
   },
   "outputs": [
    {
     "name": "stdout",
     "output_type": "stream",
     "text": [
      "../data/items.csv\n",
      "../data/item_categories.csv\n",
      "../data/sales_train.csv\n",
      "../data/sample_submission.csv\n",
      "../data/shops.csv\n",
      "../data/test.csv\n"
     ]
    }
   ],
   "source": [
    "# This Python 3 environment comes with many helpful analytics libraries installed\n",
    "# It is defined by the kaggle/python Docker image: https://github.com/kaggle/docker-python\n",
    "# For example, here's several helpful packages to load\n",
    "\n",
    "# Input data files are available in the read-only \"../input/\" directory\n",
    "# For example, running this (by clicking run or pressing Shift+Enter) will list all files under the input directory\n",
    "\n",
    "for dirname, _, filenames in os.walk(input_path):\n",
    "    for filename in filenames:\n",
    "        print(os.path.join(dirname, filename))\n",
    "\n",
    "# You can write up to 20GB to the current directory (/kaggle/working/) that gets preserved as output when you create a version using \"Save & Run All\" \n",
    "# You can also write temporary files to /kaggle/temp/, but they won't be saved outside of the current session"
   ]
  },
  {
   "cell_type": "markdown",
   "metadata": {},
   "source": [
    "# Data import"
   ]
  },
  {
   "cell_type": "markdown",
   "metadata": {},
   "source": [
    "## Data"
   ]
  },
  {
   "cell_type": "markdown",
   "metadata": {},
   "source": [
    "### train/test data"
   ]
  },
  {
   "cell_type": "code",
   "execution_count": 120,
   "metadata": {
    "ExecuteTime": {
     "end_time": "2022-04-22T09:51:29.323673Z",
     "start_time": "2022-04-22T09:51:27.148652Z"
    },
    "execution": {
     "iopub.execute_input": "2022-04-07T08:41:31.990277Z",
     "iopub.status.busy": "2022-04-07T08:41:31.989839Z",
     "iopub.status.idle": "2022-04-07T08:41:34.335473Z",
     "shell.execute_reply": "2022-04-07T08:41:34.334460Z",
     "shell.execute_reply.started": "2022-04-07T08:41:31.990224Z"
    }
   },
   "outputs": [],
   "source": [
    "# train.csv - the training set. Daily historical data from January 2013 to October 2015.\n",
    "sales_train = pd.read_csv(data_path + \"sales_train.csv\")\n",
    "\n",
    "# test.csv - the test set. You need to forecast the sales for these shops and products for November 2015.\n",
    "sales_test = pd.read_csv(data_path + \"test.csv\")"
   ]
  },
  {
   "cell_type": "code",
   "execution_count": 121,
   "metadata": {
    "ExecuteTime": {
     "end_time": "2022-04-22T09:51:29.354650Z",
     "start_time": "2022-04-22T09:51:29.325651Z"
    },
    "execution": {
     "iopub.execute_input": "2022-04-07T08:41:34.337325Z",
     "iopub.status.busy": "2022-04-07T08:41:34.336938Z",
     "iopub.status.idle": "2022-04-07T08:41:34.368019Z",
     "shell.execute_reply": "2022-04-07T08:41:34.367126Z",
     "shell.execute_reply.started": "2022-04-07T08:41:34.337286Z"
    }
   },
   "outputs": [
    {
     "data": {
      "text/html": [
       "<div>\n",
       "<style scoped>\n",
       "    .dataframe tbody tr th:only-of-type {\n",
       "        vertical-align: middle;\n",
       "    }\n",
       "\n",
       "    .dataframe tbody tr th {\n",
       "        vertical-align: top;\n",
       "    }\n",
       "\n",
       "    .dataframe thead th {\n",
       "        text-align: right;\n",
       "    }\n",
       "</style>\n",
       "<table border=\"1\" class=\"dataframe\">\n",
       "  <thead>\n",
       "    <tr style=\"text-align: right;\">\n",
       "      <th></th>\n",
       "      <th>date</th>\n",
       "      <th>date_block_num</th>\n",
       "      <th>shop_id</th>\n",
       "      <th>item_id</th>\n",
       "      <th>item_price</th>\n",
       "      <th>item_cnt_day</th>\n",
       "    </tr>\n",
       "  </thead>\n",
       "  <tbody>\n",
       "    <tr>\n",
       "      <th>0</th>\n",
       "      <td>02.01.2013</td>\n",
       "      <td>0</td>\n",
       "      <td>59</td>\n",
       "      <td>22154</td>\n",
       "      <td>999.0</td>\n",
       "      <td>1.0</td>\n",
       "    </tr>\n",
       "    <tr>\n",
       "      <th>1</th>\n",
       "      <td>03.01.2013</td>\n",
       "      <td>0</td>\n",
       "      <td>25</td>\n",
       "      <td>2552</td>\n",
       "      <td>899.0</td>\n",
       "      <td>1.0</td>\n",
       "    </tr>\n",
       "    <tr>\n",
       "      <th>2</th>\n",
       "      <td>05.01.2013</td>\n",
       "      <td>0</td>\n",
       "      <td>25</td>\n",
       "      <td>2552</td>\n",
       "      <td>899.0</td>\n",
       "      <td>-1.0</td>\n",
       "    </tr>\n",
       "    <tr>\n",
       "      <th>3</th>\n",
       "      <td>06.01.2013</td>\n",
       "      <td>0</td>\n",
       "      <td>25</td>\n",
       "      <td>2554</td>\n",
       "      <td>1709.05</td>\n",
       "      <td>1.0</td>\n",
       "    </tr>\n",
       "    <tr>\n",
       "      <th>4</th>\n",
       "      <td>15.01.2013</td>\n",
       "      <td>0</td>\n",
       "      <td>25</td>\n",
       "      <td>2555</td>\n",
       "      <td>1099.0</td>\n",
       "      <td>1.0</td>\n",
       "    </tr>\n",
       "  </tbody>\n",
       "</table>\n",
       "</div>"
      ],
      "text/plain": [
       "         date  date_block_num  shop_id  item_id  item_price  item_cnt_day\n",
       "0  02.01.2013               0       59    22154       999.0           1.0\n",
       "1  03.01.2013               0       25     2552       899.0           1.0\n",
       "2  05.01.2013               0       25     2552       899.0          -1.0\n",
       "3  06.01.2013               0       25     2554     1709.05           1.0\n",
       "4  15.01.2013               0       25     2555      1099.0           1.0"
      ]
     },
     "metadata": {},
     "output_type": "display_data"
    },
    {
     "data": {
      "text/html": [
       "<div>\n",
       "<style scoped>\n",
       "    .dataframe tbody tr th:only-of-type {\n",
       "        vertical-align: middle;\n",
       "    }\n",
       "\n",
       "    .dataframe tbody tr th {\n",
       "        vertical-align: top;\n",
       "    }\n",
       "\n",
       "    .dataframe thead th {\n",
       "        text-align: right;\n",
       "    }\n",
       "</style>\n",
       "<table border=\"1\" class=\"dataframe\">\n",
       "  <thead>\n",
       "    <tr style=\"text-align: right;\">\n",
       "      <th></th>\n",
       "      <th>ID</th>\n",
       "      <th>shop_id</th>\n",
       "      <th>item_id</th>\n",
       "    </tr>\n",
       "  </thead>\n",
       "  <tbody>\n",
       "    <tr>\n",
       "      <th>0</th>\n",
       "      <td>0</td>\n",
       "      <td>5</td>\n",
       "      <td>5037</td>\n",
       "    </tr>\n",
       "    <tr>\n",
       "      <th>1</th>\n",
       "      <td>1</td>\n",
       "      <td>5</td>\n",
       "      <td>5320</td>\n",
       "    </tr>\n",
       "    <tr>\n",
       "      <th>2</th>\n",
       "      <td>2</td>\n",
       "      <td>5</td>\n",
       "      <td>5233</td>\n",
       "    </tr>\n",
       "    <tr>\n",
       "      <th>3</th>\n",
       "      <td>3</td>\n",
       "      <td>5</td>\n",
       "      <td>5232</td>\n",
       "    </tr>\n",
       "    <tr>\n",
       "      <th>4</th>\n",
       "      <td>4</td>\n",
       "      <td>5</td>\n",
       "      <td>5268</td>\n",
       "    </tr>\n",
       "  </tbody>\n",
       "</table>\n",
       "</div>"
      ],
      "text/plain": [
       "   ID  shop_id  item_id\n",
       "0   0        5     5037\n",
       "1   1        5     5320\n",
       "2   2        5     5233\n",
       "3   3        5     5232\n",
       "4   4        5     5268"
      ]
     },
     "metadata": {},
     "output_type": "display_data"
    }
   ],
   "source": [
    "display(sales_train.head())\n",
    "display(sales_test.head())"
   ]
  },
  {
   "cell_type": "markdown",
   "metadata": {},
   "source": [
    "### supplemental data"
   ]
  },
  {
   "cell_type": "code",
   "execution_count": 122,
   "metadata": {
    "ExecuteTime": {
     "end_time": "2022-04-22T09:51:29.465714Z",
     "start_time": "2022-04-22T09:51:29.357651Z"
    },
    "execution": {
     "iopub.execute_input": "2022-04-07T08:41:37.933347Z",
     "iopub.status.busy": "2022-04-07T08:41:37.932749Z",
     "iopub.status.idle": "2022-04-07T08:41:38.024412Z",
     "shell.execute_reply": "2022-04-07T08:41:38.023570Z",
     "shell.execute_reply.started": "2022-04-07T08:41:37.933299Z"
    }
   },
   "outputs": [],
   "source": [
    "# items.csv - supplemental information about the items/products.\n",
    "items = pd.read_csv(data_path + \"items.csv\")\n",
    "\n",
    "# item_categories.csv  - supplemental information about the items categories.\n",
    "item_categories = pd.read_csv(data_path + \"item_categories.csv\")\n",
    "\n",
    "# shops.csv- supplemental information about the shops.\n",
    "shops = pd.read_csv(data_path + \"shops.csv\")"
   ]
  },
  {
   "cell_type": "code",
   "execution_count": 123,
   "metadata": {
    "ExecuteTime": {
     "end_time": "2022-04-22T09:51:29.496650Z",
     "start_time": "2022-04-22T09:51:29.467652Z"
    },
    "execution": {
     "iopub.execute_input": "2022-04-07T08:41:43.558207Z",
     "iopub.status.busy": "2022-04-07T08:41:43.557885Z",
     "iopub.status.idle": "2022-04-07T08:41:43.578831Z",
     "shell.execute_reply": "2022-04-07T08:41:43.578027Z",
     "shell.execute_reply.started": "2022-04-07T08:41:43.558181Z"
    }
   },
   "outputs": [
    {
     "data": {
      "text/html": [
       "<div>\n",
       "<style scoped>\n",
       "    .dataframe tbody tr th:only-of-type {\n",
       "        vertical-align: middle;\n",
       "    }\n",
       "\n",
       "    .dataframe tbody tr th {\n",
       "        vertical-align: top;\n",
       "    }\n",
       "\n",
       "    .dataframe thead th {\n",
       "        text-align: right;\n",
       "    }\n",
       "</style>\n",
       "<table border=\"1\" class=\"dataframe\">\n",
       "  <thead>\n",
       "    <tr style=\"text-align: right;\">\n",
       "      <th></th>\n",
       "      <th>item_name</th>\n",
       "      <th>item_id</th>\n",
       "      <th>item_category_id</th>\n",
       "    </tr>\n",
       "  </thead>\n",
       "  <tbody>\n",
       "    <tr>\n",
       "      <th>0</th>\n",
       "      <td>! ВО ВЛАСТИ НАВАЖДЕНИЯ (ПЛАСТ.)         D</td>\n",
       "      <td>0</td>\n",
       "      <td>40</td>\n",
       "    </tr>\n",
       "    <tr>\n",
       "      <th>1</th>\n",
       "      <td>!ABBYY FineReader 12 Professional Edition Full...</td>\n",
       "      <td>1</td>\n",
       "      <td>76</td>\n",
       "    </tr>\n",
       "    <tr>\n",
       "      <th>2</th>\n",
       "      <td>***В ЛУЧАХ СЛАВЫ   (UNV)                    D</td>\n",
       "      <td>2</td>\n",
       "      <td>40</td>\n",
       "    </tr>\n",
       "    <tr>\n",
       "      <th>3</th>\n",
       "      <td>***ГОЛУБАЯ ВОЛНА  (Univ)                      D</td>\n",
       "      <td>3</td>\n",
       "      <td>40</td>\n",
       "    </tr>\n",
       "    <tr>\n",
       "      <th>4</th>\n",
       "      <td>***КОРОБКА (СТЕКЛО)                       D</td>\n",
       "      <td>4</td>\n",
       "      <td>40</td>\n",
       "    </tr>\n",
       "  </tbody>\n",
       "</table>\n",
       "</div>"
      ],
      "text/plain": [
       "                                           item_name  item_id  \\\n",
       "0          ! ВО ВЛАСТИ НАВАЖДЕНИЯ (ПЛАСТ.)         D        0   \n",
       "1  !ABBYY FineReader 12 Professional Edition Full...        1   \n",
       "2      ***В ЛУЧАХ СЛАВЫ   (UNV)                    D        2   \n",
       "3    ***ГОЛУБАЯ ВОЛНА  (Univ)                      D        3   \n",
       "4        ***КОРОБКА (СТЕКЛО)                       D        4   \n",
       "\n",
       "   item_category_id  \n",
       "0                40  \n",
       "1                76  \n",
       "2                40  \n",
       "3                40  \n",
       "4                40  "
      ]
     },
     "metadata": {},
     "output_type": "display_data"
    },
    {
     "data": {
      "text/html": [
       "<div>\n",
       "<style scoped>\n",
       "    .dataframe tbody tr th:only-of-type {\n",
       "        vertical-align: middle;\n",
       "    }\n",
       "\n",
       "    .dataframe tbody tr th {\n",
       "        vertical-align: top;\n",
       "    }\n",
       "\n",
       "    .dataframe thead th {\n",
       "        text-align: right;\n",
       "    }\n",
       "</style>\n",
       "<table border=\"1\" class=\"dataframe\">\n",
       "  <thead>\n",
       "    <tr style=\"text-align: right;\">\n",
       "      <th></th>\n",
       "      <th>item_category_name</th>\n",
       "      <th>item_category_id</th>\n",
       "    </tr>\n",
       "  </thead>\n",
       "  <tbody>\n",
       "    <tr>\n",
       "      <th>0</th>\n",
       "      <td>PC - Гарнитуры/Наушники</td>\n",
       "      <td>0</td>\n",
       "    </tr>\n",
       "    <tr>\n",
       "      <th>1</th>\n",
       "      <td>Аксессуары - PS2</td>\n",
       "      <td>1</td>\n",
       "    </tr>\n",
       "    <tr>\n",
       "      <th>2</th>\n",
       "      <td>Аксессуары - PS3</td>\n",
       "      <td>2</td>\n",
       "    </tr>\n",
       "    <tr>\n",
       "      <th>3</th>\n",
       "      <td>Аксессуары - PS4</td>\n",
       "      <td>3</td>\n",
       "    </tr>\n",
       "    <tr>\n",
       "      <th>4</th>\n",
       "      <td>Аксессуары - PSP</td>\n",
       "      <td>4</td>\n",
       "    </tr>\n",
       "  </tbody>\n",
       "</table>\n",
       "</div>"
      ],
      "text/plain": [
       "        item_category_name  item_category_id\n",
       "0  PC - Гарнитуры/Наушники                 0\n",
       "1         Аксессуары - PS2                 1\n",
       "2         Аксессуары - PS3                 2\n",
       "3         Аксессуары - PS4                 3\n",
       "4         Аксессуары - PSP                 4"
      ]
     },
     "metadata": {},
     "output_type": "display_data"
    },
    {
     "data": {
      "text/html": [
       "<div>\n",
       "<style scoped>\n",
       "    .dataframe tbody tr th:only-of-type {\n",
       "        vertical-align: middle;\n",
       "    }\n",
       "\n",
       "    .dataframe tbody tr th {\n",
       "        vertical-align: top;\n",
       "    }\n",
       "\n",
       "    .dataframe thead th {\n",
       "        text-align: right;\n",
       "    }\n",
       "</style>\n",
       "<table border=\"1\" class=\"dataframe\">\n",
       "  <thead>\n",
       "    <tr style=\"text-align: right;\">\n",
       "      <th></th>\n",
       "      <th>shop_name</th>\n",
       "      <th>shop_id</th>\n",
       "    </tr>\n",
       "  </thead>\n",
       "  <tbody>\n",
       "    <tr>\n",
       "      <th>0</th>\n",
       "      <td>!Якутск Орджоникидзе, 56 фран</td>\n",
       "      <td>0</td>\n",
       "    </tr>\n",
       "    <tr>\n",
       "      <th>1</th>\n",
       "      <td>!Якутск ТЦ \"Центральный\" фран</td>\n",
       "      <td>1</td>\n",
       "    </tr>\n",
       "    <tr>\n",
       "      <th>2</th>\n",
       "      <td>Адыгея ТЦ \"Мега\"</td>\n",
       "      <td>2</td>\n",
       "    </tr>\n",
       "    <tr>\n",
       "      <th>3</th>\n",
       "      <td>Балашиха ТРК \"Октябрь-Киномир\"</td>\n",
       "      <td>3</td>\n",
       "    </tr>\n",
       "    <tr>\n",
       "      <th>4</th>\n",
       "      <td>Волжский ТЦ \"Волга Молл\"</td>\n",
       "      <td>4</td>\n",
       "    </tr>\n",
       "  </tbody>\n",
       "</table>\n",
       "</div>"
      ],
      "text/plain": [
       "                        shop_name  shop_id\n",
       "0   !Якутск Орджоникидзе, 56 фран        0\n",
       "1   !Якутск ТЦ \"Центральный\" фран        1\n",
       "2                Адыгея ТЦ \"Мега\"        2\n",
       "3  Балашиха ТРК \"Октябрь-Киномир\"        3\n",
       "4        Волжский ТЦ \"Волга Молл\"        4"
      ]
     },
     "metadata": {},
     "output_type": "display_data"
    }
   ],
   "source": [
    "display(items.head())\n",
    "display(item_categories.head())\n",
    "display(shops.head())"
   ]
  },
  {
   "cell_type": "code",
   "execution_count": null,
   "metadata": {},
   "outputs": [],
   "source": []
  },
  {
   "cell_type": "markdown",
   "metadata": {
    "heading_collapsed": true
   },
   "source": [
    "### sample submission\n",
    "\n",
    "Submissions are evaluated by root mean squared error (RMSE). True target values are clipped into [0,20] range."
   ]
  },
  {
   "cell_type": "code",
   "execution_count": 124,
   "metadata": {
    "ExecuteTime": {
     "end_time": "2022-04-22T09:51:29.576705Z",
     "start_time": "2022-04-22T09:51:29.498652Z"
    },
    "execution": {
     "iopub.execute_input": "2022-04-06T15:04:52.255585Z",
     "iopub.status.busy": "2022-04-06T15:04:52.255187Z",
     "iopub.status.idle": "2022-04-06T15:04:52.332952Z",
     "shell.execute_reply": "2022-04-06T15:04:52.331906Z",
     "shell.execute_reply.started": "2022-04-06T15:04:52.255552Z"
    },
    "hidden": true
   },
   "outputs": [],
   "source": [
    "# sample_submission.csv - a sample submission file in the correct format.\n",
    "sample_submission = pd.read_csv(data_path + \"sample_submission.csv\")"
   ]
  },
  {
   "cell_type": "code",
   "execution_count": 125,
   "metadata": {
    "ExecuteTime": {
     "end_time": "2022-04-22T09:51:29.592823Z",
     "start_time": "2022-04-22T09:51:29.578651Z"
    },
    "execution": {
     "iopub.execute_input": "2022-04-06T15:04:53.444756Z",
     "iopub.status.busy": "2022-04-06T15:04:53.444400Z",
     "iopub.status.idle": "2022-04-06T15:04:53.459284Z",
     "shell.execute_reply": "2022-04-06T15:04:53.458251Z",
     "shell.execute_reply.started": "2022-04-06T15:04:53.444725Z"
    },
    "hidden": true
   },
   "outputs": [
    {
     "data": {
      "text/html": [
       "<div>\n",
       "<style scoped>\n",
       "    .dataframe tbody tr th:only-of-type {\n",
       "        vertical-align: middle;\n",
       "    }\n",
       "\n",
       "    .dataframe tbody tr th {\n",
       "        vertical-align: top;\n",
       "    }\n",
       "\n",
       "    .dataframe thead th {\n",
       "        text-align: right;\n",
       "    }\n",
       "</style>\n",
       "<table border=\"1\" class=\"dataframe\">\n",
       "  <thead>\n",
       "    <tr style=\"text-align: right;\">\n",
       "      <th></th>\n",
       "      <th>ID</th>\n",
       "      <th>item_cnt_month</th>\n",
       "    </tr>\n",
       "  </thead>\n",
       "  <tbody>\n",
       "    <tr>\n",
       "      <th>0</th>\n",
       "      <td>0</td>\n",
       "      <td>0.5</td>\n",
       "    </tr>\n",
       "    <tr>\n",
       "      <th>1</th>\n",
       "      <td>1</td>\n",
       "      <td>0.5</td>\n",
       "    </tr>\n",
       "    <tr>\n",
       "      <th>2</th>\n",
       "      <td>2</td>\n",
       "      <td>0.5</td>\n",
       "    </tr>\n",
       "    <tr>\n",
       "      <th>3</th>\n",
       "      <td>3</td>\n",
       "      <td>0.5</td>\n",
       "    </tr>\n",
       "    <tr>\n",
       "      <th>4</th>\n",
       "      <td>4</td>\n",
       "      <td>0.5</td>\n",
       "    </tr>\n",
       "    <tr>\n",
       "      <th>...</th>\n",
       "      <td>...</td>\n",
       "      <td>...</td>\n",
       "    </tr>\n",
       "    <tr>\n",
       "      <th>214195</th>\n",
       "      <td>214195</td>\n",
       "      <td>0.5</td>\n",
       "    </tr>\n",
       "    <tr>\n",
       "      <th>214196</th>\n",
       "      <td>214196</td>\n",
       "      <td>0.5</td>\n",
       "    </tr>\n",
       "    <tr>\n",
       "      <th>214197</th>\n",
       "      <td>214197</td>\n",
       "      <td>0.5</td>\n",
       "    </tr>\n",
       "    <tr>\n",
       "      <th>214198</th>\n",
       "      <td>214198</td>\n",
       "      <td>0.5</td>\n",
       "    </tr>\n",
       "    <tr>\n",
       "      <th>214199</th>\n",
       "      <td>214199</td>\n",
       "      <td>0.5</td>\n",
       "    </tr>\n",
       "  </tbody>\n",
       "</table>\n",
       "<p>214200 rows × 2 columns</p>\n",
       "</div>"
      ],
      "text/plain": [
       "            ID  item_cnt_month\n",
       "0            0             0.5\n",
       "1            1             0.5\n",
       "2            2             0.5\n",
       "3            3             0.5\n",
       "4            4             0.5\n",
       "...        ...             ...\n",
       "214195  214195             0.5\n",
       "214196  214196             0.5\n",
       "214197  214197             0.5\n",
       "214198  214198             0.5\n",
       "214199  214199             0.5\n",
       "\n",
       "[214200 rows x 2 columns]"
      ]
     },
     "execution_count": 125,
     "metadata": {},
     "output_type": "execute_result"
    }
   ],
   "source": [
    "sample_submission"
   ]
  },
  {
   "cell_type": "markdown",
   "metadata": {},
   "source": [
    "# Exploratory data analysis"
   ]
  },
  {
   "cell_type": "code",
   "execution_count": null,
   "metadata": {
    "ExecuteTime": {
     "end_time": "2022-04-21T07:22:52.618525Z",
     "start_time": "2022-04-21T07:22:52.604524Z"
    }
   },
   "outputs": [],
   "source": []
  },
  {
   "cell_type": "code",
   "execution_count": null,
   "metadata": {},
   "outputs": [],
   "source": []
  },
  {
   "cell_type": "markdown",
   "metadata": {},
   "source": [
    "## check some basic statistics"
   ]
  },
  {
   "cell_type": "markdown",
   "metadata": {},
   "source": [
    "### train set"
   ]
  },
  {
   "cell_type": "code",
   "execution_count": 126,
   "metadata": {
    "ExecuteTime": {
     "end_time": "2022-04-22T09:51:29.672653Z",
     "start_time": "2022-04-22T09:51:29.596652Z"
    }
   },
   "outputs": [
    {
     "data": {
      "text/plain": [
       "21807"
      ]
     },
     "execution_count": 126,
     "metadata": {},
     "output_type": "execute_result"
    }
   ],
   "source": [
    "# number of items\n",
    "sales_train[\"item_id\"].nunique()"
   ]
  },
  {
   "cell_type": "code",
   "execution_count": 127,
   "metadata": {
    "ExecuteTime": {
     "end_time": "2022-04-22T09:51:29.736653Z",
     "start_time": "2022-04-22T09:51:29.674650Z"
    }
   },
   "outputs": [
    {
     "data": {
      "text/plain": [
       "60"
      ]
     },
     "execution_count": 127,
     "metadata": {},
     "output_type": "execute_result"
    }
   ],
   "source": [
    "# number of shops\n",
    "sales_train[\"shop_id\"].nunique()"
   ]
  },
  {
   "cell_type": "code",
   "execution_count": 128,
   "metadata": {
    "ExecuteTime": {
     "end_time": "2022-04-22T09:51:29.848651Z",
     "start_time": "2022-04-22T09:51:29.738651Z"
    }
   },
   "outputs": [
    {
     "data": {
      "text/plain": [
       "1308420"
      ]
     },
     "execution_count": 128,
     "metadata": {},
     "output_type": "execute_result"
    }
   ],
   "source": [
    "# number of all possible combinations\n",
    "sales_train[\"shop_id\"].nunique() * sales_train[\"item_id\"].nunique()"
   ]
  },
  {
   "cell_type": "code",
   "execution_count": 129,
   "metadata": {
    "ExecuteTime": {
     "end_time": "2022-04-22T09:51:29.896657Z",
     "start_time": "2022-04-22T09:51:29.850652Z"
    }
   },
   "outputs": [
    {
     "data": {
      "text/html": [
       "<div>\n",
       "<style scoped>\n",
       "    .dataframe tbody tr th:only-of-type {\n",
       "        vertical-align: middle;\n",
       "    }\n",
       "\n",
       "    .dataframe tbody tr th {\n",
       "        vertical-align: top;\n",
       "    }\n",
       "\n",
       "    .dataframe thead th {\n",
       "        text-align: right;\n",
       "    }\n",
       "</style>\n",
       "<table border=\"1\" class=\"dataframe\">\n",
       "  <thead>\n",
       "    <tr style=\"text-align: right;\">\n",
       "      <th></th>\n",
       "      <th>date</th>\n",
       "      <th>date_block_num</th>\n",
       "      <th>shop_id</th>\n",
       "      <th>item_id</th>\n",
       "      <th>item_price</th>\n",
       "      <th>item_cnt_day</th>\n",
       "    </tr>\n",
       "  </thead>\n",
       "  <tbody>\n",
       "    <tr>\n",
       "      <th>1953995</th>\n",
       "      <td>21.09.2014</td>\n",
       "      <td>20</td>\n",
       "      <td>5</td>\n",
       "      <td>5037</td>\n",
       "      <td>2599.0</td>\n",
       "      <td>1.0</td>\n",
       "    </tr>\n",
       "    <tr>\n",
       "      <th>2150561</th>\n",
       "      <td>29.11.2014</td>\n",
       "      <td>22</td>\n",
       "      <td>5</td>\n",
       "      <td>5037</td>\n",
       "      <td>2599.0</td>\n",
       "      <td>1.0</td>\n",
       "    </tr>\n",
       "    <tr>\n",
       "      <th>2288630</th>\n",
       "      <td>28.12.2014</td>\n",
       "      <td>23</td>\n",
       "      <td>5</td>\n",
       "      <td>5037</td>\n",
       "      <td>1999.0</td>\n",
       "      <td>1.0</td>\n",
       "    </tr>\n",
       "    <tr>\n",
       "      <th>2288631</th>\n",
       "      <td>20.12.2014</td>\n",
       "      <td>23</td>\n",
       "      <td>5</td>\n",
       "      <td>5037</td>\n",
       "      <td>1999.0</td>\n",
       "      <td>1.0</td>\n",
       "    </tr>\n",
       "    <tr>\n",
       "      <th>2335446</th>\n",
       "      <td>02.01.2015</td>\n",
       "      <td>24</td>\n",
       "      <td>5</td>\n",
       "      <td>5037</td>\n",
       "      <td>1999.0</td>\n",
       "      <td>1.0</td>\n",
       "    </tr>\n",
       "    <tr>\n",
       "      <th>2335447</th>\n",
       "      <td>07.01.2015</td>\n",
       "      <td>24</td>\n",
       "      <td>5</td>\n",
       "      <td>5037</td>\n",
       "      <td>1999.0</td>\n",
       "      <td>1.0</td>\n",
       "    </tr>\n",
       "    <tr>\n",
       "      <th>2618926</th>\n",
       "      <td>29.05.2015</td>\n",
       "      <td>28</td>\n",
       "      <td>5</td>\n",
       "      <td>5037</td>\n",
       "      <td>1299.0</td>\n",
       "      <td>1.0</td>\n",
       "    </tr>\n",
       "    <tr>\n",
       "      <th>2704068</th>\n",
       "      <td>28.06.2015</td>\n",
       "      <td>29</td>\n",
       "      <td>5</td>\n",
       "      <td>5037</td>\n",
       "      <td>1499.0</td>\n",
       "      <td>1.0</td>\n",
       "    </tr>\n",
       "    <tr>\n",
       "      <th>2719247</th>\n",
       "      <td>05.07.2015</td>\n",
       "      <td>30</td>\n",
       "      <td>5</td>\n",
       "      <td>5037</td>\n",
       "      <td>1499.0</td>\n",
       "      <td>1.0</td>\n",
       "    </tr>\n",
       "    <tr>\n",
       "      <th>2810661</th>\n",
       "      <td>14.08.2015</td>\n",
       "      <td>31</td>\n",
       "      <td>5</td>\n",
       "      <td>5037</td>\n",
       "      <td>1499.0</td>\n",
       "      <td>1.0</td>\n",
       "    </tr>\n",
       "    <tr>\n",
       "      <th>2810662</th>\n",
       "      <td>20.08.2015</td>\n",
       "      <td>31</td>\n",
       "      <td>5</td>\n",
       "      <td>5037</td>\n",
       "      <td>749.5</td>\n",
       "      <td>1.0</td>\n",
       "    </tr>\n",
       "    <tr>\n",
       "      <th>2810663</th>\n",
       "      <td>31.08.2015</td>\n",
       "      <td>31</td>\n",
       "      <td>5</td>\n",
       "      <td>5037</td>\n",
       "      <td>749.0</td>\n",
       "      <td>1.0</td>\n",
       "    </tr>\n",
       "    <tr>\n",
       "      <th>2860998</th>\n",
       "      <td>05.09.2015</td>\n",
       "      <td>32</td>\n",
       "      <td>5</td>\n",
       "      <td>5037</td>\n",
       "      <td>749.5</td>\n",
       "      <td>1.0</td>\n",
       "    </tr>\n",
       "  </tbody>\n",
       "</table>\n",
       "</div>"
      ],
      "text/plain": [
       "               date  date_block_num  shop_id  item_id  item_price  \\\n",
       "1953995  21.09.2014              20        5     5037      2599.0   \n",
       "2150561  29.11.2014              22        5     5037      2599.0   \n",
       "2288630  28.12.2014              23        5     5037      1999.0   \n",
       "2288631  20.12.2014              23        5     5037      1999.0   \n",
       "2335446  02.01.2015              24        5     5037      1999.0   \n",
       "2335447  07.01.2015              24        5     5037      1999.0   \n",
       "2618926  29.05.2015              28        5     5037      1299.0   \n",
       "2704068  28.06.2015              29        5     5037      1499.0   \n",
       "2719247  05.07.2015              30        5     5037      1499.0   \n",
       "2810661  14.08.2015              31        5     5037      1499.0   \n",
       "2810662  20.08.2015              31        5     5037       749.5   \n",
       "2810663  31.08.2015              31        5     5037       749.0   \n",
       "2860998  05.09.2015              32        5     5037       749.5   \n",
       "\n",
       "         item_cnt_day  \n",
       "1953995           1.0  \n",
       "2150561           1.0  \n",
       "2288630           1.0  \n",
       "2288631           1.0  \n",
       "2335446           1.0  \n",
       "2335447           1.0  \n",
       "2618926           1.0  \n",
       "2704068           1.0  \n",
       "2719247           1.0  \n",
       "2810661           1.0  \n",
       "2810662           1.0  \n",
       "2810663           1.0  \n",
       "2860998           1.0  "
      ]
     },
     "execution_count": 129,
     "metadata": {},
     "output_type": "execute_result"
    }
   ],
   "source": [
    "# check a certain item at a certain shop\n",
    "sales_train[(sales_train[\"shop_id\"] == 5) & (sales_train[\"item_id\"] == 5037)]"
   ]
  },
  {
   "cell_type": "code",
   "execution_count": null,
   "metadata": {},
   "outputs": [],
   "source": []
  },
  {
   "cell_type": "markdown",
   "metadata": {},
   "source": [
    "### test set"
   ]
  },
  {
   "cell_type": "code",
   "execution_count": 130,
   "metadata": {
    "ExecuteTime": {
     "end_time": "2022-04-22T09:51:29.912651Z",
     "start_time": "2022-04-22T09:51:29.898651Z"
    }
   },
   "outputs": [
    {
     "data": {
      "text/plain": [
       "5100"
      ]
     },
     "execution_count": 130,
     "metadata": {},
     "output_type": "execute_result"
    }
   ],
   "source": [
    "# number of items\n",
    "sales_test[\"item_id\"].nunique()"
   ]
  },
  {
   "cell_type": "code",
   "execution_count": 131,
   "metadata": {
    "ExecuteTime": {
     "end_time": "2022-04-22T09:51:29.927657Z",
     "start_time": "2022-04-22T09:51:29.914650Z"
    }
   },
   "outputs": [
    {
     "data": {
      "text/plain": [
       "42"
      ]
     },
     "execution_count": 131,
     "metadata": {},
     "output_type": "execute_result"
    }
   ],
   "source": [
    "# number of shops\n",
    "sales_test[\"shop_id\"].nunique()"
   ]
  },
  {
   "cell_type": "code",
   "execution_count": 132,
   "metadata": {
    "ExecuteTime": {
     "end_time": "2022-04-22T09:51:29.958657Z",
     "start_time": "2022-04-22T09:51:29.930651Z"
    }
   },
   "outputs": [
    {
     "data": {
      "text/plain": [
       "214200"
      ]
     },
     "execution_count": 132,
     "metadata": {},
     "output_type": "execute_result"
    }
   ],
   "source": [
    "# number of all possible combinations\n",
    "sales_test[\"shop_id\"].nunique() * sales_test[\"item_id\"].nunique()"
   ]
  },
  {
   "cell_type": "markdown",
   "metadata": {},
   "source": [
    "We are missing several items and shops from the train data set."
   ]
  },
  {
   "cell_type": "code",
   "execution_count": 133,
   "metadata": {
    "ExecuteTime": {
     "end_time": "2022-04-22T09:51:29.974657Z",
     "start_time": "2022-04-22T09:51:29.960651Z"
    },
    "scrolled": true
   },
   "outputs": [
    {
     "data": {
      "text/html": [
       "<div>\n",
       "<style scoped>\n",
       "    .dataframe tbody tr th:only-of-type {\n",
       "        vertical-align: middle;\n",
       "    }\n",
       "\n",
       "    .dataframe tbody tr th {\n",
       "        vertical-align: top;\n",
       "    }\n",
       "\n",
       "    .dataframe thead th {\n",
       "        text-align: right;\n",
       "    }\n",
       "</style>\n",
       "<table border=\"1\" class=\"dataframe\">\n",
       "  <thead>\n",
       "    <tr style=\"text-align: right;\">\n",
       "      <th></th>\n",
       "      <th>ID</th>\n",
       "      <th>shop_id</th>\n",
       "      <th>item_id</th>\n",
       "    </tr>\n",
       "  </thead>\n",
       "  <tbody>\n",
       "    <tr>\n",
       "      <th>0</th>\n",
       "      <td>0</td>\n",
       "      <td>5</td>\n",
       "      <td>5037</td>\n",
       "    </tr>\n",
       "  </tbody>\n",
       "</table>\n",
       "</div>"
      ],
      "text/plain": [
       "   ID  shop_id  item_id\n",
       "0   0        5     5037"
      ]
     },
     "execution_count": 133,
     "metadata": {},
     "output_type": "execute_result"
    }
   ],
   "source": [
    "# check a certain item at a certain shop\n",
    "sales_test[(sales_test[\"shop_id\"] == 5) & (sales_test[\"item_id\"] == 5037)]"
   ]
  },
  {
   "cell_type": "code",
   "execution_count": 134,
   "metadata": {
    "ExecuteTime": {
     "end_time": "2022-04-22T09:51:30.084653Z",
     "start_time": "2022-04-22T09:51:29.976652Z"
    }
   },
   "outputs": [
    {
     "data": {
      "text/html": [
       "<div>\n",
       "<style scoped>\n",
       "    .dataframe tbody tr th:only-of-type {\n",
       "        vertical-align: middle;\n",
       "    }\n",
       "\n",
       "    .dataframe tbody tr th {\n",
       "        vertical-align: top;\n",
       "    }\n",
       "\n",
       "    .dataframe thead th {\n",
       "        text-align: right;\n",
       "    }\n",
       "</style>\n",
       "<table border=\"1\" class=\"dataframe\">\n",
       "  <thead>\n",
       "    <tr style=\"text-align: right;\">\n",
       "      <th></th>\n",
       "      <th>ID</th>\n",
       "      <th>shop_id</th>\n",
       "      <th>item_id</th>\n",
       "      <th>item_cnt_month</th>\n",
       "    </tr>\n",
       "  </thead>\n",
       "  <tbody>\n",
       "    <tr>\n",
       "      <th>0</th>\n",
       "      <td>0</td>\n",
       "      <td>5</td>\n",
       "      <td>5037</td>\n",
       "      <td>0.5</td>\n",
       "    </tr>\n",
       "    <tr>\n",
       "      <th>1</th>\n",
       "      <td>1</td>\n",
       "      <td>5</td>\n",
       "      <td>5320</td>\n",
       "      <td>0.5</td>\n",
       "    </tr>\n",
       "    <tr>\n",
       "      <th>2</th>\n",
       "      <td>2</td>\n",
       "      <td>5</td>\n",
       "      <td>5233</td>\n",
       "      <td>0.5</td>\n",
       "    </tr>\n",
       "    <tr>\n",
       "      <th>3</th>\n",
       "      <td>3</td>\n",
       "      <td>5</td>\n",
       "      <td>5232</td>\n",
       "      <td>0.5</td>\n",
       "    </tr>\n",
       "    <tr>\n",
       "      <th>4</th>\n",
       "      <td>4</td>\n",
       "      <td>5</td>\n",
       "      <td>5268</td>\n",
       "      <td>0.5</td>\n",
       "    </tr>\n",
       "    <tr>\n",
       "      <th>...</th>\n",
       "      <td>...</td>\n",
       "      <td>...</td>\n",
       "      <td>...</td>\n",
       "      <td>...</td>\n",
       "    </tr>\n",
       "    <tr>\n",
       "      <th>214195</th>\n",
       "      <td>214195</td>\n",
       "      <td>45</td>\n",
       "      <td>18454</td>\n",
       "      <td>0.5</td>\n",
       "    </tr>\n",
       "    <tr>\n",
       "      <th>214196</th>\n",
       "      <td>214196</td>\n",
       "      <td>45</td>\n",
       "      <td>16188</td>\n",
       "      <td>0.5</td>\n",
       "    </tr>\n",
       "    <tr>\n",
       "      <th>214197</th>\n",
       "      <td>214197</td>\n",
       "      <td>45</td>\n",
       "      <td>15757</td>\n",
       "      <td>0.5</td>\n",
       "    </tr>\n",
       "    <tr>\n",
       "      <th>214198</th>\n",
       "      <td>214198</td>\n",
       "      <td>45</td>\n",
       "      <td>19648</td>\n",
       "      <td>0.5</td>\n",
       "    </tr>\n",
       "    <tr>\n",
       "      <th>214199</th>\n",
       "      <td>214199</td>\n",
       "      <td>45</td>\n",
       "      <td>969</td>\n",
       "      <td>0.5</td>\n",
       "    </tr>\n",
       "  </tbody>\n",
       "</table>\n",
       "<p>214200 rows × 4 columns</p>\n",
       "</div>"
      ],
      "text/plain": [
       "            ID  shop_id  item_id  item_cnt_month\n",
       "0            0        5     5037             0.5\n",
       "1            1        5     5320             0.5\n",
       "2            2        5     5233             0.5\n",
       "3            3        5     5232             0.5\n",
       "4            4        5     5268             0.5\n",
       "...        ...      ...      ...             ...\n",
       "214195  214195       45    18454             0.5\n",
       "214196  214196       45    16188             0.5\n",
       "214197  214197       45    15757             0.5\n",
       "214198  214198       45    19648             0.5\n",
       "214199  214199       45      969             0.5\n",
       "\n",
       "[214200 rows x 4 columns]"
      ]
     },
     "execution_count": 134,
     "metadata": {},
     "output_type": "execute_result"
    }
   ],
   "source": [
    "# check the sample submission\n",
    "pd.merge(sales_test, sample_submission, on=\"ID\")"
   ]
  },
  {
   "cell_type": "code",
   "execution_count": null,
   "metadata": {
    "ExecuteTime": {
     "end_time": "2022-04-21T15:25:15.290118Z",
     "start_time": "2022-04-21T15:25:15.262065Z"
    }
   },
   "outputs": [],
   "source": []
  },
  {
   "cell_type": "markdown",
   "metadata": {},
   "source": [
    "## per shop"
   ]
  },
  {
   "cell_type": "code",
   "execution_count": 135,
   "metadata": {
    "ExecuteTime": {
     "end_time": "2022-04-22T09:51:30.354650Z",
     "start_time": "2022-04-22T09:51:30.086653Z"
    }
   },
   "outputs": [],
   "source": [
    "total_sales_per_shop = sales_train.groupby(\"shop_id\", as_index=False)[\"item_cnt_day\"].sum()\n",
    "mean_sales_per_shop = sales_train.groupby(\"shop_id\", as_index=False)[\"item_cnt_day\"].mean()"
   ]
  },
  {
   "cell_type": "code",
   "execution_count": 136,
   "metadata": {
    "ExecuteTime": {
     "end_time": "2022-04-22T09:51:31.520809Z",
     "start_time": "2022-04-22T09:51:30.357652Z"
    }
   },
   "outputs": [
    {
     "data": {
      "text/plain": [
       "Text(0.5, 1.0, 'Total sales per shop')"
      ]
     },
     "execution_count": 136,
     "metadata": {},
     "output_type": "execute_result"
    },
    {
     "data": {
      "image/png": "[encoded data removed]",
      "text/plain": [
       "<Figure size 1440x720 with 1 Axes>"
      ]
     },
     "metadata": {
      "needs_background": "light"
     },
     "output_type": "display_data"
    }
   ],
   "source": [
    "sns.barplot(x=\"shop_id\", y=\"item_cnt_day\", data=total_sales_per_shop, palette=\"tab10\").set_title(\"Total sales per shop\")"
   ]
  },
  {
   "cell_type": "code",
   "execution_count": 137,
   "metadata": {
    "ExecuteTime": {
     "end_time": "2022-04-22T09:51:32.554704Z",
     "start_time": "2022-04-22T09:51:31.522677Z"
    }
   },
   "outputs": [
    {
     "data": {
      "text/plain": [
       "Text(0.5, 1.0, 'Mean sales per shop')"
      ]
     },
     "execution_count": 137,
     "metadata": {},
     "output_type": "execute_result"
    },
    {
     "data": {
      "image/png": "[encoded data removed]",
      "text/plain": [
       "<Figure size 1440x720 with 1 Axes>"
      ]
     },
     "metadata": {
      "needs_background": "light"
     },
     "output_type": "display_data"
    }
   ],
   "source": [
    "sns.barplot(x=\"shop_id\", y=\"item_cnt_day\", data=mean_sales_per_shop, palette=\"tab10\").set_title(\"Mean sales per shop\")"
   ]
  },
  {
   "cell_type": "code",
   "execution_count": 138,
   "metadata": {
    "ExecuteTime": {
     "end_time": "2022-04-22T09:51:32.585703Z",
     "start_time": "2022-04-22T09:51:32.557717Z"
    }
   },
   "outputs": [
    {
     "data": {
      "text/html": [
       "<div>\n",
       "<style scoped>\n",
       "    .dataframe tbody tr th:only-of-type {\n",
       "        vertical-align: middle;\n",
       "    }\n",
       "\n",
       "    .dataframe tbody tr th {\n",
       "        vertical-align: top;\n",
       "    }\n",
       "\n",
       "    .dataframe thead th {\n",
       "        text-align: right;\n",
       "    }\n",
       "</style>\n",
       "<table border=\"1\" class=\"dataframe\">\n",
       "  <thead>\n",
       "    <tr style=\"text-align: right;\">\n",
       "      <th></th>\n",
       "      <th>date</th>\n",
       "      <th>date_block_num</th>\n",
       "      <th>shop_id</th>\n",
       "      <th>item_id</th>\n",
       "      <th>item_price</th>\n",
       "      <th>item_cnt_day</th>\n",
       "    </tr>\n",
       "  </thead>\n",
       "  <tbody>\n",
       "    <tr>\n",
       "      <th>0</th>\n",
       "      <td>02.01.2013</td>\n",
       "      <td>0</td>\n",
       "      <td>59</td>\n",
       "      <td>22154</td>\n",
       "      <td>999.0</td>\n",
       "      <td>1.0</td>\n",
       "    </tr>\n",
       "    <tr>\n",
       "      <th>1</th>\n",
       "      <td>03.01.2013</td>\n",
       "      <td>0</td>\n",
       "      <td>25</td>\n",
       "      <td>2552</td>\n",
       "      <td>899.0</td>\n",
       "      <td>1.0</td>\n",
       "    </tr>\n",
       "    <tr>\n",
       "      <th>2</th>\n",
       "      <td>05.01.2013</td>\n",
       "      <td>0</td>\n",
       "      <td>25</td>\n",
       "      <td>2552</td>\n",
       "      <td>899.0</td>\n",
       "      <td>-1.0</td>\n",
       "    </tr>\n",
       "    <tr>\n",
       "      <th>3</th>\n",
       "      <td>06.01.2013</td>\n",
       "      <td>0</td>\n",
       "      <td>25</td>\n",
       "      <td>2554</td>\n",
       "      <td>1709.05</td>\n",
       "      <td>1.0</td>\n",
       "    </tr>\n",
       "    <tr>\n",
       "      <th>4</th>\n",
       "      <td>15.01.2013</td>\n",
       "      <td>0</td>\n",
       "      <td>25</td>\n",
       "      <td>2555</td>\n",
       "      <td>1099.0</td>\n",
       "      <td>1.0</td>\n",
       "    </tr>\n",
       "    <tr>\n",
       "      <th>...</th>\n",
       "      <td>...</td>\n",
       "      <td>...</td>\n",
       "      <td>...</td>\n",
       "      <td>...</td>\n",
       "      <td>...</td>\n",
       "      <td>...</td>\n",
       "    </tr>\n",
       "    <tr>\n",
       "      <th>2935844</th>\n",
       "      <td>10.10.2015</td>\n",
       "      <td>33</td>\n",
       "      <td>25</td>\n",
       "      <td>7409</td>\n",
       "      <td>299.0</td>\n",
       "      <td>1.0</td>\n",
       "    </tr>\n",
       "    <tr>\n",
       "      <th>2935845</th>\n",
       "      <td>09.10.2015</td>\n",
       "      <td>33</td>\n",
       "      <td>25</td>\n",
       "      <td>7460</td>\n",
       "      <td>299.0</td>\n",
       "      <td>1.0</td>\n",
       "    </tr>\n",
       "    <tr>\n",
       "      <th>2935846</th>\n",
       "      <td>14.10.2015</td>\n",
       "      <td>33</td>\n",
       "      <td>25</td>\n",
       "      <td>7459</td>\n",
       "      <td>349.0</td>\n",
       "      <td>1.0</td>\n",
       "    </tr>\n",
       "    <tr>\n",
       "      <th>2935847</th>\n",
       "      <td>22.10.2015</td>\n",
       "      <td>33</td>\n",
       "      <td>25</td>\n",
       "      <td>7440</td>\n",
       "      <td>299.0</td>\n",
       "      <td>1.0</td>\n",
       "    </tr>\n",
       "    <tr>\n",
       "      <th>2935848</th>\n",
       "      <td>03.10.2015</td>\n",
       "      <td>33</td>\n",
       "      <td>25</td>\n",
       "      <td>7460</td>\n",
       "      <td>299.0</td>\n",
       "      <td>1.0</td>\n",
       "    </tr>\n",
       "  </tbody>\n",
       "</table>\n",
       "<p>2935849 rows × 6 columns</p>\n",
       "</div>"
      ],
      "text/plain": [
       "               date  date_block_num  shop_id  item_id  item_price  \\\n",
       "0        02.01.2013               0       59    22154       999.0   \n",
       "1        03.01.2013               0       25     2552       899.0   \n",
       "2        05.01.2013               0       25     2552       899.0   \n",
       "3        06.01.2013               0       25     2554     1709.05   \n",
       "4        15.01.2013               0       25     2555      1099.0   \n",
       "...             ...             ...      ...      ...         ...   \n",
       "2935844  10.10.2015              33       25     7409       299.0   \n",
       "2935845  09.10.2015              33       25     7460       299.0   \n",
       "2935846  14.10.2015              33       25     7459       349.0   \n",
       "2935847  22.10.2015              33       25     7440       299.0   \n",
       "2935848  03.10.2015              33       25     7460       299.0   \n",
       "\n",
       "         item_cnt_day  \n",
       "0                 1.0  \n",
       "1                 1.0  \n",
       "2                -1.0  \n",
       "3                 1.0  \n",
       "4                 1.0  \n",
       "...               ...  \n",
       "2935844           1.0  \n",
       "2935845           1.0  \n",
       "2935846           1.0  \n",
       "2935847           1.0  \n",
       "2935848           1.0  \n",
       "\n",
       "[2935849 rows x 6 columns]"
      ]
     },
     "execution_count": 138,
     "metadata": {},
     "output_type": "execute_result"
    }
   ],
   "source": [
    "sales_train"
   ]
  },
  {
   "cell_type": "code",
   "execution_count": null,
   "metadata": {},
   "outputs": [],
   "source": []
  },
  {
   "cell_type": "code",
   "execution_count": null,
   "metadata": {},
   "outputs": [],
   "source": []
  },
  {
   "cell_type": "markdown",
   "metadata": {},
   "source": [
    "## deal with outliers"
   ]
  },
  {
   "cell_type": "code",
   "execution_count": 139,
   "metadata": {
    "ExecuteTime": {
     "end_time": "2022-04-22T09:51:32.600651Z",
     "start_time": "2022-04-22T09:51:32.588651Z"
    }
   },
   "outputs": [],
   "source": [
    "def check_for_outlier(series: pd.Series, lower_quantile: float=0.05, upper_quantile: float=0.95):\n",
    "    \n",
    "    # describe the data\n",
    "    display(series.describe())\n",
    "    \n",
    "    # plot the data\n",
    "    sns.boxplot(x=series)\n",
    "    plt.show()\n",
    "    \n",
    "    # plot with adjusted x axis\n",
    "    lower_q = series.quantile(q=0.05)\n",
    "    upper_q = series.quantile(q=0.95)\n",
    "    plt.xlim(lower_q, upper_q)\n",
    "    sns.boxplot(x=series)\n",
    "    plt.show()"
   ]
  },
  {
   "cell_type": "code",
   "execution_count": 140,
   "metadata": {
    "ExecuteTime": {
     "end_time": "2022-04-22T09:51:32.615652Z",
     "start_time": "2022-04-22T09:51:32.602652Z"
    }
   },
   "outputs": [],
   "source": [
    "def clip_to_quantiles(series: pd.Series, lower_quantile: float, upper_quantile: float) -> pd.Series:\n",
    "    \"\"\"\n",
    "    Clips the provided pd.Series into the given quantile\n",
    "    :param series: pd.Series, data to clip\n",
    "    :param lower_quantile: float, value between 0 <= lower_quantile <= 1, the lower quantile to clip\n",
    "    :param upper_quantile: float, value between 0 <= upper_quantile <= 1, the lower quantile to clip\n",
    "    :return: pd.Series, the clipped data\n",
    "    \"\"\"\n",
    "    assert 0 <= lower_quantile <= 1\n",
    "    assert 0 <= upper_quantile <= 1\n",
    "\n",
    "    lower_q = series.quantile(q=lower_quantile)\n",
    "    upper_q = series.quantile(q=upper_quantile)\n",
    "\n",
    "    return series.clip(lower=lower_q, upper=upper_q)"
   ]
  },
  {
   "cell_type": "markdown",
   "metadata": {},
   "source": [
    "### item_price"
   ]
  },
  {
   "cell_type": "code",
   "execution_count": 141,
   "metadata": {
    "ExecuteTime": {
     "end_time": "2022-04-22T09:51:34.878651Z",
     "start_time": "2022-04-22T09:51:32.617651Z"
    }
   },
   "outputs": [
    {
     "data": {
      "text/plain": [
       "count            2935849.0\n",
       "mean     890.8532326980126\n",
       "std     1729.7996307126623\n",
       "min                   -1.0\n",
       "25%                  249.0\n",
       "50%                  399.0\n",
       "75%                  999.0\n",
       "max               307980.0\n",
       "Name: item_price, dtype: float64"
      ]
     },
     "metadata": {},
     "output_type": "display_data"
    },
    {
     "data": {
      "image/png": "[encoded data removed]",
      "text/plain": [
       "<Figure size 1440x720 with 1 Axes>"
      ]
     },
     "metadata": {
      "needs_background": "light"
     },
     "output_type": "display_data"
    },
    {
     "data": {
      "image/png": "[encoded data removed]",
      "text/plain": [
       "<Figure size 1440x720 with 1 Axes>"
      ]
     },
     "metadata": {
      "needs_background": "light"
     },
     "output_type": "display_data"
    }
   ],
   "source": [
    "check_for_outlier(sales_train[\"item_price\"])"
   ]
  },
  {
   "cell_type": "code",
   "execution_count": 142,
   "metadata": {
    "ExecuteTime": {
     "end_time": "2022-04-22T09:51:35.126671Z",
     "start_time": "2022-04-22T09:51:34.882651Z"
    }
   },
   "outputs": [],
   "source": [
    "# clip the data to be in the [5%, 95%] quantile\n",
    "sales_train[\"item_price\"] = clip_to_quantiles(series=sales_train[\"item_price\"], lower_quantile=0.05, upper_quantile=0.95)"
   ]
  },
  {
   "cell_type": "code",
   "execution_count": null,
   "metadata": {},
   "outputs": [],
   "source": []
  },
  {
   "cell_type": "markdown",
   "metadata": {},
   "source": [
    "### item_cnt_day"
   ]
  },
  {
   "cell_type": "code",
   "execution_count": 143,
   "metadata": {
    "ExecuteTime": {
     "end_time": "2022-04-22T09:51:37.317717Z",
     "start_time": "2022-04-22T09:51:35.141650Z"
    }
   },
   "outputs": [
    {
     "data": {
      "text/plain": [
       "count           2935849.0\n",
       "mean    1.242640885140891\n",
       "std     2.618834430895425\n",
       "min                 -22.0\n",
       "25%                   1.0\n",
       "50%                   1.0\n",
       "75%                   1.0\n",
       "max                2169.0\n",
       "Name: item_cnt_day, dtype: float64"
      ]
     },
     "metadata": {},
     "output_type": "display_data"
    },
    {
     "data": {
      "image/png": "[encoded data removed]",
      "text/plain": [
       "<Figure size 1440x720 with 1 Axes>"
      ]
     },
     "metadata": {
      "needs_background": "light"
     },
     "output_type": "display_data"
    },
    {
     "data": {
      "image/png": "[encoded data removed]",
      "text/plain": [
       "<Figure size 1440x720 with 1 Axes>"
      ]
     },
     "metadata": {
      "needs_background": "light"
     },
     "output_type": "display_data"
    }
   ],
   "source": [
    "check_for_outlier(series=sales_train[\"item_cnt_day\"], lower_quantile=0.01, upper_quantile=0.99)"
   ]
  },
  {
   "cell_type": "code",
   "execution_count": 144,
   "metadata": {
    "ExecuteTime": {
     "end_time": "2022-04-22T09:51:37.411717Z",
     "start_time": "2022-04-22T09:51:37.319715Z"
    }
   },
   "outputs": [],
   "source": [
    "# clip the data to be in the [0, 20] range\n",
    "sales_train[\"item_cnt_day\"] = sales_train[\"item_cnt_day\"].clip(lower=0, upper=20)"
   ]
  },
  {
   "cell_type": "code",
   "execution_count": null,
   "metadata": {},
   "outputs": [],
   "source": []
  },
  {
   "cell_type": "code",
   "execution_count": null,
   "metadata": {},
   "outputs": [],
   "source": []
  },
  {
   "cell_type": "markdown",
   "metadata": {},
   "source": [
    "## other"
   ]
  },
  {
   "cell_type": "code",
   "execution_count": 145,
   "metadata": {
    "ExecuteTime": {
     "end_time": "2022-04-22T09:51:37.427703Z",
     "start_time": "2022-04-22T09:51:37.413650Z"
    }
   },
   "outputs": [],
   "source": [
    "# keep a clean copy of the train data\n",
    "# train = sales_train.copy()"
   ]
  },
  {
   "cell_type": "code",
   "execution_count": 146,
   "metadata": {
    "ExecuteTime": {
     "end_time": "2022-04-22T09:51:37.443651Z",
     "start_time": "2022-04-22T09:51:37.429675Z"
    }
   },
   "outputs": [],
   "source": [
    "# keep a clean copy of the train + test data\n",
    "# train_raw = sales_train.copy()\n",
    "# test_raw = sales_test.copy()"
   ]
  },
  {
   "cell_type": "code",
   "execution_count": 147,
   "metadata": {
    "ExecuteTime": {
     "end_time": "2022-04-22T09:51:37.459653Z",
     "start_time": "2022-04-22T09:51:37.445650Z"
    }
   },
   "outputs": [],
   "source": [
    "def calculate_revenue(df: pd.DataFrame) -> float:\n",
    "    # some items are returned (item_cnt_day = -1.0); those need to be substracted\n",
    "    return sum(df[\"item_price\"]*df[\"item_cnt_day\"])"
   ]
  },
  {
   "cell_type": "code",
   "execution_count": 148,
   "metadata": {
    "ExecuteTime": {
     "end_time": "2022-04-22T09:51:37.475704Z",
     "start_time": "2022-04-22T09:51:37.461651Z"
    }
   },
   "outputs": [],
   "source": [
    "# revenue_per_shop_and_month = (\n",
    "#     train\n",
    "#     .groupby([\"shop_id\", \"date_block_num\"])\n",
    "#     .apply(lambda x: calculate_revenue(x))\n",
    "#     .rename(\"total_revenue_per_shop_and_month\")\n",
    "#     .reset_index()\n",
    "# )"
   ]
  },
  {
   "cell_type": "code",
   "execution_count": 149,
   "metadata": {
    "ExecuteTime": {
     "end_time": "2022-04-22T09:51:37.491689Z",
     "start_time": "2022-04-22T09:51:37.477651Z"
    }
   },
   "outputs": [],
   "source": [
    "# train = pd.merge(train, revenue_per_shop_and_month, how=\"left\")"
   ]
  },
  {
   "cell_type": "markdown",
   "metadata": {},
   "source": [
    "# model training"
   ]
  },
  {
   "cell_type": "code",
   "execution_count": 150,
   "metadata": {
    "ExecuteTime": {
     "end_time": "2022-04-22T09:51:37.678496Z",
     "start_time": "2022-04-22T09:51:37.493650Z"
    }
   },
   "outputs": [],
   "source": [
    "# keep a clean copy of the train + test data\n",
    "train_raw = sales_train.copy()\n",
    "test_raw = sales_test.copy()"
   ]
  },
  {
   "cell_type": "markdown",
   "metadata": {},
   "source": [
    "## data preprocessing"
   ]
  },
  {
   "cell_type": "markdown",
   "metadata": {},
   "source": [
    "### aggregate data to monthly level"
   ]
  },
  {
   "cell_type": "code",
   "execution_count": 151,
   "metadata": {
    "ExecuteTime": {
     "end_time": "2022-04-22T09:52:16.538085Z",
     "start_time": "2022-04-22T09:51:37.680505Z"
    }
   },
   "outputs": [
    {
     "name": "stdout",
     "output_type": "stream",
     "text": [
      "(12240575, 6)\n",
      "(12240575, 11)\n"
     ]
    }
   ],
   "source": [
    "index_cols = ['shop_id', 'item_id', 'date_block_num']\n",
    "\n",
    "# For every month we create a grid from all shops/items combinations from that month\n",
    "grid = [] \n",
    "for block_num in train_raw['date_block_num'].unique():\n",
    "    cur_shops = train_raw[train_raw['date_block_num'] == block_num]['shop_id'].unique()\n",
    "    cur_items = train_raw[train_raw['date_block_num'] == block_num]['item_id'].unique()\n",
    "    grid.append(np.array(list(product(*[cur_shops, cur_items, [block_num]])), dtype='int32'))\n",
    "\n",
    "# turn the grid into pandas dataframe\n",
    "grid = pd.DataFrame(np.vstack(grid), columns = index_cols,dtype=np.int32)\n",
    "\n",
    "# get aggregated values for (shop_id, item_id, month)\n",
    "monthly_aggregated_values = (\n",
    "    train_raw\n",
    "    .groupby([\"date_block_num\", \"shop_id\", \"item_id\"], as_index=False)\n",
    "    .agg(item_price_sum=(\"item_price\", \"sum\"), \n",
    "         item_price_mean=(\"item_price\", \"mean\"), \n",
    "         item_cnt_month=(\"item_cnt_day\", \"sum\"),\n",
    "         item_cnt_mean=(\"item_cnt_day\", \"mean\"),\n",
    "         item_cnt_count=(\"item_cnt_day\", \"count\"),\n",
    "        )\n",
    ")\n",
    "\n",
    "# add the raw data to the grid\n",
    "train = pd.merge(grid, train_raw, how='left', on=index_cols)\n",
    "print(train.shape)\n",
    "\n",
    "# join aggregated data to the grid\n",
    "train = pd.merge(train, monthly_aggregated_values, how=\"left\", on=index_cols)\n",
    "print(train.shape)\n",
    "\n",
    "# sort the data\n",
    "train = train.sort_values([\"date_block_num\", \"shop_id\", \"item_id\"]).fillna(0)"
   ]
  },
  {
   "cell_type": "code",
   "execution_count": 152,
   "metadata": {
    "ExecuteTime": {
     "end_time": "2022-04-22T09:52:16.569086Z",
     "start_time": "2022-04-22T09:52:16.541095Z"
    }
   },
   "outputs": [
    {
     "data": {
      "text/html": [
       "<div>\n",
       "<style scoped>\n",
       "    .dataframe tbody tr th:only-of-type {\n",
       "        vertical-align: middle;\n",
       "    }\n",
       "\n",
       "    .dataframe tbody tr th {\n",
       "        vertical-align: top;\n",
       "    }\n",
       "\n",
       "    .dataframe thead th {\n",
       "        text-align: right;\n",
       "    }\n",
       "</style>\n",
       "<table border=\"1\" class=\"dataframe\">\n",
       "  <thead>\n",
       "    <tr style=\"text-align: right;\">\n",
       "      <th></th>\n",
       "      <th>shop_id</th>\n",
       "      <th>item_id</th>\n",
       "      <th>date_block_num</th>\n",
       "      <th>date</th>\n",
       "      <th>item_price</th>\n",
       "      <th>item_cnt_day</th>\n",
       "      <th>item_price_sum</th>\n",
       "      <th>item_price_mean</th>\n",
       "      <th>item_cnt_month</th>\n",
       "      <th>item_cnt_mean</th>\n",
       "      <th>item_cnt_count</th>\n",
       "    </tr>\n",
       "  </thead>\n",
       "  <tbody>\n",
       "    <tr>\n",
       "      <th>161232</th>\n",
       "      <td>0</td>\n",
       "      <td>19</td>\n",
       "      <td>0</td>\n",
       "      <td>0</td>\n",
       "      <td>0.0</td>\n",
       "      <td>0.0</td>\n",
       "      <td>0.0</td>\n",
       "      <td>0.0</td>\n",
       "      <td>0.0</td>\n",
       "      <td>0.0</td>\n",
       "      <td>0.0</td>\n",
       "    </tr>\n",
       "    <tr>\n",
       "      <th>164407</th>\n",
       "      <td>0</td>\n",
       "      <td>27</td>\n",
       "      <td>0</td>\n",
       "      <td>0</td>\n",
       "      <td>0.0</td>\n",
       "      <td>0.0</td>\n",
       "      <td>0.0</td>\n",
       "      <td>0.0</td>\n",
       "      <td>0.0</td>\n",
       "      <td>0.0</td>\n",
       "      <td>0.0</td>\n",
       "    </tr>\n",
       "    <tr>\n",
       "      <th>168104</th>\n",
       "      <td>0</td>\n",
       "      <td>28</td>\n",
       "      <td>0</td>\n",
       "      <td>0</td>\n",
       "      <td>0.0</td>\n",
       "      <td>0.0</td>\n",
       "      <td>0.0</td>\n",
       "      <td>0.0</td>\n",
       "      <td>0.0</td>\n",
       "      <td>0.0</td>\n",
       "      <td>0.0</td>\n",
       "    </tr>\n",
       "    <tr>\n",
       "      <th>165681</th>\n",
       "      <td>0</td>\n",
       "      <td>29</td>\n",
       "      <td>0</td>\n",
       "      <td>0</td>\n",
       "      <td>0.0</td>\n",
       "      <td>0.0</td>\n",
       "      <td>0.0</td>\n",
       "      <td>0.0</td>\n",
       "      <td>0.0</td>\n",
       "      <td>0.0</td>\n",
       "      <td>0.0</td>\n",
       "    </tr>\n",
       "    <tr>\n",
       "      <th>160753</th>\n",
       "      <td>0</td>\n",
       "      <td>32</td>\n",
       "      <td>0</td>\n",
       "      <td>03.01.2013</td>\n",
       "      <td>221.0</td>\n",
       "      <td>2.0</td>\n",
       "      <td>884.0</td>\n",
       "      <td>221.0</td>\n",
       "      <td>6.0</td>\n",
       "      <td>1.5</td>\n",
       "      <td>4.0</td>\n",
       "    </tr>\n",
       "    <tr>\n",
       "      <th>...</th>\n",
       "      <td>...</td>\n",
       "      <td>...</td>\n",
       "      <td>...</td>\n",
       "      <td>...</td>\n",
       "      <td>...</td>\n",
       "      <td>...</td>\n",
       "      <td>...</td>\n",
       "      <td>...</td>\n",
       "      <td>...</td>\n",
       "      <td>...</td>\n",
       "      <td>...</td>\n",
       "    </tr>\n",
       "    <tr>\n",
       "      <th>12083586</th>\n",
       "      <td>59</td>\n",
       "      <td>22162</td>\n",
       "      <td>33</td>\n",
       "      <td>0</td>\n",
       "      <td>0.0</td>\n",
       "      <td>0.0</td>\n",
       "      <td>0.0</td>\n",
       "      <td>0.0</td>\n",
       "      <td>0.0</td>\n",
       "      <td>0.0</td>\n",
       "      <td>0.0</td>\n",
       "    </tr>\n",
       "    <tr>\n",
       "      <th>12083776</th>\n",
       "      <td>59</td>\n",
       "      <td>22163</td>\n",
       "      <td>33</td>\n",
       "      <td>0</td>\n",
       "      <td>0.0</td>\n",
       "      <td>0.0</td>\n",
       "      <td>0.0</td>\n",
       "      <td>0.0</td>\n",
       "      <td>0.0</td>\n",
       "      <td>0.0</td>\n",
       "      <td>0.0</td>\n",
       "    </tr>\n",
       "    <tr>\n",
       "      <th>12084447</th>\n",
       "      <td>59</td>\n",
       "      <td>22164</td>\n",
       "      <td>33</td>\n",
       "      <td>0</td>\n",
       "      <td>0.0</td>\n",
       "      <td>0.0</td>\n",
       "      <td>0.0</td>\n",
       "      <td>0.0</td>\n",
       "      <td>0.0</td>\n",
       "      <td>0.0</td>\n",
       "      <td>0.0</td>\n",
       "    </tr>\n",
       "    <tr>\n",
       "      <th>12085981</th>\n",
       "      <td>59</td>\n",
       "      <td>22166</td>\n",
       "      <td>33</td>\n",
       "      <td>0</td>\n",
       "      <td>0.0</td>\n",
       "      <td>0.0</td>\n",
       "      <td>0.0</td>\n",
       "      <td>0.0</td>\n",
       "      <td>0.0</td>\n",
       "      <td>0.0</td>\n",
       "      <td>0.0</td>\n",
       "    </tr>\n",
       "    <tr>\n",
       "      <th>12085275</th>\n",
       "      <td>59</td>\n",
       "      <td>22167</td>\n",
       "      <td>33</td>\n",
       "      <td>0</td>\n",
       "      <td>0.0</td>\n",
       "      <td>0.0</td>\n",
       "      <td>0.0</td>\n",
       "      <td>0.0</td>\n",
       "      <td>0.0</td>\n",
       "      <td>0.0</td>\n",
       "      <td>0.0</td>\n",
       "    </tr>\n",
       "  </tbody>\n",
       "</table>\n",
       "<p>12240575 rows × 11 columns</p>\n",
       "</div>"
      ],
      "text/plain": [
       "          shop_id  item_id  date_block_num        date  item_price  \\\n",
       "161232          0       19               0           0         0.0   \n",
       "164407          0       27               0           0         0.0   \n",
       "168104          0       28               0           0         0.0   \n",
       "165681          0       29               0           0         0.0   \n",
       "160753          0       32               0  03.01.2013       221.0   \n",
       "...           ...      ...             ...         ...         ...   \n",
       "12083586       59    22162              33           0         0.0   \n",
       "12083776       59    22163              33           0         0.0   \n",
       "12084447       59    22164              33           0         0.0   \n",
       "12085981       59    22166              33           0         0.0   \n",
       "12085275       59    22167              33           0         0.0   \n",
       "\n",
       "          item_cnt_day  item_price_sum  item_price_mean  item_cnt_month  \\\n",
       "161232             0.0             0.0              0.0             0.0   \n",
       "164407             0.0             0.0              0.0             0.0   \n",
       "168104             0.0             0.0              0.0             0.0   \n",
       "165681             0.0             0.0              0.0             0.0   \n",
       "160753             2.0           884.0            221.0             6.0   \n",
       "...                ...             ...              ...             ...   \n",
       "12083586           0.0             0.0              0.0             0.0   \n",
       "12083776           0.0             0.0              0.0             0.0   \n",
       "12084447           0.0             0.0              0.0             0.0   \n",
       "12085981           0.0             0.0              0.0             0.0   \n",
       "12085275           0.0             0.0              0.0             0.0   \n",
       "\n",
       "          item_cnt_mean  item_cnt_count  \n",
       "161232              0.0             0.0  \n",
       "164407              0.0             0.0  \n",
       "168104              0.0             0.0  \n",
       "165681              0.0             0.0  \n",
       "160753              1.5             4.0  \n",
       "...                 ...             ...  \n",
       "12083586            0.0             0.0  \n",
       "12083776            0.0             0.0  \n",
       "12084447            0.0             0.0  \n",
       "12085981            0.0             0.0  \n",
       "12085275            0.0             0.0  \n",
       "\n",
       "[12240575 rows x 11 columns]"
      ]
     },
     "execution_count": 152,
     "metadata": {},
     "output_type": "execute_result"
    }
   ],
   "source": [
    "train"
   ]
  },
  {
   "cell_type": "markdown",
   "metadata": {},
   "source": [
    "### merge with supplemental data"
   ]
  },
  {
   "cell_type": "markdown",
   "metadata": {},
   "source": [
    "#### item names + item categories"
   ]
  },
  {
   "cell_type": "code",
   "execution_count": 153,
   "metadata": {
    "ExecuteTime": {
     "end_time": "2022-04-22T09:52:16.585033Z",
     "start_time": "2022-04-22T09:52:16.571086Z"
    }
   },
   "outputs": [
    {
     "data": {
      "text/html": [
       "<div>\n",
       "<style scoped>\n",
       "    .dataframe tbody tr th:only-of-type {\n",
       "        vertical-align: middle;\n",
       "    }\n",
       "\n",
       "    .dataframe tbody tr th {\n",
       "        vertical-align: top;\n",
       "    }\n",
       "\n",
       "    .dataframe thead th {\n",
       "        text-align: right;\n",
       "    }\n",
       "</style>\n",
       "<table border=\"1\" class=\"dataframe\">\n",
       "  <thead>\n",
       "    <tr style=\"text-align: right;\">\n",
       "      <th></th>\n",
       "      <th>item_name</th>\n",
       "      <th>item_id</th>\n",
       "      <th>item_category_id</th>\n",
       "    </tr>\n",
       "  </thead>\n",
       "  <tbody>\n",
       "    <tr>\n",
       "      <th>0</th>\n",
       "      <td>! ВО ВЛАСТИ НАВАЖДЕНИЯ (ПЛАСТ.)         D</td>\n",
       "      <td>0</td>\n",
       "      <td>40</td>\n",
       "    </tr>\n",
       "    <tr>\n",
       "      <th>1</th>\n",
       "      <td>!ABBYY FineReader 12 Professional Edition Full...</td>\n",
       "      <td>1</td>\n",
       "      <td>76</td>\n",
       "    </tr>\n",
       "  </tbody>\n",
       "</table>\n",
       "</div>"
      ],
      "text/plain": [
       "                                           item_name  item_id  \\\n",
       "0          ! ВО ВЛАСТИ НАВАЖДЕНИЯ (ПЛАСТ.)         D        0   \n",
       "1  !ABBYY FineReader 12 Professional Edition Full...        1   \n",
       "\n",
       "   item_category_id  \n",
       "0                40  \n",
       "1                76  "
      ]
     },
     "execution_count": 153,
     "metadata": {},
     "output_type": "execute_result"
    }
   ],
   "source": [
    "items.head(2)"
   ]
  },
  {
   "cell_type": "code",
   "execution_count": 154,
   "metadata": {
    "ExecuteTime": {
     "end_time": "2022-04-22T09:52:21.344087Z",
     "start_time": "2022-04-22T09:52:16.588098Z"
    }
   },
   "outputs": [],
   "source": [
    "# train = pd.merge(item_cnt_month, items, on=\"item_id\")\n",
    "train = pd.merge(train, items, on=\"item_id\")"
   ]
  },
  {
   "cell_type": "code",
   "execution_count": 155,
   "metadata": {
    "ExecuteTime": {
     "end_time": "2022-04-22T09:52:21.360086Z",
     "start_time": "2022-04-22T09:52:21.347087Z"
    }
   },
   "outputs": [],
   "source": [
    "# test = pd.merge(test_raw, items, on=\"item_id\")"
   ]
  },
  {
   "cell_type": "markdown",
   "metadata": {},
   "source": [
    "#### item prices"
   ]
  },
  {
   "cell_type": "code",
   "execution_count": 156,
   "metadata": {
    "ExecuteTime": {
     "end_time": "2022-04-22T09:52:29.973932Z",
     "start_time": "2022-04-22T09:52:21.362085Z"
    }
   },
   "outputs": [],
   "source": [
    "# we assume static prices for now\n",
    "item_id_price_df = train_raw[[\"item_id\", \"item_price\"]].drop_duplicates()\n",
    "item_id_to_price_dict = {row[\"item_id\"]: row[\"item_price\"] for _, row in item_id_price_df.iterrows()}"
   ]
  },
  {
   "cell_type": "code",
   "execution_count": 157,
   "metadata": {
    "ExecuteTime": {
     "end_time": "2022-04-22T09:52:29.988933Z",
     "start_time": "2022-04-22T09:52:29.975931Z"
    }
   },
   "outputs": [],
   "source": [
    "# add the item price\n",
    "# train[\"item_price\"] = train[\"item_id\"].map(item_id_to_price_dict)\n",
    "# test[\"item_price\"] = test[\"item_id\"].map(item_id_to_price_dict)"
   ]
  },
  {
   "cell_type": "code",
   "execution_count": 158,
   "metadata": {
    "ExecuteTime": {
     "end_time": "2022-04-22T09:52:30.004931Z",
     "start_time": "2022-04-22T09:52:29.990932Z"
    }
   },
   "outputs": [],
   "source": [
    "# deal with NaNs\n",
    "# train[\"item_price\"] = train[\"item_price\"].fillna(train[\"item_price\"].median())\n",
    "# test[\"item_price\"] = test[\"item_price\"].fillna(test[\"item_price\"].median())"
   ]
  },
  {
   "cell_type": "code",
   "execution_count": null,
   "metadata": {},
   "outputs": [],
   "source": []
  },
  {
   "cell_type": "markdown",
   "metadata": {},
   "source": [
    "#### item category names"
   ]
  },
  {
   "cell_type": "code",
   "execution_count": 159,
   "metadata": {
    "ExecuteTime": {
     "end_time": "2022-04-22T09:52:30.019938Z",
     "start_time": "2022-04-22T09:52:30.006931Z"
    }
   },
   "outputs": [
    {
     "data": {
      "text/html": [
       "<div>\n",
       "<style scoped>\n",
       "    .dataframe tbody tr th:only-of-type {\n",
       "        vertical-align: middle;\n",
       "    }\n",
       "\n",
       "    .dataframe tbody tr th {\n",
       "        vertical-align: top;\n",
       "    }\n",
       "\n",
       "    .dataframe thead th {\n",
       "        text-align: right;\n",
       "    }\n",
       "</style>\n",
       "<table border=\"1\" class=\"dataframe\">\n",
       "  <thead>\n",
       "    <tr style=\"text-align: right;\">\n",
       "      <th></th>\n",
       "      <th>item_category_name</th>\n",
       "      <th>item_category_id</th>\n",
       "    </tr>\n",
       "  </thead>\n",
       "  <tbody>\n",
       "    <tr>\n",
       "      <th>0</th>\n",
       "      <td>PC - Гарнитуры/Наушники</td>\n",
       "      <td>0</td>\n",
       "    </tr>\n",
       "    <tr>\n",
       "      <th>1</th>\n",
       "      <td>Аксессуары - PS2</td>\n",
       "      <td>1</td>\n",
       "    </tr>\n",
       "  </tbody>\n",
       "</table>\n",
       "</div>"
      ],
      "text/plain": [
       "        item_category_name  item_category_id\n",
       "0  PC - Гарнитуры/Наушники                 0\n",
       "1         Аксессуары - PS2                 1"
      ]
     },
     "execution_count": 159,
     "metadata": {},
     "output_type": "execute_result"
    }
   ],
   "source": [
    "item_categories.head(2)"
   ]
  },
  {
   "cell_type": "markdown",
   "metadata": {},
   "source": [
    "##### item category (main and subcategory) "
   ]
  },
  {
   "cell_type": "code",
   "execution_count": 160,
   "metadata": {
    "ExecuteTime": {
     "end_time": "2022-04-22T09:52:30.035932Z",
     "start_time": "2022-04-22T09:52:30.022932Z"
    }
   },
   "outputs": [],
   "source": [
    "item_categories[[\"main_category\", \"sub_category\"]] = item_categories[\"item_category_name\"].str.split(\" - \", expand=True)"
   ]
  },
  {
   "cell_type": "code",
   "execution_count": null,
   "metadata": {},
   "outputs": [],
   "source": []
  },
  {
   "cell_type": "code",
   "execution_count": 161,
   "metadata": {
    "ExecuteTime": {
     "end_time": "2022-04-22T09:52:33.167932Z",
     "start_time": "2022-04-22T09:52:30.038931Z"
    }
   },
   "outputs": [],
   "source": [
    "# item_category_name is probably not relevant\n",
    "train = pd.merge(train, item_categories, on=\"item_category_id\")\n",
    "# test = pd.merge(test, item_categories, on=\"item_category_id\")"
   ]
  },
  {
   "cell_type": "markdown",
   "metadata": {},
   "source": [
    "#### shop names"
   ]
  },
  {
   "cell_type": "code",
   "execution_count": 162,
   "metadata": {
    "ExecuteTime": {
     "end_time": "2022-04-22T09:52:33.183933Z",
     "start_time": "2022-04-22T09:52:33.170933Z"
    }
   },
   "outputs": [
    {
     "data": {
      "text/html": [
       "<div>\n",
       "<style scoped>\n",
       "    .dataframe tbody tr th:only-of-type {\n",
       "        vertical-align: middle;\n",
       "    }\n",
       "\n",
       "    .dataframe tbody tr th {\n",
       "        vertical-align: top;\n",
       "    }\n",
       "\n",
       "    .dataframe thead th {\n",
       "        text-align: right;\n",
       "    }\n",
       "</style>\n",
       "<table border=\"1\" class=\"dataframe\">\n",
       "  <thead>\n",
       "    <tr style=\"text-align: right;\">\n",
       "      <th></th>\n",
       "      <th>shop_name</th>\n",
       "      <th>shop_id</th>\n",
       "    </tr>\n",
       "  </thead>\n",
       "  <tbody>\n",
       "    <tr>\n",
       "      <th>0</th>\n",
       "      <td>!Якутск Орджоникидзе, 56 фран</td>\n",
       "      <td>0</td>\n",
       "    </tr>\n",
       "    <tr>\n",
       "      <th>1</th>\n",
       "      <td>!Якутск ТЦ \"Центральный\" фран</td>\n",
       "      <td>1</td>\n",
       "    </tr>\n",
       "  </tbody>\n",
       "</table>\n",
       "</div>"
      ],
      "text/plain": [
       "                       shop_name  shop_id\n",
       "0  !Якутск Орджоникидзе, 56 фран        0\n",
       "1  !Якутск ТЦ \"Центральный\" фран        1"
      ]
     },
     "execution_count": 162,
     "metadata": {},
     "output_type": "execute_result"
    }
   ],
   "source": [
    "shops.head(2)"
   ]
  },
  {
   "cell_type": "markdown",
   "metadata": {},
   "source": [
    "##### city"
   ]
  },
  {
   "cell_type": "code",
   "execution_count": 163,
   "metadata": {
    "ExecuteTime": {
     "end_time": "2022-04-22T09:52:33.199932Z",
     "start_time": "2022-04-22T09:52:33.185932Z"
    }
   },
   "outputs": [],
   "source": [
    "shops[\"city\"] = shops[\"shop_name\"].apply(lambda x: x.split(\" \")[0])"
   ]
  },
  {
   "cell_type": "code",
   "execution_count": 164,
   "metadata": {
    "ExecuteTime": {
     "end_time": "2022-04-22T09:52:40.343993Z",
     "start_time": "2022-04-22T09:52:33.202931Z"
    }
   },
   "outputs": [],
   "source": [
    "# shop name is probably not relevant\n",
    "train = pd.merge(train, shops, on=\"shop_id\")\n",
    "# test = pd.merge(test, shops, on=\"shop_id\")"
   ]
  },
  {
   "cell_type": "markdown",
   "metadata": {},
   "source": [
    "### add features"
   ]
  },
  {
   "cell_type": "markdown",
   "metadata": {},
   "source": [
    "#### target"
   ]
  },
  {
   "cell_type": "code",
   "execution_count": 165,
   "metadata": {
    "ExecuteTime": {
     "end_time": "2022-04-22T09:52:42.003955Z",
     "start_time": "2022-04-22T09:52:40.346986Z"
    }
   },
   "outputs": [],
   "source": [
    "# we want to predict the sales for the next month\n",
    "train[\"target\"] = train.groupby(by=[\"shop_id\", \"item_id\"])[\"item_cnt_month\"].shift(-1)"
   ]
  },
  {
   "cell_type": "markdown",
   "metadata": {},
   "source": [
    "#### revenue per shop"
   ]
  },
  {
   "cell_type": "code",
   "execution_count": 166,
   "metadata": {
    "ExecuteTime": {
     "end_time": "2022-04-22T09:52:42.019940Z",
     "start_time": "2022-04-22T09:52:42.005932Z"
    }
   },
   "outputs": [],
   "source": [
    "# train[\"revenue\"] = train[\"item_price\"] * train[\"item_cnt_month\"]"
   ]
  },
  {
   "cell_type": "markdown",
   "metadata": {},
   "source": [
    "#### revenue per item"
   ]
  },
  {
   "cell_type": "code",
   "execution_count": null,
   "metadata": {},
   "outputs": [],
   "source": []
  },
  {
   "cell_type": "code",
   "execution_count": null,
   "metadata": {},
   "outputs": [],
   "source": []
  },
  {
   "cell_type": "markdown",
   "metadata": {},
   "source": [
    "#### item category (main and subcategory)"
   ]
  },
  {
   "cell_type": "code",
   "execution_count": 167,
   "metadata": {
    "ExecuteTime": {
     "end_time": "2022-04-22T09:52:42.035932Z",
     "start_time": "2022-04-22T09:52:42.021931Z"
    }
   },
   "outputs": [],
   "source": [
    "# train[[\"main_category\", \"sub_category\"]] = train[\"item_category_name\"].str.split(\" - \", expand=True)\n",
    "# test[[\"main_category\", \"sub_category\"]] = test[\"item_category_name\"].str.split(\" - \", expand=True)"
   ]
  },
  {
   "cell_type": "code",
   "execution_count": null,
   "metadata": {},
   "outputs": [],
   "source": []
  },
  {
   "cell_type": "markdown",
   "metadata": {},
   "source": [
    "#### city"
   ]
  },
  {
   "cell_type": "code",
   "execution_count": 168,
   "metadata": {
    "ExecuteTime": {
     "end_time": "2022-04-22T09:52:42.051932Z",
     "start_time": "2022-04-22T09:52:42.037932Z"
    }
   },
   "outputs": [],
   "source": [
    "# train[\"city\"] = train[\"shop_name\"].apply(lambda x: x.split(\" \")[0])\n",
    "# test[\"city\"] = test[\"shop_name\"].apply(lambda x: x.split(\" \")[0])"
   ]
  },
  {
   "cell_type": "code",
   "execution_count": null,
   "metadata": {},
   "outputs": [],
   "source": []
  },
  {
   "cell_type": "markdown",
   "metadata": {},
   "source": [
    "#### lag features"
   ]
  },
  {
   "cell_type": "code",
   "execution_count": 169,
   "metadata": {
    "ExecuteTime": {
     "end_time": "2022-04-22T09:52:42.067983Z",
     "start_time": "2022-04-22T09:52:42.053932Z"
    }
   },
   "outputs": [],
   "source": [
    "# (df[NUMERIC_COLUMN] - df.groupby(DATE_COLUMN)[NUMERIC_COLUMN].shift(-1)) and agg features (df.groupby(DATE_COLUMN)"
   ]
  },
  {
   "cell_type": "code",
   "execution_count": 170,
   "metadata": {
    "ExecuteTime": {
     "end_time": "2022-04-22T09:52:48.527985Z",
     "start_time": "2022-04-22T09:52:42.069931Z"
    }
   },
   "outputs": [],
   "source": [
    "# get the data from the previous months\n",
    "for n_months in range(1, 4):\n",
    "    feature_name = f'item_cnt_month_{n_months}'\n",
    "    train[feature_name] = (\n",
    "        train.groupby(['shop_id', 'item_category_id', 'item_id'])['item_cnt_month'].shift(n_months)\n",
    "    )"
   ]
  },
  {
   "cell_type": "code",
   "execution_count": 171,
   "metadata": {
    "ExecuteTime": {
     "end_time": "2022-04-22T09:52:48.543933Z",
     "start_time": "2022-04-22T09:52:48.529933Z"
    }
   },
   "outputs": [],
   "source": [
    "# (df[NUMERIC_COLUMN] - df.groupby(DATE_COLUMN)[NUMERIC_COLUMN].shift(-1)) and agg features (df.groupby(DATE_COLUMN)"
   ]
  },
  {
   "cell_type": "code",
   "execution_count": 172,
   "metadata": {
    "ExecuteTime": {
     "end_time": "2022-04-22T09:52:48.559933Z",
     "start_time": "2022-04-22T09:52:48.546932Z"
    }
   },
   "outputs": [],
   "source": [
    "# get the difference from the previous months\n",
    "# for n_months in range(1, 4):\n",
    "#     feature_name = f'item_cnt_month_{n_months}'\n",
    "#     train[feature_name] = (\n",
    "#         train.groupby(['shop_id', 'item_category_id', 'item_id'])['item_cnt_month'].shift(n_months)\n",
    "#     )"
   ]
  },
  {
   "cell_type": "code",
   "execution_count": 173,
   "metadata": {
    "ExecuteTime": {
     "end_time": "2022-04-22T09:52:56.086019Z",
     "start_time": "2022-04-22T09:52:48.561933Z"
    }
   },
   "outputs": [
    {
     "data": {
      "text/html": [
       "<div>\n",
       "<style scoped>\n",
       "    .dataframe tbody tr th:only-of-type {\n",
       "        vertical-align: middle;\n",
       "    }\n",
       "\n",
       "    .dataframe tbody tr th {\n",
       "        vertical-align: top;\n",
       "    }\n",
       "\n",
       "    .dataframe thead th {\n",
       "        text-align: right;\n",
       "    }\n",
       "</style>\n",
       "<table border=\"1\" class=\"dataframe\">\n",
       "  <thead>\n",
       "    <tr style=\"text-align: right;\">\n",
       "      <th></th>\n",
       "      <th>shop_id</th>\n",
       "      <th>item_id</th>\n",
       "      <th>date_block_num</th>\n",
       "      <th>date</th>\n",
       "      <th>item_price</th>\n",
       "      <th>item_cnt_day</th>\n",
       "      <th>item_price_sum</th>\n",
       "      <th>item_price_mean</th>\n",
       "      <th>item_cnt_month</th>\n",
       "      <th>item_cnt_mean</th>\n",
       "      <th>...</th>\n",
       "      <th>item_category_id</th>\n",
       "      <th>item_category_name</th>\n",
       "      <th>main_category</th>\n",
       "      <th>sub_category</th>\n",
       "      <th>shop_name</th>\n",
       "      <th>city</th>\n",
       "      <th>target</th>\n",
       "      <th>item_cnt_month_1</th>\n",
       "      <th>item_cnt_month_2</th>\n",
       "      <th>item_cnt_month_3</th>\n",
       "    </tr>\n",
       "  </thead>\n",
       "  <tbody>\n",
       "    <tr>\n",
       "      <th>0</th>\n",
       "      <td>0</td>\n",
       "      <td>19</td>\n",
       "      <td>0</td>\n",
       "      <td>0</td>\n",
       "      <td>0.0</td>\n",
       "      <td>0.0</td>\n",
       "      <td>0.0</td>\n",
       "      <td>0.0</td>\n",
       "      <td>0.0</td>\n",
       "      <td>0.0</td>\n",
       "      <td>...</td>\n",
       "      <td>40</td>\n",
       "      <td>Кино - DVD</td>\n",
       "      <td>Кино</td>\n",
       "      <td>DVD</td>\n",
       "      <td>!Якутск Орджоникидзе, 56 фран</td>\n",
       "      <td>!Якутск</td>\n",
       "      <td>NaN</td>\n",
       "      <td>NaN</td>\n",
       "      <td>NaN</td>\n",
       "      <td>NaN</td>\n",
       "    </tr>\n",
       "    <tr>\n",
       "      <th>1</th>\n",
       "      <td>0</td>\n",
       "      <td>32</td>\n",
       "      <td>0</td>\n",
       "      <td>03.01.2013</td>\n",
       "      <td>221.0</td>\n",
       "      <td>2.0</td>\n",
       "      <td>884.0</td>\n",
       "      <td>221.0</td>\n",
       "      <td>6.0</td>\n",
       "      <td>1.5</td>\n",
       "      <td>...</td>\n",
       "      <td>40</td>\n",
       "      <td>Кино - DVD</td>\n",
       "      <td>Кино</td>\n",
       "      <td>DVD</td>\n",
       "      <td>!Якутск Орджоникидзе, 56 фран</td>\n",
       "      <td>!Якутск</td>\n",
       "      <td>6.0</td>\n",
       "      <td>NaN</td>\n",
       "      <td>NaN</td>\n",
       "      <td>NaN</td>\n",
       "    </tr>\n",
       "    <tr>\n",
       "      <th>2</th>\n",
       "      <td>0</td>\n",
       "      <td>32</td>\n",
       "      <td>0</td>\n",
       "      <td>21.01.2013</td>\n",
       "      <td>221.0</td>\n",
       "      <td>2.0</td>\n",
       "      <td>884.0</td>\n",
       "      <td>221.0</td>\n",
       "      <td>6.0</td>\n",
       "      <td>1.5</td>\n",
       "      <td>...</td>\n",
       "      <td>40</td>\n",
       "      <td>Кино - DVD</td>\n",
       "      <td>Кино</td>\n",
       "      <td>DVD</td>\n",
       "      <td>!Якутск Орджоникидзе, 56 фран</td>\n",
       "      <td>!Якутск</td>\n",
       "      <td>6.0</td>\n",
       "      <td>6.0</td>\n",
       "      <td>NaN</td>\n",
       "      <td>NaN</td>\n",
       "    </tr>\n",
       "    <tr>\n",
       "      <th>3</th>\n",
       "      <td>0</td>\n",
       "      <td>32</td>\n",
       "      <td>0</td>\n",
       "      <td>25.01.2013</td>\n",
       "      <td>221.0</td>\n",
       "      <td>1.0</td>\n",
       "      <td>884.0</td>\n",
       "      <td>221.0</td>\n",
       "      <td>6.0</td>\n",
       "      <td>1.5</td>\n",
       "      <td>...</td>\n",
       "      <td>40</td>\n",
       "      <td>Кино - DVD</td>\n",
       "      <td>Кино</td>\n",
       "      <td>DVD</td>\n",
       "      <td>!Якутск Орджоникидзе, 56 фран</td>\n",
       "      <td>!Якутск</td>\n",
       "      <td>6.0</td>\n",
       "      <td>6.0</td>\n",
       "      <td>6.0</td>\n",
       "      <td>NaN</td>\n",
       "    </tr>\n",
       "    <tr>\n",
       "      <th>4</th>\n",
       "      <td>0</td>\n",
       "      <td>32</td>\n",
       "      <td>0</td>\n",
       "      <td>31.01.2013</td>\n",
       "      <td>221.0</td>\n",
       "      <td>1.0</td>\n",
       "      <td>884.0</td>\n",
       "      <td>221.0</td>\n",
       "      <td>6.0</td>\n",
       "      <td>1.5</td>\n",
       "      <td>...</td>\n",
       "      <td>40</td>\n",
       "      <td>Кино - DVD</td>\n",
       "      <td>Кино</td>\n",
       "      <td>DVD</td>\n",
       "      <td>!Якутск Орджоникидзе, 56 фран</td>\n",
       "      <td>!Якутск</td>\n",
       "      <td>10.0</td>\n",
       "      <td>6.0</td>\n",
       "      <td>6.0</td>\n",
       "      <td>6.0</td>\n",
       "    </tr>\n",
       "    <tr>\n",
       "      <th>...</th>\n",
       "      <td>...</td>\n",
       "      <td>...</td>\n",
       "      <td>...</td>\n",
       "      <td>...</td>\n",
       "      <td>...</td>\n",
       "      <td>...</td>\n",
       "      <td>...</td>\n",
       "      <td>...</td>\n",
       "      <td>...</td>\n",
       "      <td>...</td>\n",
       "      <td>...</td>\n",
       "      <td>...</td>\n",
       "      <td>...</td>\n",
       "      <td>...</td>\n",
       "      <td>...</td>\n",
       "      <td>...</td>\n",
       "      <td>...</td>\n",
       "      <td>...</td>\n",
       "      <td>...</td>\n",
       "      <td>...</td>\n",
       "      <td>...</td>\n",
       "    </tr>\n",
       "    <tr>\n",
       "      <th>12240570</th>\n",
       "      <td>36</td>\n",
       "      <td>8546</td>\n",
       "      <td>33</td>\n",
       "      <td>28.10.2015</td>\n",
       "      <td>1234.0</td>\n",
       "      <td>1.0</td>\n",
       "      <td>2468.0</td>\n",
       "      <td>1234.0</td>\n",
       "      <td>2.0</td>\n",
       "      <td>1.0</td>\n",
       "      <td>...</td>\n",
       "      <td>42</td>\n",
       "      <td>Книги - Артбуки, энциклопедии</td>\n",
       "      <td>Книги</td>\n",
       "      <td>Артбуки, энциклопедии</td>\n",
       "      <td>Новосибирск ТРЦ \"Галерея Новосибирск\"</td>\n",
       "      <td>Новосибирск</td>\n",
       "      <td>2.0</td>\n",
       "      <td>NaN</td>\n",
       "      <td>NaN</td>\n",
       "      <td>NaN</td>\n",
       "    </tr>\n",
       "    <tr>\n",
       "      <th>12240571</th>\n",
       "      <td>36</td>\n",
       "      <td>8546</td>\n",
       "      <td>33</td>\n",
       "      <td>29.10.2015</td>\n",
       "      <td>1234.0</td>\n",
       "      <td>1.0</td>\n",
       "      <td>2468.0</td>\n",
       "      <td>1234.0</td>\n",
       "      <td>2.0</td>\n",
       "      <td>1.0</td>\n",
       "      <td>...</td>\n",
       "      <td>42</td>\n",
       "      <td>Книги - Артбуки, энциклопедии</td>\n",
       "      <td>Книги</td>\n",
       "      <td>Артбуки, энциклопедии</td>\n",
       "      <td>Новосибирск ТРЦ \"Галерея Новосибирск\"</td>\n",
       "      <td>Новосибирск</td>\n",
       "      <td>NaN</td>\n",
       "      <td>2.0</td>\n",
       "      <td>NaN</td>\n",
       "      <td>NaN</td>\n",
       "    </tr>\n",
       "    <tr>\n",
       "      <th>12240572</th>\n",
       "      <td>36</td>\n",
       "      <td>13093</td>\n",
       "      <td>33</td>\n",
       "      <td>0</td>\n",
       "      <td>0.0</td>\n",
       "      <td>0.0</td>\n",
       "      <td>0.0</td>\n",
       "      <td>0.0</td>\n",
       "      <td>0.0</td>\n",
       "      <td>0.0</td>\n",
       "      <td>...</td>\n",
       "      <td>36</td>\n",
       "      <td>Карты оплаты - Windows (Цифра)</td>\n",
       "      <td>Карты оплаты</td>\n",
       "      <td>Windows (Цифра)</td>\n",
       "      <td>Новосибирск ТРЦ \"Галерея Новосибирск\"</td>\n",
       "      <td>Новосибирск</td>\n",
       "      <td>NaN</td>\n",
       "      <td>NaN</td>\n",
       "      <td>NaN</td>\n",
       "      <td>NaN</td>\n",
       "    </tr>\n",
       "    <tr>\n",
       "      <th>12240573</th>\n",
       "      <td>36</td>\n",
       "      <td>13095</td>\n",
       "      <td>33</td>\n",
       "      <td>0</td>\n",
       "      <td>0.0</td>\n",
       "      <td>0.0</td>\n",
       "      <td>0.0</td>\n",
       "      <td>0.0</td>\n",
       "      <td>0.0</td>\n",
       "      <td>0.0</td>\n",
       "      <td>...</td>\n",
       "      <td>36</td>\n",
       "      <td>Карты оплаты - Windows (Цифра)</td>\n",
       "      <td>Карты оплаты</td>\n",
       "      <td>Windows (Цифра)</td>\n",
       "      <td>Новосибирск ТРЦ \"Галерея Новосибирск\"</td>\n",
       "      <td>Новосибирск</td>\n",
       "      <td>NaN</td>\n",
       "      <td>NaN</td>\n",
       "      <td>NaN</td>\n",
       "      <td>NaN</td>\n",
       "    </tr>\n",
       "    <tr>\n",
       "      <th>12240574</th>\n",
       "      <td>36</td>\n",
       "      <td>13092</td>\n",
       "      <td>33</td>\n",
       "      <td>0</td>\n",
       "      <td>0.0</td>\n",
       "      <td>0.0</td>\n",
       "      <td>0.0</td>\n",
       "      <td>0.0</td>\n",
       "      <td>0.0</td>\n",
       "      <td>0.0</td>\n",
       "      <td>...</td>\n",
       "      <td>36</td>\n",
       "      <td>Карты оплаты - Windows (Цифра)</td>\n",
       "      <td>Карты оплаты</td>\n",
       "      <td>Windows (Цифра)</td>\n",
       "      <td>Новосибирск ТРЦ \"Галерея Новосибирск\"</td>\n",
       "      <td>Новосибирск</td>\n",
       "      <td>NaN</td>\n",
       "      <td>NaN</td>\n",
       "      <td>NaN</td>\n",
       "      <td>NaN</td>\n",
       "    </tr>\n",
       "  </tbody>\n",
       "</table>\n",
       "<p>12240575 rows × 22 columns</p>\n",
       "</div>"
      ],
      "text/plain": [
       "          shop_id  item_id  date_block_num        date  item_price  \\\n",
       "0               0       19               0           0         0.0   \n",
       "1               0       32               0  03.01.2013       221.0   \n",
       "2               0       32               0  21.01.2013       221.0   \n",
       "3               0       32               0  25.01.2013       221.0   \n",
       "4               0       32               0  31.01.2013       221.0   \n",
       "...           ...      ...             ...         ...         ...   \n",
       "12240570       36     8546              33  28.10.2015      1234.0   \n",
       "12240571       36     8546              33  29.10.2015      1234.0   \n",
       "12240572       36    13093              33           0         0.0   \n",
       "12240573       36    13095              33           0         0.0   \n",
       "12240574       36    13092              33           0         0.0   \n",
       "\n",
       "          item_cnt_day  item_price_sum  item_price_mean  item_cnt_month  \\\n",
       "0                  0.0             0.0              0.0             0.0   \n",
       "1                  2.0           884.0            221.0             6.0   \n",
       "2                  2.0           884.0            221.0             6.0   \n",
       "3                  1.0           884.0            221.0             6.0   \n",
       "4                  1.0           884.0            221.0             6.0   \n",
       "...                ...             ...              ...             ...   \n",
       "12240570           1.0          2468.0           1234.0             2.0   \n",
       "12240571           1.0          2468.0           1234.0             2.0   \n",
       "12240572           0.0             0.0              0.0             0.0   \n",
       "12240573           0.0             0.0              0.0             0.0   \n",
       "12240574           0.0             0.0              0.0             0.0   \n",
       "\n",
       "          item_cnt_mean  ...  item_category_id  \\\n",
       "0                   0.0  ...                40   \n",
       "1                   1.5  ...                40   \n",
       "2                   1.5  ...                40   \n",
       "3                   1.5  ...                40   \n",
       "4                   1.5  ...                40   \n",
       "...                 ...  ...               ...   \n",
       "12240570            1.0  ...                42   \n",
       "12240571            1.0  ...                42   \n",
       "12240572            0.0  ...                36   \n",
       "12240573            0.0  ...                36   \n",
       "12240574            0.0  ...                36   \n",
       "\n",
       "                      item_category_name  main_category  \\\n",
       "0                             Кино - DVD           Кино   \n",
       "1                             Кино - DVD           Кино   \n",
       "2                             Кино - DVD           Кино   \n",
       "3                             Кино - DVD           Кино   \n",
       "4                             Кино - DVD           Кино   \n",
       "...                                  ...            ...   \n",
       "12240570   Книги - Артбуки, энциклопедии          Книги   \n",
       "12240571   Книги - Артбуки, энциклопедии          Книги   \n",
       "12240572  Карты оплаты - Windows (Цифра)   Карты оплаты   \n",
       "12240573  Карты оплаты - Windows (Цифра)   Карты оплаты   \n",
       "12240574  Карты оплаты - Windows (Цифра)   Карты оплаты   \n",
       "\n",
       "                   sub_category                              shop_name  \\\n",
       "0                           DVD          !Якутск Орджоникидзе, 56 фран   \n",
       "1                           DVD          !Якутск Орджоникидзе, 56 фран   \n",
       "2                           DVD          !Якутск Орджоникидзе, 56 фран   \n",
       "3                           DVD          !Якутск Орджоникидзе, 56 фран   \n",
       "4                           DVD          !Якутск Орджоникидзе, 56 фран   \n",
       "...                         ...                                    ...   \n",
       "12240570  Артбуки, энциклопедии  Новосибирск ТРЦ \"Галерея Новосибирск\"   \n",
       "12240571  Артбуки, энциклопедии  Новосибирск ТРЦ \"Галерея Новосибирск\"   \n",
       "12240572        Windows (Цифра)  Новосибирск ТРЦ \"Галерея Новосибирск\"   \n",
       "12240573        Windows (Цифра)  Новосибирск ТРЦ \"Галерея Новосибирск\"   \n",
       "12240574        Windows (Цифра)  Новосибирск ТРЦ \"Галерея Новосибирск\"   \n",
       "\n",
       "                 city target item_cnt_month_1  item_cnt_month_2  \\\n",
       "0             !Якутск    NaN              NaN               NaN   \n",
       "1             !Якутск    6.0              NaN               NaN   \n",
       "2             !Якутск    6.0              6.0               NaN   \n",
       "3             !Якутск    6.0              6.0               6.0   \n",
       "4             !Якутск   10.0              6.0               6.0   \n",
       "...               ...    ...              ...               ...   \n",
       "12240570  Новосибирск    2.0              NaN               NaN   \n",
       "12240571  Новосибирск    NaN              2.0               NaN   \n",
       "12240572  Новосибирск    NaN              NaN               NaN   \n",
       "12240573  Новосибирск    NaN              NaN               NaN   \n",
       "12240574  Новосибирск    NaN              NaN               NaN   \n",
       "\n",
       "          item_cnt_month_3  \n",
       "0                      NaN  \n",
       "1                      NaN  \n",
       "2                      NaN  \n",
       "3                      NaN  \n",
       "4                      6.0  \n",
       "...                    ...  \n",
       "12240570               NaN  \n",
       "12240571               NaN  \n",
       "12240572               NaN  \n",
       "12240573               NaN  \n",
       "12240574               NaN  \n",
       "\n",
       "[12240575 rows x 22 columns]"
      ]
     },
     "execution_count": 173,
     "metadata": {},
     "output_type": "execute_result"
    }
   ],
   "source": [
    "train"
   ]
  },
  {
   "cell_type": "code",
   "execution_count": null,
   "metadata": {},
   "outputs": [],
   "source": []
  },
  {
   "cell_type": "markdown",
   "metadata": {},
   "source": [
    "#### mean encoded features"
   ]
  },
  {
   "cell_type": "markdown",
   "metadata": {},
   "source": [
    "##### shop mean"
   ]
  },
  {
   "cell_type": "code",
   "execution_count": 174,
   "metadata": {
    "ExecuteTime": {
     "end_time": "2022-04-22T09:52:56.575930Z",
     "start_time": "2022-04-22T09:52:56.088932Z"
    }
   },
   "outputs": [],
   "source": [
    "shop_mean = train.groupby(\"shop_id\").agg(shop_mean=(\"item_cnt_month\", \"mean\"))"
   ]
  },
  {
   "cell_type": "code",
   "execution_count": 175,
   "metadata": {
    "ExecuteTime": {
     "end_time": "2022-04-22T09:53:01.160943Z",
     "start_time": "2022-04-22T09:52:56.577932Z"
    }
   },
   "outputs": [],
   "source": [
    "train = pd.merge(train, shop_mean, how=\"left\", on=\"shop_id\")"
   ]
  },
  {
   "cell_type": "markdown",
   "metadata": {},
   "source": [
    "##### item mean"
   ]
  },
  {
   "cell_type": "code",
   "execution_count": 176,
   "metadata": {
    "ExecuteTime": {
     "end_time": "2022-04-22T09:53:01.708997Z",
     "start_time": "2022-04-22T09:53:01.162931Z"
    }
   },
   "outputs": [],
   "source": [
    "item_mean = train.groupby(\"item_id\").agg(item_mean=(\"item_cnt_month\", \"mean\"))"
   ]
  },
  {
   "cell_type": "code",
   "execution_count": 177,
   "metadata": {
    "ExecuteTime": {
     "end_time": "2022-04-22T09:53:07.870937Z",
     "start_time": "2022-04-22T09:53:01.710931Z"
    }
   },
   "outputs": [],
   "source": [
    "train = pd.merge(train, item_mean, how=\"left\", on=\"item_id\")"
   ]
  },
  {
   "cell_type": "code",
   "execution_count": null,
   "metadata": {},
   "outputs": [],
   "source": []
  },
  {
   "cell_type": "markdown",
   "metadata": {},
   "source": [
    "##### shop + item mean"
   ]
  },
  {
   "cell_type": "code",
   "execution_count": 178,
   "metadata": {
    "ExecuteTime": {
     "end_time": "2022-04-22T09:53:09.856948Z",
     "start_time": "2022-04-22T09:53:07.872931Z"
    }
   },
   "outputs": [],
   "source": [
    "shop_item_mean = train.groupby(by=[\"shop_id\", \"item_id\"]).agg(shop_item_mean=(\"item_cnt_month\", \"mean\"))"
   ]
  },
  {
   "cell_type": "code",
   "execution_count": 179,
   "metadata": {
    "ExecuteTime": {
     "end_time": "2022-04-22T09:53:16.278931Z",
     "start_time": "2022-04-22T09:53:09.859931Z"
    }
   },
   "outputs": [],
   "source": [
    "train = pd.merge(train, shop_item_mean, how=\"left\", on=[\"shop_id\", \"item_id\"])"
   ]
  },
  {
   "cell_type": "code",
   "execution_count": null,
   "metadata": {},
   "outputs": [],
   "source": []
  },
  {
   "cell_type": "markdown",
   "metadata": {},
   "source": [
    "### imputation, scaling, etc"
   ]
  },
  {
   "cell_type": "code",
   "execution_count": 180,
   "metadata": {
    "ExecuteTime": {
     "end_time": "2022-04-22T09:53:17.064781Z",
     "start_time": "2022-04-22T09:53:16.280932Z"
    }
   },
   "outputs": [],
   "source": [
    "from sklearn.impute import SimpleImputer\n",
    "from sklearn.preprocessing import OneHotEncoder, MinMaxScaler, OrdinalEncoder\n",
    "\n",
    "from sklearn.model_selection import train_test_split\n",
    "from sklearn.pipeline import Pipeline\n",
    "from sklearn.compose import ColumnTransformer"
   ]
  },
  {
   "cell_type": "markdown",
   "metadata": {},
   "source": [
    "#### split data"
   ]
  },
  {
   "cell_type": "code",
   "execution_count": 181,
   "metadata": {
    "ExecuteTime": {
     "end_time": "2022-04-22T09:53:26.448792Z",
     "start_time": "2022-04-22T09:53:17.066792Z"
    }
   },
   "outputs": [],
   "source": [
    "# drop duplicate data\n",
    "train = train.drop_duplicates(subset=[\"date_block_num\", \"shop_id\", \"item_id\"])"
   ]
  },
  {
   "cell_type": "code",
   "execution_count": 183,
   "metadata": {
    "ExecuteTime": {
     "end_time": "2022-04-22T09:53:29.331793Z",
     "start_time": "2022-04-22T09:53:26.656791Z"
    }
   },
   "outputs": [],
   "source": [
    "X_train = train.drop(\"target\", axis=1)\n",
    "y_train = train[[\"target\"]]"
   ]
  },
  {
   "cell_type": "code",
   "execution_count": null,
   "metadata": {},
   "outputs": [],
   "source": [
    "# test data is the data from the last month\n",
    "train_last_month = train[train[\"date_block_num\"] == 33]\n",
    "X_test = pd.merge(sales_test, train_last_month, on=[\"shop_id\", \"item_id\"], how=\"left\").drop(\"target\", axis=1)"
   ]
  },
  {
   "cell_type": "markdown",
   "metadata": {},
   "source": [
    "#### prepare pipeline"
   ]
  },
  {
   "cell_type": "code",
   "execution_count": 188,
   "metadata": {
    "ExecuteTime": {
     "end_time": "2022-04-22T09:54:21.740365Z",
     "start_time": "2022-04-22T09:54:21.723367Z"
    }
   },
   "outputs": [],
   "source": [
    "# define columns for preprocessing pipelines\n",
    "categorical_cols = [\"city\", \"main_category\", \"sub_category\"]\n",
    "numerical_cols = [\"item_price\", 'item_price_sum', 'item_price_mean', 'item_cnt_mean', 'item_cnt_count', \n",
    "                  'item_cnt_month_1', 'item_cnt_month_2', 'item_cnt_month_3', 'shop_mean', 'item_mean', 'shop_item_mean']\n",
    "other_columns = [\"shop_id\", \"item_id\", \"item_category_id\"]\n",
    "target_column = [\"target\"]"
   ]
  },
  {
   "cell_type": "code",
   "execution_count": 189,
   "metadata": {
    "ExecuteTime": {
     "end_time": "2022-04-22T09:55:18.104984Z",
     "start_time": "2022-04-22T09:54:25.419797Z"
    }
   },
   "outputs": [
    {
     "data": {
      "text/plain": [
       "ColumnTransformer(transformers=[('target_pipe',\n",
       "                                 Pipeline(steps=[('imputer',\n",
       "                                                  SimpleImputer(fill_value=0,\n",
       "                                                                strategy='constant')),\n",
       "                                                 ('scaler',\n",
       "                                                  MinMaxScaler(clip=True,\n",
       "                                                               feature_range=(0,\n",
       "                                                                              20)))]),\n",
       "                                 ['target'])])"
      ]
     },
     "execution_count": 189,
     "metadata": {},
     "output_type": "execute_result"
    }
   ],
   "source": [
    "# pipeline for categorical data\n",
    "categorical_pipe = Pipeline([\n",
    "    ('imputer', SimpleImputer(strategy='most_frequent')),\n",
    "    ('encoder', OrdinalEncoder())\n",
    "])\n",
    "\n",
    "# pipeline for numerical data\n",
    "numerical_pipe = Pipeline([\n",
    "    ('imputer', SimpleImputer(strategy='median')),\n",
    "    ('scaler', MinMaxScaler())\n",
    "])\n",
    "\n",
    "# pipeline for all other data\n",
    "other_pipe = Pipeline([\n",
    "    ('imputer', SimpleImputer(strategy='most_frequent'))\n",
    "])\n",
    "\n",
    "# fit column transformer to training data\n",
    "preprocessor = ColumnTransformer([\n",
    "    ('categorical_pipe', categorical_pipe, categorical_cols),\n",
    "    ('numerical_pipe', numerical_pipe, numerical_cols),\n",
    "    ('other_pipe', other_pipe, other_columns),\n",
    "], remainder=\"drop\")\n",
    "preprocessor.fit(X_train)\n",
    "\n",
    "# we want to impute all missing values with 0 and clip the values to [0, 20]\n",
    "target_pipe = Pipeline([\n",
    "    ('imputer', SimpleImputer(strategy='constant', fill_value=0)),\n",
    "    ('scaler', MinMaxScaler(feature_range=(0, 20), clip=True))\n",
    "])\n",
    "\n",
    "# fit column transformer to training labels\n",
    "target_preprocessor = ColumnTransformer([\n",
    "    ('target_pipe', target_pipe, target_column),\n",
    "], remainder=\"drop\")\n",
    "target_preprocessor.fit(y_train)"
   ]
  },
  {
   "cell_type": "code",
   "execution_count": 191,
   "metadata": {
    "ExecuteTime": {
     "end_time": "2022-04-22T09:55:28.142057Z",
     "start_time": "2022-04-22T09:55:28.135060Z"
    }
   },
   "outputs": [],
   "source": [
    "# Prepare column names\n",
    "# cat_columns = preprocessor.named_transformers_['categorical_pipe'].named_steps['encoder'].get_feature_names(categorical_cols)\n",
    "cat_columns = categorical_cols\n",
    "columns = np.concatenate([cat_columns, numerical_cols, other_columns])\n",
    "\n",
    "# display(pd.DataFrame(preprocessor.transform(X_train), columns=columns))\n",
    "# display(pd.DataFrame(target_preprocessor.transform(y_train), columns=target_column))"
   ]
  },
  {
   "cell_type": "markdown",
   "metadata": {},
   "source": [
    "#### transform data"
   ]
  },
  {
   "cell_type": "code",
   "execution_count": 193,
   "metadata": {
    "ExecuteTime": {
     "end_time": "2022-04-22T09:56:17.953530Z",
     "start_time": "2022-04-22T09:56:00.922396Z"
    }
   },
   "outputs": [],
   "source": [
    "train_preprocessed = pd.DataFrame(preprocessor.transform(X_train), columns=columns)\n",
    "test_preprocessed = pd.DataFrame(preprocessor.transform(X_test), columns=columns)"
   ]
  },
  {
   "cell_type": "code",
   "execution_count": 196,
   "metadata": {
    "ExecuteTime": {
     "end_time": "2022-04-22T09:58:41.970094Z",
     "start_time": "2022-04-22T09:58:41.370091Z"
    }
   },
   "outputs": [],
   "source": [
    "y_train_preprocessed = pd.DataFrame(target_preprocessor.transform(y_train), columns=target_column)"
   ]
  },
  {
   "cell_type": "code",
   "execution_count": null,
   "metadata": {},
   "outputs": [],
   "source": []
  },
  {
   "cell_type": "code",
   "execution_count": null,
   "metadata": {},
   "outputs": [],
   "source": []
  },
  {
   "cell_type": "markdown",
   "metadata": {},
   "source": [
    "## simple model"
   ]
  },
  {
   "cell_type": "markdown",
   "metadata": {},
   "source": [
    "### ideas"
   ]
  },
  {
   "cell_type": "markdown",
   "metadata": {},
   "source": [
    " * Hierachical time-series prediction:\n",
    "  * model per store\n",
    "  * model per item\n",
    "  * model per date\n",
    "* models to try:\n",
    " * Gradient Boosting Machine\n",
    " * XGBoost\n",
    "* play around with lag\n",
    " * (df[NUMERIC_COLUMN] - df.groupby(DATE_COLUMN)[NUMERIC_COLUMN].shift(-1)) and agg features (df.groupby(DATE_COLUMN)[NUMERIC_COLUMN].agg(std))\n",
    "* clip the test data!\n",
    " * predictions = numpy.clip(predictions, 0 ,20)"
   ]
  },
  {
   "cell_type": "markdown",
   "metadata": {},
   "source": [
    "### try different models"
   ]
  },
  {
   "cell_type": "code",
   "execution_count": 194,
   "metadata": {
    "ExecuteTime": {
     "end_time": "2022-04-22T09:56:55.078209Z",
     "start_time": "2022-04-22T09:56:54.279681Z"
    }
   },
   "outputs": [],
   "source": [
    "from sklearn.ensemble import RandomForestRegressor, GradientBoostingRegressor\n",
    "from sklearn.tree import DecisionTreeRegressor\n",
    "from sklearn.neighbors import KNeighborsRegressor\n",
    "\n",
    "from sklearn.model_selection import cross_val_score\n",
    "\n",
    "from xgboost import XGBRegressor"
   ]
  },
  {
   "cell_type": "code",
   "execution_count": null,
   "metadata": {},
   "outputs": [],
   "source": []
  },
  {
   "cell_type": "code",
   "execution_count": 112,
   "metadata": {
    "ExecuteTime": {
     "end_time": "2022-04-20T15:49:36.871073Z",
     "start_time": "2022-04-20T15:39:50.451472Z"
    }
   },
   "outputs": [
    {
     "name": "stderr",
     "output_type": "stream",
     "text": [
      "C:\\Users\\Telcontar\\Anaconda3\\envs\\kaggle\\lib\\site-packages\\sklearn\\model_selection\\_validation.py:680: DataConversionWarning: A column-vector y was passed when a 1d array was expected. Please change the shape of y to (n_samples,), for example using ravel().\n",
      "  estimator.fit(X_train, y_train, **fit_params)\n",
      "C:\\Users\\Telcontar\\Anaconda3\\envs\\kaggle\\lib\\site-packages\\sklearn\\model_selection\\_validation.py:680: DataConversionWarning: A column-vector y was passed when a 1d array was expected. Please change the shape of y to (n_samples,), for example using ravel().\n",
      "  estimator.fit(X_train, y_train, **fit_params)\n"
     ]
    },
    {
     "name": "stdout",
     "output_type": "stream",
     "text": [
      "RandomForestRegressor()\n",
      "-0.16397226567088286\n"
     ]
    },
    {
     "name": "stderr",
     "output_type": "stream",
     "text": [
      "C:\\Users\\Telcontar\\Anaconda3\\envs\\kaggle\\lib\\site-packages\\sklearn\\ensemble\\_gb.py:494: DataConversionWarning: A column-vector y was passed when a 1d array was expected. Please change the shape of y to (n_samples, ), for example using ravel().\n",
      "  y = column_or_1d(y, warn=True)\n",
      "C:\\Users\\Telcontar\\Anaconda3\\envs\\kaggle\\lib\\site-packages\\sklearn\\ensemble\\_gb.py:494: DataConversionWarning: A column-vector y was passed when a 1d array was expected. Please change the shape of y to (n_samples, ), for example using ravel().\n",
      "  y = column_or_1d(y, warn=True)\n"
     ]
    },
    {
     "name": "stdout",
     "output_type": "stream",
     "text": [
      "GradientBoostingRegressor()\n",
      "-0.011020981467390334\n",
      "DecisionTreeRegressor()\n",
      "-0.3352862623278293\n",
      "KNeighborsRegressor()\n",
      "-0.19286810972283797\n"
     ]
    }
   ],
   "source": [
    "for model in [RandomForestRegressor(), GradientBoostingRegressor(), \n",
    "              DecisionTreeRegressor(), KNeighborsRegressor()]:\n",
    "    scores = cross_val_score(model, train_preprocessed, y_train_preprocessed, cv=2)\n",
    "    print(model)\n",
    "    print(scores.mean())"
   ]
  },
  {
   "cell_type": "code",
   "execution_count": null,
   "metadata": {},
   "outputs": [],
   "source": []
  },
  {
   "cell_type": "markdown",
   "metadata": {},
   "source": [
    "### hyperparameter optimization"
   ]
  },
  {
   "cell_type": "code",
   "execution_count": 107,
   "metadata": {
    "ExecuteTime": {
     "end_time": "2022-04-21T08:02:47.543450Z",
     "start_time": "2022-04-21T08:02:47.536450Z"
    }
   },
   "outputs": [],
   "source": [
    "from sklearn.model_selection import GridSearchCV"
   ]
  },
  {
   "cell_type": "code",
   "execution_count": 130,
   "metadata": {
    "ExecuteTime": {
     "end_time": "2022-04-20T17:57:18.767906Z",
     "start_time": "2022-04-20T17:34:43.180989Z"
    }
   },
   "outputs": [
    {
     "name": "stdout",
     "output_type": "stream",
     "text": [
      "Fitting 2 folds for each of 4 candidates, totalling 8 fits\n"
     ]
    },
    {
     "name": "stderr",
     "output_type": "stream",
     "text": [
      "C:\\Users\\Telcontar\\Anaconda3\\envs\\kaggle\\lib\\site-packages\\sklearn\\ensemble\\_gb.py:494: DataConversionWarning: A column-vector y was passed when a 1d array was expected. Please change the shape of y to (n_samples, ), for example using ravel().\n",
      "  y = column_or_1d(y, warn=True)\n"
     ]
    },
    {
     "name": "stdout",
     "output_type": "stream",
     "text": [
      "[CV] END ................learning_rate=0.1, n_estimators=100; total time= 1.2min\n"
     ]
    },
    {
     "name": "stderr",
     "output_type": "stream",
     "text": [
      "C:\\Users\\Telcontar\\Anaconda3\\envs\\kaggle\\lib\\site-packages\\sklearn\\ensemble\\_gb.py:494: DataConversionWarning: A column-vector y was passed when a 1d array was expected. Please change the shape of y to (n_samples, ), for example using ravel().\n",
      "  y = column_or_1d(y, warn=True)\n"
     ]
    },
    {
     "name": "stdout",
     "output_type": "stream",
     "text": [
      "[CV] END ................learning_rate=0.1, n_estimators=100; total time= 1.3min\n"
     ]
    },
    {
     "name": "stderr",
     "output_type": "stream",
     "text": [
      "C:\\Users\\Telcontar\\Anaconda3\\envs\\kaggle\\lib\\site-packages\\sklearn\\ensemble\\_gb.py:494: DataConversionWarning: A column-vector y was passed when a 1d array was expected. Please change the shape of y to (n_samples, ), for example using ravel().\n",
      "  y = column_or_1d(y, warn=True)\n"
     ]
    },
    {
     "name": "stdout",
     "output_type": "stream",
     "text": [
      "[CV] END ................learning_rate=0.1, n_estimators=300; total time= 3.8min\n"
     ]
    },
    {
     "name": "stderr",
     "output_type": "stream",
     "text": [
      "C:\\Users\\Telcontar\\Anaconda3\\envs\\kaggle\\lib\\site-packages\\sklearn\\ensemble\\_gb.py:494: DataConversionWarning: A column-vector y was passed when a 1d array was expected. Please change the shape of y to (n_samples, ), for example using ravel().\n",
      "  y = column_or_1d(y, warn=True)\n"
     ]
    },
    {
     "name": "stdout",
     "output_type": "stream",
     "text": [
      "[CV] END ................learning_rate=0.1, n_estimators=300; total time= 3.6min\n"
     ]
    },
    {
     "name": "stderr",
     "output_type": "stream",
     "text": [
      "C:\\Users\\Telcontar\\Anaconda3\\envs\\kaggle\\lib\\site-packages\\sklearn\\ensemble\\_gb.py:494: DataConversionWarning: A column-vector y was passed when a 1d array was expected. Please change the shape of y to (n_samples, ), for example using ravel().\n",
      "  y = column_or_1d(y, warn=True)\n"
     ]
    },
    {
     "name": "stdout",
     "output_type": "stream",
     "text": [
      "[CV] END learning_rate=0.30000000000000004, n_estimators=100; total time= 1.3min\n"
     ]
    },
    {
     "name": "stderr",
     "output_type": "stream",
     "text": [
      "C:\\Users\\Telcontar\\Anaconda3\\envs\\kaggle\\lib\\site-packages\\sklearn\\ensemble\\_gb.py:494: DataConversionWarning: A column-vector y was passed when a 1d array was expected. Please change the shape of y to (n_samples, ), for example using ravel().\n",
      "  y = column_or_1d(y, warn=True)\n"
     ]
    },
    {
     "name": "stdout",
     "output_type": "stream",
     "text": [
      "[CV] END learning_rate=0.30000000000000004, n_estimators=100; total time= 1.2min\n"
     ]
    },
    {
     "name": "stderr",
     "output_type": "stream",
     "text": [
      "C:\\Users\\Telcontar\\Anaconda3\\envs\\kaggle\\lib\\site-packages\\sklearn\\ensemble\\_gb.py:494: DataConversionWarning: A column-vector y was passed when a 1d array was expected. Please change the shape of y to (n_samples, ), for example using ravel().\n",
      "  y = column_or_1d(y, warn=True)\n"
     ]
    },
    {
     "name": "stdout",
     "output_type": "stream",
     "text": [
      "[CV] END learning_rate=0.30000000000000004, n_estimators=300; total time= 3.7min\n"
     ]
    },
    {
     "name": "stderr",
     "output_type": "stream",
     "text": [
      "C:\\Users\\Telcontar\\Anaconda3\\envs\\kaggle\\lib\\site-packages\\sklearn\\ensemble\\_gb.py:494: DataConversionWarning: A column-vector y was passed when a 1d array was expected. Please change the shape of y to (n_samples, ), for example using ravel().\n",
      "  y = column_or_1d(y, warn=True)\n"
     ]
    },
    {
     "name": "stdout",
     "output_type": "stream",
     "text": [
      "[CV] END learning_rate=0.30000000000000004, n_estimators=300; total time= 3.7min\n"
     ]
    },
    {
     "name": "stderr",
     "output_type": "stream",
     "text": [
      "C:\\Users\\Telcontar\\Anaconda3\\envs\\kaggle\\lib\\site-packages\\sklearn\\ensemble\\_gb.py:494: DataConversionWarning: A column-vector y was passed when a 1d array was expected. Please change the shape of y to (n_samples, ), for example using ravel().\n",
      "  y = column_or_1d(y, warn=True)\n"
     ]
    },
    {
     "data": {
      "text/plain": [
       "['mean_fit_time',\n",
       " 'mean_score_time',\n",
       " 'mean_test_score',\n",
       " 'param_learning_rate',\n",
       " 'param_n_estimators',\n",
       " 'params',\n",
       " 'rank_test_score',\n",
       " 'split0_test_score',\n",
       " 'split1_test_score',\n",
       " 'std_fit_time',\n",
       " 'std_score_time',\n",
       " 'std_test_score']"
      ]
     },
     "execution_count": 130,
     "metadata": {},
     "output_type": "execute_result"
    }
   ],
   "source": [
    "parameters = {'n_estimators': np.arange(100, 500, 200), 'learning_rate': np.arange(0.1, 0.5, 0.2)}\n",
    "model = GradientBoostingRegressor()\n",
    "clf = GridSearchCV(model, parameters, cv=2, verbose=2)\n",
    "clf.fit(train_preprocessed, y_train_preprocessed)\n",
    "sorted(clf.cv_results_.keys())"
   ]
  },
  {
   "cell_type": "code",
   "execution_count": 131,
   "metadata": {
    "ExecuteTime": {
     "end_time": "2022-04-20T18:01:26.269052Z",
     "start_time": "2022-04-20T18:01:26.256052Z"
    }
   },
   "outputs": [
    {
     "data": {
      "text/plain": [
       "{'learning_rate': 0.1, 'n_estimators': 100}"
      ]
     },
     "execution_count": 131,
     "metadata": {},
     "output_type": "execute_result"
    }
   ],
   "source": [
    "clf.best_params_"
   ]
  },
  {
   "cell_type": "code",
   "execution_count": 197,
   "metadata": {
    "ExecuteTime": {
     "end_time": "2022-04-22T10:51:04.672930Z",
     "start_time": "2022-04-22T09:58:49.463103Z"
    }
   },
   "outputs": [
    {
     "name": "stderr",
     "output_type": "stream",
     "text": [
      "C:\\Users\\Telcontar\\Anaconda3\\envs\\kaggle\\lib\\site-packages\\sklearn\\ensemble\\_gb.py:494: DataConversionWarning: A column-vector y was passed when a 1d array was expected. Please change the shape of y to (n_samples, ), for example using ravel().\n",
      "  y = column_or_1d(y, warn=True)\n"
     ]
    },
    {
     "data": {
      "text/plain": [
       "GradientBoostingRegressor()"
      ]
     },
     "execution_count": 197,
     "metadata": {},
     "output_type": "execute_result"
    }
   ],
   "source": [
    "# re-train on the complete data set\n",
    "best_model = GradientBoostingRegressor(verbose=1)\n",
    "best_model.fit(train_preprocessed, y_train_preprocessed)"
   ]
  },
  {
   "cell_type": "code",
   "execution_count": 198,
   "metadata": {
    "ExecuteTime": {
     "end_time": "2022-04-22T10:51:04.768931Z",
     "start_time": "2022-04-22T10:51:04.676931Z"
    }
   },
   "outputs": [
    {
     "data": {
      "text/plain": [
       "['grad_boost_model_2022-04-22_12-51-04.joblib']"
      ]
     },
     "execution_count": 198,
     "metadata": {},
     "output_type": "execute_result"
    }
   ],
   "source": [
    "current_time = datetime.now().strftime('%Y-%m-%d_%H-%M-%S')\n",
    "dump(best_model, f\"grad_boost_model_{current_time}.joblib\")"
   ]
  },
  {
   "cell_type": "code",
   "execution_count": null,
   "metadata": {},
   "outputs": [],
   "source": [
    "# best_model = load(\"grad_boost_model.joblib\")"
   ]
  },
  {
   "cell_type": "code",
   "execution_count": 199,
   "metadata": {
    "ExecuteTime": {
     "end_time": "2022-04-22T10:51:05.319572Z",
     "start_time": "2022-04-22T10:51:04.771930Z"
    }
   },
   "outputs": [],
   "source": [
    "grad_boost_predictions = best_model.predict(test_preprocessed).clip(0, 20)"
   ]
  },
  {
   "cell_type": "code",
   "execution_count": 200,
   "metadata": {
    "ExecuteTime": {
     "end_time": "2022-04-22T10:51:05.335357Z",
     "start_time": "2022-04-22T10:51:05.322355Z"
    }
   },
   "outputs": [
    {
     "data": {
      "text/plain": [
       "array([0.01485147, 0.00167641, 0.03156086, ..., 0.00551612, 0.00021251,\n",
       "       0.00794734])"
      ]
     },
     "execution_count": 200,
     "metadata": {},
     "output_type": "execute_result"
    }
   ],
   "source": [
    "grad_boost_predictions"
   ]
  },
  {
   "cell_type": "code",
   "execution_count": 204,
   "metadata": {
    "ExecuteTime": {
     "end_time": "2022-04-22T10:54:23.820567Z",
     "start_time": "2022-04-22T10:54:22.882480Z"
    }
   },
   "outputs": [],
   "source": [
    "# write to submission file\n",
    "submission_df = pd.DataFrame({\"ID\": sales_test[\"ID\"], \"item_cnt_month\": grad_boost_predictions})\n",
    "\n",
    "assert submission_df.shape == (214200, 2)\n",
    "submission_df.to_csv(\"../output/grad_boost_submission.csv\", index=False)"
   ]
  },
  {
   "cell_type": "code",
   "execution_count": null,
   "metadata": {},
   "outputs": [],
   "source": []
  },
  {
   "cell_type": "markdown",
   "metadata": {},
   "source": [
    "### xgboost"
   ]
  },
  {
   "cell_type": "code",
   "execution_count": null,
   "metadata": {},
   "outputs": [],
   "source": [
    "# split data into train and validation\n",
    "X_train = train_preprocessed\n",
    "X_valid = train_preprocessed\n",
    "\n",
    "y_train = y_train_preprocessed\n",
    "y_valid = y_train_preprocessed"
   ]
  },
  {
   "cell_type": "code",
   "execution_count": null,
   "metadata": {},
   "outputs": [],
   "source": []
  },
  {
   "cell_type": "code",
   "execution_count": 205,
   "metadata": {
    "ExecuteTime": {
     "end_time": "2022-04-22T11:24:14.268752Z",
     "start_time": "2022-04-22T10:56:15.339627Z"
    }
   },
   "outputs": [
    {
     "name": "stderr",
     "output_type": "stream",
     "text": [
      "C:\\Users\\Telcontar\\Anaconda3\\envs\\kaggle\\lib\\site-packages\\xgboost\\sklearn.py:797: UserWarning: `eval_metric` in `fit` method is deprecated for better compatibility with scikit-learn, use `eval_metric` in constructor or`set_params` instead.\n",
      "  UserWarning,\n"
     ]
    },
    {
     "data": {
      "text/plain": [
       "XGBRegressor(base_score=0.5, booster='gbtree', callbacks=None,\n",
       "             colsample_bylevel=1, colsample_bynode=1, colsample_bytree=0.8,\n",
       "             early_stopping_rounds=None, enable_categorical=False, eta=0.3,\n",
       "             eval_metric=None, gamma=0, gpu_id=-1, grow_policy='depthwise',\n",
       "             importance_type=None, interaction_constraints='',\n",
       "             learning_rate=0.300000012, max_bin=256, max_cat_to_onehot=4,\n",
       "             max_delta_step=0, max_depth=8, max_leaves=0, min_child_weight=300,\n",
       "             missing=nan, monotone_constraints='()', n_estimators=1000,\n",
       "             n_jobs=0, num_parallel_tree=1, predictor='auto', random_state=42,\n",
       "             reg_alpha=0, ...)"
      ]
     },
     "execution_count": 205,
     "metadata": {},
     "output_type": "execute_result"
    }
   ],
   "source": [
    "xgboost = XGBRegressor(\n",
    "    max_depth=8,\n",
    "    n_estimators=1000,\n",
    "    min_child_weight=300, \n",
    "    colsample_bytree=0.8, \n",
    "    subsample=0.8, \n",
    "    eta=0.3,    \n",
    "    seed=42\n",
    ")\n",
    "\n",
    "xgboost.fit(\n",
    "    train_preprocessed, \n",
    "    y_train_preprocessed, \n",
    "    eval_metric=\"rmse\", \n",
    "    # eval_set=[(X_train, Y_train), (X_valid, Y_valid)], \n",
    "    verbose=True)\n",
    "\n",
    "# xgboost.fit(\n",
    "#     X_train, \n",
    "#     Y_train, \n",
    "#     eval_metric=\"rmse\", \n",
    "#     eval_set=[(X_train, Y_train), (X_valid, Y_valid)], \n",
    "#     verbose=True, \n",
    "#     early_stopping_rounds = 10)"
   ]
  },
  {
   "cell_type": "code",
   "execution_count": 206,
   "metadata": {
    "ExecuteTime": {
     "end_time": "2022-04-22T11:24:15.984745Z",
     "start_time": "2022-04-22T11:24:14.271747Z"
    }
   },
   "outputs": [],
   "source": [
    "Y_test = xgboost.predict(test_preprocessed).clip(0, 20)"
   ]
  },
  {
   "cell_type": "code",
   "execution_count": 207,
   "metadata": {
    "ExecuteTime": {
     "end_time": "2022-04-22T11:24:16.904746Z",
     "start_time": "2022-04-22T11:24:15.987748Z"
    }
   },
   "outputs": [],
   "source": [
    "# write to submission file\n",
    "submission_df = pd.DataFrame({\"ID\": sales_test[\"ID\"], \"item_cnt_month\": Y_test})\n",
    "\n",
    "assert submission_df.shape == (214200, 2)\n",
    "submission_df.to_csv(\"../output/xgboost_submission.csv\", index=False)"
   ]
  },
  {
   "cell_type": "code",
   "execution_count": null,
   "metadata": {},
   "outputs": [],
   "source": []
  },
  {
   "cell_type": "code",
   "execution_count": null,
   "metadata": {},
   "outputs": [],
   "source": []
  },
  {
   "cell_type": "markdown",
   "metadata": {},
   "source": [
    "### other stuff"
   ]
  },
  {
   "cell_type": "markdown",
   "metadata": {},
   "source": [
    "#### model per item"
   ]
  },
  {
   "cell_type": "code",
   "execution_count": 56,
   "metadata": {
    "ExecuteTime": {
     "end_time": "2022-04-20T14:55:50.103196Z",
     "start_time": "2022-04-20T14:55:50.094225Z"
    }
   },
   "outputs": [],
   "source": [
    "def train_model(model, n_rows_to_train_on):\n",
    "    \n",
    "    train_subset = train[:n_rows_to_train_on].drop(\"item_name\", axis=1)\n",
    "    \n",
    "    model.fit(X=train_subset.drop(\"item_cnt_month\", axis=1), y=train_subset[\"item_cnt_month\"])\n",
    "    \n",
    "    model_predictions = model.predict(test.drop(\"item_name\", axis=1))\n",
    "    model_predictions = model_predictions.clip(0, 20)\n",
    "    \n",
    "    return model, model_predictions"
   ]
  },
  {
   "cell_type": "code",
   "execution_count": null,
   "metadata": {},
   "outputs": [],
   "source": []
  },
  {
   "cell_type": "code",
   "execution_count": 51,
   "metadata": {
    "ExecuteTime": {
     "end_time": "2022-04-20T14:47:42.601366Z",
     "start_time": "2022-04-20T14:47:42.589365Z"
    }
   },
   "outputs": [],
   "source": [
    "random_forest_reg = RandomForestRegressor(max_depth=4, random_state=0)"
   ]
  },
  {
   "cell_type": "code",
   "execution_count": 52,
   "metadata": {
    "ExecuteTime": {
     "end_time": "2022-04-20T14:47:42.616365Z",
     "start_time": "2022-04-20T14:47:42.604365Z"
    }
   },
   "outputs": [],
   "source": [
    "grad_boost_reg = GradientBoostingRegressor()"
   ]
  },
  {
   "cell_type": "code",
   "execution_count": null,
   "metadata": {},
   "outputs": [],
   "source": []
  },
  {
   "cell_type": "code",
   "execution_count": null,
   "metadata": {},
   "outputs": [],
   "source": []
  },
  {
   "cell_type": "code",
   "execution_count": null,
   "metadata": {},
   "outputs": [],
   "source": []
  },
  {
   "cell_type": "code",
   "execution_count": 57,
   "metadata": {
    "ExecuteTime": {
     "end_time": "2022-04-20T14:55:57.399219Z",
     "start_time": "2022-04-20T14:55:53.902073Z"
    }
   },
   "outputs": [
    {
     "name": "stderr",
     "output_type": "stream",
     "text": [
      "C:\\Users\\Telcontar\\Anaconda3\\envs\\kaggle\\lib\\site-packages\\sklearn\\base.py:493: FutureWarning: The feature names should match those that were passed during fit. Starting version 1.2, an error will be raised.\n",
      "Feature names unseen at fit time:\n",
      "- ID\n",
      "Feature names seen at fit time, yet now missing:\n",
      "- date_block_num\n",
      "\n",
      "  warnings.warn(message, FutureWarning)\n"
     ]
    }
   ],
   "source": [
    "random_forest_reg, random_forest_pred = train_model(random_forest_reg, n_rows_to_train_on=50000)"
   ]
  },
  {
   "cell_type": "code",
   "execution_count": 59,
   "metadata": {
    "ExecuteTime": {
     "end_time": "2022-04-20T14:56:15.427526Z",
     "start_time": "2022-04-20T14:56:15.416488Z"
    }
   },
   "outputs": [
    {
     "data": {
      "text/plain": [
       "(214200,)"
      ]
     },
     "execution_count": 59,
     "metadata": {},
     "output_type": "execute_result"
    }
   ],
   "source": [
    "random_forest_pred.shape"
   ]
  },
  {
   "cell_type": "code",
   "execution_count": null,
   "metadata": {},
   "outputs": [],
   "source": []
  },
  {
   "cell_type": "code",
   "execution_count": null,
   "metadata": {
    "ExecuteTime": {
     "end_time": "2022-04-20T14:55:14.903039Z",
     "start_time": "2022-04-20T14:55:14.903039Z"
    }
   },
   "outputs": [],
   "source": [
    "grad_boost_reg, grad_boost_pred = train_model(grad_boost_reg, n_rows_to_train_on=50000000)"
   ]
  },
  {
   "cell_type": "code",
   "execution_count": null,
   "metadata": {
    "ExecuteTime": {
     "end_time": "2022-04-20T14:55:14.905039Z",
     "start_time": "2022-04-20T14:55:14.905039Z"
    }
   },
   "outputs": [],
   "source": [
    "grad_boost_pred"
   ]
  },
  {
   "cell_type": "code",
   "execution_count": null,
   "metadata": {},
   "outputs": [],
   "source": []
  },
  {
   "cell_type": "code",
   "execution_count": null,
   "metadata": {
    "ExecuteTime": {
     "end_time": "2022-04-20T14:55:14.908040Z",
     "start_time": "2022-04-20T14:55:14.908040Z"
    }
   },
   "outputs": [],
   "source": [
    "# write to submission file\n",
    "submission_df = pd.DataFrame({\"ID\": test[\"ID\"], \"item_cnt_month\": grad_boost_pred})\n",
    "submission_df.to_csv(\"../output/submission.csv\", index=False)"
   ]
  },
  {
   "cell_type": "code",
   "execution_count": null,
   "metadata": {
    "ExecuteTime": {
     "end_time": "2022-04-20T14:55:14.910040Z",
     "start_time": "2022-04-20T14:55:14.910040Z"
    }
   },
   "outputs": [],
   "source": [
    "submission_df.to_csv(\"../output/submission.csv\", index=False)"
   ]
  },
  {
   "cell_type": "code",
   "execution_count": null,
   "metadata": {},
   "outputs": [],
   "source": [
    "submission = pd.DataFrame()\n",
    "submission[\"PassengerId\"] = test_preprocessed[\"PassengerId\"]\n",
    "submission[\"Transported\"] = predictions"
   ]
  },
  {
   "cell_type": "code",
   "execution_count": null,
   "metadata": {},
   "outputs": [],
   "source": []
  },
  {
   "cell_type": "code",
   "execution_count": null,
   "metadata": {},
   "outputs": [],
   "source": []
  },
  {
   "cell_type": "code",
   "execution_count": null,
   "metadata": {},
   "outputs": [],
   "source": []
  },
  {
   "cell_type": "code",
   "execution_count": null,
   "metadata": {
    "ExecuteTime": {
     "end_time": "2022-04-20T14:55:14.912039Z",
     "start_time": "2022-04-20T14:55:14.912039Z"
    }
   },
   "outputs": [],
   "source": [
    "train[\"item_cnt_month\"].mean()"
   ]
  },
  {
   "cell_type": "code",
   "execution_count": null,
   "metadata": {},
   "outputs": [],
   "source": []
  },
  {
   "cell_type": "code",
   "execution_count": null,
   "metadata": {
    "ExecuteTime": {
     "end_time": "2022-04-20T14:55:14.914040Z",
     "start_time": "2022-04-20T14:55:14.914040Z"
    }
   },
   "outputs": [],
   "source": [
    "sample_submission"
   ]
  },
  {
   "cell_type": "code",
   "execution_count": null,
   "metadata": {
    "ExecuteTime": {
     "end_time": "2022-04-20T14:55:14.916041Z",
     "start_time": "2022-04-20T14:55:14.915039Z"
    }
   },
   "outputs": [],
   "source": [
    "test"
   ]
  },
  {
   "cell_type": "code",
   "execution_count": null,
   "metadata": {
    "ExecuteTime": {
     "end_time": "2022-04-20T14:55:14.917039Z",
     "start_time": "2022-04-20T14:55:14.917039Z"
    }
   },
   "outputs": [],
   "source": [
    "sample_submission[\"item_cnt_month\"] = "
   ]
  },
  {
   "cell_type": "code",
   "execution_count": null,
   "metadata": {},
   "outputs": [],
   "source": []
  },
  {
   "cell_type": "code",
   "execution_count": null,
   "metadata": {
    "ExecuteTime": {
     "end_time": "2022-04-20T14:55:14.919039Z",
     "start_time": "2022-04-20T14:55:14.919039Z"
    }
   },
   "outputs": [],
   "source": [
    "train"
   ]
  },
  {
   "cell_type": "code",
   "execution_count": null,
   "metadata": {
    "ExecuteTime": {
     "end_time": "2022-04-20T14:55:14.921039Z",
     "start_time": "2022-04-20T14:55:14.921039Z"
    }
   },
   "outputs": [],
   "source": [
    "# \n",
    "test"
   ]
  },
  {
   "cell_type": "code",
   "execution_count": null,
   "metadata": {},
   "outputs": [],
   "source": []
  },
  {
   "cell_type": "markdown",
   "metadata": {
    "collapsed": true
   },
   "source": [
    "#### model per store"
   ]
  },
  {
   "cell_type": "code",
   "execution_count": null,
   "metadata": {
    "ExecuteTime": {
     "end_time": "2022-04-20T14:55:14.924054Z",
     "start_time": "2022-04-20T14:55:14.924054Z"
    }
   },
   "outputs": [],
   "source": [
    "model_per_store = RandomForestRegressor(max_depth=2, random_state=0)"
   ]
  },
  {
   "cell_type": "code",
   "execution_count": null,
   "metadata": {
    "ExecuteTime": {
     "end_time": "2022-04-20T14:55:14.925054Z",
     "start_time": "2022-04-20T14:55:14.925054Z"
    }
   },
   "outputs": [],
   "source": [
    "train"
   ]
  },
  {
   "cell_type": "code",
   "execution_count": null,
   "metadata": {
    "ExecuteTime": {
     "end_time": "2022-04-20T14:55:14.927040Z",
     "start_time": "2022-04-20T14:55:14.927040Z"
    }
   },
   "outputs": [],
   "source": [
    "# TODO: combine all data to monthly data (instead of daily data)"
   ]
  },
  {
   "cell_type": "code",
   "execution_count": null,
   "metadata": {
    "ExecuteTime": {
     "end_time": "2022-04-20T14:55:14.929040Z",
     "start_time": "2022-04-20T14:55:14.929040Z"
    }
   },
   "outputs": [],
   "source": [
    "n_rows_to_train_on = 50000"
   ]
  },
  {
   "cell_type": "code",
   "execution_count": null,
   "metadata": {
    "ExecuteTime": {
     "end_time": "2022-04-20T14:55:14.931039Z",
     "start_time": "2022-04-20T14:55:14.931039Z"
    }
   },
   "outputs": [],
   "source": [
    "model_per_store.fit(X=train.drop([\"date\", \"item_cnt_month\"], axis=1), y=train[\"item_cnt_month\"])"
   ]
  },
  {
   "cell_type": "code",
   "execution_count": null,
   "metadata": {
    "ExecuteTime": {
     "end_time": "2022-04-20T14:55:14.932054Z",
     "start_time": "2022-04-20T14:55:14.932054Z"
    }
   },
   "outputs": [],
   "source": [
    "train"
   ]
  },
  {
   "cell_type": "code",
   "execution_count": null,
   "metadata": {
    "ExecuteTime": {
     "end_time": "2022-04-20T14:55:14.934041Z",
     "start_time": "2022-04-20T14:55:14.934041Z"
    }
   },
   "outputs": [],
   "source": [
    "test"
   ]
  },
  {
   "cell_type": "code",
   "execution_count": null,
   "metadata": {
    "ExecuteTime": {
     "end_time": "2022-04-20T14:55:14.936040Z",
     "start_time": "2022-04-20T14:55:14.936040Z"
    }
   },
   "outputs": [],
   "source": [
    "pd.merge(test, sample_submission, on=\"ID\")"
   ]
  },
  {
   "cell_type": "code",
   "execution_count": null,
   "metadata": {
    "ExecuteTime": {
     "end_time": "2022-04-20T14:55:14.939040Z",
     "start_time": "2022-04-20T14:55:14.939040Z"
    }
   },
   "outputs": [],
   "source": [
    "regr.predict(test)"
   ]
  },
  {
   "cell_type": "code",
   "execution_count": null,
   "metadata": {},
   "outputs": [],
   "source": []
  },
  {
   "cell_type": "code",
   "execution_count": null,
   "metadata": {},
   "outputs": [],
   "source": []
  },
  {
   "cell_type": "code",
   "execution_count": null,
   "metadata": {},
   "outputs": [],
   "source": []
  },
  {
   "cell_type": "markdown",
   "metadata": {
    "collapsed": true
   },
   "source": [
    "### example "
   ]
  },
  {
   "cell_type": "code",
   "execution_count": null,
   "metadata": {
    "ExecuteTime": {
     "end_time": "2022-04-20T14:55:14.940039Z",
     "start_time": "2022-04-20T14:55:14.940039Z"
    }
   },
   "outputs": [],
   "source": [
    "from sklearn.ensemble import RandomForestRegressor"
   ]
  },
  {
   "cell_type": "code",
   "execution_count": null,
   "metadata": {
    "ExecuteTime": {
     "end_time": "2022-04-20T14:55:14.942039Z",
     "start_time": "2022-04-20T14:55:14.942039Z"
    }
   },
   "outputs": [],
   "source": [
    "from sklearn.datasets import make_regression"
   ]
  },
  {
   "cell_type": "code",
   "execution_count": null,
   "metadata": {
    "ExecuteTime": {
     "end_time": "2022-04-20T14:55:14.944039Z",
     "start_time": "2022-04-20T14:55:14.944039Z"
    }
   },
   "outputs": [],
   "source": [
    "regr = RandomForestRegressor(max_depth=2, random_state=0)"
   ]
  },
  {
   "cell_type": "code",
   "execution_count": null,
   "metadata": {
    "ExecuteTime": {
     "end_time": "2022-04-20T14:55:14.946039Z",
     "start_time": "2022-04-20T14:55:14.946039Z"
    }
   },
   "outputs": [],
   "source": [
    "X, y = make_regression(n_features=4, n_informative=2, random_state=0, shuffle=False)"
   ]
  },
  {
   "cell_type": "code",
   "execution_count": null,
   "metadata": {
    "ExecuteTime": {
     "end_time": "2022-04-20T14:55:14.948040Z",
     "start_time": "2022-04-20T14:55:14.948040Z"
    }
   },
   "outputs": [],
   "source": [
    "regr.fit(X, y)"
   ]
  },
  {
   "cell_type": "code",
   "execution_count": null,
   "metadata": {
    "ExecuteTime": {
     "end_time": "2022-04-20T14:55:14.949039Z",
     "start_time": "2022-04-20T14:55:14.949039Z"
    }
   },
   "outputs": [],
   "source": [
    "print(regr.predict([[0, 0, 0, 0]]))"
   ]
  },
  {
   "cell_type": "code",
   "execution_count": null,
   "metadata": {
    "ExecuteTime": {
     "end_time": "2022-04-20T14:55:14.951039Z",
     "start_time": "2022-04-20T14:55:14.951039Z"
    }
   },
   "outputs": [],
   "source": [
    "y"
   ]
  },
  {
   "cell_type": "code",
   "execution_count": null,
   "metadata": {
    "ExecuteTime": {
     "end_time": "2022-04-20T14:55:14.953040Z",
     "start_time": "2022-04-20T14:55:14.953040Z"
    }
   },
   "outputs": [],
   "source": [
    "X.shape"
   ]
  },
  {
   "cell_type": "code",
   "execution_count": null,
   "metadata": {
    "ExecuteTime": {
     "end_time": "2022-04-20T14:55:14.955039Z",
     "start_time": "2022-04-20T14:55:14.955039Z"
    }
   },
   "outputs": [],
   "source": [
    "X"
   ]
  },
  {
   "cell_type": "code",
   "execution_count": null,
   "metadata": {},
   "outputs": [],
   "source": []
  }
 ],
 "metadata": {
  "kernelspec": {
   "display_name": "Python 3 (ipykernel)",
   "language": "python",
   "name": "python3"
  },
  "language_info": {
   "codemirror_mode": {
    "name": "ipython",
    "version": 3
   },
   "file_extension": ".py",
   "mimetype": "text/x-python",
   "name": "python",
   "nbconvert_exporter": "python",
   "pygments_lexer": "ipython3",
   "version": "3.7.10"
  },
  "toc": {
   "base_numbering": 1,
   "nav_menu": {},
   "number_sections": true,
   "sideBar": true,
   "skip_h1_title": false,
   "title_cell": "Table of Contents",
   "title_sidebar": "Contents",
   "toc_cell": true,
   "toc_position": {
    "height": "calc(100% - 180px)",
    "left": "10px",
    "top": "150px",
    "width": "384px"
   },
   "toc_section_display": true,
   "toc_window_display": true
  },
  "varInspector": {
   "cols": {
    "lenName": 16,
    "lenType": 16,
    "lenVar": 40
   },
   "kernels_config": {
    "python": {
     "delete_cmd_postfix": "",
     "delete_cmd_prefix": "del ",
     "library": "var_list.py",
     "varRefreshCmd": "print(var_dic_list())"
    },
    "r": {
     "delete_cmd_postfix": ") ",
     "delete_cmd_prefix": "rm(",
     "library": "var_list.r",
     "varRefreshCmd": "cat(var_dic_list()) "
    }
   },
   "types_to_exclude": [
    "module",
    "function",
    "builtin_function_or_method",
    "instance",
    "_Feature"
   ],
   "window_display": false
  }
 },
 "nbformat": 4,
 "nbformat_minor": 4
}
