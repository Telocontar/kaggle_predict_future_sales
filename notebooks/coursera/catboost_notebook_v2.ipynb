{
 "cells": [
  {
   "cell_type": "markdown",
   "metadata": {},
   "source": [
    "# CatBoost basics"
   ]
  },
  {
   "cell_type": "markdown",
   "metadata": {},
   "source": [
    "For this homework will use dataset Amazon Employee Access Challenge from [Kaggle](https://www.kaggle.com) competition for our experiments. Data can be downloaded [here](https://www.kaggle.com/c/amazon-employee-access-challenge/data)."
   ]
  },
  {
   "cell_type": "markdown",
   "metadata": {},
   "source": [
    "As a result of this tutorial you need to provide a tsv file with answers.\n",
    "There are 17 questions in this tutorial. The resulting tsv file should consist of 17 lines, each line should contain the number of the question, an answer to it and a tab separater between them. Questions are numbered from 1 to 17.\n",
    "See an example of the resulting file here."
   ]
  },
  {
   "cell_type": "markdown",
   "metadata": {},
   "source": [
    "## Reading the data"
   ]
  },
  {
   "cell_type": "markdown",
   "metadata": {},
   "source": [
    "Let's first download the data and put it to folder `amazon`. Now we will read this data from file."
   ]
  },
  {
   "cell_type": "code",
   "execution_count": 4,
   "metadata": {
    "collapsed": true
   },
   "outputs": [],
   "source": [
    "import pandas as pd\n",
    "import numpy as np\n",
    "np.set_printoptions(precision=4)\n",
    "import catboost\n",
    "from catboost import datasets\n",
    "from catboost import *\n",
    "\n",
    "from grader_v2 import Grader"
   ]
  },
  {
   "cell_type": "code",
   "execution_count": 5,
   "metadata": {},
   "outputs": [
    {
     "data": {
      "text/html": [
       "<div>\n",
       "<style>\n",
       "    .dataframe thead tr:only-child th {\n",
       "        text-align: right;\n",
       "    }\n",
       "\n",
       "    .dataframe thead th {\n",
       "        text-align: left;\n",
       "    }\n",
       "\n",
       "    .dataframe tbody tr th {\n",
       "        vertical-align: top;\n",
       "    }\n",
       "</style>\n",
       "<table border=\"1\" class=\"dataframe\">\n",
       "  <thead>\n",
       "    <tr style=\"text-align: right;\">\n",
       "      <th></th>\n",
       "      <th>ACTION</th>\n",
       "      <th>RESOURCE</th>\n",
       "      <th>MGR_ID</th>\n",
       "      <th>ROLE_ROLLUP_1</th>\n",
       "      <th>ROLE_ROLLUP_2</th>\n",
       "      <th>ROLE_DEPTNAME</th>\n",
       "      <th>ROLE_TITLE</th>\n",
       "      <th>ROLE_FAMILY_DESC</th>\n",
       "      <th>ROLE_FAMILY</th>\n",
       "      <th>ROLE_CODE</th>\n",
       "    </tr>\n",
       "  </thead>\n",
       "  <tbody>\n",
       "    <tr>\n",
       "      <th>0</th>\n",
       "      <td>1</td>\n",
       "      <td>39353</td>\n",
       "      <td>85475</td>\n",
       "      <td>117961</td>\n",
       "      <td>118300</td>\n",
       "      <td>123472</td>\n",
       "      <td>117905</td>\n",
       "      <td>117906</td>\n",
       "      <td>290919</td>\n",
       "      <td>117908</td>\n",
       "    </tr>\n",
       "    <tr>\n",
       "      <th>1</th>\n",
       "      <td>1</td>\n",
       "      <td>17183</td>\n",
       "      <td>1540</td>\n",
       "      <td>117961</td>\n",
       "      <td>118343</td>\n",
       "      <td>123125</td>\n",
       "      <td>118536</td>\n",
       "      <td>118536</td>\n",
       "      <td>308574</td>\n",
       "      <td>118539</td>\n",
       "    </tr>\n",
       "    <tr>\n",
       "      <th>2</th>\n",
       "      <td>1</td>\n",
       "      <td>36724</td>\n",
       "      <td>14457</td>\n",
       "      <td>118219</td>\n",
       "      <td>118220</td>\n",
       "      <td>117884</td>\n",
       "      <td>117879</td>\n",
       "      <td>267952</td>\n",
       "      <td>19721</td>\n",
       "      <td>117880</td>\n",
       "    </tr>\n",
       "    <tr>\n",
       "      <th>3</th>\n",
       "      <td>1</td>\n",
       "      <td>36135</td>\n",
       "      <td>5396</td>\n",
       "      <td>117961</td>\n",
       "      <td>118343</td>\n",
       "      <td>119993</td>\n",
       "      <td>118321</td>\n",
       "      <td>240983</td>\n",
       "      <td>290919</td>\n",
       "      <td>118322</td>\n",
       "    </tr>\n",
       "    <tr>\n",
       "      <th>4</th>\n",
       "      <td>1</td>\n",
       "      <td>42680</td>\n",
       "      <td>5905</td>\n",
       "      <td>117929</td>\n",
       "      <td>117930</td>\n",
       "      <td>119569</td>\n",
       "      <td>119323</td>\n",
       "      <td>123932</td>\n",
       "      <td>19793</td>\n",
       "      <td>119325</td>\n",
       "    </tr>\n",
       "  </tbody>\n",
       "</table>\n",
       "</div>"
      ],
      "text/plain": [
       "   ACTION  RESOURCE  MGR_ID  ROLE_ROLLUP_1  ROLE_ROLLUP_2  ROLE_DEPTNAME  \\\n",
       "0       1     39353   85475         117961         118300         123472   \n",
       "1       1     17183    1540         117961         118343         123125   \n",
       "2       1     36724   14457         118219         118220         117884   \n",
       "3       1     36135    5396         117961         118343         119993   \n",
       "4       1     42680    5905         117929         117930         119569   \n",
       "\n",
       "   ROLE_TITLE  ROLE_FAMILY_DESC  ROLE_FAMILY  ROLE_CODE  \n",
       "0      117905            117906       290919     117908  \n",
       "1      118536            118536       308574     118539  \n",
       "2      117879            267952        19721     117880  \n",
       "3      118321            240983       290919     118322  \n",
       "4      119323            123932        19793     119325  "
      ]
     },
     "execution_count": 5,
     "metadata": {},
     "output_type": "execute_result"
    }
   ],
   "source": [
    "train_df, test_df = catboost.datasets.amazon()\n",
    "train_df.head()"
   ]
  },
  {
   "cell_type": "code",
   "execution_count": 6,
   "metadata": {
    "collapsed": true
   },
   "outputs": [],
   "source": [
    "grader = Grader()"
   ]
  },
  {
   "cell_type": "markdown",
   "metadata": {},
   "source": [
    "## Preparing your data"
   ]
  },
  {
   "cell_type": "markdown",
   "metadata": {},
   "source": [
    "Label values extraction"
   ]
  },
  {
   "cell_type": "code",
   "execution_count": 7,
   "metadata": {
    "collapsed": true
   },
   "outputs": [],
   "source": [
    "y = train_df.ACTION\n",
    "X = train_df.drop('ACTION', axis=1)"
   ]
  },
  {
   "cell_type": "markdown",
   "metadata": {},
   "source": [
    "Categorical features declaration"
   ]
  },
  {
   "cell_type": "code",
   "execution_count": 8,
   "metadata": {},
   "outputs": [
    {
     "name": "stdout",
     "output_type": "stream",
     "text": [
      "[0, 1, 2, 3, 4, 5, 6, 7, 8]\n"
     ]
    }
   ],
   "source": [
    "cat_features = list(range(0, X.shape[1]))\n",
    "print(cat_features)"
   ]
  },
  {
   "cell_type": "markdown",
   "metadata": {},
   "source": [
    "Now it makes sense to ananyze the dataset.\n",
    "First you need to calculate how many positive and negative objects are present in the train dataset."
   ]
  },
  {
   "cell_type": "markdown",
   "metadata": {},
   "source": [
    "**Question 1:**\n",
    "\n",
    "How many negative objects are present in the train dataset X?"
   ]
  },
  {
   "cell_type": "code",
   "execution_count": 9,
   "metadata": {},
   "outputs": [
    {
     "data": {
      "text/plain": [
       "array([1, 0])"
      ]
     },
     "execution_count": 9,
     "metadata": {},
     "output_type": "execute_result"
    }
   ],
   "source": [
    "y.unique()"
   ]
  },
  {
   "cell_type": "code",
   "execution_count": 10,
   "metadata": {},
   "outputs": [
    {
     "data": {
      "text/plain": [
       "1897"
      ]
     },
     "execution_count": 10,
     "metadata": {},
     "output_type": "execute_result"
    }
   ],
   "source": [
    "(y == 0).sum()"
   ]
  },
  {
   "cell_type": "code",
   "execution_count": 11,
   "metadata": {},
   "outputs": [
    {
     "name": "stdout",
     "output_type": "stream",
     "text": [
      "Current answer for task negative_samples is: 1897\n"
     ]
    }
   ],
   "source": [
    "zero_count = (y == 0).sum()\n",
    "grader.submit_tag('negative_samples', zero_count)"
   ]
  },
  {
   "cell_type": "markdown",
   "metadata": {},
   "source": [
    "**Question 2:**\n",
    "\n",
    "How many positive objects are present in the train dataset X?"
   ]
  },
  {
   "cell_type": "code",
   "execution_count": 12,
   "metadata": {},
   "outputs": [
    {
     "data": {
      "text/plain": [
       "30872"
      ]
     },
     "execution_count": 12,
     "metadata": {},
     "output_type": "execute_result"
    }
   ],
   "source": [
    "(y == 1).sum()"
   ]
  },
  {
   "cell_type": "code",
   "execution_count": 13,
   "metadata": {},
   "outputs": [
    {
     "name": "stdout",
     "output_type": "stream",
     "text": [
      "Current answer for task positive_samples is: 30872\n"
     ]
    }
   ],
   "source": [
    "one_count = (y == 1).sum()\n",
    "grader.submit_tag('positive_samples', one_count)"
   ]
  },
  {
   "cell_type": "code",
   "execution_count": 14,
   "metadata": {},
   "outputs": [
    {
     "name": "stdout",
     "output_type": "stream",
     "text": [
      "Zero count = 1897, One count = 30872\n"
     ]
    }
   ],
   "source": [
    "print('Zero count = ' + str(zero_count) + ', One count = ' + str(one_count))"
   ]
  },
  {
   "cell_type": "markdown",
   "metadata": {},
   "source": [
    "Now for every feature you need to calculate number of unique values of this feature."
   ]
  },
  {
   "cell_type": "markdown",
   "metadata": {},
   "source": [
    "**Question 3:**\n",
    "    \n",
    "How many unique values has feature RESOURCE?"
   ]
  },
  {
   "cell_type": "code",
   "execution_count": 15,
   "metadata": {},
   "outputs": [
    {
     "data": {
      "text/plain": [
       "7518"
      ]
     },
     "execution_count": 15,
     "metadata": {},
     "output_type": "execute_result"
    }
   ],
   "source": [
    "X[\"RESOURCE\"].nunique()"
   ]
  },
  {
   "cell_type": "code",
   "execution_count": 16,
   "metadata": {},
   "outputs": [
    {
     "name": "stdout",
     "output_type": "stream",
     "text": [
      "Current answer for task resource_unique_values is: 7518\n"
     ]
    }
   ],
   "source": [
    "unique_vals_for_RESOURCE = X[\"RESOURCE\"].nunique()\n",
    "grader.submit_tag('resource_unique_values', unique_vals_for_RESOURCE)"
   ]
  },
  {
   "cell_type": "markdown",
   "metadata": {},
   "source": [
    "Now we can create a Pool object. This type is used for datasets in CatBoost. You can also use numpy array or dataframe. Working with Pool class is the most efficient way in terms of memory and speed. We recommend to create Pool from file in case if you have your data on disk or from FeaturesData if you use numpy."
   ]
  },
  {
   "cell_type": "code",
   "execution_count": 17,
   "metadata": {},
   "outputs": [
    {
     "name": "stdout",
     "output_type": "stream",
     "text": [
      "Dataset shape\n",
      "dataset 1:(32769, 9)\n",
      "dataset 2:(32769, 9)\n",
      "dataset 3:(32769, 9)\n",
      "\n",
      "\n",
      "Column names\n",
      "dataset 1: \n",
      "['RESOURCE', 'MGR_ID', 'ROLE_ROLLUP_1', 'ROLE_ROLLUP_2', 'ROLE_DEPTNAME', 'ROLE_TITLE', 'ROLE_FAMILY_DESC', 'ROLE_FAMILY', 'ROLE_CODE']\n",
      "\n",
      "dataset 2:\n",
      "['RESOURCE', 'MGR_ID', 'ROLE_ROLLUP_1', 'ROLE_ROLLUP_2', 'ROLE_DEPTNAME', 'ROLE_TITLE', 'ROLE_FAMILY_DESC', 'ROLE_FAMILY', 'ROLE_CODE']\n",
      "\n",
      "dataset 3:\n",
      "['RESOURCE', 'MGR_ID', 'ROLE_ROLLUP_1', 'ROLE_ROLLUP_2', 'ROLE_DEPTNAME', 'ROLE_TITLE', 'ROLE_FAMILY_DESC', 'ROLE_FAMILY', 'ROLE_CODE']\n"
     ]
    }
   ],
   "source": [
    "import numpy as np\n",
    "from catboost import Pool\n",
    "\n",
    "pool1 = Pool(data=X, label=y, cat_features=cat_features)\n",
    "pool2 = Pool(data='/opt/conda/lib/python3.6/site-packages/catboost/cached_datasets/amazon/train.csv', delimiter=',', has_header=True)\n",
    "pool3 = Pool(data=X, cat_features=cat_features)\n",
    "\n",
    "print('Dataset shape')\n",
    "print('dataset 1:' + str(pool1.shape) + '\\ndataset 2:' + str(pool2.shape)  + '\\ndataset 3:' + str(pool3.shape))\n",
    "\n",
    "print('\\n')\n",
    "print('Column names')\n",
    "print('dataset 1: ')\n",
    "print(pool1.get_feature_names()) \n",
    "print('\\ndataset 2:')\n",
    "print(pool2.get_feature_names())\n",
    "print('\\ndataset 3:')\n",
    "print(pool3.get_feature_names())"
   ]
  },
  {
   "cell_type": "markdown",
   "metadata": {},
   "source": [
    "## Split your data into train and validation"
   ]
  },
  {
   "cell_type": "markdown",
   "metadata": {},
   "source": [
    "When you will be training your model, you will have to detect overfitting and select best parameters. To do that you need to have a validation dataset.\n",
    "Normally you would be using some random split, for example\n",
    "`train_test_split` from `sklearn.model_selection`.\n",
    "But for the purpose of this homework the train part will be the first 80% of the data and the evaluation part will be the last 20% of the data."
   ]
  },
  {
   "cell_type": "code",
   "execution_count": 18,
   "metadata": {
    "collapsed": true
   },
   "outputs": [],
   "source": [
    "train_count = int(X.shape[0] * 0.8)\n",
    "\n",
    "X_train = X.iloc[:train_count,:]\n",
    "y_train = y[:train_count]\n",
    "X_validation = X.iloc[train_count:, :]\n",
    "y_validation = y[train_count:]"
   ]
  },
  {
   "cell_type": "markdown",
   "metadata": {},
   "source": [
    "## Train your model"
   ]
  },
  {
   "cell_type": "markdown",
   "metadata": {},
   "source": [
    "Now we will train our first model."
   ]
  },
  {
   "cell_type": "code",
   "execution_count": 19,
   "metadata": {},
   "outputs": [
    {
     "name": "stdout",
     "output_type": "stream",
     "text": [
      "Model is fitted: True\n",
      "Model params:\n",
      "{'random_seed': 0, 'loss_function': 'Logloss', 'learning_rate': 0.1, 'iterations': 5}\n"
     ]
    }
   ],
   "source": [
    "from catboost import CatBoostClassifier\n",
    "model = CatBoostClassifier(\n",
    "    iterations=5,\n",
    "    random_seed=0,\n",
    "    learning_rate=0.1\n",
    ")\n",
    "model.fit(\n",
    "    X_train, y_train,\n",
    "    cat_features=cat_features,\n",
    "    eval_set=(X_validation, y_validation),\n",
    "    logging_level='Silent'\n",
    ")\n",
    "print('Model is fitted: ' + str(model.is_fitted()))\n",
    "print('Model params:')\n",
    "print(model.get_params())"
   ]
  },
  {
   "cell_type": "markdown",
   "metadata": {},
   "source": [
    "## Stdout of the training"
   ]
  },
  {
   "cell_type": "markdown",
   "metadata": {},
   "source": [
    "You can see in stdout values of the loss function on each iteration, or on each k-th iteration.\n",
    "You can also see how much time passed since the start of the training and how much time is left."
   ]
  },
  {
   "cell_type": "code",
   "execution_count": 20,
   "metadata": {
    "scrolled": true
   },
   "outputs": [
    {
     "name": "stdout",
     "output_type": "stream",
     "text": [
      "0:\tlearn: 0.3007996\ttest: 0.3044268\tbest: 0.3044268 (0)\ttotal: 1.42s\tremaining: 19.9s\n",
      "3:\tlearn: 0.1800237\ttest: 0.1674121\tbest: 0.1674121 (3)\ttotal: 10.4s\tremaining: 28.6s\n",
      "6:\tlearn: 0.1706950\ttest: 0.1549520\tbest: 0.1549520 (6)\ttotal: 16.9s\tremaining: 19.3s\n",
      "9:\tlearn: 0.1672391\ttest: 0.1495040\tbest: 0.1495040 (9)\ttotal: 23.5s\tremaining: 11.8s\n",
      "12:\tlearn: 0.1645499\ttest: 0.1487789\tbest: 0.1487789 (12)\ttotal: 31s\tremaining: 4.77s\n",
      "14:\tlearn: 0.1630092\ttest: 0.1469375\tbest: 0.1469375 (14)\ttotal: 36.7s\tremaining: 0us\n",
      "\n",
      "bestTest = 0.1469374586\n",
      "bestIteration = 14\n",
      "\n"
     ]
    },
    {
     "data": {
      "text/plain": [
       "<catboost.core.CatBoostClassifier at 0x7f914bde4518>"
      ]
     },
     "execution_count": 20,
     "metadata": {},
     "output_type": "execute_result"
    }
   ],
   "source": [
    "from catboost import CatBoostClassifier\n",
    "model = CatBoostClassifier(\n",
    "    iterations=15,\n",
    "    verbose=3\n",
    ")\n",
    "model.fit(\n",
    "    X_train, y_train,\n",
    "    cat_features=cat_features,\n",
    "    eval_set=(X_validation, y_validation),\n",
    ")"
   ]
  },
  {
   "cell_type": "markdown",
   "metadata": {},
   "source": [
    "## Random seed"
   ]
  },
  {
   "cell_type": "markdown",
   "metadata": {},
   "source": [
    "If you don't specify random_seed then random seed will be set to a new value each time.\n",
    "After the training has finished you can look on the value of the random seed that was set.\n",
    "If you train again with this random_seed, you will get the same results."
   ]
  },
  {
   "cell_type": "code",
   "execution_count": 21,
   "metadata": {},
   "outputs": [
    {
     "name": "stdout",
     "output_type": "stream",
     "text": [
      "0:\tlearn: 0.3007996\ttest: 0.3044268\tbest: 0.3044268 (0)\ttotal: 1.59s\tremaining: 6.34s\n",
      "1:\tlearn: 0.2161146\ttest: 0.2152075\tbest: 0.2152075 (1)\ttotal: 4.29s\tremaining: 6.43s\n",
      "2:\tlearn: 0.1879597\ttest: 0.1797290\tbest: 0.1797290 (2)\ttotal: 6.38s\tremaining: 4.26s\n",
      "3:\tlearn: 0.1800237\ttest: 0.1674121\tbest: 0.1674121 (3)\ttotal: 9.69s\tremaining: 2.42s\n",
      "4:\tlearn: 0.1732668\ttest: 0.1581682\tbest: 0.1581682 (4)\ttotal: 12.6s\tremaining: 0us\n",
      "\n",
      "bestTest = 0.1581682309\n",
      "bestIteration = 4\n",
      "\n"
     ]
    },
    {
     "data": {
      "text/plain": [
       "<catboost.core.CatBoostClassifier at 0x7f914bde4358>"
      ]
     },
     "execution_count": 21,
     "metadata": {},
     "output_type": "execute_result"
    }
   ],
   "source": [
    "from catboost import CatBoostClassifier\n",
    "model = CatBoostClassifier(\n",
    "    iterations=5\n",
    ")\n",
    "model.fit(\n",
    "    X_train, y_train,\n",
    "    cat_features=cat_features,\n",
    "    eval_set=(X_validation, y_validation),\n",
    ")"
   ]
  },
  {
   "cell_type": "code",
   "execution_count": null,
   "metadata": {},
   "outputs": [
    {
     "name": "stdout",
     "output_type": "stream",
     "text": [
      "Used random seed = 0\n",
      "0:\tlearn: 0.3007996\ttest: 0.3044268\tbest: 0.3044268 (0)\ttotal: 1.32s\tremaining: 5.29s\n",
      "1:\tlearn: 0.2161146\ttest: 0.2152075\tbest: 0.2152075 (1)\ttotal: 4.52s\tremaining: 6.78s\n",
      "2:\tlearn: 0.1879597\ttest: 0.1797290\tbest: 0.1797290 (2)\ttotal: 6.02s\tremaining: 4.01s\n",
      "3:\tlearn: 0.1800237\ttest: 0.1674121\tbest: 0.1674121 (3)\ttotal: 8.32s\tremaining: 2.08s\n",
      "4:\tlearn: 0.1732668\ttest: 0.1581682\tbest: 0.1581682 (4)\ttotal: 11.1s\tremaining: 0us\n",
      "\n",
      "bestTest = 0.1581682309\n",
      "bestIteration = 4\n",
      "\n"
     ]
    },
    {
     "data": {
      "text/plain": [
       "<catboost.core.CatBoostClassifier at 0x7f914b956198>"
      ]
     },
     "execution_count": 22,
     "metadata": {},
     "output_type": "execute_result"
    }
   ],
   "source": [
    "random_seed = model.random_seed_\n",
    "print('Used random seed = ' + str(random_seed))\n",
    "model = CatBoostClassifier(\n",
    "    iterations=5,\n",
    "    random_seed=random_seed\n",
    ")\n",
    "model.fit(\n",
    "    X_train, y_train,\n",
    "    cat_features=cat_features,\n",
    "    eval_set=(X_validation, y_validation),\n",
    ")"
   ]
  },
  {
   "cell_type": "markdown",
   "metadata": {},
   "source": [
    "Try training 10 models with parameters and calculate mean and the standart deviation of Logloss error on validation dataset."
   ]
  },
  {
   "cell_type": "markdown",
   "metadata": {},
   "source": [
    "**Question 4:**\n",
    "\n",
    "What is the mean value of the Logloss metric on validation dataset (X_validation, y_validation) after 10 times training `CatBoostClassifier` with different random seeds in the following way:\n",
    "\n",
    "`model = CatBoostClassifier(\n",
    "    iterations=300,\n",
    "    learning_rate=0.1,\n",
    "    random_seed={my_random_seed}\n",
    ")\n",
    "model.fit(\n",
    "    X_train, y_train,\n",
    "    cat_features=cat_features,\n",
    "    eval_set=(X_validation, y_validation),\n",
    ")\n",
    "`"
   ]
  },
  {
   "cell_type": "code",
   "execution_count": null,
   "metadata": {},
   "outputs": [
    {
     "name": "stdout",
     "output_type": "stream",
     "text": [
      "0:\tlearn: 0.5790122\ttest: 0.5797377\tbest: 0.5797377 (0)\ttotal: 1.54s\tremaining: 7m 39s\n",
      "1:\tlearn: 0.4926897\ttest: 0.4940680\tbest: 0.4940680 (1)\ttotal: 3.33s\tremaining: 8m 17s\n",
      "2:\tlearn: 0.4276522\ttest: 0.4296182\tbest: 0.4296182 (2)\ttotal: 4.74s\tremaining: 7m 48s\n",
      "3:\tlearn: 0.3766878\ttest: 0.3788872\tbest: 0.3788872 (3)\ttotal: 7.44s\tremaining: 9m 10s\n",
      "4:\tlearn: 0.3381318\ttest: 0.3397291\tbest: 0.3397291 (4)\ttotal: 9.14s\tremaining: 8m 59s\n",
      "5:\tlearn: 0.3057518\ttest: 0.3069987\tbest: 0.3069987 (5)\ttotal: 11.1s\tremaining: 9m 5s\n",
      "6:\tlearn: 0.2799086\ttest: 0.2804603\tbest: 0.2804603 (6)\ttotal: 14s\tremaining: 9m 47s\n",
      "7:\tlearn: 0.2608573\ttest: 0.2606719\tbest: 0.2606719 (7)\ttotal: 16.9s\tremaining: 10m 18s\n",
      "8:\tlearn: 0.2421892\ttest: 0.2408010\tbest: 0.2408010 (8)\ttotal: 20.1s\tremaining: 10m 51s\n",
      "9:\tlearn: 0.2273642\ttest: 0.2245106\tbest: 0.2245106 (9)\ttotal: 23s\tremaining: 11m 8s\n",
      "10:\tlearn: 0.2166504\ttest: 0.2128568\tbest: 0.2128568 (10)\ttotal: 25s\tremaining: 10m 57s\n",
      "11:\tlearn: 0.2083302\ttest: 0.2035063\tbest: 0.2035063 (11)\ttotal: 27.3s\tremaining: 10m 55s\n",
      "12:\tlearn: 0.2016542\ttest: 0.1957889\tbest: 0.1957889 (12)\ttotal: 30.2s\tremaining: 11m 7s\n",
      "13:\tlearn: 0.1960012\ttest: 0.1890150\tbest: 0.1890150 (13)\ttotal: 32.4s\tremaining: 11m 2s\n",
      "14:\tlearn: 0.1916597\ttest: 0.1837052\tbest: 0.1837052 (14)\ttotal: 34.4s\tremaining: 10m 54s\n",
      "15:\tlearn: 0.1880803\ttest: 0.1791472\tbest: 0.1791472 (15)\ttotal: 35.9s\tremaining: 10m 37s\n",
      "16:\tlearn: 0.1850936\ttest: 0.1753800\tbest: 0.1753800 (16)\ttotal: 37.5s\tremaining: 10m 24s\n",
      "17:\tlearn: 0.1829805\ttest: 0.1725593\tbest: 0.1725593 (17)\ttotal: 38.8s\tremaining: 10m 8s\n",
      "18:\tlearn: 0.1810911\ttest: 0.1699013\tbest: 0.1699013 (18)\ttotal: 40.4s\tremaining: 9m 58s\n",
      "19:\tlearn: 0.1791700\ttest: 0.1668693\tbest: 0.1668693 (19)\ttotal: 42.3s\tremaining: 9m 52s\n",
      "20:\tlearn: 0.1768731\ttest: 0.1638154\tbest: 0.1638154 (20)\ttotal: 43.9s\tremaining: 9m 43s\n",
      "21:\tlearn: 0.1757087\ttest: 0.1623343\tbest: 0.1623343 (21)\ttotal: 45.2s\tremaining: 9m 31s\n",
      "22:\tlearn: 0.1745847\ttest: 0.1607712\tbest: 0.1607712 (22)\ttotal: 46.6s\tremaining: 9m 21s\n",
      "23:\tlearn: 0.1731905\ttest: 0.1588620\tbest: 0.1588620 (23)\ttotal: 48.6s\tremaining: 9m 19s\n",
      "24:\tlearn: 0.1720241\ttest: 0.1574445\tbest: 0.1574445 (24)\ttotal: 50.6s\tremaining: 9m 16s\n",
      "25:\tlearn: 0.1711983\ttest: 0.1562879\tbest: 0.1562879 (25)\ttotal: 52.7s\tremaining: 9m 15s\n",
      "26:\tlearn: 0.1698138\ttest: 0.1543959\tbest: 0.1543959 (26)\ttotal: 54.9s\tremaining: 9m 15s\n",
      "27:\tlearn: 0.1683625\ttest: 0.1522027\tbest: 0.1522027 (27)\ttotal: 56s\tremaining: 9m 4s\n",
      "28:\tlearn: 0.1680483\ttest: 0.1517843\tbest: 0.1517843 (28)\ttotal: 57.6s\tremaining: 8m 58s\n",
      "29:\tlearn: 0.1673239\ttest: 0.1506020\tbest: 0.1506020 (29)\ttotal: 59.1s\tremaining: 8m 52s\n",
      "30:\tlearn: 0.1667982\ttest: 0.1501396\tbest: 0.1501396 (30)\ttotal: 1m 1s\tremaining: 8m 51s\n",
      "31:\tlearn: 0.1660950\ttest: 0.1493840\tbest: 0.1493840 (31)\ttotal: 1m 3s\tremaining: 8m 48s\n",
      "32:\tlearn: 0.1659538\ttest: 0.1491466\tbest: 0.1491466 (32)\ttotal: 1m 5s\tremaining: 8m 46s\n",
      "33:\tlearn: 0.1656612\ttest: 0.1488368\tbest: 0.1488368 (33)\ttotal: 1m 7s\tremaining: 8m 47s\n",
      "34:\tlearn: 0.1650283\ttest: 0.1479212\tbest: 0.1479212 (34)\ttotal: 1m 10s\tremaining: 8m 50s\n",
      "35:\tlearn: 0.1647145\ttest: 0.1475543\tbest: 0.1475543 (35)\ttotal: 1m 13s\tremaining: 8m 59s\n",
      "36:\tlearn: 0.1642845\ttest: 0.1470579\tbest: 0.1470579 (36)\ttotal: 1m 16s\tremaining: 9m 3s\n",
      "37:\tlearn: 0.1639190\ttest: 0.1464310\tbest: 0.1464310 (37)\ttotal: 1m 20s\tremaining: 9m 14s\n",
      "38:\tlearn: 0.1636684\ttest: 0.1462885\tbest: 0.1462885 (38)\ttotal: 1m 22s\tremaining: 9m 14s\n",
      "39:\tlearn: 0.1633571\ttest: 0.1461189\tbest: 0.1461189 (39)\ttotal: 1m 25s\tremaining: 9m 15s\n",
      "40:\tlearn: 0.1629953\ttest: 0.1458294\tbest: 0.1458294 (40)\ttotal: 1m 29s\tremaining: 9m 22s\n",
      "41:\tlearn: 0.1624918\ttest: 0.1452905\tbest: 0.1452905 (41)\ttotal: 1m 31s\tremaining: 9m 24s\n",
      "42:\tlearn: 0.1622542\ttest: 0.1450197\tbest: 0.1450197 (42)\ttotal: 1m 34s\tremaining: 9m 24s\n",
      "43:\tlearn: 0.1621805\ttest: 0.1449099\tbest: 0.1449099 (43)\ttotal: 1m 36s\tremaining: 9m 22s\n",
      "44:\tlearn: 0.1619744\ttest: 0.1445000\tbest: 0.1445000 (44)\ttotal: 1m 38s\tremaining: 9m 16s\n",
      "45:\tlearn: 0.1618358\ttest: 0.1443725\tbest: 0.1443725 (45)\ttotal: 1m 40s\tremaining: 9m 12s\n",
      "46:\tlearn: 0.1614051\ttest: 0.1439626\tbest: 0.1439626 (46)\ttotal: 1m 42s\tremaining: 9m 10s\n",
      "47:\tlearn: 0.1609354\ttest: 0.1434922\tbest: 0.1434922 (47)\ttotal: 1m 44s\tremaining: 9m 9s\n",
      "48:\tlearn: 0.1607711\ttest: 0.1434137\tbest: 0.1434137 (48)\ttotal: 1m 47s\tremaining: 9m 10s\n",
      "49:\tlearn: 0.1607060\ttest: 0.1433008\tbest: 0.1433008 (49)\ttotal: 1m 49s\tremaining: 9m 7s\n",
      "50:\tlearn: 0.1606281\ttest: 0.1432391\tbest: 0.1432391 (50)\ttotal: 1m 51s\tremaining: 9m 5s\n",
      "51:\tlearn: 0.1603824\ttest: 0.1429551\tbest: 0.1429551 (51)\ttotal: 1m 54s\tremaining: 9m 5s\n",
      "52:\tlearn: 0.1603747\ttest: 0.1429328\tbest: 0.1429328 (52)\ttotal: 1m 56s\tremaining: 9m 2s\n",
      "53:\tlearn: 0.1603122\ttest: 0.1428948\tbest: 0.1428948 (53)\ttotal: 1m 58s\tremaining: 8m 59s\n",
      "54:\tlearn: 0.1601356\ttest: 0.1427884\tbest: 0.1427884 (54)\ttotal: 2m 1s\tremaining: 8m 59s\n",
      "55:\tlearn: 0.1601042\ttest: 0.1426858\tbest: 0.1426858 (55)\ttotal: 2m 3s\tremaining: 8m 59s\n",
      "56:\tlearn: 0.1600856\ttest: 0.1426198\tbest: 0.1426198 (56)\ttotal: 2m 6s\tremaining: 8m 58s\n",
      "57:\tlearn: 0.1598471\ttest: 0.1423779\tbest: 0.1423779 (57)\ttotal: 2m 9s\tremaining: 8m 58s\n",
      "58:\tlearn: 0.1597035\ttest: 0.1423335\tbest: 0.1423335 (58)\ttotal: 2m 12s\tremaining: 9m\n",
      "59:\tlearn: 0.1596746\ttest: 0.1423544\tbest: 0.1423335 (58)\ttotal: 2m 14s\tremaining: 8m 57s\n",
      "60:\tlearn: 0.1594618\ttest: 0.1421019\tbest: 0.1421019 (60)\ttotal: 2m 16s\tremaining: 8m 55s\n",
      "61:\tlearn: 0.1593322\ttest: 0.1419806\tbest: 0.1419806 (61)\ttotal: 2m 19s\tremaining: 8m 55s\n",
      "62:\tlearn: 0.1592870\ttest: 0.1419518\tbest: 0.1419518 (62)\ttotal: 2m 21s\tremaining: 8m 53s\n",
      "63:\tlearn: 0.1592868\ttest: 0.1419520\tbest: 0.1419518 (62)\ttotal: 2m 23s\tremaining: 8m 48s\n",
      "64:\tlearn: 0.1590603\ttest: 0.1418904\tbest: 0.1418904 (64)\ttotal: 2m 26s\tremaining: 8m 47s\n",
      "65:\tlearn: 0.1589539\ttest: 0.1417868\tbest: 0.1417868 (65)\ttotal: 2m 28s\tremaining: 8m 47s\n",
      "66:\tlearn: 0.1589241\ttest: 0.1417661\tbest: 0.1417661 (66)\ttotal: 2m 31s\tremaining: 8m 48s\n",
      "67:\tlearn: 0.1587785\ttest: 0.1416667\tbest: 0.1416667 (67)\ttotal: 2m 34s\tremaining: 8m 46s\n",
      "68:\tlearn: 0.1587525\ttest: 0.1416154\tbest: 0.1416154 (68)\ttotal: 2m 36s\tremaining: 8m 44s\n",
      "69:\tlearn: 0.1586537\ttest: 0.1415189\tbest: 0.1415189 (69)\ttotal: 2m 39s\tremaining: 8m 43s\n",
      "70:\tlearn: 0.1586390\ttest: 0.1414607\tbest: 0.1414607 (70)\ttotal: 2m 41s\tremaining: 8m 40s\n",
      "71:\tlearn: 0.1586249\ttest: 0.1414089\tbest: 0.1414089 (71)\ttotal: 2m 43s\tremaining: 8m 37s\n",
      "72:\tlearn: 0.1585593\ttest: 0.1414065\tbest: 0.1414065 (72)\ttotal: 2m 46s\tremaining: 8m 36s\n",
      "73:\tlearn: 0.1579320\ttest: 0.1408930\tbest: 0.1408930 (73)\ttotal: 2m 49s\tremaining: 8m 37s\n",
      "74:\tlearn: 0.1579159\ttest: 0.1408814\tbest: 0.1408814 (74)\ttotal: 2m 52s\tremaining: 8m 36s\n",
      "75:\tlearn: 0.1574945\ttest: 0.1405231\tbest: 0.1405231 (75)\ttotal: 2m 54s\tremaining: 8m 35s\n",
      "76:\tlearn: 0.1574778\ttest: 0.1405205\tbest: 0.1405205 (76)\ttotal: 2m 57s\tremaining: 8m 33s\n",
      "77:\tlearn: 0.1574411\ttest: 0.1405153\tbest: 0.1405153 (77)\ttotal: 3m\tremaining: 8m 33s\n",
      "78:\tlearn: 0.1573014\ttest: 0.1404506\tbest: 0.1404506 (78)\ttotal: 3m 2s\tremaining: 8m 31s\n",
      "79:\tlearn: 0.1572453\ttest: 0.1404500\tbest: 0.1404500 (79)\ttotal: 3m 5s\tremaining: 8m 30s\n",
      "80:\tlearn: 0.1571754\ttest: 0.1403855\tbest: 0.1403855 (80)\ttotal: 3m 8s\tremaining: 8m 28s\n",
      "81:\tlearn: 0.1566702\ttest: 0.1400742\tbest: 0.1400742 (81)\ttotal: 3m 10s\tremaining: 8m 25s\n",
      "82:\tlearn: 0.1566649\ttest: 0.1400511\tbest: 0.1400511 (82)\ttotal: 3m 12s\tremaining: 8m 23s\n",
      "83:\tlearn: 0.1565956\ttest: 0.1400350\tbest: 0.1400350 (83)\ttotal: 3m 15s\tremaining: 8m 21s\n",
      "84:\tlearn: 0.1565905\ttest: 0.1400391\tbest: 0.1400350 (83)\ttotal: 3m 17s\tremaining: 8m 19s\n",
      "85:\tlearn: 0.1565516\ttest: 0.1400358\tbest: 0.1400350 (83)\ttotal: 3m 20s\tremaining: 8m 18s\n",
      "86:\tlearn: 0.1565198\ttest: 0.1400072\tbest: 0.1400072 (86)\ttotal: 3m 23s\tremaining: 8m 18s\n",
      "87:\tlearn: 0.1564099\ttest: 0.1399455\tbest: 0.1399455 (87)\ttotal: 3m 26s\tremaining: 8m 17s\n",
      "88:\tlearn: 0.1562931\ttest: 0.1399080\tbest: 0.1399080 (88)\ttotal: 3m 29s\tremaining: 8m 17s\n",
      "89:\tlearn: 0.1561017\ttest: 0.1399188\tbest: 0.1399080 (88)\ttotal: 3m 32s\tremaining: 8m 16s\n",
      "90:\tlearn: 0.1560812\ttest: 0.1398999\tbest: 0.1398999 (90)\ttotal: 3m 35s\tremaining: 8m 14s\n",
      "91:\tlearn: 0.1560791\ttest: 0.1399008\tbest: 0.1398999 (90)\ttotal: 3m 37s\tremaining: 8m 11s\n"
     ]
    },
    {
     "name": "stdout",
     "output_type": "stream",
     "text": [
      "92:\tlearn: 0.1560651\ttest: 0.1398958\tbest: 0.1398958 (92)\ttotal: 3m 39s\tremaining: 8m 7s\n",
      "93:\tlearn: 0.1560292\ttest: 0.1399447\tbest: 0.1398958 (92)\ttotal: 3m 42s\tremaining: 8m 6s\n",
      "94:\tlearn: 0.1560134\ttest: 0.1399301\tbest: 0.1398958 (92)\ttotal: 3m 44s\tremaining: 8m 5s\n",
      "95:\tlearn: 0.1560001\ttest: 0.1399074\tbest: 0.1398958 (92)\ttotal: 3m 46s\tremaining: 8m 1s\n",
      "96:\tlearn: 0.1560000\ttest: 0.1399080\tbest: 0.1398958 (92)\ttotal: 3m 47s\tremaining: 7m 56s\n",
      "97:\tlearn: 0.1559291\ttest: 0.1398097\tbest: 0.1398097 (97)\ttotal: 3m 49s\tremaining: 7m 53s\n",
      "98:\tlearn: 0.1559259\ttest: 0.1397924\tbest: 0.1397924 (98)\ttotal: 3m 51s\tremaining: 7m 49s\n",
      "99:\tlearn: 0.1558675\ttest: 0.1397944\tbest: 0.1397924 (98)\ttotal: 3m 53s\tremaining: 7m 46s\n",
      "100:\tlearn: 0.1555506\ttest: 0.1394226\tbest: 0.1394226 (100)\ttotal: 3m 55s\tremaining: 7m 44s\n",
      "101:\tlearn: 0.1554534\ttest: 0.1393756\tbest: 0.1393756 (101)\ttotal: 3m 59s\tremaining: 7m 44s\n",
      "102:\tlearn: 0.1554453\ttest: 0.1393657\tbest: 0.1393657 (102)\ttotal: 4m 1s\tremaining: 7m 42s\n",
      "103:\tlearn: 0.1553910\ttest: 0.1393337\tbest: 0.1393337 (103)\ttotal: 4m 5s\tremaining: 7m 42s\n",
      "104:\tlearn: 0.1553561\ttest: 0.1393127\tbest: 0.1393127 (104)\ttotal: 4m 7s\tremaining: 7m 40s\n",
      "105:\tlearn: 0.1551613\ttest: 0.1390905\tbest: 0.1390905 (105)\ttotal: 4m 11s\tremaining: 7m 39s\n",
      "106:\tlearn: 0.1551237\ttest: 0.1390598\tbest: 0.1390598 (106)\ttotal: 4m 13s\tremaining: 7m 37s\n",
      "107:\tlearn: 0.1549844\ttest: 0.1390834\tbest: 0.1390598 (106)\ttotal: 4m 16s\tremaining: 7m 36s\n",
      "108:\tlearn: 0.1548531\ttest: 0.1391444\tbest: 0.1390598 (106)\ttotal: 4m 19s\tremaining: 7m 34s\n",
      "109:\tlearn: 0.1547212\ttest: 0.1390899\tbest: 0.1390598 (106)\ttotal: 4m 22s\tremaining: 7m 33s\n",
      "110:\tlearn: 0.1546145\ttest: 0.1390090\tbest: 0.1390090 (110)\ttotal: 4m 25s\tremaining: 7m 31s\n",
      "111:\tlearn: 0.1544496\ttest: 0.1389742\tbest: 0.1389742 (111)\ttotal: 4m 28s\tremaining: 7m 30s\n",
      "112:\tlearn: 0.1543908\ttest: 0.1389791\tbest: 0.1389742 (111)\ttotal: 4m 31s\tremaining: 7m 28s\n",
      "113:\tlearn: 0.1542793\ttest: 0.1389190\tbest: 0.1389190 (113)\ttotal: 4m 33s\tremaining: 7m 26s\n",
      "114:\tlearn: 0.1542168\ttest: 0.1389432\tbest: 0.1389190 (113)\ttotal: 4m 36s\tremaining: 7m 25s\n",
      "115:\tlearn: 0.1542093\ttest: 0.1389506\tbest: 0.1389190 (113)\ttotal: 4m 39s\tremaining: 7m 23s\n",
      "116:\tlearn: 0.1542092\ttest: 0.1389511\tbest: 0.1389190 (113)\ttotal: 4m 41s\tremaining: 7m 19s\n",
      "117:\tlearn: 0.1541759\ttest: 0.1389537\tbest: 0.1389190 (113)\ttotal: 4m 44s\tremaining: 7m 18s\n",
      "118:\tlearn: 0.1541083\ttest: 0.1388752\tbest: 0.1388752 (118)\ttotal: 4m 47s\tremaining: 7m 16s\n",
      "119:\tlearn: 0.1540618\ttest: 0.1388463\tbest: 0.1388463 (119)\ttotal: 4m 50s\tremaining: 7m 16s\n",
      "120:\tlearn: 0.1539972\ttest: 0.1388822\tbest: 0.1388463 (119)\ttotal: 4m 53s\tremaining: 7m 14s\n",
      "121:\tlearn: 0.1539120\ttest: 0.1388907\tbest: 0.1388463 (119)\ttotal: 4m 56s\tremaining: 7m 12s\n",
      "122:\tlearn: 0.1538937\ttest: 0.1389101\tbest: 0.1388463 (119)\ttotal: 4m 59s\tremaining: 7m 10s\n",
      "123:\tlearn: 0.1538763\ttest: 0.1389091\tbest: 0.1388463 (119)\ttotal: 5m 2s\tremaining: 7m 9s\n",
      "124:\tlearn: 0.1537886\ttest: 0.1388892\tbest: 0.1388463 (119)\ttotal: 5m 5s\tremaining: 7m 7s\n",
      "125:\tlearn: 0.1537435\ttest: 0.1388442\tbest: 0.1388442 (125)\ttotal: 5m 8s\tremaining: 7m 6s\n",
      "126:\tlearn: 0.1535792\ttest: 0.1388805\tbest: 0.1388442 (125)\ttotal: 5m 11s\tremaining: 7m 4s\n",
      "127:\tlearn: 0.1533229\ttest: 0.1387560\tbest: 0.1387560 (127)\ttotal: 5m 15s\tremaining: 7m 3s\n",
      "128:\tlearn: 0.1531954\ttest: 0.1387478\tbest: 0.1387478 (128)\ttotal: 5m 18s\tremaining: 7m 1s\n",
      "129:\tlearn: 0.1530578\ttest: 0.1387214\tbest: 0.1387214 (129)\ttotal: 5m 21s\tremaining: 7m\n",
      "130:\tlearn: 0.1529870\ttest: 0.1387047\tbest: 0.1387047 (130)\ttotal: 5m 24s\tremaining: 6m 58s\n",
      "131:\tlearn: 0.1528824\ttest: 0.1386921\tbest: 0.1386921 (131)\ttotal: 5m 27s\tremaining: 6m 56s\n",
      "132:\tlearn: 0.1528593\ttest: 0.1386820\tbest: 0.1386820 (132)\ttotal: 5m 30s\tremaining: 6m 54s\n",
      "133:\tlearn: 0.1528417\ttest: 0.1386860\tbest: 0.1386820 (132)\ttotal: 5m 33s\tremaining: 6m 53s\n",
      "134:\tlearn: 0.1527574\ttest: 0.1386166\tbest: 0.1386166 (134)\ttotal: 5m 36s\tremaining: 6m 51s\n",
      "135:\tlearn: 0.1526407\ttest: 0.1386013\tbest: 0.1386013 (135)\ttotal: 5m 39s\tremaining: 6m 49s\n",
      "136:\tlearn: 0.1525968\ttest: 0.1386145\tbest: 0.1386013 (135)\ttotal: 5m 42s\tremaining: 6m 47s\n",
      "137:\tlearn: 0.1525217\ttest: 0.1385727\tbest: 0.1385727 (137)\ttotal: 5m 45s\tremaining: 6m 45s\n",
      "138:\tlearn: 0.1524364\ttest: 0.1386022\tbest: 0.1385727 (137)\ttotal: 5m 48s\tremaining: 6m 43s\n",
      "139:\tlearn: 0.1524264\ttest: 0.1386028\tbest: 0.1385727 (137)\ttotal: 5m 51s\tremaining: 6m 41s\n",
      "140:\tlearn: 0.1522908\ttest: 0.1385977\tbest: 0.1385727 (137)\ttotal: 5m 53s\tremaining: 6m 38s\n",
      "141:\tlearn: 0.1522511\ttest: 0.1385835\tbest: 0.1385727 (137)\ttotal: 5m 55s\tremaining: 6m 35s\n",
      "142:\tlearn: 0.1522223\ttest: 0.1385806\tbest: 0.1385727 (137)\ttotal: 5m 57s\tremaining: 6m 32s\n",
      "143:\tlearn: 0.1521283\ttest: 0.1385393\tbest: 0.1385393 (143)\ttotal: 5m 59s\tremaining: 6m 29s\n",
      "144:\tlearn: 0.1520399\ttest: 0.1385527\tbest: 0.1385393 (143)\ttotal: 6m 2s\tremaining: 6m 28s\n",
      "145:\tlearn: 0.1519743\ttest: 0.1385479\tbest: 0.1385393 (143)\ttotal: 6m 5s\tremaining: 6m 25s\n",
      "146:\tlearn: 0.1519347\ttest: 0.1385189\tbest: 0.1385189 (146)\ttotal: 6m 8s\tremaining: 6m 23s\n",
      "147:\tlearn: 0.1518005\ttest: 0.1384585\tbest: 0.1384585 (147)\ttotal: 6m 11s\tremaining: 6m 21s\n",
      "148:\tlearn: 0.1516984\ttest: 0.1384019\tbest: 0.1384019 (148)\ttotal: 6m 13s\tremaining: 6m 19s\n",
      "149:\tlearn: 0.1515902\ttest: 0.1384355\tbest: 0.1384019 (148)\ttotal: 6m 16s\tremaining: 6m 16s\n",
      "150:\tlearn: 0.1515049\ttest: 0.1384309\tbest: 0.1384019 (148)\ttotal: 6m 19s\tremaining: 6m 14s\n",
      "151:\tlearn: 0.1514548\ttest: 0.1384194\tbest: 0.1384019 (148)\ttotal: 6m 22s\tremaining: 6m 12s\n",
      "152:\tlearn: 0.1514079\ttest: 0.1384230\tbest: 0.1384019 (148)\ttotal: 6m 25s\tremaining: 6m 10s\n",
      "153:\tlearn: 0.1513961\ttest: 0.1384477\tbest: 0.1384019 (148)\ttotal: 6m 28s\tremaining: 6m 8s\n",
      "154:\tlearn: 0.1513485\ttest: 0.1384947\tbest: 0.1384019 (148)\ttotal: 6m 31s\tremaining: 6m 6s\n",
      "155:\tlearn: 0.1512321\ttest: 0.1385032\tbest: 0.1384019 (148)\ttotal: 6m 34s\tremaining: 6m 4s\n",
      "156:\tlearn: 0.1511855\ttest: 0.1385070\tbest: 0.1384019 (148)\ttotal: 6m 37s\tremaining: 6m 1s\n",
      "157:\tlearn: 0.1510930\ttest: 0.1384737\tbest: 0.1384019 (148)\ttotal: 6m 39s\tremaining: 5m 59s\n",
      "158:\tlearn: 0.1510767\ttest: 0.1384716\tbest: 0.1384019 (148)\ttotal: 6m 42s\tremaining: 5m 57s\n",
      "159:\tlearn: 0.1509864\ttest: 0.1384457\tbest: 0.1384019 (148)\ttotal: 6m 45s\tremaining: 5m 54s\n",
      "160:\tlearn: 0.1509613\ttest: 0.1384358\tbest: 0.1384019 (148)\ttotal: 6m 48s\tremaining: 5m 52s\n",
      "161:\tlearn: 0.1509168\ttest: 0.1384360\tbest: 0.1384019 (148)\ttotal: 6m 51s\tremaining: 5m 50s\n",
      "162:\tlearn: 0.1508943\ttest: 0.1384590\tbest: 0.1384019 (148)\ttotal: 6m 53s\tremaining: 5m 47s\n",
      "163:\tlearn: 0.1506705\ttest: 0.1383060\tbest: 0.1383060 (163)\ttotal: 6m 56s\tremaining: 5m 45s\n",
      "164:\tlearn: 0.1506455\ttest: 0.1383198\tbest: 0.1383060 (163)\ttotal: 6m 58s\tremaining: 5m 42s\n",
      "165:\tlearn: 0.1506130\ttest: 0.1383591\tbest: 0.1383060 (163)\ttotal: 7m 1s\tremaining: 5m 40s\n",
      "166:\tlearn: 0.1505797\ttest: 0.1383476\tbest: 0.1383060 (163)\ttotal: 7m 4s\tremaining: 5m 38s\n",
      "167:\tlearn: 0.1504961\ttest: 0.1383383\tbest: 0.1383060 (163)\ttotal: 7m 7s\tremaining: 5m 35s\n",
      "168:\tlearn: 0.1504876\ttest: 0.1383382\tbest: 0.1383060 (163)\ttotal: 7m 10s\tremaining: 5m 33s\n",
      "169:\tlearn: 0.1504685\ttest: 0.1383375\tbest: 0.1383060 (163)\ttotal: 7m 13s\tremaining: 5m 31s\n",
      "170:\tlearn: 0.1502646\ttest: 0.1381894\tbest: 0.1381894 (170)\ttotal: 7m 17s\tremaining: 5m 29s\n",
      "171:\tlearn: 0.1502347\ttest: 0.1382152\tbest: 0.1381894 (170)\ttotal: 7m 20s\tremaining: 5m 27s\n",
      "172:\tlearn: 0.1501830\ttest: 0.1382050\tbest: 0.1381894 (170)\ttotal: 7m 22s\tremaining: 5m 24s\n",
      "173:\tlearn: 0.1501788\ttest: 0.1382057\tbest: 0.1381894 (170)\ttotal: 7m 24s\tremaining: 5m 21s\n",
      "174:\tlearn: 0.1500400\ttest: 0.1382313\tbest: 0.1381894 (170)\ttotal: 7m 27s\tremaining: 5m 19s\n",
      "175:\tlearn: 0.1498789\ttest: 0.1382300\tbest: 0.1381894 (170)\ttotal: 7m 30s\tremaining: 5m 17s\n",
      "176:\tlearn: 0.1498606\ttest: 0.1382297\tbest: 0.1381894 (170)\ttotal: 7m 32s\tremaining: 5m 14s\n",
      "177:\tlearn: 0.1498567\ttest: 0.1382498\tbest: 0.1381894 (170)\ttotal: 7m 35s\tremaining: 5m 11s\n",
      "178:\tlearn: 0.1498393\ttest: 0.1382589\tbest: 0.1381894 (170)\ttotal: 7m 37s\tremaining: 5m 9s\n",
      "179:\tlearn: 0.1498258\ttest: 0.1382674\tbest: 0.1381894 (170)\ttotal: 7m 39s\tremaining: 5m 6s\n",
      "180:\tlearn: 0.1497699\ttest: 0.1382955\tbest: 0.1381894 (170)\ttotal: 7m 42s\tremaining: 5m 4s\n",
      "181:\tlearn: 0.1497549\ttest: 0.1383009\tbest: 0.1381894 (170)\ttotal: 7m 45s\tremaining: 5m 1s\n"
     ]
    },
    {
     "name": "stdout",
     "output_type": "stream",
     "text": [
      "182:\tlearn: 0.1496138\ttest: 0.1383078\tbest: 0.1381894 (170)\ttotal: 7m 47s\tremaining: 4m 59s\n",
      "183:\tlearn: 0.1496081\ttest: 0.1383097\tbest: 0.1381894 (170)\ttotal: 7m 50s\tremaining: 4m 56s\n",
      "184:\tlearn: 0.1495967\ttest: 0.1383058\tbest: 0.1381894 (170)\ttotal: 7m 52s\tremaining: 4m 53s\n",
      "185:\tlearn: 0.1495236\ttest: 0.1382954\tbest: 0.1381894 (170)\ttotal: 7m 55s\tremaining: 4m 51s\n",
      "186:\tlearn: 0.1493702\ttest: 0.1382785\tbest: 0.1381894 (170)\ttotal: 7m 57s\tremaining: 4m 48s\n",
      "187:\tlearn: 0.1492876\ttest: 0.1382142\tbest: 0.1381894 (170)\ttotal: 8m 1s\tremaining: 4m 46s\n",
      "188:\tlearn: 0.1492686\ttest: 0.1382200\tbest: 0.1381894 (170)\ttotal: 8m 3s\tremaining: 4m 44s\n",
      "189:\tlearn: 0.1492641\ttest: 0.1382170\tbest: 0.1381894 (170)\ttotal: 8m 6s\tremaining: 4m 41s\n",
      "190:\tlearn: 0.1492334\ttest: 0.1382342\tbest: 0.1381894 (170)\ttotal: 8m 9s\tremaining: 4m 39s\n",
      "191:\tlearn: 0.1492024\ttest: 0.1382736\tbest: 0.1381894 (170)\ttotal: 8m 11s\tremaining: 4m 36s\n",
      "192:\tlearn: 0.1491765\ttest: 0.1383018\tbest: 0.1381894 (170)\ttotal: 8m 15s\tremaining: 4m 34s\n",
      "193:\tlearn: 0.1491131\ttest: 0.1382764\tbest: 0.1381894 (170)\ttotal: 8m 17s\tremaining: 4m 32s\n",
      "194:\tlearn: 0.1490042\ttest: 0.1382285\tbest: 0.1381894 (170)\ttotal: 8m 21s\tremaining: 4m 30s\n",
      "195:\tlearn: 0.1489817\ttest: 0.1382297\tbest: 0.1381894 (170)\ttotal: 8m 24s\tremaining: 4m 27s\n",
      "196:\tlearn: 0.1488334\ttest: 0.1381468\tbest: 0.1381468 (196)\ttotal: 8m 26s\tremaining: 4m 24s\n",
      "197:\tlearn: 0.1488279\ttest: 0.1381593\tbest: 0.1381468 (196)\ttotal: 8m 29s\tremaining: 4m 22s\n",
      "198:\tlearn: 0.1487791\ttest: 0.1381695\tbest: 0.1381468 (196)\ttotal: 8m 32s\tremaining: 4m 19s\n",
      "199:\tlearn: 0.1487708\ttest: 0.1381806\tbest: 0.1381468 (196)\ttotal: 8m 35s\tremaining: 4m 17s\n",
      "200:\tlearn: 0.1486424\ttest: 0.1381162\tbest: 0.1381162 (200)\ttotal: 8m 38s\tremaining: 4m 15s\n",
      "201:\tlearn: 0.1485593\ttest: 0.1381044\tbest: 0.1381044 (201)\ttotal: 8m 40s\tremaining: 4m 12s\n",
      "202:\tlearn: 0.1485333\ttest: 0.1381443\tbest: 0.1381044 (201)\ttotal: 8m 43s\tremaining: 4m 10s\n",
      "203:\tlearn: 0.1485023\ttest: 0.1381376\tbest: 0.1381044 (201)\ttotal: 8m 46s\tremaining: 4m 7s\n",
      "204:\tlearn: 0.1484943\ttest: 0.1381382\tbest: 0.1381044 (201)\ttotal: 8m 49s\tremaining: 4m 5s\n",
      "205:\tlearn: 0.1484703\ttest: 0.1381897\tbest: 0.1381044 (201)\ttotal: 8m 52s\tremaining: 4m 2s\n",
      "206:\tlearn: 0.1484606\ttest: 0.1382009\tbest: 0.1381044 (201)\ttotal: 8m 54s\tremaining: 4m\n",
      "207:\tlearn: 0.1484171\ttest: 0.1382469\tbest: 0.1381044 (201)\ttotal: 8m 56s\tremaining: 3m 57s\n",
      "208:\tlearn: 0.1484094\ttest: 0.1382457\tbest: 0.1381044 (201)\ttotal: 8m 59s\tremaining: 3m 55s\n",
      "209:\tlearn: 0.1483476\ttest: 0.1381963\tbest: 0.1381044 (201)\ttotal: 9m 2s\tremaining: 3m 52s\n",
      "210:\tlearn: 0.1482936\ttest: 0.1381630\tbest: 0.1381044 (201)\ttotal: 9m 6s\tremaining: 3m 50s\n",
      "211:\tlearn: 0.1482401\ttest: 0.1381492\tbest: 0.1381044 (201)\ttotal: 9m 8s\tremaining: 3m 47s\n",
      "212:\tlearn: 0.1482359\ttest: 0.1381495\tbest: 0.1381044 (201)\ttotal: 9m 11s\tremaining: 3m 45s\n",
      "213:\tlearn: 0.1482281\ttest: 0.1381374\tbest: 0.1381044 (201)\ttotal: 9m 13s\tremaining: 3m 42s\n",
      "214:\tlearn: 0.1481753\ttest: 0.1381238\tbest: 0.1381044 (201)\ttotal: 9m 16s\tremaining: 3m 40s\n",
      "215:\tlearn: 0.1481516\ttest: 0.1381492\tbest: 0.1381044 (201)\ttotal: 9m 19s\tremaining: 3m 37s\n",
      "216:\tlearn: 0.1480862\ttest: 0.1381667\tbest: 0.1381044 (201)\ttotal: 9m 23s\tremaining: 3m 35s\n",
      "217:\tlearn: 0.1480153\ttest: 0.1381590\tbest: 0.1381044 (201)\ttotal: 9m 26s\tremaining: 3m 33s\n",
      "218:\tlearn: 0.1479934\ttest: 0.1381570\tbest: 0.1381044 (201)\ttotal: 9m 30s\tremaining: 3m 30s\n",
      "219:\tlearn: 0.1479591\ttest: 0.1381698\tbest: 0.1381044 (201)\ttotal: 9m 32s\tremaining: 3m 28s\n",
      "220:\tlearn: 0.1478444\ttest: 0.1381146\tbest: 0.1381044 (201)\ttotal: 9m 34s\tremaining: 3m 25s\n",
      "221:\tlearn: 0.1478282\ttest: 0.1381069\tbest: 0.1381044 (201)\ttotal: 9m 37s\tremaining: 3m 22s\n",
      "222:\tlearn: 0.1478138\ttest: 0.1381181\tbest: 0.1381044 (201)\ttotal: 9m 38s\tremaining: 3m 19s\n",
      "223:\tlearn: 0.1477958\ttest: 0.1381424\tbest: 0.1381044 (201)\ttotal: 9m 40s\tremaining: 3m 17s\n",
      "224:\tlearn: 0.1477877\ttest: 0.1381455\tbest: 0.1381044 (201)\ttotal: 9m 43s\tremaining: 3m 14s\n",
      "225:\tlearn: 0.1477385\ttest: 0.1381052\tbest: 0.1381044 (201)\ttotal: 9m 46s\tremaining: 3m 12s\n",
      "226:\tlearn: 0.1477341\ttest: 0.1381325\tbest: 0.1381044 (201)\ttotal: 9m 50s\tremaining: 3m 9s\n",
      "227:\tlearn: 0.1477033\ttest: 0.1381182\tbest: 0.1381044 (201)\ttotal: 9m 53s\tremaining: 3m 7s\n",
      "228:\tlearn: 0.1476388\ttest: 0.1382014\tbest: 0.1381044 (201)\ttotal: 9m 55s\tremaining: 3m 4s\n",
      "229:\tlearn: 0.1476347\ttest: 0.1382025\tbest: 0.1381044 (201)\ttotal: 9m 58s\tremaining: 3m 2s\n",
      "230:\tlearn: 0.1476226\ttest: 0.1381866\tbest: 0.1381044 (201)\ttotal: 10m\tremaining: 2m 59s\n",
      "231:\tlearn: 0.1476094\ttest: 0.1381958\tbest: 0.1381044 (201)\ttotal: 10m 3s\tremaining: 2m 56s\n",
      "232:\tlearn: 0.1475545\ttest: 0.1381909\tbest: 0.1381044 (201)\ttotal: 10m 6s\tremaining: 2m 54s\n",
      "233:\tlearn: 0.1475165\ttest: 0.1382360\tbest: 0.1381044 (201)\ttotal: 10m 8s\tremaining: 2m 51s\n",
      "234:\tlearn: 0.1474382\ttest: 0.1382145\tbest: 0.1381044 (201)\ttotal: 10m 11s\tremaining: 2m 49s\n",
      "235:\tlearn: 0.1473371\ttest: 0.1382160\tbest: 0.1381044 (201)\ttotal: 10m 15s\tremaining: 2m 46s\n",
      "236:\tlearn: 0.1473037\ttest: 0.1381619\tbest: 0.1381044 (201)\ttotal: 10m 18s\tremaining: 2m 44s\n",
      "237:\tlearn: 0.1472226\ttest: 0.1379874\tbest: 0.1379874 (237)\ttotal: 10m 21s\tremaining: 2m 41s\n",
      "238:\tlearn: 0.1472133\ttest: 0.1380149\tbest: 0.1379874 (237)\ttotal: 10m 24s\tremaining: 2m 39s\n",
      "239:\tlearn: 0.1470881\ttest: 0.1380072\tbest: 0.1379874 (237)\ttotal: 10m 27s\tremaining: 2m 36s\n",
      "240:\tlearn: 0.1470810\ttest: 0.1380165\tbest: 0.1379874 (237)\ttotal: 10m 30s\tremaining: 2m 34s\n",
      "241:\tlearn: 0.1470289\ttest: 0.1380211\tbest: 0.1379874 (237)\ttotal: 10m 34s\tremaining: 2m 32s\n",
      "242:\tlearn: 0.1470127\ttest: 0.1380440\tbest: 0.1379874 (237)\ttotal: 10m 37s\tremaining: 2m 29s\n",
      "243:\tlearn: 0.1470025\ttest: 0.1380721\tbest: 0.1379874 (237)\ttotal: 10m 40s\tremaining: 2m 26s\n",
      "244:\tlearn: 0.1468293\ttest: 0.1379561\tbest: 0.1379561 (244)\ttotal: 10m 43s\tremaining: 2m 24s\n",
      "245:\tlearn: 0.1468127\ttest: 0.1379530\tbest: 0.1379530 (245)\ttotal: 10m 46s\tremaining: 2m 21s\n",
      "246:\tlearn: 0.1467986\ttest: 0.1379866\tbest: 0.1379530 (245)\ttotal: 10m 49s\tremaining: 2m 19s\n",
      "247:\tlearn: 0.1467932\ttest: 0.1379841\tbest: 0.1379530 (245)\ttotal: 10m 51s\tremaining: 2m 16s\n",
      "248:\tlearn: 0.1467902\ttest: 0.1379847\tbest: 0.1379530 (245)\ttotal: 10m 53s\tremaining: 2m 13s\n",
      "249:\tlearn: 0.1467865\ttest: 0.1379918\tbest: 0.1379530 (245)\ttotal: 10m 55s\tremaining: 2m 11s\n",
      "250:\tlearn: 0.1467162\ttest: 0.1379267\tbest: 0.1379267 (250)\ttotal: 10m 57s\tremaining: 2m 8s\n",
      "251:\tlearn: 0.1465831\ttest: 0.1378305\tbest: 0.1378305 (251)\ttotal: 10m 59s\tremaining: 2m 5s\n",
      "252:\tlearn: 0.1465591\ttest: 0.1378197\tbest: 0.1378197 (252)\ttotal: 11m 2s\tremaining: 2m 3s\n",
      "253:\tlearn: 0.1465580\ttest: 0.1378198\tbest: 0.1378197 (252)\ttotal: 11m 5s\tremaining: 2m\n",
      "254:\tlearn: 0.1465075\ttest: 0.1378523\tbest: 0.1378197 (252)\ttotal: 11m 8s\tremaining: 1m 58s\n",
      "255:\tlearn: 0.1464915\ttest: 0.1378511\tbest: 0.1378197 (252)\ttotal: 11m 11s\tremaining: 1m 55s\n",
      "256:\tlearn: 0.1464682\ttest: 0.1378426\tbest: 0.1378197 (252)\ttotal: 11m 14s\tremaining: 1m 52s\n",
      "257:\tlearn: 0.1464526\ttest: 0.1378084\tbest: 0.1378084 (257)\ttotal: 11m 17s\tremaining: 1m 50s\n",
      "258:\tlearn: 0.1464384\ttest: 0.1378300\tbest: 0.1378084 (257)\ttotal: 11m 20s\tremaining: 1m 47s\n",
      "259:\tlearn: 0.1463154\ttest: 0.1377342\tbest: 0.1377342 (259)\ttotal: 11m 23s\tremaining: 1m 45s\n",
      "260:\tlearn: 0.1462973\ttest: 0.1377394\tbest: 0.1377342 (259)\ttotal: 11m 25s\tremaining: 1m 42s\n",
      "261:\tlearn: 0.1462871\ttest: 0.1377385\tbest: 0.1377342 (259)\ttotal: 11m 28s\tremaining: 1m 39s\n",
      "262:\tlearn: 0.1462296\ttest: 0.1377092\tbest: 0.1377092 (262)\ttotal: 11m 31s\tremaining: 1m 37s\n",
      "263:\tlearn: 0.1462223\ttest: 0.1377157\tbest: 0.1377092 (262)\ttotal: 11m 34s\tremaining: 1m 34s\n",
      "264:\tlearn: 0.1462198\ttest: 0.1377159\tbest: 0.1377092 (262)\ttotal: 11m 37s\tremaining: 1m 32s\n",
      "265:\tlearn: 0.1461720\ttest: 0.1377427\tbest: 0.1377092 (262)\ttotal: 11m 40s\tremaining: 1m 29s\n",
      "266:\tlearn: 0.1461646\ttest: 0.1377504\tbest: 0.1377092 (262)\ttotal: 11m 43s\tremaining: 1m 26s\n",
      "267:\tlearn: 0.1461306\ttest: 0.1377786\tbest: 0.1377092 (262)\ttotal: 11m 46s\tremaining: 1m 24s\n",
      "268:\tlearn: 0.1461285\ttest: 0.1377789\tbest: 0.1377092 (262)\ttotal: 11m 49s\tremaining: 1m 21s\n",
      "269:\tlearn: 0.1461258\ttest: 0.1377806\tbest: 0.1377092 (262)\ttotal: 11m 51s\tremaining: 1m 19s\n",
      "270:\tlearn: 0.1460957\ttest: 0.1378169\tbest: 0.1377092 (262)\ttotal: 11m 54s\tremaining: 1m 16s\n"
     ]
    },
    {
     "name": "stdout",
     "output_type": "stream",
     "text": [
      "271:\tlearn: 0.1460899\ttest: 0.1378207\tbest: 0.1377092 (262)\ttotal: 11m 57s\tremaining: 1m 13s\n",
      "272:\tlearn: 0.1460866\ttest: 0.1378255\tbest: 0.1377092 (262)\ttotal: 11m 59s\tremaining: 1m 11s\n",
      "273:\tlearn: 0.1460095\ttest: 0.1377706\tbest: 0.1377092 (262)\ttotal: 12m 3s\tremaining: 1m 8s\n",
      "274:\tlearn: 0.1460086\ttest: 0.1377486\tbest: 0.1377092 (262)\ttotal: 12m 6s\tremaining: 1m 6s\n",
      "275:\tlearn: 0.1458977\ttest: 0.1377589\tbest: 0.1377092 (262)\ttotal: 12m 8s\tremaining: 1m 3s\n",
      "276:\tlearn: 0.1458849\ttest: 0.1377632\tbest: 0.1377092 (262)\ttotal: 12m 11s\tremaining: 1m\n",
      "277:\tlearn: 0.1458240\ttest: 0.1377614\tbest: 0.1377092 (262)\ttotal: 12m 13s\tremaining: 58.1s\n",
      "278:\tlearn: 0.1457944\ttest: 0.1377938\tbest: 0.1377092 (262)\ttotal: 12m 15s\tremaining: 55.4s\n",
      "279:\tlearn: 0.1457654\ttest: 0.1378046\tbest: 0.1377092 (262)\ttotal: 12m 18s\tremaining: 52.7s\n",
      "280:\tlearn: 0.1457637\ttest: 0.1378050\tbest: 0.1377092 (262)\ttotal: 12m 20s\tremaining: 50.1s\n",
      "281:\tlearn: 0.1456353\ttest: 0.1378198\tbest: 0.1377092 (262)\ttotal: 12m 22s\tremaining: 47.4s\n",
      "282:\tlearn: 0.1456062\ttest: 0.1378408\tbest: 0.1377092 (262)\ttotal: 12m 24s\tremaining: 44.7s\n",
      "283:\tlearn: 0.1456041\ttest: 0.1378348\tbest: 0.1377092 (262)\ttotal: 12m 28s\tremaining: 42.2s\n",
      "284:\tlearn: 0.1455886\ttest: 0.1378791\tbest: 0.1377092 (262)\ttotal: 12m 31s\tremaining: 39.5s\n",
      "285:\tlearn: 0.1455830\ttest: 0.1378780\tbest: 0.1377092 (262)\ttotal: 12m 34s\tremaining: 36.9s\n",
      "286:\tlearn: 0.1455764\ttest: 0.1378827\tbest: 0.1377092 (262)\ttotal: 12m 37s\tremaining: 34.3s\n",
      "287:\tlearn: 0.1455699\ttest: 0.1378888\tbest: 0.1377092 (262)\ttotal: 12m 39s\tremaining: 31.7s\n",
      "288:\tlearn: 0.1455641\ttest: 0.1378745\tbest: 0.1377092 (262)\ttotal: 12m 42s\tremaining: 29s\n",
      "289:\tlearn: 0.1455496\ttest: 0.1378891\tbest: 0.1377092 (262)\ttotal: 12m 45s\tremaining: 26.4s\n",
      "290:\tlearn: 0.1455332\ttest: 0.1378846\tbest: 0.1377092 (262)\ttotal: 12m 48s\tremaining: 23.8s\n",
      "291:\tlearn: 0.1454862\ttest: 0.1378768\tbest: 0.1377092 (262)\ttotal: 12m 50s\tremaining: 21.1s\n",
      "292:\tlearn: 0.1454532\ttest: 0.1379334\tbest: 0.1377092 (262)\ttotal: 12m 52s\tremaining: 18.5s\n",
      "293:\tlearn: 0.1453951\ttest: 0.1379596\tbest: 0.1377092 (262)\ttotal: 12m 54s\tremaining: 15.8s\n",
      "294:\tlearn: 0.1453837\ttest: 0.1379521\tbest: 0.1377092 (262)\ttotal: 12m 56s\tremaining: 13.2s\n",
      "295:\tlearn: 0.1453732\ttest: 0.1379728\tbest: 0.1377092 (262)\ttotal: 12m 59s\tremaining: 10.5s\n",
      "296:\tlearn: 0.1453080\ttest: 0.1380012\tbest: 0.1377092 (262)\ttotal: 13m 1s\tremaining: 7.89s\n",
      "297:\tlearn: 0.1452970\ttest: 0.1379746\tbest: 0.1377092 (262)\ttotal: 13m 3s\tremaining: 5.26s\n",
      "298:\tlearn: 0.1452224\ttest: 0.1379479\tbest: 0.1377092 (262)\ttotal: 13m 5s\tremaining: 2.63s\n",
      "299:\tlearn: 0.1452004\ttest: 0.1379528\tbest: 0.1377092 (262)\ttotal: 13m 7s\tremaining: 0us\n",
      "\n",
      "bestTest = 0.1377092211\n",
      "bestIteration = 262\n",
      "\n",
      "Shrink model to first 263 iterations.\n",
      "0\n",
      "0:\tlearn: 0.5790122\ttest: 0.5797377\tbest: 0.5797377 (0)\ttotal: 1.2s\tremaining: 5m 57s\n",
      "1:\tlearn: 0.4926897\ttest: 0.4940680\tbest: 0.4940680 (1)\ttotal: 2.7s\tremaining: 6m 41s\n",
      "2:\tlearn: 0.4276522\ttest: 0.4296182\tbest: 0.4296182 (2)\ttotal: 4.4s\tremaining: 7m 15s\n",
      "3:\tlearn: 0.3766878\ttest: 0.3788872\tbest: 0.3788872 (3)\ttotal: 6.5s\tremaining: 8m\n",
      "4:\tlearn: 0.3381318\ttest: 0.3397291\tbest: 0.3397291 (4)\ttotal: 8.29s\tremaining: 8m 9s\n",
      "5:\tlearn: 0.3057518\ttest: 0.3069987\tbest: 0.3069987 (5)\ttotal: 10.3s\tremaining: 8m 24s\n",
      "6:\tlearn: 0.2799086\ttest: 0.2804603\tbest: 0.2804603 (6)\ttotal: 12.7s\tremaining: 8m 51s\n",
      "7:\tlearn: 0.2608573\ttest: 0.2606719\tbest: 0.2606719 (7)\ttotal: 15.1s\tremaining: 9m 11s\n",
      "8:\tlearn: 0.2421892\ttest: 0.2408010\tbest: 0.2408010 (8)\ttotal: 17.5s\tremaining: 9m 25s\n",
      "9:\tlearn: 0.2273642\ttest: 0.2245106\tbest: 0.2245106 (9)\ttotal: 19.7s\tremaining: 9m 31s\n",
      "10:\tlearn: 0.2166504\ttest: 0.2128568\tbest: 0.2128568 (10)\ttotal: 21.6s\tremaining: 9m 27s\n",
      "11:\tlearn: 0.2083302\ttest: 0.2035063\tbest: 0.2035063 (11)\ttotal: 23.5s\tremaining: 9m 23s\n",
      "12:\tlearn: 0.2016542\ttest: 0.1957889\tbest: 0.1957889 (12)\ttotal: 25.6s\tremaining: 9m 24s\n",
      "13:\tlearn: 0.1960012\ttest: 0.1890150\tbest: 0.1890150 (13)\ttotal: 28.1s\tremaining: 9m 33s\n",
      "14:\tlearn: 0.1916597\ttest: 0.1837052\tbest: 0.1837052 (14)\ttotal: 29.9s\tremaining: 9m 28s\n",
      "15:\tlearn: 0.1880803\ttest: 0.1791472\tbest: 0.1791472 (15)\ttotal: 31.9s\tremaining: 9m 26s\n",
      "16:\tlearn: 0.1850936\ttest: 0.1753800\tbest: 0.1753800 (16)\ttotal: 33.6s\tremaining: 9m 19s\n",
      "17:\tlearn: 0.1829805\ttest: 0.1725593\tbest: 0.1725593 (17)\ttotal: 35.4s\tremaining: 9m 14s\n",
      "18:\tlearn: 0.1810911\ttest: 0.1699013\tbest: 0.1699013 (18)\ttotal: 37.7s\tremaining: 9m 17s\n",
      "19:\tlearn: 0.1791700\ttest: 0.1668693\tbest: 0.1668693 (19)\ttotal: 40.2s\tremaining: 9m 22s\n",
      "20:\tlearn: 0.1768731\ttest: 0.1638154\tbest: 0.1638154 (20)\ttotal: 42.4s\tremaining: 9m 23s\n",
      "21:\tlearn: 0.1757087\ttest: 0.1623343\tbest: 0.1623343 (21)\ttotal: 44.2s\tremaining: 9m 18s\n",
      "22:\tlearn: 0.1745847\ttest: 0.1607712\tbest: 0.1607712 (22)\ttotal: 45.7s\tremaining: 9m 10s\n",
      "23:\tlearn: 0.1731905\ttest: 0.1588620\tbest: 0.1588620 (23)\ttotal: 48s\tremaining: 9m 12s\n",
      "24:\tlearn: 0.1720241\ttest: 0.1574445\tbest: 0.1574445 (24)\ttotal: 50.1s\tremaining: 9m 11s\n",
      "25:\tlearn: 0.1711983\ttest: 0.1562879\tbest: 0.1562879 (25)\ttotal: 52.5s\tremaining: 9m 13s\n",
      "26:\tlearn: 0.1698138\ttest: 0.1543959\tbest: 0.1543959 (26)\ttotal: 54.8s\tremaining: 9m 14s\n",
      "27:\tlearn: 0.1683625\ttest: 0.1522027\tbest: 0.1522027 (27)\ttotal: 57.5s\tremaining: 9m 18s\n",
      "28:\tlearn: 0.1680483\ttest: 0.1517843\tbest: 0.1517843 (28)\ttotal: 59.5s\tremaining: 9m 16s\n",
      "29:\tlearn: 0.1673239\ttest: 0.1506020\tbest: 0.1506020 (29)\ttotal: 1m 1s\tremaining: 9m 12s\n",
      "30:\tlearn: 0.1667982\ttest: 0.1501396\tbest: 0.1501396 (30)\ttotal: 1m 3s\tremaining: 9m 13s\n",
      "31:\tlearn: 0.1660950\ttest: 0.1493840\tbest: 0.1493840 (31)\ttotal: 1m 6s\tremaining: 9m 16s\n",
      "32:\tlearn: 0.1659538\ttest: 0.1491466\tbest: 0.1491466 (32)\ttotal: 1m 8s\tremaining: 9m 17s\n",
      "33:\tlearn: 0.1656612\ttest: 0.1488368\tbest: 0.1488368 (33)\ttotal: 1m 11s\tremaining: 9m 17s\n",
      "34:\tlearn: 0.1650283\ttest: 0.1479212\tbest: 0.1479212 (34)\ttotal: 1m 14s\tremaining: 9m 21s\n",
      "35:\tlearn: 0.1647145\ttest: 0.1475543\tbest: 0.1475543 (35)\ttotal: 1m 16s\tremaining: 9m 20s\n",
      "36:\tlearn: 0.1642845\ttest: 0.1470579\tbest: 0.1470579 (36)\ttotal: 1m 18s\tremaining: 9m 20s\n",
      "37:\tlearn: 0.1639190\ttest: 0.1464310\tbest: 0.1464310 (37)\ttotal: 1m 21s\tremaining: 9m 19s\n",
      "38:\tlearn: 0.1636684\ttest: 0.1462885\tbest: 0.1462885 (38)\ttotal: 1m 23s\tremaining: 9m 18s\n",
      "39:\tlearn: 0.1633571\ttest: 0.1461189\tbest: 0.1461189 (39)\ttotal: 1m 26s\tremaining: 9m 18s\n",
      "40:\tlearn: 0.1629953\ttest: 0.1458294\tbest: 0.1458294 (40)\ttotal: 1m 28s\tremaining: 9m 20s\n",
      "41:\tlearn: 0.1624918\ttest: 0.1452905\tbest: 0.1452905 (41)\ttotal: 1m 31s\tremaining: 9m 20s\n",
      "42:\tlearn: 0.1622542\ttest: 0.1450197\tbest: 0.1450197 (42)\ttotal: 1m 33s\tremaining: 9m 16s\n",
      "43:\tlearn: 0.1621805\ttest: 0.1449099\tbest: 0.1449099 (43)\ttotal: 1m 34s\tremaining: 9m 11s\n",
      "44:\tlearn: 0.1619744\ttest: 0.1445000\tbest: 0.1445000 (44)\ttotal: 1m 36s\tremaining: 9m 6s\n",
      "45:\tlearn: 0.1618358\ttest: 0.1443725\tbest: 0.1443725 (45)\ttotal: 1m 37s\tremaining: 9m 1s\n",
      "46:\tlearn: 0.1614051\ttest: 0.1439626\tbest: 0.1439626 (46)\ttotal: 1m 39s\tremaining: 8m 56s\n",
      "47:\tlearn: 0.1609354\ttest: 0.1434922\tbest: 0.1434922 (47)\ttotal: 1m 41s\tremaining: 8m 53s\n",
      "48:\tlearn: 0.1607711\ttest: 0.1434137\tbest: 0.1434137 (48)\ttotal: 1m 43s\tremaining: 8m 48s\n",
      "49:\tlearn: 0.1607060\ttest: 0.1433008\tbest: 0.1433008 (49)\ttotal: 1m 44s\tremaining: 8m 41s\n",
      "50:\tlearn: 0.1606281\ttest: 0.1432391\tbest: 0.1432391 (50)\ttotal: 1m 45s\tremaining: 8m 34s\n",
      "51:\tlearn: 0.1603824\ttest: 0.1429551\tbest: 0.1429551 (51)\ttotal: 1m 46s\tremaining: 8m 29s\n",
      "52:\tlearn: 0.1603747\ttest: 0.1429328\tbest: 0.1429328 (52)\ttotal: 1m 47s\tremaining: 8m 22s\n",
      "53:\tlearn: 0.1603122\ttest: 0.1428948\tbest: 0.1428948 (53)\ttotal: 1m 49s\tremaining: 8m 16s\n",
      "54:\tlearn: 0.1601356\ttest: 0.1427884\tbest: 0.1427884 (54)\ttotal: 1m 50s\tremaining: 8m 13s\n",
      "55:\tlearn: 0.1601042\ttest: 0.1426858\tbest: 0.1426858 (55)\ttotal: 1m 52s\tremaining: 8m 10s\n",
      "56:\tlearn: 0.1600856\ttest: 0.1426198\tbest: 0.1426198 (56)\ttotal: 1m 54s\tremaining: 8m 6s\n",
      "57:\tlearn: 0.1598471\ttest: 0.1423779\tbest: 0.1423779 (57)\ttotal: 1m 56s\tremaining: 8m 6s\n",
      "58:\tlearn: 0.1597035\ttest: 0.1423335\tbest: 0.1423335 (58)\ttotal: 1m 58s\tremaining: 8m 6s\n",
      "59:\tlearn: 0.1596746\ttest: 0.1423544\tbest: 0.1423335 (58)\ttotal: 2m\tremaining: 8m 3s\n",
      "60:\tlearn: 0.1594618\ttest: 0.1421019\tbest: 0.1421019 (60)\ttotal: 2m 2s\tremaining: 8m\n",
      "61:\tlearn: 0.1593322\ttest: 0.1419806\tbest: 0.1419806 (61)\ttotal: 2m 4s\tremaining: 7m 58s\n"
     ]
    },
    {
     "name": "stdout",
     "output_type": "stream",
     "text": [
      "62:\tlearn: 0.1592870\ttest: 0.1419518\tbest: 0.1419518 (62)\ttotal: 2m 6s\tremaining: 7m 54s\n",
      "63:\tlearn: 0.1592868\ttest: 0.1419520\tbest: 0.1419518 (62)\ttotal: 2m 7s\tremaining: 7m 50s\n",
      "64:\tlearn: 0.1590603\ttest: 0.1418904\tbest: 0.1418904 (64)\ttotal: 2m 9s\tremaining: 7m 49s\n",
      "65:\tlearn: 0.1589539\ttest: 0.1417868\tbest: 0.1417868 (65)\ttotal: 2m 12s\tremaining: 7m 48s\n",
      "66:\tlearn: 0.1589241\ttest: 0.1417661\tbest: 0.1417661 (66)\ttotal: 2m 14s\tremaining: 7m 46s\n",
      "67:\tlearn: 0.1587785\ttest: 0.1416667\tbest: 0.1416667 (67)\ttotal: 2m 16s\tremaining: 7m 45s\n",
      "68:\tlearn: 0.1587525\ttest: 0.1416154\tbest: 0.1416154 (68)\ttotal: 2m 17s\tremaining: 7m 41s\n",
      "69:\tlearn: 0.1586537\ttest: 0.1415189\tbest: 0.1415189 (69)\ttotal: 2m 20s\tremaining: 7m 40s\n",
      "70:\tlearn: 0.1586390\ttest: 0.1414607\tbest: 0.1414607 (70)\ttotal: 2m 21s\tremaining: 7m 36s\n",
      "71:\tlearn: 0.1586249\ttest: 0.1414089\tbest: 0.1414089 (71)\ttotal: 2m 23s\tremaining: 7m 33s\n",
      "72:\tlearn: 0.1585593\ttest: 0.1414065\tbest: 0.1414065 (72)\ttotal: 2m 25s\tremaining: 7m 33s\n",
      "73:\tlearn: 0.1579320\ttest: 0.1408930\tbest: 0.1408930 (73)\ttotal: 2m 28s\tremaining: 7m 32s\n",
      "74:\tlearn: 0.1579159\ttest: 0.1408814\tbest: 0.1408814 (74)\ttotal: 2m 29s\tremaining: 7m 29s\n",
      "75:\tlearn: 0.1574945\ttest: 0.1405231\tbest: 0.1405231 (75)\ttotal: 2m 31s\tremaining: 7m 26s\n",
      "76:\tlearn: 0.1574778\ttest: 0.1405205\tbest: 0.1405205 (76)\ttotal: 2m 33s\tremaining: 7m 23s\n",
      "77:\tlearn: 0.1574411\ttest: 0.1405153\tbest: 0.1405153 (77)\ttotal: 2m 35s\tremaining: 7m 23s\n",
      "78:\tlearn: 0.1573014\ttest: 0.1404506\tbest: 0.1404506 (78)\ttotal: 2m 38s\tremaining: 7m 22s\n",
      "79:\tlearn: 0.1572453\ttest: 0.1404500\tbest: 0.1404500 (79)\ttotal: 2m 40s\tremaining: 7m 21s\n",
      "80:\tlearn: 0.1571754\ttest: 0.1403855\tbest: 0.1403855 (80)\ttotal: 2m 42s\tremaining: 7m 18s\n",
      "81:\tlearn: 0.1566702\ttest: 0.1400742\tbest: 0.1400742 (81)\ttotal: 2m 44s\tremaining: 7m 17s\n",
      "82:\tlearn: 0.1566649\ttest: 0.1400511\tbest: 0.1400511 (82)\ttotal: 2m 45s\tremaining: 7m 13s\n",
      "83:\tlearn: 0.1565956\ttest: 0.1400350\tbest: 0.1400350 (83)\ttotal: 2m 47s\tremaining: 7m 11s\n",
      "84:\tlearn: 0.1565905\ttest: 0.1400391\tbest: 0.1400350 (83)\ttotal: 2m 49s\tremaining: 7m 7s\n",
      "85:\tlearn: 0.1565516\ttest: 0.1400358\tbest: 0.1400350 (83)\ttotal: 2m 51s\tremaining: 7m 7s\n",
      "86:\tlearn: 0.1565198\ttest: 0.1400072\tbest: 0.1400072 (86)\ttotal: 2m 54s\tremaining: 7m 6s\n",
      "87:\tlearn: 0.1564099\ttest: 0.1399455\tbest: 0.1399455 (87)\ttotal: 2m 57s\tremaining: 7m 6s\n",
      "88:\tlearn: 0.1562931\ttest: 0.1399080\tbest: 0.1399080 (88)\ttotal: 2m 59s\tremaining: 7m 6s\n",
      "89:\tlearn: 0.1561017\ttest: 0.1399188\tbest: 0.1399080 (88)\ttotal: 3m 2s\tremaining: 7m 5s\n",
      "90:\tlearn: 0.1560812\ttest: 0.1398999\tbest: 0.1398999 (90)\ttotal: 3m 5s\tremaining: 7m 5s\n",
      "91:\tlearn: 0.1560791\ttest: 0.1399008\tbest: 0.1398999 (90)\ttotal: 3m 7s\tremaining: 7m 3s\n",
      "92:\tlearn: 0.1560651\ttest: 0.1398958\tbest: 0.1398958 (92)\ttotal: 3m 9s\tremaining: 7m\n",
      "93:\tlearn: 0.1560292\ttest: 0.1399447\tbest: 0.1398958 (92)\ttotal: 3m 11s\tremaining: 7m\n",
      "94:\tlearn: 0.1560134\ttest: 0.1399301\tbest: 0.1398958 (92)\ttotal: 3m 14s\tremaining: 7m\n",
      "95:\tlearn: 0.1560001\ttest: 0.1399074\tbest: 0.1398958 (92)\ttotal: 3m 17s\tremaining: 6m 59s\n",
      "96:\tlearn: 0.1560000\ttest: 0.1399080\tbest: 0.1398958 (92)\ttotal: 3m 18s\tremaining: 6m 56s\n",
      "97:\tlearn: 0.1559291\ttest: 0.1398097\tbest: 0.1398097 (97)\ttotal: 3m 21s\tremaining: 6m 55s\n",
      "98:\tlearn: 0.1559259\ttest: 0.1397924\tbest: 0.1397924 (98)\ttotal: 3m 23s\tremaining: 6m 54s\n",
      "99:\tlearn: 0.1558675\ttest: 0.1397944\tbest: 0.1397924 (98)\ttotal: 3m 26s\tremaining: 6m 53s\n",
      "100:\tlearn: 0.1555506\ttest: 0.1394226\tbest: 0.1394226 (100)\ttotal: 3m 30s\tremaining: 6m 54s\n",
      "101:\tlearn: 0.1554534\ttest: 0.1393756\tbest: 0.1393756 (101)\ttotal: 3m 33s\tremaining: 6m 54s\n",
      "102:\tlearn: 0.1554453\ttest: 0.1393657\tbest: 0.1393657 (102)\ttotal: 3m 36s\tremaining: 6m 53s\n",
      "103:\tlearn: 0.1553910\ttest: 0.1393337\tbest: 0.1393337 (103)\ttotal: 3m 39s\tremaining: 6m 52s\n",
      "104:\tlearn: 0.1553561\ttest: 0.1393127\tbest: 0.1393127 (104)\ttotal: 3m 42s\tremaining: 6m 52s\n",
      "105:\tlearn: 0.1551613\ttest: 0.1390905\tbest: 0.1390905 (105)\ttotal: 3m 45s\tremaining: 6m 52s\n",
      "106:\tlearn: 0.1551237\ttest: 0.1390598\tbest: 0.1390598 (106)\ttotal: 3m 48s\tremaining: 6m 52s\n",
      "107:\tlearn: 0.1549844\ttest: 0.1390834\tbest: 0.1390598 (106)\ttotal: 3m 51s\tremaining: 6m 52s\n",
      "108:\tlearn: 0.1548531\ttest: 0.1391444\tbest: 0.1390598 (106)\ttotal: 3m 55s\tremaining: 6m 52s\n",
      "109:\tlearn: 0.1547212\ttest: 0.1390899\tbest: 0.1390598 (106)\ttotal: 3m 58s\tremaining: 6m 51s\n",
      "110:\tlearn: 0.1546145\ttest: 0.1390090\tbest: 0.1390090 (110)\ttotal: 4m 1s\tremaining: 6m 50s\n",
      "111:\tlearn: 0.1544496\ttest: 0.1389742\tbest: 0.1389742 (111)\ttotal: 4m 4s\tremaining: 6m 50s\n",
      "112:\tlearn: 0.1543908\ttest: 0.1389791\tbest: 0.1389742 (111)\ttotal: 4m 7s\tremaining: 6m 50s\n",
      "113:\tlearn: 0.1542793\ttest: 0.1389190\tbest: 0.1389190 (113)\ttotal: 4m 10s\tremaining: 6m 49s\n",
      "114:\tlearn: 0.1542168\ttest: 0.1389432\tbest: 0.1389190 (113)\ttotal: 4m 13s\tremaining: 6m 48s\n",
      "115:\tlearn: 0.1542093\ttest: 0.1389506\tbest: 0.1389190 (113)\ttotal: 4m 16s\tremaining: 6m 47s\n",
      "116:\tlearn: 0.1542092\ttest: 0.1389511\tbest: 0.1389190 (113)\ttotal: 4m 19s\tremaining: 6m 45s\n",
      "117:\tlearn: 0.1541759\ttest: 0.1389537\tbest: 0.1389190 (113)\ttotal: 4m 22s\tremaining: 6m 44s\n",
      "118:\tlearn: 0.1541083\ttest: 0.1388752\tbest: 0.1388752 (118)\ttotal: 4m 25s\tremaining: 6m 43s\n",
      "119:\tlearn: 0.1540618\ttest: 0.1388463\tbest: 0.1388463 (119)\ttotal: 4m 28s\tremaining: 6m 43s\n",
      "120:\tlearn: 0.1539972\ttest: 0.1388822\tbest: 0.1388463 (119)\ttotal: 4m 31s\tremaining: 6m 41s\n",
      "121:\tlearn: 0.1539120\ttest: 0.1388907\tbest: 0.1388463 (119)\ttotal: 4m 34s\tremaining: 6m 40s\n",
      "122:\tlearn: 0.1538937\ttest: 0.1389101\tbest: 0.1388463 (119)\ttotal: 4m 36s\tremaining: 6m 38s\n",
      "123:\tlearn: 0.1538763\ttest: 0.1389091\tbest: 0.1388463 (119)\ttotal: 4m 39s\tremaining: 6m 36s\n",
      "124:\tlearn: 0.1537886\ttest: 0.1388892\tbest: 0.1388463 (119)\ttotal: 4m 41s\tremaining: 6m 34s\n",
      "125:\tlearn: 0.1537435\ttest: 0.1388442\tbest: 0.1388442 (125)\ttotal: 4m 43s\tremaining: 6m 31s\n",
      "126:\tlearn: 0.1535792\ttest: 0.1388805\tbest: 0.1388442 (125)\ttotal: 4m 45s\tremaining: 6m 29s\n",
      "127:\tlearn: 0.1533229\ttest: 0.1387560\tbest: 0.1387560 (127)\ttotal: 4m 48s\tremaining: 6m 27s\n",
      "128:\tlearn: 0.1531954\ttest: 0.1387478\tbest: 0.1387478 (128)\ttotal: 4m 51s\tremaining: 6m 26s\n",
      "129:\tlearn: 0.1530578\ttest: 0.1387214\tbest: 0.1387214 (129)\ttotal: 4m 54s\tremaining: 6m 25s\n",
      "130:\tlearn: 0.1529870\ttest: 0.1387047\tbest: 0.1387047 (130)\ttotal: 4m 58s\tremaining: 6m 25s\n",
      "131:\tlearn: 0.1528824\ttest: 0.1386921\tbest: 0.1386921 (131)\ttotal: 5m 1s\tremaining: 6m 23s\n",
      "132:\tlearn: 0.1528593\ttest: 0.1386820\tbest: 0.1386820 (132)\ttotal: 5m 4s\tremaining: 6m 22s\n",
      "133:\tlearn: 0.1528417\ttest: 0.1386860\tbest: 0.1386820 (132)\ttotal: 5m 8s\tremaining: 6m 21s\n",
      "134:\tlearn: 0.1527574\ttest: 0.1386166\tbest: 0.1386166 (134)\ttotal: 5m 11s\tremaining: 6m 20s\n",
      "135:\tlearn: 0.1526407\ttest: 0.1386013\tbest: 0.1386013 (135)\ttotal: 5m 14s\tremaining: 6m 18s\n",
      "136:\tlearn: 0.1525968\ttest: 0.1386145\tbest: 0.1386013 (135)\ttotal: 5m 16s\tremaining: 6m 17s\n",
      "137:\tlearn: 0.1525217\ttest: 0.1385727\tbest: 0.1385727 (137)\ttotal: 5m 20s\tremaining: 6m 16s\n",
      "138:\tlearn: 0.1524364\ttest: 0.1386022\tbest: 0.1385727 (137)\ttotal: 5m 23s\tremaining: 6m 14s\n",
      "139:\tlearn: 0.1524264\ttest: 0.1386028\tbest: 0.1385727 (137)\ttotal: 5m 27s\tremaining: 6m 13s\n",
      "140:\tlearn: 0.1522908\ttest: 0.1385977\tbest: 0.1385727 (137)\ttotal: 5m 30s\tremaining: 6m 12s\n",
      "141:\tlearn: 0.1522511\ttest: 0.1385835\tbest: 0.1385727 (137)\ttotal: 5m 33s\tremaining: 6m 11s\n",
      "142:\tlearn: 0.1522223\ttest: 0.1385806\tbest: 0.1385727 (137)\ttotal: 5m 36s\tremaining: 6m 9s\n",
      "143:\tlearn: 0.1521283\ttest: 0.1385393\tbest: 0.1385393 (143)\ttotal: 5m 39s\tremaining: 6m 7s\n",
      "144:\tlearn: 0.1520399\ttest: 0.1385527\tbest: 0.1385393 (143)\ttotal: 5m 42s\tremaining: 6m 6s\n",
      "145:\tlearn: 0.1519743\ttest: 0.1385479\tbest: 0.1385393 (143)\ttotal: 5m 45s\tremaining: 6m 4s\n",
      "146:\tlearn: 0.1519347\ttest: 0.1385189\tbest: 0.1385189 (146)\ttotal: 5m 48s\tremaining: 6m 2s\n",
      "147:\tlearn: 0.1518005\ttest: 0.1384585\tbest: 0.1384585 (147)\ttotal: 5m 51s\tremaining: 6m\n",
      "148:\tlearn: 0.1516984\ttest: 0.1384019\tbest: 0.1384019 (148)\ttotal: 5m 54s\tremaining: 5m 59s\n",
      "149:\tlearn: 0.1515902\ttest: 0.1384355\tbest: 0.1384019 (148)\ttotal: 5m 57s\tremaining: 5m 57s\n",
      "150:\tlearn: 0.1515049\ttest: 0.1384309\tbest: 0.1384019 (148)\ttotal: 5m 59s\tremaining: 5m 55s\n",
      "151:\tlearn: 0.1514548\ttest: 0.1384194\tbest: 0.1384019 (148)\ttotal: 6m 3s\tremaining: 5m 53s\n",
      "152:\tlearn: 0.1514079\ttest: 0.1384230\tbest: 0.1384019 (148)\ttotal: 6m 6s\tremaining: 5m 52s\n"
     ]
    },
    {
     "name": "stdout",
     "output_type": "stream",
     "text": [
      "153:\tlearn: 0.1513961\ttest: 0.1384477\tbest: 0.1384019 (148)\ttotal: 6m 9s\tremaining: 5m 50s\n",
      "154:\tlearn: 0.1513485\ttest: 0.1384947\tbest: 0.1384019 (148)\ttotal: 6m 12s\tremaining: 5m 48s\n",
      "155:\tlearn: 0.1512321\ttest: 0.1385032\tbest: 0.1384019 (148)\ttotal: 6m 15s\tremaining: 5m 46s\n",
      "156:\tlearn: 0.1511855\ttest: 0.1385070\tbest: 0.1384019 (148)\ttotal: 6m 18s\tremaining: 5m 44s\n",
      "157:\tlearn: 0.1510930\ttest: 0.1384737\tbest: 0.1384019 (148)\ttotal: 6m 21s\tremaining: 5m 42s\n",
      "158:\tlearn: 0.1510767\ttest: 0.1384716\tbest: 0.1384019 (148)\ttotal: 6m 24s\tremaining: 5m 41s\n",
      "159:\tlearn: 0.1509864\ttest: 0.1384457\tbest: 0.1384019 (148)\ttotal: 6m 27s\tremaining: 5m 39s\n",
      "160:\tlearn: 0.1509613\ttest: 0.1384358\tbest: 0.1384019 (148)\ttotal: 6m 30s\tremaining: 5m 37s\n",
      "161:\tlearn: 0.1509168\ttest: 0.1384360\tbest: 0.1384019 (148)\ttotal: 6m 33s\tremaining: 5m 35s\n",
      "162:\tlearn: 0.1508943\ttest: 0.1384590\tbest: 0.1384019 (148)\ttotal: 6m 36s\tremaining: 5m 33s\n",
      "163:\tlearn: 0.1506705\ttest: 0.1383060\tbest: 0.1383060 (163)\ttotal: 6m 39s\tremaining: 5m 31s\n",
      "164:\tlearn: 0.1506455\ttest: 0.1383198\tbest: 0.1383060 (163)\ttotal: 6m 42s\tremaining: 5m 28s\n",
      "165:\tlearn: 0.1506130\ttest: 0.1383591\tbest: 0.1383060 (163)\ttotal: 6m 44s\tremaining: 5m 26s\n",
      "166:\tlearn: 0.1505797\ttest: 0.1383476\tbest: 0.1383060 (163)\ttotal: 6m 46s\tremaining: 5m 23s\n",
      "167:\tlearn: 0.1504961\ttest: 0.1383383\tbest: 0.1383060 (163)\ttotal: 6m 49s\tremaining: 5m 21s\n",
      "168:\tlearn: 0.1504876\ttest: 0.1383382\tbest: 0.1383060 (163)\ttotal: 6m 52s\tremaining: 5m 19s\n",
      "169:\tlearn: 0.1504685\ttest: 0.1383375\tbest: 0.1383060 (163)\ttotal: 6m 55s\tremaining: 5m 18s\n",
      "170:\tlearn: 0.1502646\ttest: 0.1381894\tbest: 0.1381894 (170)\ttotal: 6m 59s\tremaining: 5m 16s\n",
      "171:\tlearn: 0.1502347\ttest: 0.1382152\tbest: 0.1381894 (170)\ttotal: 7m 2s\tremaining: 5m 14s\n",
      "172:\tlearn: 0.1501830\ttest: 0.1382050\tbest: 0.1381894 (170)\ttotal: 7m 5s\tremaining: 5m 12s\n",
      "173:\tlearn: 0.1501788\ttest: 0.1382057\tbest: 0.1381894 (170)\ttotal: 7m 7s\tremaining: 5m 9s\n",
      "174:\tlearn: 0.1500400\ttest: 0.1382313\tbest: 0.1381894 (170)\ttotal: 7m 10s\tremaining: 5m 7s\n",
      "175:\tlearn: 0.1498789\ttest: 0.1382300\tbest: 0.1381894 (170)\ttotal: 7m 14s\tremaining: 5m 5s\n",
      "176:\tlearn: 0.1498606\ttest: 0.1382297\tbest: 0.1381894 (170)\ttotal: 7m 16s\tremaining: 5m 3s\n",
      "177:\tlearn: 0.1498567\ttest: 0.1382498\tbest: 0.1381894 (170)\ttotal: 7m 20s\tremaining: 5m 1s\n",
      "178:\tlearn: 0.1498393\ttest: 0.1382589\tbest: 0.1381894 (170)\ttotal: 7m 22s\tremaining: 4m 59s\n",
      "179:\tlearn: 0.1498258\ttest: 0.1382674\tbest: 0.1381894 (170)\ttotal: 7m 25s\tremaining: 4m 56s\n",
      "180:\tlearn: 0.1497699\ttest: 0.1382955\tbest: 0.1381894 (170)\ttotal: 7m 28s\tremaining: 4m 54s\n",
      "181:\tlearn: 0.1497549\ttest: 0.1383009\tbest: 0.1381894 (170)\ttotal: 7m 30s\tremaining: 4m 52s\n",
      "182:\tlearn: 0.1496138\ttest: 0.1383078\tbest: 0.1381894 (170)\ttotal: 7m 33s\tremaining: 4m 50s\n",
      "183:\tlearn: 0.1496081\ttest: 0.1383097\tbest: 0.1381894 (170)\ttotal: 7m 35s\tremaining: 4m 47s\n",
      "184:\tlearn: 0.1495967\ttest: 0.1383058\tbest: 0.1381894 (170)\ttotal: 7m 36s\tremaining: 4m 44s\n",
      "185:\tlearn: 0.1495236\ttest: 0.1382954\tbest: 0.1381894 (170)\ttotal: 7m 38s\tremaining: 4m 41s\n",
      "186:\tlearn: 0.1493702\ttest: 0.1382785\tbest: 0.1381894 (170)\ttotal: 7m 40s\tremaining: 4m 38s\n",
      "187:\tlearn: 0.1492876\ttest: 0.1382142\tbest: 0.1381894 (170)\ttotal: 7m 42s\tremaining: 4m 35s\n",
      "188:\tlearn: 0.1492686\ttest: 0.1382200\tbest: 0.1381894 (170)\ttotal: 7m 43s\tremaining: 4m 32s\n",
      "189:\tlearn: 0.1492641\ttest: 0.1382170\tbest: 0.1381894 (170)\ttotal: 7m 45s\tremaining: 4m 29s\n",
      "190:\tlearn: 0.1492334\ttest: 0.1382342\tbest: 0.1381894 (170)\ttotal: 7m 47s\tremaining: 4m 26s\n",
      "191:\tlearn: 0.1492024\ttest: 0.1382736\tbest: 0.1381894 (170)\ttotal: 7m 48s\tremaining: 4m 23s\n",
      "192:\tlearn: 0.1491765\ttest: 0.1383018\tbest: 0.1381894 (170)\ttotal: 7m 50s\tremaining: 4m 20s\n",
      "193:\tlearn: 0.1491131\ttest: 0.1382764\tbest: 0.1381894 (170)\ttotal: 7m 51s\tremaining: 4m 17s\n",
      "194:\tlearn: 0.1490042\ttest: 0.1382285\tbest: 0.1381894 (170)\ttotal: 7m 53s\tremaining: 4m 15s\n",
      "195:\tlearn: 0.1489817\ttest: 0.1382297\tbest: 0.1381894 (170)\ttotal: 7m 55s\tremaining: 4m 12s\n",
      "196:\tlearn: 0.1488334\ttest: 0.1381468\tbest: 0.1381468 (196)\ttotal: 7m 57s\tremaining: 4m 9s\n",
      "197:\tlearn: 0.1488279\ttest: 0.1381593\tbest: 0.1381468 (196)\ttotal: 7m 59s\tremaining: 4m 6s\n",
      "198:\tlearn: 0.1487791\ttest: 0.1381695\tbest: 0.1381468 (196)\ttotal: 8m 1s\tremaining: 4m 4s\n",
      "199:\tlearn: 0.1487708\ttest: 0.1381806\tbest: 0.1381468 (196)\ttotal: 8m 3s\tremaining: 4m 1s\n",
      "200:\tlearn: 0.1486424\ttest: 0.1381162\tbest: 0.1381162 (200)\ttotal: 8m 6s\tremaining: 3m 59s\n",
      "201:\tlearn: 0.1485593\ttest: 0.1381044\tbest: 0.1381044 (201)\ttotal: 8m 8s\tremaining: 3m 57s\n",
      "202:\tlearn: 0.1485333\ttest: 0.1381443\tbest: 0.1381044 (201)\ttotal: 8m 11s\tremaining: 3m 54s\n",
      "203:\tlearn: 0.1485023\ttest: 0.1381376\tbest: 0.1381044 (201)\ttotal: 8m 14s\tremaining: 3m 52s\n",
      "204:\tlearn: 0.1484943\ttest: 0.1381382\tbest: 0.1381044 (201)\ttotal: 8m 17s\tremaining: 3m 50s\n",
      "205:\tlearn: 0.1484703\ttest: 0.1381897\tbest: 0.1381044 (201)\ttotal: 8m 19s\tremaining: 3m 48s\n",
      "206:\tlearn: 0.1484606\ttest: 0.1382009\tbest: 0.1381044 (201)\ttotal: 8m 22s\tremaining: 3m 45s\n",
      "207:\tlearn: 0.1484171\ttest: 0.1382469\tbest: 0.1381044 (201)\ttotal: 8m 25s\tremaining: 3m 43s\n",
      "208:\tlearn: 0.1484094\ttest: 0.1382457\tbest: 0.1381044 (201)\ttotal: 8m 27s\tremaining: 3m 40s\n",
      "209:\tlearn: 0.1483476\ttest: 0.1381963\tbest: 0.1381044 (201)\ttotal: 8m 30s\tremaining: 3m 38s\n",
      "210:\tlearn: 0.1482936\ttest: 0.1381630\tbest: 0.1381044 (201)\ttotal: 8m 32s\tremaining: 3m 36s\n",
      "211:\tlearn: 0.1482401\ttest: 0.1381492\tbest: 0.1381044 (201)\ttotal: 8m 35s\tremaining: 3m 33s\n",
      "212:\tlearn: 0.1482359\ttest: 0.1381495\tbest: 0.1381044 (201)\ttotal: 8m 38s\tremaining: 3m 31s\n",
      "213:\tlearn: 0.1482281\ttest: 0.1381374\tbest: 0.1381044 (201)\ttotal: 8m 41s\tremaining: 3m 29s\n",
      "214:\tlearn: 0.1481753\ttest: 0.1381238\tbest: 0.1381044 (201)\ttotal: 8m 43s\tremaining: 3m 27s\n",
      "215:\tlearn: 0.1481516\ttest: 0.1381492\tbest: 0.1381044 (201)\ttotal: 8m 46s\tremaining: 3m 24s\n",
      "216:\tlearn: 0.1480862\ttest: 0.1381667\tbest: 0.1381044 (201)\ttotal: 8m 48s\tremaining: 3m 22s\n",
      "217:\tlearn: 0.1480153\ttest: 0.1381590\tbest: 0.1381044 (201)\ttotal: 8m 51s\tremaining: 3m 19s\n",
      "218:\tlearn: 0.1479934\ttest: 0.1381570\tbest: 0.1381044 (201)\ttotal: 8m 54s\tremaining: 3m 17s\n",
      "219:\tlearn: 0.1479591\ttest: 0.1381698\tbest: 0.1381044 (201)\ttotal: 8m 56s\tremaining: 3m 14s\n",
      "220:\tlearn: 0.1478444\ttest: 0.1381146\tbest: 0.1381044 (201)\ttotal: 8m 58s\tremaining: 3m 12s\n",
      "221:\tlearn: 0.1478282\ttest: 0.1381069\tbest: 0.1381044 (201)\ttotal: 9m\tremaining: 3m 10s\n",
      "222:\tlearn: 0.1478138\ttest: 0.1381181\tbest: 0.1381044 (201)\ttotal: 9m 3s\tremaining: 3m 7s\n",
      "223:\tlearn: 0.1477958\ttest: 0.1381424\tbest: 0.1381044 (201)\ttotal: 9m 6s\tremaining: 3m 5s\n",
      "224:\tlearn: 0.1477877\ttest: 0.1381455\tbest: 0.1381044 (201)\ttotal: 9m 8s\tremaining: 3m 2s\n",
      "225:\tlearn: 0.1477385\ttest: 0.1381052\tbest: 0.1381044 (201)\ttotal: 9m 10s\tremaining: 3m\n",
      "226:\tlearn: 0.1477341\ttest: 0.1381325\tbest: 0.1381044 (201)\ttotal: 9m 12s\tremaining: 2m 57s\n",
      "227:\tlearn: 0.1477033\ttest: 0.1381182\tbest: 0.1381044 (201)\ttotal: 9m 14s\tremaining: 2m 55s\n",
      "228:\tlearn: 0.1476388\ttest: 0.1382014\tbest: 0.1381044 (201)\ttotal: 9m 17s\tremaining: 2m 52s\n",
      "229:\tlearn: 0.1476347\ttest: 0.1382025\tbest: 0.1381044 (201)\ttotal: 9m 19s\tremaining: 2m 50s\n",
      "230:\tlearn: 0.1476226\ttest: 0.1381866\tbest: 0.1381044 (201)\ttotal: 9m 22s\tremaining: 2m 47s\n",
      "231:\tlearn: 0.1476094\ttest: 0.1381958\tbest: 0.1381044 (201)\ttotal: 9m 25s\tremaining: 2m 45s\n",
      "232:\tlearn: 0.1475545\ttest: 0.1381909\tbest: 0.1381044 (201)\ttotal: 9m 27s\tremaining: 2m 43s\n",
      "233:\tlearn: 0.1475165\ttest: 0.1382360\tbest: 0.1381044 (201)\ttotal: 9m 29s\tremaining: 2m 40s\n",
      "234:\tlearn: 0.1474382\ttest: 0.1382145\tbest: 0.1381044 (201)\ttotal: 9m 32s\tremaining: 2m 38s\n",
      "235:\tlearn: 0.1473371\ttest: 0.1382160\tbest: 0.1381044 (201)\ttotal: 9m 34s\tremaining: 2m 35s\n",
      "236:\tlearn: 0.1473037\ttest: 0.1381619\tbest: 0.1381044 (201)\ttotal: 9m 36s\tremaining: 2m 33s\n",
      "237:\tlearn: 0.1472226\ttest: 0.1379874\tbest: 0.1379874 (237)\ttotal: 9m 39s\tremaining: 2m 30s\n",
      "238:\tlearn: 0.1472133\ttest: 0.1380149\tbest: 0.1379874 (237)\ttotal: 9m 41s\tremaining: 2m 28s\n",
      "239:\tlearn: 0.1470881\ttest: 0.1380072\tbest: 0.1379874 (237)\ttotal: 9m 44s\tremaining: 2m 26s\n",
      "240:\tlearn: 0.1470810\ttest: 0.1380165\tbest: 0.1379874 (237)\ttotal: 9m 45s\tremaining: 2m 23s\n",
      "241:\tlearn: 0.1470289\ttest: 0.1380211\tbest: 0.1379874 (237)\ttotal: 9m 47s\tremaining: 2m 20s\n",
      "242:\tlearn: 0.1470127\ttest: 0.1380440\tbest: 0.1379874 (237)\ttotal: 9m 48s\tremaining: 2m 18s\n"
     ]
    },
    {
     "name": "stdout",
     "output_type": "stream",
     "text": [
      "243:\tlearn: 0.1470025\ttest: 0.1380721\tbest: 0.1379874 (237)\ttotal: 9m 50s\tremaining: 2m 15s\n",
      "244:\tlearn: 0.1468293\ttest: 0.1379561\tbest: 0.1379561 (244)\ttotal: 9m 51s\tremaining: 2m 12s\n",
      "245:\tlearn: 0.1468127\ttest: 0.1379530\tbest: 0.1379530 (245)\ttotal: 9m 53s\tremaining: 2m 10s\n",
      "246:\tlearn: 0.1467986\ttest: 0.1379866\tbest: 0.1379530 (245)\ttotal: 9m 55s\tremaining: 2m 7s\n",
      "247:\tlearn: 0.1467932\ttest: 0.1379841\tbest: 0.1379530 (245)\ttotal: 9m 56s\tremaining: 2m 5s\n",
      "248:\tlearn: 0.1467902\ttest: 0.1379847\tbest: 0.1379530 (245)\ttotal: 9m 57s\tremaining: 2m 2s\n",
      "249:\tlearn: 0.1467865\ttest: 0.1379918\tbest: 0.1379530 (245)\ttotal: 9m 59s\tremaining: 1m 59s\n",
      "250:\tlearn: 0.1467162\ttest: 0.1379267\tbest: 0.1379267 (250)\ttotal: 10m 1s\tremaining: 1m 57s\n",
      "251:\tlearn: 0.1465831\ttest: 0.1378305\tbest: 0.1378305 (251)\ttotal: 10m 2s\tremaining: 1m 54s\n",
      "252:\tlearn: 0.1465591\ttest: 0.1378197\tbest: 0.1378197 (252)\ttotal: 10m 4s\tremaining: 1m 52s\n",
      "253:\tlearn: 0.1465580\ttest: 0.1378198\tbest: 0.1378197 (252)\ttotal: 10m 6s\tremaining: 1m 49s\n",
      "254:\tlearn: 0.1465075\ttest: 0.1378523\tbest: 0.1378197 (252)\ttotal: 10m 7s\tremaining: 1m 47s\n",
      "255:\tlearn: 0.1464915\ttest: 0.1378511\tbest: 0.1378197 (252)\ttotal: 10m 8s\tremaining: 1m 44s\n",
      "256:\tlearn: 0.1464682\ttest: 0.1378426\tbest: 0.1378197 (252)\ttotal: 10m 10s\tremaining: 1m 42s\n",
      "257:\tlearn: 0.1464526\ttest: 0.1378084\tbest: 0.1378084 (257)\ttotal: 10m 12s\tremaining: 1m 39s\n",
      "258:\tlearn: 0.1464384\ttest: 0.1378300\tbest: 0.1378084 (257)\ttotal: 10m 13s\tremaining: 1m 37s\n",
      "259:\tlearn: 0.1463154\ttest: 0.1377342\tbest: 0.1377342 (259)\ttotal: 10m 15s\tremaining: 1m 34s\n",
      "260:\tlearn: 0.1462973\ttest: 0.1377394\tbest: 0.1377342 (259)\ttotal: 10m 16s\tremaining: 1m 32s\n",
      "261:\tlearn: 0.1462871\ttest: 0.1377385\tbest: 0.1377342 (259)\ttotal: 10m 18s\tremaining: 1m 29s\n",
      "262:\tlearn: 0.1462296\ttest: 0.1377092\tbest: 0.1377092 (262)\ttotal: 10m 20s\tremaining: 1m 27s\n",
      "263:\tlearn: 0.1462223\ttest: 0.1377157\tbest: 0.1377092 (262)\ttotal: 10m 23s\tremaining: 1m 24s\n",
      "264:\tlearn: 0.1462198\ttest: 0.1377159\tbest: 0.1377092 (262)\ttotal: 10m 25s\tremaining: 1m 22s\n",
      "265:\tlearn: 0.1461720\ttest: 0.1377427\tbest: 0.1377092 (262)\ttotal: 10m 28s\tremaining: 1m 20s\n",
      "266:\tlearn: 0.1461646\ttest: 0.1377504\tbest: 0.1377092 (262)\ttotal: 10m 31s\tremaining: 1m 17s\n",
      "267:\tlearn: 0.1461306\ttest: 0.1377786\tbest: 0.1377092 (262)\ttotal: 10m 33s\tremaining: 1m 15s\n",
      "268:\tlearn: 0.1461285\ttest: 0.1377789\tbest: 0.1377092 (262)\ttotal: 10m 35s\tremaining: 1m 13s\n",
      "269:\tlearn: 0.1461258\ttest: 0.1377806\tbest: 0.1377092 (262)\ttotal: 10m 37s\tremaining: 1m 10s\n",
      "270:\tlearn: 0.1460957\ttest: 0.1378169\tbest: 0.1377092 (262)\ttotal: 10m 38s\tremaining: 1m 8s\n",
      "271:\tlearn: 0.1460899\ttest: 0.1378207\tbest: 0.1377092 (262)\ttotal: 10m 40s\tremaining: 1m 5s\n",
      "272:\tlearn: 0.1460866\ttest: 0.1378255\tbest: 0.1377092 (262)\ttotal: 10m 41s\tremaining: 1m 3s\n",
      "273:\tlearn: 0.1460095\ttest: 0.1377706\tbest: 0.1377092 (262)\ttotal: 10m 43s\tremaining: 1m 1s\n",
      "274:\tlearn: 0.1460086\ttest: 0.1377486\tbest: 0.1377092 (262)\ttotal: 10m 44s\tremaining: 58.6s\n",
      "275:\tlearn: 0.1458977\ttest: 0.1377589\tbest: 0.1377092 (262)\ttotal: 10m 46s\tremaining: 56.2s\n",
      "276:\tlearn: 0.1458849\ttest: 0.1377632\tbest: 0.1377092 (262)\ttotal: 10m 47s\tremaining: 53.8s\n",
      "277:\tlearn: 0.1458240\ttest: 0.1377614\tbest: 0.1377092 (262)\ttotal: 10m 49s\tremaining: 51.4s\n",
      "278:\tlearn: 0.1457944\ttest: 0.1377938\tbest: 0.1377092 (262)\ttotal: 10m 51s\tremaining: 49.1s\n",
      "279:\tlearn: 0.1457654\ttest: 0.1378046\tbest: 0.1377092 (262)\ttotal: 10m 53s\tremaining: 46.7s\n",
      "280:\tlearn: 0.1457637\ttest: 0.1378050\tbest: 0.1377092 (262)\ttotal: 10m 54s\tremaining: 44.3s\n",
      "281:\tlearn: 0.1456353\ttest: 0.1378198\tbest: 0.1377092 (262)\ttotal: 10m 56s\tremaining: 41.9s\n",
      "282:\tlearn: 0.1456062\ttest: 0.1378408\tbest: 0.1377092 (262)\ttotal: 10m 58s\tremaining: 39.5s\n",
      "283:\tlearn: 0.1456041\ttest: 0.1378348\tbest: 0.1377092 (262)\ttotal: 10m 59s\tremaining: 37.1s\n",
      "284:\tlearn: 0.1455886\ttest: 0.1378791\tbest: 0.1377092 (262)\ttotal: 11m\tremaining: 34.8s\n",
      "285:\tlearn: 0.1455830\ttest: 0.1378780\tbest: 0.1377092 (262)\ttotal: 11m 2s\tremaining: 32.4s\n",
      "286:\tlearn: 0.1455764\ttest: 0.1378827\tbest: 0.1377092 (262)\ttotal: 11m 5s\tremaining: 30.1s\n",
      "287:\tlearn: 0.1455699\ttest: 0.1378888\tbest: 0.1377092 (262)\ttotal: 11m 7s\tremaining: 27.8s\n",
      "288:\tlearn: 0.1455641\ttest: 0.1378745\tbest: 0.1377092 (262)\ttotal: 11m 10s\tremaining: 25.5s\n",
      "289:\tlearn: 0.1455496\ttest: 0.1378891\tbest: 0.1377092 (262)\ttotal: 11m 13s\tremaining: 23.2s\n",
      "290:\tlearn: 0.1455332\ttest: 0.1378846\tbest: 0.1377092 (262)\ttotal: 11m 15s\tremaining: 20.9s\n",
      "291:\tlearn: 0.1454862\ttest: 0.1378768\tbest: 0.1377092 (262)\ttotal: 11m 17s\tremaining: 18.6s\n",
      "292:\tlearn: 0.1454532\ttest: 0.1379334\tbest: 0.1377092 (262)\ttotal: 11m 20s\tremaining: 16.3s\n",
      "293:\tlearn: 0.1453951\ttest: 0.1379596\tbest: 0.1377092 (262)\ttotal: 11m 23s\tremaining: 13.9s\n",
      "294:\tlearn: 0.1453837\ttest: 0.1379521\tbest: 0.1377092 (262)\ttotal: 11m 26s\tremaining: 11.6s\n",
      "295:\tlearn: 0.1453732\ttest: 0.1379728\tbest: 0.1377092 (262)\ttotal: 11m 28s\tremaining: 9.31s\n",
      "296:\tlearn: 0.1453080\ttest: 0.1380012\tbest: 0.1377092 (262)\ttotal: 11m 30s\tremaining: 6.98s\n",
      "297:\tlearn: 0.1452970\ttest: 0.1379746\tbest: 0.1377092 (262)\ttotal: 11m 33s\tremaining: 4.65s\n",
      "298:\tlearn: 0.1452224\ttest: 0.1379479\tbest: 0.1377092 (262)\ttotal: 11m 36s\tremaining: 2.33s\n",
      "299:\tlearn: 0.1452004\ttest: 0.1379528\tbest: 0.1377092 (262)\ttotal: 11m 38s\tremaining: 0us\n",
      "\n",
      "bestTest = 0.1377092211\n",
      "bestIteration = 262\n",
      "\n",
      "Shrink model to first 263 iterations.\n",
      "0\n",
      "0:\tlearn: 0.5790122\ttest: 0.5797377\tbest: 0.5797377 (0)\ttotal: 1.38s\tremaining: 6m 51s\n",
      "1:\tlearn: 0.4926897\ttest: 0.4940680\tbest: 0.4940680 (1)\ttotal: 2.57s\tremaining: 6m 23s\n",
      "2:\tlearn: 0.4276522\ttest: 0.4296182\tbest: 0.4296182 (2)\ttotal: 4.17s\tremaining: 6m 52s\n",
      "3:\tlearn: 0.3766878\ttest: 0.3788872\tbest: 0.3788872 (3)\ttotal: 7.07s\tremaining: 8m 43s\n",
      "4:\tlearn: 0.3381318\ttest: 0.3397291\tbest: 0.3397291 (4)\ttotal: 8.97s\tremaining: 8m 49s\n",
      "5:\tlearn: 0.3057518\ttest: 0.3069987\tbest: 0.3069987 (5)\ttotal: 11.6s\tremaining: 9m 26s\n",
      "6:\tlearn: 0.2799086\ttest: 0.2804603\tbest: 0.2804603 (6)\ttotal: 14.8s\tremaining: 10m 18s\n",
      "7:\tlearn: 0.2608573\ttest: 0.2606719\tbest: 0.2606719 (7)\ttotal: 17.6s\tremaining: 10m 41s\n",
      "8:\tlearn: 0.2421892\ttest: 0.2408010\tbest: 0.2408010 (8)\ttotal: 19.9s\tremaining: 10m 42s\n",
      "9:\tlearn: 0.2273642\ttest: 0.2245106\tbest: 0.2245106 (9)\ttotal: 22.4s\tremaining: 10m 48s\n",
      "10:\tlearn: 0.2166504\ttest: 0.2128568\tbest: 0.2128568 (10)\ttotal: 24s\tremaining: 10m 29s\n",
      "11:\tlearn: 0.2083302\ttest: 0.2035063\tbest: 0.2035063 (11)\ttotal: 25.7s\tremaining: 10m 16s\n",
      "12:\tlearn: 0.2016542\ttest: 0.1957889\tbest: 0.1957889 (12)\ttotal: 27.1s\tremaining: 9m 57s\n",
      "13:\tlearn: 0.1960012\ttest: 0.1890150\tbest: 0.1890150 (13)\ttotal: 28.5s\tremaining: 9m 41s\n",
      "14:\tlearn: 0.1916597\ttest: 0.1837052\tbest: 0.1837052 (14)\ttotal: 30.4s\tremaining: 9m 37s\n",
      "15:\tlearn: 0.1880803\ttest: 0.1791472\tbest: 0.1791472 (15)\ttotal: 31.9s\tremaining: 9m 25s\n",
      "16:\tlearn: 0.1850936\ttest: 0.1753800\tbest: 0.1753800 (16)\ttotal: 33.4s\tremaining: 9m 15s\n",
      "17:\tlearn: 0.1829805\ttest: 0.1725593\tbest: 0.1725593 (17)\ttotal: 34.4s\tremaining: 8m 58s\n",
      "18:\tlearn: 0.1810911\ttest: 0.1699013\tbest: 0.1699013 (18)\ttotal: 36.2s\tremaining: 8m 54s\n",
      "19:\tlearn: 0.1791700\ttest: 0.1668693\tbest: 0.1668693 (19)\ttotal: 37.8s\tremaining: 8m 48s\n",
      "20:\tlearn: 0.1768731\ttest: 0.1638154\tbest: 0.1638154 (20)\ttotal: 39.4s\tremaining: 8m 43s\n",
      "21:\tlearn: 0.1757087\ttest: 0.1623343\tbest: 0.1623343 (21)\ttotal: 40.6s\tremaining: 8m 32s\n",
      "22:\tlearn: 0.1745847\ttest: 0.1607712\tbest: 0.1607712 (22)\ttotal: 42.1s\tremaining: 8m 26s\n",
      "23:\tlearn: 0.1731905\ttest: 0.1588620\tbest: 0.1588620 (23)\ttotal: 43.7s\tremaining: 8m 22s\n",
      "24:\tlearn: 0.1720241\ttest: 0.1574445\tbest: 0.1574445 (24)\ttotal: 45.3s\tremaining: 8m 17s\n",
      "25:\tlearn: 0.1711983\ttest: 0.1562879\tbest: 0.1562879 (25)\ttotal: 46.9s\tremaining: 8m 13s\n",
      "26:\tlearn: 0.1698138\ttest: 0.1543959\tbest: 0.1543959 (26)\ttotal: 48.3s\tremaining: 8m 7s\n",
      "27:\tlearn: 0.1683625\ttest: 0.1522027\tbest: 0.1522027 (27)\ttotal: 49.9s\tremaining: 8m 4s\n",
      "28:\tlearn: 0.1680483\ttest: 0.1517843\tbest: 0.1517843 (28)\ttotal: 51.1s\tremaining: 7m 57s\n",
      "29:\tlearn: 0.1673239\ttest: 0.1506020\tbest: 0.1506020 (29)\ttotal: 52.4s\tremaining: 7m 51s\n",
      "30:\tlearn: 0.1667982\ttest: 0.1501396\tbest: 0.1501396 (30)\ttotal: 53.8s\tremaining: 7m 46s\n",
      "31:\tlearn: 0.1660950\ttest: 0.1493840\tbest: 0.1493840 (31)\ttotal: 55.6s\tremaining: 7m 45s\n",
      "32:\tlearn: 0.1659538\ttest: 0.1491466\tbest: 0.1491466 (32)\ttotal: 57.1s\tremaining: 7m 41s\n"
     ]
    },
    {
     "name": "stdout",
     "output_type": "stream",
     "text": [
      "33:\tlearn: 0.1656612\ttest: 0.1488368\tbest: 0.1488368 (33)\ttotal: 59.9s\tremaining: 7m 48s\n",
      "34:\tlearn: 0.1650283\ttest: 0.1479212\tbest: 0.1479212 (34)\ttotal: 1m 2s\tremaining: 7m 55s\n",
      "35:\tlearn: 0.1647145\ttest: 0.1475543\tbest: 0.1475543 (35)\ttotal: 1m 5s\tremaining: 7m 57s\n",
      "36:\tlearn: 0.1642845\ttest: 0.1470579\tbest: 0.1470579 (36)\ttotal: 1m 7s\tremaining: 8m 2s\n",
      "37:\tlearn: 0.1639190\ttest: 0.1464310\tbest: 0.1464310 (37)\ttotal: 1m 10s\tremaining: 8m 4s\n",
      "38:\tlearn: 0.1636684\ttest: 0.1462885\tbest: 0.1462885 (38)\ttotal: 1m 12s\tremaining: 8m 6s\n",
      "39:\tlearn: 0.1633571\ttest: 0.1461189\tbest: 0.1461189 (39)\ttotal: 1m 15s\tremaining: 8m 9s\n",
      "40:\tlearn: 0.1629953\ttest: 0.1458294\tbest: 0.1458294 (40)\ttotal: 1m 17s\tremaining: 8m 12s\n",
      "41:\tlearn: 0.1624918\ttest: 0.1452905\tbest: 0.1452905 (41)\ttotal: 1m 20s\tremaining: 8m 14s\n",
      "42:\tlearn: 0.1622542\ttest: 0.1450197\tbest: 0.1450197 (42)\ttotal: 1m 22s\tremaining: 8m 12s\n",
      "43:\tlearn: 0.1621805\ttest: 0.1449099\tbest: 0.1449099 (43)\ttotal: 1m 25s\tremaining: 8m 15s\n",
      "44:\tlearn: 0.1619744\ttest: 0.1445000\tbest: 0.1445000 (44)\ttotal: 1m 27s\tremaining: 8m 15s\n",
      "45:\tlearn: 0.1618358\ttest: 0.1443725\tbest: 0.1443725 (45)\ttotal: 1m 29s\tremaining: 8m 15s\n",
      "46:\tlearn: 0.1614051\ttest: 0.1439626\tbest: 0.1439626 (46)\ttotal: 1m 32s\tremaining: 8m 18s\n",
      "47:\tlearn: 0.1609354\ttest: 0.1434922\tbest: 0.1434922 (47)\ttotal: 1m 35s\tremaining: 8m 19s\n",
      "48:\tlearn: 0.1607711\ttest: 0.1434137\tbest: 0.1434137 (48)\ttotal: 1m 37s\tremaining: 8m 19s\n",
      "49:\tlearn: 0.1607060\ttest: 0.1433008\tbest: 0.1433008 (49)\ttotal: 1m 40s\tremaining: 8m 20s\n",
      "50:\tlearn: 0.1606281\ttest: 0.1432391\tbest: 0.1432391 (50)\ttotal: 1m 42s\tremaining: 8m 19s\n",
      "51:\tlearn: 0.1603824\ttest: 0.1429551\tbest: 0.1429551 (51)\ttotal: 1m 44s\tremaining: 8m 20s\n",
      "52:\tlearn: 0.1603747\ttest: 0.1429328\tbest: 0.1429328 (52)\ttotal: 1m 46s\tremaining: 8m 18s\n",
      "53:\tlearn: 0.1603122\ttest: 0.1428948\tbest: 0.1428948 (53)\ttotal: 1m 48s\tremaining: 8m 15s\n",
      "54:\tlearn: 0.1601356\ttest: 0.1427884\tbest: 0.1427884 (54)\ttotal: 1m 51s\tremaining: 8m 16s\n",
      "55:\tlearn: 0.1601042\ttest: 0.1426858\tbest: 0.1426858 (55)\ttotal: 1m 53s\tremaining: 8m 14s\n",
      "56:\tlearn: 0.1600856\ttest: 0.1426198\tbest: 0.1426198 (56)\ttotal: 1m 55s\tremaining: 8m 12s\n",
      "57:\tlearn: 0.1598471\ttest: 0.1423779\tbest: 0.1423779 (57)\ttotal: 1m 59s\tremaining: 8m 17s\n",
      "58:\tlearn: 0.1597035\ttest: 0.1423335\tbest: 0.1423335 (58)\ttotal: 2m 1s\tremaining: 8m 17s\n",
      "59:\tlearn: 0.1596746\ttest: 0.1423544\tbest: 0.1423335 (58)\ttotal: 2m 3s\tremaining: 8m 15s\n",
      "60:\tlearn: 0.1594618\ttest: 0.1421019\tbest: 0.1421019 (60)\ttotal: 2m 5s\tremaining: 8m 13s\n",
      "61:\tlearn: 0.1593322\ttest: 0.1419806\tbest: 0.1419806 (61)\ttotal: 2m 8s\tremaining: 8m 12s\n",
      "62:\tlearn: 0.1592870\ttest: 0.1419518\tbest: 0.1419518 (62)\ttotal: 2m 10s\tremaining: 8m 9s\n",
      "63:\tlearn: 0.1592868\ttest: 0.1419520\tbest: 0.1419518 (62)\ttotal: 2m 11s\tremaining: 8m 5s\n",
      "64:\tlearn: 0.1590603\ttest: 0.1418904\tbest: 0.1418904 (64)\ttotal: 2m 14s\tremaining: 8m 6s\n",
      "65:\tlearn: 0.1589539\ttest: 0.1417868\tbest: 0.1417868 (65)\ttotal: 2m 16s\tremaining: 8m 5s\n",
      "66:\tlearn: 0.1589241\ttest: 0.1417661\tbest: 0.1417661 (66)\ttotal: 2m 18s\tremaining: 8m 2s\n",
      "67:\tlearn: 0.1587785\ttest: 0.1416667\tbest: 0.1416667 (67)\ttotal: 2m 20s\tremaining: 7m 58s\n",
      "68:\tlearn: 0.1587525\ttest: 0.1416154\tbest: 0.1416154 (68)\ttotal: 2m 21s\tremaining: 7m 54s\n",
      "69:\tlearn: 0.1586537\ttest: 0.1415189\tbest: 0.1415189 (69)\ttotal: 2m 23s\tremaining: 7m 51s\n",
      "70:\tlearn: 0.1586390\ttest: 0.1414607\tbest: 0.1414607 (70)\ttotal: 2m 24s\tremaining: 7m 47s\n",
      "71:\tlearn: 0.1586249\ttest: 0.1414089\tbest: 0.1414089 (71)\ttotal: 2m 25s\tremaining: 7m 42s\n",
      "72:\tlearn: 0.1585593\ttest: 0.1414065\tbest: 0.1414065 (72)\ttotal: 2m 27s\tremaining: 7m 38s\n",
      "73:\tlearn: 0.1579320\ttest: 0.1408930\tbest: 0.1408930 (73)\ttotal: 2m 28s\tremaining: 7m 34s\n",
      "74:\tlearn: 0.1579159\ttest: 0.1408814\tbest: 0.1408814 (74)\ttotal: 2m 30s\tremaining: 7m 30s\n",
      "75:\tlearn: 0.1574945\ttest: 0.1405231\tbest: 0.1405231 (75)\ttotal: 2m 32s\tremaining: 7m 28s\n",
      "76:\tlearn: 0.1574778\ttest: 0.1405205\tbest: 0.1405205 (76)\ttotal: 2m 33s\tremaining: 7m 24s\n",
      "77:\tlearn: 0.1574411\ttest: 0.1405153\tbest: 0.1405153 (77)\ttotal: 2m 35s\tremaining: 7m 21s\n",
      "78:\tlearn: 0.1573014\ttest: 0.1404506\tbest: 0.1404506 (78)\ttotal: 2m 36s\tremaining: 7m 18s\n",
      "79:\tlearn: 0.1572453\ttest: 0.1404500\tbest: 0.1404500 (79)\ttotal: 2m 38s\tremaining: 7m 14s\n",
      "80:\tlearn: 0.1571754\ttest: 0.1403855\tbest: 0.1403855 (80)\ttotal: 2m 39s\tremaining: 7m 11s\n",
      "81:\tlearn: 0.1566702\ttest: 0.1400742\tbest: 0.1400742 (81)\ttotal: 2m 41s\tremaining: 7m 9s\n",
      "82:\tlearn: 0.1566649\ttest: 0.1400511\tbest: 0.1400511 (82)\ttotal: 2m 42s\tremaining: 7m 5s\n",
      "83:\tlearn: 0.1565956\ttest: 0.1400350\tbest: 0.1400350 (83)\ttotal: 2m 44s\tremaining: 7m 2s\n",
      "84:\tlearn: 0.1565905\ttest: 0.1400391\tbest: 0.1400350 (83)\ttotal: 2m 45s\tremaining: 6m 59s\n",
      "85:\tlearn: 0.1565516\ttest: 0.1400358\tbest: 0.1400350 (83)\ttotal: 2m 47s\tremaining: 6m 57s\n",
      "86:\tlearn: 0.1565198\ttest: 0.1400072\tbest: 0.1400072 (86)\ttotal: 2m 49s\tremaining: 6m 54s\n",
      "87:\tlearn: 0.1564099\ttest: 0.1399455\tbest: 0.1399455 (87)\ttotal: 2m 51s\tremaining: 6m 52s\n",
      "88:\tlearn: 0.1562931\ttest: 0.1399080\tbest: 0.1399080 (88)\ttotal: 2m 53s\tremaining: 6m 50s\n",
      "89:\tlearn: 0.1561017\ttest: 0.1399188\tbest: 0.1399080 (88)\ttotal: 2m 55s\tremaining: 6m 48s\n",
      "90:\tlearn: 0.1560812\ttest: 0.1398999\tbest: 0.1398999 (90)\ttotal: 2m 57s\tremaining: 6m 46s\n",
      "91:\tlearn: 0.1560791\ttest: 0.1399008\tbest: 0.1398999 (90)\ttotal: 2m 58s\tremaining: 6m 44s\n",
      "92:\tlearn: 0.1560651\ttest: 0.1398958\tbest: 0.1398958 (92)\ttotal: 3m\tremaining: 6m 41s\n",
      "93:\tlearn: 0.1560292\ttest: 0.1399447\tbest: 0.1398958 (92)\ttotal: 3m 2s\tremaining: 6m 40s\n",
      "94:\tlearn: 0.1560134\ttest: 0.1399301\tbest: 0.1398958 (92)\ttotal: 3m 5s\tremaining: 6m 39s\n",
      "95:\tlearn: 0.1560001\ttest: 0.1399074\tbest: 0.1398958 (92)\ttotal: 3m 7s\tremaining: 6m 38s\n",
      "96:\tlearn: 0.1560000\ttest: 0.1399080\tbest: 0.1398958 (92)\ttotal: 3m 9s\tremaining: 6m 35s\n",
      "97:\tlearn: 0.1559291\ttest: 0.1398097\tbest: 0.1398097 (97)\ttotal: 3m 10s\tremaining: 6m 33s\n",
      "98:\tlearn: 0.1559259\ttest: 0.1397924\tbest: 0.1397924 (98)\ttotal: 3m 12s\tremaining: 6m 31s\n",
      "99:\tlearn: 0.1558675\ttest: 0.1397944\tbest: 0.1397924 (98)\ttotal: 3m 13s\tremaining: 6m 27s\n",
      "100:\tlearn: 0.1555506\ttest: 0.1394226\tbest: 0.1394226 (100)\ttotal: 3m 15s\tremaining: 6m 24s\n",
      "101:\tlearn: 0.1554534\ttest: 0.1393756\tbest: 0.1393756 (101)\ttotal: 3m 17s\tremaining: 6m 22s\n",
      "102:\tlearn: 0.1554453\ttest: 0.1393657\tbest: 0.1393657 (102)\ttotal: 3m 18s\tremaining: 6m 18s\n",
      "103:\tlearn: 0.1553910\ttest: 0.1393337\tbest: 0.1393337 (103)\ttotal: 3m 19s\tremaining: 6m 15s\n",
      "104:\tlearn: 0.1553561\ttest: 0.1393127\tbest: 0.1393127 (104)\ttotal: 3m 20s\tremaining: 6m 11s\n",
      "105:\tlearn: 0.1551613\ttest: 0.1390905\tbest: 0.1390905 (105)\ttotal: 3m 21s\tremaining: 6m 9s\n",
      "106:\tlearn: 0.1551237\ttest: 0.1390598\tbest: 0.1390598 (106)\ttotal: 3m 23s\tremaining: 6m 7s\n",
      "107:\tlearn: 0.1549844\ttest: 0.1390834\tbest: 0.1390598 (106)\ttotal: 3m 25s\tremaining: 6m 4s\n",
      "108:\tlearn: 0.1548531\ttest: 0.1391444\tbest: 0.1390598 (106)\ttotal: 3m 27s\tremaining: 6m 3s\n",
      "109:\tlearn: 0.1547212\ttest: 0.1390899\tbest: 0.1390598 (106)\ttotal: 3m 29s\tremaining: 6m 1s\n",
      "110:\tlearn: 0.1546145\ttest: 0.1390090\tbest: 0.1390090 (110)\ttotal: 3m 30s\tremaining: 5m 58s\n",
      "111:\tlearn: 0.1544496\ttest: 0.1389742\tbest: 0.1389742 (111)\ttotal: 3m 31s\tremaining: 5m 55s\n",
      "112:\tlearn: 0.1543908\ttest: 0.1389791\tbest: 0.1389742 (111)\ttotal: 3m 33s\tremaining: 5m 52s\n",
      "113:\tlearn: 0.1542793\ttest: 0.1389190\tbest: 0.1389190 (113)\ttotal: 3m 34s\tremaining: 5m 50s\n",
      "114:\tlearn: 0.1542168\ttest: 0.1389432\tbest: 0.1389190 (113)\ttotal: 3m 36s\tremaining: 5m 48s\n",
      "115:\tlearn: 0.1542093\ttest: 0.1389506\tbest: 0.1389190 (113)\ttotal: 3m 37s\tremaining: 5m 45s\n",
      "116:\tlearn: 0.1542092\ttest: 0.1389511\tbest: 0.1389190 (113)\ttotal: 3m 39s\tremaining: 5m 42s\n",
      "117:\tlearn: 0.1541759\ttest: 0.1389537\tbest: 0.1389190 (113)\ttotal: 3m 40s\tremaining: 5m 40s\n",
      "118:\tlearn: 0.1541083\ttest: 0.1388752\tbest: 0.1388752 (118)\ttotal: 3m 42s\tremaining: 5m 37s\n",
      "119:\tlearn: 0.1540618\ttest: 0.1388463\tbest: 0.1388463 (119)\ttotal: 3m 43s\tremaining: 5m 35s\n",
      "120:\tlearn: 0.1539972\ttest: 0.1388822\tbest: 0.1388463 (119)\ttotal: 3m 45s\tremaining: 5m 33s\n",
      "121:\tlearn: 0.1539120\ttest: 0.1388907\tbest: 0.1388463 (119)\ttotal: 3m 47s\tremaining: 5m 31s\n",
      "122:\tlearn: 0.1538937\ttest: 0.1389101\tbest: 0.1388463 (119)\ttotal: 3m 48s\tremaining: 5m 29s\n",
      "123:\tlearn: 0.1538763\ttest: 0.1389091\tbest: 0.1388463 (119)\ttotal: 3m 50s\tremaining: 5m 27s\n"
     ]
    },
    {
     "name": "stdout",
     "output_type": "stream",
     "text": [
      "124:\tlearn: 0.1537886\ttest: 0.1388892\tbest: 0.1388463 (119)\ttotal: 3m 52s\tremaining: 5m 25s\n",
      "125:\tlearn: 0.1537435\ttest: 0.1388442\tbest: 0.1388442 (125)\ttotal: 3m 53s\tremaining: 5m 22s\n",
      "126:\tlearn: 0.1535792\ttest: 0.1388805\tbest: 0.1388442 (125)\ttotal: 3m 55s\tremaining: 5m 21s\n",
      "127:\tlearn: 0.1533229\ttest: 0.1387560\tbest: 0.1387560 (127)\ttotal: 3m 57s\tremaining: 5m 19s\n",
      "128:\tlearn: 0.1531954\ttest: 0.1387478\tbest: 0.1387478 (128)\ttotal: 3m 59s\tremaining: 5m 17s\n",
      "129:\tlearn: 0.1530578\ttest: 0.1387214\tbest: 0.1387214 (129)\ttotal: 4m 1s\tremaining: 5m 15s\n",
      "130:\tlearn: 0.1529870\ttest: 0.1387047\tbest: 0.1387047 (130)\ttotal: 4m 3s\tremaining: 5m 13s\n",
      "131:\tlearn: 0.1528824\ttest: 0.1386921\tbest: 0.1386921 (131)\ttotal: 4m 4s\tremaining: 5m 11s\n",
      "132:\tlearn: 0.1528593\ttest: 0.1386820\tbest: 0.1386820 (132)\ttotal: 4m 6s\tremaining: 5m 9s\n",
      "133:\tlearn: 0.1528417\ttest: 0.1386860\tbest: 0.1386820 (132)\ttotal: 4m 7s\tremaining: 5m 6s\n",
      "134:\tlearn: 0.1527574\ttest: 0.1386166\tbest: 0.1386166 (134)\ttotal: 4m 9s\tremaining: 5m 4s\n",
      "135:\tlearn: 0.1526407\ttest: 0.1386013\tbest: 0.1386013 (135)\ttotal: 4m 10s\tremaining: 5m 2s\n",
      "136:\tlearn: 0.1525968\ttest: 0.1386145\tbest: 0.1386013 (135)\ttotal: 4m 12s\tremaining: 5m\n",
      "137:\tlearn: 0.1525217\ttest: 0.1385727\tbest: 0.1385727 (137)\ttotal: 4m 13s\tremaining: 4m 57s\n",
      "138:\tlearn: 0.1524364\ttest: 0.1386022\tbest: 0.1385727 (137)\ttotal: 4m 15s\tremaining: 4m 55s\n",
      "139:\tlearn: 0.1524264\ttest: 0.1386028\tbest: 0.1385727 (137)\ttotal: 4m 16s\tremaining: 4m 53s\n",
      "140:\tlearn: 0.1522908\ttest: 0.1385977\tbest: 0.1385727 (137)\ttotal: 4m 18s\tremaining: 4m 51s\n",
      "141:\tlearn: 0.1522511\ttest: 0.1385835\tbest: 0.1385727 (137)\ttotal: 4m 20s\tremaining: 4m 49s\n",
      "142:\tlearn: 0.1522223\ttest: 0.1385806\tbest: 0.1385727 (137)\ttotal: 4m 21s\tremaining: 4m 47s\n",
      "143:\tlearn: 0.1521283\ttest: 0.1385393\tbest: 0.1385393 (143)\ttotal: 4m 23s\tremaining: 4m 45s\n",
      "144:\tlearn: 0.1520399\ttest: 0.1385527\tbest: 0.1385393 (143)\ttotal: 4m 25s\tremaining: 4m 43s\n",
      "145:\tlearn: 0.1519743\ttest: 0.1385479\tbest: 0.1385393 (143)\ttotal: 4m 26s\tremaining: 4m 41s\n",
      "146:\tlearn: 0.1519347\ttest: 0.1385189\tbest: 0.1385189 (146)\ttotal: 4m 28s\tremaining: 4m 39s\n",
      "147:\tlearn: 0.1518005\ttest: 0.1384585\tbest: 0.1384585 (147)\ttotal: 4m 29s\tremaining: 4m 37s\n",
      "148:\tlearn: 0.1516984\ttest: 0.1384019\tbest: 0.1384019 (148)\ttotal: 4m 31s\tremaining: 4m 34s\n",
      "149:\tlearn: 0.1515902\ttest: 0.1384355\tbest: 0.1384019 (148)\ttotal: 4m 32s\tremaining: 4m 32s\n",
      "150:\tlearn: 0.1515049\ttest: 0.1384309\tbest: 0.1384019 (148)\ttotal: 4m 33s\tremaining: 4m 29s\n",
      "151:\tlearn: 0.1514548\ttest: 0.1384194\tbest: 0.1384019 (148)\ttotal: 4m 36s\tremaining: 4m 28s\n",
      "152:\tlearn: 0.1514079\ttest: 0.1384230\tbest: 0.1384019 (148)\ttotal: 4m 38s\tremaining: 4m 27s\n",
      "153:\tlearn: 0.1513961\ttest: 0.1384477\tbest: 0.1384019 (148)\ttotal: 4m 40s\tremaining: 4m 25s\n",
      "154:\tlearn: 0.1513485\ttest: 0.1384947\tbest: 0.1384019 (148)\ttotal: 4m 41s\tremaining: 4m 23s\n",
      "155:\tlearn: 0.1512321\ttest: 0.1385032\tbest: 0.1384019 (148)\ttotal: 4m 43s\tremaining: 4m 21s\n",
      "156:\tlearn: 0.1511855\ttest: 0.1385070\tbest: 0.1384019 (148)\ttotal: 4m 45s\tremaining: 4m 19s\n",
      "157:\tlearn: 0.1510930\ttest: 0.1384737\tbest: 0.1384019 (148)\ttotal: 4m 46s\tremaining: 4m 17s\n",
      "158:\tlearn: 0.1510767\ttest: 0.1384716\tbest: 0.1384019 (148)\ttotal: 4m 48s\tremaining: 4m 15s\n",
      "159:\tlearn: 0.1509864\ttest: 0.1384457\tbest: 0.1384019 (148)\ttotal: 4m 50s\tremaining: 4m 13s\n",
      "160:\tlearn: 0.1509613\ttest: 0.1384358\tbest: 0.1384019 (148)\ttotal: 4m 52s\tremaining: 4m 12s\n",
      "161:\tlearn: 0.1509168\ttest: 0.1384360\tbest: 0.1384019 (148)\ttotal: 4m 53s\tremaining: 4m 10s\n",
      "162:\tlearn: 0.1508943\ttest: 0.1384590\tbest: 0.1384019 (148)\ttotal: 4m 55s\tremaining: 4m 8s\n",
      "163:\tlearn: 0.1506705\ttest: 0.1383060\tbest: 0.1383060 (163)\ttotal: 4m 57s\tremaining: 4m 6s\n",
      "164:\tlearn: 0.1506455\ttest: 0.1383198\tbest: 0.1383060 (163)\ttotal: 4m 58s\tremaining: 4m 4s\n",
      "165:\tlearn: 0.1506130\ttest: 0.1383591\tbest: 0.1383060 (163)\ttotal: 4m 59s\tremaining: 4m 2s\n",
      "166:\tlearn: 0.1505797\ttest: 0.1383476\tbest: 0.1383060 (163)\ttotal: 5m 1s\tremaining: 4m\n",
      "167:\tlearn: 0.1504961\ttest: 0.1383383\tbest: 0.1383060 (163)\ttotal: 5m 4s\tremaining: 3m 58s\n",
      "168:\tlearn: 0.1504876\ttest: 0.1383382\tbest: 0.1383060 (163)\ttotal: 5m 6s\tremaining: 3m 57s\n",
      "169:\tlearn: 0.1504685\ttest: 0.1383375\tbest: 0.1383060 (163)\ttotal: 5m 8s\tremaining: 3m 56s\n",
      "170:\tlearn: 0.1502646\ttest: 0.1381894\tbest: 0.1381894 (170)\ttotal: 5m 11s\tremaining: 3m 54s\n",
      "171:\tlearn: 0.1502347\ttest: 0.1382152\tbest: 0.1381894 (170)\ttotal: 5m 14s\tremaining: 3m 53s\n",
      "172:\tlearn: 0.1501830\ttest: 0.1382050\tbest: 0.1381894 (170)\ttotal: 5m 17s\tremaining: 3m 52s\n",
      "173:\tlearn: 0.1501788\ttest: 0.1382057\tbest: 0.1381894 (170)\ttotal: 5m 19s\tremaining: 3m 51s\n",
      "174:\tlearn: 0.1500400\ttest: 0.1382313\tbest: 0.1381894 (170)\ttotal: 5m 21s\tremaining: 3m 49s\n",
      "175:\tlearn: 0.1498789\ttest: 0.1382300\tbest: 0.1381894 (170)\ttotal: 5m 24s\tremaining: 3m 48s\n",
      "176:\tlearn: 0.1498606\ttest: 0.1382297\tbest: 0.1381894 (170)\ttotal: 5m 27s\tremaining: 3m 47s\n",
      "177:\tlearn: 0.1498567\ttest: 0.1382498\tbest: 0.1381894 (170)\ttotal: 5m 30s\tremaining: 3m 46s\n",
      "178:\tlearn: 0.1498393\ttest: 0.1382589\tbest: 0.1381894 (170)\ttotal: 5m 32s\tremaining: 3m 45s\n",
      "179:\tlearn: 0.1498258\ttest: 0.1382674\tbest: 0.1381894 (170)\ttotal: 5m 34s\tremaining: 3m 42s\n",
      "180:\tlearn: 0.1497699\ttest: 0.1382955\tbest: 0.1381894 (170)\ttotal: 5m 36s\tremaining: 3m 41s\n",
      "181:\tlearn: 0.1497549\ttest: 0.1383009\tbest: 0.1381894 (170)\ttotal: 5m 37s\tremaining: 3m 39s\n",
      "182:\tlearn: 0.1496138\ttest: 0.1383078\tbest: 0.1381894 (170)\ttotal: 5m 39s\tremaining: 3m 37s\n",
      "183:\tlearn: 0.1496081\ttest: 0.1383097\tbest: 0.1381894 (170)\ttotal: 5m 41s\tremaining: 3m 35s\n",
      "184:\tlearn: 0.1495967\ttest: 0.1383058\tbest: 0.1381894 (170)\ttotal: 5m 42s\tremaining: 3m 32s\n",
      "185:\tlearn: 0.1495236\ttest: 0.1382954\tbest: 0.1381894 (170)\ttotal: 5m 44s\tremaining: 3m 30s\n",
      "186:\tlearn: 0.1493702\ttest: 0.1382785\tbest: 0.1381894 (170)\ttotal: 5m 45s\tremaining: 3m 29s\n",
      "187:\tlearn: 0.1492876\ttest: 0.1382142\tbest: 0.1381894 (170)\ttotal: 5m 47s\tremaining: 3m 26s\n",
      "188:\tlearn: 0.1492686\ttest: 0.1382200\tbest: 0.1381894 (170)\ttotal: 5m 49s\tremaining: 3m 25s\n",
      "189:\tlearn: 0.1492641\ttest: 0.1382170\tbest: 0.1381894 (170)\ttotal: 5m 50s\tremaining: 3m 23s\n",
      "190:\tlearn: 0.1492334\ttest: 0.1382342\tbest: 0.1381894 (170)\ttotal: 5m 52s\tremaining: 3m 20s\n",
      "191:\tlearn: 0.1492024\ttest: 0.1382736\tbest: 0.1381894 (170)\ttotal: 5m 53s\tremaining: 3m 18s\n",
      "192:\tlearn: 0.1491765\ttest: 0.1383018\tbest: 0.1381894 (170)\ttotal: 5m 55s\tremaining: 3m 16s\n",
      "193:\tlearn: 0.1491131\ttest: 0.1382764\tbest: 0.1381894 (170)\ttotal: 5m 56s\tremaining: 3m 14s\n",
      "194:\tlearn: 0.1490042\ttest: 0.1382285\tbest: 0.1381894 (170)\ttotal: 5m 58s\tremaining: 3m 12s\n",
      "195:\tlearn: 0.1489817\ttest: 0.1382297\tbest: 0.1381894 (170)\ttotal: 5m 59s\tremaining: 3m 10s\n",
      "196:\tlearn: 0.1488334\ttest: 0.1381468\tbest: 0.1381468 (196)\ttotal: 6m 1s\tremaining: 3m 8s\n",
      "197:\tlearn: 0.1488279\ttest: 0.1381593\tbest: 0.1381468 (196)\ttotal: 6m 3s\tremaining: 3m 7s\n",
      "198:\tlearn: 0.1487791\ttest: 0.1381695\tbest: 0.1381468 (196)\ttotal: 6m 4s\tremaining: 3m 4s\n",
      "199:\tlearn: 0.1487708\ttest: 0.1381806\tbest: 0.1381468 (196)\ttotal: 6m 5s\tremaining: 3m 2s\n",
      "200:\tlearn: 0.1486424\ttest: 0.1381162\tbest: 0.1381162 (200)\ttotal: 6m 7s\tremaining: 3m 1s\n",
      "201:\tlearn: 0.1485593\ttest: 0.1381044\tbest: 0.1381044 (201)\ttotal: 6m 10s\tremaining: 2m 59s\n",
      "202:\tlearn: 0.1485333\ttest: 0.1381443\tbest: 0.1381044 (201)\ttotal: 6m 12s\tremaining: 2m 57s\n",
      "203:\tlearn: 0.1485023\ttest: 0.1381376\tbest: 0.1381044 (201)\ttotal: 6m 14s\tremaining: 2m 56s\n",
      "204:\tlearn: 0.1484943\ttest: 0.1381382\tbest: 0.1381044 (201)\ttotal: 6m 16s\tremaining: 2m 54s\n",
      "205:\tlearn: 0.1484703\ttest: 0.1381897\tbest: 0.1381044 (201)\ttotal: 6m 18s\tremaining: 2m 52s\n",
      "206:\tlearn: 0.1484606\ttest: 0.1382009\tbest: 0.1381044 (201)\ttotal: 6m 20s\tremaining: 2m 50s\n",
      "207:\tlearn: 0.1484171\ttest: 0.1382469\tbest: 0.1381044 (201)\ttotal: 6m 21s\tremaining: 2m 48s\n",
      "208:\tlearn: 0.1484094\ttest: 0.1382457\tbest: 0.1381044 (201)\ttotal: 6m 24s\tremaining: 2m 47s\n",
      "209:\tlearn: 0.1483476\ttest: 0.1381963\tbest: 0.1381044 (201)\ttotal: 6m 25s\tremaining: 2m 45s\n",
      "210:\tlearn: 0.1482936\ttest: 0.1381630\tbest: 0.1381044 (201)\ttotal: 6m 27s\tremaining: 2m 43s\n",
      "211:\tlearn: 0.1482401\ttest: 0.1381492\tbest: 0.1381044 (201)\ttotal: 6m 30s\tremaining: 2m 42s\n",
      "212:\tlearn: 0.1482359\ttest: 0.1381495\tbest: 0.1381044 (201)\ttotal: 6m 32s\tremaining: 2m 40s\n",
      "213:\tlearn: 0.1482281\ttest: 0.1381374\tbest: 0.1381044 (201)\ttotal: 6m 34s\tremaining: 2m 38s\n"
     ]
    },
    {
     "name": "stdout",
     "output_type": "stream",
     "text": [
      "214:\tlearn: 0.1481753\ttest: 0.1381238\tbest: 0.1381044 (201)\ttotal: 6m 36s\tremaining: 2m 36s\n",
      "215:\tlearn: 0.1481516\ttest: 0.1381492\tbest: 0.1381044 (201)\ttotal: 6m 37s\tremaining: 2m 34s\n",
      "216:\tlearn: 0.1480862\ttest: 0.1381667\tbest: 0.1381044 (201)\ttotal: 6m 40s\tremaining: 2m 33s\n",
      "217:\tlearn: 0.1480153\ttest: 0.1381590\tbest: 0.1381044 (201)\ttotal: 6m 42s\tremaining: 2m 31s\n",
      "218:\tlearn: 0.1479934\ttest: 0.1381570\tbest: 0.1381044 (201)\ttotal: 6m 44s\tremaining: 2m 29s\n",
      "219:\tlearn: 0.1479591\ttest: 0.1381698\tbest: 0.1381044 (201)\ttotal: 6m 46s\tremaining: 2m 27s\n",
      "220:\tlearn: 0.1478444\ttest: 0.1381146\tbest: 0.1381044 (201)\ttotal: 6m 48s\tremaining: 2m 26s\n",
      "221:\tlearn: 0.1478282\ttest: 0.1381069\tbest: 0.1381044 (201)\ttotal: 6m 50s\tremaining: 2m 24s\n",
      "222:\tlearn: 0.1478138\ttest: 0.1381181\tbest: 0.1381044 (201)\ttotal: 6m 52s\tremaining: 2m 22s\n",
      "223:\tlearn: 0.1477958\ttest: 0.1381424\tbest: 0.1381044 (201)\ttotal: 6m 54s\tremaining: 2m 20s\n",
      "224:\tlearn: 0.1477877\ttest: 0.1381455\tbest: 0.1381044 (201)\ttotal: 6m 55s\tremaining: 2m 18s\n",
      "225:\tlearn: 0.1477385\ttest: 0.1381052\tbest: 0.1381044 (201)\ttotal: 6m 58s\tremaining: 2m 16s\n",
      "226:\tlearn: 0.1477341\ttest: 0.1381325\tbest: 0.1381044 (201)\ttotal: 7m\tremaining: 2m 15s\n",
      "227:\tlearn: 0.1477033\ttest: 0.1381182\tbest: 0.1381044 (201)\ttotal: 7m 3s\tremaining: 2m 13s\n",
      "228:\tlearn: 0.1476388\ttest: 0.1382014\tbest: 0.1381044 (201)\ttotal: 7m 6s\tremaining: 2m 12s\n",
      "229:\tlearn: 0.1476347\ttest: 0.1382025\tbest: 0.1381044 (201)\ttotal: 7m 9s\tremaining: 2m 10s\n",
      "230:\tlearn: 0.1476226\ttest: 0.1381866\tbest: 0.1381044 (201)\ttotal: 7m 12s\tremaining: 2m 9s\n",
      "231:\tlearn: 0.1476094\ttest: 0.1381958\tbest: 0.1381044 (201)\ttotal: 7m 15s\tremaining: 2m 7s\n",
      "232:\tlearn: 0.1475545\ttest: 0.1381909\tbest: 0.1381044 (201)\ttotal: 7m 18s\tremaining: 2m 5s\n",
      "233:\tlearn: 0.1475165\ttest: 0.1382360\tbest: 0.1381044 (201)\ttotal: 7m 20s\tremaining: 2m 4s\n",
      "234:\tlearn: 0.1474382\ttest: 0.1382145\tbest: 0.1381044 (201)\ttotal: 7m 23s\tremaining: 2m 2s\n",
      "235:\tlearn: 0.1473371\ttest: 0.1382160\tbest: 0.1381044 (201)\ttotal: 7m 26s\tremaining: 2m\n",
      "236:\tlearn: 0.1473037\ttest: 0.1381619\tbest: 0.1381044 (201)\ttotal: 7m 28s\tremaining: 1m 59s\n",
      "237:\tlearn: 0.1472226\ttest: 0.1379874\tbest: 0.1379874 (237)\ttotal: 7m 31s\tremaining: 1m 57s\n",
      "238:\tlearn: 0.1472133\ttest: 0.1380149\tbest: 0.1379874 (237)\ttotal: 7m 34s\tremaining: 1m 56s\n",
      "239:\tlearn: 0.1470881\ttest: 0.1380072\tbest: 0.1379874 (237)\ttotal: 7m 37s\tremaining: 1m 54s\n",
      "240:\tlearn: 0.1470810\ttest: 0.1380165\tbest: 0.1379874 (237)\ttotal: 7m 40s\tremaining: 1m 52s\n",
      "241:\tlearn: 0.1470289\ttest: 0.1380211\tbest: 0.1379874 (237)\ttotal: 7m 43s\tremaining: 1m 51s\n",
      "242:\tlearn: 0.1470127\ttest: 0.1380440\tbest: 0.1379874 (237)\ttotal: 7m 46s\tremaining: 1m 49s\n",
      "243:\tlearn: 0.1470025\ttest: 0.1380721\tbest: 0.1379874 (237)\ttotal: 7m 49s\tremaining: 1m 47s\n",
      "244:\tlearn: 0.1468293\ttest: 0.1379561\tbest: 0.1379561 (244)\ttotal: 7m 52s\tremaining: 1m 46s\n",
      "245:\tlearn: 0.1468127\ttest: 0.1379530\tbest: 0.1379530 (245)\ttotal: 7m 54s\tremaining: 1m 44s\n",
      "246:\tlearn: 0.1467986\ttest: 0.1379866\tbest: 0.1379530 (245)\ttotal: 7m 57s\tremaining: 1m 42s\n",
      "247:\tlearn: 0.1467932\ttest: 0.1379841\tbest: 0.1379530 (245)\ttotal: 7m 59s\tremaining: 1m 40s\n",
      "248:\tlearn: 0.1467902\ttest: 0.1379847\tbest: 0.1379530 (245)\ttotal: 8m 2s\tremaining: 1m 38s\n",
      "249:\tlearn: 0.1467865\ttest: 0.1379918\tbest: 0.1379530 (245)\ttotal: 8m 5s\tremaining: 1m 37s\n",
      "250:\tlearn: 0.1467162\ttest: 0.1379267\tbest: 0.1379267 (250)\ttotal: 8m 8s\tremaining: 1m 35s\n",
      "251:\tlearn: 0.1465831\ttest: 0.1378305\tbest: 0.1378305 (251)\ttotal: 8m 11s\tremaining: 1m 33s\n",
      "252:\tlearn: 0.1465591\ttest: 0.1378197\tbest: 0.1378197 (252)\ttotal: 8m 14s\tremaining: 1m 31s\n",
      "253:\tlearn: 0.1465580\ttest: 0.1378198\tbest: 0.1378197 (252)\ttotal: 8m 18s\tremaining: 1m 30s\n",
      "254:\tlearn: 0.1465075\ttest: 0.1378523\tbest: 0.1378197 (252)\ttotal: 8m 21s\tremaining: 1m 28s\n",
      "255:\tlearn: 0.1464915\ttest: 0.1378511\tbest: 0.1378197 (252)\ttotal: 8m 24s\tremaining: 1m 26s\n",
      "256:\tlearn: 0.1464682\ttest: 0.1378426\tbest: 0.1378197 (252)\ttotal: 8m 28s\tremaining: 1m 25s\n",
      "257:\tlearn: 0.1464526\ttest: 0.1378084\tbest: 0.1378084 (257)\ttotal: 8m 30s\tremaining: 1m 23s\n",
      "258:\tlearn: 0.1464384\ttest: 0.1378300\tbest: 0.1378084 (257)\ttotal: 8m 33s\tremaining: 1m 21s\n",
      "259:\tlearn: 0.1463154\ttest: 0.1377342\tbest: 0.1377342 (259)\ttotal: 8m 36s\tremaining: 1m 19s\n",
      "260:\tlearn: 0.1462973\ttest: 0.1377394\tbest: 0.1377342 (259)\ttotal: 8m 39s\tremaining: 1m 17s\n",
      "261:\tlearn: 0.1462871\ttest: 0.1377385\tbest: 0.1377342 (259)\ttotal: 8m 42s\tremaining: 1m 15s\n",
      "262:\tlearn: 0.1462296\ttest: 0.1377092\tbest: 0.1377092 (262)\ttotal: 8m 45s\tremaining: 1m 13s\n",
      "263:\tlearn: 0.1462223\ttest: 0.1377157\tbest: 0.1377092 (262)\ttotal: 8m 48s\tremaining: 1m 12s\n",
      "264:\tlearn: 0.1462198\ttest: 0.1377159\tbest: 0.1377092 (262)\ttotal: 8m 52s\tremaining: 1m 10s\n",
      "265:\tlearn: 0.1461720\ttest: 0.1377427\tbest: 0.1377092 (262)\ttotal: 8m 54s\tremaining: 1m 8s\n",
      "266:\tlearn: 0.1461646\ttest: 0.1377504\tbest: 0.1377092 (262)\ttotal: 8m 56s\tremaining: 1m 6s\n",
      "267:\tlearn: 0.1461306\ttest: 0.1377786\tbest: 0.1377092 (262)\ttotal: 8m 58s\tremaining: 1m 4s\n",
      "268:\tlearn: 0.1461285\ttest: 0.1377789\tbest: 0.1377092 (262)\ttotal: 9m\tremaining: 1m 2s\n",
      "269:\tlearn: 0.1461258\ttest: 0.1377806\tbest: 0.1377092 (262)\ttotal: 9m 2s\tremaining: 1m\n",
      "270:\tlearn: 0.1460957\ttest: 0.1378169\tbest: 0.1377092 (262)\ttotal: 9m 5s\tremaining: 58.4s\n",
      "271:\tlearn: 0.1460899\ttest: 0.1378207\tbest: 0.1377092 (262)\ttotal: 9m 7s\tremaining: 56.4s\n",
      "272:\tlearn: 0.1460866\ttest: 0.1378255\tbest: 0.1377092 (262)\ttotal: 9m 9s\tremaining: 54.3s\n",
      "273:\tlearn: 0.1460095\ttest: 0.1377706\tbest: 0.1377092 (262)\ttotal: 9m 11s\tremaining: 52.4s\n",
      "274:\tlearn: 0.1460086\ttest: 0.1377486\tbest: 0.1377092 (262)\ttotal: 9m 14s\tremaining: 50.4s\n",
      "275:\tlearn: 0.1458977\ttest: 0.1377589\tbest: 0.1377092 (262)\ttotal: 9m 16s\tremaining: 48.4s\n",
      "276:\tlearn: 0.1458849\ttest: 0.1377632\tbest: 0.1377092 (262)\ttotal: 9m 18s\tremaining: 46.4s\n",
      "277:\tlearn: 0.1458240\ttest: 0.1377614\tbest: 0.1377092 (262)\ttotal: 9m 20s\tremaining: 44.4s\n",
      "278:\tlearn: 0.1457944\ttest: 0.1377938\tbest: 0.1377092 (262)\ttotal: 9m 22s\tremaining: 42.3s\n",
      "279:\tlearn: 0.1457654\ttest: 0.1378046\tbest: 0.1377092 (262)\ttotal: 9m 24s\tremaining: 40.3s\n",
      "280:\tlearn: 0.1457637\ttest: 0.1378050\tbest: 0.1377092 (262)\ttotal: 9m 27s\tremaining: 38.3s\n",
      "281:\tlearn: 0.1456353\ttest: 0.1378198\tbest: 0.1377092 (262)\ttotal: 9m 29s\tremaining: 36.3s\n",
      "282:\tlearn: 0.1456062\ttest: 0.1378408\tbest: 0.1377092 (262)\ttotal: 9m 31s\tremaining: 34.3s\n",
      "283:\tlearn: 0.1456041\ttest: 0.1378348\tbest: 0.1377092 (262)\ttotal: 9m 33s\tremaining: 32.3s\n",
      "284:\tlearn: 0.1455886\ttest: 0.1378791\tbest: 0.1377092 (262)\ttotal: 9m 35s\tremaining: 30.3s\n",
      "285:\tlearn: 0.1455830\ttest: 0.1378780\tbest: 0.1377092 (262)\ttotal: 9m 38s\tremaining: 28.3s\n",
      "286:\tlearn: 0.1455764\ttest: 0.1378827\tbest: 0.1377092 (262)\ttotal: 9m 40s\tremaining: 26.3s\n",
      "287:\tlearn: 0.1455699\ttest: 0.1378888\tbest: 0.1377092 (262)\ttotal: 9m 42s\tremaining: 24.3s\n",
      "288:\tlearn: 0.1455641\ttest: 0.1378745\tbest: 0.1377092 (262)\ttotal: 9m 44s\tremaining: 22.2s\n",
      "289:\tlearn: 0.1455496\ttest: 0.1378891\tbest: 0.1377092 (262)\ttotal: 9m 46s\tremaining: 20.2s\n",
      "290:\tlearn: 0.1455332\ttest: 0.1378846\tbest: 0.1377092 (262)\ttotal: 9m 48s\tremaining: 18.2s\n",
      "291:\tlearn: 0.1454862\ttest: 0.1378768\tbest: 0.1377092 (262)\ttotal: 9m 50s\tremaining: 16.2s\n",
      "292:\tlearn: 0.1454532\ttest: 0.1379334\tbest: 0.1377092 (262)\ttotal: 9m 52s\tremaining: 14.2s\n",
      "293:\tlearn: 0.1453951\ttest: 0.1379596\tbest: 0.1377092 (262)\ttotal: 9m 54s\tremaining: 12.1s\n",
      "294:\tlearn: 0.1453837\ttest: 0.1379521\tbest: 0.1377092 (262)\ttotal: 9m 56s\tremaining: 10.1s\n",
      "295:\tlearn: 0.1453732\ttest: 0.1379728\tbest: 0.1377092 (262)\ttotal: 9m 57s\tremaining: 8.08s\n",
      "296:\tlearn: 0.1453080\ttest: 0.1380012\tbest: 0.1377092 (262)\ttotal: 10m\tremaining: 6.07s\n",
      "297:\tlearn: 0.1452970\ttest: 0.1379746\tbest: 0.1377092 (262)\ttotal: 10m 3s\tremaining: 4.05s\n",
      "298:\tlearn: 0.1452224\ttest: 0.1379479\tbest: 0.1377092 (262)\ttotal: 10m 6s\tremaining: 2.03s\n",
      "299:\tlearn: 0.1452004\ttest: 0.1379528\tbest: 0.1377092 (262)\ttotal: 10m 9s\tremaining: 0us\n",
      "\n",
      "bestTest = 0.1377092211\n",
      "bestIteration = 262\n",
      "\n",
      "Shrink model to first 263 iterations.\n",
      "0\n",
      "0:\tlearn: 0.5790122\ttest: 0.5797377\tbest: 0.5797377 (0)\ttotal: 1.89s\tremaining: 9m 25s\n",
      "1:\tlearn: 0.4926897\ttest: 0.4940680\tbest: 0.4940680 (1)\ttotal: 3.89s\tremaining: 9m 39s\n",
      "2:\tlearn: 0.4276522\ttest: 0.4296182\tbest: 0.4296182 (2)\ttotal: 6.09s\tremaining: 10m 3s\n",
      "3:\tlearn: 0.3766878\ttest: 0.3788872\tbest: 0.3788872 (3)\ttotal: 8.69s\tremaining: 10m 43s\n"
     ]
    },
    {
     "name": "stdout",
     "output_type": "stream",
     "text": [
      "4:\tlearn: 0.3381318\ttest: 0.3397291\tbest: 0.3397291 (4)\ttotal: 10.6s\tremaining: 10m 24s\n",
      "5:\tlearn: 0.3057518\ttest: 0.3069987\tbest: 0.3069987 (5)\ttotal: 13.2s\tremaining: 10m 46s\n",
      "6:\tlearn: 0.2799086\ttest: 0.2804603\tbest: 0.2804603 (6)\ttotal: 16.5s\tremaining: 11m 30s\n",
      "7:\tlearn: 0.2608573\ttest: 0.2606719\tbest: 0.2606719 (7)\ttotal: 19.7s\tremaining: 11m 58s\n",
      "8:\tlearn: 0.2421892\ttest: 0.2408010\tbest: 0.2408010 (8)\ttotal: 22.8s\tremaining: 12m 17s\n",
      "9:\tlearn: 0.2273642\ttest: 0.2245106\tbest: 0.2245106 (9)\ttotal: 25.6s\tremaining: 12m 22s\n",
      "10:\tlearn: 0.2166504\ttest: 0.2128568\tbest: 0.2128568 (10)\ttotal: 27.7s\tremaining: 12m 7s\n",
      "11:\tlearn: 0.2083302\ttest: 0.2035063\tbest: 0.2035063 (11)\ttotal: 30.1s\tremaining: 12m 2s\n",
      "12:\tlearn: 0.2016542\ttest: 0.1957889\tbest: 0.1957889 (12)\ttotal: 33.2s\tremaining: 12m 12s\n",
      "13:\tlearn: 0.1960012\ttest: 0.1890150\tbest: 0.1890150 (13)\ttotal: 36.2s\tremaining: 12m 19s\n",
      "14:\tlearn: 0.1916597\ttest: 0.1837052\tbest: 0.1837052 (14)\ttotal: 39.4s\tremaining: 12m 28s\n",
      "15:\tlearn: 0.1880803\ttest: 0.1791472\tbest: 0.1791472 (15)\ttotal: 41.4s\tremaining: 12m 14s\n",
      "16:\tlearn: 0.1850936\ttest: 0.1753800\tbest: 0.1753800 (16)\ttotal: 43s\tremaining: 11m 55s\n",
      "17:\tlearn: 0.1829805\ttest: 0.1725593\tbest: 0.1725593 (17)\ttotal: 44.3s\tremaining: 11m 33s\n",
      "18:\tlearn: 0.1810911\ttest: 0.1699013\tbest: 0.1699013 (18)\ttotal: 46.4s\tremaining: 11m 26s\n",
      "19:\tlearn: 0.1791700\ttest: 0.1668693\tbest: 0.1668693 (19)\ttotal: 48.2s\tremaining: 11m 14s\n",
      "20:\tlearn: 0.1768731\ttest: 0.1638154\tbest: 0.1638154 (20)\ttotal: 49.8s\tremaining: 11m 1s\n",
      "21:\tlearn: 0.1757087\ttest: 0.1623343\tbest: 0.1623343 (21)\ttotal: 51.1s\tremaining: 10m 45s\n",
      "22:\tlearn: 0.1745847\ttest: 0.1607712\tbest: 0.1607712 (22)\ttotal: 52.6s\tremaining: 10m 33s\n",
      "23:\tlearn: 0.1731905\ttest: 0.1588620\tbest: 0.1588620 (23)\ttotal: 54.6s\tremaining: 10m 27s\n",
      "24:\tlearn: 0.1720241\ttest: 0.1574445\tbest: 0.1574445 (24)\ttotal: 56.2s\tremaining: 10m 18s\n",
      "25:\tlearn: 0.1711983\ttest: 0.1562879\tbest: 0.1562879 (25)\ttotal: 57.8s\tremaining: 10m 9s\n",
      "26:\tlearn: 0.1698138\ttest: 0.1543959\tbest: 0.1543959 (26)\ttotal: 59.2s\tremaining: 9m 58s\n",
      "27:\tlearn: 0.1683625\ttest: 0.1522027\tbest: 0.1522027 (27)\ttotal: 1m\tremaining: 9m 51s\n",
      "28:\tlearn: 0.1680483\ttest: 0.1517843\tbest: 0.1517843 (28)\ttotal: 1m 2s\tremaining: 9m 41s\n",
      "29:\tlearn: 0.1673239\ttest: 0.1506020\tbest: 0.1506020 (29)\ttotal: 1m 4s\tremaining: 9m 36s\n",
      "30:\tlearn: 0.1667982\ttest: 0.1501396\tbest: 0.1501396 (30)\ttotal: 1m 5s\tremaining: 9m 30s\n",
      "31:\tlearn: 0.1660950\ttest: 0.1493840\tbest: 0.1493840 (31)\ttotal: 1m 7s\tremaining: 9m 26s\n",
      "32:\tlearn: 0.1659538\ttest: 0.1491466\tbest: 0.1491466 (32)\ttotal: 1m 9s\tremaining: 9m 23s\n",
      "33:\tlearn: 0.1656612\ttest: 0.1488368\tbest: 0.1488368 (33)\ttotal: 1m 11s\tremaining: 9m 18s\n",
      "34:\tlearn: 0.1650283\ttest: 0.1479212\tbest: 0.1479212 (34)\ttotal: 1m 13s\tremaining: 9m 19s\n",
      "35:\tlearn: 0.1647145\ttest: 0.1475543\tbest: 0.1475543 (35)\ttotal: 1m 16s\tremaining: 9m 19s\n",
      "36:\tlearn: 0.1642845\ttest: 0.1470579\tbest: 0.1470579 (36)\ttotal: 1m 17s\tremaining: 9m 13s\n",
      "37:\tlearn: 0.1639190\ttest: 0.1464310\tbest: 0.1464310 (37)\ttotal: 1m 19s\tremaining: 9m 6s\n",
      "38:\tlearn: 0.1636684\ttest: 0.1462885\tbest: 0.1462885 (38)\ttotal: 1m 20s\tremaining: 9m 1s\n",
      "39:\tlearn: 0.1633571\ttest: 0.1461189\tbest: 0.1461189 (39)\ttotal: 1m 22s\tremaining: 8m 59s\n",
      "40:\tlearn: 0.1629953\ttest: 0.1458294\tbest: 0.1458294 (40)\ttotal: 1m 24s\tremaining: 8m 55s\n",
      "41:\tlearn: 0.1624918\ttest: 0.1452905\tbest: 0.1452905 (41)\ttotal: 1m 26s\tremaining: 8m 50s\n",
      "42:\tlearn: 0.1622542\ttest: 0.1450197\tbest: 0.1450197 (42)\ttotal: 1m 28s\tremaining: 8m 46s\n",
      "43:\tlearn: 0.1621805\ttest: 0.1449099\tbest: 0.1449099 (43)\ttotal: 1m 29s\tremaining: 8m 40s\n",
      "44:\tlearn: 0.1619744\ttest: 0.1445000\tbest: 0.1445000 (44)\ttotal: 1m 30s\tremaining: 8m 32s\n",
      "45:\tlearn: 0.1618358\ttest: 0.1443725\tbest: 0.1443725 (45)\ttotal: 1m 32s\tremaining: 8m 28s\n",
      "46:\tlearn: 0.1614051\ttest: 0.1439626\tbest: 0.1439626 (46)\ttotal: 1m 33s\tremaining: 8m 24s\n",
      "47:\tlearn: 0.1609354\ttest: 0.1434922\tbest: 0.1434922 (47)\ttotal: 1m 35s\tremaining: 8m 22s\n",
      "48:\tlearn: 0.1607711\ttest: 0.1434137\tbest: 0.1434137 (48)\ttotal: 1m 37s\tremaining: 8m 18s\n",
      "49:\tlearn: 0.1607060\ttest: 0.1433008\tbest: 0.1433008 (49)\ttotal: 1m 38s\tremaining: 8m 13s\n",
      "50:\tlearn: 0.1606281\ttest: 0.1432391\tbest: 0.1432391 (50)\ttotal: 1m 39s\tremaining: 8m 7s\n",
      "51:\tlearn: 0.1603824\ttest: 0.1429551\tbest: 0.1429551 (51)\ttotal: 1m 41s\tremaining: 8m 3s\n",
      "52:\tlearn: 0.1603747\ttest: 0.1429328\tbest: 0.1429328 (52)\ttotal: 1m 42s\tremaining: 7m 57s\n",
      "53:\tlearn: 0.1603122\ttest: 0.1428948\tbest: 0.1428948 (53)\ttotal: 1m 43s\tremaining: 7m 53s\n",
      "54:\tlearn: 0.1601356\ttest: 0.1427884\tbest: 0.1427884 (54)\ttotal: 1m 45s\tremaining: 7m 51s\n",
      "55:\tlearn: 0.1601042\ttest: 0.1426858\tbest: 0.1426858 (55)\ttotal: 1m 47s\tremaining: 7m 46s\n",
      "56:\tlearn: 0.1600856\ttest: 0.1426198\tbest: 0.1426198 (56)\ttotal: 1m 48s\tremaining: 7m 41s\n",
      "57:\tlearn: 0.1598471\ttest: 0.1423779\tbest: 0.1423779 (57)\ttotal: 1m 49s\tremaining: 7m 38s\n",
      "58:\tlearn: 0.1597035\ttest: 0.1423335\tbest: 0.1423335 (58)\ttotal: 1m 52s\tremaining: 7m 39s\n",
      "59:\tlearn: 0.1596746\ttest: 0.1423544\tbest: 0.1423335 (58)\ttotal: 1m 54s\tremaining: 7m 39s\n",
      "60:\tlearn: 0.1594618\ttest: 0.1421019\tbest: 0.1421019 (60)\ttotal: 1m 57s\tremaining: 7m 40s\n",
      "61:\tlearn: 0.1593322\ttest: 0.1419806\tbest: 0.1419806 (61)\ttotal: 2m\tremaining: 7m 42s\n",
      "62:\tlearn: 0.1592870\ttest: 0.1419518\tbest: 0.1419518 (62)\ttotal: 2m 2s\tremaining: 7m 40s\n",
      "63:\tlearn: 0.1592868\ttest: 0.1419520\tbest: 0.1419518 (62)\ttotal: 2m 4s\tremaining: 7m 37s\n",
      "64:\tlearn: 0.1590603\ttest: 0.1418904\tbest: 0.1418904 (64)\ttotal: 2m 6s\tremaining: 7m 39s\n",
      "65:\tlearn: 0.1589539\ttest: 0.1417868\tbest: 0.1417868 (65)\ttotal: 2m 9s\tremaining: 7m 39s\n",
      "66:\tlearn: 0.1589241\ttest: 0.1417661\tbest: 0.1417661 (66)\ttotal: 2m 10s\tremaining: 7m 35s\n",
      "67:\tlearn: 0.1587785\ttest: 0.1416667\tbest: 0.1416667 (67)\ttotal: 2m 12s\tremaining: 7m 33s\n",
      "68:\tlearn: 0.1587525\ttest: 0.1416154\tbest: 0.1416154 (68)\ttotal: 2m 13s\tremaining: 7m 28s\n",
      "69:\tlearn: 0.1586537\ttest: 0.1415189\tbest: 0.1415189 (69)\ttotal: 2m 15s\tremaining: 7m 26s\n",
      "70:\tlearn: 0.1586390\ttest: 0.1414607\tbest: 0.1414607 (70)\ttotal: 2m 17s\tremaining: 7m 22s\n",
      "71:\tlearn: 0.1586249\ttest: 0.1414089\tbest: 0.1414089 (71)\ttotal: 2m 18s\tremaining: 7m 18s\n",
      "72:\tlearn: 0.1585593\ttest: 0.1414065\tbest: 0.1414065 (72)\ttotal: 2m 20s\tremaining: 7m 16s\n",
      "73:\tlearn: 0.1579320\ttest: 0.1408930\tbest: 0.1408930 (73)\ttotal: 2m 22s\tremaining: 7m 14s\n",
      "74:\tlearn: 0.1579159\ttest: 0.1408814\tbest: 0.1408814 (74)\ttotal: 2m 23s\tremaining: 7m 10s\n",
      "75:\tlearn: 0.1574945\ttest: 0.1405231\tbest: 0.1405231 (75)\ttotal: 2m 25s\tremaining: 7m 8s\n",
      "76:\tlearn: 0.1574778\ttest: 0.1405205\tbest: 0.1405205 (76)\ttotal: 2m 26s\tremaining: 7m 5s\n",
      "77:\tlearn: 0.1574411\ttest: 0.1405153\tbest: 0.1405153 (77)\ttotal: 2m 28s\tremaining: 7m 3s\n",
      "78:\tlearn: 0.1573014\ttest: 0.1404506\tbest: 0.1404506 (78)\ttotal: 2m 30s\tremaining: 7m\n",
      "79:\tlearn: 0.1572453\ttest: 0.1404500\tbest: 0.1404500 (79)\ttotal: 2m 32s\tremaining: 6m 58s\n",
      "80:\tlearn: 0.1571754\ttest: 0.1403855\tbest: 0.1403855 (80)\ttotal: 2m 33s\tremaining: 6m 56s\n",
      "81:\tlearn: 0.1566702\ttest: 0.1400742\tbest: 0.1400742 (81)\ttotal: 2m 35s\tremaining: 6m 53s\n",
      "82:\tlearn: 0.1566649\ttest: 0.1400511\tbest: 0.1400511 (82)\ttotal: 2m 36s\tremaining: 6m 49s\n",
      "83:\tlearn: 0.1565956\ttest: 0.1400350\tbest: 0.1400350 (83)\ttotal: 2m 38s\tremaining: 6m 47s\n",
      "84:\tlearn: 0.1565905\ttest: 0.1400391\tbest: 0.1400350 (83)\ttotal: 2m 40s\tremaining: 6m 44s\n",
      "85:\tlearn: 0.1565516\ttest: 0.1400358\tbest: 0.1400350 (83)\ttotal: 2m 42s\tremaining: 6m 43s\n",
      "86:\tlearn: 0.1565198\ttest: 0.1400072\tbest: 0.1400072 (86)\ttotal: 2m 44s\tremaining: 6m 42s\n",
      "87:\tlearn: 0.1564099\ttest: 0.1399455\tbest: 0.1399455 (87)\ttotal: 2m 46s\tremaining: 6m 40s\n",
      "88:\tlearn: 0.1562931\ttest: 0.1399080\tbest: 0.1399080 (88)\ttotal: 2m 48s\tremaining: 6m 40s\n",
      "89:\tlearn: 0.1561017\ttest: 0.1399188\tbest: 0.1399080 (88)\ttotal: 2m 50s\tremaining: 6m 38s\n",
      "90:\tlearn: 0.1560812\ttest: 0.1398999\tbest: 0.1398999 (90)\ttotal: 2m 52s\tremaining: 6m 37s\n",
      "91:\tlearn: 0.1560791\ttest: 0.1399008\tbest: 0.1398999 (90)\ttotal: 2m 54s\tremaining: 6m 33s\n",
      "92:\tlearn: 0.1560651\ttest: 0.1398958\tbest: 0.1398958 (92)\ttotal: 2m 54s\tremaining: 6m 29s\n",
      "93:\tlearn: 0.1560292\ttest: 0.1399447\tbest: 0.1398958 (92)\ttotal: 2m 56s\tremaining: 6m 25s\n",
      "94:\tlearn: 0.1560134\ttest: 0.1399301\tbest: 0.1398958 (92)\ttotal: 2m 56s\tremaining: 6m 21s\n",
      "95:\tlearn: 0.1560001\ttest: 0.1399074\tbest: 0.1398958 (92)\ttotal: 2m 58s\tremaining: 6m 18s\n"
     ]
    },
    {
     "name": "stdout",
     "output_type": "stream",
     "text": [
      "96:\tlearn: 0.1560000\ttest: 0.1399080\tbest: 0.1398958 (92)\ttotal: 2m 59s\tremaining: 6m 15s\n",
      "97:\tlearn: 0.1559291\ttest: 0.1398097\tbest: 0.1398097 (97)\ttotal: 3m\tremaining: 6m 11s\n",
      "98:\tlearn: 0.1559259\ttest: 0.1397924\tbest: 0.1397924 (98)\ttotal: 3m 1s\tremaining: 6m 7s\n",
      "99:\tlearn: 0.1558675\ttest: 0.1397944\tbest: 0.1397924 (98)\ttotal: 3m 1s\tremaining: 6m 3s\n",
      "100:\tlearn: 0.1555506\ttest: 0.1394226\tbest: 0.1394226 (100)\ttotal: 3m 3s\tremaining: 6m 1s\n",
      "101:\tlearn: 0.1554534\ttest: 0.1393756\tbest: 0.1393756 (101)\ttotal: 3m 4s\tremaining: 5m 59s\n",
      "102:\tlearn: 0.1554453\ttest: 0.1393657\tbest: 0.1393657 (102)\ttotal: 3m 5s\tremaining: 5m 55s\n",
      "103:\tlearn: 0.1553910\ttest: 0.1393337\tbest: 0.1393337 (103)\ttotal: 3m 7s\tremaining: 5m 52s\n",
      "104:\tlearn: 0.1553561\ttest: 0.1393127\tbest: 0.1393127 (104)\ttotal: 3m 8s\tremaining: 5m 49s\n",
      "105:\tlearn: 0.1551613\ttest: 0.1390905\tbest: 0.1390905 (105)\ttotal: 3m 9s\tremaining: 5m 47s\n",
      "106:\tlearn: 0.1551237\ttest: 0.1390598\tbest: 0.1390598 (106)\ttotal: 3m 11s\tremaining: 5m 44s\n",
      "107:\tlearn: 0.1549844\ttest: 0.1390834\tbest: 0.1390598 (106)\ttotal: 3m 12s\tremaining: 5m 42s\n",
      "108:\tlearn: 0.1548531\ttest: 0.1391444\tbest: 0.1390598 (106)\ttotal: 3m 14s\tremaining: 5m 40s\n",
      "109:\tlearn: 0.1547212\ttest: 0.1390899\tbest: 0.1390598 (106)\ttotal: 3m 15s\tremaining: 5m 37s\n",
      "110:\tlearn: 0.1546145\ttest: 0.1390090\tbest: 0.1390090 (110)\ttotal: 3m 16s\tremaining: 5m 35s\n",
      "111:\tlearn: 0.1544496\ttest: 0.1389742\tbest: 0.1389742 (111)\ttotal: 3m 18s\tremaining: 5m 32s\n",
      "112:\tlearn: 0.1543908\ttest: 0.1389791\tbest: 0.1389742 (111)\ttotal: 3m 19s\tremaining: 5m 30s\n",
      "113:\tlearn: 0.1542793\ttest: 0.1389190\tbest: 0.1389190 (113)\ttotal: 3m 21s\tremaining: 5m 28s\n",
      "114:\tlearn: 0.1542168\ttest: 0.1389432\tbest: 0.1389190 (113)\ttotal: 3m 22s\tremaining: 5m 25s\n",
      "115:\tlearn: 0.1542093\ttest: 0.1389506\tbest: 0.1389190 (113)\ttotal: 3m 23s\tremaining: 5m 22s\n",
      "116:\tlearn: 0.1542092\ttest: 0.1389511\tbest: 0.1389190 (113)\ttotal: 3m 23s\tremaining: 5m 18s\n",
      "117:\tlearn: 0.1541759\ttest: 0.1389537\tbest: 0.1389190 (113)\ttotal: 3m 25s\tremaining: 5m 16s\n",
      "118:\tlearn: 0.1541083\ttest: 0.1388752\tbest: 0.1388752 (118)\ttotal: 3m 26s\tremaining: 5m 13s\n",
      "119:\tlearn: 0.1540618\ttest: 0.1388463\tbest: 0.1388463 (119)\ttotal: 3m 27s\tremaining: 5m 11s\n",
      "120:\tlearn: 0.1539972\ttest: 0.1388822\tbest: 0.1388463 (119)\ttotal: 3m 28s\tremaining: 5m 8s\n",
      "121:\tlearn: 0.1539120\ttest: 0.1388907\tbest: 0.1388463 (119)\ttotal: 3m 29s\tremaining: 5m 6s\n",
      "122:\tlearn: 0.1538937\ttest: 0.1389101\tbest: 0.1388463 (119)\ttotal: 3m 31s\tremaining: 5m 3s\n",
      "123:\tlearn: 0.1538763\ttest: 0.1389091\tbest: 0.1388463 (119)\ttotal: 3m 32s\tremaining: 5m 1s\n",
      "124:\tlearn: 0.1537886\ttest: 0.1388892\tbest: 0.1388463 (119)\ttotal: 3m 33s\tremaining: 4m 58s\n",
      "125:\tlearn: 0.1537435\ttest: 0.1388442\tbest: 0.1388442 (125)\ttotal: 3m 34s\tremaining: 4m 56s\n",
      "126:\tlearn: 0.1535792\ttest: 0.1388805\tbest: 0.1388442 (125)\ttotal: 3m 35s\tremaining: 4m 53s\n",
      "127:\tlearn: 0.1533229\ttest: 0.1387560\tbest: 0.1387560 (127)\ttotal: 3m 36s\tremaining: 4m 50s\n",
      "128:\tlearn: 0.1531954\ttest: 0.1387478\tbest: 0.1387478 (128)\ttotal: 3m 37s\tremaining: 4m 48s\n",
      "129:\tlearn: 0.1530578\ttest: 0.1387214\tbest: 0.1387214 (129)\ttotal: 3m 38s\tremaining: 4m 46s\n",
      "130:\tlearn: 0.1529870\ttest: 0.1387047\tbest: 0.1387047 (130)\ttotal: 3m 39s\tremaining: 4m 43s\n",
      "131:\tlearn: 0.1528824\ttest: 0.1386921\tbest: 0.1386921 (131)\ttotal: 3m 41s\tremaining: 4m 41s\n",
      "132:\tlearn: 0.1528593\ttest: 0.1386820\tbest: 0.1386820 (132)\ttotal: 3m 42s\tremaining: 4m 38s\n",
      "133:\tlearn: 0.1528417\ttest: 0.1386860\tbest: 0.1386820 (132)\ttotal: 3m 43s\tremaining: 4m 36s\n",
      "134:\tlearn: 0.1527574\ttest: 0.1386166\tbest: 0.1386166 (134)\ttotal: 3m 44s\tremaining: 4m 33s\n",
      "135:\tlearn: 0.1526407\ttest: 0.1386013\tbest: 0.1386013 (135)\ttotal: 3m 45s\tremaining: 4m 31s\n",
      "136:\tlearn: 0.1525968\ttest: 0.1386145\tbest: 0.1386013 (135)\ttotal: 3m 46s\tremaining: 4m 29s\n",
      "137:\tlearn: 0.1525217\ttest: 0.1385727\tbest: 0.1385727 (137)\ttotal: 3m 47s\tremaining: 4m 27s\n",
      "138:\tlearn: 0.1524364\ttest: 0.1386022\tbest: 0.1385727 (137)\ttotal: 3m 48s\tremaining: 4m 24s\n",
      "139:\tlearn: 0.1524264\ttest: 0.1386028\tbest: 0.1385727 (137)\ttotal: 3m 49s\tremaining: 4m 22s\n",
      "140:\tlearn: 0.1522908\ttest: 0.1385977\tbest: 0.1385727 (137)\ttotal: 3m 51s\tremaining: 4m 20s\n",
      "141:\tlearn: 0.1522511\ttest: 0.1385835\tbest: 0.1385727 (137)\ttotal: 3m 52s\tremaining: 4m 18s\n",
      "142:\tlearn: 0.1522223\ttest: 0.1385806\tbest: 0.1385727 (137)\ttotal: 3m 53s\tremaining: 4m 16s\n",
      "143:\tlearn: 0.1521283\ttest: 0.1385393\tbest: 0.1385393 (143)\ttotal: 3m 54s\tremaining: 4m 14s\n",
      "144:\tlearn: 0.1520399\ttest: 0.1385527\tbest: 0.1385393 (143)\ttotal: 3m 55s\tremaining: 4m 12s\n",
      "145:\tlearn: 0.1519743\ttest: 0.1385479\tbest: 0.1385393 (143)\ttotal: 3m 56s\tremaining: 4m 9s\n",
      "146:\tlearn: 0.1519347\ttest: 0.1385189\tbest: 0.1385189 (146)\ttotal: 3m 58s\tremaining: 4m 7s\n",
      "147:\tlearn: 0.1518005\ttest: 0.1384585\tbest: 0.1384585 (147)\ttotal: 3m 59s\tremaining: 4m 5s\n",
      "148:\tlearn: 0.1516984\ttest: 0.1384019\tbest: 0.1384019 (148)\ttotal: 4m\tremaining: 4m 3s\n",
      "149:\tlearn: 0.1515902\ttest: 0.1384355\tbest: 0.1384019 (148)\ttotal: 4m 1s\tremaining: 4m 1s\n",
      "150:\tlearn: 0.1515049\ttest: 0.1384309\tbest: 0.1384019 (148)\ttotal: 4m 2s\tremaining: 3m 59s\n",
      "151:\tlearn: 0.1514548\ttest: 0.1384194\tbest: 0.1384019 (148)\ttotal: 4m 3s\tremaining: 3m 57s\n",
      "152:\tlearn: 0.1514079\ttest: 0.1384230\tbest: 0.1384019 (148)\ttotal: 4m 4s\tremaining: 3m 55s\n",
      "153:\tlearn: 0.1513961\ttest: 0.1384477\tbest: 0.1384019 (148)\ttotal: 4m 6s\tremaining: 3m 53s\n",
      "154:\tlearn: 0.1513485\ttest: 0.1384947\tbest: 0.1384019 (148)\ttotal: 4m 7s\tremaining: 3m 51s\n",
      "155:\tlearn: 0.1512321\ttest: 0.1385032\tbest: 0.1384019 (148)\ttotal: 4m 8s\tremaining: 3m 49s\n",
      "156:\tlearn: 0.1511855\ttest: 0.1385070\tbest: 0.1384019 (148)\ttotal: 4m 9s\tremaining: 3m 47s\n",
      "157:\tlearn: 0.1510930\ttest: 0.1384737\tbest: 0.1384019 (148)\ttotal: 4m 10s\tremaining: 3m 45s\n",
      "158:\tlearn: 0.1510767\ttest: 0.1384716\tbest: 0.1384019 (148)\ttotal: 4m 11s\tremaining: 3m 42s\n",
      "159:\tlearn: 0.1509864\ttest: 0.1384457\tbest: 0.1384019 (148)\ttotal: 4m 12s\tremaining: 3m 41s\n",
      "160:\tlearn: 0.1509613\ttest: 0.1384358\tbest: 0.1384019 (148)\ttotal: 4m 13s\tremaining: 3m 39s\n",
      "161:\tlearn: 0.1509168\ttest: 0.1384360\tbest: 0.1384019 (148)\ttotal: 4m 15s\tremaining: 3m 37s\n",
      "162:\tlearn: 0.1508943\ttest: 0.1384590\tbest: 0.1384019 (148)\ttotal: 4m 16s\tremaining: 3m 35s\n",
      "163:\tlearn: 0.1506705\ttest: 0.1383060\tbest: 0.1383060 (163)\ttotal: 4m 17s\tremaining: 3m 33s\n",
      "164:\tlearn: 0.1506455\ttest: 0.1383198\tbest: 0.1383060 (163)\ttotal: 4m 18s\tremaining: 3m 31s\n",
      "165:\tlearn: 0.1506130\ttest: 0.1383591\tbest: 0.1383060 (163)\ttotal: 4m 19s\tremaining: 3m 29s\n",
      "166:\tlearn: 0.1505797\ttest: 0.1383476\tbest: 0.1383060 (163)\ttotal: 4m 20s\tremaining: 3m 27s\n",
      "167:\tlearn: 0.1504961\ttest: 0.1383383\tbest: 0.1383060 (163)\ttotal: 4m 21s\tremaining: 3m 25s\n",
      "168:\tlearn: 0.1504876\ttest: 0.1383382\tbest: 0.1383060 (163)\ttotal: 4m 22s\tremaining: 3m 23s\n",
      "169:\tlearn: 0.1504685\ttest: 0.1383375\tbest: 0.1383060 (163)\ttotal: 4m 23s\tremaining: 3m 21s\n",
      "170:\tlearn: 0.1502646\ttest: 0.1381894\tbest: 0.1381894 (170)\ttotal: 4m 24s\tremaining: 3m 19s\n",
      "171:\tlearn: 0.1502347\ttest: 0.1382152\tbest: 0.1381894 (170)\ttotal: 4m 26s\tremaining: 3m 18s\n",
      "172:\tlearn: 0.1501830\ttest: 0.1382050\tbest: 0.1381894 (170)\ttotal: 4m 27s\tremaining: 3m 16s\n",
      "173:\tlearn: 0.1501788\ttest: 0.1382057\tbest: 0.1381894 (170)\ttotal: 4m 28s\tremaining: 3m 14s\n",
      "174:\tlearn: 0.1500400\ttest: 0.1382313\tbest: 0.1381894 (170)\ttotal: 4m 29s\tremaining: 3m 12s\n",
      "175:\tlearn: 0.1498789\ttest: 0.1382300\tbest: 0.1381894 (170)\ttotal: 4m 31s\tremaining: 3m 11s\n",
      "176:\tlearn: 0.1498606\ttest: 0.1382297\tbest: 0.1381894 (170)\ttotal: 4m 32s\tremaining: 3m 9s\n",
      "177:\tlearn: 0.1498567\ttest: 0.1382498\tbest: 0.1381894 (170)\ttotal: 4m 33s\tremaining: 3m 7s\n",
      "178:\tlearn: 0.1498393\ttest: 0.1382589\tbest: 0.1381894 (170)\ttotal: 4m 34s\tremaining: 3m 5s\n",
      "179:\tlearn: 0.1498258\ttest: 0.1382674\tbest: 0.1381894 (170)\ttotal: 4m 35s\tremaining: 3m 3s\n",
      "180:\tlearn: 0.1497699\ttest: 0.1382955\tbest: 0.1381894 (170)\ttotal: 4m 36s\tremaining: 3m 2s\n",
      "181:\tlearn: 0.1497549\ttest: 0.1383009\tbest: 0.1381894 (170)\ttotal: 4m 37s\tremaining: 3m\n",
      "182:\tlearn: 0.1496138\ttest: 0.1383078\tbest: 0.1381894 (170)\ttotal: 4m 38s\tremaining: 2m 58s\n",
      "183:\tlearn: 0.1496081\ttest: 0.1383097\tbest: 0.1381894 (170)\ttotal: 4m 39s\tremaining: 2m 56s\n",
      "184:\tlearn: 0.1495967\ttest: 0.1383058\tbest: 0.1381894 (170)\ttotal: 4m 41s\tremaining: 2m 54s\n",
      "185:\tlearn: 0.1495236\ttest: 0.1382954\tbest: 0.1381894 (170)\ttotal: 4m 42s\tremaining: 2m 52s\n"
     ]
    },
    {
     "name": "stdout",
     "output_type": "stream",
     "text": [
      "186:\tlearn: 0.1493702\ttest: 0.1382785\tbest: 0.1381894 (170)\ttotal: 4m 43s\tremaining: 2m 51s\n",
      "187:\tlearn: 0.1492876\ttest: 0.1382142\tbest: 0.1381894 (170)\ttotal: 4m 44s\tremaining: 2m 49s\n",
      "188:\tlearn: 0.1492686\ttest: 0.1382200\tbest: 0.1381894 (170)\ttotal: 4m 45s\tremaining: 2m 47s\n",
      "189:\tlearn: 0.1492641\ttest: 0.1382170\tbest: 0.1381894 (170)\ttotal: 4m 46s\tremaining: 2m 46s\n",
      "190:\tlearn: 0.1492334\ttest: 0.1382342\tbest: 0.1381894 (170)\ttotal: 4m 47s\tremaining: 2m 44s\n",
      "191:\tlearn: 0.1492024\ttest: 0.1382736\tbest: 0.1381894 (170)\ttotal: 4m 48s\tremaining: 2m 42s\n",
      "192:\tlearn: 0.1491765\ttest: 0.1383018\tbest: 0.1381894 (170)\ttotal: 4m 49s\tremaining: 2m 40s\n",
      "193:\tlearn: 0.1491131\ttest: 0.1382764\tbest: 0.1381894 (170)\ttotal: 4m 50s\tremaining: 2m 38s\n",
      "194:\tlearn: 0.1490042\ttest: 0.1382285\tbest: 0.1381894 (170)\ttotal: 4m 52s\tremaining: 2m 37s\n",
      "195:\tlearn: 0.1489817\ttest: 0.1382297\tbest: 0.1381894 (170)\ttotal: 4m 53s\tremaining: 2m 35s\n",
      "196:\tlearn: 0.1488334\ttest: 0.1381468\tbest: 0.1381468 (196)\ttotal: 4m 54s\tremaining: 2m 34s\n",
      "197:\tlearn: 0.1488279\ttest: 0.1381593\tbest: 0.1381468 (196)\ttotal: 4m 55s\tremaining: 2m 32s\n",
      "198:\tlearn: 0.1487791\ttest: 0.1381695\tbest: 0.1381468 (196)\ttotal: 4m 57s\tremaining: 2m 30s\n",
      "199:\tlearn: 0.1487708\ttest: 0.1381806\tbest: 0.1381468 (196)\ttotal: 4m 58s\tremaining: 2m 29s\n",
      "200:\tlearn: 0.1486424\ttest: 0.1381162\tbest: 0.1381162 (200)\ttotal: 4m 59s\tremaining: 2m 27s\n",
      "201:\tlearn: 0.1485593\ttest: 0.1381044\tbest: 0.1381044 (201)\ttotal: 5m\tremaining: 2m 25s\n",
      "202:\tlearn: 0.1485333\ttest: 0.1381443\tbest: 0.1381044 (201)\ttotal: 5m 1s\tremaining: 2m 23s\n",
      "203:\tlearn: 0.1485023\ttest: 0.1381376\tbest: 0.1381044 (201)\ttotal: 5m 2s\tremaining: 2m 22s\n",
      "204:\tlearn: 0.1484943\ttest: 0.1381382\tbest: 0.1381044 (201)\ttotal: 5m 3s\tremaining: 2m 20s\n",
      "205:\tlearn: 0.1484703\ttest: 0.1381897\tbest: 0.1381044 (201)\ttotal: 5m 4s\tremaining: 2m 18s\n",
      "206:\tlearn: 0.1484606\ttest: 0.1382009\tbest: 0.1381044 (201)\ttotal: 5m 5s\tremaining: 2m 17s\n",
      "207:\tlearn: 0.1484171\ttest: 0.1382469\tbest: 0.1381044 (201)\ttotal: 5m 6s\tremaining: 2m 15s\n",
      "208:\tlearn: 0.1484094\ttest: 0.1382457\tbest: 0.1381044 (201)\ttotal: 5m 7s\tremaining: 2m 14s\n",
      "209:\tlearn: 0.1483476\ttest: 0.1381963\tbest: 0.1381044 (201)\ttotal: 5m 8s\tremaining: 2m 12s\n",
      "210:\tlearn: 0.1482936\ttest: 0.1381630\tbest: 0.1381044 (201)\ttotal: 5m 9s\tremaining: 2m 10s\n",
      "211:\tlearn: 0.1482401\ttest: 0.1381492\tbest: 0.1381044 (201)\ttotal: 5m 11s\tremaining: 2m 9s\n",
      "212:\tlearn: 0.1482359\ttest: 0.1381495\tbest: 0.1381044 (201)\ttotal: 5m 12s\tremaining: 2m 7s\n",
      "213:\tlearn: 0.1482281\ttest: 0.1381374\tbest: 0.1381044 (201)\ttotal: 5m 13s\tremaining: 2m 6s\n",
      "214:\tlearn: 0.1481753\ttest: 0.1381238\tbest: 0.1381044 (201)\ttotal: 5m 14s\tremaining: 2m 4s\n",
      "215:\tlearn: 0.1481516\ttest: 0.1381492\tbest: 0.1381044 (201)\ttotal: 5m 16s\tremaining: 2m 3s\n",
      "216:\tlearn: 0.1480862\ttest: 0.1381667\tbest: 0.1381044 (201)\ttotal: 5m 17s\tremaining: 2m 1s\n",
      "217:\tlearn: 0.1480153\ttest: 0.1381590\tbest: 0.1381044 (201)\ttotal: 5m 18s\tremaining: 1m 59s\n",
      "218:\tlearn: 0.1479934\ttest: 0.1381570\tbest: 0.1381044 (201)\ttotal: 5m 20s\tremaining: 1m 58s\n",
      "219:\tlearn: 0.1479591\ttest: 0.1381698\tbest: 0.1381044 (201)\ttotal: 5m 21s\tremaining: 1m 56s\n",
      "220:\tlearn: 0.1478444\ttest: 0.1381146\tbest: 0.1381044 (201)\ttotal: 5m 22s\tremaining: 1m 55s\n",
      "221:\tlearn: 0.1478282\ttest: 0.1381069\tbest: 0.1381044 (201)\ttotal: 5m 23s\tremaining: 1m 53s\n",
      "222:\tlearn: 0.1478138\ttest: 0.1381181\tbest: 0.1381044 (201)\ttotal: 5m 24s\tremaining: 1m 52s\n",
      "223:\tlearn: 0.1477958\ttest: 0.1381424\tbest: 0.1381044 (201)\ttotal: 5m 25s\tremaining: 1m 50s\n",
      "224:\tlearn: 0.1477877\ttest: 0.1381455\tbest: 0.1381044 (201)\ttotal: 5m 26s\tremaining: 1m 48s\n",
      "225:\tlearn: 0.1477385\ttest: 0.1381052\tbest: 0.1381044 (201)\ttotal: 5m 27s\tremaining: 1m 47s\n",
      "226:\tlearn: 0.1477341\ttest: 0.1381325\tbest: 0.1381044 (201)\ttotal: 5m 28s\tremaining: 1m 45s\n",
      "227:\tlearn: 0.1477033\ttest: 0.1381182\tbest: 0.1381044 (201)\ttotal: 5m 29s\tremaining: 1m 44s\n",
      "228:\tlearn: 0.1476388\ttest: 0.1382014\tbest: 0.1381044 (201)\ttotal: 5m 31s\tremaining: 1m 42s\n",
      "229:\tlearn: 0.1476347\ttest: 0.1382025\tbest: 0.1381044 (201)\ttotal: 5m 32s\tremaining: 1m 41s\n",
      "230:\tlearn: 0.1476226\ttest: 0.1381866\tbest: 0.1381044 (201)\ttotal: 5m 33s\tremaining: 1m 39s\n",
      "231:\tlearn: 0.1476094\ttest: 0.1381958\tbest: 0.1381044 (201)\ttotal: 5m 34s\tremaining: 1m 38s\n",
      "232:\tlearn: 0.1475545\ttest: 0.1381909\tbest: 0.1381044 (201)\ttotal: 5m 35s\tremaining: 1m 36s\n",
      "233:\tlearn: 0.1475165\ttest: 0.1382360\tbest: 0.1381044 (201)\ttotal: 5m 36s\tremaining: 1m 35s\n",
      "234:\tlearn: 0.1474382\ttest: 0.1382145\tbest: 0.1381044 (201)\ttotal: 5m 38s\tremaining: 1m 33s\n",
      "235:\tlearn: 0.1473371\ttest: 0.1382160\tbest: 0.1381044 (201)\ttotal: 5m 39s\tremaining: 1m 32s\n",
      "236:\tlearn: 0.1473037\ttest: 0.1381619\tbest: 0.1381044 (201)\ttotal: 5m 40s\tremaining: 1m 30s\n",
      "237:\tlearn: 0.1472226\ttest: 0.1379874\tbest: 0.1379874 (237)\ttotal: 5m 41s\tremaining: 1m 29s\n",
      "238:\tlearn: 0.1472133\ttest: 0.1380149\tbest: 0.1379874 (237)\ttotal: 5m 42s\tremaining: 1m 27s\n",
      "239:\tlearn: 0.1470881\ttest: 0.1380072\tbest: 0.1379874 (237)\ttotal: 5m 43s\tremaining: 1m 25s\n",
      "240:\tlearn: 0.1470810\ttest: 0.1380165\tbest: 0.1379874 (237)\ttotal: 5m 44s\tremaining: 1m 24s\n",
      "241:\tlearn: 0.1470289\ttest: 0.1380211\tbest: 0.1379874 (237)\ttotal: 5m 46s\tremaining: 1m 22s\n",
      "242:\tlearn: 0.1470127\ttest: 0.1380440\tbest: 0.1379874 (237)\ttotal: 5m 47s\tremaining: 1m 21s\n",
      "243:\tlearn: 0.1470025\ttest: 0.1380721\tbest: 0.1379874 (237)\ttotal: 5m 48s\tremaining: 1m 19s\n",
      "244:\tlearn: 0.1468293\ttest: 0.1379561\tbest: 0.1379561 (244)\ttotal: 5m 49s\tremaining: 1m 18s\n",
      "245:\tlearn: 0.1468127\ttest: 0.1379530\tbest: 0.1379530 (245)\ttotal: 5m 50s\tremaining: 1m 16s\n",
      "246:\tlearn: 0.1467986\ttest: 0.1379866\tbest: 0.1379530 (245)\ttotal: 5m 51s\tremaining: 1m 15s\n",
      "247:\tlearn: 0.1467932\ttest: 0.1379841\tbest: 0.1379530 (245)\ttotal: 5m 52s\tremaining: 1m 13s\n",
      "248:\tlearn: 0.1467902\ttest: 0.1379847\tbest: 0.1379530 (245)\ttotal: 5m 53s\tremaining: 1m 12s\n",
      "249:\tlearn: 0.1467865\ttest: 0.1379918\tbest: 0.1379530 (245)\ttotal: 5m 54s\tremaining: 1m 10s\n",
      "250:\tlearn: 0.1467162\ttest: 0.1379267\tbest: 0.1379267 (250)\ttotal: 5m 55s\tremaining: 1m 9s\n",
      "251:\tlearn: 0.1465831\ttest: 0.1378305\tbest: 0.1378305 (251)\ttotal: 5m 56s\tremaining: 1m 7s\n",
      "252:\tlearn: 0.1465591\ttest: 0.1378197\tbest: 0.1378197 (252)\ttotal: 5m 57s\tremaining: 1m 6s\n",
      "253:\tlearn: 0.1465580\ttest: 0.1378198\tbest: 0.1378197 (252)\ttotal: 5m 59s\tremaining: 1m 5s\n",
      "254:\tlearn: 0.1465075\ttest: 0.1378523\tbest: 0.1378197 (252)\ttotal: 6m\tremaining: 1m 3s\n",
      "255:\tlearn: 0.1464915\ttest: 0.1378511\tbest: 0.1378197 (252)\ttotal: 6m 1s\tremaining: 1m 2s\n",
      "256:\tlearn: 0.1464682\ttest: 0.1378426\tbest: 0.1378197 (252)\ttotal: 6m 2s\tremaining: 1m\n",
      "257:\tlearn: 0.1464526\ttest: 0.1378084\tbest: 0.1378084 (257)\ttotal: 6m 3s\tremaining: 59.2s\n",
      "258:\tlearn: 0.1464384\ttest: 0.1378300\tbest: 0.1378084 (257)\ttotal: 6m 4s\tremaining: 57.7s\n",
      "259:\tlearn: 0.1463154\ttest: 0.1377342\tbest: 0.1377342 (259)\ttotal: 6m 5s\tremaining: 56.3s\n",
      "260:\tlearn: 0.1462973\ttest: 0.1377394\tbest: 0.1377342 (259)\ttotal: 6m 7s\tremaining: 54.9s\n",
      "261:\tlearn: 0.1462871\ttest: 0.1377385\tbest: 0.1377342 (259)\ttotal: 6m 7s\tremaining: 53.4s\n",
      "262:\tlearn: 0.1462296\ttest: 0.1377092\tbest: 0.1377092 (262)\ttotal: 6m 8s\tremaining: 51.9s\n",
      "263:\tlearn: 0.1462223\ttest: 0.1377157\tbest: 0.1377092 (262)\ttotal: 6m 9s\tremaining: 50.4s\n",
      "264:\tlearn: 0.1462198\ttest: 0.1377159\tbest: 0.1377092 (262)\ttotal: 6m 11s\tremaining: 49s\n",
      "265:\tlearn: 0.1461720\ttest: 0.1377427\tbest: 0.1377092 (262)\ttotal: 6m 12s\tremaining: 47.6s\n",
      "266:\tlearn: 0.1461646\ttest: 0.1377504\tbest: 0.1377092 (262)\ttotal: 6m 13s\tremaining: 46.2s\n",
      "267:\tlearn: 0.1461306\ttest: 0.1377786\tbest: 0.1377092 (262)\ttotal: 6m 14s\tremaining: 44.7s\n",
      "268:\tlearn: 0.1461285\ttest: 0.1377789\tbest: 0.1377092 (262)\ttotal: 6m 15s\tremaining: 43.3s\n",
      "269:\tlearn: 0.1461258\ttest: 0.1377806\tbest: 0.1377092 (262)\ttotal: 6m 17s\tremaining: 41.9s\n",
      "270:\tlearn: 0.1460957\ttest: 0.1378169\tbest: 0.1377092 (262)\ttotal: 6m 18s\tremaining: 40.5s\n",
      "271:\tlearn: 0.1460899\ttest: 0.1378207\tbest: 0.1377092 (262)\ttotal: 6m 19s\tremaining: 39.1s\n",
      "272:\tlearn: 0.1460866\ttest: 0.1378255\tbest: 0.1377092 (262)\ttotal: 6m 20s\tremaining: 37.6s\n",
      "273:\tlearn: 0.1460095\ttest: 0.1377706\tbest: 0.1377092 (262)\ttotal: 6m 21s\tremaining: 36.2s\n",
      "274:\tlearn: 0.1460086\ttest: 0.1377486\tbest: 0.1377092 (262)\ttotal: 6m 23s\tremaining: 34.8s\n",
      "275:\tlearn: 0.1458977\ttest: 0.1377589\tbest: 0.1377092 (262)\ttotal: 6m 24s\tremaining: 33.5s\n"
     ]
    },
    {
     "name": "stdout",
     "output_type": "stream",
     "text": [
      "276:\tlearn: 0.1458849\ttest: 0.1377632\tbest: 0.1377092 (262)\ttotal: 6m 25s\tremaining: 32s\n",
      "277:\tlearn: 0.1458240\ttest: 0.1377614\tbest: 0.1377092 (262)\ttotal: 6m 26s\tremaining: 30.6s\n",
      "278:\tlearn: 0.1457944\ttest: 0.1377938\tbest: 0.1377092 (262)\ttotal: 6m 28s\tremaining: 29.2s\n",
      "279:\tlearn: 0.1457654\ttest: 0.1378046\tbest: 0.1377092 (262)\ttotal: 6m 29s\tremaining: 27.8s\n",
      "280:\tlearn: 0.1457637\ttest: 0.1378050\tbest: 0.1377092 (262)\ttotal: 6m 30s\tremaining: 26.4s\n",
      "281:\tlearn: 0.1456353\ttest: 0.1378198\tbest: 0.1377092 (262)\ttotal: 6m 31s\tremaining: 25s\n",
      "282:\tlearn: 0.1456062\ttest: 0.1378408\tbest: 0.1377092 (262)\ttotal: 6m 32s\tremaining: 23.6s\n",
      "283:\tlearn: 0.1456041\ttest: 0.1378348\tbest: 0.1377092 (262)\ttotal: 6m 33s\tremaining: 22.2s\n",
      "284:\tlearn: 0.1455886\ttest: 0.1378791\tbest: 0.1377092 (262)\ttotal: 6m 34s\tremaining: 20.8s\n",
      "285:\tlearn: 0.1455830\ttest: 0.1378780\tbest: 0.1377092 (262)\ttotal: 6m 35s\tremaining: 19.4s\n",
      "286:\tlearn: 0.1455764\ttest: 0.1378827\tbest: 0.1377092 (262)\ttotal: 6m 36s\tremaining: 18s\n",
      "287:\tlearn: 0.1455699\ttest: 0.1378888\tbest: 0.1377092 (262)\ttotal: 6m 38s\tremaining: 16.6s\n",
      "288:\tlearn: 0.1455641\ttest: 0.1378745\tbest: 0.1377092 (262)\ttotal: 6m 39s\tremaining: 15.2s\n",
      "289:\tlearn: 0.1455496\ttest: 0.1378891\tbest: 0.1377092 (262)\ttotal: 6m 40s\tremaining: 13.8s\n",
      "290:\tlearn: 0.1455332\ttest: 0.1378846\tbest: 0.1377092 (262)\ttotal: 6m 41s\tremaining: 12.4s\n",
      "291:\tlearn: 0.1454862\ttest: 0.1378768\tbest: 0.1377092 (262)\ttotal: 6m 42s\tremaining: 11s\n",
      "292:\tlearn: 0.1454532\ttest: 0.1379334\tbest: 0.1377092 (262)\ttotal: 6m 43s\tremaining: 9.65s\n",
      "293:\tlearn: 0.1453951\ttest: 0.1379596\tbest: 0.1377092 (262)\ttotal: 6m 45s\tremaining: 8.27s\n",
      "294:\tlearn: 0.1453837\ttest: 0.1379521\tbest: 0.1377092 (262)\ttotal: 6m 46s\tremaining: 6.89s\n",
      "295:\tlearn: 0.1453732\ttest: 0.1379728\tbest: 0.1377092 (262)\ttotal: 6m 47s\tremaining: 5.51s\n",
      "296:\tlearn: 0.1453080\ttest: 0.1380012\tbest: 0.1377092 (262)\ttotal: 6m 49s\tremaining: 4.13s\n",
      "297:\tlearn: 0.1452970\ttest: 0.1379746\tbest: 0.1377092 (262)\ttotal: 6m 50s\tremaining: 2.75s\n",
      "298:\tlearn: 0.1452224\ttest: 0.1379479\tbest: 0.1377092 (262)\ttotal: 6m 51s\tremaining: 1.38s\n",
      "299:\tlearn: 0.1452004\ttest: 0.1379528\tbest: 0.1377092 (262)\ttotal: 6m 52s\tremaining: 0us\n",
      "\n",
      "bestTest = 0.1377092211\n",
      "bestIteration = 262\n",
      "\n",
      "Shrink model to first 263 iterations.\n",
      "0\n",
      "0:\tlearn: 0.5790122\ttest: 0.5797377\tbest: 0.5797377 (0)\ttotal: 518ms\tremaining: 2m 34s\n",
      "1:\tlearn: 0.4926897\ttest: 0.4940680\tbest: 0.4940680 (1)\ttotal: 1.31s\tremaining: 3m 14s\n",
      "2:\tlearn: 0.4276522\ttest: 0.4296182\tbest: 0.4296182 (2)\ttotal: 2.1s\tremaining: 3m 28s\n",
      "3:\tlearn: 0.3766878\ttest: 0.3788872\tbest: 0.3788872 (3)\ttotal: 3.02s\tremaining: 3m 43s\n",
      "4:\tlearn: 0.3381318\ttest: 0.3397291\tbest: 0.3397291 (4)\ttotal: 3.9s\tremaining: 3m 50s\n",
      "5:\tlearn: 0.3057518\ttest: 0.3069987\tbest: 0.3069987 (5)\ttotal: 5.01s\tremaining: 4m 5s\n",
      "6:\tlearn: 0.2799086\ttest: 0.2804603\tbest: 0.2804603 (6)\ttotal: 6.2s\tremaining: 4m 19s\n",
      "7:\tlearn: 0.2608573\ttest: 0.2606719\tbest: 0.2606719 (7)\ttotal: 7.2s\tremaining: 4m 22s\n",
      "8:\tlearn: 0.2421892\ttest: 0.2408010\tbest: 0.2408010 (8)\ttotal: 8.01s\tremaining: 4m 18s\n",
      "9:\tlearn: 0.2273642\ttest: 0.2245106\tbest: 0.2245106 (9)\ttotal: 9.5s\tremaining: 4m 35s\n",
      "10:\tlearn: 0.2166504\ttest: 0.2128568\tbest: 0.2128568 (10)\ttotal: 10.2s\tremaining: 4m 27s\n",
      "11:\tlearn: 0.2083302\ttest: 0.2035063\tbest: 0.2035063 (11)\ttotal: 11.2s\tremaining: 4m 28s\n",
      "12:\tlearn: 0.2016542\ttest: 0.1957889\tbest: 0.1957889 (12)\ttotal: 12.2s\tremaining: 4m 29s\n",
      "13:\tlearn: 0.1960012\ttest: 0.1890150\tbest: 0.1890150 (13)\ttotal: 13.3s\tremaining: 4m 31s\n",
      "14:\tlearn: 0.1916597\ttest: 0.1837052\tbest: 0.1837052 (14)\ttotal: 14.4s\tremaining: 4m 33s\n",
      "15:\tlearn: 0.1880803\ttest: 0.1791472\tbest: 0.1791472 (15)\ttotal: 15.8s\tremaining: 4m 40s\n",
      "16:\tlearn: 0.1850936\ttest: 0.1753800\tbest: 0.1753800 (16)\ttotal: 16.6s\tremaining: 4m 36s\n",
      "17:\tlearn: 0.1829805\ttest: 0.1725593\tbest: 0.1725593 (17)\ttotal: 17.2s\tremaining: 4m 29s\n",
      "18:\tlearn: 0.1810911\ttest: 0.1699013\tbest: 0.1699013 (18)\ttotal: 18.4s\tremaining: 4m 32s\n",
      "19:\tlearn: 0.1791700\ttest: 0.1668693\tbest: 0.1668693 (19)\ttotal: 19.3s\tremaining: 4m 30s\n",
      "20:\tlearn: 0.1768731\ttest: 0.1638154\tbest: 0.1638154 (20)\ttotal: 20.4s\tremaining: 4m 30s\n",
      "21:\tlearn: 0.1757087\ttest: 0.1623343\tbest: 0.1623343 (21)\ttotal: 21.4s\tremaining: 4m 30s\n",
      "22:\tlearn: 0.1745847\ttest: 0.1607712\tbest: 0.1607712 (22)\ttotal: 22.6s\tremaining: 4m 32s\n",
      "23:\tlearn: 0.1731905\ttest: 0.1588620\tbest: 0.1588620 (23)\ttotal: 23.6s\tremaining: 4m 31s\n",
      "24:\tlearn: 0.1720241\ttest: 0.1574445\tbest: 0.1574445 (24)\ttotal: 24.7s\tremaining: 4m 31s\n",
      "25:\tlearn: 0.1711983\ttest: 0.1562879\tbest: 0.1562879 (25)\ttotal: 25.7s\tremaining: 4m 30s\n",
      "26:\tlearn: 0.1698138\ttest: 0.1543959\tbest: 0.1543959 (26)\ttotal: 26.9s\tremaining: 4m 31s\n",
      "27:\tlearn: 0.1683625\ttest: 0.1522027\tbest: 0.1522027 (27)\ttotal: 28.1s\tremaining: 4m 32s\n",
      "28:\tlearn: 0.1680483\ttest: 0.1517843\tbest: 0.1517843 (28)\ttotal: 29s\tremaining: 4m 30s\n",
      "29:\tlearn: 0.1673239\ttest: 0.1506020\tbest: 0.1506020 (29)\ttotal: 30.1s\tremaining: 4m 30s\n",
      "30:\tlearn: 0.1667982\ttest: 0.1501396\tbest: 0.1501396 (30)\ttotal: 31.2s\tremaining: 4m 30s\n",
      "31:\tlearn: 0.1660950\ttest: 0.1493840\tbest: 0.1493840 (31)\ttotal: 32.6s\tremaining: 4m 32s\n",
      "32:\tlearn: 0.1659538\ttest: 0.1491466\tbest: 0.1491466 (32)\ttotal: 33.5s\tremaining: 4m 30s\n",
      "33:\tlearn: 0.1656612\ttest: 0.1488368\tbest: 0.1488368 (33)\ttotal: 34.7s\tremaining: 4m 31s\n",
      "34:\tlearn: 0.1650283\ttest: 0.1479212\tbest: 0.1479212 (34)\ttotal: 35.8s\tremaining: 4m 30s\n",
      "35:\tlearn: 0.1647145\ttest: 0.1475543\tbest: 0.1475543 (35)\ttotal: 37.3s\tremaining: 4m 33s\n",
      "36:\tlearn: 0.1642845\ttest: 0.1470579\tbest: 0.1470579 (36)\ttotal: 38.5s\tremaining: 4m 33s\n",
      "37:\tlearn: 0.1639190\ttest: 0.1464310\tbest: 0.1464310 (37)\ttotal: 39.5s\tremaining: 4m 32s\n",
      "38:\tlearn: 0.1636684\ttest: 0.1462885\tbest: 0.1462885 (38)\ttotal: 40.6s\tremaining: 4m 31s\n",
      "39:\tlearn: 0.1633571\ttest: 0.1461189\tbest: 0.1461189 (39)\ttotal: 41.9s\tremaining: 4m 32s\n",
      "40:\tlearn: 0.1629953\ttest: 0.1458294\tbest: 0.1458294 (40)\ttotal: 43.1s\tremaining: 4m 32s\n",
      "41:\tlearn: 0.1624918\ttest: 0.1452905\tbest: 0.1452905 (41)\ttotal: 44.2s\tremaining: 4m 31s\n",
      "42:\tlearn: 0.1622542\ttest: 0.1450197\tbest: 0.1450197 (42)\ttotal: 45.5s\tremaining: 4m 31s\n",
      "43:\tlearn: 0.1621805\ttest: 0.1449099\tbest: 0.1449099 (43)\ttotal: 46.7s\tremaining: 4m 31s\n",
      "44:\tlearn: 0.1619744\ttest: 0.1445000\tbest: 0.1445000 (44)\ttotal: 47.8s\tremaining: 4m 30s\n",
      "45:\tlearn: 0.1618358\ttest: 0.1443725\tbest: 0.1443725 (45)\ttotal: 49s\tremaining: 4m 30s\n",
      "46:\tlearn: 0.1614051\ttest: 0.1439626\tbest: 0.1439626 (46)\ttotal: 50.2s\tremaining: 4m 30s\n",
      "47:\tlearn: 0.1609354\ttest: 0.1434922\tbest: 0.1434922 (47)\ttotal: 51.7s\tremaining: 4m 31s\n",
      "48:\tlearn: 0.1607711\ttest: 0.1434137\tbest: 0.1434137 (48)\ttotal: 52.8s\tremaining: 4m 30s\n",
      "49:\tlearn: 0.1607060\ttest: 0.1433008\tbest: 0.1433008 (49)\ttotal: 53.5s\tremaining: 4m 27s\n",
      "50:\tlearn: 0.1606281\ttest: 0.1432391\tbest: 0.1432391 (50)\ttotal: 54.4s\tremaining: 4m 25s\n",
      "51:\tlearn: 0.1603824\ttest: 0.1429551\tbest: 0.1429551 (51)\ttotal: 55.5s\tremaining: 4m 24s\n",
      "52:\tlearn: 0.1603747\ttest: 0.1429328\tbest: 0.1429328 (52)\ttotal: 56.3s\tremaining: 4m 22s\n",
      "53:\tlearn: 0.1603122\ttest: 0.1428948\tbest: 0.1428948 (53)\ttotal: 57.4s\tremaining: 4m 21s\n",
      "54:\tlearn: 0.1601356\ttest: 0.1427884\tbest: 0.1427884 (54)\ttotal: 58.6s\tremaining: 4m 20s\n",
      "55:\tlearn: 0.1601042\ttest: 0.1426858\tbest: 0.1426858 (55)\ttotal: 59.5s\tremaining: 4m 19s\n",
      "56:\tlearn: 0.1600856\ttest: 0.1426198\tbest: 0.1426198 (56)\ttotal: 1m\tremaining: 4m 17s\n",
      "57:\tlearn: 0.1598471\ttest: 0.1423779\tbest: 0.1423779 (57)\ttotal: 1m 1s\tremaining: 4m 16s\n",
      "58:\tlearn: 0.1597035\ttest: 0.1423335\tbest: 0.1423335 (58)\ttotal: 1m 2s\tremaining: 4m 15s\n",
      "59:\tlearn: 0.1596746\ttest: 0.1423544\tbest: 0.1423335 (58)\ttotal: 1m 3s\tremaining: 4m 13s\n",
      "60:\tlearn: 0.1594618\ttest: 0.1421019\tbest: 0.1421019 (60)\ttotal: 1m 4s\tremaining: 4m 11s\n",
      "61:\tlearn: 0.1593322\ttest: 0.1419806\tbest: 0.1419806 (61)\ttotal: 1m 5s\tremaining: 4m 11s\n",
      "62:\tlearn: 0.1592870\ttest: 0.1419518\tbest: 0.1419518 (62)\ttotal: 1m 6s\tremaining: 4m 11s\n",
      "63:\tlearn: 0.1592868\ttest: 0.1419520\tbest: 0.1419518 (62)\ttotal: 1m 7s\tremaining: 4m 7s\n",
      "64:\tlearn: 0.1590603\ttest: 0.1418904\tbest: 0.1418904 (64)\ttotal: 1m 8s\tremaining: 4m 8s\n",
      "65:\tlearn: 0.1589539\ttest: 0.1417868\tbest: 0.1417868 (65)\ttotal: 1m 9s\tremaining: 4m 7s\n",
      "66:\tlearn: 0.1589241\ttest: 0.1417661\tbest: 0.1417661 (66)\ttotal: 1m 10s\tremaining: 4m 6s\n",
      "67:\tlearn: 0.1587785\ttest: 0.1416667\tbest: 0.1416667 (67)\ttotal: 1m 11s\tremaining: 4m 5s\n"
     ]
    },
    {
     "name": "stdout",
     "output_type": "stream",
     "text": [
      "68:\tlearn: 0.1587525\ttest: 0.1416154\tbest: 0.1416154 (68)\ttotal: 1m 12s\tremaining: 4m 3s\n",
      "69:\tlearn: 0.1586537\ttest: 0.1415189\tbest: 0.1415189 (69)\ttotal: 1m 14s\tremaining: 4m 3s\n",
      "70:\tlearn: 0.1586390\ttest: 0.1414607\tbest: 0.1414607 (70)\ttotal: 1m 15s\tremaining: 4m 2s\n",
      "71:\tlearn: 0.1586249\ttest: 0.1414089\tbest: 0.1414089 (71)\ttotal: 1m 15s\tremaining: 4m\n",
      "72:\tlearn: 0.1585593\ttest: 0.1414065\tbest: 0.1414065 (72)\ttotal: 1m 17s\tremaining: 4m\n",
      "73:\tlearn: 0.1579320\ttest: 0.1408930\tbest: 0.1408930 (73)\ttotal: 1m 18s\tremaining: 3m 59s\n",
      "74:\tlearn: 0.1579159\ttest: 0.1408814\tbest: 0.1408814 (74)\ttotal: 1m 19s\tremaining: 3m 58s\n",
      "75:\tlearn: 0.1574945\ttest: 0.1405231\tbest: 0.1405231 (75)\ttotal: 1m 20s\tremaining: 3m 57s\n",
      "76:\tlearn: 0.1574778\ttest: 0.1405205\tbest: 0.1405205 (76)\ttotal: 1m 21s\tremaining: 3m 55s\n",
      "77:\tlearn: 0.1574411\ttest: 0.1405153\tbest: 0.1405153 (77)\ttotal: 1m 22s\tremaining: 3m 55s\n",
      "78:\tlearn: 0.1573014\ttest: 0.1404506\tbest: 0.1404506 (78)\ttotal: 1m 23s\tremaining: 3m 54s\n",
      "79:\tlearn: 0.1572453\ttest: 0.1404500\tbest: 0.1404500 (79)\ttotal: 1m 25s\tremaining: 3m 54s\n",
      "80:\tlearn: 0.1571754\ttest: 0.1403855\tbest: 0.1403855 (80)\ttotal: 1m 26s\tremaining: 3m 53s\n",
      "81:\tlearn: 0.1566702\ttest: 0.1400742\tbest: 0.1400742 (81)\ttotal: 1m 27s\tremaining: 3m 53s\n",
      "82:\tlearn: 0.1566649\ttest: 0.1400511\tbest: 0.1400511 (82)\ttotal: 1m 28s\tremaining: 3m 51s\n",
      "83:\tlearn: 0.1565956\ttest: 0.1400350\tbest: 0.1400350 (83)\ttotal: 1m 29s\tremaining: 3m 50s\n",
      "84:\tlearn: 0.1565905\ttest: 0.1400391\tbest: 0.1400350 (83)\ttotal: 1m 30s\tremaining: 3m 48s\n",
      "85:\tlearn: 0.1565516\ttest: 0.1400358\tbest: 0.1400350 (83)\ttotal: 1m 31s\tremaining: 3m 48s\n",
      "86:\tlearn: 0.1565198\ttest: 0.1400072\tbest: 0.1400072 (86)\ttotal: 1m 32s\tremaining: 3m 47s\n",
      "87:\tlearn: 0.1564099\ttest: 0.1399455\tbest: 0.1399455 (87)\ttotal: 1m 34s\tremaining: 3m 46s\n",
      "88:\tlearn: 0.1562931\ttest: 0.1399080\tbest: 0.1399080 (88)\ttotal: 1m 35s\tremaining: 3m 45s\n",
      "89:\tlearn: 0.1561017\ttest: 0.1399188\tbest: 0.1399080 (88)\ttotal: 1m 36s\tremaining: 3m 44s\n",
      "90:\tlearn: 0.1560812\ttest: 0.1398999\tbest: 0.1398999 (90)\ttotal: 1m 37s\tremaining: 3m 44s\n",
      "91:\tlearn: 0.1560791\ttest: 0.1399008\tbest: 0.1398999 (90)\ttotal: 1m 38s\tremaining: 3m 42s\n",
      "92:\tlearn: 0.1560651\ttest: 0.1398958\tbest: 0.1398958 (92)\ttotal: 1m 39s\tremaining: 3m 42s\n",
      "93:\tlearn: 0.1560292\ttest: 0.1399447\tbest: 0.1398958 (92)\ttotal: 1m 40s\tremaining: 3m 40s\n",
      "94:\tlearn: 0.1560134\ttest: 0.1399301\tbest: 0.1398958 (92)\ttotal: 1m 41s\tremaining: 3m 38s\n",
      "95:\tlearn: 0.1560001\ttest: 0.1399074\tbest: 0.1398958 (92)\ttotal: 1m 42s\tremaining: 3m 37s\n",
      "96:\tlearn: 0.1560000\ttest: 0.1399080\tbest: 0.1398958 (92)\ttotal: 1m 42s\tremaining: 3m 35s\n",
      "97:\tlearn: 0.1559291\ttest: 0.1398097\tbest: 0.1398097 (97)\ttotal: 1m 43s\tremaining: 3m 34s\n",
      "98:\tlearn: 0.1559259\ttest: 0.1397924\tbest: 0.1397924 (98)\ttotal: 1m 44s\tremaining: 3m 32s\n",
      "99:\tlearn: 0.1558675\ttest: 0.1397944\tbest: 0.1397924 (98)\ttotal: 1m 46s\tremaining: 3m 32s\n",
      "100:\tlearn: 0.1555506\ttest: 0.1394226\tbest: 0.1394226 (100)\ttotal: 1m 47s\tremaining: 3m 31s\n",
      "101:\tlearn: 0.1554534\ttest: 0.1393756\tbest: 0.1393756 (101)\ttotal: 1m 48s\tremaining: 3m 30s\n",
      "102:\tlearn: 0.1554453\ttest: 0.1393657\tbest: 0.1393657 (102)\ttotal: 1m 49s\tremaining: 3m 29s\n",
      "103:\tlearn: 0.1553910\ttest: 0.1393337\tbest: 0.1393337 (103)\ttotal: 1m 50s\tremaining: 3m 28s\n",
      "104:\tlearn: 0.1553561\ttest: 0.1393127\tbest: 0.1393127 (104)\ttotal: 1m 52s\tremaining: 3m 28s\n",
      "105:\tlearn: 0.1551613\ttest: 0.1390905\tbest: 0.1390905 (105)\ttotal: 1m 53s\tremaining: 3m 27s\n",
      "106:\tlearn: 0.1551237\ttest: 0.1390598\tbest: 0.1390598 (106)\ttotal: 1m 54s\tremaining: 3m 27s\n",
      "107:\tlearn: 0.1549844\ttest: 0.1390834\tbest: 0.1390598 (106)\ttotal: 1m 56s\tremaining: 3m 26s\n",
      "108:\tlearn: 0.1548531\ttest: 0.1391444\tbest: 0.1390598 (106)\ttotal: 1m 57s\tremaining: 3m 25s\n",
      "109:\tlearn: 0.1547212\ttest: 0.1390899\tbest: 0.1390598 (106)\ttotal: 1m 58s\tremaining: 3m 24s\n",
      "110:\tlearn: 0.1546145\ttest: 0.1390090\tbest: 0.1390090 (110)\ttotal: 2m\tremaining: 3m 24s\n",
      "111:\tlearn: 0.1544496\ttest: 0.1389742\tbest: 0.1389742 (111)\ttotal: 2m 1s\tremaining: 3m 23s\n",
      "112:\tlearn: 0.1543908\ttest: 0.1389791\tbest: 0.1389742 (111)\ttotal: 2m 2s\tremaining: 3m 22s\n",
      "113:\tlearn: 0.1542793\ttest: 0.1389190\tbest: 0.1389190 (113)\ttotal: 2m 3s\tremaining: 3m 21s\n",
      "114:\tlearn: 0.1542168\ttest: 0.1389432\tbest: 0.1389190 (113)\ttotal: 2m 4s\tremaining: 3m 20s\n",
      "115:\tlearn: 0.1542093\ttest: 0.1389506\tbest: 0.1389190 (113)\ttotal: 2m 5s\tremaining: 3m 19s\n",
      "116:\tlearn: 0.1542092\ttest: 0.1389511\tbest: 0.1389190 (113)\ttotal: 2m 6s\tremaining: 3m 17s\n",
      "117:\tlearn: 0.1541759\ttest: 0.1389537\tbest: 0.1389190 (113)\ttotal: 2m 7s\tremaining: 3m 16s\n",
      "118:\tlearn: 0.1541083\ttest: 0.1388752\tbest: 0.1388752 (118)\ttotal: 2m 8s\tremaining: 3m 15s\n",
      "119:\tlearn: 0.1540618\ttest: 0.1388463\tbest: 0.1388463 (119)\ttotal: 2m 10s\tremaining: 3m 15s\n",
      "120:\tlearn: 0.1539972\ttest: 0.1388822\tbest: 0.1388463 (119)\ttotal: 2m 11s\tremaining: 3m 14s\n",
      "121:\tlearn: 0.1539120\ttest: 0.1388907\tbest: 0.1388463 (119)\ttotal: 2m 12s\tremaining: 3m 13s\n",
      "122:\tlearn: 0.1538937\ttest: 0.1389101\tbest: 0.1388463 (119)\ttotal: 2m 13s\tremaining: 3m 12s\n",
      "123:\tlearn: 0.1538763\ttest: 0.1389091\tbest: 0.1388463 (119)\ttotal: 2m 15s\tremaining: 3m 11s\n",
      "124:\tlearn: 0.1537886\ttest: 0.1388892\tbest: 0.1388463 (119)\ttotal: 2m 16s\tremaining: 3m 10s\n",
      "125:\tlearn: 0.1537435\ttest: 0.1388442\tbest: 0.1388442 (125)\ttotal: 2m 17s\tremaining: 3m 9s\n",
      "126:\tlearn: 0.1535792\ttest: 0.1388805\tbest: 0.1388442 (125)\ttotal: 2m 18s\tremaining: 3m 9s\n",
      "127:\tlearn: 0.1533229\ttest: 0.1387560\tbest: 0.1387560 (127)\ttotal: 2m 20s\tremaining: 3m 8s\n",
      "128:\tlearn: 0.1531954\ttest: 0.1387478\tbest: 0.1387478 (128)\ttotal: 2m 21s\tremaining: 3m 7s\n",
      "129:\tlearn: 0.1530578\ttest: 0.1387214\tbest: 0.1387214 (129)\ttotal: 2m 23s\tremaining: 3m 7s\n",
      "130:\tlearn: 0.1529870\ttest: 0.1387047\tbest: 0.1387047 (130)\ttotal: 2m 24s\tremaining: 3m 6s\n",
      "131:\tlearn: 0.1528824\ttest: 0.1386921\tbest: 0.1386921 (131)\ttotal: 2m 26s\tremaining: 3m 5s\n",
      "132:\tlearn: 0.1528593\ttest: 0.1386820\tbest: 0.1386820 (132)\ttotal: 2m 27s\tremaining: 3m 4s\n",
      "133:\tlearn: 0.1528417\ttest: 0.1386860\tbest: 0.1386820 (132)\ttotal: 2m 28s\tremaining: 3m 4s\n",
      "134:\tlearn: 0.1527574\ttest: 0.1386166\tbest: 0.1386166 (134)\ttotal: 2m 29s\tremaining: 3m 3s\n",
      "135:\tlearn: 0.1526407\ttest: 0.1386013\tbest: 0.1386013 (135)\ttotal: 2m 31s\tremaining: 3m 2s\n",
      "136:\tlearn: 0.1525968\ttest: 0.1386145\tbest: 0.1386013 (135)\ttotal: 2m 32s\tremaining: 3m\n",
      "137:\tlearn: 0.1525217\ttest: 0.1385727\tbest: 0.1385727 (137)\ttotal: 2m 33s\tremaining: 2m 59s\n",
      "138:\tlearn: 0.1524364\ttest: 0.1386022\tbest: 0.1385727 (137)\ttotal: 2m 34s\tremaining: 2m 58s\n",
      "139:\tlearn: 0.1524264\ttest: 0.1386028\tbest: 0.1385727 (137)\ttotal: 2m 35s\tremaining: 2m 58s\n",
      "140:\tlearn: 0.1522908\ttest: 0.1385977\tbest: 0.1385727 (137)\ttotal: 2m 37s\tremaining: 2m 57s\n",
      "141:\tlearn: 0.1522511\ttest: 0.1385835\tbest: 0.1385727 (137)\ttotal: 2m 38s\tremaining: 2m 56s\n",
      "142:\tlearn: 0.1522223\ttest: 0.1385806\tbest: 0.1385727 (137)\ttotal: 2m 39s\tremaining: 2m 55s\n",
      "143:\tlearn: 0.1521283\ttest: 0.1385393\tbest: 0.1385393 (143)\ttotal: 2m 40s\tremaining: 2m 54s\n",
      "144:\tlearn: 0.1520399\ttest: 0.1385527\tbest: 0.1385393 (143)\ttotal: 2m 41s\tremaining: 2m 53s\n",
      "145:\tlearn: 0.1519743\ttest: 0.1385479\tbest: 0.1385393 (143)\ttotal: 2m 43s\tremaining: 2m 51s\n",
      "146:\tlearn: 0.1519347\ttest: 0.1385189\tbest: 0.1385189 (146)\ttotal: 2m 44s\tremaining: 2m 51s\n",
      "147:\tlearn: 0.1518005\ttest: 0.1384585\tbest: 0.1384585 (147)\ttotal: 2m 45s\tremaining: 2m 50s\n",
      "148:\tlearn: 0.1516984\ttest: 0.1384019\tbest: 0.1384019 (148)\ttotal: 2m 46s\tremaining: 2m 48s\n",
      "149:\tlearn: 0.1515902\ttest: 0.1384355\tbest: 0.1384019 (148)\ttotal: 2m 47s\tremaining: 2m 47s\n",
      "150:\tlearn: 0.1515049\ttest: 0.1384309\tbest: 0.1384019 (148)\ttotal: 2m 48s\tremaining: 2m 46s\n",
      "151:\tlearn: 0.1514548\ttest: 0.1384194\tbest: 0.1384019 (148)\ttotal: 2m 50s\tremaining: 2m 45s\n",
      "152:\tlearn: 0.1514079\ttest: 0.1384230\tbest: 0.1384019 (148)\ttotal: 2m 51s\tremaining: 2m 44s\n",
      "153:\tlearn: 0.1513961\ttest: 0.1384477\tbest: 0.1384019 (148)\ttotal: 2m 52s\tremaining: 2m 43s\n",
      "154:\tlearn: 0.1513485\ttest: 0.1384947\tbest: 0.1384019 (148)\ttotal: 2m 53s\tremaining: 2m 42s\n",
      "155:\tlearn: 0.1512321\ttest: 0.1385032\tbest: 0.1384019 (148)\ttotal: 2m 54s\tremaining: 2m 41s\n",
      "156:\tlearn: 0.1511855\ttest: 0.1385070\tbest: 0.1384019 (148)\ttotal: 2m 56s\tremaining: 2m 40s\n",
      "157:\tlearn: 0.1510930\ttest: 0.1384737\tbest: 0.1384019 (148)\ttotal: 2m 57s\tremaining: 2m 39s\n",
      "158:\tlearn: 0.1510767\ttest: 0.1384716\tbest: 0.1384019 (148)\ttotal: 2m 58s\tremaining: 2m 38s\n"
     ]
    },
    {
     "name": "stdout",
     "output_type": "stream",
     "text": [
      "159:\tlearn: 0.1509864\ttest: 0.1384457\tbest: 0.1384019 (148)\ttotal: 3m\tremaining: 2m 37s\n",
      "160:\tlearn: 0.1509613\ttest: 0.1384358\tbest: 0.1384019 (148)\ttotal: 3m 1s\tremaining: 2m 36s\n",
      "161:\tlearn: 0.1509168\ttest: 0.1384360\tbest: 0.1384019 (148)\ttotal: 3m 2s\tremaining: 2m 35s\n",
      "162:\tlearn: 0.1508943\ttest: 0.1384590\tbest: 0.1384019 (148)\ttotal: 3m 3s\tremaining: 2m 34s\n",
      "163:\tlearn: 0.1506705\ttest: 0.1383060\tbest: 0.1383060 (163)\ttotal: 3m 4s\tremaining: 2m 33s\n",
      "164:\tlearn: 0.1506455\ttest: 0.1383198\tbest: 0.1383060 (163)\ttotal: 3m 6s\tremaining: 2m 32s\n",
      "165:\tlearn: 0.1506130\ttest: 0.1383591\tbest: 0.1383060 (163)\ttotal: 3m 7s\tremaining: 2m 31s\n",
      "166:\tlearn: 0.1505797\ttest: 0.1383476\tbest: 0.1383060 (163)\ttotal: 3m 8s\tremaining: 2m 30s\n",
      "167:\tlearn: 0.1504961\ttest: 0.1383383\tbest: 0.1383060 (163)\ttotal: 3m 10s\tremaining: 2m 29s\n",
      "168:\tlearn: 0.1504876\ttest: 0.1383382\tbest: 0.1383060 (163)\ttotal: 3m 11s\tremaining: 2m 28s\n",
      "169:\tlearn: 0.1504685\ttest: 0.1383375\tbest: 0.1383060 (163)\ttotal: 3m 12s\tremaining: 2m 27s\n",
      "170:\tlearn: 0.1502646\ttest: 0.1381894\tbest: 0.1381894 (170)\ttotal: 3m 13s\tremaining: 2m 26s\n",
      "171:\tlearn: 0.1502347\ttest: 0.1382152\tbest: 0.1381894 (170)\ttotal: 3m 14s\tremaining: 2m 24s\n",
      "172:\tlearn: 0.1501830\ttest: 0.1382050\tbest: 0.1381894 (170)\ttotal: 3m 16s\tremaining: 2m 23s\n",
      "173:\tlearn: 0.1501788\ttest: 0.1382057\tbest: 0.1381894 (170)\ttotal: 3m 17s\tremaining: 2m 22s\n",
      "174:\tlearn: 0.1500400\ttest: 0.1382313\tbest: 0.1381894 (170)\ttotal: 3m 18s\tremaining: 2m 21s\n",
      "175:\tlearn: 0.1498789\ttest: 0.1382300\tbest: 0.1381894 (170)\ttotal: 3m 19s\tremaining: 2m 20s\n",
      "176:\tlearn: 0.1498606\ttest: 0.1382297\tbest: 0.1381894 (170)\ttotal: 3m 20s\tremaining: 2m 19s\n",
      "177:\tlearn: 0.1498567\ttest: 0.1382498\tbest: 0.1381894 (170)\ttotal: 3m 21s\tremaining: 2m 18s\n",
      "178:\tlearn: 0.1498393\ttest: 0.1382589\tbest: 0.1381894 (170)\ttotal: 3m 23s\tremaining: 2m 17s\n",
      "179:\tlearn: 0.1498258\ttest: 0.1382674\tbest: 0.1381894 (170)\ttotal: 3m 24s\tremaining: 2m 16s\n",
      "180:\tlearn: 0.1497699\ttest: 0.1382955\tbest: 0.1381894 (170)\ttotal: 3m 25s\tremaining: 2m 15s\n",
      "181:\tlearn: 0.1497549\ttest: 0.1383009\tbest: 0.1381894 (170)\ttotal: 3m 26s\tremaining: 2m 13s\n",
      "182:\tlearn: 0.1496138\ttest: 0.1383078\tbest: 0.1381894 (170)\ttotal: 3m 27s\tremaining: 2m 12s\n",
      "183:\tlearn: 0.1496081\ttest: 0.1383097\tbest: 0.1381894 (170)\ttotal: 3m 28s\tremaining: 2m 11s\n",
      "184:\tlearn: 0.1495967\ttest: 0.1383058\tbest: 0.1381894 (170)\ttotal: 3m 29s\tremaining: 2m 10s\n",
      "185:\tlearn: 0.1495236\ttest: 0.1382954\tbest: 0.1381894 (170)\ttotal: 3m 31s\tremaining: 2m 9s\n",
      "186:\tlearn: 0.1493702\ttest: 0.1382785\tbest: 0.1381894 (170)\ttotal: 3m 32s\tremaining: 2m 8s\n",
      "187:\tlearn: 0.1492876\ttest: 0.1382142\tbest: 0.1381894 (170)\ttotal: 3m 33s\tremaining: 2m 6s\n",
      "188:\tlearn: 0.1492686\ttest: 0.1382200\tbest: 0.1381894 (170)\ttotal: 3m 34s\tremaining: 2m 5s\n",
      "189:\tlearn: 0.1492641\ttest: 0.1382170\tbest: 0.1381894 (170)\ttotal: 3m 35s\tremaining: 2m 4s\n",
      "190:\tlearn: 0.1492334\ttest: 0.1382342\tbest: 0.1381894 (170)\ttotal: 3m 36s\tremaining: 2m 3s\n",
      "191:\tlearn: 0.1492024\ttest: 0.1382736\tbest: 0.1381894 (170)\ttotal: 3m 38s\tremaining: 2m 2s\n",
      "192:\tlearn: 0.1491765\ttest: 0.1383018\tbest: 0.1381894 (170)\ttotal: 3m 39s\tremaining: 2m 1s\n",
      "193:\tlearn: 0.1491131\ttest: 0.1382764\tbest: 0.1381894 (170)\ttotal: 3m 40s\tremaining: 2m\n",
      "194:\tlearn: 0.1490042\ttest: 0.1382285\tbest: 0.1381894 (170)\ttotal: 3m 41s\tremaining: 1m 59s\n",
      "195:\tlearn: 0.1489817\ttest: 0.1382297\tbest: 0.1381894 (170)\ttotal: 3m 43s\tremaining: 1m 58s\n",
      "196:\tlearn: 0.1488334\ttest: 0.1381468\tbest: 0.1381468 (196)\ttotal: 3m 44s\tremaining: 1m 57s\n",
      "197:\tlearn: 0.1488279\ttest: 0.1381593\tbest: 0.1381468 (196)\ttotal: 3m 45s\tremaining: 1m 56s\n",
      "198:\tlearn: 0.1487791\ttest: 0.1381695\tbest: 0.1381468 (196)\ttotal: 3m 46s\tremaining: 1m 55s\n",
      "199:\tlearn: 0.1487708\ttest: 0.1381806\tbest: 0.1381468 (196)\ttotal: 3m 47s\tremaining: 1m 53s\n",
      "200:\tlearn: 0.1486424\ttest: 0.1381162\tbest: 0.1381162 (200)\ttotal: 3m 49s\tremaining: 1m 52s\n",
      "201:\tlearn: 0.1485593\ttest: 0.1381044\tbest: 0.1381044 (201)\ttotal: 3m 50s\tremaining: 1m 51s\n",
      "202:\tlearn: 0.1485333\ttest: 0.1381443\tbest: 0.1381044 (201)\ttotal: 3m 51s\tremaining: 1m 50s\n",
      "203:\tlearn: 0.1485023\ttest: 0.1381376\tbest: 0.1381044 (201)\ttotal: 3m 52s\tremaining: 1m 49s\n",
      "204:\tlearn: 0.1484943\ttest: 0.1381382\tbest: 0.1381044 (201)\ttotal: 3m 53s\tremaining: 1m 48s\n",
      "205:\tlearn: 0.1484703\ttest: 0.1381897\tbest: 0.1381044 (201)\ttotal: 3m 55s\tremaining: 1m 47s\n",
      "206:\tlearn: 0.1484606\ttest: 0.1382009\tbest: 0.1381044 (201)\ttotal: 3m 56s\tremaining: 1m 46s\n",
      "207:\tlearn: 0.1484171\ttest: 0.1382469\tbest: 0.1381044 (201)\ttotal: 3m 58s\tremaining: 1m 45s\n",
      "208:\tlearn: 0.1484094\ttest: 0.1382457\tbest: 0.1381044 (201)\ttotal: 3m 59s\tremaining: 1m 44s\n",
      "209:\tlearn: 0.1483476\ttest: 0.1381963\tbest: 0.1381044 (201)\ttotal: 4m\tremaining: 1m 43s\n",
      "210:\tlearn: 0.1482936\ttest: 0.1381630\tbest: 0.1381044 (201)\ttotal: 4m 1s\tremaining: 1m 41s\n",
      "211:\tlearn: 0.1482401\ttest: 0.1381492\tbest: 0.1381044 (201)\ttotal: 4m 2s\tremaining: 1m 40s\n",
      "212:\tlearn: 0.1482359\ttest: 0.1381495\tbest: 0.1381044 (201)\ttotal: 4m 4s\tremaining: 1m 39s\n",
      "213:\tlearn: 0.1482281\ttest: 0.1381374\tbest: 0.1381044 (201)\ttotal: 4m 5s\tremaining: 1m 38s\n",
      "214:\tlearn: 0.1481753\ttest: 0.1381238\tbest: 0.1381044 (201)\ttotal: 4m 6s\tremaining: 1m 37s\n",
      "215:\tlearn: 0.1481516\ttest: 0.1381492\tbest: 0.1381044 (201)\ttotal: 4m 7s\tremaining: 1m 36s\n",
      "216:\tlearn: 0.1480862\ttest: 0.1381667\tbest: 0.1381044 (201)\ttotal: 4m 8s\tremaining: 1m 35s\n",
      "217:\tlearn: 0.1480153\ttest: 0.1381590\tbest: 0.1381044 (201)\ttotal: 4m 10s\tremaining: 1m 34s\n",
      "218:\tlearn: 0.1479934\ttest: 0.1381570\tbest: 0.1381044 (201)\ttotal: 4m 11s\tremaining: 1m 33s\n",
      "219:\tlearn: 0.1479591\ttest: 0.1381698\tbest: 0.1381044 (201)\ttotal: 4m 13s\tremaining: 1m 32s\n",
      "220:\tlearn: 0.1478444\ttest: 0.1381146\tbest: 0.1381044 (201)\ttotal: 4m 14s\tremaining: 1m 30s\n",
      "221:\tlearn: 0.1478282\ttest: 0.1381069\tbest: 0.1381044 (201)\ttotal: 4m 15s\tremaining: 1m 29s\n",
      "222:\tlearn: 0.1478138\ttest: 0.1381181\tbest: 0.1381044 (201)\ttotal: 4m 16s\tremaining: 1m 28s\n",
      "223:\tlearn: 0.1477958\ttest: 0.1381424\tbest: 0.1381044 (201)\ttotal: 4m 17s\tremaining: 1m 27s\n",
      "224:\tlearn: 0.1477877\ttest: 0.1381455\tbest: 0.1381044 (201)\ttotal: 4m 18s\tremaining: 1m 26s\n",
      "225:\tlearn: 0.1477385\ttest: 0.1381052\tbest: 0.1381044 (201)\ttotal: 4m 20s\tremaining: 1m 25s\n",
      "226:\tlearn: 0.1477341\ttest: 0.1381325\tbest: 0.1381044 (201)\ttotal: 4m 21s\tremaining: 1m 24s\n",
      "227:\tlearn: 0.1477033\ttest: 0.1381182\tbest: 0.1381044 (201)\ttotal: 4m 23s\tremaining: 1m 23s\n",
      "228:\tlearn: 0.1476388\ttest: 0.1382014\tbest: 0.1381044 (201)\ttotal: 4m 24s\tremaining: 1m 22s\n",
      "229:\tlearn: 0.1476347\ttest: 0.1382025\tbest: 0.1381044 (201)\ttotal: 4m 26s\tremaining: 1m 21s\n",
      "230:\tlearn: 0.1476226\ttest: 0.1381866\tbest: 0.1381044 (201)\ttotal: 4m 27s\tremaining: 1m 19s\n",
      "231:\tlearn: 0.1476094\ttest: 0.1381958\tbest: 0.1381044 (201)\ttotal: 4m 29s\tremaining: 1m 18s\n",
      "232:\tlearn: 0.1475545\ttest: 0.1381909\tbest: 0.1381044 (201)\ttotal: 4m 30s\tremaining: 1m 17s\n",
      "233:\tlearn: 0.1475165\ttest: 0.1382360\tbest: 0.1381044 (201)\ttotal: 4m 31s\tremaining: 1m 16s\n",
      "234:\tlearn: 0.1474382\ttest: 0.1382145\tbest: 0.1381044 (201)\ttotal: 4m 32s\tremaining: 1m 15s\n",
      "235:\tlearn: 0.1473371\ttest: 0.1382160\tbest: 0.1381044 (201)\ttotal: 4m 33s\tremaining: 1m 14s\n",
      "236:\tlearn: 0.1473037\ttest: 0.1381619\tbest: 0.1381044 (201)\ttotal: 4m 34s\tremaining: 1m 12s\n",
      "237:\tlearn: 0.1472226\ttest: 0.1379874\tbest: 0.1379874 (237)\ttotal: 4m 35s\tremaining: 1m 11s\n",
      "238:\tlearn: 0.1472133\ttest: 0.1380149\tbest: 0.1379874 (237)\ttotal: 4m 37s\tremaining: 1m 10s\n",
      "239:\tlearn: 0.1470881\ttest: 0.1380072\tbest: 0.1379874 (237)\ttotal: 4m 38s\tremaining: 1m 9s\n",
      "240:\tlearn: 0.1470810\ttest: 0.1380165\tbest: 0.1379874 (237)\ttotal: 4m 39s\tremaining: 1m 8s\n",
      "241:\tlearn: 0.1470289\ttest: 0.1380211\tbest: 0.1379874 (237)\ttotal: 4m 40s\tremaining: 1m 7s\n",
      "242:\tlearn: 0.1470127\ttest: 0.1380440\tbest: 0.1379874 (237)\ttotal: 4m 42s\tremaining: 1m 6s\n",
      "243:\tlearn: 0.1470025\ttest: 0.1380721\tbest: 0.1379874 (237)\ttotal: 4m 43s\tremaining: 1m 5s\n",
      "244:\tlearn: 0.1468293\ttest: 0.1379561\tbest: 0.1379561 (244)\ttotal: 4m 44s\tremaining: 1m 3s\n",
      "245:\tlearn: 0.1468127\ttest: 0.1379530\tbest: 0.1379530 (245)\ttotal: 4m 45s\tremaining: 1m 2s\n",
      "246:\tlearn: 0.1467986\ttest: 0.1379866\tbest: 0.1379530 (245)\ttotal: 4m 47s\tremaining: 1m 1s\n",
      "247:\tlearn: 0.1467932\ttest: 0.1379841\tbest: 0.1379530 (245)\ttotal: 4m 47s\tremaining: 1m\n",
      "248:\tlearn: 0.1467902\ttest: 0.1379847\tbest: 0.1379530 (245)\ttotal: 4m 49s\tremaining: 59.2s\n"
     ]
    },
    {
     "name": "stdout",
     "output_type": "stream",
     "text": [
      "249:\tlearn: 0.1467865\ttest: 0.1379918\tbest: 0.1379530 (245)\ttotal: 4m 50s\tremaining: 58.1s\n",
      "250:\tlearn: 0.1467162\ttest: 0.1379267\tbest: 0.1379267 (250)\ttotal: 4m 51s\tremaining: 56.9s\n",
      "251:\tlearn: 0.1465831\ttest: 0.1378305\tbest: 0.1378305 (251)\ttotal: 4m 52s\tremaining: 55.8s\n",
      "252:\tlearn: 0.1465591\ttest: 0.1378197\tbest: 0.1378197 (252)\ttotal: 4m 54s\tremaining: 54.6s\n",
      "253:\tlearn: 0.1465580\ttest: 0.1378198\tbest: 0.1378197 (252)\ttotal: 4m 55s\tremaining: 53.4s\n",
      "254:\tlearn: 0.1465075\ttest: 0.1378523\tbest: 0.1378197 (252)\ttotal: 4m 56s\tremaining: 52.3s\n",
      "255:\tlearn: 0.1464915\ttest: 0.1378511\tbest: 0.1378197 (252)\ttotal: 4m 57s\tremaining: 51.1s\n",
      "256:\tlearn: 0.1464682\ttest: 0.1378426\tbest: 0.1378197 (252)\ttotal: 4m 58s\tremaining: 50s\n",
      "257:\tlearn: 0.1464526\ttest: 0.1378084\tbest: 0.1378084 (257)\ttotal: 5m\tremaining: 48.9s\n",
      "258:\tlearn: 0.1464384\ttest: 0.1378300\tbest: 0.1378084 (257)\ttotal: 5m 1s\tremaining: 47.7s\n",
      "259:\tlearn: 0.1463154\ttest: 0.1377342\tbest: 0.1377342 (259)\ttotal: 5m 2s\tremaining: 46.6s\n",
      "260:\tlearn: 0.1462973\ttest: 0.1377394\tbest: 0.1377342 (259)\ttotal: 5m 4s\tremaining: 45.4s\n",
      "261:\tlearn: 0.1462871\ttest: 0.1377385\tbest: 0.1377342 (259)\ttotal: 5m 5s\tremaining: 44.3s\n",
      "262:\tlearn: 0.1462296\ttest: 0.1377092\tbest: 0.1377092 (262)\ttotal: 5m 6s\tremaining: 43.1s\n",
      "263:\tlearn: 0.1462223\ttest: 0.1377157\tbest: 0.1377092 (262)\ttotal: 5m 7s\tremaining: 41.9s\n",
      "264:\tlearn: 0.1462198\ttest: 0.1377159\tbest: 0.1377092 (262)\ttotal: 5m 8s\tremaining: 40.8s\n",
      "265:\tlearn: 0.1461720\ttest: 0.1377427\tbest: 0.1377092 (262)\ttotal: 5m 9s\tremaining: 39.6s\n",
      "266:\tlearn: 0.1461646\ttest: 0.1377504\tbest: 0.1377092 (262)\ttotal: 5m 10s\tremaining: 38.4s\n",
      "267:\tlearn: 0.1461306\ttest: 0.1377786\tbest: 0.1377092 (262)\ttotal: 5m 12s\tremaining: 37.3s\n",
      "268:\tlearn: 0.1461285\ttest: 0.1377789\tbest: 0.1377092 (262)\ttotal: 5m 13s\tremaining: 36.1s\n",
      "269:\tlearn: 0.1461258\ttest: 0.1377806\tbest: 0.1377092 (262)\ttotal: 5m 14s\tremaining: 34.9s\n",
      "270:\tlearn: 0.1460957\ttest: 0.1378169\tbest: 0.1377092 (262)\ttotal: 5m 15s\tremaining: 33.8s\n",
      "271:\tlearn: 0.1460899\ttest: 0.1378207\tbest: 0.1377092 (262)\ttotal: 5m 16s\tremaining: 32.6s\n",
      "272:\tlearn: 0.1460866\ttest: 0.1378255\tbest: 0.1377092 (262)\ttotal: 5m 18s\tremaining: 31.5s\n",
      "273:\tlearn: 0.1460095\ttest: 0.1377706\tbest: 0.1377092 (262)\ttotal: 5m 19s\tremaining: 30.3s\n",
      "274:\tlearn: 0.1460086\ttest: 0.1377486\tbest: 0.1377092 (262)\ttotal: 5m 20s\tremaining: 29.2s\n",
      "275:\tlearn: 0.1458977\ttest: 0.1377589\tbest: 0.1377092 (262)\ttotal: 5m 21s\tremaining: 28s\n",
      "276:\tlearn: 0.1458849\ttest: 0.1377632\tbest: 0.1377092 (262)\ttotal: 5m 23s\tremaining: 26.8s\n",
      "277:\tlearn: 0.1458240\ttest: 0.1377614\tbest: 0.1377092 (262)\ttotal: 5m 24s\tremaining: 25.7s\n",
      "278:\tlearn: 0.1457944\ttest: 0.1377938\tbest: 0.1377092 (262)\ttotal: 5m 25s\tremaining: 24.5s\n",
      "279:\tlearn: 0.1457654\ttest: 0.1378046\tbest: 0.1377092 (262)\ttotal: 5m 26s\tremaining: 23.3s\n",
      "280:\tlearn: 0.1457637\ttest: 0.1378050\tbest: 0.1377092 (262)\ttotal: 5m 28s\tremaining: 22.2s\n",
      "281:\tlearn: 0.1456353\ttest: 0.1378198\tbest: 0.1377092 (262)\ttotal: 5m 29s\tremaining: 21s\n",
      "282:\tlearn: 0.1456062\ttest: 0.1378408\tbest: 0.1377092 (262)\ttotal: 5m 30s\tremaining: 19.9s\n",
      "283:\tlearn: 0.1456041\ttest: 0.1378348\tbest: 0.1377092 (262)\ttotal: 5m 31s\tremaining: 18.7s\n",
      "284:\tlearn: 0.1455886\ttest: 0.1378791\tbest: 0.1377092 (262)\ttotal: 5m 32s\tremaining: 17.5s\n",
      "285:\tlearn: 0.1455830\ttest: 0.1378780\tbest: 0.1377092 (262)\ttotal: 5m 34s\tremaining: 16.4s\n",
      "286:\tlearn: 0.1455764\ttest: 0.1378827\tbest: 0.1377092 (262)\ttotal: 5m 35s\tremaining: 15.2s\n",
      "287:\tlearn: 0.1455699\ttest: 0.1378888\tbest: 0.1377092 (262)\ttotal: 5m 36s\tremaining: 14s\n",
      "288:\tlearn: 0.1455641\ttest: 0.1378745\tbest: 0.1377092 (262)\ttotal: 5m 37s\tremaining: 12.8s\n",
      "289:\tlearn: 0.1455496\ttest: 0.1378891\tbest: 0.1377092 (262)\ttotal: 5m 38s\tremaining: 11.7s\n",
      "290:\tlearn: 0.1455332\ttest: 0.1378846\tbest: 0.1377092 (262)\ttotal: 5m 39s\tremaining: 10.5s\n",
      "291:\tlearn: 0.1454862\ttest: 0.1378768\tbest: 0.1377092 (262)\ttotal: 5m 40s\tremaining: 9.34s\n",
      "292:\tlearn: 0.1454532\ttest: 0.1379334\tbest: 0.1377092 (262)\ttotal: 5m 42s\tremaining: 8.17s\n",
      "293:\tlearn: 0.1453951\ttest: 0.1379596\tbest: 0.1377092 (262)\ttotal: 5m 43s\tremaining: 7s\n",
      "294:\tlearn: 0.1453837\ttest: 0.1379521\tbest: 0.1377092 (262)\ttotal: 5m 44s\tremaining: 5.84s\n",
      "295:\tlearn: 0.1453732\ttest: 0.1379728\tbest: 0.1377092 (262)\ttotal: 5m 45s\tremaining: 4.67s\n",
      "296:\tlearn: 0.1453080\ttest: 0.1380012\tbest: 0.1377092 (262)\ttotal: 5m 46s\tremaining: 3.5s\n",
      "297:\tlearn: 0.1452970\ttest: 0.1379746\tbest: 0.1377092 (262)\ttotal: 5m 47s\tremaining: 2.33s\n",
      "298:\tlearn: 0.1452224\ttest: 0.1379479\tbest: 0.1377092 (262)\ttotal: 5m 49s\tremaining: 1.17s\n",
      "299:\tlearn: 0.1452004\ttest: 0.1379528\tbest: 0.1377092 (262)\ttotal: 5m 50s\tremaining: 0us\n",
      "\n",
      "bestTest = 0.1377092211\n",
      "bestIteration = 262\n",
      "\n",
      "Shrink model to first 263 iterations.\n",
      "0\n",
      "0:\tlearn: 0.5790122\ttest: 0.5797377\tbest: 0.5797377 (0)\ttotal: 707ms\tremaining: 3m 31s\n",
      "1:\tlearn: 0.4926897\ttest: 0.4940680\tbest: 0.4940680 (1)\ttotal: 1.21s\tremaining: 2m 59s\n",
      "2:\tlearn: 0.4276522\ttest: 0.4296182\tbest: 0.4296182 (2)\ttotal: 1.91s\tremaining: 3m 8s\n",
      "3:\tlearn: 0.3766878\ttest: 0.3788872\tbest: 0.3788872 (3)\ttotal: 3.21s\tremaining: 3m 57s\n",
      "4:\tlearn: 0.3381318\ttest: 0.3397291\tbest: 0.3397291 (4)\ttotal: 4.31s\tremaining: 4m 14s\n",
      "5:\tlearn: 0.3057518\ttest: 0.3069987\tbest: 0.3069987 (5)\ttotal: 5.41s\tremaining: 4m 25s\n",
      "6:\tlearn: 0.2799086\ttest: 0.2804603\tbest: 0.2804603 (6)\ttotal: 6.61s\tremaining: 4m 36s\n",
      "7:\tlearn: 0.2608573\ttest: 0.2606719\tbest: 0.2606719 (7)\ttotal: 7.71s\tremaining: 4m 41s\n",
      "8:\tlearn: 0.2421892\ttest: 0.2408010\tbest: 0.2408010 (8)\ttotal: 8.71s\tremaining: 4m 41s\n",
      "9:\tlearn: 0.2273642\ttest: 0.2245106\tbest: 0.2245106 (9)\ttotal: 9.9s\tremaining: 4m 47s\n",
      "10:\tlearn: 0.2166504\ttest: 0.2128568\tbest: 0.2128568 (10)\ttotal: 10.5s\tremaining: 4m 35s\n",
      "11:\tlearn: 0.2083302\ttest: 0.2035063\tbest: 0.2035063 (11)\ttotal: 11.4s\tremaining: 4m 33s\n",
      "12:\tlearn: 0.2016542\ttest: 0.1957889\tbest: 0.1957889 (12)\ttotal: 12.5s\tremaining: 4m 36s\n",
      "13:\tlearn: 0.1960012\ttest: 0.1890150\tbest: 0.1890150 (13)\ttotal: 13.5s\tremaining: 4m 35s\n",
      "14:\tlearn: 0.1916597\ttest: 0.1837052\tbest: 0.1837052 (14)\ttotal: 14.6s\tremaining: 4m 37s\n",
      "15:\tlearn: 0.1880803\ttest: 0.1791472\tbest: 0.1791472 (15)\ttotal: 15.7s\tremaining: 4m 38s\n",
      "16:\tlearn: 0.1850936\ttest: 0.1753800\tbest: 0.1753800 (16)\ttotal: 16.6s\tremaining: 4m 36s\n",
      "17:\tlearn: 0.1829805\ttest: 0.1725593\tbest: 0.1725593 (17)\ttotal: 17.3s\tremaining: 4m 31s\n",
      "18:\tlearn: 0.1810911\ttest: 0.1699013\tbest: 0.1699013 (18)\ttotal: 18.4s\tremaining: 4m 32s\n",
      "19:\tlearn: 0.1791700\ttest: 0.1668693\tbest: 0.1668693 (19)\ttotal: 19.5s\tremaining: 4m 33s\n",
      "20:\tlearn: 0.1768731\ttest: 0.1638154\tbest: 0.1638154 (20)\ttotal: 20.7s\tremaining: 4m 35s\n",
      "21:\tlearn: 0.1757087\ttest: 0.1623343\tbest: 0.1623343 (21)\ttotal: 21.6s\tremaining: 4m 32s\n",
      "22:\tlearn: 0.1745847\ttest: 0.1607712\tbest: 0.1607712 (22)\ttotal: 22.5s\tremaining: 4m 30s\n",
      "23:\tlearn: 0.1731905\ttest: 0.1588620\tbest: 0.1588620 (23)\ttotal: 23.6s\tremaining: 4m 31s\n",
      "24:\tlearn: 0.1720241\ttest: 0.1574445\tbest: 0.1574445 (24)\ttotal: 24.9s\tremaining: 4m 33s\n",
      "25:\tlearn: 0.1711983\ttest: 0.1562879\tbest: 0.1562879 (25)\ttotal: 26.1s\tremaining: 4m 35s\n",
      "26:\tlearn: 0.1698138\ttest: 0.1543959\tbest: 0.1543959 (26)\ttotal: 27.4s\tremaining: 4m 36s\n",
      "27:\tlearn: 0.1683625\ttest: 0.1522027\tbest: 0.1522027 (27)\ttotal: 28.5s\tremaining: 4m 36s\n",
      "28:\tlearn: 0.1680483\ttest: 0.1517843\tbest: 0.1517843 (28)\ttotal: 29.4s\tremaining: 4m 34s\n",
      "29:\tlearn: 0.1673239\ttest: 0.1506020\tbest: 0.1506020 (29)\ttotal: 30.7s\tremaining: 4m 36s\n",
      "30:\tlearn: 0.1667982\ttest: 0.1501396\tbest: 0.1501396 (30)\ttotal: 31.9s\tremaining: 4m 36s\n",
      "31:\tlearn: 0.1660950\ttest: 0.1493840\tbest: 0.1493840 (31)\ttotal: 33.1s\tremaining: 4m 37s\n",
      "32:\tlearn: 0.1659538\ttest: 0.1491466\tbest: 0.1491466 (32)\ttotal: 34.3s\tremaining: 4m 37s\n",
      "33:\tlearn: 0.1656612\ttest: 0.1488368\tbest: 0.1488368 (33)\ttotal: 35.5s\tremaining: 4m 37s\n",
      "34:\tlearn: 0.1650283\ttest: 0.1479212\tbest: 0.1479212 (34)\ttotal: 36.6s\tremaining: 4m 37s\n",
      "35:\tlearn: 0.1647145\ttest: 0.1475543\tbest: 0.1475543 (35)\ttotal: 37.9s\tremaining: 4m 37s\n",
      "36:\tlearn: 0.1642845\ttest: 0.1470579\tbest: 0.1470579 (36)\ttotal: 39s\tremaining: 4m 37s\n",
      "37:\tlearn: 0.1639190\ttest: 0.1464310\tbest: 0.1464310 (37)\ttotal: 40.2s\tremaining: 4m 37s\n",
      "38:\tlearn: 0.1636684\ttest: 0.1462885\tbest: 0.1462885 (38)\ttotal: 41.5s\tremaining: 4m 37s\n",
      "39:\tlearn: 0.1633571\ttest: 0.1461189\tbest: 0.1461189 (39)\ttotal: 42.7s\tremaining: 4m 37s\n"
     ]
    },
    {
     "name": "stdout",
     "output_type": "stream",
     "text": [
      "40:\tlearn: 0.1629953\ttest: 0.1458294\tbest: 0.1458294 (40)\ttotal: 44.1s\tremaining: 4m 38s\n",
      "41:\tlearn: 0.1624918\ttest: 0.1452905\tbest: 0.1452905 (41)\ttotal: 45.3s\tremaining: 4m 38s\n",
      "42:\tlearn: 0.1622542\ttest: 0.1450197\tbest: 0.1450197 (42)\ttotal: 46.5s\tremaining: 4m 37s\n",
      "43:\tlearn: 0.1621805\ttest: 0.1449099\tbest: 0.1449099 (43)\ttotal: 47.4s\tremaining: 4m 35s\n",
      "44:\tlearn: 0.1619744\ttest: 0.1445000\tbest: 0.1445000 (44)\ttotal: 48.5s\tremaining: 4m 34s\n",
      "45:\tlearn: 0.1618358\ttest: 0.1443725\tbest: 0.1443725 (45)\ttotal: 49.7s\tremaining: 4m 34s\n",
      "46:\tlearn: 0.1614051\ttest: 0.1439626\tbest: 0.1439626 (46)\ttotal: 50.9s\tremaining: 4m 33s\n",
      "47:\tlearn: 0.1609354\ttest: 0.1434922\tbest: 0.1434922 (47)\ttotal: 52.2s\tremaining: 4m 34s\n",
      "48:\tlearn: 0.1607711\ttest: 0.1434137\tbest: 0.1434137 (48)\ttotal: 53.2s\tremaining: 4m 32s\n",
      "49:\tlearn: 0.1607060\ttest: 0.1433008\tbest: 0.1433008 (49)\ttotal: 54.1s\tremaining: 4m 30s\n",
      "50:\tlearn: 0.1606281\ttest: 0.1432391\tbest: 0.1432391 (50)\ttotal: 55.2s\tremaining: 4m 29s\n",
      "51:\tlearn: 0.1603824\ttest: 0.1429551\tbest: 0.1429551 (51)\ttotal: 56.7s\tremaining: 4m 30s\n",
      "52:\tlearn: 0.1603747\ttest: 0.1429328\tbest: 0.1429328 (52)\ttotal: 57.5s\tremaining: 4m 27s\n",
      "53:\tlearn: 0.1603122\ttest: 0.1428948\tbest: 0.1428948 (53)\ttotal: 58.3s\tremaining: 4m 25s\n",
      "54:\tlearn: 0.1601356\ttest: 0.1427884\tbest: 0.1427884 (54)\ttotal: 59.5s\tremaining: 4m 25s\n",
      "55:\tlearn: 0.1601042\ttest: 0.1426858\tbest: 0.1426858 (55)\ttotal: 1m\tremaining: 4m 23s\n",
      "56:\tlearn: 0.1600856\ttest: 0.1426198\tbest: 0.1426198 (56)\ttotal: 1m 1s\tremaining: 4m 21s\n",
      "57:\tlearn: 0.1598471\ttest: 0.1423779\tbest: 0.1423779 (57)\ttotal: 1m 2s\tremaining: 4m 22s\n",
      "58:\tlearn: 0.1597035\ttest: 0.1423335\tbest: 0.1423335 (58)\ttotal: 1m 4s\tremaining: 4m 21s\n",
      "59:\tlearn: 0.1596746\ttest: 0.1423544\tbest: 0.1423335 (58)\ttotal: 1m 5s\tremaining: 4m 20s\n",
      "60:\tlearn: 0.1594618\ttest: 0.1421019\tbest: 0.1421019 (60)\ttotal: 1m 6s\tremaining: 4m 19s\n",
      "61:\tlearn: 0.1593322\ttest: 0.1419806\tbest: 0.1419806 (61)\ttotal: 1m 7s\tremaining: 4m 19s\n",
      "62:\tlearn: 0.1592870\ttest: 0.1419518\tbest: 0.1419518 (62)\ttotal: 1m 8s\tremaining: 4m 17s\n",
      "63:\tlearn: 0.1592868\ttest: 0.1419520\tbest: 0.1419518 (62)\ttotal: 1m 9s\tremaining: 4m 15s\n",
      "64:\tlearn: 0.1590603\ttest: 0.1418904\tbest: 0.1418904 (64)\ttotal: 1m 10s\tremaining: 4m 13s\n",
      "65:\tlearn: 0.1589539\ttest: 0.1417868\tbest: 0.1417868 (65)\ttotal: 1m 11s\tremaining: 4m 12s\n",
      "66:\tlearn: 0.1589241\ttest: 0.1417661\tbest: 0.1417661 (66)\ttotal: 1m 12s\tremaining: 4m 11s\n",
      "67:\tlearn: 0.1587785\ttest: 0.1416667\tbest: 0.1416667 (67)\ttotal: 1m 13s\tremaining: 4m 10s\n",
      "68:\tlearn: 0.1587525\ttest: 0.1416154\tbest: 0.1416154 (68)\ttotal: 1m 14s\tremaining: 4m 9s\n",
      "69:\tlearn: 0.1586537\ttest: 0.1415189\tbest: 0.1415189 (69)\ttotal: 1m 15s\tremaining: 4m 9s\n",
      "70:\tlearn: 0.1586390\ttest: 0.1414607\tbest: 0.1414607 (70)\ttotal: 1m 16s\tremaining: 4m 7s\n",
      "71:\tlearn: 0.1586249\ttest: 0.1414089\tbest: 0.1414089 (71)\ttotal: 1m 17s\tremaining: 4m 5s\n",
      "72:\tlearn: 0.1585593\ttest: 0.1414065\tbest: 0.1414065 (72)\ttotal: 1m 18s\tremaining: 4m 4s\n",
      "73:\tlearn: 0.1579320\ttest: 0.1408930\tbest: 0.1408930 (73)\ttotal: 1m 19s\tremaining: 4m 4s\n",
      "74:\tlearn: 0.1579159\ttest: 0.1408814\tbest: 0.1408814 (74)\ttotal: 1m 20s\tremaining: 4m 2s\n",
      "75:\tlearn: 0.1574945\ttest: 0.1405231\tbest: 0.1405231 (75)\ttotal: 1m 22s\tremaining: 4m 2s\n",
      "76:\tlearn: 0.1574778\ttest: 0.1405205\tbest: 0.1405205 (76)\ttotal: 1m 23s\tremaining: 4m\n",
      "77:\tlearn: 0.1574411\ttest: 0.1405153\tbest: 0.1405153 (77)\ttotal: 1m 24s\tremaining: 3m 59s\n",
      "78:\tlearn: 0.1573014\ttest: 0.1404506\tbest: 0.1404506 (78)\ttotal: 1m 25s\tremaining: 3m 58s\n",
      "79:\tlearn: 0.1572453\ttest: 0.1404500\tbest: 0.1404500 (79)\ttotal: 1m 26s\tremaining: 3m 58s\n",
      "80:\tlearn: 0.1571754\ttest: 0.1403855\tbest: 0.1403855 (80)\ttotal: 1m 27s\tremaining: 3m 57s\n",
      "81:\tlearn: 0.1566702\ttest: 0.1400742\tbest: 0.1400742 (81)\ttotal: 1m 28s\tremaining: 3m 55s\n",
      "82:\tlearn: 0.1566649\ttest: 0.1400511\tbest: 0.1400511 (82)\ttotal: 1m 29s\tremaining: 3m 54s\n",
      "83:\tlearn: 0.1565956\ttest: 0.1400350\tbest: 0.1400350 (83)\ttotal: 1m 30s\tremaining: 3m 52s\n",
      "84:\tlearn: 0.1565905\ttest: 0.1400391\tbest: 0.1400350 (83)\ttotal: 1m 31s\tremaining: 3m 51s\n",
      "85:\tlearn: 0.1565516\ttest: 0.1400358\tbest: 0.1400350 (83)\ttotal: 1m 32s\tremaining: 3m 50s\n",
      "86:\tlearn: 0.1565198\ttest: 0.1400072\tbest: 0.1400072 (86)\ttotal: 1m 33s\tremaining: 3m 49s\n",
      "87:\tlearn: 0.1564099\ttest: 0.1399455\tbest: 0.1399455 (87)\ttotal: 1m 35s\tremaining: 3m 49s\n",
      "88:\tlearn: 0.1562931\ttest: 0.1399080\tbest: 0.1399080 (88)\ttotal: 1m 36s\tremaining: 3m 48s\n",
      "89:\tlearn: 0.1561017\ttest: 0.1399188\tbest: 0.1399080 (88)\ttotal: 1m 37s\tremaining: 3m 47s\n",
      "90:\tlearn: 0.1560812\ttest: 0.1398999\tbest: 0.1398999 (90)\ttotal: 1m 38s\tremaining: 3m 46s\n",
      "91:\tlearn: 0.1560791\ttest: 0.1399008\tbest: 0.1398999 (90)\ttotal: 1m 39s\tremaining: 3m 44s\n",
      "92:\tlearn: 0.1560651\ttest: 0.1398958\tbest: 0.1398958 (92)\ttotal: 1m 40s\tremaining: 3m 42s\n",
      "93:\tlearn: 0.1560292\ttest: 0.1399447\tbest: 0.1398958 (92)\ttotal: 1m 41s\tremaining: 3m 41s\n",
      "94:\tlearn: 0.1560134\ttest: 0.1399301\tbest: 0.1398958 (92)\ttotal: 1m 42s\tremaining: 3m 40s\n",
      "95:\tlearn: 0.1560001\ttest: 0.1399074\tbest: 0.1398958 (92)\ttotal: 1m 43s\tremaining: 3m 39s\n",
      "96:\tlearn: 0.1560000\ttest: 0.1399080\tbest: 0.1398958 (92)\ttotal: 1m 43s\tremaining: 3m 37s\n",
      "97:\tlearn: 0.1559291\ttest: 0.1398097\tbest: 0.1398097 (97)\ttotal: 1m 44s\tremaining: 3m 35s\n",
      "98:\tlearn: 0.1559259\ttest: 0.1397924\tbest: 0.1397924 (98)\ttotal: 1m 45s\tremaining: 3m 34s\n",
      "99:\tlearn: 0.1558675\ttest: 0.1397944\tbest: 0.1397924 (98)\ttotal: 1m 46s\tremaining: 3m 32s\n",
      "100:\tlearn: 0.1555506\ttest: 0.1394226\tbest: 0.1394226 (100)\ttotal: 1m 47s\tremaining: 3m 31s\n",
      "101:\tlearn: 0.1554534\ttest: 0.1393756\tbest: 0.1393756 (101)\ttotal: 1m 48s\tremaining: 3m 30s\n",
      "102:\tlearn: 0.1554453\ttest: 0.1393657\tbest: 0.1393657 (102)\ttotal: 1m 49s\tremaining: 3m 29s\n",
      "103:\tlearn: 0.1553910\ttest: 0.1393337\tbest: 0.1393337 (103)\ttotal: 1m 50s\tremaining: 3m 28s\n",
      "104:\tlearn: 0.1553561\ttest: 0.1393127\tbest: 0.1393127 (104)\ttotal: 1m 51s\tremaining: 3m 27s\n",
      "105:\tlearn: 0.1551613\ttest: 0.1390905\tbest: 0.1390905 (105)\ttotal: 1m 52s\tremaining: 3m 26s\n",
      "106:\tlearn: 0.1551237\ttest: 0.1390598\tbest: 0.1390598 (106)\ttotal: 1m 54s\tremaining: 3m 26s\n",
      "107:\tlearn: 0.1549844\ttest: 0.1390834\tbest: 0.1390598 (106)\ttotal: 1m 55s\tremaining: 3m 24s\n",
      "108:\tlearn: 0.1548531\ttest: 0.1391444\tbest: 0.1390598 (106)\ttotal: 1m 56s\tremaining: 3m 24s\n",
      "109:\tlearn: 0.1547212\ttest: 0.1390899\tbest: 0.1390598 (106)\ttotal: 1m 57s\tremaining: 3m 23s\n",
      "110:\tlearn: 0.1546145\ttest: 0.1390090\tbest: 0.1390090 (110)\ttotal: 1m 59s\tremaining: 3m 23s\n",
      "111:\tlearn: 0.1544496\ttest: 0.1389742\tbest: 0.1389742 (111)\ttotal: 2m\tremaining: 3m 21s\n",
      "112:\tlearn: 0.1543908\ttest: 0.1389791\tbest: 0.1389742 (111)\ttotal: 2m 1s\tremaining: 3m 20s\n",
      "113:\tlearn: 0.1542793\ttest: 0.1389190\tbest: 0.1389190 (113)\ttotal: 2m 2s\tremaining: 3m 20s\n",
      "114:\tlearn: 0.1542168\ttest: 0.1389432\tbest: 0.1389190 (113)\ttotal: 2m 3s\tremaining: 3m 19s\n",
      "115:\tlearn: 0.1542093\ttest: 0.1389506\tbest: 0.1389190 (113)\ttotal: 2m 5s\tremaining: 3m 18s\n",
      "116:\tlearn: 0.1542092\ttest: 0.1389511\tbest: 0.1389190 (113)\ttotal: 2m 5s\tremaining: 3m 17s\n",
      "117:\tlearn: 0.1541759\ttest: 0.1389537\tbest: 0.1389190 (113)\ttotal: 2m 7s\tremaining: 3m 16s\n",
      "118:\tlearn: 0.1541083\ttest: 0.1388752\tbest: 0.1388752 (118)\ttotal: 2m 8s\tremaining: 3m 15s\n",
      "119:\tlearn: 0.1540618\ttest: 0.1388463\tbest: 0.1388463 (119)\ttotal: 2m 9s\tremaining: 3m 14s\n",
      "120:\tlearn: 0.1539972\ttest: 0.1388822\tbest: 0.1388463 (119)\ttotal: 2m 11s\tremaining: 3m 14s\n",
      "121:\tlearn: 0.1539120\ttest: 0.1388907\tbest: 0.1388463 (119)\ttotal: 2m 12s\tremaining: 3m 13s\n",
      "122:\tlearn: 0.1538937\ttest: 0.1389101\tbest: 0.1388463 (119)\ttotal: 2m 13s\tremaining: 3m 12s\n",
      "123:\tlearn: 0.1538763\ttest: 0.1389091\tbest: 0.1388463 (119)\ttotal: 2m 14s\tremaining: 3m 11s\n",
      "124:\tlearn: 0.1537886\ttest: 0.1388892\tbest: 0.1388463 (119)\ttotal: 2m 16s\tremaining: 3m 10s\n",
      "125:\tlearn: 0.1537435\ttest: 0.1388442\tbest: 0.1388442 (125)\ttotal: 2m 17s\tremaining: 3m 9s\n",
      "126:\tlearn: 0.1535792\ttest: 0.1388805\tbest: 0.1388442 (125)\ttotal: 2m 18s\tremaining: 3m 8s\n",
      "127:\tlearn: 0.1533229\ttest: 0.1387560\tbest: 0.1387560 (127)\ttotal: 2m 19s\tremaining: 3m 7s\n",
      "128:\tlearn: 0.1531954\ttest: 0.1387478\tbest: 0.1387478 (128)\ttotal: 2m 21s\tremaining: 3m 6s\n",
      "129:\tlearn: 0.1530578\ttest: 0.1387214\tbest: 0.1387214 (129)\ttotal: 2m 22s\tremaining: 3m 5s\n",
      "130:\tlearn: 0.1529870\ttest: 0.1387047\tbest: 0.1387047 (130)\ttotal: 2m 23s\tremaining: 3m 5s\n"
     ]
    },
    {
     "name": "stdout",
     "output_type": "stream",
     "text": [
      "131:\tlearn: 0.1528824\ttest: 0.1386921\tbest: 0.1386921 (131)\ttotal: 2m 24s\tremaining: 3m 4s\n",
      "132:\tlearn: 0.1528593\ttest: 0.1386820\tbest: 0.1386820 (132)\ttotal: 2m 25s\tremaining: 3m 3s\n",
      "133:\tlearn: 0.1528417\ttest: 0.1386860\tbest: 0.1386820 (132)\ttotal: 2m 27s\tremaining: 3m 2s\n",
      "134:\tlearn: 0.1527574\ttest: 0.1386166\tbest: 0.1386166 (134)\ttotal: 2m 28s\tremaining: 3m 1s\n",
      "135:\tlearn: 0.1526407\ttest: 0.1386013\tbest: 0.1386013 (135)\ttotal: 2m 29s\tremaining: 3m\n",
      "136:\tlearn: 0.1525968\ttest: 0.1386145\tbest: 0.1386013 (135)\ttotal: 2m 30s\tremaining: 2m 59s\n",
      "137:\tlearn: 0.1525217\ttest: 0.1385727\tbest: 0.1385727 (137)\ttotal: 2m 32s\tremaining: 2m 58s\n",
      "138:\tlearn: 0.1524364\ttest: 0.1386022\tbest: 0.1385727 (137)\ttotal: 2m 33s\tremaining: 2m 57s\n",
      "139:\tlearn: 0.1524264\ttest: 0.1386028\tbest: 0.1385727 (137)\ttotal: 2m 34s\tremaining: 2m 56s\n",
      "140:\tlearn: 0.1522908\ttest: 0.1385977\tbest: 0.1385727 (137)\ttotal: 2m 36s\tremaining: 2m 55s\n",
      "141:\tlearn: 0.1522511\ttest: 0.1385835\tbest: 0.1385727 (137)\ttotal: 2m 37s\tremaining: 2m 54s\n",
      "142:\tlearn: 0.1522223\ttest: 0.1385806\tbest: 0.1385727 (137)\ttotal: 2m 38s\tremaining: 2m 54s\n",
      "143:\tlearn: 0.1521283\ttest: 0.1385393\tbest: 0.1385393 (143)\ttotal: 2m 39s\tremaining: 2m 53s\n",
      "144:\tlearn: 0.1520399\ttest: 0.1385527\tbest: 0.1385393 (143)\ttotal: 2m 41s\tremaining: 2m 52s\n",
      "145:\tlearn: 0.1519743\ttest: 0.1385479\tbest: 0.1385393 (143)\ttotal: 2m 42s\tremaining: 2m 51s\n",
      "146:\tlearn: 0.1519347\ttest: 0.1385189\tbest: 0.1385189 (146)\ttotal: 2m 43s\tremaining: 2m 50s\n",
      "147:\tlearn: 0.1518005\ttest: 0.1384585\tbest: 0.1384585 (147)\ttotal: 2m 44s\tremaining: 2m 49s\n",
      "148:\tlearn: 0.1516984\ttest: 0.1384019\tbest: 0.1384019 (148)\ttotal: 2m 46s\tremaining: 2m 48s\n",
      "149:\tlearn: 0.1515902\ttest: 0.1384355\tbest: 0.1384019 (148)\ttotal: 2m 47s\tremaining: 2m 47s\n",
      "150:\tlearn: 0.1515049\ttest: 0.1384309\tbest: 0.1384019 (148)\ttotal: 2m 48s\tremaining: 2m 46s\n",
      "151:\tlearn: 0.1514548\ttest: 0.1384194\tbest: 0.1384019 (148)\ttotal: 2m 49s\tremaining: 2m 45s\n",
      "152:\tlearn: 0.1514079\ttest: 0.1384230\tbest: 0.1384019 (148)\ttotal: 2m 51s\tremaining: 2m 44s\n",
      "153:\tlearn: 0.1513961\ttest: 0.1384477\tbest: 0.1384019 (148)\ttotal: 2m 52s\tremaining: 2m 43s\n",
      "154:\tlearn: 0.1513485\ttest: 0.1384947\tbest: 0.1384019 (148)\ttotal: 2m 53s\tremaining: 2m 42s\n",
      "155:\tlearn: 0.1512321\ttest: 0.1385032\tbest: 0.1384019 (148)\ttotal: 2m 54s\tremaining: 2m 41s\n",
      "156:\tlearn: 0.1511855\ttest: 0.1385070\tbest: 0.1384019 (148)\ttotal: 2m 55s\tremaining: 2m 40s\n",
      "157:\tlearn: 0.1510930\ttest: 0.1384737\tbest: 0.1384019 (148)\ttotal: 2m 57s\tremaining: 2m 39s\n",
      "158:\tlearn: 0.1510767\ttest: 0.1384716\tbest: 0.1384019 (148)\ttotal: 2m 58s\tremaining: 2m 38s\n",
      "159:\tlearn: 0.1509864\ttest: 0.1384457\tbest: 0.1384019 (148)\ttotal: 2m 59s\tremaining: 2m 37s\n",
      "160:\tlearn: 0.1509613\ttest: 0.1384358\tbest: 0.1384019 (148)\ttotal: 3m 1s\tremaining: 2m 36s\n",
      "161:\tlearn: 0.1509168\ttest: 0.1384360\tbest: 0.1384019 (148)\ttotal: 3m 2s\tremaining: 2m 35s\n",
      "162:\tlearn: 0.1508943\ttest: 0.1384590\tbest: 0.1384019 (148)\ttotal: 3m 3s\tremaining: 2m 34s\n",
      "163:\tlearn: 0.1506705\ttest: 0.1383060\tbest: 0.1383060 (163)\ttotal: 3m 4s\tremaining: 2m 33s\n",
      "164:\tlearn: 0.1506455\ttest: 0.1383198\tbest: 0.1383060 (163)\ttotal: 3m 6s\tremaining: 2m 32s\n",
      "165:\tlearn: 0.1506130\ttest: 0.1383591\tbest: 0.1383060 (163)\ttotal: 3m 7s\tremaining: 2m 31s\n",
      "166:\tlearn: 0.1505797\ttest: 0.1383476\tbest: 0.1383060 (163)\ttotal: 3m 8s\tremaining: 2m 30s\n",
      "167:\tlearn: 0.1504961\ttest: 0.1383383\tbest: 0.1383060 (163)\ttotal: 3m 9s\tremaining: 2m 29s\n",
      "168:\tlearn: 0.1504876\ttest: 0.1383382\tbest: 0.1383060 (163)\ttotal: 3m 10s\tremaining: 2m 27s\n",
      "169:\tlearn: 0.1504685\ttest: 0.1383375\tbest: 0.1383060 (163)\ttotal: 3m 12s\tremaining: 2m 27s\n",
      "170:\tlearn: 0.1502646\ttest: 0.1381894\tbest: 0.1381894 (170)\ttotal: 3m 13s\tremaining: 2m 25s\n",
      "171:\tlearn: 0.1502347\ttest: 0.1382152\tbest: 0.1381894 (170)\ttotal: 3m 14s\tremaining: 2m 24s\n",
      "172:\tlearn: 0.1501830\ttest: 0.1382050\tbest: 0.1381894 (170)\ttotal: 3m 15s\tremaining: 2m 23s\n",
      "173:\tlearn: 0.1501788\ttest: 0.1382057\tbest: 0.1381894 (170)\ttotal: 3m 17s\tremaining: 2m 22s\n",
      "174:\tlearn: 0.1500400\ttest: 0.1382313\tbest: 0.1381894 (170)\ttotal: 3m 18s\tremaining: 2m 21s\n",
      "175:\tlearn: 0.1498789\ttest: 0.1382300\tbest: 0.1381894 (170)\ttotal: 3m 19s\tremaining: 2m 20s\n",
      "176:\tlearn: 0.1498606\ttest: 0.1382297\tbest: 0.1381894 (170)\ttotal: 3m 21s\tremaining: 2m 19s\n",
      "177:\tlearn: 0.1498567\ttest: 0.1382498\tbest: 0.1381894 (170)\ttotal: 3m 22s\tremaining: 2m 18s\n",
      "178:\tlearn: 0.1498393\ttest: 0.1382589\tbest: 0.1381894 (170)\ttotal: 3m 23s\tremaining: 2m 17s\n",
      "179:\tlearn: 0.1498258\ttest: 0.1382674\tbest: 0.1381894 (170)\ttotal: 3m 24s\tremaining: 2m 16s\n",
      "180:\tlearn: 0.1497699\ttest: 0.1382955\tbest: 0.1381894 (170)\ttotal: 3m 25s\tremaining: 2m 15s\n",
      "181:\tlearn: 0.1497549\ttest: 0.1383009\tbest: 0.1381894 (170)\ttotal: 3m 26s\tremaining: 2m 14s\n",
      "182:\tlearn: 0.1496138\ttest: 0.1383078\tbest: 0.1381894 (170)\ttotal: 3m 28s\tremaining: 2m 13s\n",
      "183:\tlearn: 0.1496081\ttest: 0.1383097\tbest: 0.1381894 (170)\ttotal: 3m 29s\tremaining: 2m 12s\n",
      "184:\tlearn: 0.1495967\ttest: 0.1383058\tbest: 0.1381894 (170)\ttotal: 3m 30s\tremaining: 2m 10s\n",
      "185:\tlearn: 0.1495236\ttest: 0.1382954\tbest: 0.1381894 (170)\ttotal: 3m 31s\tremaining: 2m 9s\n",
      "186:\tlearn: 0.1493702\ttest: 0.1382785\tbest: 0.1381894 (170)\ttotal: 3m 32s\tremaining: 2m 8s\n",
      "187:\tlearn: 0.1492876\ttest: 0.1382142\tbest: 0.1381894 (170)\ttotal: 3m 33s\tremaining: 2m 7s\n",
      "188:\tlearn: 0.1492686\ttest: 0.1382200\tbest: 0.1381894 (170)\ttotal: 3m 35s\tremaining: 2m 6s\n",
      "189:\tlearn: 0.1492641\ttest: 0.1382170\tbest: 0.1381894 (170)\ttotal: 3m 36s\tremaining: 2m 5s\n",
      "190:\tlearn: 0.1492334\ttest: 0.1382342\tbest: 0.1381894 (170)\ttotal: 3m 37s\tremaining: 2m 4s\n",
      "191:\tlearn: 0.1492024\ttest: 0.1382736\tbest: 0.1381894 (170)\ttotal: 3m 38s\tremaining: 2m 2s\n",
      "192:\tlearn: 0.1491765\ttest: 0.1383018\tbest: 0.1381894 (170)\ttotal: 3m 40s\tremaining: 2m 1s\n",
      "193:\tlearn: 0.1491131\ttest: 0.1382764\tbest: 0.1381894 (170)\ttotal: 3m 41s\tremaining: 2m\n",
      "194:\tlearn: 0.1490042\ttest: 0.1382285\tbest: 0.1381894 (170)\ttotal: 3m 42s\tremaining: 1m 59s\n",
      "195:\tlearn: 0.1489817\ttest: 0.1382297\tbest: 0.1381894 (170)\ttotal: 3m 43s\tremaining: 1m 58s\n",
      "196:\tlearn: 0.1488334\ttest: 0.1381468\tbest: 0.1381468 (196)\ttotal: 3m 44s\tremaining: 1m 57s\n",
      "197:\tlearn: 0.1488279\ttest: 0.1381593\tbest: 0.1381468 (196)\ttotal: 3m 45s\tremaining: 1m 56s\n",
      "198:\tlearn: 0.1487791\ttest: 0.1381695\tbest: 0.1381468 (196)\ttotal: 3m 46s\tremaining: 1m 55s\n",
      "199:\tlearn: 0.1487708\ttest: 0.1381806\tbest: 0.1381468 (196)\ttotal: 3m 47s\tremaining: 1m 53s\n",
      "200:\tlearn: 0.1486424\ttest: 0.1381162\tbest: 0.1381162 (200)\ttotal: 3m 49s\tremaining: 1m 53s\n",
      "201:\tlearn: 0.1485593\ttest: 0.1381044\tbest: 0.1381044 (201)\ttotal: 3m 52s\tremaining: 1m 52s\n",
      "202:\tlearn: 0.1485333\ttest: 0.1381443\tbest: 0.1381044 (201)\ttotal: 3m 54s\tremaining: 1m 51s\n",
      "203:\tlearn: 0.1485023\ttest: 0.1381376\tbest: 0.1381044 (201)\ttotal: 3m 55s\tremaining: 1m 50s\n",
      "204:\tlearn: 0.1484943\ttest: 0.1381382\tbest: 0.1381044 (201)\ttotal: 3m 57s\tremaining: 1m 50s\n",
      "205:\tlearn: 0.1484703\ttest: 0.1381897\tbest: 0.1381044 (201)\ttotal: 3m 59s\tremaining: 1m 49s\n"
     ]
    }
   ],
   "source": [
    "scores = []\n",
    "for i in range(10):\n",
    "    \n",
    "    model = CatBoostClassifier(\n",
    "        iterations=300,\n",
    "        learning_rate=0.1,\n",
    "    )\n",
    "    \n",
    "    model.fit(\n",
    "        X_train, y_train,\n",
    "        cat_features=cat_features,\n",
    "        eval_set=(X_validation, y_validation),\n",
    "    )\n",
    "    \n",
    "    print(model.random_seed_)\n",
    "    \n",
    "    scores.append(model.get_best_score()['validation_0']['Logloss'])"
   ]
  },
  {
   "cell_type": "code",
   "execution_count": 30,
   "metadata": {},
   "outputs": [
    {
     "name": "stdout",
     "output_type": "stream",
     "text": [
      "Current answer for task logloss_mean is: 0.137780375\n"
     ]
    }
   ],
   "source": [
    "# mean = np.mean(scores)\n",
    "mean = 0.137780375\n",
    "\n",
    "grader.submit_tag('logloss_mean', mean)"
   ]
  },
  {
   "cell_type": "markdown",
   "metadata": {},
   "source": [
    "**Question 5:**\n",
    "\n",
    "What is the standard deviation of it?"
   ]
  },
  {
   "cell_type": "code",
   "execution_count": 31,
   "metadata": {},
   "outputs": [
    {
     "name": "stdout",
     "output_type": "stream",
     "text": [
      "Current answer for task logloss_std is: 0.000788503488816\n"
     ]
    }
   ],
   "source": [
    "# stddev = np.std(scores)\n",
    "stddev = 0.000788503488816\n",
    "\n",
    "grader.submit_tag('logloss_std', stddev)"
   ]
  },
  {
   "cell_type": "markdown",
   "metadata": {},
   "source": [
    "## Metrics calculation and graph plotting"
   ]
  },
  {
   "cell_type": "markdown",
   "metadata": {},
   "source": [
    "When experimenting with Jupyter notebook you can see graphs of different errors during training.\n",
    "To do that you need to use `plot=True` parameter."
   ]
  },
  {
   "cell_type": "code",
   "execution_count": null,
   "metadata": {
    "collapsed": true
   },
   "outputs": [],
   "source": [
    "from catboost import CatBoostClassifier\n",
    "model = CatBoostClassifier(\n",
    "    iterations=50,\n",
    "    random_seed=63,\n",
    "    learning_rate=0.1,\n",
    "    custom_loss=['Accuracy']\n",
    ")\n",
    "model.fit(\n",
    "    X_train, y_train,\n",
    "    cat_features=cat_features,\n",
    "    eval_set=(X_validation, y_validation),\n",
    "    logging_level='Silent',\n",
    "    plot=True\n",
    ")"
   ]
  },
  {
   "cell_type": "markdown",
   "metadata": {},
   "source": [
    "**Question 6:**\n",
    "\n",
    "What is the value of the accuracy metric value on evaluation dataset after training with parameters `iterations=50`, `random_seed=63`, `learning_rate=0.1`?"
   ]
  },
  {
   "cell_type": "code",
   "execution_count": 32,
   "metadata": {},
   "outputs": [
    {
     "name": "stdout",
     "output_type": "stream",
     "text": [
      "Current answer for task accuracy_6 is: 0.9539\n"
     ]
    }
   ],
   "source": [
    "accuracy = 0.9539\n",
    "grader.submit_tag('accuracy_6', accuracy)"
   ]
  },
  {
   "cell_type": "markdown",
   "metadata": {},
   "source": [
    "## Model comparison"
   ]
  },
  {
   "cell_type": "code",
   "execution_count": null,
   "metadata": {
    "collapsed": true
   },
   "outputs": [],
   "source": [
    "model1 = CatBoostClassifier(\n",
    "    learning_rate=0.5,\n",
    "    iterations=1000,\n",
    "    random_seed=64,\n",
    "    train_dir='learning_rate_0.5',\n",
    "    custom_loss = ['Accuracy']\n",
    ")\n",
    "\n",
    "model2 = CatBoostClassifier(\n",
    "    learning_rate=0.05,\n",
    "    iterations=1000,\n",
    "    random_seed=64,\n",
    "    train_dir='learning_rate_0.05',\n",
    "    custom_loss = ['Accuracy']\n",
    ")\n",
    "model1.fit(\n",
    "    X_train, y_train,\n",
    "    eval_set=(X_validation, y_validation),\n",
    "    cat_features=cat_features,\n",
    "    verbose=100\n",
    ")\n",
    "model2.fit(\n",
    "    X_train, y_train,\n",
    "    eval_set=(X_validation, y_validation),\n",
    "    cat_features=cat_features,\n",
    "    verbose=100\n",
    ")"
   ]
  },
  {
   "cell_type": "code",
   "execution_count": null,
   "metadata": {
    "collapsed": true
   },
   "outputs": [],
   "source": [
    "from catboost import MetricVisualizer\n",
    "MetricVisualizer(['learning_rate_0.05', 'learning_rate_0.5']).start()"
   ]
  },
  {
   "cell_type": "markdown",
   "metadata": {},
   "source": [
    "**Question 7:**\n",
    "\n",
    "Try training these models for 1000 iterations. Which model will give better best resulting Accuracy on validation dataset?\n",
    "By best resulting accuracy we mean accuracy on best iteration, which might be not the last iteration."
   ]
  },
  {
   "cell_type": "code",
   "execution_count": 33,
   "metadata": {},
   "outputs": [
    {
     "name": "stdout",
     "output_type": "stream",
     "text": [
      "Current answer for task best_model_name is: learning_rate_0.05\n"
     ]
    }
   ],
   "source": [
    "best_model_name = 'learning_rate_0.05' # one of 'learning_rate_0.5', 'learning_rate_0.05'\n",
    "grader.submit_tag('best_model_name', best_model_name)"
   ]
  },
  {
   "cell_type": "markdown",
   "metadata": {},
   "source": [
    "## Best iteration"
   ]
  },
  {
   "cell_type": "markdown",
   "metadata": {},
   "source": [
    "If a validation dataset is present then after training, the model is shrinked to a number of trees when it got best evaluation metric value on validation dataset.\n",
    "By default evaluation metric is the optimized metric. But you can set evaluation metric to some other metric.\n",
    "In the example below evaluation metric is `Accuracy`."
   ]
  },
  {
   "cell_type": "code",
   "execution_count": null,
   "metadata": {
    "collapsed": true
   },
   "outputs": [],
   "source": [
    "from catboost import CatBoostClassifier\n",
    "model = CatBoostClassifier(\n",
    "    iterations=100,\n",
    "    random_seed=63,\n",
    "    learning_rate=0.5,\n",
    "    eval_metric='Accuracy'\n",
    ")\n",
    "model.fit(\n",
    "    X_train, y_train,\n",
    "    cat_features=cat_features,\n",
    "    eval_set=(X_validation, y_validation),\n",
    "    logging_level='Silent',\n",
    "    plot=True\n",
    ")"
   ]
  },
  {
   "cell_type": "code",
   "execution_count": null,
   "metadata": {
    "collapsed": true
   },
   "outputs": [],
   "source": [
    "print('Tree count: ' + str(model.tree_count_))"
   ]
  },
  {
   "cell_type": "markdown",
   "metadata": {},
   "source": [
    "If you don't want the model to be shrinked, you can set `use_best_model=False`"
   ]
  },
  {
   "cell_type": "code",
   "execution_count": null,
   "metadata": {
    "collapsed": true
   },
   "outputs": [],
   "source": [
    "model = CatBoostClassifier(\n",
    "    iterations=100,\n",
    "    random_seed=63,\n",
    "    learning_rate=0.5,\n",
    "    eval_metric='Accuracy',\n",
    "    use_best_model=False\n",
    ")\n",
    "model.fit(\n",
    "    X_train, y_train,\n",
    "    cat_features=cat_features,\n",
    "    eval_set=(X_validation, y_validation),\n",
    "    logging_level='Silent',\n",
    "    plot=True\n",
    ")"
   ]
  },
  {
   "cell_type": "markdown",
   "metadata": {},
   "source": [
    "**Question 8:**\n",
    "    \n",
    "What will be the number of trees in the resulting model after training with validation dataset with parameters `iterations=100`, ` learning_rate=0.5`, `eval_metric='Accuracy'` and with parameter `use_best_model=False`"
   ]
  },
  {
   "cell_type": "code",
   "execution_count": 35,
   "metadata": {},
   "outputs": [
    {
     "name": "stdout",
     "output_type": "stream",
     "text": [
      "Current answer for task num_trees is: 100\n"
     ]
    }
   ],
   "source": [
    "# tree_count = model.tree_count_\n",
    "tree_count = 100\n",
    "grader.submit_tag('num_trees', tree_count)"
   ]
  },
  {
   "cell_type": "markdown",
   "metadata": {},
   "source": [
    "## Cross-validation"
   ]
  },
  {
   "cell_type": "markdown",
   "metadata": {},
   "source": [
    "The next functionality you need to know about is cross-validation.\n",
    "For unbalanced datasets stratified cross-validation can be useful."
   ]
  },
  {
   "cell_type": "code",
   "execution_count": null,
   "metadata": {
    "collapsed": true
   },
   "outputs": [],
   "source": [
    "from catboost import cv\n",
    "\n",
    "params = {}\n",
    "params['loss_function'] = 'Logloss'\n",
    "params['iterations'] = 80\n",
    "params['custom_loss'] = 'AUC'\n",
    "params['random_seed'] = 63\n",
    "params['learning_rate'] = 0.5\n",
    "\n",
    "cv_data = cv(\n",
    "    params = params,\n",
    "    pool = Pool(X, label=y, cat_features=cat_features),\n",
    "    fold_count=5,\n",
    "    inverted=False,\n",
    "    shuffle=True,\n",
    "    partition_random_seed=0,\n",
    "    plot=True,\n",
    "    stratified=True,\n",
    "    verbose=False\n",
    ")"
   ]
  },
  {
   "cell_type": "markdown",
   "metadata": {},
   "source": [
    "Cross-validation returns specified metric values on every iteration (or every k-th iteration, if you specify so)"
   ]
  },
  {
   "cell_type": "code",
   "execution_count": null,
   "metadata": {
    "collapsed": true
   },
   "outputs": [],
   "source": [
    "print(cv_data[0:4])"
   ]
  },
  {
   "cell_type": "markdown",
   "metadata": {},
   "source": [
    "Let's look on mean value and standard deviation of Logloss for cv on best iteration."
   ]
  },
  {
   "cell_type": "code",
   "execution_count": null,
   "metadata": {
    "collapsed": true
   },
   "outputs": [],
   "source": [
    "best_value = np.min(cv_data['test-Logloss-mean'])\n",
    "best_iter = np.argmin(cv_data['test-Logloss-mean'])\n",
    "\n",
    "print('Best validation Logloss score, not stratified: {:.4f}±{:.4f} on step {}'.format(\n",
    "    best_value,\n",
    "    cv_data['test-Logloss-std'][best_iter],\n",
    "    best_iter)\n",
    ")"
   ]
  },
  {
   "cell_type": "markdown",
   "metadata": {},
   "source": [
    "**Question 9:**\n",
    "\n",
    "Try running stratified cross-validation with the same parameters. What will be mean of Logloss metric on test of the stratified cross-validation on the best iteration?"
   ]
  },
  {
   "cell_type": "code",
   "execution_count": 36,
   "metadata": {},
   "outputs": [
    {
     "name": "stdout",
     "output_type": "stream",
     "text": [
      "Current answer for task mean_logloss_cv is: 0.1408620808991684\n"
     ]
    }
   ],
   "source": [
    "# mean_on_best_iteration = cv_data['test-Logloss-mean'][best_iter]\n",
    "mean_on_best_iteration = 0.14086208089916841\n",
    "grader.submit_tag('mean_logloss_cv', mean_on_best_iteration)"
   ]
  },
  {
   "cell_type": "markdown",
   "metadata": {},
   "source": [
    "**Question 10:**\n",
    "\n",
    "Try running stratified cross-validation with the same parameters. What will be the standard deviation of Logloss metric of the stratified cross-validation on the best iteration?"
   ]
  },
  {
   "cell_type": "code",
   "execution_count": 37,
   "metadata": {},
   "outputs": [
    {
     "name": "stdout",
     "output_type": "stream",
     "text": [
      "Current answer for task logloss_std_1 is: 0.005562241013801305\n"
     ]
    }
   ],
   "source": [
    "# std_on_best_iteration = cv_data['test-Logloss-std'][best_iter]\n",
    "std_on_best_iteration = 0.0055622410138013046\n",
    "grader.submit_tag('logloss_std_1', std_on_best_iteration)"
   ]
  },
  {
   "cell_type": "markdown",
   "metadata": {},
   "source": [
    "## Overfitting detector"
   ]
  },
  {
   "cell_type": "markdown",
   "metadata": {},
   "source": [
    "A useful feature of the library is overfitting detector.\n",
    "Let's try training the model with early stopping."
   ]
  },
  {
   "cell_type": "code",
   "execution_count": null,
   "metadata": {
    "collapsed": true
   },
   "outputs": [],
   "source": [
    "model_with_early_stop = CatBoostClassifier(\n",
    "    iterations=200,\n",
    "    random_seed=63,\n",
    "    learning_rate=0.5,\n",
    "    od_type='Iter',\n",
    "    od_wait=20,\n",
    "    eval_metric = 'AUC'\n",
    ")\n",
    "model_with_early_stop.fit(\n",
    "    X_train, y_train,\n",
    "    cat_features=cat_features,\n",
    "    eval_set=(X_validation, y_validation),\n",
    "    logging_level='Silent',\n",
    "    plot=True\n",
    ")"
   ]
  },
  {
   "cell_type": "code",
   "execution_count": 28,
   "metadata": {},
   "outputs": [
    {
     "ename": "CatboostError",
     "evalue": "Model is not fitted.",
     "output_type": "error",
     "traceback": [
      "\u001b[0;31m---------------------------------------------------------------------------\u001b[0m",
      "\u001b[0;31mCatboostError\u001b[0m                             Traceback (most recent call last)",
      "\u001b[0;32m<ipython-input-28-4a27572166a1>\u001b[0m in \u001b[0;36m<module>\u001b[0;34m()\u001b[0m\n\u001b[0;32m----> 1\u001b[0;31m \u001b[0ma\u001b[0m\u001b[0;34m.\u001b[0m\u001b[0mrandom_seed_\u001b[0m\u001b[0;34m\u001b[0m\u001b[0m\n\u001b[0m",
      "\u001b[0;32m/opt/conda/lib/python3.6/site-packages/catboost/core.py\u001b[0m in \u001b[0;36mrandom_seed_\u001b[0;34m(self)\u001b[0m\n\u001b[1;32m    960\u001b[0m     \u001b[0;32mdef\u001b[0m \u001b[0mrandom_seed_\u001b[0m\u001b[0;34m(\u001b[0m\u001b[0mself\u001b[0m\u001b[0;34m)\u001b[0m\u001b[0;34m:\u001b[0m\u001b[0;34m\u001b[0m\u001b[0m\n\u001b[1;32m    961\u001b[0m         \u001b[0;32mif\u001b[0m \u001b[0;32mnot\u001b[0m \u001b[0mself\u001b[0m\u001b[0;34m.\u001b[0m\u001b[0mis_fitted\u001b[0m\u001b[0;34m(\u001b[0m\u001b[0;34m)\u001b[0m\u001b[0;34m:\u001b[0m\u001b[0;34m\u001b[0m\u001b[0m\n\u001b[0;32m--> 962\u001b[0;31m             \u001b[0;32mraise\u001b[0m \u001b[0mCatboostError\u001b[0m\u001b[0;34m(\u001b[0m\u001b[0;34m'Model is not fitted.'\u001b[0m\u001b[0;34m)\u001b[0m\u001b[0;34m\u001b[0m\u001b[0m\n\u001b[0m\u001b[1;32m    963\u001b[0m         \u001b[0;32mreturn\u001b[0m \u001b[0mgetattr\u001b[0m\u001b[0;34m(\u001b[0m\u001b[0mself\u001b[0m\u001b[0;34m,\u001b[0m \u001b[0;34m'_random_seed'\u001b[0m\u001b[0;34m)\u001b[0m\u001b[0;34m\u001b[0m\u001b[0m\n\u001b[1;32m    964\u001b[0m \u001b[0;34m\u001b[0m\u001b[0m\n",
      "\u001b[0;31mCatboostError\u001b[0m: Model is not fitted."
     ]
    }
   ],
   "source": [
    "print('Best step: {}'.format(model_with_early_stop.best_iteration_))\n",
    "print('Number of training log: {}'.format(len(model_with_early_stop.get_evals_result()['validation_0']['Logloss'])))"
   ]
  },
  {
   "cell_type": "markdown",
   "metadata": {},
   "source": [
    "**Question 11:**\n",
    "\n",
    "Now try training the model with the same parameters and with overfitting detector, but with `eval_metric='AUC'`\n",
    "What will be the number of iterations after which the training will stop?\n",
    "(Not the number of trees in the resulting model, but the number of iterations that the algorithm will perform befor training)."
   ]
  },
  {
   "cell_type": "code",
   "execution_count": 38,
   "metadata": {},
   "outputs": [
    {
     "name": "stdout",
     "output_type": "stream",
     "text": [
      "Current answer for task iterations_overfitting is: 85\n"
     ]
    }
   ],
   "source": [
    "# iterations_count = 85\n",
    "iterations_count = 85\n",
    "grader.submit_tag('iterations_overfitting', iterations_count)"
   ]
  },
  {
   "cell_type": "markdown",
   "metadata": {},
   "source": [
    "## Snapshotting"
   ]
  },
  {
   "cell_type": "markdown",
   "metadata": {},
   "source": [
    "If you train for long time, for example for several hours, you need to save snapshots.\n",
    "Otherwise if your laptop or your server will reboot, you will loose all the progress.\n",
    "To do that you need to specify `snapshot_file` parameter.\n",
    "Try running the code below and interrupting the kernel after short time.\n",
    "Then try running the same cell again.\n",
    "The training will start from the iteration when the training was interrupted.\n",
    "Note that all additional files are written by default into `catboost_info` directory. It can be changed using `train_dir` parameter. So the snapshot file will be there."
   ]
  },
  {
   "cell_type": "code",
   "execution_count": null,
   "metadata": {
    "collapsed": true
   },
   "outputs": [],
   "source": [
    "from catboost import CatBoostClassifier\n",
    "model = CatBoostClassifier(\n",
    "    iterations=40,\n",
    "    save_snapshot=True,\n",
    "    snapshot_file='snapshot.bkp',\n",
    "    random_seed=43\n",
    ")\n",
    "model.fit(\n",
    "    X_train, y_train,\n",
    "    eval_set=(X_validation, y_validation),\n",
    "    cat_features=cat_features,\n",
    "    logging_level='Verbose'\n",
    ")"
   ]
  },
  {
   "cell_type": "markdown",
   "metadata": {},
   "source": [
    "## Model predictions"
   ]
  },
  {
   "cell_type": "markdown",
   "metadata": {},
   "source": [
    "There are multiple ways to do predictions.\n",
    "The easiest one is to call predict or predict_proba.\n",
    "You also can make predictions using C++ code. For that see [documentation](https://tech.yandex.com/catboost/doc/dg/concepts/c-plus-plus-api-docpage/)."
   ]
  },
  {
   "cell_type": "code",
   "execution_count": null,
   "metadata": {
    "collapsed": true
   },
   "outputs": [],
   "source": [
    "print(model.predict_proba(data=X_validation))"
   ]
  },
  {
   "cell_type": "code",
   "execution_count": null,
   "metadata": {
    "collapsed": true
   },
   "outputs": [],
   "source": [
    "print(model.predict(data=X_validation))"
   ]
  },
  {
   "cell_type": "markdown",
   "metadata": {},
   "source": [
    "For binary classification resulting value is not necessary a value in `[0,1]`. It is some numeric value. To get the probability out of this value you need to calculate sigmoid of that value."
   ]
  },
  {
   "cell_type": "code",
   "execution_count": null,
   "metadata": {
    "collapsed": true
   },
   "outputs": [],
   "source": [
    "raw_pred = model.predict(data=X_validation, prediction_type='RawFormulaVal')\n",
    "print(raw_pred)"
   ]
  },
  {
   "cell_type": "code",
   "execution_count": null,
   "metadata": {
    "collapsed": true
   },
   "outputs": [],
   "source": [
    "import math\n",
    "def sigmoid(x):\n",
    "    return 1 / (1 + math.exp(-x))\n",
    "probabilities = [sigmoid(x) for x in raw_pred]\n",
    "print(np.array(probabilities))"
   ]
  },
  {
   "cell_type": "markdown",
   "metadata": {},
   "source": [
    "## Staged prediction"
   ]
  },
  {
   "cell_type": "markdown",
   "metadata": {},
   "source": [
    "CatBoost also supports staged prediction - when you want to have a prediction on each object on each iteration (or on each k-th iteration). This can be used if you want to calculate the values of some custom metric using the predictions."
   ]
  },
  {
   "cell_type": "code",
   "execution_count": null,
   "metadata": {
    "collapsed": true
   },
   "outputs": [],
   "source": [
    "predictions_gen = model.staged_predict_proba(data=X_validation, ntree_start=0, ntree_end=5, eval_period=1)\n",
    "for iteration, predictions in enumerate(predictions_gen):\n",
    "    print('Iteration ' + str(iteration) + ', predictions:')\n",
    "    print(predictions)"
   ]
  },
  {
   "cell_type": "markdown",
   "metadata": {},
   "source": [
    "## Metric evaluation on a new dataset"
   ]
  },
  {
   "cell_type": "markdown",
   "metadata": {},
   "source": [
    "You can also calculate metrics directly after training."
   ]
  },
  {
   "cell_type": "code",
   "execution_count": null,
   "metadata": {
    "collapsed": true
   },
   "outputs": [],
   "source": [
    "metrics = model.eval_metrics(data=pool1, metrics=['Logloss','AUC'], plot=True)"
   ]
  },
  {
   "cell_type": "code",
   "execution_count": null,
   "metadata": {
    "collapsed": true
   },
   "outputs": [],
   "source": [
    "print('AUC values:')\n",
    "print(np.array(metrics['AUC']))"
   ]
  },
  {
   "cell_type": "markdown",
   "metadata": {},
   "source": [
    "**Question 12:**\n",
    "\n",
    "Now train a model in the following way:\n",
    "\n",
    "`\n",
    "from catboost import CatBoostClassifier\n",
    "model = CatBoostClassifier(\n",
    "    iterations=1000,\n",
    "    learning_rate=0.05,\n",
    "    random_seed=43\n",
    ")\n",
    "model.fit(\n",
    "    X_train, y_train,\n",
    "    eval_set=(X_validation, y_validation),\n",
    "    cat_features=cat_features,\n",
    "    logging_level='Verbose'\n",
    ")\n",
    "`\n",
    "\n",
    "What will be the AUC value on 550 iteration if evaluation metrics on the initial X dataset?"
   ]
  },
  {
   "cell_type": "code",
   "execution_count": null,
   "metadata": {
    "collapsed": true,
    "scrolled": true
   },
   "outputs": [],
   "source": [
    "from catboost import CatBoostClassifier\n",
    "model = CatBoostClassifier(\n",
    "    iterations=1000,\n",
    "    learning_rate=0.05,\n",
    "    random_seed=43\n",
    ")\n",
    "model.fit(\n",
    "    X_train, y_train,\n",
    "    eval_set=(X_validation, y_validation),\n",
    "    cat_features=cat_features,\n",
    "    logging_level='Verbose'\n",
    ")"
   ]
  },
  {
   "cell_type": "code",
   "execution_count": 39,
   "metadata": {},
   "outputs": [
    {
     "name": "stdout",
     "output_type": "stream",
     "text": [
      "Current answer for task auc_550 is: 0.984975697775\n"
     ]
    }
   ],
   "source": [
    "auc_value = 0.984975697775\n",
    "grader.submit_tag('auc_550', auc_value)"
   ]
  },
  {
   "cell_type": "markdown",
   "metadata": {},
   "source": [
    "## Feature importances"
   ]
  },
  {
   "cell_type": "markdown",
   "metadata": {},
   "source": [
    "Now we will learn how to understand which features are the most important ones. Let's first train the model that will not use feature combinations. To forbid feature combinations you need to use 'max_ctr_complexity=1'. This will speed up the training by a lot, but it will reduce the resulting quality. "
   ]
  },
  {
   "cell_type": "code",
   "execution_count": null,
   "metadata": {
    "collapsed": true
   },
   "outputs": [],
   "source": [
    "from catboost import CatBoostClassifier\n",
    "model = CatBoostClassifier(\n",
    "    iterations=300,\n",
    "    max_ctr_complexity=4,\n",
    "    random_seed=43\n",
    ")\n",
    "model.fit(\n",
    "    X, y,\n",
    "    cat_features=cat_features,\n",
    "    verbose=50\n",
    ")"
   ]
  },
  {
   "cell_type": "markdown",
   "metadata": {},
   "source": [
    "Let's see which features are most important for the model without feature combinations."
   ]
  },
  {
   "cell_type": "code",
   "execution_count": null,
   "metadata": {
    "collapsed": true
   },
   "outputs": [],
   "source": [
    "importances = model.get_feature_importance(prettified=True)\n",
    "print(importances)"
   ]
  },
  {
   "cell_type": "markdown",
   "metadata": {},
   "source": [
    "** Question 13: **\n",
    "\n",
    "Try training the model without the restriction of combinations, with other parameters set to the same values.\n",
    "What will be top 3 most important features for this model?"
   ]
  },
  {
   "cell_type": "code",
   "execution_count": 41,
   "metadata": {},
   "outputs": [
    {
     "name": "stdout",
     "output_type": "stream",
     "text": [
      "Current answer for task feature_importance_top3 is: ['MGR_ID', 'RESOURCE', 'ROLE_FAMILY_DESC']\n"
     ]
    }
   ],
   "source": [
    "# You should provide comma separated list of strings. Each string should be in single quotes. All list should be in square brackets.\n",
    "top3 = ['MGR_ID', 'RESOURCE', 'ROLE_FAMILY_DESC']\n",
    "grader.submit_tag('feature_importance_top3', top3)"
   ]
  },
  {
   "cell_type": "markdown",
   "metadata": {},
   "source": [
    "## Shap values"
   ]
  },
  {
   "cell_type": "markdown",
   "metadata": {},
   "source": [
    "Let's train the model one more time."
   ]
  },
  {
   "cell_type": "code",
   "execution_count": null,
   "metadata": {
    "collapsed": true
   },
   "outputs": [],
   "source": [
    "from catboost import CatBoostClassifier\n",
    "model = CatBoostClassifier(\n",
    "    iterations=300,\n",
    "    max_ctr_complexity=1,\n",
    "    random_seed=43\n",
    ")\n",
    "model.fit(\n",
    "    X, y,\n",
    "    cat_features=cat_features,\n",
    "    verbose=50\n",
    ")"
   ]
  },
  {
   "cell_type": "markdown",
   "metadata": {},
   "source": [
    "The library provides a way to understand which features are important for a given object.\n",
    "Let's take a look on the whole dataset X and analyze the influence of different features on the objects from this dataset.\n",
    "We will now calculate importances for each object. After that we will visualize these importances."
   ]
  },
  {
   "cell_type": "code",
   "execution_count": null,
   "metadata": {
    "collapsed": true
   },
   "outputs": [],
   "source": [
    "pool1 = Pool(data=X, label=y, cat_features=cat_features)\n",
    "shap_values = model.get_feature_importance(data=pool1, fstr_type='ShapValues', verbose=10000)\n",
    "print(shap_values.shape)"
   ]
  },
  {
   "cell_type": "markdown",
   "metadata": {},
   "source": [
    "Let's look on the prediction of the model for 0-th object. The raw prediction is not the probability, to calculate probability from raw prediction you need to calculate sigmoid(raw_prediction)."
   ]
  },
  {
   "cell_type": "code",
   "execution_count": null,
   "metadata": {
    "collapsed": true
   },
   "outputs": [],
   "source": [
    "test_objects = [X.iloc[0:1]]\n",
    "\n",
    "for obj in test_objects:\n",
    "    print('Probability of class 1 = {:.4f}'.format(model.predict_proba(obj)[0][1]))\n",
    "    print('Formula raw prediction = {:.4f}'.format(model.predict(obj, prediction_type='RawFormulaVal')[0]))\n",
    "    print('\\n')"
   ]
  },
  {
   "cell_type": "markdown",
   "metadata": {},
   "source": [
    "Sum of all shap values are equal to the resulting raw formula predition.\n",
    "We can see on the graph that will be output below that there is a base value, which is equal for all the objects.\n",
    "And almost all the feature have positive influence on this object. The biggest step to the right is because of the feature called 'MGR_ID'."
   ]
  },
  {
   "cell_type": "code",
   "execution_count": null,
   "metadata": {
    "collapsed": true
   },
   "outputs": [],
   "source": [
    "import shap\n",
    "shap.initjs()\n",
    "shap.force_plot(shap_values[0,:], X.iloc[0,:])"
   ]
  },
  {
   "cell_type": "markdown",
   "metadata": {},
   "source": [
    "** Question 14: **\n",
    "\n",
    "What is the most important feature for 91-th object"
   ]
  },
  {
   "cell_type": "code",
   "execution_count": 42,
   "metadata": {},
   "outputs": [
    {
     "name": "stdout",
     "output_type": "stream",
     "text": [
      "Current answer for task most_important is: RESOURCE\n"
     ]
    }
   ],
   "source": [
    "most_important_feature = 'RESOURCE'\n",
    "grader.submit_tag('most_important', most_important_feature)"
   ]
  },
  {
   "cell_type": "markdown",
   "metadata": {},
   "source": [
    "** Question 15: **\n",
    "\n",
    "Does it have positive or negative influence? Answer 1 if positive and -1 if negative."
   ]
  },
  {
   "cell_type": "code",
   "execution_count": 43,
   "metadata": {},
   "outputs": [
    {
     "name": "stdout",
     "output_type": "stream",
     "text": [
      "Current answer for task shap_influence is: -1\n"
     ]
    }
   ],
   "source": [
    "influence_sign = -1\n",
    "grader.submit_tag('shap_influence', influence_sign)"
   ]
  },
  {
   "cell_type": "markdown",
   "metadata": {},
   "source": [
    "You can also view aggregated information about the influences on the whole dataset."
   ]
  },
  {
   "cell_type": "code",
   "execution_count": null,
   "metadata": {
    "collapsed": true
   },
   "outputs": [],
   "source": [
    "shap.summary_plot(shap_values, X)"
   ]
  },
  {
   "cell_type": "markdown",
   "metadata": {},
   "source": [
    "From this graph you can see that values of MGR_ID and RESOURCE features have a large negative impact for many objects.\n",
    "You can also see that RESOURCE has largest positive impact for many objects."
   ]
  },
  {
   "cell_type": "markdown",
   "metadata": {},
   "source": [
    "## Saving the model"
   ]
  },
  {
   "cell_type": "markdown",
   "metadata": {},
   "source": [
    "You can save your model as a binary file. It is also possible to save the model as Python or C++ code.\n",
    "If you save the model as a binary file you can then look on the parameters with which the model was trained, including learning_rate and random_seed that are set automatically if you don't specify them."
   ]
  },
  {
   "cell_type": "code",
   "execution_count": null,
   "metadata": {
    "collapsed": true
   },
   "outputs": [],
   "source": [
    "my_best_model = CatBoostClassifier(iterations=10)\n",
    "my_best_model.fit(\n",
    "    X_train, y_train,\n",
    "    eval_set=(X_validation, y_validation),\n",
    "    cat_features=cat_features,\n",
    "    verbose=False\n",
    ")\n",
    "my_best_model.save_model('catboost_model.bin')"
   ]
  },
  {
   "cell_type": "code",
   "execution_count": null,
   "metadata": {
    "collapsed": true
   },
   "outputs": [],
   "source": [
    "my_best_model.load_model('catboost_model.bin')\n",
    "print(my_best_model.get_params())\n",
    "print(my_best_model.random_seed_)\n",
    "print(my_best_model.learning_rate_)"
   ]
  },
  {
   "cell_type": "markdown",
   "metadata": {},
   "source": [
    "## Hyperparameter tunning"
   ]
  },
  {
   "cell_type": "markdown",
   "metadata": {},
   "source": [
    "You can tune the parameters to get better speed or better quality.\n",
    "Here is the list of parameters that are important for speed and accuracy."
   ]
  },
  {
   "cell_type": "markdown",
   "metadata": {},
   "source": [
    "### Training speed"
   ]
  },
  {
   "cell_type": "markdown",
   "metadata": {},
   "source": [
    "Here is the list of parameters that are important for speeding up the training.\n",
    "Note that changing this parameters might decrease the quality.\n",
    "1. iterations + learning rate\n",
    "By default we train for 1000 iterations. You can decrease this number, but if you decrease the number of iterations you need to increase learning rate so that the process converges. We set learning rate by default dependent on number of iterations and on your dataset, so you might just use default learning rate. But if you want to tune it, you need to know - the more iterations you have, the less should be the learning rate.\n",
    "\n",
    "2. boosting_type\n",
    "By default we use Ordered boosting for smaller datasets where we want to fight overfitting. This is expensive in terms of computations. You can set boosting_type to Plain to disable this.\n",
    "\n",
    "3. bootstrap_type\n",
    "By default we sample weights from exponential distribution. It is faster to use sampling from Bernoulli distribution. To enable that use bootstrap_type='Bernoulli' + subsample={some value < 1}\n",
    "\n",
    "4. one_hot_max_size\n",
    "By default we use one-hot encoding only for categorical features with little amount of different values. For all other categorical features we calculate statistics. This is expensive, and one-hot encoding is cheep. So you can speed up the training by setting one_hot_max_size to some bigger value\n",
    "\n",
    "5. rsm\n",
    "This parameter is very important, because it speeds up the training and does not affect the quality. So you should definitely use it, but only in case if you have hundreds of features.\n",
    "If you have little amount of features it's better not to use this parameter.\n",
    "If you have many features then the rule is the following: you decrease rsm, for example, you set rsm=0.1. With this rsm value the training needs more iterations to converge. Usually you need about 20% more iterations. But each iteration will be 10x faster. So the resulting training time will be faster even though you will have more trees in the resulting model.\n",
    "\n",
    "6. leaf_estimation_iterations\n",
    "This parameter is responsible for calculating leaf values after you have already selected tree structure.\n",
    "If you have little amount of features, for example 8 or 10 features, then this place starts to be the bottle-neck.\n",
    "Default value for this parameter depends on the training objective, you can try setting it to 1 or 5, and if you have little amount of features, this might speed up the training.\n",
    "\n",
    "7. max_ctr_complexity\n",
    "By default catboost generates categorical feature combinations in a greedy way.\n",
    "This is time consuming, you can disable that by setting max_ctr_complexity=1 or by allowing only combinations of 2 features by setting max_ctr_complexity=2.\n",
    "This will speed up the training only if you have categorical features.\n",
    "\n",
    "8. If you are training the model on GPU, you can try decreasing border_count. This is the number of splits considered for each feature. By default it's set to 128, but you can try setting it to 32. In many cases it will not degrade the quality of the model and will speed up the training by a lot. "
   ]
  },
  {
   "cell_type": "code",
   "execution_count": null,
   "metadata": {
    "collapsed": true
   },
   "outputs": [],
   "source": [
    "from catboost import CatBoost\n",
    "fast_model = CatBoostClassifier(\n",
    "    random_seed=63,\n",
    "    iterations=150,\n",
    "    learning_rate=0.01,\n",
    "    boosting_type='Plain',\n",
    "    bootstrap_type='Bernoulli',\n",
    "    subsample=0.5,\n",
    "    one_hot_max_size=20,\n",
    "    rsm=0.5,\n",
    "    leaf_estimation_iterations=5,\n",
    "    max_ctr_complexity=1,\n",
    "    border_count=32)\n",
    "\n",
    "fast_model.fit(\n",
    "    X_train, y_train,\n",
    "    cat_features=cat_features,\n",
    "    logging_level='Silent',\n",
    "    plot=True\n",
    ")"
   ]
  },
  {
   "cell_type": "markdown",
   "metadata": {},
   "source": [
    "** Question 16: **\n",
    "\n",
    "Try tunning the speed of the algorithm. What is the maximum speedup you could get by changing these parameters without decreasing of AUC on best iteration on eval dataset compared to AUC on best iteration after training with default parameters and random seed = 0?\n",
    "The answer shoud be a number, for example 2.7 means you got 2.7 times speedup."
   ]
  },
  {
   "cell_type": "code",
   "execution_count": 44,
   "metadata": {},
   "outputs": [
    {
     "name": "stdout",
     "output_type": "stream",
     "text": [
      "Current answer for task speedup is: 2.761904761904762\n"
     ]
    }
   ],
   "source": [
    "speedup = 58/21\n",
    "grader.submit_tag('speedup', speedup)"
   ]
  },
  {
   "cell_type": "markdown",
   "metadata": {},
   "source": [
    "### Accuracy"
   ]
  },
  {
   "cell_type": "markdown",
   "metadata": {},
   "source": [
    "The parameters listed below are important to get the best quality of the model. Try changing this parameters to improve the quality of the resulting model"
   ]
  },
  {
   "cell_type": "code",
   "execution_count": null,
   "metadata": {
    "collapsed": true
   },
   "outputs": [],
   "source": [
    "tunned_model = CatBoostClassifier(\n",
    "    random_seed=63,\n",
    "    iterations=1000,\n",
    "    learning_rate=0.03,\n",
    "    l2_leaf_reg=3,\n",
    "    bagging_temperature=1,\n",
    "    random_strength=1,\n",
    "    one_hot_max_size=2,\n",
    "    leaf_estimation_method='Newton',\n",
    "    depth=6\n",
    ")\n",
    "tunned_model.fit(\n",
    "    X_train, y_train,\n",
    "    cat_features=cat_features,\n",
    "    logging_level='Silent',\n",
    "    eval_set=(X_validation, y_validation),\n",
    "    plot=True\n",
    ")"
   ]
  },
  {
   "cell_type": "markdown",
   "metadata": {},
   "source": [
    "** Question 17: **\n",
    "\n",
    "Try tunning these parameters to make AUC on eval dataset as large as possible. What is the maximum AUC value you have reached?"
   ]
  },
  {
   "cell_type": "code",
   "execution_count": 45,
   "metadata": {},
   "outputs": [
    {
     "name": "stdout",
     "output_type": "stream",
     "text": [
      "Current answer for task final_auc is: 0.9044539794\n"
     ]
    }
   ],
   "source": [
    "final_auc = 0.9044539794\n",
    "grader.submit_tag('final_auc', final_auc)"
   ]
  },
  {
   "cell_type": "code",
   "execution_count": 47,
   "metadata": {},
   "outputs": [
    {
     "name": "stdout",
     "output_type": "stream",
     "text": [
      "You want to submit these numbers:\n",
      "Task negative_samples: 1897\n",
      "Task positive_samples: 30872\n",
      "Task resource_unique_values: 7518\n",
      "Task logloss_mean: 0.137780375\n",
      "Task logloss_std: 0.000788503488816\n",
      "Task accuracy_6: 0.9539\n",
      "Task best_model_name: learning_rate_0.05\n",
      "Task num_trees: 100\n",
      "Task mean_logloss_cv: 0.1408620808991684\n",
      "Task logloss_std_1: 0.005562241013801305\n",
      "Task iterations_overfitting: 85\n",
      "Task auc_550: 0.984975697775\n",
      "Task feature_importance_top3: ['MGR_ID', 'RESOURCE', 'ROLE_FAMILY_DESC']\n",
      "Task most_important: RESOURCE\n",
      "Task shap_influence: -1\n",
      "Task speedup: 2.761904761904762\n",
      "Task final_auc: 0.9044539794\n"
     ]
    }
   ],
   "source": [
    "STUDENT_EMAIL = \"b.sailer@protonmail.com\"\n",
    "STUDENT_TOKEN = \"gknmtBB3PwAkngdw\"\n",
    "grader.status()"
   ]
  },
  {
   "cell_type": "code",
   "execution_count": 48,
   "metadata": {},
   "outputs": [
    {
     "name": "stdout",
     "output_type": "stream",
     "text": [
      "Submitted to Coursera platform. See results on assignment page!\n"
     ]
    }
   ],
   "source": [
    "grader.submit(STUDENT_EMAIL, STUDENT_TOKEN)"
   ]
  },
  {
   "cell_type": "code",
   "execution_count": null,
   "metadata": {
    "collapsed": true
   },
   "outputs": [],
   "source": []
  }
 ],
 "metadata": {
  "anaconda-cloud": {},
  "kernelspec": {
   "display_name": "Python 3",
   "language": "python",
   "name": "python3"
  },
  "language_info": {
   "codemirror_mode": {
    "name": "ipython",
    "version": 3
   },
   "file_extension": ".py",
   "mimetype": "text/x-python",
   "name": "python",
   "nbconvert_exporter": "python",
   "pygments_lexer": "ipython3",
   "version": "3.6.2"
  }
 },
 "nbformat": 4,
 "nbformat_minor": 2
}
