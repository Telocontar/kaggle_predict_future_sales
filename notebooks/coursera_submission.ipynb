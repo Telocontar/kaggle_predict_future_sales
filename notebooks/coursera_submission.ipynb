{
 "cells": [
  {
   "cell_type": "markdown",
   "metadata": {},
   "source": [
    "# About"
   ]
  },
  {
   "cell_type": "markdown",
   "metadata": {},
   "source": [
    "Data Description\n",
    "\n",
    "You are provided with daily historical sales data. The task is to forecast the total amount of products sold in every shop for the test set. Note that the list of shops and products slightly changes every month. Creating a robust model that can handle such situations is part of the challenge.\n",
    "File descriptions\n",
    "\n",
    "    train.csv - the training set. Daily historical data from January 2013 to October 2015.\n",
    "    test.csv - the test set. You need to forecast the sales for these shops and products for November 2015.\n",
    "    sample_submission.csv - a sample submission file in the correct format.\n",
    "    items.csv - supplemental information about the items/products.\n",
    "    item_categories.csv  - supplemental information about the items categories.\n",
    "    shops.csv- supplemental information about the shops.\n",
    "\n",
    "Data fields\n",
    "\n",
    "    ID - an Id that represents a (Shop, Item) tuple within the test set\n",
    "    shop_id - unique identifier of a shop\n",
    "    item_id - unique identifier of a product\n",
    "    item_category_id - unique identifier of item category\n",
    "    item_cnt_day - number of products sold. You are predicting a monthly amount of this measure\n",
    "    item_price - current price of an item\n",
    "    date - date in format dd/mm/yyyy\n",
    "    date_block_num - a consecutive month number, used for convenience. January 2013 is 0, February 2013 is 1,..., October 2015 is 33\n",
    "    item_name - name of item\n",
    "    shop_name - name of shop\n",
    "    item_category_name - name of item category\n",
    "\n",
    "This dataset is permitted to be used for any purpose, including commercial use.\n"
   ]
  },
  {
   "cell_type": "markdown",
   "metadata": {
    "_uuid": "f03379ee467570732ebb2b3d20062fea0584d57d"
   },
   "source": [
    "# Setup"
   ]
  },
  {
   "cell_type": "code",
   "execution_count": 16,
   "metadata": {
    "ExecuteTime": {
     "end_time": "2022-04-28T18:20:04.973530Z",
     "start_time": "2022-04-28T18:20:04.955477Z"
    }
   },
   "outputs": [],
   "source": [
    "import numpy as np\n",
    "import pandas as pd\n",
    "from itertools import product\n",
    "from datetime import datetime\n",
    "from calendar import monthrange\n",
    "\n",
    "import os\n",
    "import pickle\n",
    "import gc\n",
    "\n",
    "import seaborn as sns\n",
    "import matplotlib.pyplot as plt\n",
    "\n",
    "from sklearn.preprocessing import OrdinalEncoder, LabelEncoder\n",
    "from sklearn.metrics import mean_squared_error\n",
    "from sklearn.model_selection import GridSearchCV\n",
    "\n",
    "from hyperopt import STATUS_OK, Trials, fmin, hp, tpe\n",
    "from xgboost import XGBRegressor, plot_importance\n",
    "\n",
    "from typing import List"
   ]
  },
  {
   "cell_type": "code",
   "execution_count": null,
   "metadata": {},
   "outputs": [],
   "source": []
  },
  {
   "cell_type": "code",
   "execution_count": 3,
   "metadata": {
    "ExecuteTime": {
     "end_time": "2022-04-28T18:07:03.507507Z",
     "start_time": "2022-04-28T18:07:03.494507Z"
    }
   },
   "outputs": [],
   "source": [
    "# increase figure size\n",
    "plt.rcParams[\"figure.figsize\"] = (20, 10)\n",
    "\n",
    "# disable scientific notation\n",
    "pd.set_option('display.float_format', str)"
   ]
  },
  {
   "cell_type": "code",
   "execution_count": 62,
   "metadata": {
    "ExecuteTime": {
     "end_time": "2022-04-28T19:20:19.640599Z",
     "start_time": "2022-04-28T19:20:19.622576Z"
    }
   },
   "outputs": [],
   "source": [
    "# set this variable to True, if your local file structure is the same as on the kaggle notebook\n",
    "run_on_kaggle = False\n",
    "\n",
    "if run_on_kaggle:\n",
    "    input_path = '/kaggle/input/'\n",
    "    data_path = input_path + \"competitive-data-science-predict-future-sales/\"\n",
    "    output_path = \"output/\"\n",
    "else:\n",
    "    input_path = '../data/'\n",
    "    data_path = input_path\n",
    "    output_path = \"../output/\""
   ]
  },
  {
   "cell_type": "code",
   "execution_count": 63,
   "metadata": {
    "ExecuteTime": {
     "end_time": "2022-04-28T19:20:19.828935Z",
     "start_time": "2022-04-28T19:20:19.813884Z"
    }
   },
   "outputs": [],
   "source": [
    "if not os.path.exists(output_path):\n",
    "    os.makedirs(output_path)"
   ]
  },
  {
   "cell_type": "code",
   "execution_count": null,
   "metadata": {},
   "outputs": [],
   "source": []
  },
  {
   "cell_type": "markdown",
   "metadata": {},
   "source": [
    "# Data import"
   ]
  },
  {
   "cell_type": "markdown",
   "metadata": {},
   "source": [
    "## train/test data"
   ]
  },
  {
   "cell_type": "code",
   "execution_count": 12,
   "metadata": {
    "ExecuteTime": {
     "end_time": "2022-04-28T18:08:32.097752Z",
     "start_time": "2022-04-28T18:08:29.831799Z"
    }
   },
   "outputs": [],
   "source": [
    "# train.csv - the training set. Daily historical data from January 2013 to October 2015.\n",
    "train = pd.read_csv(data_path + \"sales_train.csv\")\n",
    "\n",
    "# test.csv - the test set. You need to forecast the sales for these shops and products for November 2015.\n",
    "test = pd.read_csv(data_path + \"test.csv\").set_index('ID')"
   ]
  },
  {
   "cell_type": "code",
   "execution_count": null,
   "metadata": {},
   "outputs": [],
   "source": []
  },
  {
   "cell_type": "markdown",
   "metadata": {},
   "source": [
    "## supplemental data"
   ]
  },
  {
   "cell_type": "code",
   "execution_count": 171,
   "metadata": {
    "ExecuteTime": {
     "end_time": "2022-04-26T19:52:33.697921Z",
     "start_time": "2022-04-26T19:52:33.621901Z"
    }
   },
   "outputs": [],
   "source": [
    "# items.csv - supplemental information about the items/products.\n",
    "items = pd.read_csv(data_path + \"items.csv\")\n",
    "\n",
    "# item_categories.csv  - supplemental information about the items categories.\n",
    "item_categories = pd.read_csv(data_path + \"item_categories.csv\")\n",
    "\n",
    "# shops.csv- supplemental information about the shops.\n",
    "shops = pd.read_csv(data_path + \"shops.csv\")"
   ]
  },
  {
   "cell_type": "code",
   "execution_count": null,
   "metadata": {},
   "outputs": [],
   "source": []
  },
  {
   "cell_type": "markdown",
   "metadata": {},
   "source": [
    "## sample submission"
   ]
  },
  {
   "cell_type": "code",
   "execution_count": 172,
   "metadata": {
    "ExecuteTime": {
     "end_time": "2022-04-26T19:52:33.790909Z",
     "start_time": "2022-04-26T19:52:33.699900Z"
    }
   },
   "outputs": [],
   "source": [
    "# sample_submission.csv - a sample submission file in the correct format.\n",
    "sample_submission = pd.read_csv(data_path + \"sample_submission.csv\")"
   ]
  },
  {
   "cell_type": "code",
   "execution_count": null,
   "metadata": {},
   "outputs": [],
   "source": []
  },
  {
   "cell_type": "markdown",
   "metadata": {},
   "source": [
    "# Exploratory data analysis"
   ]
  },
  {
   "cell_type": "markdown",
   "metadata": {},
   "source": [
    "## basic statistics"
   ]
  },
  {
   "cell_type": "markdown",
   "metadata": {},
   "source": [
    "### train data"
   ]
  },
  {
   "cell_type": "code",
   "execution_count": 173,
   "metadata": {
    "ExecuteTime": {
     "end_time": "2022-04-26T19:52:33.821901Z",
     "start_time": "2022-04-26T19:52:33.795901Z"
    }
   },
   "outputs": [
    {
     "data": {
      "text/html": [
       "<div>\n",
       "<style scoped>\n",
       "    .dataframe tbody tr th:only-of-type {\n",
       "        vertical-align: middle;\n",
       "    }\n",
       "\n",
       "    .dataframe tbody tr th {\n",
       "        vertical-align: top;\n",
       "    }\n",
       "\n",
       "    .dataframe thead th {\n",
       "        text-align: right;\n",
       "    }\n",
       "</style>\n",
       "<table border=\"1\" class=\"dataframe\">\n",
       "  <thead>\n",
       "    <tr style=\"text-align: right;\">\n",
       "      <th></th>\n",
       "      <th>date</th>\n",
       "      <th>date_block_num</th>\n",
       "      <th>shop_id</th>\n",
       "      <th>item_id</th>\n",
       "      <th>item_price</th>\n",
       "      <th>item_cnt_day</th>\n",
       "    </tr>\n",
       "  </thead>\n",
       "  <tbody>\n",
       "    <tr>\n",
       "      <th>0</th>\n",
       "      <td>02.01.2013</td>\n",
       "      <td>0</td>\n",
       "      <td>59</td>\n",
       "      <td>22154</td>\n",
       "      <td>999.0</td>\n",
       "      <td>1.0</td>\n",
       "    </tr>\n",
       "    <tr>\n",
       "      <th>1</th>\n",
       "      <td>03.01.2013</td>\n",
       "      <td>0</td>\n",
       "      <td>25</td>\n",
       "      <td>2552</td>\n",
       "      <td>899.0</td>\n",
       "      <td>1.0</td>\n",
       "    </tr>\n",
       "    <tr>\n",
       "      <th>2</th>\n",
       "      <td>05.01.2013</td>\n",
       "      <td>0</td>\n",
       "      <td>25</td>\n",
       "      <td>2552</td>\n",
       "      <td>899.0</td>\n",
       "      <td>-1.0</td>\n",
       "    </tr>\n",
       "    <tr>\n",
       "      <th>3</th>\n",
       "      <td>06.01.2013</td>\n",
       "      <td>0</td>\n",
       "      <td>25</td>\n",
       "      <td>2554</td>\n",
       "      <td>1709.05</td>\n",
       "      <td>1.0</td>\n",
       "    </tr>\n",
       "    <tr>\n",
       "      <th>4</th>\n",
       "      <td>15.01.2013</td>\n",
       "      <td>0</td>\n",
       "      <td>25</td>\n",
       "      <td>2555</td>\n",
       "      <td>1099.0</td>\n",
       "      <td>1.0</td>\n",
       "    </tr>\n",
       "  </tbody>\n",
       "</table>\n",
       "</div>"
      ],
      "text/plain": [
       "         date  date_block_num  shop_id  item_id  item_price  item_cnt_day\n",
       "0  02.01.2013               0       59    22154       999.0           1.0\n",
       "1  03.01.2013               0       25     2552       899.0           1.0\n",
       "2  05.01.2013               0       25     2552       899.0          -1.0\n",
       "3  06.01.2013               0       25     2554     1709.05           1.0\n",
       "4  15.01.2013               0       25     2555      1099.0           1.0"
      ]
     },
     "execution_count": 173,
     "metadata": {},
     "output_type": "execute_result"
    }
   ],
   "source": [
    "train.head()"
   ]
  },
  {
   "cell_type": "code",
   "execution_count": 174,
   "metadata": {
    "ExecuteTime": {
     "end_time": "2022-04-26T19:52:33.837964Z",
     "start_time": "2022-04-26T19:52:33.824926Z"
    }
   },
   "outputs": [
    {
     "data": {
      "text/plain": [
       "date               object\n",
       "date_block_num      int64\n",
       "shop_id             int64\n",
       "item_id             int64\n",
       "item_price        float64\n",
       "item_cnt_day      float64\n",
       "dtype: object"
      ]
     },
     "execution_count": 174,
     "metadata": {},
     "output_type": "execute_result"
    }
   ],
   "source": [
    "train.dtypes"
   ]
  },
  {
   "cell_type": "code",
   "execution_count": 175,
   "metadata": {
    "ExecuteTime": {
     "end_time": "2022-04-26T19:52:34.699905Z",
     "start_time": "2022-04-26T19:52:33.840902Z"
    }
   },
   "outputs": [
    {
     "data": {
      "text/html": [
       "<div>\n",
       "<style scoped>\n",
       "    .dataframe tbody tr th:only-of-type {\n",
       "        vertical-align: middle;\n",
       "    }\n",
       "\n",
       "    .dataframe tbody tr th {\n",
       "        vertical-align: top;\n",
       "    }\n",
       "\n",
       "    .dataframe thead th {\n",
       "        text-align: right;\n",
       "    }\n",
       "</style>\n",
       "<table border=\"1\" class=\"dataframe\">\n",
       "  <thead>\n",
       "    <tr style=\"text-align: right;\">\n",
       "      <th></th>\n",
       "      <th>date_block_num</th>\n",
       "      <th>shop_id</th>\n",
       "      <th>item_id</th>\n",
       "      <th>item_price</th>\n",
       "      <th>item_cnt_day</th>\n",
       "    </tr>\n",
       "  </thead>\n",
       "  <tbody>\n",
       "    <tr>\n",
       "      <th>count</th>\n",
       "      <td>2935849.0</td>\n",
       "      <td>2935849.0</td>\n",
       "      <td>2935849.0</td>\n",
       "      <td>2935849.0</td>\n",
       "      <td>2935849.0</td>\n",
       "    </tr>\n",
       "    <tr>\n",
       "      <th>mean</th>\n",
       "      <td>14.56991146343017</td>\n",
       "      <td>33.001728290521754</td>\n",
       "      <td>10197.227056977385</td>\n",
       "      <td>890.8532326980126</td>\n",
       "      <td>1.242640885140891</td>\n",
       "    </tr>\n",
       "    <tr>\n",
       "      <th>std</th>\n",
       "      <td>9.42298770875573</td>\n",
       "      <td>16.226973048333605</td>\n",
       "      <td>6324.297353891169</td>\n",
       "      <td>1729.7996307126623</td>\n",
       "      <td>2.618834430895425</td>\n",
       "    </tr>\n",
       "    <tr>\n",
       "      <th>min</th>\n",
       "      <td>0.0</td>\n",
       "      <td>0.0</td>\n",
       "      <td>0.0</td>\n",
       "      <td>-1.0</td>\n",
       "      <td>-22.0</td>\n",
       "    </tr>\n",
       "    <tr>\n",
       "      <th>25%</th>\n",
       "      <td>7.0</td>\n",
       "      <td>22.0</td>\n",
       "      <td>4476.0</td>\n",
       "      <td>249.0</td>\n",
       "      <td>1.0</td>\n",
       "    </tr>\n",
       "    <tr>\n",
       "      <th>50%</th>\n",
       "      <td>14.0</td>\n",
       "      <td>31.0</td>\n",
       "      <td>9343.0</td>\n",
       "      <td>399.0</td>\n",
       "      <td>1.0</td>\n",
       "    </tr>\n",
       "    <tr>\n",
       "      <th>75%</th>\n",
       "      <td>23.0</td>\n",
       "      <td>47.0</td>\n",
       "      <td>15684.0</td>\n",
       "      <td>999.0</td>\n",
       "      <td>1.0</td>\n",
       "    </tr>\n",
       "    <tr>\n",
       "      <th>max</th>\n",
       "      <td>33.0</td>\n",
       "      <td>59.0</td>\n",
       "      <td>22169.0</td>\n",
       "      <td>307980.0</td>\n",
       "      <td>2169.0</td>\n",
       "    </tr>\n",
       "  </tbody>\n",
       "</table>\n",
       "</div>"
      ],
      "text/plain": [
       "         date_block_num            shop_id            item_id  \\\n",
       "count         2935849.0          2935849.0          2935849.0   \n",
       "mean  14.56991146343017 33.001728290521754 10197.227056977385   \n",
       "std    9.42298770875573 16.226973048333605  6324.297353891169   \n",
       "min                 0.0                0.0                0.0   \n",
       "25%                 7.0               22.0             4476.0   \n",
       "50%                14.0               31.0             9343.0   \n",
       "75%                23.0               47.0            15684.0   \n",
       "max                33.0               59.0            22169.0   \n",
       "\n",
       "              item_price      item_cnt_day  \n",
       "count          2935849.0         2935849.0  \n",
       "mean   890.8532326980126 1.242640885140891  \n",
       "std   1729.7996307126623 2.618834430895425  \n",
       "min                 -1.0             -22.0  \n",
       "25%                249.0               1.0  \n",
       "50%                399.0               1.0  \n",
       "75%                999.0               1.0  \n",
       "max             307980.0            2169.0  "
      ]
     },
     "execution_count": 175,
     "metadata": {},
     "output_type": "execute_result"
    }
   ],
   "source": [
    "train.describe()"
   ]
  },
  {
   "cell_type": "code",
   "execution_count": 176,
   "metadata": {
    "ExecuteTime": {
     "end_time": "2022-04-26T19:52:34.775900Z",
     "start_time": "2022-04-26T19:52:34.702900Z"
    }
   },
   "outputs": [
    {
     "data": {
      "text/plain": [
       "21807"
      ]
     },
     "execution_count": 176,
     "metadata": {},
     "output_type": "execute_result"
    }
   ],
   "source": [
    "# number of items\n",
    "train[\"item_id\"].nunique()"
   ]
  },
  {
   "cell_type": "code",
   "execution_count": 177,
   "metadata": {
    "ExecuteTime": {
     "end_time": "2022-04-26T19:52:34.838900Z",
     "start_time": "2022-04-26T19:52:34.777900Z"
    }
   },
   "outputs": [
    {
     "data": {
      "text/plain": [
       "60"
      ]
     },
     "execution_count": 177,
     "metadata": {},
     "output_type": "execute_result"
    }
   ],
   "source": [
    "# number of shops\n",
    "train[\"shop_id\"].nunique()"
   ]
  },
  {
   "cell_type": "code",
   "execution_count": 178,
   "metadata": {
    "ExecuteTime": {
     "end_time": "2022-04-26T19:52:34.962905Z",
     "start_time": "2022-04-26T19:52:34.841918Z"
    }
   },
   "outputs": [
    {
     "data": {
      "text/plain": [
       "1308420"
      ]
     },
     "execution_count": 178,
     "metadata": {},
     "output_type": "execute_result"
    }
   ],
   "source": [
    "# number of all possible combinations\n",
    "train[\"shop_id\"].nunique() * train[\"item_id\"].nunique()"
   ]
  },
  {
   "cell_type": "code",
   "execution_count": 179,
   "metadata": {
    "ExecuteTime": {
     "end_time": "2022-04-26T19:52:35.025901Z",
     "start_time": "2022-04-26T19:52:34.967901Z"
    }
   },
   "outputs": [
    {
     "data": {
      "text/html": [
       "<div>\n",
       "<style scoped>\n",
       "    .dataframe tbody tr th:only-of-type {\n",
       "        vertical-align: middle;\n",
       "    }\n",
       "\n",
       "    .dataframe tbody tr th {\n",
       "        vertical-align: top;\n",
       "    }\n",
       "\n",
       "    .dataframe thead th {\n",
       "        text-align: right;\n",
       "    }\n",
       "</style>\n",
       "<table border=\"1\" class=\"dataframe\">\n",
       "  <thead>\n",
       "    <tr style=\"text-align: right;\">\n",
       "      <th></th>\n",
       "      <th>date</th>\n",
       "      <th>date_block_num</th>\n",
       "      <th>shop_id</th>\n",
       "      <th>item_id</th>\n",
       "      <th>item_price</th>\n",
       "      <th>item_cnt_day</th>\n",
       "    </tr>\n",
       "  </thead>\n",
       "  <tbody>\n",
       "    <tr>\n",
       "      <th>1953995</th>\n",
       "      <td>21.09.2014</td>\n",
       "      <td>20</td>\n",
       "      <td>5</td>\n",
       "      <td>5037</td>\n",
       "      <td>2599.0</td>\n",
       "      <td>1.0</td>\n",
       "    </tr>\n",
       "    <tr>\n",
       "      <th>2150561</th>\n",
       "      <td>29.11.2014</td>\n",
       "      <td>22</td>\n",
       "      <td>5</td>\n",
       "      <td>5037</td>\n",
       "      <td>2599.0</td>\n",
       "      <td>1.0</td>\n",
       "    </tr>\n",
       "    <tr>\n",
       "      <th>2288630</th>\n",
       "      <td>28.12.2014</td>\n",
       "      <td>23</td>\n",
       "      <td>5</td>\n",
       "      <td>5037</td>\n",
       "      <td>1999.0</td>\n",
       "      <td>1.0</td>\n",
       "    </tr>\n",
       "    <tr>\n",
       "      <th>2288631</th>\n",
       "      <td>20.12.2014</td>\n",
       "      <td>23</td>\n",
       "      <td>5</td>\n",
       "      <td>5037</td>\n",
       "      <td>1999.0</td>\n",
       "      <td>1.0</td>\n",
       "    </tr>\n",
       "    <tr>\n",
       "      <th>2335446</th>\n",
       "      <td>02.01.2015</td>\n",
       "      <td>24</td>\n",
       "      <td>5</td>\n",
       "      <td>5037</td>\n",
       "      <td>1999.0</td>\n",
       "      <td>1.0</td>\n",
       "    </tr>\n",
       "    <tr>\n",
       "      <th>2335447</th>\n",
       "      <td>07.01.2015</td>\n",
       "      <td>24</td>\n",
       "      <td>5</td>\n",
       "      <td>5037</td>\n",
       "      <td>1999.0</td>\n",
       "      <td>1.0</td>\n",
       "    </tr>\n",
       "    <tr>\n",
       "      <th>2618926</th>\n",
       "      <td>29.05.2015</td>\n",
       "      <td>28</td>\n",
       "      <td>5</td>\n",
       "      <td>5037</td>\n",
       "      <td>1299.0</td>\n",
       "      <td>1.0</td>\n",
       "    </tr>\n",
       "    <tr>\n",
       "      <th>2704068</th>\n",
       "      <td>28.06.2015</td>\n",
       "      <td>29</td>\n",
       "      <td>5</td>\n",
       "      <td>5037</td>\n",
       "      <td>1499.0</td>\n",
       "      <td>1.0</td>\n",
       "    </tr>\n",
       "    <tr>\n",
       "      <th>2719247</th>\n",
       "      <td>05.07.2015</td>\n",
       "      <td>30</td>\n",
       "      <td>5</td>\n",
       "      <td>5037</td>\n",
       "      <td>1499.0</td>\n",
       "      <td>1.0</td>\n",
       "    </tr>\n",
       "    <tr>\n",
       "      <th>2810661</th>\n",
       "      <td>14.08.2015</td>\n",
       "      <td>31</td>\n",
       "      <td>5</td>\n",
       "      <td>5037</td>\n",
       "      <td>1499.0</td>\n",
       "      <td>1.0</td>\n",
       "    </tr>\n",
       "    <tr>\n",
       "      <th>2810662</th>\n",
       "      <td>20.08.2015</td>\n",
       "      <td>31</td>\n",
       "      <td>5</td>\n",
       "      <td>5037</td>\n",
       "      <td>749.5</td>\n",
       "      <td>1.0</td>\n",
       "    </tr>\n",
       "    <tr>\n",
       "      <th>2810663</th>\n",
       "      <td>31.08.2015</td>\n",
       "      <td>31</td>\n",
       "      <td>5</td>\n",
       "      <td>5037</td>\n",
       "      <td>749.0</td>\n",
       "      <td>1.0</td>\n",
       "    </tr>\n",
       "    <tr>\n",
       "      <th>2860998</th>\n",
       "      <td>05.09.2015</td>\n",
       "      <td>32</td>\n",
       "      <td>5</td>\n",
       "      <td>5037</td>\n",
       "      <td>749.5</td>\n",
       "      <td>1.0</td>\n",
       "    </tr>\n",
       "  </tbody>\n",
       "</table>\n",
       "</div>"
      ],
      "text/plain": [
       "               date  date_block_num  shop_id  item_id  item_price  \\\n",
       "1953995  21.09.2014              20        5     5037      2599.0   \n",
       "2150561  29.11.2014              22        5     5037      2599.0   \n",
       "2288630  28.12.2014              23        5     5037      1999.0   \n",
       "2288631  20.12.2014              23        5     5037      1999.0   \n",
       "2335446  02.01.2015              24        5     5037      1999.0   \n",
       "2335447  07.01.2015              24        5     5037      1999.0   \n",
       "2618926  29.05.2015              28        5     5037      1299.0   \n",
       "2704068  28.06.2015              29        5     5037      1499.0   \n",
       "2719247  05.07.2015              30        5     5037      1499.0   \n",
       "2810661  14.08.2015              31        5     5037      1499.0   \n",
       "2810662  20.08.2015              31        5     5037       749.5   \n",
       "2810663  31.08.2015              31        5     5037       749.0   \n",
       "2860998  05.09.2015              32        5     5037       749.5   \n",
       "\n",
       "         item_cnt_day  \n",
       "1953995           1.0  \n",
       "2150561           1.0  \n",
       "2288630           1.0  \n",
       "2288631           1.0  \n",
       "2335446           1.0  \n",
       "2335447           1.0  \n",
       "2618926           1.0  \n",
       "2704068           1.0  \n",
       "2719247           1.0  \n",
       "2810661           1.0  \n",
       "2810662           1.0  \n",
       "2810663           1.0  \n",
       "2860998           1.0  "
      ]
     },
     "execution_count": 179,
     "metadata": {},
     "output_type": "execute_result"
    }
   ],
   "source": [
    "# check a certain item at a certain shop\n",
    "train[(train[\"shop_id\"] == 5) & (train[\"item_id\"] == 5037)]"
   ]
  },
  {
   "cell_type": "markdown",
   "metadata": {},
   "source": [
    "### test data"
   ]
  },
  {
   "cell_type": "code",
   "execution_count": 180,
   "metadata": {
    "ExecuteTime": {
     "end_time": "2022-04-26T19:52:35.041901Z",
     "start_time": "2022-04-26T19:52:35.027901Z"
    }
   },
   "outputs": [
    {
     "data": {
      "text/html": [
       "<div>\n",
       "<style scoped>\n",
       "    .dataframe tbody tr th:only-of-type {\n",
       "        vertical-align: middle;\n",
       "    }\n",
       "\n",
       "    .dataframe tbody tr th {\n",
       "        vertical-align: top;\n",
       "    }\n",
       "\n",
       "    .dataframe thead th {\n",
       "        text-align: right;\n",
       "    }\n",
       "</style>\n",
       "<table border=\"1\" class=\"dataframe\">\n",
       "  <thead>\n",
       "    <tr style=\"text-align: right;\">\n",
       "      <th></th>\n",
       "      <th>date</th>\n",
       "      <th>date_block_num</th>\n",
       "      <th>shop_id</th>\n",
       "      <th>item_id</th>\n",
       "      <th>item_price</th>\n",
       "      <th>item_cnt_day</th>\n",
       "    </tr>\n",
       "  </thead>\n",
       "  <tbody>\n",
       "    <tr>\n",
       "      <th>0</th>\n",
       "      <td>02.01.2013</td>\n",
       "      <td>0</td>\n",
       "      <td>59</td>\n",
       "      <td>22154</td>\n",
       "      <td>999.0</td>\n",
       "      <td>1.0</td>\n",
       "    </tr>\n",
       "    <tr>\n",
       "      <th>1</th>\n",
       "      <td>03.01.2013</td>\n",
       "      <td>0</td>\n",
       "      <td>25</td>\n",
       "      <td>2552</td>\n",
       "      <td>899.0</td>\n",
       "      <td>1.0</td>\n",
       "    </tr>\n",
       "    <tr>\n",
       "      <th>2</th>\n",
       "      <td>05.01.2013</td>\n",
       "      <td>0</td>\n",
       "      <td>25</td>\n",
       "      <td>2552</td>\n",
       "      <td>899.0</td>\n",
       "      <td>-1.0</td>\n",
       "    </tr>\n",
       "    <tr>\n",
       "      <th>3</th>\n",
       "      <td>06.01.2013</td>\n",
       "      <td>0</td>\n",
       "      <td>25</td>\n",
       "      <td>2554</td>\n",
       "      <td>1709.05</td>\n",
       "      <td>1.0</td>\n",
       "    </tr>\n",
       "    <tr>\n",
       "      <th>4</th>\n",
       "      <td>15.01.2013</td>\n",
       "      <td>0</td>\n",
       "      <td>25</td>\n",
       "      <td>2555</td>\n",
       "      <td>1099.0</td>\n",
       "      <td>1.0</td>\n",
       "    </tr>\n",
       "  </tbody>\n",
       "</table>\n",
       "</div>"
      ],
      "text/plain": [
       "         date  date_block_num  shop_id  item_id  item_price  item_cnt_day\n",
       "0  02.01.2013               0       59    22154       999.0           1.0\n",
       "1  03.01.2013               0       25     2552       899.0           1.0\n",
       "2  05.01.2013               0       25     2552       899.0          -1.0\n",
       "3  06.01.2013               0       25     2554     1709.05           1.0\n",
       "4  15.01.2013               0       25     2555      1099.0           1.0"
      ]
     },
     "execution_count": 180,
     "metadata": {},
     "output_type": "execute_result"
    }
   ],
   "source": [
    "train.head()"
   ]
  },
  {
   "cell_type": "code",
   "execution_count": 181,
   "metadata": {
    "ExecuteTime": {
     "end_time": "2022-04-26T19:52:35.057901Z",
     "start_time": "2022-04-26T19:52:35.043902Z"
    }
   },
   "outputs": [
    {
     "data": {
      "text/plain": [
       "date               object\n",
       "date_block_num      int64\n",
       "shop_id             int64\n",
       "item_id             int64\n",
       "item_price        float64\n",
       "item_cnt_day      float64\n",
       "dtype: object"
      ]
     },
     "execution_count": 181,
     "metadata": {},
     "output_type": "execute_result"
    }
   ],
   "source": [
    "train.dtypes"
   ]
  },
  {
   "cell_type": "code",
   "execution_count": 182,
   "metadata": {
    "ExecuteTime": {
     "end_time": "2022-04-26T19:52:35.913900Z",
     "start_time": "2022-04-26T19:52:35.060901Z"
    }
   },
   "outputs": [
    {
     "data": {
      "text/html": [
       "<div>\n",
       "<style scoped>\n",
       "    .dataframe tbody tr th:only-of-type {\n",
       "        vertical-align: middle;\n",
       "    }\n",
       "\n",
       "    .dataframe tbody tr th {\n",
       "        vertical-align: top;\n",
       "    }\n",
       "\n",
       "    .dataframe thead th {\n",
       "        text-align: right;\n",
       "    }\n",
       "</style>\n",
       "<table border=\"1\" class=\"dataframe\">\n",
       "  <thead>\n",
       "    <tr style=\"text-align: right;\">\n",
       "      <th></th>\n",
       "      <th>date_block_num</th>\n",
       "      <th>shop_id</th>\n",
       "      <th>item_id</th>\n",
       "      <th>item_price</th>\n",
       "      <th>item_cnt_day</th>\n",
       "    </tr>\n",
       "  </thead>\n",
       "  <tbody>\n",
       "    <tr>\n",
       "      <th>count</th>\n",
       "      <td>2935849.0</td>\n",
       "      <td>2935849.0</td>\n",
       "      <td>2935849.0</td>\n",
       "      <td>2935849.0</td>\n",
       "      <td>2935849.0</td>\n",
       "    </tr>\n",
       "    <tr>\n",
       "      <th>mean</th>\n",
       "      <td>14.56991146343017</td>\n",
       "      <td>33.001728290521754</td>\n",
       "      <td>10197.227056977385</td>\n",
       "      <td>890.8532326980126</td>\n",
       "      <td>1.242640885140891</td>\n",
       "    </tr>\n",
       "    <tr>\n",
       "      <th>std</th>\n",
       "      <td>9.42298770875573</td>\n",
       "      <td>16.226973048333605</td>\n",
       "      <td>6324.297353891169</td>\n",
       "      <td>1729.7996307126623</td>\n",
       "      <td>2.618834430895425</td>\n",
       "    </tr>\n",
       "    <tr>\n",
       "      <th>min</th>\n",
       "      <td>0.0</td>\n",
       "      <td>0.0</td>\n",
       "      <td>0.0</td>\n",
       "      <td>-1.0</td>\n",
       "      <td>-22.0</td>\n",
       "    </tr>\n",
       "    <tr>\n",
       "      <th>25%</th>\n",
       "      <td>7.0</td>\n",
       "      <td>22.0</td>\n",
       "      <td>4476.0</td>\n",
       "      <td>249.0</td>\n",
       "      <td>1.0</td>\n",
       "    </tr>\n",
       "    <tr>\n",
       "      <th>50%</th>\n",
       "      <td>14.0</td>\n",
       "      <td>31.0</td>\n",
       "      <td>9343.0</td>\n",
       "      <td>399.0</td>\n",
       "      <td>1.0</td>\n",
       "    </tr>\n",
       "    <tr>\n",
       "      <th>75%</th>\n",
       "      <td>23.0</td>\n",
       "      <td>47.0</td>\n",
       "      <td>15684.0</td>\n",
       "      <td>999.0</td>\n",
       "      <td>1.0</td>\n",
       "    </tr>\n",
       "    <tr>\n",
       "      <th>max</th>\n",
       "      <td>33.0</td>\n",
       "      <td>59.0</td>\n",
       "      <td>22169.0</td>\n",
       "      <td>307980.0</td>\n",
       "      <td>2169.0</td>\n",
       "    </tr>\n",
       "  </tbody>\n",
       "</table>\n",
       "</div>"
      ],
      "text/plain": [
       "         date_block_num            shop_id            item_id  \\\n",
       "count         2935849.0          2935849.0          2935849.0   \n",
       "mean  14.56991146343017 33.001728290521754 10197.227056977385   \n",
       "std    9.42298770875573 16.226973048333605  6324.297353891169   \n",
       "min                 0.0                0.0                0.0   \n",
       "25%                 7.0               22.0             4476.0   \n",
       "50%                14.0               31.0             9343.0   \n",
       "75%                23.0               47.0            15684.0   \n",
       "max                33.0               59.0            22169.0   \n",
       "\n",
       "              item_price      item_cnt_day  \n",
       "count          2935849.0         2935849.0  \n",
       "mean   890.8532326980126 1.242640885140891  \n",
       "std   1729.7996307126623 2.618834430895425  \n",
       "min                 -1.0             -22.0  \n",
       "25%                249.0               1.0  \n",
       "50%                399.0               1.0  \n",
       "75%                999.0               1.0  \n",
       "max             307980.0            2169.0  "
      ]
     },
     "execution_count": 182,
     "metadata": {},
     "output_type": "execute_result"
    }
   ],
   "source": [
    "train.describe()"
   ]
  },
  {
   "cell_type": "code",
   "execution_count": 183,
   "metadata": {
    "ExecuteTime": {
     "end_time": "2022-04-26T19:52:35.944907Z",
     "start_time": "2022-04-26T19:52:35.916901Z"
    }
   },
   "outputs": [
    {
     "data": {
      "text/plain": [
       "5100"
      ]
     },
     "execution_count": 183,
     "metadata": {},
     "output_type": "execute_result"
    }
   ],
   "source": [
    "# number of items\n",
    "test[\"item_id\"].nunique()"
   ]
  },
  {
   "cell_type": "code",
   "execution_count": 184,
   "metadata": {
    "ExecuteTime": {
     "end_time": "2022-04-26T19:52:35.959900Z",
     "start_time": "2022-04-26T19:52:35.947920Z"
    }
   },
   "outputs": [
    {
     "data": {
      "text/plain": [
       "42"
      ]
     },
     "execution_count": 184,
     "metadata": {},
     "output_type": "execute_result"
    }
   ],
   "source": [
    "# number of shops\n",
    "test[\"shop_id\"].nunique()"
   ]
  },
  {
   "cell_type": "code",
   "execution_count": 185,
   "metadata": {
    "ExecuteTime": {
     "end_time": "2022-04-26T19:52:35.991911Z",
     "start_time": "2022-04-26T19:52:35.962902Z"
    }
   },
   "outputs": [
    {
     "data": {
      "text/plain": [
       "214200"
      ]
     },
     "execution_count": 185,
     "metadata": {},
     "output_type": "execute_result"
    }
   ],
   "source": [
    "# number of all possible combinations\n",
    "test[\"shop_id\"].nunique() * test[\"item_id\"].nunique()"
   ]
  },
  {
   "cell_type": "markdown",
   "metadata": {},
   "source": [
    "We are missing several items and shops from the train data set..."
   ]
  },
  {
   "cell_type": "code",
   "execution_count": 186,
   "metadata": {
    "ExecuteTime": {
     "end_time": "2022-04-26T19:52:36.023901Z",
     "start_time": "2022-04-26T19:52:35.994902Z"
    }
   },
   "outputs": [
    {
     "data": {
      "text/html": [
       "<div>\n",
       "<style scoped>\n",
       "    .dataframe tbody tr th:only-of-type {\n",
       "        vertical-align: middle;\n",
       "    }\n",
       "\n",
       "    .dataframe tbody tr th {\n",
       "        vertical-align: top;\n",
       "    }\n",
       "\n",
       "    .dataframe thead th {\n",
       "        text-align: right;\n",
       "    }\n",
       "</style>\n",
       "<table border=\"1\" class=\"dataframe\">\n",
       "  <thead>\n",
       "    <tr style=\"text-align: right;\">\n",
       "      <th></th>\n",
       "      <th>shop_id</th>\n",
       "      <th>item_id</th>\n",
       "    </tr>\n",
       "    <tr>\n",
       "      <th>ID</th>\n",
       "      <th></th>\n",
       "      <th></th>\n",
       "    </tr>\n",
       "  </thead>\n",
       "  <tbody>\n",
       "    <tr>\n",
       "      <th>0</th>\n",
       "      <td>5</td>\n",
       "      <td>5037</td>\n",
       "    </tr>\n",
       "  </tbody>\n",
       "</table>\n",
       "</div>"
      ],
      "text/plain": [
       "    shop_id  item_id\n",
       "ID                  \n",
       "0         5     5037"
      ]
     },
     "execution_count": 186,
     "metadata": {},
     "output_type": "execute_result"
    }
   ],
   "source": [
    "# check a certain item at a certain shop\n",
    "test[(test[\"shop_id\"] == 5) & (test[\"item_id\"] == 5037)]"
   ]
  },
  {
   "cell_type": "code",
   "execution_count": 187,
   "metadata": {
    "ExecuteTime": {
     "end_time": "2022-04-26T19:52:36.165903Z",
     "start_time": "2022-04-26T19:52:36.026900Z"
    }
   },
   "outputs": [
    {
     "data": {
      "text/html": [
       "<div>\n",
       "<style scoped>\n",
       "    .dataframe tbody tr th:only-of-type {\n",
       "        vertical-align: middle;\n",
       "    }\n",
       "\n",
       "    .dataframe tbody tr th {\n",
       "        vertical-align: top;\n",
       "    }\n",
       "\n",
       "    .dataframe thead th {\n",
       "        text-align: right;\n",
       "    }\n",
       "</style>\n",
       "<table border=\"1\" class=\"dataframe\">\n",
       "  <thead>\n",
       "    <tr style=\"text-align: right;\">\n",
       "      <th></th>\n",
       "      <th>ID</th>\n",
       "      <th>shop_id</th>\n",
       "      <th>item_id</th>\n",
       "      <th>item_cnt_month</th>\n",
       "    </tr>\n",
       "  </thead>\n",
       "  <tbody>\n",
       "    <tr>\n",
       "      <th>0</th>\n",
       "      <td>0</td>\n",
       "      <td>5</td>\n",
       "      <td>5037</td>\n",
       "      <td>0.5</td>\n",
       "    </tr>\n",
       "    <tr>\n",
       "      <th>1</th>\n",
       "      <td>1</td>\n",
       "      <td>5</td>\n",
       "      <td>5320</td>\n",
       "      <td>0.5</td>\n",
       "    </tr>\n",
       "    <tr>\n",
       "      <th>2</th>\n",
       "      <td>2</td>\n",
       "      <td>5</td>\n",
       "      <td>5233</td>\n",
       "      <td>0.5</td>\n",
       "    </tr>\n",
       "    <tr>\n",
       "      <th>3</th>\n",
       "      <td>3</td>\n",
       "      <td>5</td>\n",
       "      <td>5232</td>\n",
       "      <td>0.5</td>\n",
       "    </tr>\n",
       "    <tr>\n",
       "      <th>4</th>\n",
       "      <td>4</td>\n",
       "      <td>5</td>\n",
       "      <td>5268</td>\n",
       "      <td>0.5</td>\n",
       "    </tr>\n",
       "    <tr>\n",
       "      <th>...</th>\n",
       "      <td>...</td>\n",
       "      <td>...</td>\n",
       "      <td>...</td>\n",
       "      <td>...</td>\n",
       "    </tr>\n",
       "    <tr>\n",
       "      <th>214195</th>\n",
       "      <td>214195</td>\n",
       "      <td>45</td>\n",
       "      <td>18454</td>\n",
       "      <td>0.5</td>\n",
       "    </tr>\n",
       "    <tr>\n",
       "      <th>214196</th>\n",
       "      <td>214196</td>\n",
       "      <td>45</td>\n",
       "      <td>16188</td>\n",
       "      <td>0.5</td>\n",
       "    </tr>\n",
       "    <tr>\n",
       "      <th>214197</th>\n",
       "      <td>214197</td>\n",
       "      <td>45</td>\n",
       "      <td>15757</td>\n",
       "      <td>0.5</td>\n",
       "    </tr>\n",
       "    <tr>\n",
       "      <th>214198</th>\n",
       "      <td>214198</td>\n",
       "      <td>45</td>\n",
       "      <td>19648</td>\n",
       "      <td>0.5</td>\n",
       "    </tr>\n",
       "    <tr>\n",
       "      <th>214199</th>\n",
       "      <td>214199</td>\n",
       "      <td>45</td>\n",
       "      <td>969</td>\n",
       "      <td>0.5</td>\n",
       "    </tr>\n",
       "  </tbody>\n",
       "</table>\n",
       "<p>214200 rows × 4 columns</p>\n",
       "</div>"
      ],
      "text/plain": [
       "            ID  shop_id  item_id  item_cnt_month\n",
       "0            0        5     5037             0.5\n",
       "1            1        5     5320             0.5\n",
       "2            2        5     5233             0.5\n",
       "3            3        5     5232             0.5\n",
       "4            4        5     5268             0.5\n",
       "...        ...      ...      ...             ...\n",
       "214195  214195       45    18454             0.5\n",
       "214196  214196       45    16188             0.5\n",
       "214197  214197       45    15757             0.5\n",
       "214198  214198       45    19648             0.5\n",
       "214199  214199       45      969             0.5\n",
       "\n",
       "[214200 rows x 4 columns]"
      ]
     },
     "execution_count": 187,
     "metadata": {},
     "output_type": "execute_result"
    }
   ],
   "source": [
    "# merge with the sample submission\n",
    "pd.merge(test, sample_submission, on=\"ID\")"
   ]
  },
  {
   "cell_type": "code",
   "execution_count": null,
   "metadata": {},
   "outputs": [],
   "source": []
  },
  {
   "cell_type": "markdown",
   "metadata": {},
   "source": [
    "### supplemental data"
   ]
  },
  {
   "cell_type": "markdown",
   "metadata": {},
   "source": [
    "#### items"
   ]
  },
  {
   "cell_type": "code",
   "execution_count": 188,
   "metadata": {
    "ExecuteTime": {
     "end_time": "2022-04-26T19:52:36.181907Z",
     "start_time": "2022-04-26T19:52:36.167900Z"
    }
   },
   "outputs": [
    {
     "data": {
      "text/html": [
       "<div>\n",
       "<style scoped>\n",
       "    .dataframe tbody tr th:only-of-type {\n",
       "        vertical-align: middle;\n",
       "    }\n",
       "\n",
       "    .dataframe tbody tr th {\n",
       "        vertical-align: top;\n",
       "    }\n",
       "\n",
       "    .dataframe thead th {\n",
       "        text-align: right;\n",
       "    }\n",
       "</style>\n",
       "<table border=\"1\" class=\"dataframe\">\n",
       "  <thead>\n",
       "    <tr style=\"text-align: right;\">\n",
       "      <th></th>\n",
       "      <th>item_name</th>\n",
       "      <th>item_id</th>\n",
       "      <th>item_category_id</th>\n",
       "    </tr>\n",
       "  </thead>\n",
       "  <tbody>\n",
       "    <tr>\n",
       "      <th>0</th>\n",
       "      <td>! ВО ВЛАСТИ НАВАЖДЕНИЯ (ПЛАСТ.)         D</td>\n",
       "      <td>0</td>\n",
       "      <td>40</td>\n",
       "    </tr>\n",
       "    <tr>\n",
       "      <th>1</th>\n",
       "      <td>!ABBYY FineReader 12 Professional Edition Full...</td>\n",
       "      <td>1</td>\n",
       "      <td>76</td>\n",
       "    </tr>\n",
       "    <tr>\n",
       "      <th>2</th>\n",
       "      <td>***В ЛУЧАХ СЛАВЫ   (UNV)                    D</td>\n",
       "      <td>2</td>\n",
       "      <td>40</td>\n",
       "    </tr>\n",
       "    <tr>\n",
       "      <th>3</th>\n",
       "      <td>***ГОЛУБАЯ ВОЛНА  (Univ)                      D</td>\n",
       "      <td>3</td>\n",
       "      <td>40</td>\n",
       "    </tr>\n",
       "    <tr>\n",
       "      <th>4</th>\n",
       "      <td>***КОРОБКА (СТЕКЛО)                       D</td>\n",
       "      <td>4</td>\n",
       "      <td>40</td>\n",
       "    </tr>\n",
       "  </tbody>\n",
       "</table>\n",
       "</div>"
      ],
      "text/plain": [
       "                                           item_name  item_id  \\\n",
       "0          ! ВО ВЛАСТИ НАВАЖДЕНИЯ (ПЛАСТ.)         D        0   \n",
       "1  !ABBYY FineReader 12 Professional Edition Full...        1   \n",
       "2      ***В ЛУЧАХ СЛАВЫ   (UNV)                    D        2   \n",
       "3    ***ГОЛУБАЯ ВОЛНА  (Univ)                      D        3   \n",
       "4        ***КОРОБКА (СТЕКЛО)                       D        4   \n",
       "\n",
       "   item_category_id  \n",
       "0                40  \n",
       "1                76  \n",
       "2                40  \n",
       "3                40  \n",
       "4                40  "
      ]
     },
     "execution_count": 188,
     "metadata": {},
     "output_type": "execute_result"
    }
   ],
   "source": [
    "items.head()"
   ]
  },
  {
   "cell_type": "code",
   "execution_count": 189,
   "metadata": {
    "ExecuteTime": {
     "end_time": "2022-04-26T19:52:36.197966Z",
     "start_time": "2022-04-26T19:52:36.183902Z"
    }
   },
   "outputs": [
    {
     "data": {
      "text/plain": [
       "22170"
      ]
     },
     "execution_count": 189,
     "metadata": {},
     "output_type": "execute_result"
    }
   ],
   "source": [
    "items[\"item_id\"].nunique()"
   ]
  },
  {
   "cell_type": "markdown",
   "metadata": {},
   "source": [
    "There are too many different item names to really make use of them..."
   ]
  },
  {
   "cell_type": "code",
   "execution_count": null,
   "metadata": {},
   "outputs": [],
   "source": []
  },
  {
   "cell_type": "markdown",
   "metadata": {},
   "source": [
    "#### item categories"
   ]
  },
  {
   "cell_type": "code",
   "execution_count": 190,
   "metadata": {
    "ExecuteTime": {
     "end_time": "2022-04-26T19:52:36.213899Z",
     "start_time": "2022-04-26T19:52:36.199915Z"
    }
   },
   "outputs": [
    {
     "data": {
      "text/html": [
       "<div>\n",
       "<style scoped>\n",
       "    .dataframe tbody tr th:only-of-type {\n",
       "        vertical-align: middle;\n",
       "    }\n",
       "\n",
       "    .dataframe tbody tr th {\n",
       "        vertical-align: top;\n",
       "    }\n",
       "\n",
       "    .dataframe thead th {\n",
       "        text-align: right;\n",
       "    }\n",
       "</style>\n",
       "<table border=\"1\" class=\"dataframe\">\n",
       "  <thead>\n",
       "    <tr style=\"text-align: right;\">\n",
       "      <th></th>\n",
       "      <th>item_category_name</th>\n",
       "      <th>item_category_id</th>\n",
       "    </tr>\n",
       "  </thead>\n",
       "  <tbody>\n",
       "    <tr>\n",
       "      <th>0</th>\n",
       "      <td>PC - Гарнитуры/Наушники</td>\n",
       "      <td>0</td>\n",
       "    </tr>\n",
       "    <tr>\n",
       "      <th>1</th>\n",
       "      <td>Аксессуары - PS2</td>\n",
       "      <td>1</td>\n",
       "    </tr>\n",
       "    <tr>\n",
       "      <th>2</th>\n",
       "      <td>Аксессуары - PS3</td>\n",
       "      <td>2</td>\n",
       "    </tr>\n",
       "    <tr>\n",
       "      <th>3</th>\n",
       "      <td>Аксессуары - PS4</td>\n",
       "      <td>3</td>\n",
       "    </tr>\n",
       "    <tr>\n",
       "      <th>4</th>\n",
       "      <td>Аксессуары - PSP</td>\n",
       "      <td>4</td>\n",
       "    </tr>\n",
       "  </tbody>\n",
       "</table>\n",
       "</div>"
      ],
      "text/plain": [
       "        item_category_name  item_category_id\n",
       "0  PC - Гарнитуры/Наушники                 0\n",
       "1         Аксессуары - PS2                 1\n",
       "2         Аксессуары - PS3                 2\n",
       "3         Аксессуары - PS4                 3\n",
       "4         Аксессуары - PSP                 4"
      ]
     },
     "execution_count": 190,
     "metadata": {},
     "output_type": "execute_result"
    }
   ],
   "source": [
    "item_categories.head()"
   ]
  },
  {
   "cell_type": "markdown",
   "metadata": {},
   "source": [
    "Column `item_category_name` seems to consist of two categories separated by \"-\"."
   ]
  },
  {
   "cell_type": "code",
   "execution_count": 191,
   "metadata": {
    "ExecuteTime": {
     "end_time": "2022-04-26T19:52:36.229953Z",
     "start_time": "2022-04-26T19:52:36.215902Z"
    }
   },
   "outputs": [
    {
     "data": {
      "text/plain": [
       "84"
      ]
     },
     "execution_count": 191,
     "metadata": {},
     "output_type": "execute_result"
    }
   ],
   "source": [
    "item_categories[\"item_category_name\"].nunique()"
   ]
  },
  {
   "cell_type": "code",
   "execution_count": null,
   "metadata": {},
   "outputs": [],
   "source": []
  },
  {
   "cell_type": "markdown",
   "metadata": {},
   "source": [
    "#### shops"
   ]
  },
  {
   "cell_type": "code",
   "execution_count": 192,
   "metadata": {
    "ExecuteTime": {
     "end_time": "2022-04-26T19:52:36.245902Z",
     "start_time": "2022-04-26T19:52:36.231901Z"
    }
   },
   "outputs": [
    {
     "data": {
      "text/html": [
       "<div>\n",
       "<style scoped>\n",
       "    .dataframe tbody tr th:only-of-type {\n",
       "        vertical-align: middle;\n",
       "    }\n",
       "\n",
       "    .dataframe tbody tr th {\n",
       "        vertical-align: top;\n",
       "    }\n",
       "\n",
       "    .dataframe thead th {\n",
       "        text-align: right;\n",
       "    }\n",
       "</style>\n",
       "<table border=\"1\" class=\"dataframe\">\n",
       "  <thead>\n",
       "    <tr style=\"text-align: right;\">\n",
       "      <th></th>\n",
       "      <th>shop_name</th>\n",
       "      <th>shop_id</th>\n",
       "    </tr>\n",
       "  </thead>\n",
       "  <tbody>\n",
       "    <tr>\n",
       "      <th>0</th>\n",
       "      <td>!Якутск Орджоникидзе, 56 фран</td>\n",
       "      <td>0</td>\n",
       "    </tr>\n",
       "    <tr>\n",
       "      <th>1</th>\n",
       "      <td>!Якутск ТЦ \"Центральный\" фран</td>\n",
       "      <td>1</td>\n",
       "    </tr>\n",
       "    <tr>\n",
       "      <th>2</th>\n",
       "      <td>Адыгея ТЦ \"Мега\"</td>\n",
       "      <td>2</td>\n",
       "    </tr>\n",
       "    <tr>\n",
       "      <th>3</th>\n",
       "      <td>Балашиха ТРК \"Октябрь-Киномир\"</td>\n",
       "      <td>3</td>\n",
       "    </tr>\n",
       "    <tr>\n",
       "      <th>4</th>\n",
       "      <td>Волжский ТЦ \"Волга Молл\"</td>\n",
       "      <td>4</td>\n",
       "    </tr>\n",
       "  </tbody>\n",
       "</table>\n",
       "</div>"
      ],
      "text/plain": [
       "                        shop_name  shop_id\n",
       "0   !Якутск Орджоникидзе, 56 фран        0\n",
       "1   !Якутск ТЦ \"Центральный\" фран        1\n",
       "2                Адыгея ТЦ \"Мега\"        2\n",
       "3  Балашиха ТРК \"Октябрь-Киномир\"        3\n",
       "4        Волжский ТЦ \"Волга Молл\"        4"
      ]
     },
     "execution_count": 192,
     "metadata": {},
     "output_type": "execute_result"
    }
   ],
   "source": [
    "shops.head()"
   ]
  },
  {
   "cell_type": "markdown",
   "metadata": {},
   "source": [
    "First part of `shop_name` is the city, second part the name of the actual shop."
   ]
  },
  {
   "cell_type": "code",
   "execution_count": 193,
   "metadata": {
    "ExecuteTime": {
     "end_time": "2022-04-26T19:52:36.260901Z",
     "start_time": "2022-04-26T19:52:36.247902Z"
    }
   },
   "outputs": [
    {
     "data": {
      "text/plain": [
       "60"
      ]
     },
     "execution_count": 193,
     "metadata": {},
     "output_type": "execute_result"
    }
   ],
   "source": [
    "# number of shops\n",
    "shops[\"shop_name\"].nunique()"
   ]
  },
  {
   "cell_type": "code",
   "execution_count": null,
   "metadata": {},
   "outputs": [],
   "source": []
  },
  {
   "cell_type": "markdown",
   "metadata": {},
   "source": [
    "## data per shop"
   ]
  },
  {
   "cell_type": "code",
   "execution_count": 194,
   "metadata": {
    "ExecuteTime": {
     "end_time": "2022-04-26T19:52:37.367900Z",
     "start_time": "2022-04-26T19:52:36.262931Z"
    }
   },
   "outputs": [
    {
     "data": {
      "text/plain": [
       "Text(0.5, 1.0, 'Total sales per shop')"
      ]
     },
     "execution_count": 194,
     "metadata": {},
     "output_type": "execute_result"
    },
    {
     "data": {
      "image/png": "[encoded data removed]",
      "text/plain": [
       "<Figure size 1440x720 with 1 Axes>"
      ]
     },
     "metadata": {
      "needs_background": "light"
     },
     "output_type": "display_data"
    }
   ],
   "source": [
    "total_sales_per_shop = train.groupby(\"shop_id\", as_index=False)[\"item_cnt_day\"].sum()\n",
    "sns.barplot(x=\"shop_id\", y=\"item_cnt_day\", data=total_sales_per_shop, palette=\"tab10\").set_title(\"Total sales per shop\")"
   ]
  },
  {
   "cell_type": "code",
   "execution_count": 195,
   "metadata": {
    "ExecuteTime": {
     "end_time": "2022-04-26T19:52:38.429902Z",
     "start_time": "2022-04-26T19:52:37.373915Z"
    }
   },
   "outputs": [
    {
     "data": {
      "text/plain": [
       "Text(0.5, 1.0, 'Mean sales per shop')"
      ]
     },
     "execution_count": 195,
     "metadata": {},
     "output_type": "execute_result"
    },
    {
     "data": {
      "image/png": "[encoded data removed]",
      "text/plain": [
       "<Figure size 1440x720 with 1 Axes>"
      ]
     },
     "metadata": {
      "needs_background": "light"
     },
     "output_type": "display_data"
    }
   ],
   "source": [
    "mean_sales_per_shop = train.groupby(\"shop_id\", as_index=False)[\"item_cnt_day\"].mean()\n",
    "sns.barplot(x=\"shop_id\", y=\"item_cnt_day\", data=mean_sales_per_shop, palette=\"tab10\").set_title(\"Mean sales per shop\")"
   ]
  },
  {
   "cell_type": "markdown",
   "metadata": {},
   "source": [
    "## data per month"
   ]
  },
  {
   "cell_type": "code",
   "execution_count": 196,
   "metadata": {
    "ExecuteTime": {
     "end_time": "2022-04-26T19:52:39.017899Z",
     "start_time": "2022-04-26T19:52:38.431900Z"
    }
   },
   "outputs": [
    {
     "data": {
      "text/plain": [
       "Text(0.5, 1.0, 'Total sales per month')"
      ]
     },
     "execution_count": 196,
     "metadata": {},
     "output_type": "execute_result"
    },
    {
     "data": {
      "image/png": "[encoded data removed]",
      "text/plain": [
       "<Figure size 1440x720 with 1 Axes>"
      ]
     },
     "metadata": {
      "needs_background": "light"
     },
     "output_type": "display_data"
    }
   ],
   "source": [
    "total_sales_per_month = train.groupby(\"date_block_num\", as_index=False)[\"item_cnt_day\"].sum()\n",
    "sns.barplot(x=\"date_block_num\", y=\"item_cnt_day\", data=total_sales_per_month, palette=\"tab10\").set_title(\"Total sales per month\")"
   ]
  },
  {
   "cell_type": "code",
   "execution_count": 197,
   "metadata": {
    "ExecuteTime": {
     "end_time": "2022-04-26T19:52:39.586902Z",
     "start_time": "2022-04-26T19:52:39.024924Z"
    }
   },
   "outputs": [
    {
     "data": {
      "text/plain": [
       "Text(0.5, 1.0, 'Total sales per month')"
      ]
     },
     "execution_count": 197,
     "metadata": {},
     "output_type": "execute_result"
    },
    {
     "data": {
      "image/png": "[encoded data removed]",
      "text/plain": [
       "<Figure size 1440x720 with 1 Axes>"
      ]
     },
     "metadata": {
      "needs_background": "light"
     },
     "output_type": "display_data"
    }
   ],
   "source": [
    "mean_sales_per_month = train.groupby(\"date_block_num\", as_index=False)[\"item_cnt_day\"].mean()\n",
    "sns.barplot(x=\"date_block_num\", y=\"item_cnt_day\", data=mean_sales_per_month, palette=\"tab10\").set_title(\"Total sales per month\")"
   ]
  },
  {
   "cell_type": "code",
   "execution_count": null,
   "metadata": {},
   "outputs": [],
   "source": []
  },
  {
   "cell_type": "code",
   "execution_count": null,
   "metadata": {},
   "outputs": [],
   "source": []
  },
  {
   "cell_type": "code",
   "execution_count": null,
   "metadata": {},
   "outputs": [],
   "source": []
  },
  {
   "cell_type": "markdown",
   "metadata": {
    "_uuid": "ed7a190645750a818e29a6291ba2553a91764c7c"
   },
   "source": [
    "## Outliers"
   ]
  },
  {
   "cell_type": "code",
   "execution_count": 198,
   "metadata": {
    "ExecuteTime": {
     "end_time": "2022-04-26T19:52:39.617901Z",
     "start_time": "2022-04-26T19:52:39.589914Z"
    }
   },
   "outputs": [],
   "source": [
    "def check_for_outlier(series: pd.Series, lower_quantile: float = 0.05, upper_quantile: float = 0.95) -> None:\n",
    "    \"\"\"\n",
    "    Checks for outliers by plotting and printing them.\n",
    "    :param series: pd.Series, data to check\n",
    "    :param lower_quantile: float, percentage of the lower quantile\n",
    "    :param upper_quantile: float, percentage of the upper quantile\n",
    "    :return: None\n",
    "    \"\"\"\n",
    "\n",
    "    # describe the data\n",
    "    display(series.describe())\n",
    "\n",
    "    # plot the data\n",
    "    sns.boxplot(x=series)\n",
    "    plt.show()\n",
    "\n",
    "    # plot with adjusted x axis\n",
    "    lower_q = series.quantile(q=lower_quantile)\n",
    "    upper_q = series.quantile(q=upper_quantile)\n",
    "    plt.xlim(lower_q - 0.2, upper_q + 0.2)\n",
    "    sns.boxplot(x=series)\n",
    "    plt.show()"
   ]
  },
  {
   "cell_type": "markdown",
   "metadata": {},
   "source": [
    "### item_price"
   ]
  },
  {
   "cell_type": "code",
   "execution_count": 199,
   "metadata": {
    "ExecuteTime": {
     "end_time": "2022-04-26T19:52:41.469900Z",
     "start_time": "2022-04-26T19:52:39.619902Z"
    }
   },
   "outputs": [
    {
     "data": {
      "text/plain": [
       "count            2935849.0\n",
       "mean     890.8532326980126\n",
       "std     1729.7996307126623\n",
       "min                   -1.0\n",
       "25%                  249.0\n",
       "50%                  399.0\n",
       "75%                  999.0\n",
       "max               307980.0\n",
       "Name: item_price, dtype: float64"
      ]
     },
     "metadata": {},
     "output_type": "display_data"
    },
    {
     "data": {
      "image/png": "[encoded data removed]",
      "text/plain": [
       "<Figure size 1440x720 with 1 Axes>"
      ]
     },
     "metadata": {
      "needs_background": "light"
     },
     "output_type": "display_data"
    },
    {
     "data": {
      "image/png": "[encoded data removed]",
      "text/plain": [
       "<Figure size 1440x720 with 1 Axes>"
      ]
     },
     "metadata": {
      "needs_background": "light"
     },
     "output_type": "display_data"
    }
   ],
   "source": [
    "check_for_outlier(train[\"item_price\"])"
   ]
  },
  {
   "cell_type": "code",
   "execution_count": 200,
   "metadata": {
    "ExecuteTime": {
     "end_time": "2022-04-26T19:52:41.496900Z",
     "start_time": "2022-04-26T19:52:41.472912Z"
    }
   },
   "outputs": [
    {
     "data": {
      "text/html": [
       "<div>\n",
       "<style scoped>\n",
       "    .dataframe tbody tr th:only-of-type {\n",
       "        vertical-align: middle;\n",
       "    }\n",
       "\n",
       "    .dataframe tbody tr th {\n",
       "        vertical-align: top;\n",
       "    }\n",
       "\n",
       "    .dataframe thead th {\n",
       "        text-align: right;\n",
       "    }\n",
       "</style>\n",
       "<table border=\"1\" class=\"dataframe\">\n",
       "  <thead>\n",
       "    <tr style=\"text-align: right;\">\n",
       "      <th></th>\n",
       "      <th>date</th>\n",
       "      <th>date_block_num</th>\n",
       "      <th>shop_id</th>\n",
       "      <th>item_id</th>\n",
       "      <th>item_price</th>\n",
       "      <th>item_cnt_day</th>\n",
       "    </tr>\n",
       "  </thead>\n",
       "  <tbody>\n",
       "    <tr>\n",
       "      <th>484683</th>\n",
       "      <td>15.05.2013</td>\n",
       "      <td>4</td>\n",
       "      <td>32</td>\n",
       "      <td>2973</td>\n",
       "      <td>-1.0</td>\n",
       "      <td>1.0</td>\n",
       "    </tr>\n",
       "  </tbody>\n",
       "</table>\n",
       "</div>"
      ],
      "text/plain": [
       "              date  date_block_num  shop_id  item_id  item_price  item_cnt_day\n",
       "484683  15.05.2013               4       32     2973        -1.0           1.0"
      ]
     },
     "execution_count": 200,
     "metadata": {},
     "output_type": "execute_result"
    }
   ],
   "source": [
    "train[train[\"item_price\"] < 0]"
   ]
  },
  {
   "cell_type": "code",
   "execution_count": null,
   "metadata": {},
   "outputs": [],
   "source": []
  },
  {
   "cell_type": "markdown",
   "metadata": {},
   "source": [
    "### item_cnt_day"
   ]
  },
  {
   "cell_type": "code",
   "execution_count": 201,
   "metadata": {
    "ExecuteTime": {
     "end_time": "2022-04-26T19:52:41.592900Z",
     "start_time": "2022-04-26T19:52:41.498901Z"
    }
   },
   "outputs": [
    {
     "data": {
      "text/plain": [
       "1.0       2629372\n",
       "2.0        194201\n",
       "3.0         47350\n",
       "4.0         19685\n",
       "5.0         10474\n",
       "           ...   \n",
       "251.0           1\n",
       "501.0           1\n",
       "112.0           1\n",
       "164.0           1\n",
       "2169.0          1\n",
       "Name: item_cnt_day, Length: 198, dtype: int64"
      ]
     },
     "execution_count": 201,
     "metadata": {},
     "output_type": "execute_result"
    }
   ],
   "source": [
    "train[\"item_cnt_day\"].value_counts()"
   ]
  },
  {
   "cell_type": "code",
   "execution_count": 202,
   "metadata": {
    "ExecuteTime": {
     "end_time": "2022-04-26T19:52:43.712901Z",
     "start_time": "2022-04-26T19:52:41.594915Z"
    }
   },
   "outputs": [
    {
     "data": {
      "text/plain": [
       "count           2935849.0\n",
       "mean    1.242640885140891\n",
       "std     2.618834430895425\n",
       "min                 -22.0\n",
       "25%                   1.0\n",
       "50%                   1.0\n",
       "75%                   1.0\n",
       "max                2169.0\n",
       "Name: item_cnt_day, dtype: float64"
      ]
     },
     "metadata": {},
     "output_type": "display_data"
    },
    {
     "data": {
      "image/png": "[encoded data removed]",
      "text/plain": [
       "<Figure size 1440x720 with 1 Axes>"
      ]
     },
     "metadata": {
      "needs_background": "light"
     },
     "output_type": "display_data"
    },
    {
     "data": {
      "image/png": "[encoded data removed]",
      "text/plain": [
       "<Figure size 1440x720 with 1 Axes>"
      ]
     },
     "metadata": {
      "needs_background": "light"
     },
     "output_type": "display_data"
    }
   ],
   "source": [
    "check_for_outlier(train[\"item_cnt_day\"])"
   ]
  },
  {
   "cell_type": "code",
   "execution_count": null,
   "metadata": {},
   "outputs": [],
   "source": []
  },
  {
   "cell_type": "markdown",
   "metadata": {},
   "source": [
    "## Preprocessing"
   ]
  },
  {
   "cell_type": "markdown",
   "metadata": {},
   "source": [
    "### clean data"
   ]
  },
  {
   "cell_type": "code",
   "execution_count": 203,
   "metadata": {
    "ExecuteTime": {
     "end_time": "2022-04-26T19:52:43.824857Z",
     "start_time": "2022-04-26T19:52:43.714902Z"
    }
   },
   "outputs": [],
   "source": [
    "# fix negative price with median\n",
    "train.loc[train[\"item_price\"] < 0, 'item_price'] = train[\"item_price\"].median()"
   ]
  },
  {
   "cell_type": "code",
   "execution_count": 204,
   "metadata": {
    "ExecuteTime": {
     "end_time": "2022-04-26T19:52:44.258858Z",
     "start_time": "2022-04-26T19:52:43.826860Z"
    }
   },
   "outputs": [],
   "source": [
    "# filter outlier\n",
    "train = train[train[\"item_price\"] < 2000]\n",
    "train = train[train[\"item_cnt_day\"] < 250]"
   ]
  },
  {
   "cell_type": "markdown",
   "metadata": {
    "_uuid": "62c5f83fa222595da99294f465ab28e80ce415e9"
   },
   "source": [
    "### Aggregate data\n",
    "Since the competition task is to make a monthly prediction, we need to aggregate the data to montly level before doing any encodings. The following code-cell serves just that purpose. \n",
    "(Code based on Mean encodings assignment)"
   ]
  },
  {
   "cell_type": "code",
   "execution_count": 205,
   "metadata": {
    "ExecuteTime": {
     "end_time": "2022-04-26T19:53:01.920856Z",
     "start_time": "2022-04-26T19:52:44.260857Z"
    }
   },
   "outputs": [],
   "source": [
    "# Create \"grid\" with columns\n",
    "index_cols = ['date_block_num', 'shop_id', 'item_id']\n",
    "\n",
    "# For every month we create a grid from all shops/items combinations from that month\n",
    "grid = [] \n",
    "for block_num in train['date_block_num'].unique():\n",
    "    cur_shops = train.loc[train['date_block_num'] == block_num, 'shop_id'].unique()\n",
    "    cur_items = train.loc[train['date_block_num'] == block_num, 'item_id'].unique()\n",
    "    grid.append(np.array(list(product(*[[block_num], cur_shops, cur_items])),dtype='int32'))\n",
    "\n",
    "# Turn the grid into a dataframe\n",
    "grid = pd.DataFrame(np.vstack(grid), columns=index_cols, dtype=np.int32)\n",
    "grid = grid.sort_values(by=index_cols)"
   ]
  },
  {
   "cell_type": "code",
   "execution_count": 206,
   "metadata": {
    "ExecuteTime": {
     "end_time": "2022-04-26T19:53:09.620910Z",
     "start_time": "2022-04-26T19:53:01.923858Z"
    }
   },
   "outputs": [],
   "source": [
    "# Groupby data to get shop-item-month aggregates\n",
    "gb = train.groupby(index_cols, as_index=False).agg(item_cnt_month=('item_cnt_day', 'sum'))\n",
    "\n",
    "all_data = pd.merge(grid, gb, how='left', on=index_cols)\n",
    "\n",
    "# according to the submission file target data is clipped to [0, 20]\n",
    "all_data[\"item_cnt_month\"] = all_data[\"item_cnt_month\"].fillna(0).clip(0, 20)"
   ]
  },
  {
   "cell_type": "code",
   "execution_count": null,
   "metadata": {},
   "outputs": [],
   "source": []
  },
  {
   "cell_type": "markdown",
   "metadata": {},
   "source": [
    "### add n_days for each month"
   ]
  },
  {
   "cell_type": "code",
   "execution_count": 210,
   "metadata": {
    "ExecuteTime": {
     "end_time": "2022-04-26T19:54:36.932463Z",
     "start_time": "2022-04-26T19:54:36.470516Z"
    }
   },
   "outputs": [],
   "source": [
    "train[\"date\"] = pd.to_datetime(train[\"date\"], format=\"%d.%m.%Y\")"
   ]
  },
  {
   "cell_type": "code",
   "execution_count": 211,
   "metadata": {
    "ExecuteTime": {
     "end_time": "2022-04-26T19:54:38.576667Z",
     "start_time": "2022-04-26T19:54:38.557668Z"
    }
   },
   "outputs": [],
   "source": [
    "def get_n_days(series):\n",
    "    series[\"n_days\"] = monthrange(series[\"date\"].year, series[\"date\"].month)[1]\n",
    "    return series"
   ]
  },
  {
   "cell_type": "code",
   "execution_count": 213,
   "metadata": {
    "ExecuteTime": {
     "end_time": "2022-04-26T19:54:45.378816Z",
     "start_time": "2022-04-26T19:54:44.917695Z"
    }
   },
   "outputs": [],
   "source": [
    "n_days_per_month = (\n",
    "    train.groupby(by=\"date_block_num\", as_index=False).nth(0).apply(get_n_days, axis=1)[[\"date_block_num\", \"n_days\"]]\n",
    ")"
   ]
  },
  {
   "cell_type": "code",
   "execution_count": 215,
   "metadata": {
    "ExecuteTime": {
     "end_time": "2022-04-26T19:55:00.519125Z",
     "start_time": "2022-04-26T19:54:58.591126Z"
    }
   },
   "outputs": [],
   "source": [
    "all_data = pd.merge(all_data, n_days_per_month, how='left', on=\"date_block_num\").fillna(0)"
   ]
  },
  {
   "cell_type": "code",
   "execution_count": 216,
   "metadata": {
    "ExecuteTime": {
     "end_time": "2022-04-26T19:55:00.535126Z",
     "start_time": "2022-04-26T19:55:00.522126Z"
    }
   },
   "outputs": [],
   "source": [
    "# test data set is month 34 from the train data set\n",
    "test[\"date_block_num\"] = 34\n",
    "# november does have 30 days\n",
    "test[\"n_days\"] = 30"
   ]
  },
  {
   "cell_type": "code",
   "execution_count": null,
   "metadata": {},
   "outputs": [],
   "source": []
  },
  {
   "cell_type": "markdown",
   "metadata": {
    "_uuid": "315bc6107a93f3926a64fd09ea9244e9281ee41f"
   },
   "source": [
    "### add test data\n",
    "We will use a time based split using month 33 as validation data and month 34 as test data"
   ]
  },
  {
   "cell_type": "code",
   "execution_count": 217,
   "metadata": {
    "ExecuteTime": {
     "end_time": "2022-04-26T19:55:11.430628Z",
     "start_time": "2022-04-26T19:55:11.423628Z"
    }
   },
   "outputs": [],
   "source": [
    "# test data set is month 34 from the train data set\n",
    "test[\"date_block_num\"] = 34"
   ]
  },
  {
   "cell_type": "code",
   "execution_count": 218,
   "metadata": {
    "ExecuteTime": {
     "end_time": "2022-04-26T19:55:12.583393Z",
     "start_time": "2022-04-26T19:55:11.794452Z"
    }
   },
   "outputs": [],
   "source": [
    "# add the test data\n",
    "all_data = pd.concat([all_data, test], ignore_index=True, sort=False, keys=index_cols)\n",
    "all_data = all_data.fillna(0)"
   ]
  },
  {
   "cell_type": "markdown",
   "metadata": {
    "_uuid": "a30f0521464e1fa20444e66d24bbdcb76b93f6de"
   },
   "source": [
    "### add supplemental data"
   ]
  },
  {
   "cell_type": "markdown",
   "metadata": {},
   "source": [
    "#### items + item_categories"
   ]
  },
  {
   "cell_type": "code",
   "execution_count": 219,
   "metadata": {
    "ExecuteTime": {
     "end_time": "2022-04-26T19:55:13.835187Z",
     "start_time": "2022-04-26T19:55:13.816188Z"
    }
   },
   "outputs": [],
   "source": [
    "# item category name consists of a main category and a sub category\n",
    "item_categories[[\"main_category\", \"sub_category\"]] = item_categories[\"item_category_name\"].str.split(\" - \", expand=True)"
   ]
  },
  {
   "cell_type": "code",
   "execution_count": 220,
   "metadata": {
    "ExecuteTime": {
     "end_time": "2022-04-26T19:55:14.068233Z",
     "start_time": "2022-04-26T19:55:14.048234Z"
    }
   },
   "outputs": [
    {
     "data": {
      "text/plain": [
       "20"
      ]
     },
     "execution_count": 220,
     "metadata": {},
     "output_type": "execute_result"
    }
   ],
   "source": [
    "item_categories['main_category'].nunique()"
   ]
  },
  {
   "cell_type": "markdown",
   "metadata": {},
   "source": [
    "20 unique values is a bit too much for a One-Hot-Encoding, so we use a LabelEncoder instead..."
   ]
  },
  {
   "cell_type": "code",
   "execution_count": 221,
   "metadata": {
    "ExecuteTime": {
     "end_time": "2022-04-26T19:55:14.797636Z",
     "start_time": "2022-04-26T19:55:14.782636Z"
    }
   },
   "outputs": [],
   "source": [
    "item_categories[\"main_category_code\"] = LabelEncoder().fit_transform(item_categories['main_category'])"
   ]
  },
  {
   "cell_type": "code",
   "execution_count": 222,
   "metadata": {
    "ExecuteTime": {
     "end_time": "2022-04-26T19:55:15.160723Z",
     "start_time": "2022-04-26T19:55:15.139715Z"
    }
   },
   "outputs": [
    {
     "data": {
      "text/plain": [
       "60"
      ]
     },
     "execution_count": 222,
     "metadata": {},
     "output_type": "execute_result"
    }
   ],
   "source": [
    "item_categories['sub_category'].nunique()"
   ]
  },
  {
   "cell_type": "markdown",
   "metadata": {},
   "source": [
    "Same for the sub_category..."
   ]
  },
  {
   "cell_type": "code",
   "execution_count": 223,
   "metadata": {
    "ExecuteTime": {
     "end_time": "2022-04-26T19:55:15.819362Z",
     "start_time": "2022-04-26T19:55:15.807363Z"
    }
   },
   "outputs": [],
   "source": [
    "item_categories[\"sub_category_code\"] = LabelEncoder().fit_transform(item_categories['sub_category'])"
   ]
  },
  {
   "cell_type": "code",
   "execution_count": 224,
   "metadata": {
    "ExecuteTime": {
     "end_time": "2022-04-26T19:55:16.331897Z",
     "start_time": "2022-04-26T19:55:16.314897Z"
    }
   },
   "outputs": [
    {
     "data": {
      "text/html": [
       "<div>\n",
       "<style scoped>\n",
       "    .dataframe tbody tr th:only-of-type {\n",
       "        vertical-align: middle;\n",
       "    }\n",
       "\n",
       "    .dataframe tbody tr th {\n",
       "        vertical-align: top;\n",
       "    }\n",
       "\n",
       "    .dataframe thead th {\n",
       "        text-align: right;\n",
       "    }\n",
       "</style>\n",
       "<table border=\"1\" class=\"dataframe\">\n",
       "  <thead>\n",
       "    <tr style=\"text-align: right;\">\n",
       "      <th></th>\n",
       "      <th>item_name</th>\n",
       "      <th>item_id</th>\n",
       "      <th>item_category_id</th>\n",
       "    </tr>\n",
       "  </thead>\n",
       "  <tbody>\n",
       "    <tr>\n",
       "      <th>0</th>\n",
       "      <td>! ВО ВЛАСТИ НАВАЖДЕНИЯ (ПЛАСТ.)         D</td>\n",
       "      <td>0</td>\n",
       "      <td>40</td>\n",
       "    </tr>\n",
       "  </tbody>\n",
       "</table>\n",
       "</div>"
      ],
      "text/plain": [
       "                                   item_name  item_id  item_category_id\n",
       "0  ! ВО ВЛАСТИ НАВАЖДЕНИЯ (ПЛАСТ.)         D        0                40"
      ]
     },
     "execution_count": 224,
     "metadata": {},
     "output_type": "execute_result"
    }
   ],
   "source": [
    "items.head(1)"
   ]
  },
  {
   "cell_type": "code",
   "execution_count": 225,
   "metadata": {
    "ExecuteTime": {
     "end_time": "2022-04-26T19:55:16.489908Z",
     "start_time": "2022-04-26T19:55:16.460897Z"
    }
   },
   "outputs": [],
   "source": [
    "# merge with the items\n",
    "items_with_categories = pd.merge(items, item_categories, on=\"item_category_id\", how=\"left\")\n",
    "\n",
    "# drop all columns containing strings\n",
    "items_with_categories = items_with_categories.drop([\"item_name\", \"item_category_name\", \n",
    "                                                    \"main_category\", \"sub_category\"], axis=1)"
   ]
  },
  {
   "cell_type": "code",
   "execution_count": 226,
   "metadata": {
    "ExecuteTime": {
     "end_time": "2022-04-26T19:55:20.046077Z",
     "start_time": "2022-04-26T19:55:16.590897Z"
    }
   },
   "outputs": [],
   "source": [
    "# merge with the data\n",
    "all_data = pd.merge(all_data, items_with_categories, on=\"item_id\", how=\"left\")"
   ]
  },
  {
   "cell_type": "markdown",
   "metadata": {},
   "source": [
    "#### shops"
   ]
  },
  {
   "cell_type": "code",
   "execution_count": 227,
   "metadata": {
    "ExecuteTime": {
     "end_time": "2022-04-26T19:55:20.062077Z",
     "start_time": "2022-04-26T19:55:20.049024Z"
    }
   },
   "outputs": [],
   "source": [
    "# shop is <city shop_name>\n",
    "shops[\"city\"] = shops[\"shop_name\"].apply(lambda x: x.split(\" \")[0])"
   ]
  },
  {
   "cell_type": "code",
   "execution_count": 228,
   "metadata": {
    "ExecuteTime": {
     "end_time": "2022-04-26T19:55:20.158026Z",
     "start_time": "2022-04-26T19:55:20.064050Z"
    }
   },
   "outputs": [],
   "source": [
    "shops_with_categories = shops.copy()\n",
    "shops_with_categories[\"city_code\"] = LabelEncoder().fit_transform(shops_with_categories[\"city\"])\n",
    "\n",
    "# drop all columns containing strings\n",
    "shops_with_categories = shops_with_categories.drop([\"shop_name\", \"city\"], axis=1)"
   ]
  },
  {
   "cell_type": "code",
   "execution_count": 229,
   "metadata": {
    "ExecuteTime": {
     "end_time": "2022-04-26T19:55:22.484023Z",
     "start_time": "2022-04-26T19:55:20.161023Z"
    }
   },
   "outputs": [],
   "source": [
    "# merge with the data\n",
    "all_data = pd.merge(all_data, shops_with_categories, on=\"shop_id\", how=\"left\")"
   ]
  },
  {
   "cell_type": "code",
   "execution_count": null,
   "metadata": {},
   "outputs": [],
   "source": []
  },
  {
   "cell_type": "markdown",
   "metadata": {},
   "source": [
    "## advanced features"
   ]
  },
  {
   "cell_type": "markdown",
   "metadata": {
    "_uuid": "8358b291fdc8e0e7d1b5700974803b3f104715f7"
   },
   "source": [
    "### target lags"
   ]
  },
  {
   "cell_type": "code",
   "execution_count": 230,
   "metadata": {
    "ExecuteTime": {
     "end_time": "2022-04-26T19:55:29.921915Z",
     "start_time": "2022-04-26T19:55:29.913915Z"
    }
   },
   "outputs": [],
   "source": [
    "def add_lag_features(df: pd.DataFrame, lag_months: List[int], col: str) -> pd.DataFrame:\n",
    "    \n",
    "    for lag_month in lag_months:\n",
    "        train_shift = all_data[index_cols + [col]].copy()\n",
    "        train_shift['date_block_num'] = train_shift['date_block_num'] + lag_month\n",
    "        train_shift = train_shift.rename(columns={col: f'{col}_lag_{lag_month}'}) \n",
    "        df = pd.merge(df, train_shift, on=index_cols, how='left')\n",
    "        \n",
    "    return df"
   ]
  },
  {
   "cell_type": "code",
   "execution_count": 231,
   "metadata": {
    "ExecuteTime": {
     "end_time": "2022-04-26T19:56:27.494661Z",
     "start_time": "2022-04-26T19:55:30.961086Z"
    }
   },
   "outputs": [],
   "source": [
    "all_data = add_lag_features(df=all_data, lag_months=[1,2,3,6,12], col='item_cnt_month')"
   ]
  },
  {
   "cell_type": "code",
   "execution_count": null,
   "metadata": {},
   "outputs": [],
   "source": []
  },
  {
   "cell_type": "markdown",
   "metadata": {
    "_uuid": "c67bf4dbcef884ffe9d19c65d37bc4de1f287ef6"
   },
   "source": [
    "### Mean encoded features"
   ]
  },
  {
   "cell_type": "markdown",
   "metadata": {},
   "source": [
    "#### average item_cnt per month"
   ]
  },
  {
   "cell_type": "code",
   "execution_count": 232,
   "metadata": {
    "ExecuteTime": {
     "end_time": "2022-04-26T19:56:46.253665Z",
     "start_time": "2022-04-26T19:56:27.496660Z"
    }
   },
   "outputs": [],
   "source": [
    "item_cnt_mean_per_month = (\n",
    "    all_data.groupby(by=[\"date_block_num\"], as_index=False).agg(item_cnt_mean_per_month=(\"item_cnt_month\", \"mean\"))\n",
    ")\n",
    "all_data = pd.merge(all_data, item_cnt_mean_per_month, how=\"left\", on=[\"date_block_num\"])\n",
    "all_data = add_lag_features(df=all_data, lag_months=[1], col='item_cnt_mean_per_month')\n",
    "all_data = all_data.drop('item_cnt_mean_per_month', axis=1)"
   ]
  },
  {
   "cell_type": "code",
   "execution_count": null,
   "metadata": {},
   "outputs": [],
   "source": []
  },
  {
   "cell_type": "markdown",
   "metadata": {},
   "source": [
    "#### average item_cnt per month and item"
   ]
  },
  {
   "cell_type": "code",
   "execution_count": 233,
   "metadata": {
    "ExecuteTime": {
     "end_time": "2022-04-26T19:57:57.414021Z",
     "start_time": "2022-04-26T19:56:46.255661Z"
    }
   },
   "outputs": [],
   "source": [
    "item_cnt_mean_per_month_and_item = (\n",
    "    all_data\n",
    "    .groupby(by=[\"date_block_num\", \"item_id\"], as_index=False)\n",
    "    .agg(item_cnt_mean_per_month_and_item=(\"item_cnt_month\", \"mean\"))\n",
    ")\n",
    "all_data = pd.merge(all_data, item_cnt_mean_per_month_and_item, how=\"left\", on=[\"date_block_num\", \"item_id\"])\n",
    "all_data = add_lag_features(df=all_data, lag_months=[1,2,3,6,12], col='item_cnt_mean_per_month_and_item')\n",
    "all_data = all_data.drop('item_cnt_mean_per_month_and_item', axis=1)"
   ]
  },
  {
   "cell_type": "code",
   "execution_count": null,
   "metadata": {},
   "outputs": [],
   "source": []
  },
  {
   "cell_type": "markdown",
   "metadata": {},
   "source": [
    "#### average item_cnt per month and shop"
   ]
  },
  {
   "cell_type": "code",
   "execution_count": 234,
   "metadata": {
    "ExecuteTime": {
     "end_time": "2022-04-26T19:59:13.808542Z",
     "start_time": "2022-04-26T19:57:57.417022Z"
    }
   },
   "outputs": [],
   "source": [
    "shop_mean_per_month = (\n",
    "    all_data\n",
    "    .groupby(by=[\"date_block_num\", \"shop_id\"], as_index=False)\n",
    "    .agg(shop_mean_per_month=(\"item_cnt_month\", \"mean\"))\n",
    ")\n",
    "all_data = pd.merge(all_data, shop_mean_per_month, how=\"left\", on=[\"date_block_num\", \"shop_id\"])\n",
    "all_data = add_lag_features(df=all_data, lag_months=[1,2,3,6,12], col='shop_mean_per_month')\n",
    "all_data = all_data.drop('shop_mean_per_month', axis=1)"
   ]
  },
  {
   "cell_type": "code",
   "execution_count": null,
   "metadata": {},
   "outputs": [],
   "source": []
  },
  {
   "cell_type": "markdown",
   "metadata": {},
   "source": [
    "#### average item_cnt per month and item category"
   ]
  },
  {
   "cell_type": "code",
   "execution_count": 235,
   "metadata": {
    "ExecuteTime": {
     "end_time": "2022-04-26T19:59:45.273910Z",
     "start_time": "2022-04-26T19:59:13.810560Z"
    }
   },
   "outputs": [],
   "source": [
    "category_mean_per_month = (\n",
    "    all_data\n",
    "    .groupby(by=[\"date_block_num\", \"item_category_id\"], as_index=False)\n",
    "    .agg(category_mean_per_month=(\"item_cnt_month\", \"mean\"))\n",
    ")\n",
    "all_data = pd.merge(all_data, category_mean_per_month, how=\"left\", on=[\"date_block_num\", \"item_category_id\"])\n",
    "all_data = add_lag_features(df=all_data, lag_months=[1], col=\"category_mean_per_month\")\n",
    "all_data = all_data.drop(\"category_mean_per_month\", axis=1)"
   ]
  },
  {
   "cell_type": "code",
   "execution_count": null,
   "metadata": {},
   "outputs": [],
   "source": []
  },
  {
   "cell_type": "markdown",
   "metadata": {},
   "source": [
    "#### average item_cnt per month, shop and item category"
   ]
  },
  {
   "cell_type": "code",
   "execution_count": 236,
   "metadata": {
    "ExecuteTime": {
     "end_time": "2022-04-26T20:00:20.007123Z",
     "start_time": "2022-04-26T19:59:45.276910Z"
    }
   },
   "outputs": [],
   "source": [
    "shop_and_category_mean_per_month = (\n",
    "    all_data\n",
    "    .groupby(by=[\"date_block_num\", \"shop_id\", \"item_category_id\"], as_index=False)\n",
    "    .agg(shop_and_category_mean_per_month=(\"item_cnt_month\", \"mean\"))\n",
    ")\n",
    "all_data = pd.merge(all_data, shop_and_category_mean_per_month, how=\"left\", \n",
    "                    on=[\"date_block_num\", \"shop_id\", \"item_category_id\"])\n",
    "all_data = add_lag_features(df=all_data, lag_months=[1], col=\"shop_and_category_mean_per_month\")\n",
    "all_data = all_data.drop(\"shop_and_category_mean_per_month\", axis=1)"
   ]
  },
  {
   "cell_type": "code",
   "execution_count": null,
   "metadata": {},
   "outputs": [],
   "source": []
  },
  {
   "cell_type": "code",
   "execution_count": null,
   "metadata": {},
   "outputs": [],
   "source": []
  },
  {
   "cell_type": "markdown",
   "metadata": {
    "_uuid": "966cb34ccfe849fbb3707d93270691cb8eef7a89"
   },
   "source": [
    "### Cleaning up\n",
    "We can't calculate the lag features for the data younger than 12 months, so we exclude the data from the train set"
   ]
  },
  {
   "cell_type": "code",
   "execution_count": 237,
   "metadata": {
    "ExecuteTime": {
     "end_time": "2022-04-26T20:00:21.660081Z",
     "start_time": "2022-04-26T20:00:20.010050Z"
    }
   },
   "outputs": [],
   "source": [
    "# we can't calculate the lag features for the data younger than the max_lag_month, so we exclude the data from the \n",
    "# train set\n",
    "# max_lag_month = max(lag_months)\n",
    "all_data = all_data[all_data[\"date_block_num\"] > 11]"
   ]
  },
  {
   "cell_type": "code",
   "execution_count": 238,
   "metadata": {
    "ExecuteTime": {
     "end_time": "2022-04-26T20:00:23.045076Z",
     "start_time": "2022-04-26T20:00:21.662075Z"
    }
   },
   "outputs": [],
   "source": [
    "all_data = all_data.fillna(0)"
   ]
  },
  {
   "cell_type": "code",
   "execution_count": 239,
   "metadata": {
    "ExecuteTime": {
     "end_time": "2022-04-26T20:00:33.283845Z",
     "start_time": "2022-04-26T20:00:23.048078Z"
    }
   },
   "outputs": [],
   "source": [
    "# save data to file\n",
    "all_data.to_pickle(f\"{input_path}all_data.pkl\")"
   ]
  },
  {
   "cell_type": "code",
   "execution_count": null,
   "metadata": {},
   "outputs": [],
   "source": []
  },
  {
   "cell_type": "code",
   "execution_count": 240,
   "metadata": {
    "ExecuteTime": {
     "end_time": "2022-04-26T20:00:37.954880Z",
     "start_time": "2022-04-26T20:00:33.347831Z"
    }
   },
   "outputs": [],
   "source": [
    "# free memory by deleting the large data frames\n",
    "del train\n",
    "del grid\n",
    "del all_data\n",
    "gc.collect();"
   ]
  },
  {
   "cell_type": "markdown",
   "metadata": {
    "_uuid": "b69932efb440af8f6435f3cd802fbcd15682af71",
    "collapsed": true
   },
   "source": [
    "# Model training"
   ]
  },
  {
   "cell_type": "code",
   "execution_count": 5,
   "metadata": {
    "ExecuteTime": {
     "end_time": "2022-04-28T18:07:16.567327Z",
     "start_time": "2022-04-28T18:07:06.456268Z"
    }
   },
   "outputs": [],
   "source": [
    "data = pd.read_pickle(f\"{input_path}all_data.pkl\")"
   ]
  },
  {
   "cell_type": "code",
   "execution_count": 6,
   "metadata": {
    "ExecuteTime": {
     "end_time": "2022-04-28T18:07:16.583305Z",
     "start_time": "2022-04-28T18:07:16.569305Z"
    }
   },
   "outputs": [
    {
     "data": {
      "text/plain": [
       "Index(['date_block_num', 'shop_id', 'item_id', 'item_cnt_month', 'n_days',\n",
       "       'item_category_id', 'main_category_code', 'sub_category_code',\n",
       "       'city_code', 'item_cnt_month_lag_1', 'item_cnt_month_lag_2',\n",
       "       'item_cnt_month_lag_3', 'item_cnt_month_lag_6', 'item_cnt_month_lag_12',\n",
       "       'item_cnt_mean_per_month_lag_1',\n",
       "       'item_cnt_mean_per_month_and_item_lag_1',\n",
       "       'item_cnt_mean_per_month_and_item_lag_2',\n",
       "       'item_cnt_mean_per_month_and_item_lag_3',\n",
       "       'item_cnt_mean_per_month_and_item_lag_6',\n",
       "       'item_cnt_mean_per_month_and_item_lag_12', 'shop_mean_per_month_lag_1',\n",
       "       'shop_mean_per_month_lag_2', 'shop_mean_per_month_lag_3',\n",
       "       'shop_mean_per_month_lag_6', 'shop_mean_per_month_lag_12',\n",
       "       'category_mean_per_month_lag_1',\n",
       "       'shop_and_category_mean_per_month_lag_1'],\n",
       "      dtype='object')"
      ]
     },
     "execution_count": 6,
     "metadata": {},
     "output_type": "execute_result"
    }
   ],
   "source": [
    "data.columns"
   ]
  },
  {
   "cell_type": "code",
   "execution_count": 7,
   "metadata": {
    "ExecuteTime": {
     "end_time": "2022-04-28T18:07:57.174534Z",
     "start_time": "2022-04-28T18:07:56.100534Z"
    }
   },
   "outputs": [],
   "source": [
    "# unfortunately those features did not lead to a better performance, so we drop them\n",
    "data = data.drop([\"city_code\", \"main_category_code\", \"sub_category_code\"], axis=1)"
   ]
  },
  {
   "cell_type": "markdown",
   "metadata": {},
   "source": [
    "## train test split"
   ]
  },
  {
   "cell_type": "markdown",
   "metadata": {
    "_uuid": "11eb4f2f5ada18aa8993ec55e8c63e80758fc19e"
   },
   "source": [
    "Validation strategy is month 33 for the validation, month 34 for the test set and the rest for the train set."
   ]
  },
  {
   "cell_type": "code",
   "execution_count": 8,
   "metadata": {
    "ExecuteTime": {
     "end_time": "2022-04-28T18:08:02.292587Z",
     "start_time": "2022-04-28T18:07:58.802590Z"
    },
    "_uuid": "9af76d7b80064573a453e5e10c35b76fc31c47a4"
   },
   "outputs": [],
   "source": [
    "X_train = data[data.date_block_num < 33].drop(['item_cnt_month'], axis=1)\n",
    "Y_train = data[data.date_block_num < 33]['item_cnt_month']\n",
    "X_valid = data[data.date_block_num == 33].drop(['item_cnt_month'], axis=1)\n",
    "Y_valid = data[data.date_block_num == 33]['item_cnt_month']\n",
    "X_test = data[data.date_block_num == 34].drop(['item_cnt_month'], axis=1)"
   ]
  },
  {
   "cell_type": "code",
   "execution_count": 9,
   "metadata": {
    "ExecuteTime": {
     "end_time": "2022-04-28T18:08:03.426131Z",
     "start_time": "2022-04-28T18:08:03.212131Z"
    },
    "_uuid": "6ea5437e8949db6d3e54e68b7b0c18cd0befe38c"
   },
   "outputs": [],
   "source": [
    "# free memory\n",
    "del data\n",
    "gc.collect();"
   ]
  },
  {
   "cell_type": "code",
   "execution_count": null,
   "metadata": {},
   "outputs": [],
   "source": []
  },
  {
   "cell_type": "markdown",
   "metadata": {},
   "source": [
    "## XGBoost hyperparameter optimization"
   ]
  },
  {
   "cell_type": "code",
   "execution_count": 24,
   "metadata": {
    "ExecuteTime": {
     "end_time": "2022-04-28T18:26:03.644637Z",
     "start_time": "2022-04-28T18:26:03.620636Z"
    }
   },
   "outputs": [],
   "source": [
    "params = {\n",
    "    \"max_depth\": [6, 8],\n",
    "    \"learning_rate\": [0.1, 0.3, 0.5],\n",
    "    \"n_estimators\": [500, 1000, 2000],\n",
    "    \"colsample_bytree\": [0.3, 0.7],\n",
    "    \"learning_rate\": [0.1, 0.3, 0.5],\n",
    "}"
   ]
  },
  {
   "cell_type": "code",
   "execution_count": 56,
   "metadata": {
    "ExecuteTime": {
     "end_time": "2022-04-28T18:57:28.901820Z",
     "start_time": "2022-04-28T18:57:28.882819Z"
    }
   },
   "outputs": [],
   "source": [
    "xgbr = XGBRegressor(tree_method=\"gpu_hist\", colsample_bytree=0.8, subsample=0.8, eval_metric=\"rmse\", \n",
    "                    early_stopping_rounds=10)"
   ]
  },
  {
   "cell_type": "code",
   "execution_count": 57,
   "metadata": {
    "ExecuteTime": {
     "end_time": "2022-04-28T19:17:56.827914Z",
     "start_time": "2022-04-28T18:57:28.904818Z"
    }
   },
   "outputs": [
    {
     "name": "stdout",
     "output_type": "stream",
     "text": [
      "Fitting 2 folds for each of 36 candidates, totalling 72 fits\n",
      "[CV 1/2] END colsample_bytree=0.3, learning_rate=0.1, max_depth=6, n_estimators=500;, score=-0.655 total time=  24.0s\n",
      "[CV 2/2] END colsample_bytree=0.3, learning_rate=0.1, max_depth=6, n_estimators=500;, score=-0.733 total time=  16.4s\n",
      "[CV 1/2] END colsample_bytree=0.3, learning_rate=0.1, max_depth=6, n_estimators=1000;, score=-0.655 total time=  21.7s\n",
      "[CV 2/2] END colsample_bytree=0.3, learning_rate=0.1, max_depth=6, n_estimators=1000;, score=-0.733 total time=  16.8s\n",
      "[CV 1/2] END colsample_bytree=0.3, learning_rate=0.1, max_depth=6, n_estimators=2000;, score=-0.655 total time=  19.8s\n",
      "[CV 2/2] END colsample_bytree=0.3, learning_rate=0.1, max_depth=6, n_estimators=2000;, score=-0.733 total time=  17.6s\n",
      "[CV 1/2] END colsample_bytree=0.3, learning_rate=0.1, max_depth=8, n_estimators=500;, score=-0.656 total time=  26.7s\n",
      "[CV 2/2] END colsample_bytree=0.3, learning_rate=0.1, max_depth=8, n_estimators=500;, score=-0.725 total time=  18.7s\n",
      "[CV 1/2] END colsample_bytree=0.3, learning_rate=0.1, max_depth=8, n_estimators=1000;, score=-0.656 total time=  26.7s\n",
      "[CV 2/2] END colsample_bytree=0.3, learning_rate=0.1, max_depth=8, n_estimators=1000;, score=-0.725 total time=  19.4s\n",
      "[CV 1/2] END colsample_bytree=0.3, learning_rate=0.1, max_depth=8, n_estimators=2000;, score=-0.656 total time=  26.4s\n",
      "[CV 2/2] END colsample_bytree=0.3, learning_rate=0.1, max_depth=8, n_estimators=2000;, score=-0.725 total time=  21.0s\n",
      "[CV 1/2] END colsample_bytree=0.3, learning_rate=0.3, max_depth=6, n_estimators=500;, score=-0.669 total time=  17.7s\n",
      "[CV 2/2] END colsample_bytree=0.3, learning_rate=0.3, max_depth=6, n_estimators=500;, score=-0.753 total time=  13.2s\n",
      "[CV 1/2] END colsample_bytree=0.3, learning_rate=0.3, max_depth=6, n_estimators=1000;, score=-0.669 total time=  16.5s\n",
      "[CV 2/2] END colsample_bytree=0.3, learning_rate=0.3, max_depth=6, n_estimators=1000;, score=-0.753 total time=  15.7s\n",
      "[CV 1/2] END colsample_bytree=0.3, learning_rate=0.3, max_depth=6, n_estimators=2000;, score=-0.669 total time=  18.0s\n",
      "[CV 2/2] END colsample_bytree=0.3, learning_rate=0.3, max_depth=6, n_estimators=2000;, score=-0.753 total time=  12.0s\n",
      "[CV 1/2] END colsample_bytree=0.3, learning_rate=0.3, max_depth=8, n_estimators=500;, score=-0.677 total time=  19.0s\n",
      "[CV 2/2] END colsample_bytree=0.3, learning_rate=0.3, max_depth=8, n_estimators=500;, score=-0.733 total time=  15.8s\n",
      "[CV 1/2] END colsample_bytree=0.3, learning_rate=0.3, max_depth=8, n_estimators=1000;, score=-0.677 total time=  21.1s\n",
      "[CV 2/2] END colsample_bytree=0.3, learning_rate=0.3, max_depth=8, n_estimators=1000;, score=-0.733 total time=  15.5s\n",
      "[CV 1/2] END colsample_bytree=0.3, learning_rate=0.3, max_depth=8, n_estimators=2000;, score=-0.677 total time=  18.8s\n",
      "[CV 2/2] END colsample_bytree=0.3, learning_rate=0.3, max_depth=8, n_estimators=2000;, score=-0.733 total time=  15.4s\n",
      "[CV 1/2] END colsample_bytree=0.3, learning_rate=0.5, max_depth=6, n_estimators=500;, score=-0.675 total time=  15.5s\n",
      "[CV 2/2] END colsample_bytree=0.3, learning_rate=0.5, max_depth=6, n_estimators=500;, score=-0.742 total time=  16.3s\n",
      "[CV 1/2] END colsample_bytree=0.3, learning_rate=0.5, max_depth=6, n_estimators=1000;, score=-0.675 total time=  15.9s\n",
      "[CV 2/2] END colsample_bytree=0.3, learning_rate=0.5, max_depth=6, n_estimators=1000;, score=-0.742 total time=  14.7s\n",
      "[CV 1/2] END colsample_bytree=0.3, learning_rate=0.5, max_depth=6, n_estimators=2000;, score=-0.675 total time=  17.4s\n",
      "[CV 2/2] END colsample_bytree=0.3, learning_rate=0.5, max_depth=6, n_estimators=2000;, score=-0.742 total time=  16.5s\n",
      "[CV 1/2] END colsample_bytree=0.3, learning_rate=0.5, max_depth=8, n_estimators=500;, score=-0.691 total time=  15.8s\n",
      "[CV 2/2] END colsample_bytree=0.3, learning_rate=0.5, max_depth=8, n_estimators=500;, score=-0.743 total time=  15.1s\n",
      "[CV 1/2] END colsample_bytree=0.3, learning_rate=0.5, max_depth=8, n_estimators=1000;, score=-0.691 total time=  16.3s\n",
      "[CV 2/2] END colsample_bytree=0.3, learning_rate=0.5, max_depth=8, n_estimators=1000;, score=-0.743 total time=  16.7s\n",
      "[CV 1/2] END colsample_bytree=0.3, learning_rate=0.5, max_depth=8, n_estimators=2000;, score=-0.691 total time=  15.8s\n",
      "[CV 2/2] END colsample_bytree=0.3, learning_rate=0.5, max_depth=8, n_estimators=2000;, score=-0.743 total time=  14.6s\n",
      "[CV 1/2] END colsample_bytree=0.7, learning_rate=0.1, max_depth=6, n_estimators=500;, score=-0.654 total time=  16.2s\n",
      "[CV 2/2] END colsample_bytree=0.7, learning_rate=0.1, max_depth=6, n_estimators=500;, score=-0.725 total time=  13.9s\n",
      "[CV 1/2] END colsample_bytree=0.7, learning_rate=0.1, max_depth=6, n_estimators=1000;, score=-0.654 total time=  18.7s\n",
      "[CV 2/2] END colsample_bytree=0.7, learning_rate=0.1, max_depth=6, n_estimators=1000;, score=-0.725 total time=  16.3s\n",
      "[CV 1/2] END colsample_bytree=0.7, learning_rate=0.1, max_depth=6, n_estimators=2000;, score=-0.654 total time=  18.6s\n",
      "[CV 2/2] END colsample_bytree=0.7, learning_rate=0.1, max_depth=6, n_estimators=2000;, score=-0.725 total time=  15.8s\n",
      "[CV 1/2] END colsample_bytree=0.7, learning_rate=0.1, max_depth=8, n_estimators=500;, score=-0.652 total time=  17.7s\n",
      "[CV 2/2] END colsample_bytree=0.7, learning_rate=0.1, max_depth=8, n_estimators=500;, score=-0.713 total time=  19.0s\n",
      "[CV 1/2] END colsample_bytree=0.7, learning_rate=0.1, max_depth=8, n_estimators=1000;, score=-0.652 total time=  20.0s\n",
      "[CV 2/2] END colsample_bytree=0.7, learning_rate=0.1, max_depth=8, n_estimators=1000;, score=-0.713 total time=  16.6s\n",
      "[CV 1/2] END colsample_bytree=0.7, learning_rate=0.1, max_depth=8, n_estimators=2000;, score=-0.652 total time=  18.5s\n",
      "[CV 2/2] END colsample_bytree=0.7, learning_rate=0.1, max_depth=8, n_estimators=2000;, score=-0.713 total time=  18.0s\n",
      "[CV 1/2] END colsample_bytree=0.7, learning_rate=0.3, max_depth=6, n_estimators=500;, score=-0.670 total time=  16.5s\n",
      "[CV 2/2] END colsample_bytree=0.7, learning_rate=0.3, max_depth=6, n_estimators=500;, score=-0.721 total time=  15.5s\n",
      "[CV 1/2] END colsample_bytree=0.7, learning_rate=0.3, max_depth=6, n_estimators=1000;, score=-0.670 total time=  17.4s\n",
      "[CV 2/2] END colsample_bytree=0.7, learning_rate=0.3, max_depth=6, n_estimators=1000;, score=-0.721 total time=  15.2s\n",
      "[CV 1/2] END colsample_bytree=0.7, learning_rate=0.3, max_depth=6, n_estimators=2000;, score=-0.670 total time=  17.8s\n",
      "[CV 2/2] END colsample_bytree=0.7, learning_rate=0.3, max_depth=6, n_estimators=2000;, score=-0.721 total time=  14.0s\n",
      "[CV 1/2] END colsample_bytree=0.7, learning_rate=0.3, max_depth=8, n_estimators=500;, score=-0.662 total time=  14.6s\n",
      "[CV 2/2] END colsample_bytree=0.7, learning_rate=0.3, max_depth=8, n_estimators=500;, score=-0.725 total time=  14.0s\n",
      "[CV 1/2] END colsample_bytree=0.7, learning_rate=0.3, max_depth=8, n_estimators=1000;, score=-0.662 total time=  13.1s\n",
      "[CV 2/2] END colsample_bytree=0.7, learning_rate=0.3, max_depth=8, n_estimators=1000;, score=-0.725 total time=  13.7s\n",
      "[CV 1/2] END colsample_bytree=0.7, learning_rate=0.3, max_depth=8, n_estimators=2000;, score=-0.662 total time=  13.0s\n",
      "[CV 2/2] END colsample_bytree=0.7, learning_rate=0.3, max_depth=8, n_estimators=2000;, score=-0.725 total time=  13.4s\n",
      "[CV 1/2] END colsample_bytree=0.7, learning_rate=0.5, max_depth=6, n_estimators=500;, score=-0.692 total time=  15.9s\n",
      "[CV 2/2] END colsample_bytree=0.7, learning_rate=0.5, max_depth=6, n_estimators=500;, score=-0.739 total time=  12.4s\n",
      "[CV 1/2] END colsample_bytree=0.7, learning_rate=0.5, max_depth=6, n_estimators=1000;, score=-0.692 total time=  16.5s\n",
      "[CV 2/2] END colsample_bytree=0.7, learning_rate=0.5, max_depth=6, n_estimators=1000;, score=-0.739 total time=  13.7s\n",
      "[CV 1/2] END colsample_bytree=0.7, learning_rate=0.5, max_depth=6, n_estimators=2000;, score=-0.692 total time=  16.5s\n",
      "[CV 2/2] END colsample_bytree=0.7, learning_rate=0.5, max_depth=6, n_estimators=2000;, score=-0.739 total time=  12.0s\n",
      "[CV 1/2] END colsample_bytree=0.7, learning_rate=0.5, max_depth=8, n_estimators=500;, score=-0.680 total time=  11.7s\n",
      "[CV 2/2] END colsample_bytree=0.7, learning_rate=0.5, max_depth=8, n_estimators=500;, score=-0.747 total time=  13.3s\n",
      "[CV 1/2] END colsample_bytree=0.7, learning_rate=0.5, max_depth=8, n_estimators=1000;, score=-0.680 total time=  13.8s\n"
     ]
    },
    {
     "name": "stdout",
     "output_type": "stream",
     "text": [
      "[CV 2/2] END colsample_bytree=0.7, learning_rate=0.5, max_depth=8, n_estimators=1000;, score=-0.747 total time=  13.7s\n",
      "[CV 1/2] END colsample_bytree=0.7, learning_rate=0.5, max_depth=8, n_estimators=2000;, score=-0.680 total time=  15.1s\n",
      "[CV 2/2] END colsample_bytree=0.7, learning_rate=0.5, max_depth=8, n_estimators=2000;, score=-0.747 total time=  14.3s\n",
      "Best parameters: {'colsample_bytree': 0.7, 'learning_rate': 0.1, 'max_depth': 8, 'n_estimators': 500}\n",
      "Lowest RMSE:  0.826176579008127\n"
     ]
    }
   ],
   "source": [
    "clf = GridSearchCV(estimator=xgbr, \n",
    "                   param_grid=params,\n",
    "                   scoring='neg_mean_squared_error', \n",
    "                   cv=2,\n",
    "                   error_score=\"raise\",\n",
    "                   verbose=3)\n",
    "clf.fit(X_train, Y_train, eval_set=[(X_train, Y_train), (X_valid, Y_valid)], verbose=False)"
   ]
  },
  {
   "cell_type": "code",
   "execution_count": 58,
   "metadata": {
    "ExecuteTime": {
     "end_time": "2022-04-28T19:18:15.949316Z",
     "start_time": "2022-04-28T19:18:15.931264Z"
    }
   },
   "outputs": [
    {
     "name": "stdout",
     "output_type": "stream",
     "text": [
      "best params: {'colsample_bytree': 0.7, 'learning_rate': 0.1, 'max_depth': 8, 'n_estimators': 500}\n",
      "lowest RMSE: 0.826176579008127\n"
     ]
    }
   ],
   "source": [
    "print(f\"best params: {clf.best_params_}\")\n",
    "print(f\"lowest RMSE: {(-clf.best_score_)**(1/2)}\")"
   ]
  },
  {
   "cell_type": "code",
   "execution_count": null,
   "metadata": {},
   "outputs": [],
   "source": []
  },
  {
   "cell_type": "markdown",
   "metadata": {},
   "source": [
    "## XGBoost Model Training"
   ]
  },
  {
   "cell_type": "code",
   "execution_count": 59,
   "metadata": {
    "ExecuteTime": {
     "end_time": "2022-04-28T19:19:15.345488Z",
     "start_time": "2022-04-28T19:19:03.287797Z"
    }
   },
   "outputs": [
    {
     "name": "stdout",
     "output_type": "stream",
     "text": [
      "[0]\tvalidation_0-rmse:1.08264\tvalidation_1-rmse:1.05071\n",
      "[1]\tvalidation_0-rmse:1.04014\tvalidation_1-rmse:1.02061\n",
      "[2]\tvalidation_0-rmse:1.00474\tvalidation_1-rmse:0.99556\n",
      "[3]\tvalidation_0-rmse:0.97477\tvalidation_1-rmse:0.97536\n",
      "[4]\tvalidation_0-rmse:0.94941\tvalidation_1-rmse:0.95841\n",
      "[5]\tvalidation_0-rmse:0.92809\tvalidation_1-rmse:0.94407\n",
      "[6]\tvalidation_0-rmse:0.90934\tvalidation_1-rmse:0.93148\n",
      "[7]\tvalidation_0-rmse:0.89349\tvalidation_1-rmse:0.92122\n",
      "[8]\tvalidation_0-rmse:0.88111\tvalidation_1-rmse:0.91365\n",
      "[9]\tvalidation_0-rmse:0.86973\tvalidation_1-rmse:0.90606\n",
      "[10]\tvalidation_0-rmse:0.86001\tvalidation_1-rmse:0.89979\n",
      "[11]\tvalidation_0-rmse:0.85180\tvalidation_1-rmse:0.89488\n",
      "[12]\tvalidation_0-rmse:0.84465\tvalidation_1-rmse:0.89053\n",
      "[13]\tvalidation_0-rmse:0.83887\tvalidation_1-rmse:0.88690\n",
      "[14]\tvalidation_0-rmse:0.83383\tvalidation_1-rmse:0.88424\n",
      "[15]\tvalidation_0-rmse:0.82941\tvalidation_1-rmse:0.88154\n",
      "[16]\tvalidation_0-rmse:0.82574\tvalidation_1-rmse:0.87942\n",
      "[17]\tvalidation_0-rmse:0.82271\tvalidation_1-rmse:0.87803\n",
      "[18]\tvalidation_0-rmse:0.81991\tvalidation_1-rmse:0.87687\n",
      "[19]\tvalidation_0-rmse:0.81753\tvalidation_1-rmse:0.87588\n",
      "[20]\tvalidation_0-rmse:0.81535\tvalidation_1-rmse:0.87493\n",
      "[21]\tvalidation_0-rmse:0.81337\tvalidation_1-rmse:0.87404\n",
      "[22]\tvalidation_0-rmse:0.81178\tvalidation_1-rmse:0.87362\n",
      "[23]\tvalidation_0-rmse:0.80996\tvalidation_1-rmse:0.87310\n",
      "[24]\tvalidation_0-rmse:0.80847\tvalidation_1-rmse:0.87289\n",
      "[25]\tvalidation_0-rmse:0.80719\tvalidation_1-rmse:0.87251\n",
      "[26]\tvalidation_0-rmse:0.80604\tvalidation_1-rmse:0.87216\n",
      "[27]\tvalidation_0-rmse:0.80467\tvalidation_1-rmse:0.87186\n",
      "[28]\tvalidation_0-rmse:0.80344\tvalidation_1-rmse:0.87154\n",
      "[29]\tvalidation_0-rmse:0.80243\tvalidation_1-rmse:0.87179\n",
      "[30]\tvalidation_0-rmse:0.80141\tvalidation_1-rmse:0.87189\n",
      "[31]\tvalidation_0-rmse:0.80067\tvalidation_1-rmse:0.87197\n",
      "[32]\tvalidation_0-rmse:0.79954\tvalidation_1-rmse:0.87217\n",
      "[33]\tvalidation_0-rmse:0.79874\tvalidation_1-rmse:0.87189\n",
      "[34]\tvalidation_0-rmse:0.79810\tvalidation_1-rmse:0.87153\n",
      "[35]\tvalidation_0-rmse:0.79733\tvalidation_1-rmse:0.87201\n",
      "[36]\tvalidation_0-rmse:0.79646\tvalidation_1-rmse:0.87250\n",
      "[37]\tvalidation_0-rmse:0.79559\tvalidation_1-rmse:0.87276\n",
      "[38]\tvalidation_0-rmse:0.79509\tvalidation_1-rmse:0.87265\n",
      "[39]\tvalidation_0-rmse:0.79453\tvalidation_1-rmse:0.87258\n",
      "[40]\tvalidation_0-rmse:0.79377\tvalidation_1-rmse:0.87244\n",
      "[41]\tvalidation_0-rmse:0.79302\tvalidation_1-rmse:0.87273\n",
      "[42]\tvalidation_0-rmse:0.79245\tvalidation_1-rmse:0.87241\n",
      "[43]\tvalidation_0-rmse:0.79192\tvalidation_1-rmse:0.87273\n",
      "[44]\tvalidation_0-rmse:0.79131\tvalidation_1-rmse:0.87200\n",
      "[45]\tvalidation_0-rmse:0.79077\tvalidation_1-rmse:0.87193\n",
      "[46]\tvalidation_0-rmse:0.79024\tvalidation_1-rmse:0.87253\n",
      "[47]\tvalidation_0-rmse:0.78988\tvalidation_1-rmse:0.87265\n",
      "[48]\tvalidation_0-rmse:0.78961\tvalidation_1-rmse:0.87242\n",
      "[49]\tvalidation_0-rmse:0.78919\tvalidation_1-rmse:0.87264\n",
      "[50]\tvalidation_0-rmse:0.78878\tvalidation_1-rmse:0.87262\n",
      "[51]\tvalidation_0-rmse:0.78833\tvalidation_1-rmse:0.87282\n",
      "[52]\tvalidation_0-rmse:0.78783\tvalidation_1-rmse:0.87309\n",
      "[53]\tvalidation_0-rmse:0.78755\tvalidation_1-rmse:0.87310\n",
      "[54]\tvalidation_0-rmse:0.78718\tvalidation_1-rmse:0.87289\n",
      "[55]\tvalidation_0-rmse:0.78652\tvalidation_1-rmse:0.87252\n",
      "[56]\tvalidation_0-rmse:0.78606\tvalidation_1-rmse:0.87213\n",
      "[57]\tvalidation_0-rmse:0.78570\tvalidation_1-rmse:0.87219\n",
      "[58]\tvalidation_0-rmse:0.78538\tvalidation_1-rmse:0.87235\n"
     ]
    },
    {
     "data": {
      "text/plain": [
       "XGBRegressor(base_score=0.5, booster='gbtree', callbacks=None,\n",
       "             colsample_bylevel=1, colsample_bynode=1, colsample_bytree=0.7,\n",
       "             early_stopping_rounds=25, enable_categorical=False,\n",
       "             eval_metric='rmse', gamma=0, gpu_id=0, grow_policy='depthwise',\n",
       "             importance_type=None, interaction_constraints='',\n",
       "             learning_rate=0.1, max_bin=256, max_cat_to_onehot=4,\n",
       "             max_delta_step=0, max_depth=8, max_leaves=0, min_child_weight=300,\n",
       "             missing=nan, monotone_constraints='()', n_estimators=500, n_jobs=0,\n",
       "             num_parallel_tree=1, predictor='auto', random_state=0, reg_alpha=0,\n",
       "             reg_lambda=1, ...)"
      ]
     },
     "execution_count": 59,
     "metadata": {},
     "output_type": "execute_result"
    }
   ],
   "source": [
    "model = XGBRegressor(\n",
    "    max_depth=8,\n",
    "    n_estimators=500,\n",
    "    min_child_weight=300, \n",
    "    colsample_bytree=0.7, \n",
    "    subsample=0.8, \n",
    "    learning_rate=0.1,    \n",
    "    tree_method=\"gpu_hist\",\n",
    "    early_stopping_rounds=25,\n",
    "    eval_metric=\"rmse\")\n",
    "\n",
    "model.fit(\n",
    "    X_train, \n",
    "    Y_train, \n",
    "    verbose=True, \n",
    "    eval_set=[(X_train, Y_train), (X_valid, Y_valid)],\n",
    "    )"
   ]
  },
  {
   "cell_type": "code",
   "execution_count": 67,
   "metadata": {
    "ExecuteTime": {
     "end_time": "2022-04-28T19:25:22.157322Z",
     "start_time": "2022-04-28T19:25:22.090322Z"
    }
   },
   "outputs": [],
   "source": [
    "# save the model\n",
    "model.save_model(f'{output_path}xgb_model.json')"
   ]
  },
  {
   "cell_type": "markdown",
   "metadata": {},
   "source": [
    "## create submission"
   ]
  },
  {
   "cell_type": "code",
   "execution_count": 75,
   "metadata": {
    "ExecuteTime": {
     "end_time": "2022-04-28T19:27:43.591781Z",
     "start_time": "2022-04-28T19:27:43.525782Z"
    }
   },
   "outputs": [],
   "source": [
    "# load the trained model\n",
    "trained_model = XGBRegressor()\n",
    "trained_model.load_model(f'{output_path}xgb_model.json')"
   ]
  },
  {
   "cell_type": "code",
   "execution_count": 64,
   "metadata": {
    "ExecuteTime": {
     "end_time": "2022-04-28T19:20:27.921524Z",
     "start_time": "2022-04-28T19:20:26.477976Z"
    },
    "_uuid": "8ff5a80a22d046c5ca1cb27e938c757b607551d2"
   },
   "outputs": [],
   "source": [
    "Y_test = trained_model.predict(X_test).clip(0, 20)\n",
    "\n",
    "submission = pd.DataFrame({\n",
    "    \"ID\": test.index, \n",
    "    \"item_cnt_month\": Y_test\n",
    "})\n",
    "submission.to_csv(f'{output_path}xgb_submission.csv', index=False)"
   ]
  },
  {
   "cell_type": "code",
   "execution_count": 65,
   "metadata": {
    "ExecuteTime": {
     "end_time": "2022-04-28T19:21:25.937688Z",
     "start_time": "2022-04-28T19:21:22.561467Z"
    }
   },
   "outputs": [
    {
     "data": {
      "text/plain": [
       "<AxesSubplot:title={'center':'Feature importance'}, xlabel='F score', ylabel='Features'>"
      ]
     },
     "execution_count": 65,
     "metadata": {},
     "output_type": "execute_result"
    },
    {
     "data": {
      "image/png": "[encoded data removed]",
      "text/plain": [
       "<Figure size 1440x720 with 1 Axes>"
      ]
     },
     "metadata": {
      "needs_background": "light"
     },
     "output_type": "display_data"
    }
   ],
   "source": [
    "plot_importance(booster=model)"
   ]
  },
  {
   "cell_type": "code",
   "execution_count": null,
   "metadata": {},
   "outputs": [],
   "source": []
  },
  {
   "cell_type": "code",
   "execution_count": null,
   "metadata": {},
   "outputs": [],
   "source": []
  }
 ],
 "metadata": {
  "kernelspec": {
   "display_name": "Python 3 (ipykernel)",
   "language": "python",
   "name": "python3"
  },
  "language_info": {
   "codemirror_mode": {
    "name": "ipython",
    "version": 3
   },
   "file_extension": ".py",
   "mimetype": "text/x-python",
   "name": "python",
   "nbconvert_exporter": "python",
   "pygments_lexer": "ipython3",
   "version": "3.7.10"
  },
  "toc": {
   "base_numbering": 1,
   "nav_menu": {},
   "number_sections": true,
   "sideBar": true,
   "skip_h1_title": false,
   "title_cell": "Table of Contents",
   "title_sidebar": "Contents",
   "toc_cell": false,
   "toc_position": {
    "height": "calc(100% - 180px)",
    "left": "10px",
    "top": "150px",
    "width": "384px"
   },
   "toc_section_display": true,
   "toc_window_display": true
  }
 },
 "nbformat": 4,
 "nbformat_minor": 1
}
