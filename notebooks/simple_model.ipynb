{
 "cells": [
  {
   "cell_type": "markdown",
   "metadata": {
    "toc": true
   },
   "source": [
    "<h1>Table of Contents<span class=\"tocSkip\"></span></h1>\n",
    "<div class=\"toc\"><ul class=\"toc-item\"><li><span><a href=\"#About\" data-toc-modified-id=\"About-1\"><span class=\"toc-item-num\">1&nbsp;&nbsp;</span>About</a></span></li><li><span><a href=\"#Setup\" data-toc-modified-id=\"Setup-2\"><span class=\"toc-item-num\">2&nbsp;&nbsp;</span>Setup</a></span></li><li><span><a href=\"#Data-import\" data-toc-modified-id=\"Data-import-3\"><span class=\"toc-item-num\">3&nbsp;&nbsp;</span>Data import</a></span><ul class=\"toc-item\"><li><span><a href=\"#Data\" data-toc-modified-id=\"Data-3.1\"><span class=\"toc-item-num\">3.1&nbsp;&nbsp;</span>Data</a></span><ul class=\"toc-item\"><li><span><a href=\"#train/test-data\" data-toc-modified-id=\"train/test-data-3.1.1\"><span class=\"toc-item-num\">3.1.1&nbsp;&nbsp;</span>train/test data</a></span></li><li><span><a href=\"#supplemental-data\" data-toc-modified-id=\"supplemental-data-3.1.2\"><span class=\"toc-item-num\">3.1.2&nbsp;&nbsp;</span>supplemental data</a></span></li><li><span><a href=\"#sample-submission\" data-toc-modified-id=\"sample-submission-3.1.3\"><span class=\"toc-item-num\">3.1.3&nbsp;&nbsp;</span>sample submission</a></span></li></ul></li></ul></li><li><span><a href=\"#Exploratory-data-analysis\" data-toc-modified-id=\"Exploratory-data-analysis-4\"><span class=\"toc-item-num\">4&nbsp;&nbsp;</span>Exploratory data analysis</a></span><ul class=\"toc-item\"><li><span><a href=\"#check-some-basic-statistics\" data-toc-modified-id=\"check-some-basic-statistics-4.1\"><span class=\"toc-item-num\">4.1&nbsp;&nbsp;</span>check some basic statistics</a></span><ul class=\"toc-item\"><li><span><a href=\"#train-set\" data-toc-modified-id=\"train-set-4.1.1\"><span class=\"toc-item-num\">4.1.1&nbsp;&nbsp;</span>train set</a></span></li><li><span><a href=\"#test-set\" data-toc-modified-id=\"test-set-4.1.2\"><span class=\"toc-item-num\">4.1.2&nbsp;&nbsp;</span>test set</a></span></li></ul></li><li><span><a href=\"#per-shop\" data-toc-modified-id=\"per-shop-4.2\"><span class=\"toc-item-num\">4.2&nbsp;&nbsp;</span>per shop</a></span></li><li><span><a href=\"#deal-with-outliers\" data-toc-modified-id=\"deal-with-outliers-4.3\"><span class=\"toc-item-num\">4.3&nbsp;&nbsp;</span>deal with outliers</a></span><ul class=\"toc-item\"><li><span><a href=\"#item_price\" data-toc-modified-id=\"item_price-4.3.1\"><span class=\"toc-item-num\">4.3.1&nbsp;&nbsp;</span>item_price</a></span></li><li><span><a href=\"#item_cnt_day\" data-toc-modified-id=\"item_cnt_day-4.3.2\"><span class=\"toc-item-num\">4.3.2&nbsp;&nbsp;</span>item_cnt_day</a></span></li></ul></li><li><span><a href=\"#other\" data-toc-modified-id=\"other-4.4\"><span class=\"toc-item-num\">4.4&nbsp;&nbsp;</span>other</a></span></li></ul></li><li><span><a href=\"#model-training\" data-toc-modified-id=\"model-training-5\"><span class=\"toc-item-num\">5&nbsp;&nbsp;</span>model training</a></span><ul class=\"toc-item\"><li><span><a href=\"#data-preprocessing\" data-toc-modified-id=\"data-preprocessing-5.1\"><span class=\"toc-item-num\">5.1&nbsp;&nbsp;</span>data preprocessing</a></span><ul class=\"toc-item\"><li><span><a href=\"#aggregate-data-to-monthly-level\" data-toc-modified-id=\"aggregate-data-to-monthly-level-5.1.1\"><span class=\"toc-item-num\">5.1.1&nbsp;&nbsp;</span>aggregate data to monthly level</a></span></li><li><span><a href=\"#add-test-data\" data-toc-modified-id=\"add-test-data-5.1.2\"><span class=\"toc-item-num\">5.1.2&nbsp;&nbsp;</span>add test data</a></span></li><li><span><a href=\"#merge-with-supplemental-data\" data-toc-modified-id=\"merge-with-supplemental-data-5.1.3\"><span class=\"toc-item-num\">5.1.3&nbsp;&nbsp;</span>merge with supplemental data</a></span><ul class=\"toc-item\"><li><span><a href=\"#item-names-+-item-categories\" data-toc-modified-id=\"item-names-+-item-categories-5.1.3.1\"><span class=\"toc-item-num\">5.1.3.1&nbsp;&nbsp;</span>item names + item categories</a></span></li><li><span><a href=\"#item-category-names\" data-toc-modified-id=\"item-category-names-5.1.3.2\"><span class=\"toc-item-num\">5.1.3.2&nbsp;&nbsp;</span>item category names</a></span></li><li><span><a href=\"#shop-names\" data-toc-modified-id=\"shop-names-5.1.3.3\"><span class=\"toc-item-num\">5.1.3.3&nbsp;&nbsp;</span>shop names</a></span></li></ul></li><li><span><a href=\"#add-other-features\" data-toc-modified-id=\"add-other-features-5.1.4\"><span class=\"toc-item-num\">5.1.4&nbsp;&nbsp;</span>add other features</a></span><ul class=\"toc-item\"><li><span><a href=\"#mean-encoded-features\" data-toc-modified-id=\"mean-encoded-features-5.1.4.1\"><span class=\"toc-item-num\">5.1.4.1&nbsp;&nbsp;</span>mean encoded features</a></span></li><li><span><a href=\"#city-per-month\" data-toc-modified-id=\"city-per-month-5.1.4.2\"><span class=\"toc-item-num\">5.1.4.2&nbsp;&nbsp;</span>city per month</a></span></li><li><span><a href=\"#lag-features\" data-toc-modified-id=\"lag-features-5.1.4.3\"><span class=\"toc-item-num\">5.1.4.3&nbsp;&nbsp;</span>lag features</a></span></li></ul></li><li><span><a href=\"#filter-data\" data-toc-modified-id=\"filter-data-5.1.5\"><span class=\"toc-item-num\">5.1.5&nbsp;&nbsp;</span>filter data</a></span></li><li><span><a href=\"#drop-columns-no-longer-needed\" data-toc-modified-id=\"drop-columns-no-longer-needed-5.1.6\"><span class=\"toc-item-num\">5.1.6&nbsp;&nbsp;</span>drop columns no longer needed</a></span></li></ul></li><li><span><a href=\"#train---test-split\" data-toc-modified-id=\"train---test-split-5.2\"><span class=\"toc-item-num\">5.2&nbsp;&nbsp;</span>train - test split</a></span><ul class=\"toc-item\"><li><span><a href=\"#imputation,-scaling,-etc\" data-toc-modified-id=\"imputation,-scaling,-etc-5.2.1\"><span class=\"toc-item-num\">5.2.1&nbsp;&nbsp;</span>imputation, scaling, etc</a></span><ul class=\"toc-item\"><li><span><a href=\"#prepare-pipeline\" data-toc-modified-id=\"prepare-pipeline-5.2.1.1\"><span class=\"toc-item-num\">5.2.1.1&nbsp;&nbsp;</span>prepare pipeline</a></span></li><li><span><a href=\"#transform-data\" data-toc-modified-id=\"transform-data-5.2.1.2\"><span class=\"toc-item-num\">5.2.1.2&nbsp;&nbsp;</span>transform data</a></span></li></ul></li></ul></li><li><span><a href=\"#simple-model\" data-toc-modified-id=\"simple-model-5.3\"><span class=\"toc-item-num\">5.3&nbsp;&nbsp;</span>simple model</a></span><ul class=\"toc-item\"><li><span><a href=\"#ideas\" data-toc-modified-id=\"ideas-5.3.1\"><span class=\"toc-item-num\">5.3.1&nbsp;&nbsp;</span>ideas</a></span></li><li><span><a href=\"#other-stuff\" data-toc-modified-id=\"other-stuff-5.3.2\"><span class=\"toc-item-num\">5.3.2&nbsp;&nbsp;</span>other stuff</a></span><ul class=\"toc-item\"><li><span><a href=\"#model-per-item\" data-toc-modified-id=\"model-per-item-5.3.2.1\"><span class=\"toc-item-num\">5.3.2.1&nbsp;&nbsp;</span>model per item</a></span></li><li><span><a href=\"#model-per-store\" data-toc-modified-id=\"model-per-store-5.3.2.2\"><span class=\"toc-item-num\">5.3.2.2&nbsp;&nbsp;</span>model per store</a></span></li></ul></li><li><span><a href=\"#example\" data-toc-modified-id=\"example-5.3.3\"><span class=\"toc-item-num\">5.3.3&nbsp;&nbsp;</span>example</a></span></li></ul></li></ul></li></ul></div>"
   ]
  },
  {
   "cell_type": "code",
   "execution_count": 1,
   "metadata": {
    "ExecuteTime": {
     "end_time": "2022-04-24T08:58:31.140576Z",
     "start_time": "2022-04-24T08:58:30.376577Z"
    }
   },
   "outputs": [],
   "source": [
    "import numpy as np # linear algebra\n",
    "import pandas as pd # data processing, CSV file I/O (e.g. pd.read_csv)\n",
    "from itertools import product\n",
    "\n",
    "import os"
   ]
  },
  {
   "cell_type": "code",
   "execution_count": 2,
   "metadata": {
    "ExecuteTime": {
     "end_time": "2022-04-24T08:58:33.353493Z",
     "start_time": "2022-04-24T08:58:31.143579Z"
    }
   },
   "outputs": [],
   "source": [
    "import seaborn as sns\n",
    "\n",
    "import matplotlib.pyplot as plt"
   ]
  },
  {
   "cell_type": "code",
   "execution_count": 3,
   "metadata": {
    "ExecuteTime": {
     "end_time": "2022-04-24T08:58:33.433439Z",
     "start_time": "2022-04-24T08:58:33.355374Z"
    }
   },
   "outputs": [],
   "source": [
    "from joblib import dump, load\n",
    "from datetime import datetime"
   ]
  },
  {
   "cell_type": "markdown",
   "metadata": {},
   "source": [
    "# About"
   ]
  },
  {
   "cell_type": "markdown",
   "metadata": {},
   "source": [
    "Data Description\n",
    "\n",
    "You are provided with daily historical sales data. The task is to forecast the total amount of products sold in every shop for the test set. Note that the list of shops and products slightly changes every month. Creating a robust model that can handle such situations is part of the challenge.\n",
    "File descriptions\n",
    "\n",
    "    train.csv - the training set. Daily historical data from January 2013 to October 2015.\n",
    "    test.csv - the test set. You need to forecast the sales for these shops and products for November 2015.\n",
    "    sample_submission.csv - a sample submission file in the correct format.\n",
    "    items.csv - supplemental information about the items/products.\n",
    "    item_categories.csv  - supplemental information about the items categories.\n",
    "    shops.csv- supplemental information about the shops.\n",
    "\n",
    "Data fields\n",
    "\n",
    "    ID - an Id that represents a (Shop, Item) tuple within the test set\n",
    "    shop_id - unique identifier of a shop\n",
    "    item_id - unique identifier of a product\n",
    "    item_category_id - unique identifier of item category\n",
    "    item_cnt_day - number of products sold. You are predicting a monthly amount of this measure\n",
    "    item_price - current price of an item\n",
    "    date - date in format dd/mm/yyyy\n",
    "    date_block_num - a consecutive month number, used for convenience. January 2013 is 0, February 2013 is 1,..., October 2015 is 33\n",
    "    item_name - name of item\n",
    "    shop_name - name of shop\n",
    "    item_category_name - name of item category\n",
    "\n",
    "This dataset is permitted to be used for any purpose, including commercial use.\n"
   ]
  },
  {
   "cell_type": "code",
   "execution_count": null,
   "metadata": {},
   "outputs": [],
   "source": []
  },
  {
   "cell_type": "markdown",
   "metadata": {},
   "source": [
    "# Setup"
   ]
  },
  {
   "cell_type": "code",
   "execution_count": 4,
   "metadata": {
    "ExecuteTime": {
     "end_time": "2022-04-24T08:58:33.449425Z",
     "start_time": "2022-04-24T08:58:33.435374Z"
    }
   },
   "outputs": [],
   "source": [
    "# increase figure size\n",
    "plt.rcParams[\"figure.figsize\"] = (20, 10)\n",
    "\n",
    "# disable scientific notation\n",
    "pd.set_option('display.float_format', str)"
   ]
  },
  {
   "cell_type": "code",
   "execution_count": 5,
   "metadata": {
    "ExecuteTime": {
     "end_time": "2022-04-24T08:58:33.465375Z",
     "start_time": "2022-04-24T08:58:33.453373Z"
    }
   },
   "outputs": [],
   "source": [
    "run_on_kaggle = False\n",
    "\n",
    "if run_on_kaggle:\n",
    "    input_path = '/kaggle/input/'\n",
    "    data_path = input_path + \"competitive-data-science-predict-future-sales/\"\n",
    "    output_path = \"\"\n",
    "else:\n",
    "    input_path = '../data/'\n",
    "    data_path = input_path\n",
    "    output_path = \"\""
   ]
  },
  {
   "cell_type": "code",
   "execution_count": 6,
   "metadata": {
    "ExecuteTime": {
     "end_time": "2022-04-24T08:58:33.481373Z",
     "start_time": "2022-04-24T08:58:33.467373Z"
    },
    "_cell_guid": "b1076dfc-b9ad-4769-8c92-a6c4dae69d19",
    "_uuid": "8f2839f25d086af736a60e9eeb907d3b93b6e0e5",
    "execution": {
     "iopub.execute_input": "2022-04-07T08:41:29.254200Z",
     "iopub.status.busy": "2022-04-07T08:41:29.253783Z",
     "iopub.status.idle": "2022-04-07T08:41:29.267984Z",
     "shell.execute_reply": "2022-04-07T08:41:29.267004Z",
     "shell.execute_reply.started": "2022-04-07T08:41:29.254111Z"
    }
   },
   "outputs": [
    {
     "name": "stdout",
     "output_type": "stream",
     "text": [
      "../data/data.pkl\n",
      "../data/items.csv\n",
      "../data/item_categories.csv\n",
      "../data/sales_train.csv\n",
      "../data/sample_submission.csv\n",
      "../data/shops.csv\n",
      "../data/test.csv\n",
      "../data/train_data.pkl\n"
     ]
    }
   ],
   "source": [
    "# This Python 3 environment comes with many helpful analytics libraries installed\n",
    "# It is defined by the kaggle/python Docker image: https://github.com/kaggle/docker-python\n",
    "# For example, here's several helpful packages to load\n",
    "\n",
    "# Input data files are available in the read-only \"../input/\" directory\n",
    "# For example, running this (by clicking run or pressing Shift+Enter) will list all files under the input directory\n",
    "\n",
    "for dirname, _, filenames in os.walk(input_path):\n",
    "    for filename in filenames:\n",
    "        print(os.path.join(dirname, filename))\n",
    "\n",
    "# You can write up to 20GB to the current directory (/kaggle/working/) that gets preserved as output when you create a version using \"Save & Run All\" \n",
    "# You can also write temporary files to /kaggle/temp/, but they won't be saved outside of the current session"
   ]
  },
  {
   "cell_type": "markdown",
   "metadata": {},
   "source": [
    "# Data import"
   ]
  },
  {
   "cell_type": "markdown",
   "metadata": {},
   "source": [
    "## Data"
   ]
  },
  {
   "cell_type": "markdown",
   "metadata": {},
   "source": [
    "### train/test data"
   ]
  },
  {
   "cell_type": "code",
   "execution_count": 7,
   "metadata": {
    "ExecuteTime": {
     "end_time": "2022-04-24T08:58:35.547440Z",
     "start_time": "2022-04-24T08:58:33.483375Z"
    },
    "execution": {
     "iopub.execute_input": "2022-04-07T08:41:31.990277Z",
     "iopub.status.busy": "2022-04-07T08:41:31.989839Z",
     "iopub.status.idle": "2022-04-07T08:41:34.335473Z",
     "shell.execute_reply": "2022-04-07T08:41:34.334460Z",
     "shell.execute_reply.started": "2022-04-07T08:41:31.990224Z"
    }
   },
   "outputs": [],
   "source": [
    "# train.csv - the training set. Daily historical data from January 2013 to October 2015.\n",
    "sales_train = pd.read_csv(data_path + \"sales_train.csv\")\n",
    "\n",
    "# test.csv - the test set. You need to forecast the sales for these shops and products for November 2015.\n",
    "sales_test = pd.read_csv(data_path + \"test.csv\")"
   ]
  },
  {
   "cell_type": "code",
   "execution_count": 8,
   "metadata": {
    "ExecuteTime": {
     "end_time": "2022-04-24T08:58:35.578375Z",
     "start_time": "2022-04-24T08:58:35.549374Z"
    },
    "execution": {
     "iopub.execute_input": "2022-04-07T08:41:34.337325Z",
     "iopub.status.busy": "2022-04-07T08:41:34.336938Z",
     "iopub.status.idle": "2022-04-07T08:41:34.368019Z",
     "shell.execute_reply": "2022-04-07T08:41:34.367126Z",
     "shell.execute_reply.started": "2022-04-07T08:41:34.337286Z"
    }
   },
   "outputs": [
    {
     "data": {
      "text/html": [
       "<div>\n",
       "<style scoped>\n",
       "    .dataframe tbody tr th:only-of-type {\n",
       "        vertical-align: middle;\n",
       "    }\n",
       "\n",
       "    .dataframe tbody tr th {\n",
       "        vertical-align: top;\n",
       "    }\n",
       "\n",
       "    .dataframe thead th {\n",
       "        text-align: right;\n",
       "    }\n",
       "</style>\n",
       "<table border=\"1\" class=\"dataframe\">\n",
       "  <thead>\n",
       "    <tr style=\"text-align: right;\">\n",
       "      <th></th>\n",
       "      <th>date</th>\n",
       "      <th>date_block_num</th>\n",
       "      <th>shop_id</th>\n",
       "      <th>item_id</th>\n",
       "      <th>item_price</th>\n",
       "      <th>item_cnt_day</th>\n",
       "    </tr>\n",
       "  </thead>\n",
       "  <tbody>\n",
       "    <tr>\n",
       "      <th>0</th>\n",
       "      <td>02.01.2013</td>\n",
       "      <td>0</td>\n",
       "      <td>59</td>\n",
       "      <td>22154</td>\n",
       "      <td>999.0</td>\n",
       "      <td>1.0</td>\n",
       "    </tr>\n",
       "    <tr>\n",
       "      <th>1</th>\n",
       "      <td>03.01.2013</td>\n",
       "      <td>0</td>\n",
       "      <td>25</td>\n",
       "      <td>2552</td>\n",
       "      <td>899.0</td>\n",
       "      <td>1.0</td>\n",
       "    </tr>\n",
       "    <tr>\n",
       "      <th>2</th>\n",
       "      <td>05.01.2013</td>\n",
       "      <td>0</td>\n",
       "      <td>25</td>\n",
       "      <td>2552</td>\n",
       "      <td>899.0</td>\n",
       "      <td>-1.0</td>\n",
       "    </tr>\n",
       "    <tr>\n",
       "      <th>3</th>\n",
       "      <td>06.01.2013</td>\n",
       "      <td>0</td>\n",
       "      <td>25</td>\n",
       "      <td>2554</td>\n",
       "      <td>1709.05</td>\n",
       "      <td>1.0</td>\n",
       "    </tr>\n",
       "    <tr>\n",
       "      <th>4</th>\n",
       "      <td>15.01.2013</td>\n",
       "      <td>0</td>\n",
       "      <td>25</td>\n",
       "      <td>2555</td>\n",
       "      <td>1099.0</td>\n",
       "      <td>1.0</td>\n",
       "    </tr>\n",
       "  </tbody>\n",
       "</table>\n",
       "</div>"
      ],
      "text/plain": [
       "         date  date_block_num  shop_id  item_id  item_price  item_cnt_day\n",
       "0  02.01.2013               0       59    22154       999.0           1.0\n",
       "1  03.01.2013               0       25     2552       899.0           1.0\n",
       "2  05.01.2013               0       25     2552       899.0          -1.0\n",
       "3  06.01.2013               0       25     2554     1709.05           1.0\n",
       "4  15.01.2013               0       25     2555      1099.0           1.0"
      ]
     },
     "metadata": {},
     "output_type": "display_data"
    },
    {
     "data": {
      "text/html": [
       "<div>\n",
       "<style scoped>\n",
       "    .dataframe tbody tr th:only-of-type {\n",
       "        vertical-align: middle;\n",
       "    }\n",
       "\n",
       "    .dataframe tbody tr th {\n",
       "        vertical-align: top;\n",
       "    }\n",
       "\n",
       "    .dataframe thead th {\n",
       "        text-align: right;\n",
       "    }\n",
       "</style>\n",
       "<table border=\"1\" class=\"dataframe\">\n",
       "  <thead>\n",
       "    <tr style=\"text-align: right;\">\n",
       "      <th></th>\n",
       "      <th>ID</th>\n",
       "      <th>shop_id</th>\n",
       "      <th>item_id</th>\n",
       "    </tr>\n",
       "  </thead>\n",
       "  <tbody>\n",
       "    <tr>\n",
       "      <th>0</th>\n",
       "      <td>0</td>\n",
       "      <td>5</td>\n",
       "      <td>5037</td>\n",
       "    </tr>\n",
       "    <tr>\n",
       "      <th>1</th>\n",
       "      <td>1</td>\n",
       "      <td>5</td>\n",
       "      <td>5320</td>\n",
       "    </tr>\n",
       "    <tr>\n",
       "      <th>2</th>\n",
       "      <td>2</td>\n",
       "      <td>5</td>\n",
       "      <td>5233</td>\n",
       "    </tr>\n",
       "    <tr>\n",
       "      <th>3</th>\n",
       "      <td>3</td>\n",
       "      <td>5</td>\n",
       "      <td>5232</td>\n",
       "    </tr>\n",
       "    <tr>\n",
       "      <th>4</th>\n",
       "      <td>4</td>\n",
       "      <td>5</td>\n",
       "      <td>5268</td>\n",
       "    </tr>\n",
       "  </tbody>\n",
       "</table>\n",
       "</div>"
      ],
      "text/plain": [
       "   ID  shop_id  item_id\n",
       "0   0        5     5037\n",
       "1   1        5     5320\n",
       "2   2        5     5233\n",
       "3   3        5     5232\n",
       "4   4        5     5268"
      ]
     },
     "metadata": {},
     "output_type": "display_data"
    }
   ],
   "source": [
    "display(sales_train.head())\n",
    "display(sales_test.head())"
   ]
  },
  {
   "cell_type": "markdown",
   "metadata": {},
   "source": [
    "### supplemental data"
   ]
  },
  {
   "cell_type": "code",
   "execution_count": 9,
   "metadata": {
    "ExecuteTime": {
     "end_time": "2022-04-24T08:58:35.672396Z",
     "start_time": "2022-04-24T08:58:35.581373Z"
    },
    "execution": {
     "iopub.execute_input": "2022-04-07T08:41:37.933347Z",
     "iopub.status.busy": "2022-04-07T08:41:37.932749Z",
     "iopub.status.idle": "2022-04-07T08:41:38.024412Z",
     "shell.execute_reply": "2022-04-07T08:41:38.023570Z",
     "shell.execute_reply.started": "2022-04-07T08:41:37.933299Z"
    }
   },
   "outputs": [],
   "source": [
    "# items.csv - supplemental information about the items/products.\n",
    "items = pd.read_csv(data_path + \"items.csv\")\n",
    "\n",
    "# item_categories.csv  - supplemental information about the items categories.\n",
    "item_categories = pd.read_csv(data_path + \"item_categories.csv\")\n",
    "\n",
    "# shops.csv- supplemental information about the shops.\n",
    "shops = pd.read_csv(data_path + \"shops.csv\")"
   ]
  },
  {
   "cell_type": "code",
   "execution_count": 10,
   "metadata": {
    "ExecuteTime": {
     "end_time": "2022-04-24T08:58:35.703378Z",
     "start_time": "2022-04-24T08:58:35.674375Z"
    },
    "execution": {
     "iopub.execute_input": "2022-04-07T08:41:43.558207Z",
     "iopub.status.busy": "2022-04-07T08:41:43.557885Z",
     "iopub.status.idle": "2022-04-07T08:41:43.578831Z",
     "shell.execute_reply": "2022-04-07T08:41:43.578027Z",
     "shell.execute_reply.started": "2022-04-07T08:41:43.558181Z"
    }
   },
   "outputs": [
    {
     "data": {
      "text/html": [
       "<div>\n",
       "<style scoped>\n",
       "    .dataframe tbody tr th:only-of-type {\n",
       "        vertical-align: middle;\n",
       "    }\n",
       "\n",
       "    .dataframe tbody tr th {\n",
       "        vertical-align: top;\n",
       "    }\n",
       "\n",
       "    .dataframe thead th {\n",
       "        text-align: right;\n",
       "    }\n",
       "</style>\n",
       "<table border=\"1\" class=\"dataframe\">\n",
       "  <thead>\n",
       "    <tr style=\"text-align: right;\">\n",
       "      <th></th>\n",
       "      <th>item_name</th>\n",
       "      <th>item_id</th>\n",
       "      <th>item_category_id</th>\n",
       "    </tr>\n",
       "  </thead>\n",
       "  <tbody>\n",
       "    <tr>\n",
       "      <th>0</th>\n",
       "      <td>! ВО ВЛАСТИ НАВАЖДЕНИЯ (ПЛАСТ.)         D</td>\n",
       "      <td>0</td>\n",
       "      <td>40</td>\n",
       "    </tr>\n",
       "    <tr>\n",
       "      <th>1</th>\n",
       "      <td>!ABBYY FineReader 12 Professional Edition Full...</td>\n",
       "      <td>1</td>\n",
       "      <td>76</td>\n",
       "    </tr>\n",
       "    <tr>\n",
       "      <th>2</th>\n",
       "      <td>***В ЛУЧАХ СЛАВЫ   (UNV)                    D</td>\n",
       "      <td>2</td>\n",
       "      <td>40</td>\n",
       "    </tr>\n",
       "    <tr>\n",
       "      <th>3</th>\n",
       "      <td>***ГОЛУБАЯ ВОЛНА  (Univ)                      D</td>\n",
       "      <td>3</td>\n",
       "      <td>40</td>\n",
       "    </tr>\n",
       "    <tr>\n",
       "      <th>4</th>\n",
       "      <td>***КОРОБКА (СТЕКЛО)                       D</td>\n",
       "      <td>4</td>\n",
       "      <td>40</td>\n",
       "    </tr>\n",
       "  </tbody>\n",
       "</table>\n",
       "</div>"
      ],
      "text/plain": [
       "                                           item_name  item_id  \\\n",
       "0          ! ВО ВЛАСТИ НАВАЖДЕНИЯ (ПЛАСТ.)         D        0   \n",
       "1  !ABBYY FineReader 12 Professional Edition Full...        1   \n",
       "2      ***В ЛУЧАХ СЛАВЫ   (UNV)                    D        2   \n",
       "3    ***ГОЛУБАЯ ВОЛНА  (Univ)                      D        3   \n",
       "4        ***КОРОБКА (СТЕКЛО)                       D        4   \n",
       "\n",
       "   item_category_id  \n",
       "0                40  \n",
       "1                76  \n",
       "2                40  \n",
       "3                40  \n",
       "4                40  "
      ]
     },
     "metadata": {},
     "output_type": "display_data"
    },
    {
     "data": {
      "text/html": [
       "<div>\n",
       "<style scoped>\n",
       "    .dataframe tbody tr th:only-of-type {\n",
       "        vertical-align: middle;\n",
       "    }\n",
       "\n",
       "    .dataframe tbody tr th {\n",
       "        vertical-align: top;\n",
       "    }\n",
       "\n",
       "    .dataframe thead th {\n",
       "        text-align: right;\n",
       "    }\n",
       "</style>\n",
       "<table border=\"1\" class=\"dataframe\">\n",
       "  <thead>\n",
       "    <tr style=\"text-align: right;\">\n",
       "      <th></th>\n",
       "      <th>item_category_name</th>\n",
       "      <th>item_category_id</th>\n",
       "    </tr>\n",
       "  </thead>\n",
       "  <tbody>\n",
       "    <tr>\n",
       "      <th>0</th>\n",
       "      <td>PC - Гарнитуры/Наушники</td>\n",
       "      <td>0</td>\n",
       "    </tr>\n",
       "    <tr>\n",
       "      <th>1</th>\n",
       "      <td>Аксессуары - PS2</td>\n",
       "      <td>1</td>\n",
       "    </tr>\n",
       "    <tr>\n",
       "      <th>2</th>\n",
       "      <td>Аксессуары - PS3</td>\n",
       "      <td>2</td>\n",
       "    </tr>\n",
       "    <tr>\n",
       "      <th>3</th>\n",
       "      <td>Аксессуары - PS4</td>\n",
       "      <td>3</td>\n",
       "    </tr>\n",
       "    <tr>\n",
       "      <th>4</th>\n",
       "      <td>Аксессуары - PSP</td>\n",
       "      <td>4</td>\n",
       "    </tr>\n",
       "  </tbody>\n",
       "</table>\n",
       "</div>"
      ],
      "text/plain": [
       "        item_category_name  item_category_id\n",
       "0  PC - Гарнитуры/Наушники                 0\n",
       "1         Аксессуары - PS2                 1\n",
       "2         Аксессуары - PS3                 2\n",
       "3         Аксессуары - PS4                 3\n",
       "4         Аксессуары - PSP                 4"
      ]
     },
     "metadata": {},
     "output_type": "display_data"
    },
    {
     "data": {
      "text/html": [
       "<div>\n",
       "<style scoped>\n",
       "    .dataframe tbody tr th:only-of-type {\n",
       "        vertical-align: middle;\n",
       "    }\n",
       "\n",
       "    .dataframe tbody tr th {\n",
       "        vertical-align: top;\n",
       "    }\n",
       "\n",
       "    .dataframe thead th {\n",
       "        text-align: right;\n",
       "    }\n",
       "</style>\n",
       "<table border=\"1\" class=\"dataframe\">\n",
       "  <thead>\n",
       "    <tr style=\"text-align: right;\">\n",
       "      <th></th>\n",
       "      <th>shop_name</th>\n",
       "      <th>shop_id</th>\n",
       "    </tr>\n",
       "  </thead>\n",
       "  <tbody>\n",
       "    <tr>\n",
       "      <th>0</th>\n",
       "      <td>!Якутск Орджоникидзе, 56 фран</td>\n",
       "      <td>0</td>\n",
       "    </tr>\n",
       "    <tr>\n",
       "      <th>1</th>\n",
       "      <td>!Якутск ТЦ \"Центральный\" фран</td>\n",
       "      <td>1</td>\n",
       "    </tr>\n",
       "    <tr>\n",
       "      <th>2</th>\n",
       "      <td>Адыгея ТЦ \"Мега\"</td>\n",
       "      <td>2</td>\n",
       "    </tr>\n",
       "    <tr>\n",
       "      <th>3</th>\n",
       "      <td>Балашиха ТРК \"Октябрь-Киномир\"</td>\n",
       "      <td>3</td>\n",
       "    </tr>\n",
       "    <tr>\n",
       "      <th>4</th>\n",
       "      <td>Волжский ТЦ \"Волга Молл\"</td>\n",
       "      <td>4</td>\n",
       "    </tr>\n",
       "  </tbody>\n",
       "</table>\n",
       "</div>"
      ],
      "text/plain": [
       "                        shop_name  shop_id\n",
       "0   !Якутск Орджоникидзе, 56 фран        0\n",
       "1   !Якутск ТЦ \"Центральный\" фран        1\n",
       "2                Адыгея ТЦ \"Мега\"        2\n",
       "3  Балашиха ТРК \"Октябрь-Киномир\"        3\n",
       "4        Волжский ТЦ \"Волга Молл\"        4"
      ]
     },
     "metadata": {},
     "output_type": "display_data"
    }
   ],
   "source": [
    "display(items.head())\n",
    "display(item_categories.head())\n",
    "display(shops.head())"
   ]
  },
  {
   "cell_type": "code",
   "execution_count": null,
   "metadata": {},
   "outputs": [],
   "source": []
  },
  {
   "cell_type": "markdown",
   "metadata": {
    "heading_collapsed": true
   },
   "source": [
    "### sample submission\n",
    "\n",
    "Submissions are evaluated by root mean squared error (RMSE). True target values are clipped into [0,20] range."
   ]
  },
  {
   "cell_type": "code",
   "execution_count": 11,
   "metadata": {
    "ExecuteTime": {
     "end_time": "2022-04-24T08:58:35.815378Z",
     "start_time": "2022-04-24T08:58:35.705373Z"
    },
    "execution": {
     "iopub.execute_input": "2022-04-06T15:04:52.255585Z",
     "iopub.status.busy": "2022-04-06T15:04:52.255187Z",
     "iopub.status.idle": "2022-04-06T15:04:52.332952Z",
     "shell.execute_reply": "2022-04-06T15:04:52.331906Z",
     "shell.execute_reply.started": "2022-04-06T15:04:52.255552Z"
    },
    "hidden": true
   },
   "outputs": [],
   "source": [
    "# sample_submission.csv - a sample submission file in the correct format.\n",
    "sample_submission = pd.read_csv(data_path + \"sample_submission.csv\")"
   ]
  },
  {
   "cell_type": "code",
   "execution_count": 12,
   "metadata": {
    "ExecuteTime": {
     "end_time": "2022-04-24T08:58:35.830374Z",
     "start_time": "2022-04-24T08:58:35.817374Z"
    },
    "execution": {
     "iopub.execute_input": "2022-04-06T15:04:53.444756Z",
     "iopub.status.busy": "2022-04-06T15:04:53.444400Z",
     "iopub.status.idle": "2022-04-06T15:04:53.459284Z",
     "shell.execute_reply": "2022-04-06T15:04:53.458251Z",
     "shell.execute_reply.started": "2022-04-06T15:04:53.444725Z"
    },
    "hidden": true
   },
   "outputs": [
    {
     "data": {
      "text/html": [
       "<div>\n",
       "<style scoped>\n",
       "    .dataframe tbody tr th:only-of-type {\n",
       "        vertical-align: middle;\n",
       "    }\n",
       "\n",
       "    .dataframe tbody tr th {\n",
       "        vertical-align: top;\n",
       "    }\n",
       "\n",
       "    .dataframe thead th {\n",
       "        text-align: right;\n",
       "    }\n",
       "</style>\n",
       "<table border=\"1\" class=\"dataframe\">\n",
       "  <thead>\n",
       "    <tr style=\"text-align: right;\">\n",
       "      <th></th>\n",
       "      <th>ID</th>\n",
       "      <th>item_cnt_month</th>\n",
       "    </tr>\n",
       "  </thead>\n",
       "  <tbody>\n",
       "    <tr>\n",
       "      <th>0</th>\n",
       "      <td>0</td>\n",
       "      <td>0.5</td>\n",
       "    </tr>\n",
       "    <tr>\n",
       "      <th>1</th>\n",
       "      <td>1</td>\n",
       "      <td>0.5</td>\n",
       "    </tr>\n",
       "    <tr>\n",
       "      <th>2</th>\n",
       "      <td>2</td>\n",
       "      <td>0.5</td>\n",
       "    </tr>\n",
       "    <tr>\n",
       "      <th>3</th>\n",
       "      <td>3</td>\n",
       "      <td>0.5</td>\n",
       "    </tr>\n",
       "    <tr>\n",
       "      <th>4</th>\n",
       "      <td>4</td>\n",
       "      <td>0.5</td>\n",
       "    </tr>\n",
       "    <tr>\n",
       "      <th>...</th>\n",
       "      <td>...</td>\n",
       "      <td>...</td>\n",
       "    </tr>\n",
       "    <tr>\n",
       "      <th>214195</th>\n",
       "      <td>214195</td>\n",
       "      <td>0.5</td>\n",
       "    </tr>\n",
       "    <tr>\n",
       "      <th>214196</th>\n",
       "      <td>214196</td>\n",
       "      <td>0.5</td>\n",
       "    </tr>\n",
       "    <tr>\n",
       "      <th>214197</th>\n",
       "      <td>214197</td>\n",
       "      <td>0.5</td>\n",
       "    </tr>\n",
       "    <tr>\n",
       "      <th>214198</th>\n",
       "      <td>214198</td>\n",
       "      <td>0.5</td>\n",
       "    </tr>\n",
       "    <tr>\n",
       "      <th>214199</th>\n",
       "      <td>214199</td>\n",
       "      <td>0.5</td>\n",
       "    </tr>\n",
       "  </tbody>\n",
       "</table>\n",
       "<p>214200 rows × 2 columns</p>\n",
       "</div>"
      ],
      "text/plain": [
       "            ID  item_cnt_month\n",
       "0            0             0.5\n",
       "1            1             0.5\n",
       "2            2             0.5\n",
       "3            3             0.5\n",
       "4            4             0.5\n",
       "...        ...             ...\n",
       "214195  214195             0.5\n",
       "214196  214196             0.5\n",
       "214197  214197             0.5\n",
       "214198  214198             0.5\n",
       "214199  214199             0.5\n",
       "\n",
       "[214200 rows x 2 columns]"
      ]
     },
     "execution_count": 12,
     "metadata": {},
     "output_type": "execute_result"
    }
   ],
   "source": [
    "sample_submission"
   ]
  },
  {
   "cell_type": "markdown",
   "metadata": {},
   "source": [
    "# Exploratory data analysis"
   ]
  },
  {
   "cell_type": "code",
   "execution_count": null,
   "metadata": {
    "ExecuteTime": {
     "end_time": "2022-04-21T07:22:52.618525Z",
     "start_time": "2022-04-21T07:22:52.604524Z"
    }
   },
   "outputs": [],
   "source": []
  },
  {
   "cell_type": "code",
   "execution_count": null,
   "metadata": {},
   "outputs": [],
   "source": []
  },
  {
   "cell_type": "markdown",
   "metadata": {},
   "source": [
    "## check some basic statistics"
   ]
  },
  {
   "cell_type": "markdown",
   "metadata": {},
   "source": [
    "### train set"
   ]
  },
  {
   "cell_type": "code",
   "execution_count": 13,
   "metadata": {
    "ExecuteTime": {
     "end_time": "2022-04-24T08:58:35.909377Z",
     "start_time": "2022-04-24T08:58:35.832374Z"
    }
   },
   "outputs": [
    {
     "data": {
      "text/plain": [
       "21807"
      ]
     },
     "execution_count": 13,
     "metadata": {},
     "output_type": "execute_result"
    }
   ],
   "source": [
    "# number of items\n",
    "sales_train[\"item_id\"].nunique()"
   ]
  },
  {
   "cell_type": "code",
   "execution_count": 14,
   "metadata": {
    "ExecuteTime": {
     "end_time": "2022-04-24T08:58:35.971440Z",
     "start_time": "2022-04-24T08:58:35.915398Z"
    }
   },
   "outputs": [
    {
     "data": {
      "text/plain": [
       "60"
      ]
     },
     "execution_count": 14,
     "metadata": {},
     "output_type": "execute_result"
    }
   ],
   "source": [
    "# number of shops\n",
    "sales_train[\"shop_id\"].nunique()"
   ]
  },
  {
   "cell_type": "code",
   "execution_count": 15,
   "metadata": {
    "ExecuteTime": {
     "end_time": "2022-04-24T08:58:36.083379Z",
     "start_time": "2022-04-24T08:58:35.973375Z"
    }
   },
   "outputs": [
    {
     "data": {
      "text/plain": [
       "1308420"
      ]
     },
     "execution_count": 15,
     "metadata": {},
     "output_type": "execute_result"
    }
   ],
   "source": [
    "# number of all possible combinations\n",
    "sales_train[\"shop_id\"].nunique() * sales_train[\"item_id\"].nunique()"
   ]
  },
  {
   "cell_type": "code",
   "execution_count": 16,
   "metadata": {
    "ExecuteTime": {
     "end_time": "2022-04-24T08:58:36.131432Z",
     "start_time": "2022-04-24T08:58:36.085373Z"
    }
   },
   "outputs": [
    {
     "data": {
      "text/html": [
       "<div>\n",
       "<style scoped>\n",
       "    .dataframe tbody tr th:only-of-type {\n",
       "        vertical-align: middle;\n",
       "    }\n",
       "\n",
       "    .dataframe tbody tr th {\n",
       "        vertical-align: top;\n",
       "    }\n",
       "\n",
       "    .dataframe thead th {\n",
       "        text-align: right;\n",
       "    }\n",
       "</style>\n",
       "<table border=\"1\" class=\"dataframe\">\n",
       "  <thead>\n",
       "    <tr style=\"text-align: right;\">\n",
       "      <th></th>\n",
       "      <th>date</th>\n",
       "      <th>date_block_num</th>\n",
       "      <th>shop_id</th>\n",
       "      <th>item_id</th>\n",
       "      <th>item_price</th>\n",
       "      <th>item_cnt_day</th>\n",
       "    </tr>\n",
       "  </thead>\n",
       "  <tbody>\n",
       "    <tr>\n",
       "      <th>1953995</th>\n",
       "      <td>21.09.2014</td>\n",
       "      <td>20</td>\n",
       "      <td>5</td>\n",
       "      <td>5037</td>\n",
       "      <td>2599.0</td>\n",
       "      <td>1.0</td>\n",
       "    </tr>\n",
       "    <tr>\n",
       "      <th>2150561</th>\n",
       "      <td>29.11.2014</td>\n",
       "      <td>22</td>\n",
       "      <td>5</td>\n",
       "      <td>5037</td>\n",
       "      <td>2599.0</td>\n",
       "      <td>1.0</td>\n",
       "    </tr>\n",
       "    <tr>\n",
       "      <th>2288630</th>\n",
       "      <td>28.12.2014</td>\n",
       "      <td>23</td>\n",
       "      <td>5</td>\n",
       "      <td>5037</td>\n",
       "      <td>1999.0</td>\n",
       "      <td>1.0</td>\n",
       "    </tr>\n",
       "    <tr>\n",
       "      <th>2288631</th>\n",
       "      <td>20.12.2014</td>\n",
       "      <td>23</td>\n",
       "      <td>5</td>\n",
       "      <td>5037</td>\n",
       "      <td>1999.0</td>\n",
       "      <td>1.0</td>\n",
       "    </tr>\n",
       "    <tr>\n",
       "      <th>2335446</th>\n",
       "      <td>02.01.2015</td>\n",
       "      <td>24</td>\n",
       "      <td>5</td>\n",
       "      <td>5037</td>\n",
       "      <td>1999.0</td>\n",
       "      <td>1.0</td>\n",
       "    </tr>\n",
       "    <tr>\n",
       "      <th>2335447</th>\n",
       "      <td>07.01.2015</td>\n",
       "      <td>24</td>\n",
       "      <td>5</td>\n",
       "      <td>5037</td>\n",
       "      <td>1999.0</td>\n",
       "      <td>1.0</td>\n",
       "    </tr>\n",
       "    <tr>\n",
       "      <th>2618926</th>\n",
       "      <td>29.05.2015</td>\n",
       "      <td>28</td>\n",
       "      <td>5</td>\n",
       "      <td>5037</td>\n",
       "      <td>1299.0</td>\n",
       "      <td>1.0</td>\n",
       "    </tr>\n",
       "    <tr>\n",
       "      <th>2704068</th>\n",
       "      <td>28.06.2015</td>\n",
       "      <td>29</td>\n",
       "      <td>5</td>\n",
       "      <td>5037</td>\n",
       "      <td>1499.0</td>\n",
       "      <td>1.0</td>\n",
       "    </tr>\n",
       "    <tr>\n",
       "      <th>2719247</th>\n",
       "      <td>05.07.2015</td>\n",
       "      <td>30</td>\n",
       "      <td>5</td>\n",
       "      <td>5037</td>\n",
       "      <td>1499.0</td>\n",
       "      <td>1.0</td>\n",
       "    </tr>\n",
       "    <tr>\n",
       "      <th>2810661</th>\n",
       "      <td>14.08.2015</td>\n",
       "      <td>31</td>\n",
       "      <td>5</td>\n",
       "      <td>5037</td>\n",
       "      <td>1499.0</td>\n",
       "      <td>1.0</td>\n",
       "    </tr>\n",
       "    <tr>\n",
       "      <th>2810662</th>\n",
       "      <td>20.08.2015</td>\n",
       "      <td>31</td>\n",
       "      <td>5</td>\n",
       "      <td>5037</td>\n",
       "      <td>749.5</td>\n",
       "      <td>1.0</td>\n",
       "    </tr>\n",
       "    <tr>\n",
       "      <th>2810663</th>\n",
       "      <td>31.08.2015</td>\n",
       "      <td>31</td>\n",
       "      <td>5</td>\n",
       "      <td>5037</td>\n",
       "      <td>749.0</td>\n",
       "      <td>1.0</td>\n",
       "    </tr>\n",
       "    <tr>\n",
       "      <th>2860998</th>\n",
       "      <td>05.09.2015</td>\n",
       "      <td>32</td>\n",
       "      <td>5</td>\n",
       "      <td>5037</td>\n",
       "      <td>749.5</td>\n",
       "      <td>1.0</td>\n",
       "    </tr>\n",
       "  </tbody>\n",
       "</table>\n",
       "</div>"
      ],
      "text/plain": [
       "               date  date_block_num  shop_id  item_id  item_price  \\\n",
       "1953995  21.09.2014              20        5     5037      2599.0   \n",
       "2150561  29.11.2014              22        5     5037      2599.0   \n",
       "2288630  28.12.2014              23        5     5037      1999.0   \n",
       "2288631  20.12.2014              23        5     5037      1999.0   \n",
       "2335446  02.01.2015              24        5     5037      1999.0   \n",
       "2335447  07.01.2015              24        5     5037      1999.0   \n",
       "2618926  29.05.2015              28        5     5037      1299.0   \n",
       "2704068  28.06.2015              29        5     5037      1499.0   \n",
       "2719247  05.07.2015              30        5     5037      1499.0   \n",
       "2810661  14.08.2015              31        5     5037      1499.0   \n",
       "2810662  20.08.2015              31        5     5037       749.5   \n",
       "2810663  31.08.2015              31        5     5037       749.0   \n",
       "2860998  05.09.2015              32        5     5037       749.5   \n",
       "\n",
       "         item_cnt_day  \n",
       "1953995           1.0  \n",
       "2150561           1.0  \n",
       "2288630           1.0  \n",
       "2288631           1.0  \n",
       "2335446           1.0  \n",
       "2335447           1.0  \n",
       "2618926           1.0  \n",
       "2704068           1.0  \n",
       "2719247           1.0  \n",
       "2810661           1.0  \n",
       "2810662           1.0  \n",
       "2810663           1.0  \n",
       "2860998           1.0  "
      ]
     },
     "execution_count": 16,
     "metadata": {},
     "output_type": "execute_result"
    }
   ],
   "source": [
    "# check a certain item at a certain shop\n",
    "sales_train[(sales_train[\"shop_id\"] == 5) & (sales_train[\"item_id\"] == 5037)]"
   ]
  },
  {
   "cell_type": "code",
   "execution_count": null,
   "metadata": {},
   "outputs": [],
   "source": []
  },
  {
   "cell_type": "markdown",
   "metadata": {},
   "source": [
    "### test set"
   ]
  },
  {
   "cell_type": "code",
   "execution_count": 17,
   "metadata": {
    "ExecuteTime": {
     "end_time": "2022-04-24T08:58:36.147374Z",
     "start_time": "2022-04-24T08:58:36.133373Z"
    }
   },
   "outputs": [
    {
     "data": {
      "text/plain": [
       "5100"
      ]
     },
     "execution_count": 17,
     "metadata": {},
     "output_type": "execute_result"
    }
   ],
   "source": [
    "# number of items\n",
    "sales_test[\"item_id\"].nunique()"
   ]
  },
  {
   "cell_type": "code",
   "execution_count": 18,
   "metadata": {
    "ExecuteTime": {
     "end_time": "2022-04-24T08:58:36.163373Z",
     "start_time": "2022-04-24T08:58:36.149432Z"
    }
   },
   "outputs": [
    {
     "data": {
      "text/plain": [
       "42"
      ]
     },
     "execution_count": 18,
     "metadata": {},
     "output_type": "execute_result"
    }
   ],
   "source": [
    "# number of shops\n",
    "sales_test[\"shop_id\"].nunique()"
   ]
  },
  {
   "cell_type": "code",
   "execution_count": 19,
   "metadata": {
    "ExecuteTime": {
     "end_time": "2022-04-24T08:58:36.195372Z",
     "start_time": "2022-04-24T08:58:36.165373Z"
    }
   },
   "outputs": [
    {
     "data": {
      "text/plain": [
       "214200"
      ]
     },
     "execution_count": 19,
     "metadata": {},
     "output_type": "execute_result"
    }
   ],
   "source": [
    "# number of all possible combinations\n",
    "sales_test[\"shop_id\"].nunique() * sales_test[\"item_id\"].nunique()"
   ]
  },
  {
   "cell_type": "markdown",
   "metadata": {},
   "source": [
    "We are missing several items and shops from the train data set."
   ]
  },
  {
   "cell_type": "code",
   "execution_count": 20,
   "metadata": {
    "ExecuteTime": {
     "end_time": "2022-04-24T08:58:36.226378Z",
     "start_time": "2022-04-24T08:58:36.197373Z"
    },
    "scrolled": true
   },
   "outputs": [
    {
     "data": {
      "text/html": [
       "<div>\n",
       "<style scoped>\n",
       "    .dataframe tbody tr th:only-of-type {\n",
       "        vertical-align: middle;\n",
       "    }\n",
       "\n",
       "    .dataframe tbody tr th {\n",
       "        vertical-align: top;\n",
       "    }\n",
       "\n",
       "    .dataframe thead th {\n",
       "        text-align: right;\n",
       "    }\n",
       "</style>\n",
       "<table border=\"1\" class=\"dataframe\">\n",
       "  <thead>\n",
       "    <tr style=\"text-align: right;\">\n",
       "      <th></th>\n",
       "      <th>ID</th>\n",
       "      <th>shop_id</th>\n",
       "      <th>item_id</th>\n",
       "    </tr>\n",
       "  </thead>\n",
       "  <tbody>\n",
       "    <tr>\n",
       "      <th>0</th>\n",
       "      <td>0</td>\n",
       "      <td>5</td>\n",
       "      <td>5037</td>\n",
       "    </tr>\n",
       "  </tbody>\n",
       "</table>\n",
       "</div>"
      ],
      "text/plain": [
       "   ID  shop_id  item_id\n",
       "0   0        5     5037"
      ]
     },
     "execution_count": 20,
     "metadata": {},
     "output_type": "execute_result"
    }
   ],
   "source": [
    "# check a certain item at a certain shop\n",
    "sales_test[(sales_test[\"shop_id\"] == 5) & (sales_test[\"item_id\"] == 5037)]"
   ]
  },
  {
   "cell_type": "code",
   "execution_count": 21,
   "metadata": {
    "ExecuteTime": {
     "end_time": "2022-04-24T08:58:36.349379Z",
     "start_time": "2022-04-24T08:58:36.228373Z"
    }
   },
   "outputs": [
    {
     "data": {
      "text/html": [
       "<div>\n",
       "<style scoped>\n",
       "    .dataframe tbody tr th:only-of-type {\n",
       "        vertical-align: middle;\n",
       "    }\n",
       "\n",
       "    .dataframe tbody tr th {\n",
       "        vertical-align: top;\n",
       "    }\n",
       "\n",
       "    .dataframe thead th {\n",
       "        text-align: right;\n",
       "    }\n",
       "</style>\n",
       "<table border=\"1\" class=\"dataframe\">\n",
       "  <thead>\n",
       "    <tr style=\"text-align: right;\">\n",
       "      <th></th>\n",
       "      <th>ID</th>\n",
       "      <th>shop_id</th>\n",
       "      <th>item_id</th>\n",
       "      <th>item_cnt_month</th>\n",
       "    </tr>\n",
       "  </thead>\n",
       "  <tbody>\n",
       "    <tr>\n",
       "      <th>0</th>\n",
       "      <td>0</td>\n",
       "      <td>5</td>\n",
       "      <td>5037</td>\n",
       "      <td>0.5</td>\n",
       "    </tr>\n",
       "    <tr>\n",
       "      <th>1</th>\n",
       "      <td>1</td>\n",
       "      <td>5</td>\n",
       "      <td>5320</td>\n",
       "      <td>0.5</td>\n",
       "    </tr>\n",
       "    <tr>\n",
       "      <th>2</th>\n",
       "      <td>2</td>\n",
       "      <td>5</td>\n",
       "      <td>5233</td>\n",
       "      <td>0.5</td>\n",
       "    </tr>\n",
       "    <tr>\n",
       "      <th>3</th>\n",
       "      <td>3</td>\n",
       "      <td>5</td>\n",
       "      <td>5232</td>\n",
       "      <td>0.5</td>\n",
       "    </tr>\n",
       "    <tr>\n",
       "      <th>4</th>\n",
       "      <td>4</td>\n",
       "      <td>5</td>\n",
       "      <td>5268</td>\n",
       "      <td>0.5</td>\n",
       "    </tr>\n",
       "    <tr>\n",
       "      <th>...</th>\n",
       "      <td>...</td>\n",
       "      <td>...</td>\n",
       "      <td>...</td>\n",
       "      <td>...</td>\n",
       "    </tr>\n",
       "    <tr>\n",
       "      <th>214195</th>\n",
       "      <td>214195</td>\n",
       "      <td>45</td>\n",
       "      <td>18454</td>\n",
       "      <td>0.5</td>\n",
       "    </tr>\n",
       "    <tr>\n",
       "      <th>214196</th>\n",
       "      <td>214196</td>\n",
       "      <td>45</td>\n",
       "      <td>16188</td>\n",
       "      <td>0.5</td>\n",
       "    </tr>\n",
       "    <tr>\n",
       "      <th>214197</th>\n",
       "      <td>214197</td>\n",
       "      <td>45</td>\n",
       "      <td>15757</td>\n",
       "      <td>0.5</td>\n",
       "    </tr>\n",
       "    <tr>\n",
       "      <th>214198</th>\n",
       "      <td>214198</td>\n",
       "      <td>45</td>\n",
       "      <td>19648</td>\n",
       "      <td>0.5</td>\n",
       "    </tr>\n",
       "    <tr>\n",
       "      <th>214199</th>\n",
       "      <td>214199</td>\n",
       "      <td>45</td>\n",
       "      <td>969</td>\n",
       "      <td>0.5</td>\n",
       "    </tr>\n",
       "  </tbody>\n",
       "</table>\n",
       "<p>214200 rows × 4 columns</p>\n",
       "</div>"
      ],
      "text/plain": [
       "            ID  shop_id  item_id  item_cnt_month\n",
       "0            0        5     5037             0.5\n",
       "1            1        5     5320             0.5\n",
       "2            2        5     5233             0.5\n",
       "3            3        5     5232             0.5\n",
       "4            4        5     5268             0.5\n",
       "...        ...      ...      ...             ...\n",
       "214195  214195       45    18454             0.5\n",
       "214196  214196       45    16188             0.5\n",
       "214197  214197       45    15757             0.5\n",
       "214198  214198       45    19648             0.5\n",
       "214199  214199       45      969             0.5\n",
       "\n",
       "[214200 rows x 4 columns]"
      ]
     },
     "execution_count": 21,
     "metadata": {},
     "output_type": "execute_result"
    }
   ],
   "source": [
    "# check the sample submission\n",
    "pd.merge(sales_test, sample_submission, on=\"ID\")"
   ]
  },
  {
   "cell_type": "code",
   "execution_count": null,
   "metadata": {
    "ExecuteTime": {
     "end_time": "2022-04-21T15:25:15.290118Z",
     "start_time": "2022-04-21T15:25:15.262065Z"
    }
   },
   "outputs": [],
   "source": []
  },
  {
   "cell_type": "markdown",
   "metadata": {},
   "source": [
    "## per shop"
   ]
  },
  {
   "cell_type": "code",
   "execution_count": 22,
   "metadata": {
    "ExecuteTime": {
     "end_time": "2022-04-24T08:58:36.627373Z",
     "start_time": "2022-04-24T08:58:36.351374Z"
    }
   },
   "outputs": [],
   "source": [
    "total_sales_per_shop = sales_train.groupby(\"shop_id\", as_index=False)[\"item_cnt_day\"].sum()\n",
    "mean_sales_per_shop = sales_train.groupby(\"shop_id\", as_index=False)[\"item_cnt_day\"].mean()"
   ]
  },
  {
   "cell_type": "code",
   "execution_count": 23,
   "metadata": {
    "ExecuteTime": {
     "end_time": "2022-04-24T08:58:37.834376Z",
     "start_time": "2022-04-24T08:58:36.629373Z"
    }
   },
   "outputs": [
    {
     "data": {
      "text/plain": [
       "Text(0.5, 1.0, 'Total sales per shop')"
      ]
     },
     "execution_count": 23,
     "metadata": {},
     "output_type": "execute_result"
    },
    {
     "data": {
      "image/png": "[encoded data removed]",
      "text/plain": [
       "<Figure size 1440x720 with 1 Axes>"
      ]
     },
     "metadata": {
      "needs_background": "light"
     },
     "output_type": "display_data"
    }
   ],
   "source": [
    "sns.barplot(x=\"shop_id\", y=\"item_cnt_day\", data=total_sales_per_shop, palette=\"tab10\").set_title(\"Total sales per shop\")"
   ]
  },
  {
   "cell_type": "code",
   "execution_count": 24,
   "metadata": {
    "ExecuteTime": {
     "end_time": "2022-04-24T08:58:38.766372Z",
     "start_time": "2022-04-24T08:58:37.836373Z"
    }
   },
   "outputs": [
    {
     "data": {
      "text/plain": [
       "Text(0.5, 1.0, 'Mean sales per shop')"
      ]
     },
     "execution_count": 24,
     "metadata": {},
     "output_type": "execute_result"
    },
    {
     "data": {
      "image/png": "[encoded data removed]",
      "text/plain": [
       "<Figure size 1440x720 with 1 Axes>"
      ]
     },
     "metadata": {
      "needs_background": "light"
     },
     "output_type": "display_data"
    }
   ],
   "source": [
    "sns.barplot(x=\"shop_id\", y=\"item_cnt_day\", data=mean_sales_per_shop, palette=\"tab10\").set_title(\"Mean sales per shop\")"
   ]
  },
  {
   "cell_type": "code",
   "execution_count": 25,
   "metadata": {
    "ExecuteTime": {
     "end_time": "2022-04-24T08:58:38.798374Z",
     "start_time": "2022-04-24T08:58:38.769373Z"
    }
   },
   "outputs": [
    {
     "data": {
      "text/html": [
       "<div>\n",
       "<style scoped>\n",
       "    .dataframe tbody tr th:only-of-type {\n",
       "        vertical-align: middle;\n",
       "    }\n",
       "\n",
       "    .dataframe tbody tr th {\n",
       "        vertical-align: top;\n",
       "    }\n",
       "\n",
       "    .dataframe thead th {\n",
       "        text-align: right;\n",
       "    }\n",
       "</style>\n",
       "<table border=\"1\" class=\"dataframe\">\n",
       "  <thead>\n",
       "    <tr style=\"text-align: right;\">\n",
       "      <th></th>\n",
       "      <th>date</th>\n",
       "      <th>date_block_num</th>\n",
       "      <th>shop_id</th>\n",
       "      <th>item_id</th>\n",
       "      <th>item_price</th>\n",
       "      <th>item_cnt_day</th>\n",
       "    </tr>\n",
       "  </thead>\n",
       "  <tbody>\n",
       "    <tr>\n",
       "      <th>0</th>\n",
       "      <td>02.01.2013</td>\n",
       "      <td>0</td>\n",
       "      <td>59</td>\n",
       "      <td>22154</td>\n",
       "      <td>999.0</td>\n",
       "      <td>1.0</td>\n",
       "    </tr>\n",
       "    <tr>\n",
       "      <th>1</th>\n",
       "      <td>03.01.2013</td>\n",
       "      <td>0</td>\n",
       "      <td>25</td>\n",
       "      <td>2552</td>\n",
       "      <td>899.0</td>\n",
       "      <td>1.0</td>\n",
       "    </tr>\n",
       "    <tr>\n",
       "      <th>2</th>\n",
       "      <td>05.01.2013</td>\n",
       "      <td>0</td>\n",
       "      <td>25</td>\n",
       "      <td>2552</td>\n",
       "      <td>899.0</td>\n",
       "      <td>-1.0</td>\n",
       "    </tr>\n",
       "    <tr>\n",
       "      <th>3</th>\n",
       "      <td>06.01.2013</td>\n",
       "      <td>0</td>\n",
       "      <td>25</td>\n",
       "      <td>2554</td>\n",
       "      <td>1709.05</td>\n",
       "      <td>1.0</td>\n",
       "    </tr>\n",
       "    <tr>\n",
       "      <th>4</th>\n",
       "      <td>15.01.2013</td>\n",
       "      <td>0</td>\n",
       "      <td>25</td>\n",
       "      <td>2555</td>\n",
       "      <td>1099.0</td>\n",
       "      <td>1.0</td>\n",
       "    </tr>\n",
       "    <tr>\n",
       "      <th>...</th>\n",
       "      <td>...</td>\n",
       "      <td>...</td>\n",
       "      <td>...</td>\n",
       "      <td>...</td>\n",
       "      <td>...</td>\n",
       "      <td>...</td>\n",
       "    </tr>\n",
       "    <tr>\n",
       "      <th>2935844</th>\n",
       "      <td>10.10.2015</td>\n",
       "      <td>33</td>\n",
       "      <td>25</td>\n",
       "      <td>7409</td>\n",
       "      <td>299.0</td>\n",
       "      <td>1.0</td>\n",
       "    </tr>\n",
       "    <tr>\n",
       "      <th>2935845</th>\n",
       "      <td>09.10.2015</td>\n",
       "      <td>33</td>\n",
       "      <td>25</td>\n",
       "      <td>7460</td>\n",
       "      <td>299.0</td>\n",
       "      <td>1.0</td>\n",
       "    </tr>\n",
       "    <tr>\n",
       "      <th>2935846</th>\n",
       "      <td>14.10.2015</td>\n",
       "      <td>33</td>\n",
       "      <td>25</td>\n",
       "      <td>7459</td>\n",
       "      <td>349.0</td>\n",
       "      <td>1.0</td>\n",
       "    </tr>\n",
       "    <tr>\n",
       "      <th>2935847</th>\n",
       "      <td>22.10.2015</td>\n",
       "      <td>33</td>\n",
       "      <td>25</td>\n",
       "      <td>7440</td>\n",
       "      <td>299.0</td>\n",
       "      <td>1.0</td>\n",
       "    </tr>\n",
       "    <tr>\n",
       "      <th>2935848</th>\n",
       "      <td>03.10.2015</td>\n",
       "      <td>33</td>\n",
       "      <td>25</td>\n",
       "      <td>7460</td>\n",
       "      <td>299.0</td>\n",
       "      <td>1.0</td>\n",
       "    </tr>\n",
       "  </tbody>\n",
       "</table>\n",
       "<p>2935849 rows × 6 columns</p>\n",
       "</div>"
      ],
      "text/plain": [
       "               date  date_block_num  shop_id  item_id  item_price  \\\n",
       "0        02.01.2013               0       59    22154       999.0   \n",
       "1        03.01.2013               0       25     2552       899.0   \n",
       "2        05.01.2013               0       25     2552       899.0   \n",
       "3        06.01.2013               0       25     2554     1709.05   \n",
       "4        15.01.2013               0       25     2555      1099.0   \n",
       "...             ...             ...      ...      ...         ...   \n",
       "2935844  10.10.2015              33       25     7409       299.0   \n",
       "2935845  09.10.2015              33       25     7460       299.0   \n",
       "2935846  14.10.2015              33       25     7459       349.0   \n",
       "2935847  22.10.2015              33       25     7440       299.0   \n",
       "2935848  03.10.2015              33       25     7460       299.0   \n",
       "\n",
       "         item_cnt_day  \n",
       "0                 1.0  \n",
       "1                 1.0  \n",
       "2                -1.0  \n",
       "3                 1.0  \n",
       "4                 1.0  \n",
       "...               ...  \n",
       "2935844           1.0  \n",
       "2935845           1.0  \n",
       "2935846           1.0  \n",
       "2935847           1.0  \n",
       "2935848           1.0  \n",
       "\n",
       "[2935849 rows x 6 columns]"
      ]
     },
     "execution_count": 25,
     "metadata": {},
     "output_type": "execute_result"
    }
   ],
   "source": [
    "sales_train"
   ]
  },
  {
   "cell_type": "code",
   "execution_count": null,
   "metadata": {},
   "outputs": [],
   "source": []
  },
  {
   "cell_type": "code",
   "execution_count": null,
   "metadata": {},
   "outputs": [],
   "source": []
  },
  {
   "cell_type": "markdown",
   "metadata": {},
   "source": [
    "## deal with outliers"
   ]
  },
  {
   "cell_type": "code",
   "execution_count": 26,
   "metadata": {
    "ExecuteTime": {
     "end_time": "2022-04-24T08:58:38.813373Z",
     "start_time": "2022-04-24T08:58:38.801374Z"
    }
   },
   "outputs": [],
   "source": [
    "def check_for_outlier(series: pd.Series, lower_quantile: float=0.05, upper_quantile: float=0.95):\n",
    "    \n",
    "    # describe the data\n",
    "    display(series.describe())\n",
    "    \n",
    "    # plot the data\n",
    "    sns.boxplot(x=series)\n",
    "    plt.show()\n",
    "    \n",
    "    # plot with adjusted x axis\n",
    "    lower_q = series.quantile(q=0.05)\n",
    "    upper_q = series.quantile(q=0.95)\n",
    "    plt.xlim(lower_q, upper_q)\n",
    "    sns.boxplot(x=series)\n",
    "    plt.show()"
   ]
  },
  {
   "cell_type": "code",
   "execution_count": 27,
   "metadata": {
    "ExecuteTime": {
     "end_time": "2022-04-24T08:58:38.829373Z",
     "start_time": "2022-04-24T08:58:38.818373Z"
    }
   },
   "outputs": [],
   "source": [
    "def clip_to_quantiles(series: pd.Series, lower_quantile: float, upper_quantile: float) -> pd.Series:\n",
    "    \"\"\"\n",
    "    Clips the provided pd.Series into the given quantile\n",
    "    :param series: pd.Series, data to clip\n",
    "    :param lower_quantile: float, value between 0 <= lower_quantile <= 1, the lower quantile to clip\n",
    "    :param upper_quantile: float, value between 0 <= upper_quantile <= 1, the lower quantile to clip\n",
    "    :return: pd.Series, the clipped data\n",
    "    \"\"\"\n",
    "    assert 0 <= lower_quantile <= 1\n",
    "    assert 0 <= upper_quantile <= 1\n",
    "\n",
    "    lower_q = series.quantile(q=lower_quantile)\n",
    "    upper_q = series.quantile(q=upper_quantile)\n",
    "\n",
    "    return series.clip(lower=lower_q, upper=upper_q)"
   ]
  },
  {
   "cell_type": "markdown",
   "metadata": {},
   "source": [
    "### item_price"
   ]
  },
  {
   "cell_type": "code",
   "execution_count": 28,
   "metadata": {
    "ExecuteTime": {
     "end_time": "2022-04-24T08:58:40.829427Z",
     "start_time": "2022-04-24T08:58:38.831373Z"
    }
   },
   "outputs": [
    {
     "data": {
      "text/plain": [
       "count            2935849.0\n",
       "mean     890.8532326980126\n",
       "std     1729.7996307126623\n",
       "min                   -1.0\n",
       "25%                  249.0\n",
       "50%                  399.0\n",
       "75%                  999.0\n",
       "max               307980.0\n",
       "Name: item_price, dtype: float64"
      ]
     },
     "metadata": {},
     "output_type": "display_data"
    },
    {
     "data": {
      "image/png": "[encoded data removed]",
      "text/plain": [
       "<Figure size 1440x720 with 1 Axes>"
      ]
     },
     "metadata": {
      "needs_background": "light"
     },
     "output_type": "display_data"
    },
    {
     "data": {
      "image/png": "[encoded data removed]",
      "text/plain": [
       "<Figure size 1440x720 with 1 Axes>"
      ]
     },
     "metadata": {
      "needs_background": "light"
     },
     "output_type": "display_data"
    }
   ],
   "source": [
    "check_for_outlier(sales_train[\"item_price\"])"
   ]
  },
  {
   "cell_type": "code",
   "execution_count": 29,
   "metadata": {
    "ExecuteTime": {
     "end_time": "2022-04-24T08:58:41.019426Z",
     "start_time": "2022-04-24T08:58:40.831373Z"
    }
   },
   "outputs": [],
   "source": [
    "# clip the data to be in the [5%, 95%] quantile\n",
    "sales_train[\"item_price\"] = clip_to_quantiles(series=sales_train[\"item_price\"], lower_quantile=0.05, upper_quantile=0.95)"
   ]
  },
  {
   "cell_type": "code",
   "execution_count": null,
   "metadata": {},
   "outputs": [],
   "source": []
  },
  {
   "cell_type": "markdown",
   "metadata": {},
   "source": [
    "### item_cnt_day"
   ]
  },
  {
   "cell_type": "code",
   "execution_count": 30,
   "metadata": {
    "ExecuteTime": {
     "end_time": "2022-04-24T08:58:42.985378Z",
     "start_time": "2022-04-24T08:58:41.021374Z"
    }
   },
   "outputs": [
    {
     "data": {
      "text/plain": [
       "count           2935849.0\n",
       "mean    1.242640885140891\n",
       "std     2.618834430895425\n",
       "min                 -22.0\n",
       "25%                   1.0\n",
       "50%                   1.0\n",
       "75%                   1.0\n",
       "max                2169.0\n",
       "Name: item_cnt_day, dtype: float64"
      ]
     },
     "metadata": {},
     "output_type": "display_data"
    },
    {
     "data": {
      "image/png": "[encoded data removed]",
      "text/plain": [
       "<Figure size 1440x720 with 1 Axes>"
      ]
     },
     "metadata": {
      "needs_background": "light"
     },
     "output_type": "display_data"
    },
    {
     "data": {
      "image/png": "[encoded data removed]",
      "text/plain": [
       "<Figure size 1440x720 with 1 Axes>"
      ]
     },
     "metadata": {
      "needs_background": "light"
     },
     "output_type": "display_data"
    }
   ],
   "source": [
    "check_for_outlier(series=sales_train[\"item_cnt_day\"], lower_quantile=0.01, upper_quantile=0.99)"
   ]
  },
  {
   "cell_type": "code",
   "execution_count": 31,
   "metadata": {
    "ExecuteTime": {
     "end_time": "2022-04-24T08:58:43.080380Z",
     "start_time": "2022-04-24T08:58:42.988374Z"
    }
   },
   "outputs": [],
   "source": [
    "# clip the data to be in the [0, 20] range\n",
    "sales_train[\"item_cnt_day\"] = sales_train[\"item_cnt_day\"].clip(lower=0, upper=20)"
   ]
  },
  {
   "cell_type": "code",
   "execution_count": null,
   "metadata": {},
   "outputs": [],
   "source": []
  },
  {
   "cell_type": "code",
   "execution_count": null,
   "metadata": {},
   "outputs": [],
   "source": []
  },
  {
   "cell_type": "markdown",
   "metadata": {},
   "source": [
    "## other"
   ]
  },
  {
   "cell_type": "code",
   "execution_count": 32,
   "metadata": {
    "ExecuteTime": {
     "end_time": "2022-04-24T08:58:43.095374Z",
     "start_time": "2022-04-24T08:58:43.082373Z"
    }
   },
   "outputs": [],
   "source": [
    "# keep a clean copy of the train data\n",
    "# train = sales_train.copy()"
   ]
  },
  {
   "cell_type": "code",
   "execution_count": 33,
   "metadata": {
    "ExecuteTime": {
     "end_time": "2022-04-24T08:58:43.110373Z",
     "start_time": "2022-04-24T08:58:43.097374Z"
    }
   },
   "outputs": [],
   "source": [
    "# keep a clean copy of the train + test data\n",
    "# train_raw = sales_train.copy()\n",
    "# test_raw = sales_test.copy()"
   ]
  },
  {
   "cell_type": "code",
   "execution_count": 34,
   "metadata": {
    "ExecuteTime": {
     "end_time": "2022-04-24T08:58:43.126373Z",
     "start_time": "2022-04-24T08:58:43.112375Z"
    }
   },
   "outputs": [],
   "source": [
    "def calculate_revenue(df: pd.DataFrame) -> float:\n",
    "    # some items are returned (item_cnt_day = -1.0); those need to be substracted\n",
    "    return sum(df[\"item_price\"]*df[\"item_cnt_day\"])"
   ]
  },
  {
   "cell_type": "code",
   "execution_count": 35,
   "metadata": {
    "ExecuteTime": {
     "end_time": "2022-04-24T08:58:43.141373Z",
     "start_time": "2022-04-24T08:58:43.129375Z"
    }
   },
   "outputs": [],
   "source": [
    "# revenue_per_shop_and_month = (\n",
    "#     train\n",
    "#     .groupby([\"shop_id\", \"date_block_num\"])\n",
    "#     .apply(lambda x: calculate_revenue(x))\n",
    "#     .rename(\"total_revenue_per_shop_and_month\")\n",
    "#     .reset_index()\n",
    "# )"
   ]
  },
  {
   "cell_type": "code",
   "execution_count": 36,
   "metadata": {
    "ExecuteTime": {
     "end_time": "2022-04-24T08:58:43.157374Z",
     "start_time": "2022-04-24T08:58:43.143373Z"
    }
   },
   "outputs": [],
   "source": [
    "# train = pd.merge(train, revenue_per_shop_and_month, how=\"left\")"
   ]
  },
  {
   "cell_type": "markdown",
   "metadata": {},
   "source": [
    "# model training"
   ]
  },
  {
   "cell_type": "code",
   "execution_count": 37,
   "metadata": {
    "ExecuteTime": {
     "end_time": "2022-04-24T08:58:43.221375Z",
     "start_time": "2022-04-24T08:58:43.160373Z"
    }
   },
   "outputs": [],
   "source": [
    "# keep a clean copy of the train + test data\n",
    "train_raw = sales_train.copy()\n",
    "test_raw = sales_test.copy()"
   ]
  },
  {
   "cell_type": "markdown",
   "metadata": {},
   "source": [
    "## data preprocessing"
   ]
  },
  {
   "cell_type": "code",
   "execution_count": 38,
   "metadata": {
    "ExecuteTime": {
     "end_time": "2022-04-24T08:58:43.237374Z",
     "start_time": "2022-04-24T08:58:43.224390Z"
    }
   },
   "outputs": [],
   "source": [
    "def downcast_dtypes(df):\n",
    "    '''\n",
    "        Changes column types in the dataframe: \n",
    "                \n",
    "                `float64` type to `float32`\n",
    "                `int64`   type to `int32`\n",
    "    '''\n",
    "    \n",
    "    # Select columns to downcast\n",
    "    float_cols = [c for c in df if df[c].dtype == \"float64\"]\n",
    "    int_cols =   [c for c in df if df[c].dtype == \"int64\"]\n",
    "    \n",
    "    # Downcast\n",
    "    df[float_cols] = df[float_cols].astype(np.float16)\n",
    "    df[int_cols]   = df[int_cols].astype(np.int16)\n",
    "    \n",
    "    return df"
   ]
  },
  {
   "cell_type": "markdown",
   "metadata": {},
   "source": [
    "### aggregate data to monthly level"
   ]
  },
  {
   "cell_type": "code",
   "execution_count": 39,
   "metadata": {
    "ExecuteTime": {
     "end_time": "2022-04-24T08:58:56.495372Z",
     "start_time": "2022-04-24T08:58:43.240374Z"
    }
   },
   "outputs": [],
   "source": [
    "index_cols = ['shop_id', 'item_id', 'date_block_num']\n",
    "\n",
    "# For every month we create a grid from all shops/items combinations from that month\n",
    "grid = [] \n",
    "for block_num in train_raw['date_block_num'].unique():\n",
    "    cur_shops = train_raw[train_raw['date_block_num'] == block_num]['shop_id'].unique()\n",
    "    cur_items = train_raw[train_raw['date_block_num'] == block_num]['item_id'].unique()\n",
    "    grid.append(np.array(list(product(*[cur_shops, cur_items, [block_num]])), dtype='int32'))\n",
    "\n",
    "# turn the grid into pandas dataframe\n",
    "grid = pd.DataFrame(np.vstack(grid), columns=index_cols, dtype=np.int32)"
   ]
  },
  {
   "cell_type": "code",
   "execution_count": 40,
   "metadata": {
    "ExecuteTime": {
     "end_time": "2022-04-24T08:58:57.873396Z",
     "start_time": "2022-04-24T08:58:56.497373Z"
    }
   },
   "outputs": [],
   "source": [
    "monthly_sales = (\n",
    "    train_raw\n",
    "    .groupby(['date_block_num','shop_id','item_id'], as_index=False)\n",
    "    .agg(item_cnt_month=('item_cnt_day', 'sum'))\n",
    ")"
   ]
  },
  {
   "cell_type": "code",
   "execution_count": 41,
   "metadata": {
    "ExecuteTime": {
     "end_time": "2022-04-24T08:59:03.746040Z",
     "start_time": "2022-04-24T08:58:57.881375Z"
    }
   },
   "outputs": [],
   "source": [
    "train = pd.merge(grid, monthly_sales, how='left', on=index_cols)"
   ]
  },
  {
   "cell_type": "code",
   "execution_count": 42,
   "metadata": {
    "ExecuteTime": {
     "end_time": "2022-04-24T08:59:03.761986Z",
     "start_time": "2022-04-24T08:59:03.747987Z"
    }
   },
   "outputs": [],
   "source": [
    "# train = train.sort_values(by=[\"date_block_num\", \"item_id\", \"shop_id\"])"
   ]
  },
  {
   "cell_type": "code",
   "execution_count": 43,
   "metadata": {
    "ExecuteTime": {
     "end_time": "2022-04-24T08:59:03.920991Z",
     "start_time": "2022-04-24T08:59:03.763988Z"
    }
   },
   "outputs": [],
   "source": [
    "train[\"item_cnt_month\"] = train[\"item_cnt_month\"].fillna(0)#.clip(0, 20)"
   ]
  },
  {
   "cell_type": "code",
   "execution_count": 44,
   "metadata": {
    "ExecuteTime": {
     "end_time": "2022-04-24T08:59:04.111052Z",
     "start_time": "2022-04-24T08:59:03.925090Z"
    }
   },
   "outputs": [],
   "source": [
    "train = downcast_dtypes(train)"
   ]
  },
  {
   "cell_type": "code",
   "execution_count": null,
   "metadata": {},
   "outputs": [],
   "source": []
  },
  {
   "cell_type": "code",
   "execution_count": 45,
   "metadata": {
    "ExecuteTime": {
     "end_time": "2022-04-24T08:59:04.126986Z",
     "start_time": "2022-04-24T08:59:04.112985Z"
    }
   },
   "outputs": [
    {
     "data": {
      "text/html": [
       "<div>\n",
       "<style scoped>\n",
       "    .dataframe tbody tr th:only-of-type {\n",
       "        vertical-align: middle;\n",
       "    }\n",
       "\n",
       "    .dataframe tbody tr th {\n",
       "        vertical-align: top;\n",
       "    }\n",
       "\n",
       "    .dataframe thead th {\n",
       "        text-align: right;\n",
       "    }\n",
       "</style>\n",
       "<table border=\"1\" class=\"dataframe\">\n",
       "  <thead>\n",
       "    <tr style=\"text-align: right;\">\n",
       "      <th></th>\n",
       "      <th>shop_id</th>\n",
       "      <th>item_id</th>\n",
       "      <th>date_block_num</th>\n",
       "      <th>item_cnt_month</th>\n",
       "    </tr>\n",
       "  </thead>\n",
       "  <tbody>\n",
       "    <tr>\n",
       "      <th>0</th>\n",
       "      <td>59</td>\n",
       "      <td>22154</td>\n",
       "      <td>0</td>\n",
       "      <td>1.0</td>\n",
       "    </tr>\n",
       "    <tr>\n",
       "      <th>1</th>\n",
       "      <td>59</td>\n",
       "      <td>2552</td>\n",
       "      <td>0</td>\n",
       "      <td>0.0</td>\n",
       "    </tr>\n",
       "  </tbody>\n",
       "</table>\n",
       "</div>"
      ],
      "text/plain": [
       "   shop_id  item_id  date_block_num  item_cnt_month\n",
       "0       59    22154               0             1.0\n",
       "1       59     2552               0             0.0"
      ]
     },
     "execution_count": 45,
     "metadata": {},
     "output_type": "execute_result"
    }
   ],
   "source": [
    "train.head(2)"
   ]
  },
  {
   "cell_type": "markdown",
   "metadata": {},
   "source": [
    "### add test data"
   ]
  },
  {
   "cell_type": "code",
   "execution_count": 46,
   "metadata": {
    "ExecuteTime": {
     "end_time": "2022-04-24T08:59:04.141985Z",
     "start_time": "2022-04-24T08:59:04.128987Z"
    }
   },
   "outputs": [],
   "source": [
    "# test data set is month 34 from the train data set\n",
    "test_raw[\"date_block_num\"] = 34"
   ]
  },
  {
   "cell_type": "code",
   "execution_count": 47,
   "metadata": {
    "ExecuteTime": {
     "end_time": "2022-04-24T08:59:04.863038Z",
     "start_time": "2022-04-24T08:59:04.143986Z"
    }
   },
   "outputs": [],
   "source": [
    "train = pd.concat([train, test_raw], ignore_index=True, sort=False, keys=index_cols)\n",
    "train = train.fillna(0)"
   ]
  },
  {
   "cell_type": "code",
   "execution_count": null,
   "metadata": {},
   "outputs": [],
   "source": []
  },
  {
   "cell_type": "markdown",
   "metadata": {},
   "source": [
    "### merge with supplemental data"
   ]
  },
  {
   "cell_type": "markdown",
   "metadata": {},
   "source": [
    "#### item names + item categories"
   ]
  },
  {
   "cell_type": "code",
   "execution_count": 48,
   "metadata": {
    "ExecuteTime": {
     "end_time": "2022-04-24T08:59:04.878986Z",
     "start_time": "2022-04-24T08:59:04.864986Z"
    }
   },
   "outputs": [
    {
     "data": {
      "text/html": [
       "<div>\n",
       "<style scoped>\n",
       "    .dataframe tbody tr th:only-of-type {\n",
       "        vertical-align: middle;\n",
       "    }\n",
       "\n",
       "    .dataframe tbody tr th {\n",
       "        vertical-align: top;\n",
       "    }\n",
       "\n",
       "    .dataframe thead th {\n",
       "        text-align: right;\n",
       "    }\n",
       "</style>\n",
       "<table border=\"1\" class=\"dataframe\">\n",
       "  <thead>\n",
       "    <tr style=\"text-align: right;\">\n",
       "      <th></th>\n",
       "      <th>item_name</th>\n",
       "      <th>item_id</th>\n",
       "      <th>item_category_id</th>\n",
       "    </tr>\n",
       "  </thead>\n",
       "  <tbody>\n",
       "    <tr>\n",
       "      <th>0</th>\n",
       "      <td>! ВО ВЛАСТИ НАВАЖДЕНИЯ (ПЛАСТ.)         D</td>\n",
       "      <td>0</td>\n",
       "      <td>40</td>\n",
       "    </tr>\n",
       "    <tr>\n",
       "      <th>1</th>\n",
       "      <td>!ABBYY FineReader 12 Professional Edition Full...</td>\n",
       "      <td>1</td>\n",
       "      <td>76</td>\n",
       "    </tr>\n",
       "  </tbody>\n",
       "</table>\n",
       "</div>"
      ],
      "text/plain": [
       "                                           item_name  item_id  \\\n",
       "0          ! ВО ВЛАСТИ НАВАЖДЕНИЯ (ПЛАСТ.)         D        0   \n",
       "1  !ABBYY FineReader 12 Professional Edition Full...        1   \n",
       "\n",
       "   item_category_id  \n",
       "0                40  \n",
       "1                76  "
      ]
     },
     "execution_count": 48,
     "metadata": {},
     "output_type": "execute_result"
    }
   ],
   "source": [
    "items.head(2)"
   ]
  },
  {
   "cell_type": "code",
   "execution_count": 49,
   "metadata": {
    "ExecuteTime": {
     "end_time": "2022-04-24T08:59:08.364328Z",
     "start_time": "2022-04-24T08:59:04.881987Z"
    }
   },
   "outputs": [],
   "source": [
    "# train = pd.merge(item_cnt_month, items, on=\"item_id\")\n",
    "train = pd.merge(train, items, on=\"item_id\", how=\"left\")"
   ]
  },
  {
   "cell_type": "markdown",
   "metadata": {},
   "source": [
    "#### item category names"
   ]
  },
  {
   "cell_type": "code",
   "execution_count": 50,
   "metadata": {
    "ExecuteTime": {
     "end_time": "2022-04-24T08:59:08.380328Z",
     "start_time": "2022-04-24T08:59:08.367327Z"
    }
   },
   "outputs": [
    {
     "data": {
      "text/html": [
       "<div>\n",
       "<style scoped>\n",
       "    .dataframe tbody tr th:only-of-type {\n",
       "        vertical-align: middle;\n",
       "    }\n",
       "\n",
       "    .dataframe tbody tr th {\n",
       "        vertical-align: top;\n",
       "    }\n",
       "\n",
       "    .dataframe thead th {\n",
       "        text-align: right;\n",
       "    }\n",
       "</style>\n",
       "<table border=\"1\" class=\"dataframe\">\n",
       "  <thead>\n",
       "    <tr style=\"text-align: right;\">\n",
       "      <th></th>\n",
       "      <th>item_category_name</th>\n",
       "      <th>item_category_id</th>\n",
       "    </tr>\n",
       "  </thead>\n",
       "  <tbody>\n",
       "    <tr>\n",
       "      <th>0</th>\n",
       "      <td>PC - Гарнитуры/Наушники</td>\n",
       "      <td>0</td>\n",
       "    </tr>\n",
       "    <tr>\n",
       "      <th>1</th>\n",
       "      <td>Аксессуары - PS2</td>\n",
       "      <td>1</td>\n",
       "    </tr>\n",
       "  </tbody>\n",
       "</table>\n",
       "</div>"
      ],
      "text/plain": [
       "        item_category_name  item_category_id\n",
       "0  PC - Гарнитуры/Наушники                 0\n",
       "1         Аксессуары - PS2                 1"
      ]
     },
     "execution_count": 50,
     "metadata": {},
     "output_type": "execute_result"
    }
   ],
   "source": [
    "item_categories.head(2)"
   ]
  },
  {
   "cell_type": "code",
   "execution_count": 51,
   "metadata": {
    "ExecuteTime": {
     "end_time": "2022-04-24T08:59:08.395328Z",
     "start_time": "2022-04-24T08:59:08.383328Z"
    }
   },
   "outputs": [],
   "source": [
    "# item category name consists of a main category and a sub category\n",
    "item_categories[[\"main_category\", \"sub_category\"]] = item_categories[\"item_category_name\"].str.split(\" - \", expand=True)"
   ]
  },
  {
   "cell_type": "code",
   "execution_count": 52,
   "metadata": {
    "ExecuteTime": {
     "end_time": "2022-04-24T08:59:10.791363Z",
     "start_time": "2022-04-24T08:59:08.398327Z"
    }
   },
   "outputs": [],
   "source": [
    "train = pd.merge(train, item_categories, on=\"item_category_id\", how=\"left\")"
   ]
  },
  {
   "cell_type": "markdown",
   "metadata": {},
   "source": [
    "#### shop names"
   ]
  },
  {
   "cell_type": "code",
   "execution_count": 53,
   "metadata": {
    "ExecuteTime": {
     "end_time": "2022-04-24T08:59:10.807363Z",
     "start_time": "2022-04-24T08:59:10.793363Z"
    }
   },
   "outputs": [
    {
     "data": {
      "text/html": [
       "<div>\n",
       "<style scoped>\n",
       "    .dataframe tbody tr th:only-of-type {\n",
       "        vertical-align: middle;\n",
       "    }\n",
       "\n",
       "    .dataframe tbody tr th {\n",
       "        vertical-align: top;\n",
       "    }\n",
       "\n",
       "    .dataframe thead th {\n",
       "        text-align: right;\n",
       "    }\n",
       "</style>\n",
       "<table border=\"1\" class=\"dataframe\">\n",
       "  <thead>\n",
       "    <tr style=\"text-align: right;\">\n",
       "      <th></th>\n",
       "      <th>shop_name</th>\n",
       "      <th>shop_id</th>\n",
       "    </tr>\n",
       "  </thead>\n",
       "  <tbody>\n",
       "    <tr>\n",
       "      <th>0</th>\n",
       "      <td>!Якутск Орджоникидзе, 56 фран</td>\n",
       "      <td>0</td>\n",
       "    </tr>\n",
       "    <tr>\n",
       "      <th>1</th>\n",
       "      <td>!Якутск ТЦ \"Центральный\" фран</td>\n",
       "      <td>1</td>\n",
       "    </tr>\n",
       "  </tbody>\n",
       "</table>\n",
       "</div>"
      ],
      "text/plain": [
       "                       shop_name  shop_id\n",
       "0  !Якутск Орджоникидзе, 56 фран        0\n",
       "1  !Якутск ТЦ \"Центральный\" фран        1"
      ]
     },
     "execution_count": 53,
     "metadata": {},
     "output_type": "execute_result"
    }
   ],
   "source": [
    "shops.head(2)"
   ]
  },
  {
   "cell_type": "code",
   "execution_count": 54,
   "metadata": {
    "ExecuteTime": {
     "end_time": "2022-04-24T08:59:10.822364Z",
     "start_time": "2022-04-24T08:59:10.810363Z"
    }
   },
   "outputs": [],
   "source": [
    "# shop is <city shop_name>\n",
    "shops[\"city\"] = shops[\"shop_name\"].apply(lambda x: x.split(\" \")[0])"
   ]
  },
  {
   "cell_type": "code",
   "execution_count": 55,
   "metadata": {
    "ExecuteTime": {
     "end_time": "2022-04-24T08:59:16.198044Z",
     "start_time": "2022-04-24T08:59:10.824363Z"
    }
   },
   "outputs": [],
   "source": [
    "train = pd.merge(train, shops, on=\"shop_id\", how=\"left\")"
   ]
  },
  {
   "cell_type": "code",
   "execution_count": null,
   "metadata": {},
   "outputs": [],
   "source": []
  },
  {
   "cell_type": "markdown",
   "metadata": {},
   "source": [
    "### add other features"
   ]
  },
  {
   "cell_type": "markdown",
   "metadata": {},
   "source": [
    "#### mean encoded features"
   ]
  },
  {
   "cell_type": "code",
   "execution_count": null,
   "metadata": {},
   "outputs": [],
   "source": []
  },
  {
   "cell_type": "markdown",
   "metadata": {},
   "source": [
    "##### item_cnt_month"
   ]
  },
  {
   "cell_type": "code",
   "execution_count": 56,
   "metadata": {
    "ExecuteTime": {
     "end_time": "2022-04-22T18:52:37.338016Z",
     "start_time": "2022-04-22T18:52:37.324959Z"
    }
   },
   "outputs": [],
   "source": [
    "# get the data from the previous n months\n",
    "# for n_months in lag_months:\n",
    "#     feature_name = f'item_cnt_month_{n_months}'\n",
    "#     train[feature_name] = (\n",
    "#         train.groupby(['shop_id', 'item_category_id', 'item_id'])['item_cnt_month'].shift(n_months)\n",
    "#     )"
   ]
  },
  {
   "cell_type": "code",
   "execution_count": null,
   "metadata": {},
   "outputs": [],
   "source": []
  },
  {
   "cell_type": "code",
   "execution_count": null,
   "metadata": {},
   "outputs": [],
   "source": []
  },
  {
   "cell_type": "markdown",
   "metadata": {},
   "source": [
    "##### shop mean per month"
   ]
  },
  {
   "cell_type": "code",
   "execution_count": 56,
   "metadata": {
    "ExecuteTime": {
     "end_time": "2022-04-24T08:59:17.473055Z",
     "start_time": "2022-04-24T08:59:16.201045Z"
    }
   },
   "outputs": [],
   "source": [
    "# get the mean per shop and month\n",
    "shop_mean_per_month = (\n",
    "    train.groupby(by=[\"date_block_num\", \"shop_id\"], as_index=False).agg(shop_mean_per_month=(\"item_cnt_month\", \"mean\"))\n",
    ")"
   ]
  },
  {
   "cell_type": "code",
   "execution_count": 57,
   "metadata": {
    "ExecuteTime": {
     "end_time": "2022-04-24T08:59:21.526051Z",
     "start_time": "2022-04-24T08:59:17.475045Z"
    }
   },
   "outputs": [],
   "source": [
    "train = pd.merge(train, shop_mean_per_month, how=\"left\", on=[\"date_block_num\", \"shop_id\"])"
   ]
  },
  {
   "cell_type": "code",
   "execution_count": null,
   "metadata": {},
   "outputs": [],
   "source": []
  },
  {
   "cell_type": "markdown",
   "metadata": {},
   "source": [
    "##### item mean per month"
   ]
  },
  {
   "cell_type": "code",
   "execution_count": 58,
   "metadata": {
    "ExecuteTime": {
     "end_time": "2022-04-24T08:59:23.816059Z",
     "start_time": "2022-04-24T08:59:21.535044Z"
    }
   },
   "outputs": [],
   "source": [
    "item_mean_per_month = train.groupby(by=[\"date_block_num\", \"item_id\"]).agg(item_mean_per_month=(\"item_cnt_month\", \"mean\"))"
   ]
  },
  {
   "cell_type": "code",
   "execution_count": 59,
   "metadata": {
    "ExecuteTime": {
     "end_time": "2022-04-24T08:59:29.362045Z",
     "start_time": "2022-04-24T08:59:23.818047Z"
    }
   },
   "outputs": [],
   "source": [
    "train = pd.merge(train, item_mean_per_month, how=\"left\", on=[\"date_block_num\", \"item_id\"])"
   ]
  },
  {
   "cell_type": "code",
   "execution_count": null,
   "metadata": {},
   "outputs": [],
   "source": []
  },
  {
   "cell_type": "markdown",
   "metadata": {},
   "source": [
    "##### shop + item mean per month"
   ]
  },
  {
   "cell_type": "code",
   "execution_count": 60,
   "metadata": {
    "ExecuteTime": {
     "end_time": "2022-04-24T08:59:39.218044Z",
     "start_time": "2022-04-24T08:59:29.365046Z"
    }
   },
   "outputs": [],
   "source": [
    "shop_and_item_per_month_mean = (\n",
    "    train.groupby(by=[\"date_block_num\", \"shop_id\", \"item_id\"]).agg(shop_and_item_per_month_mean=(\"item_cnt_month\", \"mean\"))\n",
    ")"
   ]
  },
  {
   "cell_type": "code",
   "execution_count": 61,
   "metadata": {
    "ExecuteTime": {
     "end_time": "2022-04-24T08:59:50.394045Z",
     "start_time": "2022-04-24T08:59:39.220045Z"
    }
   },
   "outputs": [],
   "source": [
    "train = pd.merge(train, shop_and_item_per_month_mean, how=\"left\", on=[\"date_block_num\", \"shop_id\", \"item_id\"])"
   ]
  },
  {
   "cell_type": "code",
   "execution_count": null,
   "metadata": {},
   "outputs": [],
   "source": []
  },
  {
   "cell_type": "markdown",
   "metadata": {},
   "source": [
    "##### shop + item category per month"
   ]
  },
  {
   "cell_type": "code",
   "execution_count": 62,
   "metadata": {
    "ExecuteTime": {
     "end_time": "2022-04-24T08:59:52.864173Z",
     "start_time": "2022-04-24T08:59:50.395991Z"
    }
   },
   "outputs": [],
   "source": [
    "shop_and_category_per_month_mean = (\n",
    "    train.groupby(by=[\"date_block_num\", \"shop_id\", \"main_category\"])\n",
    "    .agg(shop_and_category_per_month_mean=(\"item_cnt_month\", \"mean\"))\n",
    ")"
   ]
  },
  {
   "cell_type": "code",
   "execution_count": 63,
   "metadata": {
    "ExecuteTime": {
     "end_time": "2022-04-24T08:59:58.424375Z",
     "start_time": "2022-04-24T08:59:52.867188Z"
    }
   },
   "outputs": [],
   "source": [
    "train = pd.merge(train, shop_and_category_per_month_mean, how=\"left\", on=[\"date_block_num\", \"shop_id\", \"main_category\"])"
   ]
  },
  {
   "cell_type": "code",
   "execution_count": null,
   "metadata": {},
   "outputs": [],
   "source": []
  },
  {
   "cell_type": "markdown",
   "metadata": {},
   "source": [
    "#### city per month"
   ]
  },
  {
   "cell_type": "code",
   "execution_count": 64,
   "metadata": {
    "ExecuteTime": {
     "end_time": "2022-04-24T09:00:00.708376Z",
     "start_time": "2022-04-24T08:59:58.427376Z"
    }
   },
   "outputs": [],
   "source": [
    "city_per_month_mean = train.groupby(by=[\"date_block_num\", \"city\"]).agg(city_per_month_mean=(\"item_cnt_month\", \"mean\"))"
   ]
  },
  {
   "cell_type": "code",
   "execution_count": 65,
   "metadata": {
    "ExecuteTime": {
     "end_time": "2022-04-24T09:00:05.977324Z",
     "start_time": "2022-04-24T09:00:00.711377Z"
    }
   },
   "outputs": [],
   "source": [
    "train = pd.merge(train, city_per_month_mean, how=\"left\", on=[\"date_block_num\", \"city\"])"
   ]
  },
  {
   "cell_type": "code",
   "execution_count": null,
   "metadata": {},
   "outputs": [],
   "source": []
  },
  {
   "cell_type": "markdown",
   "metadata": {},
   "source": [
    "#### lag features"
   ]
  },
  {
   "cell_type": "code",
   "execution_count": 66,
   "metadata": {
    "ExecuteTime": {
     "end_time": "2022-04-24T09:00:08.599571Z",
     "start_time": "2022-04-24T09:00:05.980322Z"
    }
   },
   "outputs": [],
   "source": [
    "train = downcast_dtypes(train)"
   ]
  },
  {
   "cell_type": "code",
   "execution_count": 67,
   "metadata": {
    "ExecuteTime": {
     "end_time": "2022-04-24T09:00:08.614572Z",
     "start_time": "2022-04-24T09:00:08.601572Z"
    }
   },
   "outputs": [],
   "source": [
    "lag_months = [1, 2, 3, 4, 5, 12]"
   ]
  },
  {
   "cell_type": "code",
   "execution_count": 68,
   "metadata": {
    "ExecuteTime": {
     "end_time": "2022-04-24T09:00:08.630582Z",
     "start_time": "2022-04-24T09:00:08.616571Z"
    }
   },
   "outputs": [],
   "source": [
    "# List of columns that we will use to create lags\n",
    "lag_features = [\"item_cnt_month\", \"shop_mean_per_month\", \"item_mean_per_month\", \"shop_and_item_per_month_mean\", \n",
    "                \"shop_and_category_per_month_mean\", \"city_per_month_mean\"]"
   ]
  },
  {
   "cell_type": "code",
   "execution_count": 69,
   "metadata": {
    "ExecuteTime": {
     "end_time": "2022-04-24T09:00:08.646575Z",
     "start_time": "2022-04-24T09:00:08.633572Z"
    }
   },
   "outputs": [],
   "source": [
    "lag_features_cols_to_merge_on = {\n",
    "    \"item_cnt_month\": index_cols,\n",
    "    \"shop_mean_per_month\": [\"date_block_num\", \"shop_id\"],\n",
    "    \"item_mean_per_month\": [\"date_block_num\", \"item_id\"],\n",
    "    \"shop_and_item_per_month_mean\": index_cols, \n",
    "    \"shop_and_category_per_month_mean\": [\"date_block_num\", \"shop_id\", \"main_category\"], \n",
    "    \"city_per_month_mean\": [\"date_block_num\", \"city\"],\n",
    "}"
   ]
  },
  {
   "cell_type": "code",
   "execution_count": 70,
   "metadata": {
    "ExecuteTime": {
     "end_time": "2022-04-24T09:00:08.662517Z",
     "start_time": "2022-04-24T09:00:08.649576Z"
    }
   },
   "outputs": [
    {
     "data": {
      "text/plain": [
       "['shop_id', 'item_id', 'date_block_num']"
      ]
     },
     "execution_count": 70,
     "metadata": {},
     "output_type": "execute_result"
    }
   ],
   "source": [
    "lag_features_cols_to_merge_on[\"item_cnt_month\"]"
   ]
  },
  {
   "cell_type": "code",
   "execution_count": null,
   "metadata": {},
   "outputs": [],
   "source": []
  },
  {
   "cell_type": "code",
   "execution_count": 72,
   "metadata": {
    "ExecuteTime": {
     "end_time": "2022-04-22T18:53:31.401463Z",
     "start_time": "2022-04-22T18:53:31.356457Z"
    }
   },
   "outputs": [
    {
     "data": {
      "text/html": [
       "<div>\n",
       "<style scoped>\n",
       "    .dataframe tbody tr th:only-of-type {\n",
       "        vertical-align: middle;\n",
       "    }\n",
       "\n",
       "    .dataframe tbody tr th {\n",
       "        vertical-align: top;\n",
       "    }\n",
       "\n",
       "    .dataframe thead th {\n",
       "        text-align: right;\n",
       "    }\n",
       "</style>\n",
       "<table border=\"1\" class=\"dataframe\">\n",
       "  <thead>\n",
       "    <tr style=\"text-align: right;\">\n",
       "      <th></th>\n",
       "      <th>shop_id</th>\n",
       "      <th>item_id</th>\n",
       "      <th>date_block_num</th>\n",
       "      <th>item_cnt_month</th>\n",
       "      <th>ID</th>\n",
       "      <th>item_name</th>\n",
       "      <th>item_category_id</th>\n",
       "      <th>item_category_name</th>\n",
       "      <th>main_category</th>\n",
       "      <th>sub_category</th>\n",
       "      <th>shop_name</th>\n",
       "      <th>city</th>\n",
       "      <th>shop_mean_per_month</th>\n",
       "      <th>item_mean_per_month</th>\n",
       "      <th>shop_and_item_per_month_mean</th>\n",
       "      <th>shop_and_category_per_month_mean</th>\n",
       "      <th>city_per_month_mean</th>\n",
       "    </tr>\n",
       "  </thead>\n",
       "  <tbody>\n",
       "    <tr>\n",
       "      <th>0</th>\n",
       "      <td>0</td>\n",
       "      <td>19</td>\n",
       "      <td>0</td>\n",
       "      <td>0.0</td>\n",
       "      <td>0.0</td>\n",
       "      <td>/ЗОЛОТАЯ КОЛЛЕКЦИЯ м/ф-72</td>\n",
       "      <td>40</td>\n",
       "      <td>Кино - DVD</td>\n",
       "      <td>Кино</td>\n",
       "      <td>DVD</td>\n",
       "      <td>!Якутск Орджоникидзе, 56 фран</td>\n",
       "      <td>!Якутск</td>\n",
       "      <td>0.667</td>\n",
       "      <td>0.02222</td>\n",
       "      <td>0.0</td>\n",
       "      <td>0.6577</td>\n",
       "      <td>0.514</td>\n",
       "    </tr>\n",
       "    <tr>\n",
       "      <th>1</th>\n",
       "      <td>0</td>\n",
       "      <td>32</td>\n",
       "      <td>0</td>\n",
       "      <td>6.0</td>\n",
       "      <td>0.0</td>\n",
       "      <td>1+1</td>\n",
       "      <td>40</td>\n",
       "      <td>Кино - DVD</td>\n",
       "      <td>Кино</td>\n",
       "      <td>DVD</td>\n",
       "      <td>!Якутск Орджоникидзе, 56 фран</td>\n",
       "      <td>!Якутск</td>\n",
       "      <td>0.667</td>\n",
       "      <td>5.38</td>\n",
       "      <td>6.0</td>\n",
       "      <td>0.6577</td>\n",
       "      <td>0.514</td>\n",
       "    </tr>\n",
       "    <tr>\n",
       "      <th>2</th>\n",
       "      <td>0</td>\n",
       "      <td>32</td>\n",
       "      <td>1</td>\n",
       "      <td>10.0</td>\n",
       "      <td>0.0</td>\n",
       "      <td>1+1</td>\n",
       "      <td>40</td>\n",
       "      <td>Кино - DVD</td>\n",
       "      <td>Кино</td>\n",
       "      <td>DVD</td>\n",
       "      <td>!Якутск Орджоникидзе, 56 фран</td>\n",
       "      <td>!Якутск</td>\n",
       "      <td>0.7124</td>\n",
       "      <td>4.477</td>\n",
       "      <td>10.0</td>\n",
       "      <td>0.634</td>\n",
       "      <td>0.559</td>\n",
       "    </tr>\n",
       "    <tr>\n",
       "      <th>3</th>\n",
       "      <td>0</td>\n",
       "      <td>34</td>\n",
       "      <td>0</td>\n",
       "      <td>0.0</td>\n",
       "      <td>0.0</td>\n",
       "      <td>10 000 ЛЕТ ДО НАШЕЙ ЭРЫ WB (регион)</td>\n",
       "      <td>40</td>\n",
       "      <td>Кино - DVD</td>\n",
       "      <td>Кино</td>\n",
       "      <td>DVD</td>\n",
       "      <td>!Якутск Орджоникидзе, 56 фран</td>\n",
       "      <td>!Якутск</td>\n",
       "      <td>0.667</td>\n",
       "      <td>0.2</td>\n",
       "      <td>0.0</td>\n",
       "      <td>0.6577</td>\n",
       "      <td>0.514</td>\n",
       "    </tr>\n",
       "    <tr>\n",
       "      <th>4</th>\n",
       "      <td>0</td>\n",
       "      <td>34</td>\n",
       "      <td>1</td>\n",
       "      <td>0.0</td>\n",
       "      <td>0.0</td>\n",
       "      <td>10 000 ЛЕТ ДО НАШЕЙ ЭРЫ WB (регион)</td>\n",
       "      <td>40</td>\n",
       "      <td>Кино - DVD</td>\n",
       "      <td>Кино</td>\n",
       "      <td>DVD</td>\n",
       "      <td>!Якутск Орджоникидзе, 56 фран</td>\n",
       "      <td>!Якутск</td>\n",
       "      <td>0.7124</td>\n",
       "      <td>0.2391</td>\n",
       "      <td>0.0</td>\n",
       "      <td>0.634</td>\n",
       "      <td>0.559</td>\n",
       "    </tr>\n",
       "    <tr>\n",
       "      <th>...</th>\n",
       "      <td>...</td>\n",
       "      <td>...</td>\n",
       "      <td>...</td>\n",
       "      <td>...</td>\n",
       "      <td>...</td>\n",
       "      <td>...</td>\n",
       "      <td>...</td>\n",
       "      <td>...</td>\n",
       "      <td>...</td>\n",
       "      <td>...</td>\n",
       "      <td>...</td>\n",
       "      <td>...</td>\n",
       "      <td>...</td>\n",
       "      <td>...</td>\n",
       "      <td>...</td>\n",
       "      <td>...</td>\n",
       "      <td>...</td>\n",
       "    </tr>\n",
       "    <tr>\n",
       "      <th>11128045</th>\n",
       "      <td>36</td>\n",
       "      <td>13093</td>\n",
       "      <td>33</td>\n",
       "      <td>0.0</td>\n",
       "      <td>0.0</td>\n",
       "      <td>Карта оплаты Windows: 250 рублей [Цифровая вер...</td>\n",
       "      <td>36</td>\n",
       "      <td>Карты оплаты - Windows (Цифра)</td>\n",
       "      <td>Карты оплаты</td>\n",
       "      <td>Windows (Цифра)</td>\n",
       "      <td>Новосибирск ТРЦ \"Галерея Новосибирск\"</td>\n",
       "      <td>Новосибирск</td>\n",
       "      <td>0.06152</td>\n",
       "      <td>0.0909</td>\n",
       "      <td>0.0</td>\n",
       "      <td>0.06665</td>\n",
       "      <td>0.10077</td>\n",
       "    </tr>\n",
       "    <tr>\n",
       "      <th>11128046</th>\n",
       "      <td>36</td>\n",
       "      <td>13095</td>\n",
       "      <td>33</td>\n",
       "      <td>0.0</td>\n",
       "      <td>0.0</td>\n",
       "      <td>Карта оплаты Windows: 500 рублей [Цифровая вер...</td>\n",
       "      <td>36</td>\n",
       "      <td>Карты оплаты - Windows (Цифра)</td>\n",
       "      <td>Карты оплаты</td>\n",
       "      <td>Windows (Цифра)</td>\n",
       "      <td>Новосибирск ТРЦ \"Галерея Новосибирск\"</td>\n",
       "      <td>Новосибирск</td>\n",
       "      <td>0.06152</td>\n",
       "      <td>0.0682</td>\n",
       "      <td>0.0</td>\n",
       "      <td>0.06665</td>\n",
       "      <td>0.10077</td>\n",
       "    </tr>\n",
       "    <tr>\n",
       "      <th>11128047</th>\n",
       "      <td>36</td>\n",
       "      <td>13094</td>\n",
       "      <td>34</td>\n",
       "      <td>0.0</td>\n",
       "      <td>inf</td>\n",
       "      <td>Карта оплаты Windows: 2500 рублей [Цифровая ве...</td>\n",
       "      <td>36</td>\n",
       "      <td>Карты оплаты - Windows (Цифра)</td>\n",
       "      <td>Карты оплаты</td>\n",
       "      <td>Windows (Цифра)</td>\n",
       "      <td>Новосибирск ТРЦ \"Галерея Новосибирск\"</td>\n",
       "      <td>Новосибирск</td>\n",
       "      <td>0.0</td>\n",
       "      <td>0.0</td>\n",
       "      <td>0.0</td>\n",
       "      <td>0.0</td>\n",
       "      <td>0.0</td>\n",
       "    </tr>\n",
       "    <tr>\n",
       "      <th>11128048</th>\n",
       "      <td>36</td>\n",
       "      <td>13092</td>\n",
       "      <td>33</td>\n",
       "      <td>0.0</td>\n",
       "      <td>0.0</td>\n",
       "      <td>Карта оплаты Windows: 2000 рублей [Цифровая ве...</td>\n",
       "      <td>36</td>\n",
       "      <td>Карты оплаты - Windows (Цифра)</td>\n",
       "      <td>Карты оплаты</td>\n",
       "      <td>Windows (Цифра)</td>\n",
       "      <td>Новосибирск ТРЦ \"Галерея Новосибирск\"</td>\n",
       "      <td>Новосибирск</td>\n",
       "      <td>0.06152</td>\n",
       "      <td>0.02272</td>\n",
       "      <td>0.0</td>\n",
       "      <td>0.06665</td>\n",
       "      <td>0.10077</td>\n",
       "    </tr>\n",
       "    <tr>\n",
       "      <th>11128049</th>\n",
       "      <td>36</td>\n",
       "      <td>13096</td>\n",
       "      <td>34</td>\n",
       "      <td>0.0</td>\n",
       "      <td>inf</td>\n",
       "      <td>Карта оплаты Windows: 750 рублей [Цифровая вер...</td>\n",
       "      <td>36</td>\n",
       "      <td>Карты оплаты - Windows (Цифра)</td>\n",
       "      <td>Карты оплаты</td>\n",
       "      <td>Windows (Цифра)</td>\n",
       "      <td>Новосибирск ТРЦ \"Галерея Новосибирск\"</td>\n",
       "      <td>Новосибирск</td>\n",
       "      <td>0.0</td>\n",
       "      <td>0.0</td>\n",
       "      <td>0.0</td>\n",
       "      <td>0.0</td>\n",
       "      <td>0.0</td>\n",
       "    </tr>\n",
       "  </tbody>\n",
       "</table>\n",
       "<p>11128050 rows × 17 columns</p>\n",
       "</div>"
      ],
      "text/plain": [
       "          shop_id  item_id  date_block_num  item_cnt_month  ID  \\\n",
       "0               0       19               0             0.0 0.0   \n",
       "1               0       32               0             6.0 0.0   \n",
       "2               0       32               1            10.0 0.0   \n",
       "3               0       34               0             0.0 0.0   \n",
       "4               0       34               1             0.0 0.0   \n",
       "...           ...      ...             ...             ...  ..   \n",
       "11128045       36    13093              33             0.0 0.0   \n",
       "11128046       36    13095              33             0.0 0.0   \n",
       "11128047       36    13094              34             0.0 inf   \n",
       "11128048       36    13092              33             0.0 0.0   \n",
       "11128049       36    13096              34             0.0 inf   \n",
       "\n",
       "                                                  item_name  item_category_id  \\\n",
       "0                                 /ЗОЛОТАЯ КОЛЛЕКЦИЯ м/ф-72                40   \n",
       "1                                                       1+1                40   \n",
       "2                                                       1+1                40   \n",
       "3                       10 000 ЛЕТ ДО НАШЕЙ ЭРЫ WB (регион)                40   \n",
       "4                       10 000 ЛЕТ ДО НАШЕЙ ЭРЫ WB (регион)                40   \n",
       "...                                                     ...               ...   \n",
       "11128045  Карта оплаты Windows: 250 рублей [Цифровая вер...                36   \n",
       "11128046  Карта оплаты Windows: 500 рублей [Цифровая вер...                36   \n",
       "11128047  Карта оплаты Windows: 2500 рублей [Цифровая ве...                36   \n",
       "11128048  Карта оплаты Windows: 2000 рублей [Цифровая ве...                36   \n",
       "11128049  Карта оплаты Windows: 750 рублей [Цифровая вер...                36   \n",
       "\n",
       "                      item_category_name main_category     sub_category  \\\n",
       "0                             Кино - DVD          Кино              DVD   \n",
       "1                             Кино - DVD          Кино              DVD   \n",
       "2                             Кино - DVD          Кино              DVD   \n",
       "3                             Кино - DVD          Кино              DVD   \n",
       "4                             Кино - DVD          Кино              DVD   \n",
       "...                                  ...           ...              ...   \n",
       "11128045  Карты оплаты - Windows (Цифра)  Карты оплаты  Windows (Цифра)   \n",
       "11128046  Карты оплаты - Windows (Цифра)  Карты оплаты  Windows (Цифра)   \n",
       "11128047  Карты оплаты - Windows (Цифра)  Карты оплаты  Windows (Цифра)   \n",
       "11128048  Карты оплаты - Windows (Цифра)  Карты оплаты  Windows (Цифра)   \n",
       "11128049  Карты оплаты - Windows (Цифра)  Карты оплаты  Windows (Цифра)   \n",
       "\n",
       "                                      shop_name         city  \\\n",
       "0                 !Якутск Орджоникидзе, 56 фран      !Якутск   \n",
       "1                 !Якутск Орджоникидзе, 56 фран      !Якутск   \n",
       "2                 !Якутск Орджоникидзе, 56 фран      !Якутск   \n",
       "3                 !Якутск Орджоникидзе, 56 фран      !Якутск   \n",
       "4                 !Якутск Орджоникидзе, 56 фран      !Якутск   \n",
       "...                                         ...          ...   \n",
       "11128045  Новосибирск ТРЦ \"Галерея Новосибирск\"  Новосибирск   \n",
       "11128046  Новосибирск ТРЦ \"Галерея Новосибирск\"  Новосибирск   \n",
       "11128047  Новосибирск ТРЦ \"Галерея Новосибирск\"  Новосибирск   \n",
       "11128048  Новосибирск ТРЦ \"Галерея Новосибирск\"  Новосибирск   \n",
       "11128049  Новосибирск ТРЦ \"Галерея Новосибирск\"  Новосибирск   \n",
       "\n",
       "          shop_mean_per_month  item_mean_per_month  \\\n",
       "0                       0.667              0.02222   \n",
       "1                       0.667                 5.38   \n",
       "2                      0.7124                4.477   \n",
       "3                       0.667                  0.2   \n",
       "4                      0.7124               0.2391   \n",
       "...                       ...                  ...   \n",
       "11128045              0.06152               0.0909   \n",
       "11128046              0.06152               0.0682   \n",
       "11128047                  0.0                  0.0   \n",
       "11128048              0.06152              0.02272   \n",
       "11128049                  0.0                  0.0   \n",
       "\n",
       "          shop_and_item_per_month_mean  shop_and_category_per_month_mean  \\\n",
       "0                                  0.0                            0.6577   \n",
       "1                                  6.0                            0.6577   \n",
       "2                                 10.0                             0.634   \n",
       "3                                  0.0                            0.6577   \n",
       "4                                  0.0                             0.634   \n",
       "...                                ...                               ...   \n",
       "11128045                           0.0                           0.06665   \n",
       "11128046                           0.0                           0.06665   \n",
       "11128047                           0.0                               0.0   \n",
       "11128048                           0.0                           0.06665   \n",
       "11128049                           0.0                               0.0   \n",
       "\n",
       "          city_per_month_mean  \n",
       "0                       0.514  \n",
       "1                       0.514  \n",
       "2                       0.559  \n",
       "3                       0.514  \n",
       "4                       0.559  \n",
       "...                       ...  \n",
       "11128045              0.10077  \n",
       "11128046              0.10077  \n",
       "11128047                  0.0  \n",
       "11128048              0.10077  \n",
       "11128049                  0.0  \n",
       "\n",
       "[11128050 rows x 17 columns]"
      ]
     },
     "execution_count": 72,
     "metadata": {},
     "output_type": "execute_result"
    }
   ],
   "source": [
    "train"
   ]
  },
  {
   "cell_type": "code",
   "execution_count": 73,
   "metadata": {
    "ExecuteTime": {
     "end_time": "2022-04-22T18:53:31.417511Z",
     "start_time": "2022-04-22T18:53:31.404458Z"
    }
   },
   "outputs": [],
   "source": [
    "# for col in lag_features:\n",
    "#     print(f\"Creating lag for column: {col}...\")\n",
    "#     for month_shift in lag_months:\n",
    "#         train_shift = train[index_cols + [col]].copy()\n",
    "# \n",
    "#         train_shift['date_block_num'] = train_shift['date_block_num'] + month_shift\n",
    "# \n",
    "#         foo = lambda x: '{}_lag_{}'.format(x, month_shift) if x in lag_features else x\n",
    "#         train_shift = train_shift.rename(columns=foo)\n",
    "# \n",
    "#         cols_to_merge_on = lag_features_cols_to_merge_on[col]\n",
    "# \n",
    "#         train = pd.merge(train, train_shift, on=cols_to_merge_on, how='left').fillna(0)"
   ]
  },
  {
   "cell_type": "code",
   "execution_count": null,
   "metadata": {},
   "outputs": [],
   "source": []
  },
  {
   "cell_type": "code",
   "execution_count": 71,
   "metadata": {
    "ExecuteTime": {
     "end_time": "2022-04-24T09:02:54.810984Z",
     "start_time": "2022-04-24T09:00:08.668517Z"
    }
   },
   "outputs": [],
   "source": [
    "for month_shift in lag_months:\n",
    "    train_shift = train[index_cols + lag_features].copy()\n",
    "    \n",
    "    train_shift['date_block_num'] = train_shift['date_block_num'] + month_shift\n",
    "    \n",
    "    foo = lambda x: '{}_lag_{}'.format(x, month_shift) if x in lag_features else x\n",
    "    train_shift = train_shift.rename(columns=foo)\n",
    "\n",
    "    train = pd.merge(train, train_shift, on=index_cols, how='left').fillna(0)"
   ]
  },
  {
   "cell_type": "markdown",
   "metadata": {},
   "source": [
    "### filter data"
   ]
  },
  {
   "cell_type": "code",
   "execution_count": 72,
   "metadata": {
    "ExecuteTime": {
     "end_time": "2022-04-24T09:02:59.392415Z",
     "start_time": "2022-04-24T09:02:54.815921Z"
    }
   },
   "outputs": [],
   "source": [
    "# we can't calculate the lag features for the data younger than the max_lag_month, so we exclude the data from the \n",
    "# train set\n",
    "max_lag_month = max(lag_months)\n",
    "train = train[train[\"date_block_num\"] > max_lag_month]"
   ]
  },
  {
   "cell_type": "code",
   "execution_count": 76,
   "metadata": {
    "ExecuteTime": {
     "end_time": "2022-04-22T18:56:33.815296Z",
     "start_time": "2022-04-22T18:56:33.801297Z"
    }
   },
   "outputs": [],
   "source": [
    "# drop duplicate data\n",
    "# train = train.drop_duplicates(subset=[\"date_block_num\", \"shop_id\", \"item_id\"])"
   ]
  },
  {
   "cell_type": "markdown",
   "metadata": {},
   "source": [
    "### drop columns no longer needed"
   ]
  },
  {
   "cell_type": "code",
   "execution_count": 73,
   "metadata": {
    "ExecuteTime": {
     "end_time": "2022-04-24T09:03:00.879926Z",
     "start_time": "2022-04-24T09:02:59.394411Z"
    }
   },
   "outputs": [],
   "source": [
    "# drop the columns without lag, since we can't use them for the test data\n",
    "lag_features.remove(\"item_cnt_month\")\n",
    "train = train.drop(lag_features, axis=1)"
   ]
  },
  {
   "cell_type": "code",
   "execution_count": 74,
   "metadata": {
    "ExecuteTime": {
     "end_time": "2022-04-24T09:03:00.894928Z",
     "start_time": "2022-04-24T09:03:00.882925Z"
    }
   },
   "outputs": [],
   "source": [
    "# first numerical column is 'item_cnt_month_lag_1'\n",
    "# first_num_col = list(train.columns).index('item_cnt_month_1')\n",
    "first_num_col = list(train.columns).index('item_cnt_month_lag_1')\n",
    "numerical_cols = train.columns[first_num_col:].to_list()"
   ]
  },
  {
   "cell_type": "code",
   "execution_count": null,
   "metadata": {},
   "outputs": [],
   "source": []
  },
  {
   "cell_type": "code",
   "execution_count": 79,
   "metadata": {
    "ExecuteTime": {
     "end_time": "2022-04-22T18:56:35.108299Z",
     "start_time": "2022-04-22T18:56:35.095297Z"
    }
   },
   "outputs": [],
   "source": [
    "# train.to_pickle(\"../data/train_data.pkl\")"
   ]
  },
  {
   "cell_type": "code",
   "execution_count": 75,
   "metadata": {
    "ExecuteTime": {
     "end_time": "2022-04-24T09:03:00.925922Z",
     "start_time": "2022-04-24T09:03:00.897923Z"
    }
   },
   "outputs": [],
   "source": [
    "train = downcast_dtypes(train)"
   ]
  },
  {
   "cell_type": "code",
   "execution_count": 76,
   "metadata": {
    "ExecuteTime": {
     "end_time": "2022-04-24T09:03:01.808169Z",
     "start_time": "2022-04-24T09:03:00.928922Z"
    }
   },
   "outputs": [],
   "source": [
    "train = train[['shop_id', 'item_id', 'date_block_num', 'item_category_id', 'item_cnt_month', *numerical_cols]]"
   ]
  },
  {
   "cell_type": "code",
   "execution_count": 82,
   "metadata": {
    "ExecuteTime": {
     "end_time": "2022-04-22T18:56:35.968297Z",
     "start_time": "2022-04-22T18:56:35.949296Z"
    }
   },
   "outputs": [],
   "source": [
    "# for col in numerical_cols:\n",
    "#     train[col] = train[col].fillna(0)"
   ]
  },
  {
   "cell_type": "code",
   "execution_count": 83,
   "metadata": {
    "ExecuteTime": {
     "end_time": "2022-04-22T18:56:35.984297Z",
     "start_time": "2022-04-22T18:56:35.971296Z"
    }
   },
   "outputs": [],
   "source": [
    "# train = train.fillna(0)"
   ]
  },
  {
   "cell_type": "code",
   "execution_count": null,
   "metadata": {},
   "outputs": [],
   "source": []
  },
  {
   "cell_type": "markdown",
   "metadata": {},
   "source": [
    "## train - test split"
   ]
  },
  {
   "cell_type": "code",
   "execution_count": 77,
   "metadata": {
    "ExecuteTime": {
     "end_time": "2022-04-24T09:03:06.006395Z",
     "start_time": "2022-04-24T09:03:01.810168Z"
    }
   },
   "outputs": [],
   "source": [
    "X_train = train[train[\"date_block_num\"] < 33].drop(\"item_cnt_month\", axis=1)\n",
    "y_train = train[train[\"date_block_num\"] < 33][[\"item_cnt_month\"]]"
   ]
  },
  {
   "cell_type": "code",
   "execution_count": 78,
   "metadata": {
    "ExecuteTime": {
     "end_time": "2022-04-24T09:03:06.358372Z",
     "start_time": "2022-04-24T09:03:06.009416Z"
    }
   },
   "outputs": [],
   "source": [
    "X_val = train[train[\"date_block_num\"] == 33].drop(\"item_cnt_month\", axis=1)\n",
    "y_val = train[train[\"date_block_num\"] == 33][[\"item_cnt_month\"]]"
   ]
  },
  {
   "cell_type": "code",
   "execution_count": 79,
   "metadata": {
    "ExecuteTime": {
     "end_time": "2022-04-24T09:03:06.517389Z",
     "start_time": "2022-04-24T09:03:06.360331Z"
    }
   },
   "outputs": [],
   "source": [
    "X_test = train[train[\"date_block_num\"] == 34].drop(\"item_cnt_month\", axis=1)"
   ]
  },
  {
   "cell_type": "code",
   "execution_count": null,
   "metadata": {},
   "outputs": [],
   "source": []
  },
  {
   "cell_type": "code",
   "execution_count": 88,
   "metadata": {
    "ExecuteTime": {
     "end_time": "2022-04-22T18:57:56.941966Z",
     "start_time": "2022-04-22T18:57:56.712968Z"
    }
   },
   "outputs": [
    {
     "data": {
      "text/html": [
       "<div>\n",
       "<style scoped>\n",
       "    .dataframe tbody tr th:only-of-type {\n",
       "        vertical-align: middle;\n",
       "    }\n",
       "\n",
       "    .dataframe tbody tr th {\n",
       "        vertical-align: top;\n",
       "    }\n",
       "\n",
       "    .dataframe thead th {\n",
       "        text-align: right;\n",
       "    }\n",
       "</style>\n",
       "<table border=\"1\" class=\"dataframe\">\n",
       "  <thead>\n",
       "    <tr style=\"text-align: right;\">\n",
       "      <th></th>\n",
       "      <th>shop_id</th>\n",
       "      <th>item_id</th>\n",
       "      <th>date_block_num</th>\n",
       "      <th>item_category_id</th>\n",
       "      <th>item_cnt_month_lag_1</th>\n",
       "      <th>shop_mean_per_month_lag_1</th>\n",
       "      <th>item_mean_per_month_lag_1</th>\n",
       "      <th>shop_and_item_per_month_mean_lag_1</th>\n",
       "      <th>shop_and_category_per_month_mean_lag_1</th>\n",
       "      <th>city_per_month_mean_lag_1</th>\n",
       "      <th>...</th>\n",
       "      <th>item_mean_per_month_lag_5</th>\n",
       "      <th>shop_and_item_per_month_mean_lag_5</th>\n",
       "      <th>shop_and_category_per_month_mean_lag_5</th>\n",
       "      <th>city_per_month_mean_lag_5</th>\n",
       "      <th>item_cnt_month_lag_12</th>\n",
       "      <th>shop_mean_per_month_lag_12</th>\n",
       "      <th>item_mean_per_month_lag_12</th>\n",
       "      <th>shop_and_item_per_month_mean_lag_12</th>\n",
       "      <th>shop_and_category_per_month_mean_lag_12</th>\n",
       "      <th>city_per_month_mean_lag_12</th>\n",
       "    </tr>\n",
       "  </thead>\n",
       "  <tbody>\n",
       "    <tr>\n",
       "      <th>62947</th>\n",
       "      <td>2</td>\n",
       "      <td>30</td>\n",
       "      <td>34</td>\n",
       "      <td>40</td>\n",
       "      <td>0.0</td>\n",
       "      <td>0.1324</td>\n",
       "      <td>0.02272</td>\n",
       "      <td>0.0</td>\n",
       "      <td>0.1001</td>\n",
       "      <td>0.1324</td>\n",
       "      <td>...</td>\n",
       "      <td>0.093</td>\n",
       "      <td>0.0</td>\n",
       "      <td>0.0839</td>\n",
       "      <td>0.1488</td>\n",
       "      <td>0.0</td>\n",
       "      <td>0.1561</td>\n",
       "      <td>0.26</td>\n",
       "      <td>0.0</td>\n",
       "      <td>0.0375</td>\n",
       "      <td>0.1561</td>\n",
       "    </tr>\n",
       "    <tr>\n",
       "      <th>120169</th>\n",
       "      <td>2</td>\n",
       "      <td>31</td>\n",
       "      <td>34</td>\n",
       "      <td>37</td>\n",
       "      <td>1.0</td>\n",
       "      <td>0.1324</td>\n",
       "      <td>0.4092</td>\n",
       "      <td>1.0</td>\n",
       "      <td>0.1001</td>\n",
       "      <td>0.1324</td>\n",
       "      <td>...</td>\n",
       "      <td>0.2325</td>\n",
       "      <td>0.0</td>\n",
       "      <td>0.0839</td>\n",
       "      <td>0.1488</td>\n",
       "      <td>0.0</td>\n",
       "      <td>0.1561</td>\n",
       "      <td>0.22</td>\n",
       "      <td>0.0</td>\n",
       "      <td>0.0375</td>\n",
       "      <td>0.1561</td>\n",
       "    </tr>\n",
       "    <tr>\n",
       "      <th>32601</th>\n",
       "      <td>2</td>\n",
       "      <td>32</td>\n",
       "      <td>34</td>\n",
       "      <td>40</td>\n",
       "      <td>0.0</td>\n",
       "      <td>0.1324</td>\n",
       "      <td>0.5</td>\n",
       "      <td>0.0</td>\n",
       "      <td>0.1001</td>\n",
       "      <td>0.1324</td>\n",
       "      <td>...</td>\n",
       "      <td>0.6045</td>\n",
       "      <td>0.0</td>\n",
       "      <td>0.0839</td>\n",
       "      <td>0.1488</td>\n",
       "      <td>0.0</td>\n",
       "      <td>0.1561</td>\n",
       "      <td>0.58</td>\n",
       "      <td>0.0</td>\n",
       "      <td>0.0375</td>\n",
       "      <td>0.1561</td>\n",
       "    </tr>\n",
       "    <tr>\n",
       "      <th>108241</th>\n",
       "      <td>2</td>\n",
       "      <td>33</td>\n",
       "      <td>34</td>\n",
       "      <td>37</td>\n",
       "      <td>0.0</td>\n",
       "      <td>0.1324</td>\n",
       "      <td>0.3635</td>\n",
       "      <td>0.0</td>\n",
       "      <td>0.1001</td>\n",
       "      <td>0.1324</td>\n",
       "      <td>...</td>\n",
       "      <td>0.2559</td>\n",
       "      <td>0.0</td>\n",
       "      <td>0.0839</td>\n",
       "      <td>0.1488</td>\n",
       "      <td>0.0</td>\n",
       "      <td>0.1561</td>\n",
       "      <td>0.4</td>\n",
       "      <td>0.0</td>\n",
       "      <td>0.0375</td>\n",
       "      <td>0.1561</td>\n",
       "    </tr>\n",
       "    <tr>\n",
       "      <th>240986</th>\n",
       "      <td>2</td>\n",
       "      <td>38</td>\n",
       "      <td>34</td>\n",
       "      <td>41</td>\n",
       "      <td>0.0</td>\n",
       "      <td>0.0</td>\n",
       "      <td>0.0</td>\n",
       "      <td>0.0</td>\n",
       "      <td>0.0</td>\n",
       "      <td>0.0</td>\n",
       "      <td>...</td>\n",
       "      <td>0.0465</td>\n",
       "      <td>0.0</td>\n",
       "      <td>0.0839</td>\n",
       "      <td>0.1488</td>\n",
       "      <td>0.0</td>\n",
       "      <td>0.1561</td>\n",
       "      <td>0.2</td>\n",
       "      <td>0.0</td>\n",
       "      <td>0.0375</td>\n",
       "      <td>0.1561</td>\n",
       "    </tr>\n",
       "    <tr>\n",
       "      <th>...</th>\n",
       "      <td>...</td>\n",
       "      <td>...</td>\n",
       "      <td>...</td>\n",
       "      <td>...</td>\n",
       "      <td>...</td>\n",
       "      <td>...</td>\n",
       "      <td>...</td>\n",
       "      <td>...</td>\n",
       "      <td>...</td>\n",
       "      <td>...</td>\n",
       "      <td>...</td>\n",
       "      <td>...</td>\n",
       "      <td>...</td>\n",
       "      <td>...</td>\n",
       "      <td>...</td>\n",
       "      <td>...</td>\n",
       "      <td>...</td>\n",
       "      <td>...</td>\n",
       "      <td>...</td>\n",
       "      <td>...</td>\n",
       "      <td>...</td>\n",
       "    </tr>\n",
       "    <tr>\n",
       "      <th>9239086</th>\n",
       "      <td>59</td>\n",
       "      <td>22162</td>\n",
       "      <td>34</td>\n",
       "      <td>40</td>\n",
       "      <td>0.0</td>\n",
       "      <td>0.1461</td>\n",
       "      <td>0.2273</td>\n",
       "      <td>0.0</td>\n",
       "      <td>0.1261</td>\n",
       "      <td>0.1461</td>\n",
       "      <td>...</td>\n",
       "      <td>0.5117</td>\n",
       "      <td>0.0</td>\n",
       "      <td>0.11127</td>\n",
       "      <td>0.1721</td>\n",
       "      <td>0.0</td>\n",
       "      <td>0.0</td>\n",
       "      <td>0.0</td>\n",
       "      <td>0.0</td>\n",
       "      <td>0.0</td>\n",
       "      <td>0.0</td>\n",
       "    </tr>\n",
       "    <tr>\n",
       "      <th>9243755</th>\n",
       "      <td>59</td>\n",
       "      <td>22163</td>\n",
       "      <td>34</td>\n",
       "      <td>40</td>\n",
       "      <td>0.0</td>\n",
       "      <td>0.1461</td>\n",
       "      <td>0.591</td>\n",
       "      <td>0.0</td>\n",
       "      <td>0.1261</td>\n",
       "      <td>0.1461</td>\n",
       "      <td>...</td>\n",
       "      <td>0.0</td>\n",
       "      <td>0.0</td>\n",
       "      <td>0.0</td>\n",
       "      <td>0.0</td>\n",
       "      <td>0.0</td>\n",
       "      <td>0.0</td>\n",
       "      <td>0.0</td>\n",
       "      <td>0.0</td>\n",
       "      <td>0.0</td>\n",
       "      <td>0.0</td>\n",
       "    </tr>\n",
       "    <tr>\n",
       "      <th>9289681</th>\n",
       "      <td>59</td>\n",
       "      <td>22164</td>\n",
       "      <td>34</td>\n",
       "      <td>37</td>\n",
       "      <td>0.0</td>\n",
       "      <td>0.1461</td>\n",
       "      <td>0.3408</td>\n",
       "      <td>0.0</td>\n",
       "      <td>0.1261</td>\n",
       "      <td>0.1461</td>\n",
       "      <td>...</td>\n",
       "      <td>0.1628</td>\n",
       "      <td>0.0</td>\n",
       "      <td>0.11127</td>\n",
       "      <td>0.1721</td>\n",
       "      <td>0.0</td>\n",
       "      <td>0.0</td>\n",
       "      <td>0.0</td>\n",
       "      <td>0.0</td>\n",
       "      <td>0.0</td>\n",
       "      <td>0.0</td>\n",
       "    </tr>\n",
       "    <tr>\n",
       "      <th>9413559</th>\n",
       "      <td>59</td>\n",
       "      <td>22166</td>\n",
       "      <td>34</td>\n",
       "      <td>54</td>\n",
       "      <td>0.0</td>\n",
       "      <td>0.1461</td>\n",
       "      <td>0.25</td>\n",
       "      <td>0.0</td>\n",
       "      <td>0.02547</td>\n",
       "      <td>0.1461</td>\n",
       "      <td>...</td>\n",
       "      <td>0.2325</td>\n",
       "      <td>0.0</td>\n",
       "      <td>0.013466</td>\n",
       "      <td>0.1721</td>\n",
       "      <td>0.0</td>\n",
       "      <td>0.2223</td>\n",
       "      <td>0.32</td>\n",
       "      <td>0.0</td>\n",
       "      <td>0.0092</td>\n",
       "      <td>0.2223</td>\n",
       "    </tr>\n",
       "    <tr>\n",
       "      <th>9307076</th>\n",
       "      <td>59</td>\n",
       "      <td>22167</td>\n",
       "      <td>34</td>\n",
       "      <td>49</td>\n",
       "      <td>0.0</td>\n",
       "      <td>0.1461</td>\n",
       "      <td>0.841</td>\n",
       "      <td>0.0</td>\n",
       "      <td>0.02547</td>\n",
       "      <td>0.1461</td>\n",
       "      <td>...</td>\n",
       "      <td>0.7676</td>\n",
       "      <td>0.0</td>\n",
       "      <td>0.013466</td>\n",
       "      <td>0.1721</td>\n",
       "      <td>0.0</td>\n",
       "      <td>0.2223</td>\n",
       "      <td>0.98</td>\n",
       "      <td>0.0</td>\n",
       "      <td>0.0092</td>\n",
       "      <td>0.2223</td>\n",
       "    </tr>\n",
       "  </tbody>\n",
       "</table>\n",
       "<p>214200 rows × 40 columns</p>\n",
       "</div>"
      ],
      "text/plain": [
       "         shop_id  item_id  date_block_num  item_category_id  \\\n",
       "62947          2       30              34                40   \n",
       "120169         2       31              34                37   \n",
       "32601          2       32              34                40   \n",
       "108241         2       33              34                37   \n",
       "240986         2       38              34                41   \n",
       "...          ...      ...             ...               ...   \n",
       "9239086       59    22162              34                40   \n",
       "9243755       59    22163              34                40   \n",
       "9289681       59    22164              34                37   \n",
       "9413559       59    22166              34                54   \n",
       "9307076       59    22167              34                49   \n",
       "\n",
       "         item_cnt_month_lag_1  shop_mean_per_month_lag_1  \\\n",
       "62947                     0.0                     0.1324   \n",
       "120169                    1.0                     0.1324   \n",
       "32601                     0.0                     0.1324   \n",
       "108241                    0.0                     0.1324   \n",
       "240986                    0.0                        0.0   \n",
       "...                       ...                        ...   \n",
       "9239086                   0.0                     0.1461   \n",
       "9243755                   0.0                     0.1461   \n",
       "9289681                   0.0                     0.1461   \n",
       "9413559                   0.0                     0.1461   \n",
       "9307076                   0.0                     0.1461   \n",
       "\n",
       "         item_mean_per_month_lag_1  shop_and_item_per_month_mean_lag_1  \\\n",
       "62947                      0.02272                                 0.0   \n",
       "120169                      0.4092                                 1.0   \n",
       "32601                          0.5                                 0.0   \n",
       "108241                      0.3635                                 0.0   \n",
       "240986                         0.0                                 0.0   \n",
       "...                            ...                                 ...   \n",
       "9239086                     0.2273                                 0.0   \n",
       "9243755                      0.591                                 0.0   \n",
       "9289681                     0.3408                                 0.0   \n",
       "9413559                       0.25                                 0.0   \n",
       "9307076                      0.841                                 0.0   \n",
       "\n",
       "         shop_and_category_per_month_mean_lag_1  city_per_month_mean_lag_1  \\\n",
       "62947                                    0.1001                     0.1324   \n",
       "120169                                   0.1001                     0.1324   \n",
       "32601                                    0.1001                     0.1324   \n",
       "108241                                   0.1001                     0.1324   \n",
       "240986                                      0.0                        0.0   \n",
       "...                                         ...                        ...   \n",
       "9239086                                  0.1261                     0.1461   \n",
       "9243755                                  0.1261                     0.1461   \n",
       "9289681                                  0.1261                     0.1461   \n",
       "9413559                                 0.02547                     0.1461   \n",
       "9307076                                 0.02547                     0.1461   \n",
       "\n",
       "         ...  item_mean_per_month_lag_5  shop_and_item_per_month_mean_lag_5  \\\n",
       "62947    ...                      0.093                                 0.0   \n",
       "120169   ...                     0.2325                                 0.0   \n",
       "32601    ...                     0.6045                                 0.0   \n",
       "108241   ...                     0.2559                                 0.0   \n",
       "240986   ...                     0.0465                                 0.0   \n",
       "...      ...                        ...                                 ...   \n",
       "9239086  ...                     0.5117                                 0.0   \n",
       "9243755  ...                        0.0                                 0.0   \n",
       "9289681  ...                     0.1628                                 0.0   \n",
       "9413559  ...                     0.2325                                 0.0   \n",
       "9307076  ...                     0.7676                                 0.0   \n",
       "\n",
       "         shop_and_category_per_month_mean_lag_5  city_per_month_mean_lag_5  \\\n",
       "62947                                    0.0839                     0.1488   \n",
       "120169                                   0.0839                     0.1488   \n",
       "32601                                    0.0839                     0.1488   \n",
       "108241                                   0.0839                     0.1488   \n",
       "240986                                   0.0839                     0.1488   \n",
       "...                                         ...                        ...   \n",
       "9239086                                 0.11127                     0.1721   \n",
       "9243755                                     0.0                        0.0   \n",
       "9289681                                 0.11127                     0.1721   \n",
       "9413559                                0.013466                     0.1721   \n",
       "9307076                                0.013466                     0.1721   \n",
       "\n",
       "         item_cnt_month_lag_12  shop_mean_per_month_lag_12  \\\n",
       "62947                      0.0                      0.1561   \n",
       "120169                     0.0                      0.1561   \n",
       "32601                      0.0                      0.1561   \n",
       "108241                     0.0                      0.1561   \n",
       "240986                     0.0                      0.1561   \n",
       "...                        ...                         ...   \n",
       "9239086                    0.0                         0.0   \n",
       "9243755                    0.0                         0.0   \n",
       "9289681                    0.0                         0.0   \n",
       "9413559                    0.0                      0.2223   \n",
       "9307076                    0.0                      0.2223   \n",
       "\n",
       "         item_mean_per_month_lag_12  shop_and_item_per_month_mean_lag_12  \\\n",
       "62947                          0.26                                  0.0   \n",
       "120169                         0.22                                  0.0   \n",
       "32601                          0.58                                  0.0   \n",
       "108241                          0.4                                  0.0   \n",
       "240986                          0.2                                  0.0   \n",
       "...                             ...                                  ...   \n",
       "9239086                         0.0                                  0.0   \n",
       "9243755                         0.0                                  0.0   \n",
       "9289681                         0.0                                  0.0   \n",
       "9413559                        0.32                                  0.0   \n",
       "9307076                        0.98                                  0.0   \n",
       "\n",
       "         shop_and_category_per_month_mean_lag_12  city_per_month_mean_lag_12  \n",
       "62947                                     0.0375                      0.1561  \n",
       "120169                                    0.0375                      0.1561  \n",
       "32601                                     0.0375                      0.1561  \n",
       "108241                                    0.0375                      0.1561  \n",
       "240986                                    0.0375                      0.1561  \n",
       "...                                          ...                         ...  \n",
       "9239086                                      0.0                         0.0  \n",
       "9243755                                      0.0                         0.0  \n",
       "9289681                                      0.0                         0.0  \n",
       "9413559                                   0.0092                      0.2223  \n",
       "9307076                                   0.0092                      0.2223  \n",
       "\n",
       "[214200 rows x 40 columns]"
      ]
     },
     "execution_count": 88,
     "metadata": {},
     "output_type": "execute_result"
    }
   ],
   "source": [
    "X_test.sort_values(by=[\"date_block_num\", \"shop_id\", \"item_id\"])"
   ]
  },
  {
   "cell_type": "code",
   "execution_count": null,
   "metadata": {},
   "outputs": [],
   "source": []
  },
  {
   "cell_type": "code",
   "execution_count": null,
   "metadata": {},
   "outputs": [],
   "source": []
  },
  {
   "cell_type": "markdown",
   "metadata": {},
   "source": [
    "### imputation, scaling, etc"
   ]
  },
  {
   "cell_type": "code",
   "execution_count": null,
   "metadata": {
    "ExecuteTime": {
     "end_time": "2022-04-22T16:03:57.423822Z",
     "start_time": "2022-04-22T16:03:57.383769Z"
    }
   },
   "outputs": [],
   "source": [
    "from sklearn.impute import SimpleImputer\n",
    "from sklearn.preprocessing import OneHotEncoder, MinMaxScaler, OrdinalEncoder\n",
    "\n",
    "from sklearn.model_selection import train_test_split\n",
    "from sklearn.pipeline import Pipeline\n",
    "from sklearn.compose import ColumnTransformer"
   ]
  },
  {
   "cell_type": "markdown",
   "metadata": {},
   "source": [
    "#### prepare pipeline"
   ]
  },
  {
   "cell_type": "code",
   "execution_count": null,
   "metadata": {
    "ExecuteTime": {
     "end_time": "2022-04-22T16:04:10.150499Z",
     "start_time": "2022-04-22T16:04:10.129500Z"
    }
   },
   "outputs": [],
   "source": [
    "# define columns for preprocessing pipelines\n",
    "categorical_cols = [\"city\", \"main_category\", \"sub_category\"]\n",
    "# first numerical column is 'item_cnt_month_1'\n",
    "first_num_col = list(train.columns).index('shop_mean_per_month')\n",
    "numerical_cols = train.columns[first_num_col:]\n",
    "# numerical_cols = [\"item_price\", 'item_price_sum', 'item_price_mean', 'item_cnt_mean', 'item_cnt_count', \n",
    "#                   'item_cnt_month_1', 'item_cnt_month_2', 'item_cnt_month_3', 'shop_mean', 'item_mean', 'shop_item_mean']\n",
    "other_columns = [\"shop_id\", \"item_id\", \"item_category_id\"]\n",
    "target_column = [\"item_cnt_month\"]"
   ]
  },
  {
   "cell_type": "code",
   "execution_count": null,
   "metadata": {
    "ExecuteTime": {
     "end_time": "2022-04-22T16:04:11.989334Z",
     "start_time": "2022-04-22T16:04:11.918577Z"
    }
   },
   "outputs": [],
   "source": [
    "# pipeline for categorical data\n",
    "categorical_pipe = Pipeline([\n",
    "    ('imputer', SimpleImputer(strategy='most_frequent')),\n",
    "    ('encoder', OrdinalEncoder(handle_unknown=\"use_encoded_value\", unknown_value=-999))\n",
    "])\n",
    "\n",
    "# pipeline for numerical data\n",
    "numerical_pipe = Pipeline([\n",
    "    ('imputer', SimpleImputer(strategy='median')),\n",
    "    ('scaler', MinMaxScaler())\n",
    "])\n",
    "\n",
    "# pipeline for all other data\n",
    "other_pipe = Pipeline([\n",
    "    ('imputer', SimpleImputer(strategy='most_frequent'))\n",
    "])\n",
    "\n",
    "# fit column transformer to training data\n",
    "preprocessor = ColumnTransformer([\n",
    "    ('categorical_pipe', categorical_pipe, categorical_cols),\n",
    "    ('numerical_pipe', numerical_pipe, numerical_cols),\n",
    "    ('other_pipe', other_pipe, other_columns),\n",
    "], remainder=\"drop\")\n",
    "preprocessor.fit(X_train)"
   ]
  },
  {
   "cell_type": "code",
   "execution_count": null,
   "metadata": {
    "ExecuteTime": {
     "end_time": "2022-04-22T13:11:33.469066Z",
     "start_time": "2022-04-22T13:11:32.834052Z"
    }
   },
   "outputs": [],
   "source": [
    "# we want to impute all missing values with 0 and clip the values to [0, 20]\n",
    "target_pipe = Pipeline([\n",
    "    ('imputer', SimpleImputer(strategy='constant', fill_value=0)),\n",
    "    ('scaler', MinMaxScaler(feature_range=(0, 20), clip=True))\n",
    "])\n",
    "\n",
    "# fit column transformer to training labels\n",
    "target_preprocessor = ColumnTransformer([\n",
    "    ('target_pipe', target_pipe, target_column),\n",
    "], remainder=\"drop\")\n",
    "target_preprocessor.fit(y_train)"
   ]
  },
  {
   "cell_type": "code",
   "execution_count": null,
   "metadata": {
    "ExecuteTime": {
     "end_time": "2022-04-22T13:11:33.500037Z",
     "start_time": "2022-04-22T13:11:33.473037Z"
    }
   },
   "outputs": [],
   "source": [
    "# Prepare column names\n",
    "# cat_columns = preprocessor.named_transformers_['categorical_pipe'].named_steps['encoder'].get_feature_names(categorical_cols)\n",
    "cat_columns = categorical_cols\n",
    "columns = np.concatenate([cat_columns, numerical_cols, other_columns])\n",
    "\n",
    "# display(pd.DataFrame(preprocessor.transform(X_train), columns=columns))\n",
    "# display(pd.DataFrame(target_preprocessor.transform(y_train), columns=target_column))"
   ]
  },
  {
   "cell_type": "markdown",
   "metadata": {},
   "source": [
    "#### transform data"
   ]
  },
  {
   "cell_type": "code",
   "execution_count": null,
   "metadata": {
    "ExecuteTime": {
     "end_time": "2022-04-22T13:12:36.347752Z",
     "start_time": "2022-04-22T13:11:38.297622Z"
    }
   },
   "outputs": [],
   "source": [
    "X_train_final = pd.DataFrame(preprocessor.transform(X_train), columns=columns)\n",
    "y_train_final = pd.DataFrame(target_preprocessor.transform(y_train), columns=target_column)"
   ]
  },
  {
   "cell_type": "code",
   "execution_count": null,
   "metadata": {
    "ExecuteTime": {
     "end_time": "2022-04-22T13:12:38.657757Z",
     "start_time": "2022-04-22T13:12:36.350698Z"
    }
   },
   "outputs": [],
   "source": [
    "X_val_final = pd.DataFrame(preprocessor.transform(X_val), columns=columns)\n",
    "y_val_final = pd.DataFrame(target_preprocessor.transform(y_val), columns=target_column)"
   ]
  },
  {
   "cell_type": "code",
   "execution_count": null,
   "metadata": {
    "ExecuteTime": {
     "end_time": "2022-04-22T13:12:39.434141Z",
     "start_time": "2022-04-22T13:12:38.660767Z"
    }
   },
   "outputs": [],
   "source": [
    "X_test_final = pd.DataFrame(preprocessor.transform(X_test), columns=columns)"
   ]
  },
  {
   "cell_type": "code",
   "execution_count": null,
   "metadata": {},
   "outputs": [],
   "source": []
  },
  {
   "cell_type": "code",
   "execution_count": 80,
   "metadata": {
    "ExecuteTime": {
     "end_time": "2022-04-24T09:03:06.533330Z",
     "start_time": "2022-04-24T09:03:06.523330Z"
    }
   },
   "outputs": [],
   "source": [
    "X_train_final = X_train\n",
    "y_train_final = y_train\n",
    "X_val_final = X_val\n",
    "y_val_final = y_val\n",
    "X_test_final = X_test"
   ]
  },
  {
   "cell_type": "code",
   "execution_count": 89,
   "metadata": {
    "ExecuteTime": {
     "end_time": "2022-04-24T09:06:41.089788Z",
     "start_time": "2022-04-24T09:06:40.815843Z"
    }
   },
   "outputs": [],
   "source": [
    "y_train_final = y_train_final.clip(0, 20)\n",
    "y_train_final = y_train_final.clip(0, 20)"
   ]
  },
  {
   "cell_type": "code",
   "execution_count": null,
   "metadata": {},
   "outputs": [],
   "source": []
  },
  {
   "cell_type": "code",
   "execution_count": null,
   "metadata": {},
   "outputs": [],
   "source": []
  },
  {
   "cell_type": "markdown",
   "metadata": {},
   "source": [
    "## simple model"
   ]
  },
  {
   "cell_type": "markdown",
   "metadata": {},
   "source": [
    "### ideas"
   ]
  },
  {
   "cell_type": "markdown",
   "metadata": {},
   "source": [
    " * Hierachical time-series prediction:\n",
    "  * model per store\n",
    "  * model per item\n",
    "  * model per date\n",
    "* models to try:\n",
    " * Gradient Boosting Machine\n",
    " * XGBoost\n",
    "* play around with lag\n",
    " * (df[NUMERIC_COLUMN] - df.groupby(DATE_COLUMN)[NUMERIC_COLUMN].shift(-1)) and agg features (df.groupby(DATE_COLUMN)[NUMERIC_COLUMN].agg(std))\n",
    "* clip the test data!\n",
    " * predictions = numpy.clip(predictions, 0 ,20)"
   ]
  },
  {
   "cell_type": "code",
   "execution_count": 81,
   "metadata": {
    "ExecuteTime": {
     "end_time": "2022-04-24T09:03:07.226395Z",
     "start_time": "2022-04-24T09:03:06.535330Z"
    }
   },
   "outputs": [],
   "source": [
    "from sklearn.ensemble import RandomForestRegressor, GradientBoostingRegressor\n",
    "from sklearn.tree import DecisionTreeRegressor\n",
    "from sklearn.neighbors import KNeighborsRegressor\n",
    "\n",
    "from sklearn.model_selection import cross_val_score\n",
    "\n",
    "from xgboost import XGBRegressor, plot_importance"
   ]
  },
  {
   "cell_type": "code",
   "execution_count": null,
   "metadata": {},
   "outputs": [],
   "source": []
  },
  {
   "cell_type": "code",
   "execution_count": 90,
   "metadata": {
    "ExecuteTime": {
     "end_time": "2022-04-24T09:06:57.729291Z",
     "start_time": "2022-04-24T09:06:45.181003Z"
    }
   },
   "outputs": [
    {
     "name": "stdout",
     "output_type": "stream",
     "text": [
      "[0]\tvalidation_0-rmse:1.06588\tvalidation_1-rmse:2.23936\n",
      "[1]\tvalidation_0-rmse:0.98718\tvalidation_1-rmse:2.18934\n",
      "[2]\tvalidation_0-rmse:0.94420\tvalidation_1-rmse:2.15808\n",
      "[3]\tvalidation_0-rmse:0.91541\tvalidation_1-rmse:2.13469\n",
      "[4]\tvalidation_0-rmse:0.90153\tvalidation_1-rmse:2.12140\n",
      "[5]\tvalidation_0-rmse:0.88907\tvalidation_1-rmse:2.10740\n",
      "[6]\tvalidation_0-rmse:0.88031\tvalidation_1-rmse:2.10035\n",
      "[7]\tvalidation_0-rmse:0.87475\tvalidation_1-rmse:2.09585\n",
      "[8]\tvalidation_0-rmse:0.87083\tvalidation_1-rmse:2.09248\n",
      "[9]\tvalidation_0-rmse:0.86785\tvalidation_1-rmse:2.08927\n",
      "[10]\tvalidation_0-rmse:0.86505\tvalidation_1-rmse:2.08768\n",
      "[11]\tvalidation_0-rmse:0.86385\tvalidation_1-rmse:2.08658\n",
      "[12]\tvalidation_0-rmse:0.86242\tvalidation_1-rmse:2.08575\n",
      "[13]\tvalidation_0-rmse:0.85976\tvalidation_1-rmse:2.08403\n",
      "[14]\tvalidation_0-rmse:0.85820\tvalidation_1-rmse:2.08342\n",
      "[15]\tvalidation_0-rmse:0.85551\tvalidation_1-rmse:2.08227\n",
      "[16]\tvalidation_0-rmse:0.85337\tvalidation_1-rmse:2.08227\n",
      "[17]\tvalidation_0-rmse:0.85109\tvalidation_1-rmse:2.08281\n",
      "[18]\tvalidation_0-rmse:0.84944\tvalidation_1-rmse:2.08326\n",
      "[19]\tvalidation_0-rmse:0.84873\tvalidation_1-rmse:2.08352\n",
      "[20]\tvalidation_0-rmse:0.84823\tvalidation_1-rmse:2.08405\n",
      "[21]\tvalidation_0-rmse:0.84739\tvalidation_1-rmse:2.08466\n",
      "[22]\tvalidation_0-rmse:0.84681\tvalidation_1-rmse:2.08454\n",
      "[23]\tvalidation_0-rmse:0.84624\tvalidation_1-rmse:2.08259\n",
      "[24]\tvalidation_0-rmse:0.84539\tvalidation_1-rmse:2.08316\n",
      "[25]\tvalidation_0-rmse:0.84380\tvalidation_1-rmse:2.08393\n",
      "[26]\tvalidation_0-rmse:0.84294\tvalidation_1-rmse:2.08417\n"
     ]
    },
    {
     "data": {
      "text/plain": [
       "XGBRegressor(base_score=0.5, booster='gbtree', callbacks=None,\n",
       "             colsample_bylevel=1, colsample_bynode=1, colsample_bytree=0.8,\n",
       "             early_stopping_rounds=10, enable_categorical=False, eta=0.3,\n",
       "             eval_metric='rmse', gamma=0, gpu_id=0, grow_policy='depthwise',\n",
       "             importance_type=None, interaction_constraints='',\n",
       "             learning_rate=0.300000012, max_bin=256, max_cat_to_onehot=4,\n",
       "             max_delta_step=0, max_depth=8, max_leaves=0, min_child_weight=300,\n",
       "             missing=nan, monotone_constraints='()', n_estimators=1000,\n",
       "             n_jobs=0, num_parallel_tree=1, predictor='auto', random_state=0,\n",
       "             reg_alpha=0, ...)"
      ]
     },
     "execution_count": 90,
     "metadata": {},
     "output_type": "execute_result"
    }
   ],
   "source": [
    "model = XGBRegressor(\n",
    "    max_depth=8,\n",
    "    n_estimators=1000,\n",
    "    min_child_weight=300, \n",
    "    colsample_bytree=0.8, \n",
    "    subsample=0.8, \n",
    "    eta=0.3,\n",
    "    early_stopping_rounds=10,\n",
    "    tree_method=\"gpu_hist\",\n",
    "    eval_metric=\"rmse\")\n",
    "\n",
    "model.fit(\n",
    "    X_train_final, \n",
    "    y_train_final, \n",
    "    eval_set=[(X_train_final, y_train_final), (X_val_final, y_val_final)], \n",
    "    verbose=True)"
   ]
  },
  {
   "cell_type": "code",
   "execution_count": 91,
   "metadata": {
    "ExecuteTime": {
     "end_time": "2022-04-24T09:07:01.436130Z",
     "start_time": "2022-04-24T09:07:00.565130Z"
    }
   },
   "outputs": [
    {
     "data": {
      "text/plain": [
       "<AxesSubplot:title={'center':'Feature importance'}, xlabel='F score', ylabel='Features'>"
      ]
     },
     "execution_count": 91,
     "metadata": {},
     "output_type": "execute_result"
    },
    {
     "data": {
      "image/png": "[encoded data removed]",
      "text/plain": [
       "<Figure size 1440x720 with 1 Axes>"
      ]
     },
     "metadata": {
      "needs_background": "light"
     },
     "output_type": "display_data"
    }
   ],
   "source": [
    "plot_importance(booster=model)"
   ]
  },
  {
   "cell_type": "code",
   "execution_count": null,
   "metadata": {
    "ExecuteTime": {
     "end_time": "2022-04-22T18:23:24.174718Z",
     "start_time": "2022-04-22T18:23:24.029728Z"
    }
   },
   "outputs": [],
   "source": [
    "X_test_final"
   ]
  },
  {
   "cell_type": "code",
   "execution_count": null,
   "metadata": {
    "ExecuteTime": {
     "end_time": "2022-04-22T18:23:17.998482Z",
     "start_time": "2022-04-22T18:23:17.979906Z"
    }
   },
   "outputs": [],
   "source": [
    "X_test_final[\"shop_mean_per_month_lag_1\"]"
   ]
  },
  {
   "cell_type": "code",
   "execution_count": null,
   "metadata": {},
   "outputs": [],
   "source": []
  },
  {
   "cell_type": "code",
   "execution_count": null,
   "metadata": {},
   "outputs": [],
   "source": []
  },
  {
   "cell_type": "code",
   "execution_count": null,
   "metadata": {
    "ExecuteTime": {
     "end_time": "2022-04-22T18:19:42.986068Z",
     "start_time": "2022-04-22T18:19:42.941070Z"
    }
   },
   "outputs": [],
   "source": [
    "current_time = datetime.now().strftime('%Y-%m-%d_%H-%M-%S')\n",
    "dump(model, f\"xgboost_model_{current_time}.joblib\")"
   ]
  },
  {
   "cell_type": "code",
   "execution_count": 92,
   "metadata": {
    "ExecuteTime": {
     "end_time": "2022-04-24T09:07:12.127527Z",
     "start_time": "2022-04-24T09:07:11.893518Z"
    }
   },
   "outputs": [],
   "source": [
    "Y_test = model.predict(X_test_final).clip(0, 20)"
   ]
  },
  {
   "cell_type": "code",
   "execution_count": 93,
   "metadata": {
    "ExecuteTime": {
     "end_time": "2022-04-24T09:07:12.903516Z",
     "start_time": "2022-04-24T09:07:12.157517Z"
    }
   },
   "outputs": [],
   "source": [
    "# write to submission file\n",
    "submission_df = pd.DataFrame({\"ID\": sales_test[\"ID\"], \"item_cnt_month\": Y_test})\n",
    "\n",
    "assert submission_df.shape == (214200, 2)\n",
    "submission_df.to_csv(\"../output/xgboost_submission.csv\", index=False)"
   ]
  },
  {
   "cell_type": "code",
   "execution_count": null,
   "metadata": {},
   "outputs": [],
   "source": []
  },
  {
   "cell_type": "markdown",
   "metadata": {},
   "source": [
    "### other stuff"
   ]
  },
  {
   "cell_type": "markdown",
   "metadata": {},
   "source": [
    "#### model per item"
   ]
  },
  {
   "cell_type": "code",
   "execution_count": null,
   "metadata": {
    "ExecuteTime": {
     "end_time": "2022-04-20T14:55:50.103196Z",
     "start_time": "2022-04-20T14:55:50.094225Z"
    }
   },
   "outputs": [],
   "source": [
    "def train_model(model, n_rows_to_train_on):\n",
    "    \n",
    "    train_subset = train[:n_rows_to_train_on].drop(\"item_name\", axis=1)\n",
    "    \n",
    "    model.fit(X=train_subset.drop(\"item_cnt_month\", axis=1), y=train_subset[\"item_cnt_month\"])\n",
    "    \n",
    "    model_predictions = model.predict(test.drop(\"item_name\", axis=1))\n",
    "    model_predictions = model_predictions.clip(0, 20)\n",
    "    \n",
    "    return model, model_predictions"
   ]
  },
  {
   "cell_type": "code",
   "execution_count": null,
   "metadata": {},
   "outputs": [],
   "source": []
  },
  {
   "cell_type": "code",
   "execution_count": null,
   "metadata": {
    "ExecuteTime": {
     "end_time": "2022-04-20T14:47:42.601366Z",
     "start_time": "2022-04-20T14:47:42.589365Z"
    }
   },
   "outputs": [],
   "source": [
    "random_forest_reg = RandomForestRegressor(max_depth=4, random_state=0)"
   ]
  },
  {
   "cell_type": "code",
   "execution_count": null,
   "metadata": {
    "ExecuteTime": {
     "end_time": "2022-04-20T14:47:42.616365Z",
     "start_time": "2022-04-20T14:47:42.604365Z"
    }
   },
   "outputs": [],
   "source": [
    "grad_boost_reg = GradientBoostingRegressor()"
   ]
  },
  {
   "cell_type": "code",
   "execution_count": null,
   "metadata": {},
   "outputs": [],
   "source": []
  },
  {
   "cell_type": "code",
   "execution_count": null,
   "metadata": {},
   "outputs": [],
   "source": []
  },
  {
   "cell_type": "code",
   "execution_count": null,
   "metadata": {},
   "outputs": [],
   "source": []
  },
  {
   "cell_type": "code",
   "execution_count": null,
   "metadata": {
    "ExecuteTime": {
     "end_time": "2022-04-20T14:55:57.399219Z",
     "start_time": "2022-04-20T14:55:53.902073Z"
    }
   },
   "outputs": [],
   "source": [
    "random_forest_reg, random_forest_pred = train_model(random_forest_reg, n_rows_to_train_on=50000)"
   ]
  },
  {
   "cell_type": "code",
   "execution_count": null,
   "metadata": {
    "ExecuteTime": {
     "end_time": "2022-04-20T14:56:15.427526Z",
     "start_time": "2022-04-20T14:56:15.416488Z"
    }
   },
   "outputs": [],
   "source": [
    "random_forest_pred.shape"
   ]
  },
  {
   "cell_type": "code",
   "execution_count": null,
   "metadata": {},
   "outputs": [],
   "source": []
  },
  {
   "cell_type": "code",
   "execution_count": null,
   "metadata": {
    "ExecuteTime": {
     "end_time": "2022-04-20T14:55:14.903039Z",
     "start_time": "2022-04-20T14:55:14.903039Z"
    }
   },
   "outputs": [],
   "source": [
    "grad_boost_reg, grad_boost_pred = train_model(grad_boost_reg, n_rows_to_train_on=50000000)"
   ]
  },
  {
   "cell_type": "code",
   "execution_count": null,
   "metadata": {
    "ExecuteTime": {
     "end_time": "2022-04-20T14:55:14.905039Z",
     "start_time": "2022-04-20T14:55:14.905039Z"
    }
   },
   "outputs": [],
   "source": [
    "grad_boost_pred"
   ]
  },
  {
   "cell_type": "code",
   "execution_count": null,
   "metadata": {},
   "outputs": [],
   "source": []
  },
  {
   "cell_type": "code",
   "execution_count": null,
   "metadata": {
    "ExecuteTime": {
     "end_time": "2022-04-20T14:55:14.908040Z",
     "start_time": "2022-04-20T14:55:14.908040Z"
    }
   },
   "outputs": [],
   "source": [
    "# write to submission file\n",
    "submission_df = pd.DataFrame({\"ID\": test[\"ID\"], \"item_cnt_month\": grad_boost_pred})\n",
    "submission_df.to_csv(\"../output/submission.csv\", index=False)"
   ]
  },
  {
   "cell_type": "code",
   "execution_count": null,
   "metadata": {
    "ExecuteTime": {
     "end_time": "2022-04-20T14:55:14.910040Z",
     "start_time": "2022-04-20T14:55:14.910040Z"
    }
   },
   "outputs": [],
   "source": [
    "submission_df.to_csv(\"../output/submission.csv\", index=False)"
   ]
  },
  {
   "cell_type": "code",
   "execution_count": null,
   "metadata": {},
   "outputs": [],
   "source": [
    "submission = pd.DataFrame()\n",
    "submission[\"PassengerId\"] = test_preprocessed[\"PassengerId\"]\n",
    "submission[\"Transported\"] = predictions"
   ]
  },
  {
   "cell_type": "code",
   "execution_count": null,
   "metadata": {},
   "outputs": [],
   "source": []
  },
  {
   "cell_type": "code",
   "execution_count": null,
   "metadata": {},
   "outputs": [],
   "source": []
  },
  {
   "cell_type": "code",
   "execution_count": null,
   "metadata": {},
   "outputs": [],
   "source": []
  },
  {
   "cell_type": "code",
   "execution_count": null,
   "metadata": {
    "ExecuteTime": {
     "end_time": "2022-04-20T14:55:14.912039Z",
     "start_time": "2022-04-20T14:55:14.912039Z"
    }
   },
   "outputs": [],
   "source": [
    "train[\"item_cnt_month\"].mean()"
   ]
  },
  {
   "cell_type": "code",
   "execution_count": null,
   "metadata": {},
   "outputs": [],
   "source": []
  },
  {
   "cell_type": "code",
   "execution_count": null,
   "metadata": {
    "ExecuteTime": {
     "end_time": "2022-04-20T14:55:14.914040Z",
     "start_time": "2022-04-20T14:55:14.914040Z"
    }
   },
   "outputs": [],
   "source": [
    "sample_submission"
   ]
  },
  {
   "cell_type": "code",
   "execution_count": null,
   "metadata": {
    "ExecuteTime": {
     "end_time": "2022-04-20T14:55:14.916041Z",
     "start_time": "2022-04-20T14:55:14.915039Z"
    }
   },
   "outputs": [],
   "source": [
    "test"
   ]
  },
  {
   "cell_type": "code",
   "execution_count": null,
   "metadata": {
    "ExecuteTime": {
     "end_time": "2022-04-20T14:55:14.917039Z",
     "start_time": "2022-04-20T14:55:14.917039Z"
    }
   },
   "outputs": [],
   "source": [
    "sample_submission[\"item_cnt_month\"] = "
   ]
  },
  {
   "cell_type": "code",
   "execution_count": null,
   "metadata": {},
   "outputs": [],
   "source": []
  },
  {
   "cell_type": "code",
   "execution_count": null,
   "metadata": {
    "ExecuteTime": {
     "end_time": "2022-04-20T14:55:14.919039Z",
     "start_time": "2022-04-20T14:55:14.919039Z"
    }
   },
   "outputs": [],
   "source": [
    "train"
   ]
  },
  {
   "cell_type": "code",
   "execution_count": null,
   "metadata": {
    "ExecuteTime": {
     "end_time": "2022-04-20T14:55:14.921039Z",
     "start_time": "2022-04-20T14:55:14.921039Z"
    }
   },
   "outputs": [],
   "source": [
    "# \n",
    "test"
   ]
  },
  {
   "cell_type": "code",
   "execution_count": null,
   "metadata": {},
   "outputs": [],
   "source": []
  },
  {
   "cell_type": "markdown",
   "metadata": {
    "collapsed": true
   },
   "source": [
    "#### model per store"
   ]
  },
  {
   "cell_type": "code",
   "execution_count": null,
   "metadata": {
    "ExecuteTime": {
     "end_time": "2022-04-20T14:55:14.924054Z",
     "start_time": "2022-04-20T14:55:14.924054Z"
    }
   },
   "outputs": [],
   "source": [
    "model_per_store = RandomForestRegressor(max_depth=2, random_state=0)"
   ]
  },
  {
   "cell_type": "code",
   "execution_count": null,
   "metadata": {
    "ExecuteTime": {
     "end_time": "2022-04-20T14:55:14.925054Z",
     "start_time": "2022-04-20T14:55:14.925054Z"
    }
   },
   "outputs": [],
   "source": [
    "train"
   ]
  },
  {
   "cell_type": "code",
   "execution_count": null,
   "metadata": {
    "ExecuteTime": {
     "end_time": "2022-04-20T14:55:14.927040Z",
     "start_time": "2022-04-20T14:55:14.927040Z"
    }
   },
   "outputs": [],
   "source": [
    "# TODO: combine all data to monthly data (instead of daily data)"
   ]
  },
  {
   "cell_type": "code",
   "execution_count": null,
   "metadata": {
    "ExecuteTime": {
     "end_time": "2022-04-20T14:55:14.929040Z",
     "start_time": "2022-04-20T14:55:14.929040Z"
    }
   },
   "outputs": [],
   "source": [
    "n_rows_to_train_on = 50000"
   ]
  },
  {
   "cell_type": "code",
   "execution_count": null,
   "metadata": {
    "ExecuteTime": {
     "end_time": "2022-04-20T14:55:14.931039Z",
     "start_time": "2022-04-20T14:55:14.931039Z"
    }
   },
   "outputs": [],
   "source": [
    "model_per_store.fit(X=train.drop([\"date\", \"item_cnt_month\"], axis=1), y=train[\"item_cnt_month\"])"
   ]
  },
  {
   "cell_type": "code",
   "execution_count": null,
   "metadata": {
    "ExecuteTime": {
     "end_time": "2022-04-20T14:55:14.932054Z",
     "start_time": "2022-04-20T14:55:14.932054Z"
    }
   },
   "outputs": [],
   "source": [
    "train"
   ]
  },
  {
   "cell_type": "code",
   "execution_count": null,
   "metadata": {
    "ExecuteTime": {
     "end_time": "2022-04-20T14:55:14.934041Z",
     "start_time": "2022-04-20T14:55:14.934041Z"
    }
   },
   "outputs": [],
   "source": [
    "test"
   ]
  },
  {
   "cell_type": "code",
   "execution_count": null,
   "metadata": {
    "ExecuteTime": {
     "end_time": "2022-04-20T14:55:14.936040Z",
     "start_time": "2022-04-20T14:55:14.936040Z"
    }
   },
   "outputs": [],
   "source": [
    "pd.merge(test, sample_submission, on=\"ID\")"
   ]
  },
  {
   "cell_type": "code",
   "execution_count": null,
   "metadata": {
    "ExecuteTime": {
     "end_time": "2022-04-20T14:55:14.939040Z",
     "start_time": "2022-04-20T14:55:14.939040Z"
    }
   },
   "outputs": [],
   "source": [
    "regr.predict(test)"
   ]
  },
  {
   "cell_type": "code",
   "execution_count": null,
   "metadata": {},
   "outputs": [],
   "source": []
  },
  {
   "cell_type": "code",
   "execution_count": null,
   "metadata": {},
   "outputs": [],
   "source": []
  },
  {
   "cell_type": "code",
   "execution_count": null,
   "metadata": {},
   "outputs": [],
   "source": []
  },
  {
   "cell_type": "markdown",
   "metadata": {
    "collapsed": true
   },
   "source": [
    "### example "
   ]
  },
  {
   "cell_type": "code",
   "execution_count": null,
   "metadata": {
    "ExecuteTime": {
     "end_time": "2022-04-20T14:55:14.940039Z",
     "start_time": "2022-04-20T14:55:14.940039Z"
    }
   },
   "outputs": [],
   "source": [
    "from sklearn.ensemble import RandomForestRegressor"
   ]
  },
  {
   "cell_type": "code",
   "execution_count": null,
   "metadata": {
    "ExecuteTime": {
     "end_time": "2022-04-20T14:55:14.942039Z",
     "start_time": "2022-04-20T14:55:14.942039Z"
    }
   },
   "outputs": [],
   "source": [
    "from sklearn.datasets import make_regression"
   ]
  },
  {
   "cell_type": "code",
   "execution_count": null,
   "metadata": {
    "ExecuteTime": {
     "end_time": "2022-04-20T14:55:14.944039Z",
     "start_time": "2022-04-20T14:55:14.944039Z"
    }
   },
   "outputs": [],
   "source": [
    "regr = RandomForestRegressor(max_depth=2, random_state=0)"
   ]
  },
  {
   "cell_type": "code",
   "execution_count": null,
   "metadata": {
    "ExecuteTime": {
     "end_time": "2022-04-20T14:55:14.946039Z",
     "start_time": "2022-04-20T14:55:14.946039Z"
    }
   },
   "outputs": [],
   "source": [
    "X, y = make_regression(n_features=4, n_informative=2, random_state=0, shuffle=False)"
   ]
  },
  {
   "cell_type": "code",
   "execution_count": null,
   "metadata": {
    "ExecuteTime": {
     "end_time": "2022-04-20T14:55:14.948040Z",
     "start_time": "2022-04-20T14:55:14.948040Z"
    }
   },
   "outputs": [],
   "source": [
    "regr.fit(X, y)"
   ]
  },
  {
   "cell_type": "code",
   "execution_count": null,
   "metadata": {
    "ExecuteTime": {
     "end_time": "2022-04-20T14:55:14.949039Z",
     "start_time": "2022-04-20T14:55:14.949039Z"
    }
   },
   "outputs": [],
   "source": [
    "print(regr.predict([[0, 0, 0, 0]]))"
   ]
  },
  {
   "cell_type": "code",
   "execution_count": null,
   "metadata": {
    "ExecuteTime": {
     "end_time": "2022-04-20T14:55:14.951039Z",
     "start_time": "2022-04-20T14:55:14.951039Z"
    }
   },
   "outputs": [],
   "source": [
    "y"
   ]
  },
  {
   "cell_type": "code",
   "execution_count": null,
   "metadata": {
    "ExecuteTime": {
     "end_time": "2022-04-20T14:55:14.953040Z",
     "start_time": "2022-04-20T14:55:14.953040Z"
    }
   },
   "outputs": [],
   "source": [
    "X.shape"
   ]
  },
  {
   "cell_type": "code",
   "execution_count": null,
   "metadata": {
    "ExecuteTime": {
     "end_time": "2022-04-20T14:55:14.955039Z",
     "start_time": "2022-04-20T14:55:14.955039Z"
    }
   },
   "outputs": [],
   "source": [
    "X"
   ]
  },
  {
   "cell_type": "code",
   "execution_count": null,
   "metadata": {},
   "outputs": [],
   "source": []
  }
 ],
 "metadata": {
  "kernelspec": {
   "display_name": "Python 3 (ipykernel)",
   "language": "python",
   "name": "python3"
  },
  "language_info": {
   "codemirror_mode": {
    "name": "ipython",
    "version": 3
   },
   "file_extension": ".py",
   "mimetype": "text/x-python",
   "name": "python",
   "nbconvert_exporter": "python",
   "pygments_lexer": "ipython3",
   "version": "3.7.10"
  },
  "toc": {
   "base_numbering": 1,
   "nav_menu": {},
   "number_sections": true,
   "sideBar": true,
   "skip_h1_title": false,
   "title_cell": "Table of Contents",
   "title_sidebar": "Contents",
   "toc_cell": true,
   "toc_position": {
    "height": "calc(100% - 180px)",
    "left": "10px",
    "top": "150px",
    "width": "384px"
   },
   "toc_section_display": true,
   "toc_window_display": true
  },
  "varInspector": {
   "cols": {
    "lenName": 16,
    "lenType": 16,
    "lenVar": 40
   },
   "kernels_config": {
    "python": {
     "delete_cmd_postfix": "",
     "delete_cmd_prefix": "del ",
     "library": "var_list.py",
     "varRefreshCmd": "print(var_dic_list())"
    },
    "r": {
     "delete_cmd_postfix": ") ",
     "delete_cmd_prefix": "rm(",
     "library": "var_list.r",
     "varRefreshCmd": "cat(var_dic_list()) "
    }
   },
   "types_to_exclude": [
    "module",
    "function",
    "builtin_function_or_method",
    "instance",
    "_Feature"
   ],
   "window_display": false
  }
 },
 "nbformat": 4,
 "nbformat_minor": 4
}
